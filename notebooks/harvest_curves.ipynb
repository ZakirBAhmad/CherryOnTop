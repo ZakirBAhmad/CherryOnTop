{
 "cells": [
  {
   "cell_type": "code",
   "execution_count": null,
   "id": "b0bbacbf",
   "metadata": {},
   "outputs": [],
   "source": [
    "import sys\n",
    "import os\n",
    "sys.path.append(os.path.abspath('..'))"
   ]
  },
  {
   "cell_type": "code",
   "execution_count": null,
   "id": "4820f433",
   "metadata": {},
   "outputs": [],
   "source": [
    "import app.demo as demo\n",
    "import app.utils as utils\n",
    "import src.table as table\n",
    "import src.graphs as graphs\n",
    "\n",
    "import numpy as np\n",
    "\n",
    "\n"
   ]
  },
  {
   "cell_type": "code",
   "execution_count": 29,
   "id": "6ab5da25",
   "metadata": {},
   "outputs": [
    {
     "name": "stderr",
     "output_type": "stream",
     "text": [
      "2025-07-10 15:32:42.435 Thread 'MainThread': missing ScriptRunContext! This warning can be ignored when running in bare mode.\n",
      "2025-07-10 15:32:42.436 Thread 'MainThread': missing ScriptRunContext! This warning can be ignored when running in bare mode.\n",
      "2025-07-10 15:32:42.438 Thread 'MainThread': missing ScriptRunContext! This warning can be ignored when running in bare mode.\n",
      "2025-07-10 15:32:42.439 Thread 'MainThread': missing ScriptRunContext! This warning can be ignored when running in bare mode.\n",
      "2025-07-10 15:32:42.451 Thread 'MainThread': missing ScriptRunContext! This warning can be ignored when running in bare mode.\n",
      "2025-07-10 15:32:42.452 Thread 'MainThread': missing ScriptRunContext! This warning can be ignored when running in bare mode.\n",
      "2025-07-10 15:32:42.453 Thread 'MainThread': missing ScriptRunContext! This warning can be ignored when running in bare mode.\n",
      "2025-07-10 15:32:42.454 Thread 'MainThread': missing ScriptRunContext! This warning can be ignored when running in bare mode.\n",
      "2025-07-10 15:32:42.455 Thread 'MainThread': missing ScriptRunContext! This warning can be ignored when running in bare mode.\n",
      "2025-07-10 15:32:42.456 Thread 'MainThread': missing ScriptRunContext! This warning can be ignored when running in bare mode.\n",
      "2025-07-10 15:32:42.465 Thread 'MainThread': missing ScriptRunContext! This warning can be ignored when running in bare mode.\n",
      "2025-07-10 15:32:42.466 Thread 'MainThread': missing ScriptRunContext! This warning can be ignored when running in bare mode.\n",
      "2025-07-10 15:32:42.466 Thread 'MainThread': missing ScriptRunContext! This warning can be ignored when running in bare mode.\n",
      "2025-07-10 15:32:42.466 Thread 'MainThread': missing ScriptRunContext! This warning can be ignored when running in bare mode.\n",
      "2025-07-10 15:32:42.471 Thread 'MainThread': missing ScriptRunContext! This warning can be ignored when running in bare mode.\n",
      "2025-07-10 15:32:42.471 Thread 'MainThread': missing ScriptRunContext! This warning can be ignored when running in bare mode.\n",
      "2025-07-10 15:32:42.471 Thread 'MainThread': missing ScriptRunContext! This warning can be ignored when running in bare mode.\n",
      "2025-07-10 15:32:42.471 Thread 'MainThread': missing ScriptRunContext! This warning can be ignored when running in bare mode.\n",
      "2025-07-10 15:32:42.473 Thread 'MainThread': missing ScriptRunContext! This warning can be ignored when running in bare mode.\n",
      "2025-07-10 15:32:42.473 Thread 'MainThread': missing ScriptRunContext! This warning can be ignored when running in bare mode.\n",
      "2025-07-10 15:32:42.474 Thread 'MainThread': missing ScriptRunContext! This warning can be ignored when running in bare mode.\n",
      "2025-07-10 15:32:42.474 Thread 'MainThread': missing ScriptRunContext! This warning can be ignored when running in bare mode.\n",
      "2025-07-10 15:32:42.475 Thread 'MainThread': missing ScriptRunContext! This warning can be ignored when running in bare mode.\n",
      "2025-07-10 15:32:42.476 Thread 'MainThread': missing ScriptRunContext! This warning can be ignored when running in bare mode.\n",
      "2025-07-10 15:32:42.483 Thread 'MainThread': missing ScriptRunContext! This warning can be ignored when running in bare mode.\n",
      "2025-07-10 15:32:42.484 Thread 'MainThread': missing ScriptRunContext! This warning can be ignored when running in bare mode.\n",
      "2025-07-10 15:32:42.484 Thread 'MainThread': missing ScriptRunContext! This warning can be ignored when running in bare mode.\n",
      "2025-07-10 15:32:42.484 Thread 'MainThread': missing ScriptRunContext! This warning can be ignored when running in bare mode.\n",
      "2025-07-10 15:32:42.486 Thread 'MainThread': missing ScriptRunContext! This warning can be ignored when running in bare mode.\n",
      "2025-07-10 15:32:42.486 Thread 'MainThread': missing ScriptRunContext! This warning can be ignored when running in bare mode.\n",
      "2025-07-10 15:32:42.486 Thread 'MainThread': missing ScriptRunContext! This warning can be ignored when running in bare mode.\n",
      "2025-07-10 15:32:42.486 Thread 'MainThread': missing ScriptRunContext! This warning can be ignored when running in bare mode.\n",
      "2025-07-10 15:32:42.488 Thread 'MainThread': missing ScriptRunContext! This warning can be ignored when running in bare mode.\n",
      "2025-07-10 15:32:42.488 Thread 'MainThread': missing ScriptRunContext! This warning can be ignored when running in bare mode.\n"
     ]
    }
   ],
   "source": [
    "data_path = '../data/processed/'\n",
    "model_path = '../app/models'\n",
    "preds_path = '../app/preds'\n",
    "\n",
    "train_dataset, test_dataset, mappings, reverse_mappings, train_meta, test_meta  = demo.initialize_data(data_path)\n",
    "\n",
    "\n",
    "demo.display_production_plan(test_meta)\n"
   ]
  },
  {
   "cell_type": "code",
   "execution_count": 8,
   "id": "4b8e9c58",
   "metadata": {},
   "outputs": [
    {
     "name": "stderr",
     "output_type": "stream",
     "text": [
      "/Users/zakir/anaconda3/envs/cherry/lib/python3.10/site-packages/torch/nn/utils/weight_norm.py:143: FutureWarning:\n",
      "\n",
      "`torch.nn.utils.weight_norm` is deprecated in favor of `torch.nn.utils.parametrizations.weight_norm`.\n",
      "\n"
     ]
    }
   ],
   "source": [
    "models = utils.load_models(model_path)"
   ]
  },
  {
   "cell_type": "code",
   "execution_count": null,
   "id": "548feeca",
   "metadata": {},
   "outputs": [],
   "source": [
    "preds_kilo, preds_sched, actual_kilos, actual_sched = demo.create_predictions(preds_path,models,test_dataset)"
   ]
  },
  {
   "cell_type": "code",
   "execution_count": 42,
   "id": "e3ad4437",
   "metadata": {},
   "outputs": [
    {
     "data": {
      "text/plain": [
       "(176, 52, 40)"
      ]
     },
     "execution_count": 42,
     "metadata": {},
     "output_type": "execute_result"
    }
   ],
   "source": [
    "preds_kilo.shape"
   ]
  },
  {
   "cell_type": "code",
   "execution_count": 53,
   "id": "fc951f35",
   "metadata": {},
   "outputs": [],
   "source": [
    "non_cumsum = np.clip(np.diff(preds_kilo,axis=2),0,None)\n",
    "\n",
    "\n",
    "\n",
    "\n",
    "\n",
    "\n",
    "\n",
    "\n",
    "\n",
    "\n"
   ]
  },
  {
   "cell_type": "code",
   "execution_count": 44,
   "id": "cd85869d",
   "metadata": {},
   "outputs": [],
   "source": [
    "plan = test_meta.drop(columns=['index'])"
   ]
  },
  {
   "cell_type": "code",
   "execution_count": 55,
   "id": "7ddef3f8",
   "metadata": {},
   "outputs": [
    {
     "data": {
      "application/vnd.plotly.v1+json": {
       "config": {
        "plotlyServerURL": "https://plot.ly"
       },
       "data": [
        {
         "mode": "lines",
         "name": "Preds Trace 1",
         "type": "scatter",
         "visible": true,
         "x": {
          "bdata": "AAECAwQFBgcICQoLDA0ODxAREhMUFRYXGBkaGxwdHh8gISIjJCUmJw==",
          "dtype": "i1"
         },
         "y": {
          "bdata": "AIAM9UqVoUAAAFDkxgFpwAAAwVnhu5XA/P9/Enf1OUAAAO6sLUF3wACAUSKe95zAAACdMaN9c8AAAI6f66yRQAAAZi5uEaVAAACYldGBo0AAAKzu27aSQABGxF6wIr5AAAASq2ZfzkAAADQJo+LaQAAAHfWyBuNAAACYTZDM60AAAEPYa7/wQAAArozVz/RAAAACzR+P9kAAAD5YyaX4QAAA8uOJKPlAAACmhQQO+0AAAHw4/Qj6QAAAaKMKM/pAAAAKjR3o+kAAALK6dcj6QAAAmp3MXPtAAAAoTM8F+0AAAIQerLr7QAAAWDYdmPtAAAByOl/e+UAAALRuNEv7QAAAKCESpfpAAACCkIya+0AAAM4lNfH7QAAAgoXN7/pAAADwzczi+kAAAMSEQu76QAAA3JtZK/pAAABsJo2m+kA=",
          "dtype": "f8"
         }
        },
        {
         "mode": "lines",
         "name": "Preds Trace 2",
         "type": "scatter",
         "visible": false,
         "x": {
          "bdata": "AAECAwQFBgcICQoLDA0ODxAREhMUFRYXGBkaGxwdHh8gISIjJCUmJw==",
          "dtype": "i1"
         },
         "y": {
          "bdata": "AIAM9UqVoUAAAFDkxgFpwAAAwVnhu5XA/P9/Enf1OUAAAO6sLUF3wACAUSKe95zAAACdMaN9c8AAAI6f66yRQAAAZi5uEaVAAACYldGBo0AAAKzu27aSQABGxF6wIr5AAAASq2ZfzkAAADQJo+LaQAAAHfWyBuNAAACYTZDM60AAAEPYa7/wQAAArozVz/RAAAACzR+P9kAAAD5YyaX4QAAA8uOJKPlAAACmhQQO+0AAAHw4/Qj6QAAAaKMKM/pAAAAKjR3o+kAAALK6dcj6QAAAmp3MXPtAAAAoTM8F+0AAAIQerLr7QAAAWDYdmPtAAAByOl/e+UAAALRuNEv7QAAAKCESpfpAAACCkIya+0AAAM4lNfH7QAAAgoXN7/pAAADwzczi+kAAAMSEQu76QAAA3JtZK/pAAABsJo2m+kA=",
          "dtype": "f8"
         }
        },
        {
         "mode": "lines",
         "name": "Preds Trace 3",
         "type": "scatter",
         "visible": false,
         "x": {
          "bdata": "AAECAwQFBgcICQoLDA0ODxAREhMUFRYXGBkaGxwdHh8gISIjJCUmJw==",
          "dtype": "i1"
         },
         "y": {
          "bdata": "AIAM9UqVoUAAAFDkxgFpwAAAwVnhu5XA/P9/Enf1OUAAAO6sLUF3wACAUSKe95zAAACdMaN9c8AAAI6f66yRQAAAZi5uEaVAAACYldGBo0AAAKzu27aSQABGxF6wIr5AAAASq2ZfzkAAADQJo+LaQAAAHfWyBuNAAACYTZDM60AAAEPYa7/wQAAArozVz/RAAAACzR+P9kAAAD5YyaX4QAAA8uOJKPlAAACmhQQO+0AAAHw4/Qj6QAAAaKMKM/pAAAAKjR3o+kAAALK6dcj6QAAAmp3MXPtAAAAoTM8F+0AAAIQerLr7QAAAWDYdmPtAAAByOl/e+UAAALRuNEv7QAAAKCESpfpAAACCkIya+0AAAM4lNfH7QAAAgoXN7/pAAADwzczi+kAAAMSEQu76QAAA3JtZK/pAAABsJo2m+kA=",
          "dtype": "f8"
         }
        },
        {
         "mode": "lines",
         "name": "Preds Trace 4",
         "type": "scatter",
         "visible": false,
         "x": {
          "bdata": "AAECAwQFBgcICQoLDA0ODxAREhMUFRYXGBkaGxwdHh8gISIjJCUmJw==",
          "dtype": "i1"
         },
         "y": {
          "bdata": "AIAM9UqVoUAAAFDkxgFpwAAAwVnhu5XA/P9/Enf1OUAAAO6sLUF3wACAUSKe95zAAACdMaN9c8AAAI6f66yRQAAAZi5uEaVAAACYldGBo0AAAKzu27aSQABGxF6wIr5AAAASq2ZfzkAAADQJo+LaQAAAHfWyBuNAAACYTZDM60AAAEPYa7/wQAAArozVz/RAAAACzR+P9kAAAD5YyaX4QAAA8uOJKPlAAACmhQQO+0AAAHw4/Qj6QAAAaKMKM/pAAAAKjR3o+kAAALK6dcj6QAAAmp3MXPtAAAAoTM8F+0AAAIQerLr7QAAAWDYdmPtAAAByOl/e+UAAALRuNEv7QAAAKCESpfpAAACCkIya+0AAAM4lNfH7QAAAgoXN7/pAAADwzczi+kAAAMSEQu76QAAA3JtZK/pAAABsJo2m+kA=",
          "dtype": "f8"
         }
        },
        {
         "mode": "lines",
         "name": "Preds Trace 5",
         "type": "scatter",
         "visible": false,
         "x": {
          "bdata": "AAECAwQFBgcICQoLDA0ODxAREhMUFRYXGBkaGxwdHh8gISIjJCUmJw==",
          "dtype": "i1"
         },
         "y": {
          "bdata": "AIAM9UqVoUAAAFDkxgFpwAAAwVnhu5XA/P9/Enf1OUAAAO6sLUF3wACAUSKe95zAAACdMaN9c8AAAI6f66yRQAAAZi5uEaVAAACYldGBo0AAAKzu27aSQABGxF6wIr5AAAASq2ZfzkAAADQJo+LaQAAAHfWyBuNAAACYTZDM60AAAEPYa7/wQAAArozVz/RAAAACzR+P9kAAAD5YyaX4QAAA8uOJKPlAAACmhQQO+0AAAHw4/Qj6QAAAaKMKM/pAAAAKjR3o+kAAALK6dcj6QAAAmp3MXPtAAAAoTM8F+0AAAIQerLr7QAAAWDYdmPtAAAByOl/e+UAAALRuNEv7QAAAKCESpfpAAACCkIya+0AAAM4lNfH7QAAAgoXN7/pAAADwzczi+kAAAMSEQu76QAAA3JtZK/pAAABsJo2m+kA=",
          "dtype": "f8"
         }
        },
        {
         "mode": "lines",
         "name": "Preds Trace 6",
         "type": "scatter",
         "visible": false,
         "x": {
          "bdata": "AAECAwQFBgcICQoLDA0ODxAREhMUFRYXGBkaGxwdHh8gISIjJCUmJw==",
          "dtype": "i1"
         },
         "y": {
          "bdata": "AIC2dn2ooUAAAIhScYBywAAA0X2DVZTA//9P6ms6YUAAAO6/bqJ+wACA0c3A15rAAACdkTiJdMAAAO5a9qySQAAAJu19w6NAAAColDySokAAAPzCsVqVQABGZA+kDr5AAADySuJXzkAAANQnuPzaQAAAvYwBBONAAACY9Tzp60AAAKNr7r3wQAAAzjl41fRAAADyKYyY9kAAAF5vApj4QAAAMpNQMflAAABmX5gK+0AAANwmbAv6QAAAiOEmP/pAAADqR+Xj+kAAAPLbh9f6QAAA+mQkYftAAABok68T+0AAAMSpsbL7QAAAeK5Wn/tAAADSdI7v+UAAAFRroj37QAAA6IIGuPpAAAAiSCSi+0AAAA5Z3+r7QAAAovLd8/pAAABwq/3S+kAAAOQPTv36QAAAXCYLOPpAAAAs/Xmv+kA=",
          "dtype": "f8"
         }
        },
        {
         "mode": "lines",
         "name": "Preds Trace 7",
         "type": "scatter",
         "visible": false,
         "x": {
          "bdata": "AAECAwQFBgcICQoLDA0ODxAREhMUFRYXGBkaGxwdHh8gISIjJCUmJw==",
          "dtype": "i1"
         },
         "y": {
          "bdata": "AIAAPDagoEACAECRiOJGwAAA0UYMDJbAAABQhmQibkAAAO7fW4h1wACAEdEarJrAAAAdVXHcdsAAAK5UspeQQAAAvjPHfaVAAAAYjvOIo0AAALzIEpeSQABGtC5ADL5AAAASR4+lzkAAAHTDhPLaQAAAHR7cM+NAAAD48NIK7EAAAANBpfPwQAAA7jPc9/RAAAACYFHA9kAAAP7/Dtr4QAAAknAidflAAACm5uJL+0AAAPx2zFD6QAAASDUwffpAAABKl3Ux+0AAAHIOfR37QAAAGqP0pftAAADoGVBL+0AAAITVUv77QAAAmECG0vtAAABywhMu+kAAADQmp4/7QAAAyJXO9PpAAABC2X/t+0AAAI74+jP8QAAAgimAJftAAADw+M4M+0AAAISrlCv7QAAAHN9LfvpAAAAs/nn1+kA=",
          "dtype": "f8"
         }
        },
        {
         "mode": "lines",
         "name": "Preds Trace 8",
         "type": "scatter",
         "visible": false,
         "x": {
          "bdata": "AAECAwQFBgcICQoLDA0ODxAREhMUFRYXGBkaGxwdHh8gISIjJCUmJw==",
          "dtype": "i1"
         },
         "y": {
          "bdata": "AEDam43poEAAAOzEDeJ3wACAOp69ZJHAAEC6iqrngEAAQJ8GMiaBwACAB9n9qJjAAACB/4lZcsAA9N6S44CVQACAHjia06BAAIAB8n9uoEAAABpRm6OdQACWRrhaWr1AAIBTcBAGzkAAAHan8wHbQACAAc6m/uJAAIC4yJHa60AAwI4AmJbwQACATElErvRAAADW09B89kAAgMaltU/4QAAAYlBoHvlAAAADQfO++kAAABmqtNj5QAAAu4DPF/pAAACQVGKj+kAAgNibUbT6QACAM0R/KvtAAAATu4bf+kAAALFLZmX7QACATYaUb/tAAIBjXIPp+UAAgIk7buj6QACA6pYrsvpAAAAQPt9r+0AAgNIvhbX7QAAA21KRvvpAAIDC9K+J+kAAANNkI9f6QAAAutmjHfpAAABnVbKN+kA=",
          "dtype": "f8"
         }
        },
        {
         "mode": "lines",
         "name": "Preds Trace 9",
         "type": "scatter",
         "visible": false,
         "x": {
          "bdata": "AAECAwQFBgcICQoLDA0ODxAREhMUFRYXGBkaGxwdHh8gISIjJCUmJw==",
          "dtype": "i1"
         },
         "y": {
          "bdata": "AAAZM7nYnEAAALC5sLdtQAAAKXD8lZbAAAAUUrYJgEAAALS7N8xqwACA8822LZnAAMCDZLvNdMAAACoFQ6eQQACAsJ670qVAAADc4A60pEAAALz+X6CTQAA8nRiQSL5AAAAe58L5zkAAAHTqYg3bQAAA8YBtf+NAAACgqHl17EAAAFEj00TxQAAAfnHzK/VAAACKoSIZ90AAAAJLxR/5QAAAciHi3/lAAACSzyau+0AAAGR3g8z6QAAAdD9f8PpAAAAiMs6p+0AAAJZZEpb7QAAAUlcID/xAAABYGOS4+0AAAJgZfV38QAAA4LVpG/xAAABy4EKz+kAAAMg3tfP7QAAApAtCcvtAAAAmhoxl/EAAALZWqJj8QAAApqbncPtAAAAQWuFL+0AAANCK6Yv7QAAA/GvkDPtAAADEjtJm+0A=",
          "dtype": "f8"
         }
        },
        {
         "mode": "lines",
         "name": "Preds Trace 10",
         "type": "scatter",
         "visible": false,
         "x": {
          "bdata": "AAECAwQFBgcICQoLDA0ODxAREhMUFRYXGBkaGxwdHh8gISIjJCUmJw==",
          "dtype": "i1"
         },
         "y": {
          "bdata": "AACCSUltoUAAANCv2e5vwAAAQ2RPU5LAAADPlq6xiUAAAKg5ZghUwACALbNxGpzAAABo50UQSMAAAAg3ny2TQAAAWndDTaFAAACmJo6cn0AAAGFtFAOgQABGUhzFV75AAACWXlNOzkAAANy3i33bQAAAJ6vOpONAAAAgMO9B7EAAAKGxnvHwQAAAZHiAIfVAAAAahwQF90AAAEbb39X4QAAArrlYz/lAAAD+JThQ+0AAACRH2Wj6QAAAhPW8n/pAAADuaJhQ+0AAAGJeS0j7QAAASocDvvtAAAAYRLdZ+0AAAMAXcPH7QAAA4NqUBPxAAACacdCK+kAAAAiSpm77QAAA4L8iTPtAAAAqXjsJ/EAAAHrIImP8QAAA6nyDTvtAAAC0iq45+0AAADxQ6lX7QAAAVIuXyvpAAAB44Ok3+0A=",
          "dtype": "f8"
         }
        },
        {
         "mode": "lines",
         "name": "Preds Trace 11",
         "type": "scatter",
         "visible": false,
         "x": {
          "bdata": "AAECAwQFBgcICQoLDA0ODxAREhMUFRYXGBkaGxwdHh8gISIjJCUmJw==",
          "dtype": "i1"
         },
         "y": {
          "bdata": "AAChthdVnkAAAOhmFPBywAAAAeucgZPAAAAoGBjbdUAAAHAZBiJAQACApTUlap3AAAD9KpFXesAAAMJCbrCTQAAAAu6Fr6RAAAB8vwEepEAAALi1OQKcQABGInCWlr5AAACmRViGzUAAAIT7S6zaQAAAlR++0+JAAAAEyl2l60AAADnNNXvwQAAAkqj3W/RAAAAiXZA69kAAACIiOPf3QAAAstVSsvhAAAASqc6V+kAAADwb06j5QAAAgO2Q5flAAABuAJh8+kAAAFLB22P6QAAAGjpU8fpAAAD489um+kAAAHRRhy37QAAA5A58EPtAAADKDu3H+UAAAFz0ZaL6QAAAeBM5TfpAAAB26iQo+0AAAMb9gHH7QAAAoq58cvpAAABYxD1H+kAAAIxWIpf6QAAAPOX++/lAAADcA/E8+kA=",
          "dtype": "f8"
         }
        },
        {
         "mode": "lines",
         "name": "Preds Trace 12",
         "type": "scatter",
         "visible": false,
         "x": {
          "bdata": "AAECAwQFBgcICQoLDA0ODxAREhMUFRYXGBkaGxwdHh8gISIjJCUmJw==",
          "dtype": "i1"
         },
         "y": {
          "bdata": "AABDXUeun0AAALB3pJhhQAAADSlAN5PAAAAkZJ0Oj0AAAAjO6fVewACAvh0nAZjAAAD6FlinZ8AAALDJmVqIQAAApDvafqNAAAAw+7HHoUAAALyRoT6ZQABGoyh5/b9AAABSPckhzkAAAB8tRZzaQAAA14W1y+NAAADkLAV37EAAANXDuxzxQAAAKtE2LPVAAADeRKAn90AAANZA5hb5QAAAfu8gCPpAAADC2KzF+0AAABiWEdP6QAAASDO+GPtAAABCqIzP+0AAACopTK77QAAAqidbGvxAAAD02nbO+0AAAJjxBEP8QAAAzB+6NfxAAACe2wnT+kAAABARMNv7QAAAEMRQe/tAAAC2Uuh//EAAAJIgwrD8QAAAts5ch/tAAACAP1FR+0AAAEDcQ637QAAAdP40NftAAAAwA9+l+0A=",
          "dtype": "f8"
         }
        },
        {
         "mode": "lines",
         "name": "Preds Trace 13",
         "type": "scatter",
         "visible": false,
         "x": {
          "bdata": "AAECAwQFBgcICQoLDA0ODxAREhMUFRYXGBkaGxwdHh8gISIjJCUmJw==",
          "dtype": "i1"
         },
         "y": {
          "bdata": "AIC2mZ13nUAAAGCRUgd1wACAyf3/9JPAAICI2rdsjUAAAAhFww5UwACAd8sYLpnAAICI/Yo0gsAAAGKlBOuVQACAEAj6SaRAAICZ+K6JokAAAPwrT56hQADGIj9Ovr5AAIATXWHmzUAAgA/dh+TaQAAAseQAUeNAAACFz6547EAAACTsoc/wQAAA6Cgv6PRAAABTa7ra9kAAAJQMo6v4QAAAyU00iflAAADlkj01+0AAAGw/flL6QAAA9SPxtPpAAAAy4BgY+0AAAMnwjSb7QAAAcmOovftAAAAYU6dE+0AAAI/Ahs77QAAAiqwJ0PtAAAB/HN+G+kAAABx4Syj7QAAA02bwDvtAAAAKlUWr+0AAALmIPx38QAAAhsjvGPtAAABKokX7+kAAAHibt3X7QAAAQg9hmPpAAACprY0P+0A=",
          "dtype": "f8"
         }
        },
        {
         "mode": "lines",
         "name": "Preds Trace 14",
         "type": "scatter",
         "visible": false,
         "x": {
          "bdata": "AAECAwQFBgcICQoLDA0ODxAREhMUFRYXGBkaGxwdHh8gISIjJCUmJw==",
          "dtype": "i1"
         },
         "y": {
          "bdata": "AADUGnQqmkAAwIyEW/d4wAAAytF/aYXAAAAKL7tohUAAAPrWobx4wACAxVZ1xJvAAABHCwSuYcAAAOQrkxmGQAAAlLhqAqdAAAAErG63oEAAAPjnBJCgQADGbWkVb71AAADIZn9VzkAAAEpvDUDaQAAAabMvF+NAAAC8pypI7EAAABCJZZjwQAAAkhFnZPRAAACuHfCA9kAAAFBoUm34QAAA9I3/JflAAAAoDgX8+kAAADJqBRT6QAAAdN/XdvpAAABqc+TG+kAAAHLhTdr6QAAA8mGBSvtAAAB84QgI+0AAACKzUZP7QAAAlOKlhftAAACqa95L+kAAANws2v76QAAAwpB9yPpAAAAmkht9+0AAAKTKHrj7QAAA3GsOufpAAAAwdR9p+kAAAI42Mhf7QAAA0D07bvpAAACC0hG2+kA=",
          "dtype": "f8"
         }
        },
        {
         "mode": "lines",
         "name": "Preds Trace 15",
         "type": "scatter",
         "visible": false,
         "x": {
          "bdata": "AAECAwQFBgcICQoLDA0ODxAREhMUFRYXGBkaGxwdHh8gISIjJCUmJw==",
          "dtype": "i1"
         },
         "y": {
          "bdata": "AABQQqwqnkAAAFC4rdppQAAAHadYn5HAAABS7D8NkEAAAExIWIQ/wACApVindJjAAACS8VlbasAAAGbB+BGSQAAAQGR5pqNAAAB48L6An0AAAHdv0bChQABGbJP6ar1AAABV3XflzUAAAJt9kVDaQAAAh3h2g+NAAAAcAn6C7EAAAKEoJO7wQAAAVl6ACfVAAACueqkL90AAAIBkGLn4QAAAQkoz3/lAAACMCc1j+0AAAMbylZf6QAAACCSi6/pAAAB2m81J+0AAAIy2GWj7QAAA0hr00vtAAAC+qo2c+0AAAABJS/P7QAAA4GPH3vtAAABuuDHJ+kAAALhX+n77QAAAKn4tPPtAAACMGNcZ/EAAAHgVX2L8QAAApvMoSPtAAADmWMbw+kAAABJIOIH7QAAAfpdb5/pAAADMSiFr+0A=",
          "dtype": "f8"
         }
        },
        {
         "mode": "lines",
         "name": "Preds Trace 16",
         "type": "scatter",
         "visible": false,
         "x": {
          "bdata": "AAECAwQFBgcICQoLDA0ODxAREhMUFRYXGBkaGxwdHh8gISIjJCUmJw==",
          "dtype": "i1"
         },
         "y": {
          "bdata": "AEX933XdnUAAOF8JZFRvwADlTnjYFHTAgF/d7sq5jkDgtOyts+J+QIBsxsf6DaPAAIDhsFIpdsBA+wmBCviWQEDndg/84KBAoDzC1TFznUCARSsdNpWjQEDpLfQuHb5AgN9famq+zECAb5HhseXaQICjFNEQEeNAgH1KkfvC60DAIRoVo0LwQACydWQnDPRAAHlAyNwB9kAAaVD01uH3QAC1rfgLuPhAgIb41xUo+kCA29Pcp5H5QADbWiCE7/lAgNbXhfo3+kCAZC1Ajjn6QID51goap/pAgEUbJxhA+kAAigt9++f6QAA6G9810PpAAPOFMXvI+UCAlNwtaj/6QABkcZ4sI/pAALnOkxcO+0CAv9Onnib7QABArjHiKPpAANovqzzT+UAA1IYAJ4z6QICVizKEu/lAAElhd7QS+kA=",
          "dtype": "f8"
         }
        },
        {
         "mode": "lines",
         "name": "Preds Trace 17",
         "type": "scatter",
         "visible": false,
         "x": {
          "bdata": "AAECAwQFBgcICQoLDA0ODxAREhMUFRYXGBkaGxwdHh8gISIjJCUmJw==",
          "dtype": "i1"
         },
         "y": {
          "bdata": "AIBGvz4enkAAAJwECr9lwAAA4fZXepHAAABSds7giEAAAFRz1SdyQADA+0whNJzAAAD82RItVcAAAAuUlImHQADge70PVKRAAMDxwi7voUAAUHs/qq+hQAAOoz3RGb1AAMC0EXhdzUAAAEaeLIjZQADAhwaNvOJAAABfnTma60AAwFeweVvwQACAU7+b//NAAEAJKN0e9kAAAMjAvNv3QAAA/brusPhAAABzzgZC+kAAAHCMA6z5QAAAWsVZx/lAAICXwrwh+kAAANhHQD/6QAAARu1Qs/pAAABwlxxr+kAAANORR+36QAAAaegQ9vpAAACZdiPZ+UAAgPa6IUb6QACABzUzOfpAAAAOiMTw+kAAgBWb6SL7QACAdwb5+flAAICKOpzO+UAAAP7+T2v6QAAALRq09/lAAICHDg40+kA=",
          "dtype": "f8"
         }
        },
        {
         "mode": "lines",
         "name": "Preds Trace 18",
         "type": "scatter",
         "visible": false,
         "x": {
          "bdata": "AAECAwQFBgcICQoLDA0ODxAREhMUFRYXGBkaGxwdHh8gISIjJCUmJw==",
          "dtype": "i1"
         },
         "y": {
          "bdata": "gM0c5O7wnkAA/EfKxyt1QDANyOIL3YvAQApuEEE1lUCA/dpju0tWQLDMtBqzLZbAAGdzv24de8CIyZOpvSeMQGCWHJt6QJxAQK5MJm3UmUAQEFIDTriiQBBzO/i1ErpAsChAJI8Ky0CYqe3qVnfXQChhao9WruFAkIR4IMZg6UDQCpOHLdDtQBAzu2oidPJAWEihEx8+9EDwlFw4AcP1QGD/2MNnxvZAwBqqtgcG+EDgXl1e+2j3QPDIQMKw3PdAMPn3gSgv+EBABM1oVSv4QCB3lC8DovhA8OPp3ShZ+EBgsQdZ85P4QLD0d212l/hAcKJ1PW6w90CY1hvj9zD4QABNmjd+CPhAsMy/Jeem+ECwdEXjGAP5QJByqVArMfhAkPR9kImp90AgsGdpolj4QBBn5+SrxfdAoETBLYUp+EA=",
          "dtype": "f8"
         }
        },
        {
         "mode": "lines",
         "name": "Preds Trace 19",
         "type": "scatter",
         "visible": false,
         "x": {
          "bdata": "AAECAwQFBgcICQoLDA0ODxAREhMUFRYXGBkaGxwdHh8gISIjJCUmJw==",
          "dtype": "i1"
         },
         "y": {
          "bdata": "AFBYxDgJn0AAwBuc/5t0QADAq7Au/3rAAMD5zeZJkEAAAOLHkdd2QABAXEJU5pPAAAiDUHQIisAAuEauZ5uSQAB4lrcDrJxAACDRUkCVm0AAyAIRYkOpQABkl+TDgb1AAACG8Y/szEAAoKQmOwDaQAAAlvQtw+JAAEDjSOs660AAYNVkuBHwQABgPckbi/NAACCkLyyx9UAAAHVhPi/3QACgKmsgYfhAAGBky5Wh+UAAgJKLzDP5QADgqWlLs/lAAACLV9rX+UAAQPu/qOn5QACg8xyzQPpAACBp/fj/+UAAoG0xa2z6QACASzJ0QvpAAECs7Siq+UAAwJXwErv5QAAgma1l8/lAAGCwy6KU+kAAoEwxQrL6QADg/rOylflAAAAs4uBq+UAAAOGn00P6QAAAcSvxjflAAKB58zzC+UA=",
          "dtype": "f8"
         }
        },
        {
         "mode": "lines",
         "name": "Preds Trace 20",
         "type": "scatter",
         "visible": false,
         "x": {
          "bdata": "AAECAwQFBgcICQoLDA0ODxAREhMUFRYXGBkaGxwdHh8gISIjJCUmJw==",
          "dtype": "i1"
         },
         "y": {
          "bdata": "AECkUIT0k0AAAGpHAlaBwAAuQzNnJInAAEASuFfJlEAAAFfAVU1mwAA4SvqGhZDAAEB2lQcQdMAAABoH4451QABAgFtKzptAAIDV3WLuo0AAGF+jCYirQABGZRJWM71AAKBN4iM9zkAAwOX0zrzZQABAbzPGUuNAAADbOxnJ60AAwMYb75fwQADAnBCtIPRAAICpL19m9kAAQN3a+fP3QADAfqK+g/lAAMCtqS5X+kAAABl3PCr6QAAAxzNoZPpAAMBYV+h8+kAAQGLal7f6QACAZt2bFftAAIC+zcjc+kAAwHYB6U/7QACAdyc2CvtAAABdVMt5+kAAwOrOlYf6QACA6MxkJPtAAIAsptsc+0AAgGFR35/7QABAbEbGmPpAAIAKLOU7+kAAwJg+YN36QACAbY1LrfpAAMAPZIq2+kA=",
          "dtype": "f8"
         }
        },
        {
         "mode": "lines",
         "name": "Preds Trace 21",
         "type": "scatter",
         "visible": false,
         "x": {
          "bdata": "AAECAwQFBgcICQoLDA0ODxAREhMUFRYXGBkaGxwdHh8gISIjJCUmJw==",
          "dtype": "i1"
         },
         "y": {
          "bdata": "gCrV1Ej5mkACRLTKtldEwADcqwuAJo3AYAhAondNlkCA1FVZDHh4QHCmoC2gGJfAAMBnJhPeP0C6KOUjg1KMQMC84WzhQpJATAMBGqEwjUAAAJbTmXipQKCMnUQ4mb9AYM8tuXP4zEBADKK4qjPaQODEnwr78+JA4ClIQQnr6kBASxMN3/vvQGBAtXYbmfNAgBq4Si209UCgVZLmeTL3QEC5K+zFfvhAQJwqdXKD+UBAEvakXlD5QAAfxWiuhvlAIHpajT/v+UBAwSeC5tb5QAAw+kAzIPpAYFeEXq3p+UDgfe/FDjP6QMB/fLgiPfpAoFWKKRGf+UAA6IxGH8T5QIA7dhGU4flA4CjZQKNf+kAg+O4TArf6QKAjRZ3tw/lAoDRBEtNv+UCAUtkjmWf6QKBs8+MPzvlAICowE+XU+UA=",
          "dtype": "f8"
         }
        },
        {
         "mode": "lines",
         "name": "Preds Trace 22",
         "type": "scatter",
         "visible": false,
         "x": {
          "bdata": "AAECAwQFBgcICQoLDA0ODxAREhMUFRYXGBkaGxwdHh8gISIjJCUmJw==",
          "dtype": "i1"
         },
         "y": {
          "bdata": "AIDDX6FPm0AAwDDkGJmDwAAA6FnB8FzAAOB0VZlqiEAAQBDCYuKHQAAAJhPrVo7AAAAwHk3pUcAAkPvKVQqIQADgv8enaKBAABAMAOVtnkAAgB5IkpSnQAA+HODf2r1AAKDN9Xn4y0AAQNNLyOjYQACAM+hzgOJAAAA+I3MI6kAAABsVLBzvQACAPzsQ0/JAAIB0OBnP9EAAAIC8JVT2QAAA8LBVWfdAAABWM7yV+EAAAMcxu2D4QAAAFxdTxvhAAACTTpTz+EAAANkw3sH4QAAAUPdSPvlAAACCPrYS+UAAAN9Ah2/5QAAA3bouTPlAAABoLV7x+EAAAEsMNN74QAAANgGzE/lAAABuZNLJ+UAAADyj5Iz5QAAAGJSD4/hAAABEq5vA+EAAAKNRmj/5QAAAWp6i/vhAAAB8bWML+UA=",
          "dtype": "f8"
         }
        },
        {
         "mode": "lines",
         "name": "Preds Trace 23",
         "type": "scatter",
         "visible": false,
         "x": {
          "bdata": "AAECAwQFBgcICQoLDA0ODxAREhMUFRYXGBkaGxwdHh8gISIjJCUmJw==",
          "dtype": "i1"
         },
         "y": {
          "bdata": "AMj2AAkonEAgde0PX6J3wFgI+61mXIjAQBFIClStgkBA6gMge8p4QIAbGJVK44HAABppxfi9esBAQuPh2dZrQABxEZmdxodAGDX4jV21oEAgBTTQY6ejQGDgfTVtQbtAEBsX0T2VyUCIq9lk8ebXQOw//WqdieFA0OweMOg46UCgQjmgxn/uQNi9twAAY/JAiJqoDxtR9EAArL06Nsb1QEjFwL6HCvdAkHfgp3YR+EC4IKUoXM73QJiYJRXJNPhAcL9IHkpW+ED4psrfp5X4QLD/x3tA9fhAIJ8ccGHD+EDgRPws09/4QGCcQB/Bt/hAKGv5D1c1+EAIhhwzxUb4QOgiHI6agvhACHS8AYq5+ECQtDQteRL5QBBvgB55T/hAgIOsa1r890BoiYjpmrT4QChMucTOXPhAuCOM7rdn+EA=",
          "dtype": "f8"
         }
        },
        {
         "mode": "lines",
         "name": "Preds Trace 24",
         "type": "scatter",
         "visible": false,
         "x": {
          "bdata": "AAECAwQFBgcICQoLDA0ODxAREhMUFRYXGBkaGxwdHh8gISIjJCUmJw==",
          "dtype": "i1"
         },
         "y": {
          "bdata": "ID66sJhqkUACUf2MSEBDwAA16DVAeHTAkHRtrN/TgUDgMros40tvQABVmX4YXnzAABSiPR6yX8A0eM4UF/11QIA6EXQIl4lACFMMx8IrjUAoBSCUS7GpQHiu0SZGdLpA6J5+g0reyUAwofAnsxnYQEDCuVL5nOFAQFVukbi66EDwMkkZTYTtQEQDzZXJ0fFAuAhsK9Kz80CwCWks3SH1QPCs15BOQfZAMOMU+zJ290DolU5sdOn2QECl2NjEZvdAwCKgff7B90DY8wf/7KD3QKhQSUFn4fdAqA0jVl7B90CYz8ZHzgX4QOjo2h6n7fdAUKZR9qpw90DI0RK7o3X3QOh5yVodxvdAeJDxkXni90AIi0/EWg74QND2Y5rie/dA6B3RoeFN90BI8kJAbwb4QIAOXHwxpPdAwPVms4u+90A=",
          "dtype": "f8"
         }
        },
        {
         "mode": "lines",
         "name": "Preds Trace 25",
         "type": "scatter",
         "visible": false,
         "x": {
          "bdata": "AAECAwQFBgcICQoLDA0ODxAREhMUFRYXGBkaGxwdHh8gISIjJCUmJw==",
          "dtype": "i1"
         },
         "y": {
          "bdata": "AIARQiuknUAAADcNKgqKwABAJXljCYXAAGCdRnyNh0AAAFzVDM5rQADAy8vNgpDAAABQbx/hSEAAALTt7a90QADAocG0wZZAAEAdHLtcmEAAAEfUVl6pQADATA8nEr5AAGCgMipbzEAAsGEA+XvYQAAAA+63weJAAABdXG9u6kAAAJtvztPvQACAIpNjKPNAAICOAQ6E9UAAgGi7SMf2QAAApDN5P/hAAACCjTmV+UAAAP/ZYun4QAAABCJvwPlAAACxQ6nC+UAAACXuZ6P5QAAAMrvV2vlAAAByuuW9+UAAAJoCZSL6QAAAjikMD/pAAACWVqCe+UAAAE9pJW75QAAA1oy+0flAAAAyfPEA+kAAAJIINmf6QAAAuo69hflAAAClBPCR+UAAAFtB+CL6QAAAlP3inPlAAABEQFih+UA=",
          "dtype": "f8"
         }
        },
        {
         "mode": "lines",
         "name": "Preds Trace 26",
         "type": "scatter",
         "visible": false,
         "x": {
          "bdata": "AAECAwQFBgcICQoLDA0ODxAREhMUFRYXGBkaGxwdHh8gISIjJCUmJw==",
          "dtype": "i1"
         },
         "y": {
          "bdata": "oEmy8dCSkEDw+xVtQ1WWwKiCp0LwJ3/AkN2lBcXGeEDkSPDqjeZzQMDVKEjKJoHAAMEEy2WFQcBgEgHF4C5VQKhWQt+GRpRAUJn/AT51iUCoWw8gzdWqQLh9beTAnrxAlIHKW4gUy0AYeXffSUvYQGRrLaxwueFAVmGbTvnP6ED4SgRVW3PuQLJfSCLff/JAyGHXmp+e9ECsycQun771QFRJneY+FfdAeGIbM0tO+ECg2P17U/P3QIB7C3OtS/hAlAMnKSJ7+EBo7E/jHWr4QFRZiS84gfhAnMCIFAer+EAUAtBqVdj4QJSqQv83r/hAkN2Ogv/u90AwVWTO+zf4QERFcjYpcfhA1H6XsuHk+EBoaPZ2APD4QHTFZTYdZ/hA8MQiNT02+ECc9QN1cLr4QHh3O876avhAgBOZ48Ka+EA=",
          "dtype": "f8"
         }
        },
        {
         "mode": "lines",
         "name": "Preds Trace 27",
         "type": "scatter",
         "visible": false,
         "x": {
          "bdata": "AAECAwQFBgcICQoLDA0ODxAREhMUFRYXGBkaGxwdHh8gISIjJCUmJw==",
          "dtype": "i1"
         },
         "y": {
          "bdata": "gOlzrlwNoEDgqfosORKTwECXiSbPhXLAfhT6WTx7WkAAAdgFvJmNQNjpQPzpS4DAgF+exWERZsDo7w7zNg5yQNbIB9elU6FAYLH/Wo3gi0AKwFpivKqoQOBKyYQkHbxAMPlUeElXy0Dow2xYK37aQKAVSd+soOJA8Mx3nxiz6UA4cHuysxXwQAAyUhsw5fJAWFgPK1pk9UC4bODnK3v2QNCNrfQKk/dAYDKCryHV+ECgWzF1NtD4QFCbTo8S5fhAQABQNchT+UCgdYGvSED5QBDCrkmMZflAoIB/ruuM+UCg1s57Lar5QIhYKxzMoPlA0KicrFjL+EB4kwiUguv4QDCrFgBeVvlA8FF0v5uk+UDQ8w7vY9n5QDCJmHtG3/hAAGu/7Tco+UBQJGzuWXP5QECT+d7YPPlAwF17Jcxv+UA=",
          "dtype": "f8"
         }
        },
        {
         "mode": "lines",
         "name": "Preds Trace 28",
         "type": "scatter",
         "visible": false,
         "x": {
          "bdata": "AAECAwQFBgcICQoLDA0ODxAREhMUFRYXGBkaGxwdHh8gISIjJCUmJw==",
          "dtype": "i1"
         },
         "y": {
          "bdata": "0JBnBlpElkBAxWiYuzyOwOCfyTZkjIHAgCPRFlTwfUAgL2V9SISLQABYrURnNU1AIEKDcrAIfMDAHmVcB554QJBHyMi9a5VAwPdksMXsiUD0JwwhfRemQEDqjNKhMrhAGLOlq+6RyUAcyp0cPdLWQNDDvbFrQuFA3HqMr6SR50AA7N8BmE/tQIT1X+TiifFArBUnaFJz80CcyYLAt5z0QPjP5QFU7vVAAPAiwI8090DkfdiglND2QPAEVB6Q+fZAZCYXHYly90AYSTWi4Vz3QLh5Slkym/dA5Dc7hoaz90AE4rfh44f3QAwm+dGkr/dAuF5lyhL09kBg+3H9qRH3QIT1RKGPifdAIDD+hMqJ90CsFFeoGJr3QMg0MuV6SfdAgJY53+4R90CUkHpfTXP3QAQQ2h8BT/dA1LDm3raq90A=",
          "dtype": "f8"
         }
        },
        {
         "mode": "lines",
         "name": "Preds Trace 29",
         "type": "scatter",
         "visible": false,
         "x": {
          "bdata": "AAECAwQFBgcICQoLDA0ODxAREhMUFRYXGBkaGxwdHh8gISIjJCUmJw==",
          "dtype": "i1"
         },
         "y": {
          "bdata": "0CUW4KukZECUUOWEozSHwKD0NkHC/ozA/PECaHYeSUBIZxeWh6uTQHp50qgNK4ZA8B++OE81h8DgIdHuCRSAQHADXgg5rZJAYHDEHN4GdsBy5ua/4HGjQGAsRjbybbVAyM72H/EgxkDwQM9Kn6LUQNCAFg66pd5AxFQKu2OP5UDgyqBTZg7qQLjMpXnWz+9AsCdp2oki8kAgCoY0jHHyQPQkmelSRPNAgPWxJCO/9EDgz/A0oZ/0QJiCotIEnfRAkEsHLJwY9UAwLLtgNxb1QAgN4pqzJ/VA0E/YGDU+9UBAG6Ft9TX1QOxRbe0MQ/VAVDMRy5OC9EB0Euk70Mf0QFCF4OFK5fRACKOpdQoW9UDoYwMhYDj1QKwbz7di/vRAWDmip0wN9UAIEJDViB71QMSFNWDF4vRA5MXH7aRD9UA=",
          "dtype": "f8"
         }
        },
        {
         "mode": "lines",
         "name": "Preds Trace 30",
         "type": "scatter",
         "visible": false,
         "x": {
          "bdata": "AAECAwQFBgcICQoLDA0ODxAREhMUFRYXGBkaGxwdHh8gISIjJCUmJw==",
          "dtype": "i1"
         },
         "y": {
          "bdata": "YCEqsrYaf0DaZu4l6LuBwKCIYsAUlIjAkMYPXqr9g0CAyAzjAVJqQABF44yUr2hAQBqHfDCng8CAWHy3GoWHwEAZM9nDBpFAYKSKIDLiisAAEjS/R0GlQMAFZt1EmLlAgLZNMY3DykBoj8FCQfTXQEA5TxuAJOJAgCZkBU676UDQn5oMemzvQFCTTct2//JA2F6Y4FMi9UBguvi8Y1j2QEDopmdvOfdAcFrAU0mX+EDAdJc6rmP4QPBejXERp/hA8H27rgYt+UDQ0dIGPkj5QMBJHskHG/lA8AdKQCUF+UCgxv1JPlr5QFBHD6mMR/lA0GJghyWm+EBgQIpPB6b4QLA2ne5WFflAAKzp71tb+UAA+ztfFCP5QGAr4aKuM/lA8PF8joYW+UAQrpBMAh/5QJDCO0Ys/fhAUPdDK3gG+UA=",
          "dtype": "f8"
         }
        },
        {
         "mode": "lines",
         "name": "Preds Trace 31",
         "type": "scatter",
         "visible": false,
         "x": {
          "bdata": "AAECAwQFBgcICQoLDA0ODxAREhMUFRYXGBkaGxwdHh8gISIjJCUmJw==",
          "dtype": "i1"
         },
         "y": {
          "bdata": "AABZTxuibkAAQOCrsg6KwACIROXGcJLAAABuDQwoesAAAFP2TOF8QABAayF+lX5AAMDFFoPTdEAAAG65V9VuQACAtMyBjYVAAIB54TWqcsAAQHNYIwqpQABAyxyWBbdAAMDxyUhoyEAAgO+HHxLYQABAcxeqVuJAAAB6r9Gc6EAAAF0yyZzvQAAAeSQYyfJAAABtAngQ9UAAAOaeIgf2QAAAlVteE/dAAAB4UR92+EAAAPfXeyL4QAAAOoyTW/hAAAAPbNTv+EAAAL6+tO/4QAAAr+W/xvhAAABX8fkM+UAAADbiaP/4QAAAJ6qTIvlAAABgICgm+EAAAF/mxXr4QAAAU3K88PhAAACsySK8+EAAALyFM8j4QAAAjksL1PhAAABKy1gF+UAAANSJO/H4QAAAAwJC6PhAAACegvci+UA=",
          "dtype": "f8"
         }
        },
        {
         "mode": "lines",
         "name": "Preds Trace 32",
         "type": "scatter",
         "visible": false,
         "x": {
          "bdata": "AAECAwQFBgcICQoLDA0ODxAREhMUFRYXGBkaGxwdHh8gISIjJCUmJw==",
          "dtype": "i1"
         },
         "y": {
          "bdata": "gEOO+ZdmZcCc8ate9eSRwBBp2puWKJPAoODeN98risDQQ4RGOEmhQFDY71rU7ohAXMibhtnKX0AAbllpI45SQDzgJp5Q7plAMHT5nh1de8AImR992bugQNAARBn9DLdAiLQIG4mTy0AIVqdFdb3ZQPh3502hHuNAcInDfmSn6ECwAayZQTbwQMiUWHlaLPNAuNSpKn+E9UBowzXhTaj2QNB50cSIB/dAoAxseA3f+ECgi2g6UKj4QMD447IvpPhAANaHgnhv+UCQOkA2f235QGBHunOGWPlA4M6K/Ydb+UCI55XZz5b5QABCdvtZavlAsPqWc7/N+EDQrLpyMi/5QJAKPDYxE/lAQIEvVX9b+UAwRFwUgIz5QJB7xfH/hPlAUDX9axuN+UAgOY09QPr4QACVPjXxVvlAAB9dT5OA+UA=",
          "dtype": "f8"
         }
        },
        {
         "mode": "lines",
         "name": "Preds Trace 33",
         "type": "scatter",
         "visible": false,
         "x": {
          "bdata": "AAECAwQFBgcICQoLDA0ODxAREhMUFRYXGBkaGxwdHh8gISIjJCUmJw==",
          "dtype": "i1"
         },
         "y": {
          "bdata": "QC469HkuesAoYjT7zF2VwDJQaRq3mpPAgIfob6ojc8Cgh9omtIaSQPCYR7te95lAwOK8QtxyjMCAi/vvEtqNQMA3qzz09JVAwFw+kFOSlMAAOz1RdwKXQGDdz/YSCLdAECtS6FSeyEDQ2p+mlBjZQCC8TCr92+JA4Mpw4Ntv6UCgeRinhk3wQHC4FeQqVvNAUBPeAnzW9UBgTIQOBmL2QCA+u1XzCfdAINEQjKXV+EDAPdG7hvf4QIBwDIGiovhA4LOd+d1W+UAgJjdaiJH5QABZtthhZflAYIu5dN6F+UDAbJH/PMT5QGCV5q3xfflAoGfvPKn++EDgtLND+Eb5QAB+fwjPr/lA4OXT02F1+UAg4FnYQ4P5QOBac/bHOflAYIOQxdvQ+UCgX7UzWRv5QICXakYHRPlAAGtG84fp+UA=",
          "dtype": "f8"
         }
        },
        {
         "mode": "lines",
         "name": "Preds Trace 34",
         "type": "scatter",
         "visible": false,
         "x": {
          "bdata": "AAECAwQFBgcICQoLDA0ODxAREhMUFRYXGBkaGxwdHh8gISIjJCUmJw==",
          "dtype": "i1"
         },
         "y": {
          "bdata": "5DSut3Fbg0DYxW+zcgubwABGU5q2oIPAANbGbgX6a0AAQ1CkLgGbQLDtvM9QW5hAcKwsxEVBgsCoOMfZZHCJQBDFVVX4zZZAuAjo9urzm8Bo/luWjhWkQKCmoO3eurpAeOGV5iblx0DwYw1mNEXXQGCZhHXDFuJA2GzGkC0a6ECASZO/I17vQKDITPnylvJAKJsWnFn79EDAAt35d1b1QMisOwjE3PVAGGYY7XH890BQmbth5rr3QOCJjTZXTfdAyOe2UI+t+EBo5dRuXzj4QCg/wtu/HvhAePvfUOBh+EAIXm+2W5/4QKD1HdpBYvhASARL7ZK690BonnnI8gP4QIC35oXAWvhAuF138rtT+EBAnx9kL4D4QGBMIslPMPhA+NcRX8xr+ED4wQ3ZMT/4QEBxTvq0NfhAeGdScvrs+EA=",
          "dtype": "f8"
         }
        },
        {
         "mode": "lines",
         "name": "Preds Trace 35",
         "type": "scatter",
         "visible": false,
         "x": {
          "bdata": "AAECAwQFBgcICQoLDA0ODxAREhMUFRYXGBkaGxwdHh8gISIjJCUmJw==",
          "dtype": "i1"
         },
         "y": {
          "bdata": "AAAMtTR6eUAA4Br2UmeRwAAArr72LH/AAADwmh8UUMAAgCCn/HuHQADgeKKUlJVAAAAmxMFWjcAA4LiJLmx+wAAAevV+b4lAAKBwTg49mMAAQJ2ATfKlQAAQh4ter7hAAIAogMdzyEAAgAR3k5LXQACAo7EPrOJAAAAl8d7x6EAAABXOXcrvQACAv9x/KPNAAIACw8dH9UAAAOBim/r1QACAPczuqfZAAADWRZPG+EAAAKlaY4X4QAAA86QHhvhAAADUKpgX+UAAAOqSxTj5QAAAdfNoD/lAAIA9cwUp+UAAgJC7Iif5QACAoYSIHvlAAACcz9JM+EAAALlGS8z4QACAFz5MGPlAAAA2qQvW+EAAgMf0BCP5QACAyBiWBvlAAIDIevVB+UAAgMKm+tj4QAAAaiQG/PhAAIAXrKJS+UA=",
          "dtype": "f8"
         }
        },
        {
         "mode": "lines",
         "name": "Preds Trace 36",
         "type": "scatter",
         "visible": false,
         "x": {
          "bdata": "AAECAwQFBgcICQoLDA0ODxAREhMUFRYXGBkaGxwdHh8gISIjJCUmJw==",
          "dtype": "i1"
         },
         "y": {
          "bdata": "AFFVY9N3Y8DQWW47zYWewADPgvgKqHJAgMk+7YVUfsDAhG1PNzVnQPaz8jlce5FAsBFj1l/XYsBgulAiF69owABmF4WN/5VAYDgp4clvlMCg9EJn28yfQBBn28Trr7NAeBmYNegyyEB4vT97N5/WQDDIZmmAfuFAQI0uYbzo50BAcgnOUkbuQDh8aVFTOfJAIMk3l0Zv9ECYHItWytz0QNAv9saxfvVA0Gobd0yl90CwaF7S2uH2QKBkNHOyb/dAcAw06Osr+EBI2Nmw/+v3QFCQhfHTz/dAQPVDytjt90D4pPoniyz4QMhSFSeA5fdAIPovx5Rj90BI1KRPD7n3QNAq9y5M2PdAGPBdb1ap90DggQTuSej3QHBfXT/N6PdAwDzyY6Xl90CA9SiEucT3QPgiPG4IoPdAwJ6nvheH+EA=",
          "dtype": "f8"
         }
        },
        {
         "mode": "lines",
         "name": "Preds Trace 37",
         "type": "scatter",
         "visible": false,
         "x": {
          "bdata": "AAECAwQFBgcICQoLDA0ODxAREhMUFRYXGBkaGxwdHh8gISIjJCUmJw==",
          "dtype": "i1"
         },
         "y": {
          "bdata": "AFDp+/G5kEAAPHlrMA+iwAAAUPzYN1TAAAAZ1Q0ngMAAALADc49tQABII4jV45ZAAKAeLf1fmcAAAMgIUIBjQAAAgiVUsplAAADPa93dnsAAwCPbbGGnQADAQOk7SrVAAPABdkgZyUAAABqrLZzYQAAAh8yyXuJAAAAkO0816EAAAJXv1LXvQAAAzlV5+fJAAAAi/t199UAAALvH3xn2QAAABVNhkfZAAAB9D3Tg+EAAALL3BvP3QAAA6k6jTvhAAACNPoIn+UAAAGST1tz4QAAA+XOAvPhAAADu7ffk+EAAAHcDsir5QAAAEW1s4PhAAAC49MIk+EAAAO7fVNP4QAAAkWvdwPhAAADOde+Q+EAAADp64iv5QAAA4H0HxvhAAABrVdTn+EAAAFGXQuv4QAAAEw6dvPhAAAChy8tk+UA=",
          "dtype": "f8"
         }
        },
        {
         "mode": "lines",
         "name": "Preds Trace 38",
         "type": "scatter",
         "visible": false,
         "x": {
          "bdata": "AAECAwQFBgcICQoLDA0ODxAREhMUFRYXGBkaGxwdHh8gISIjJCUmJw==",
          "dtype": "i1"
         },
         "y": {
          "bdata": "QJcKItYdc0CwAik6zj6WwMCgXujp94vAAJAfQ3VubkAAqH33FRFKwABtzvxjCJFAgCupMCZLcMCAXDi9/SaGQD+2v648eZxA4BAcQKl4nMBgKi28X3CoQABG5w8fLLRAwLtXhvf+y0BAB5RO8EXZQIBY6VJNx+NAwJPZg99g6kAA+C5qEcTwQAC+vP2ZY/RAADfwVonc9kAAIqwjstH2QMBbmFoIifdAABoJHnsq+kCARNhDQ2T5QACTyz0RbflAAHHlHPQt+kBAnUL8aUX6QIAJknFaGfpAQHz9yixK+kDAkfXB2Yj6QABTJUsdbPpAQKHlO2Wo+UBACYTlAED6QIDzUgH2QfpAABndxDPu+UCACsf+pET6QIAr81QJXfpAgJi3ppIq+kBAdDLvTAv6QMAg5VFtNfpAwKa1hcMA+0A=",
          "dtype": "f8"
         }
        },
        {
         "mode": "lines",
         "name": "Preds Trace 39",
         "type": "scatter",
         "visible": false,
         "x": {
          "bdata": "AAECAwQFBgcICQoLDA0ODxAREhMUFRYXGBkaGxwdHh8gISIjJCUmJw==",
          "dtype": "i1"
         },
         "y": {
          "bdata": "gIx5pFzVhUCoQcmTMWaiwLCJD0Gs9X/AgL9Sn74+Q8DAekxkl+6HQASCqdDvTJJAcR6aPnm/kMAg9jh044l2QBDwVOk2s5BA9PebsZgUosAxGMILkIOiQESjVGI57LNA3JmxafDNxUAodxJCpsPVQMSHqYT+f+BAOLX6G2d15UAQcEVlBIHrQDShGuxe5PBAoGyTD5za8kBQbipNAGLzQIQPYGr9k/NAdJF4YADW9UA03mQyVgj1QIjHO2YhK/VAnH/WZLoJ9kBcuqySY+71QCRfKFValfVA8Oefbcrv9UAgoTm4oB/2QAAHBXky8PVAuHIZmVwW9UCsBKKIKcj1QCzoKBuMwvVAoCGJYTJi9UAImo7c4/D1QLhsTqmh6PVApAOgeUgF9kCsB5XGW9H1QGhGSxVTpvVAKMx1hepr9kA=",
          "dtype": "f8"
         }
        },
        {
         "mode": "lines",
         "name": "Preds Trace 40",
         "type": "scatter",
         "visible": false,
         "x": {
          "bdata": "AAECAwQFBgcICQoLDA0ODxAREhMUFRYXGBkaGxwdHh8gISIjJCUmJw==",
          "dtype": "i1"
         },
         "y": {
          "bdata": "UD5JgYULkkDJdj7j5NmhwDC+EyGfGpPAAPmwqVYAVsAAe8XVA8x2QIB31u05eoxAgPB7MAhAjcDgtmCd2Ql4wFRBlfhm5KJAQFGJIVhRocDcKbPbrGikQHBYyl4M+rNA+F4QiMT/yECwjmi39PXXQDintpuqvuFAOL5c1xj950CwsAXusMnuQCh1dfq4vPJA6Ja7ewbs9EAoIgMK8kP1QNj8fcHkpPVASA5dtTRE+EDw7LJBEn/3QEjAWjROWfdAULxDPw1b+ECQnk6M1mr4QLi/lFOc9PdA4G1bHMJM+EAYgc4uhIX4QHi0aN96PfhAsGduBz1O90DYmUsJVwv4QIBg+Q7xYfhAWGUpxz7f90AwTUk3pWH4QHjrb8o2IvhA8PiZtplA+EA4WgDKN+j3QDBk0wZoBPhAwAa4bY/++EA=",
          "dtype": "f8"
         }
        },
        {
         "mode": "lines",
         "name": "Preds Trace 41",
         "type": "scatter",
         "visible": false,
         "x": {
          "bdata": "AAECAwQFBgcICQoLDA0ODxAREhMUFRYXGBkaGxwdHh8gISIjJCUmJw==",
          "dtype": "i1"
         },
         "y": {
          "bdata": "AGNLMX7Jj0DwRTFFpM2hwGph07pxnI3AUD6XHayZZsDYV0kliIJiQAA0gYDB25NAtqr1PAl5kcAAahT5caN3wOCpnYn0aYlASB7rjn/on8Bgxb7byP+hQFAQu0mkO7BAgFCi80OByEBAAznX6fXWQNCSfN8ob+FAUHOfymGh5kCwbUy30nTtQOD9wjX4tfFAcPl4GtQr9EBAVqzxYDb0QFCcQ8aBq/RAYDn0FFEC90Cgx9kBDFL2QFCWRwG1S/ZA4MuTMLZD90Cg63Tz0DP3QJBFO9AxE/dAIFYJlOcz90AA45EIU4/3QKB54hYkH/dAMJoZxBsl9kBgWZNX9Nv2QCACnUQaK/dAYGH8r0WS9kCAEGxkLTP3QNAj979ORfdAgDHffh8W90CQh5rWy/v2QGBvC3+i7vZAwIB/7dVu90A=",
          "dtype": "f8"
         }
        },
        {
         "mode": "lines",
         "name": "Preds Trace 42",
         "type": "scatter",
         "visible": false,
         "x": {
          "bdata": "AAECAwQFBgcICQoLDA0ODxAREhMUFRYXGBkaGxwdHh8gISIjJCUmJw==",
          "dtype": "i1"
         },
         "y": {
          "bdata": "gMSR2MWBi0Dg6+SyYZWUwOCXLyVwKYnAALRQDatRf8CAQzeJLht6QIAvildKRI9A4PEopWHzhMCAGz2T9KxXwICl5HtFnZ1AAOx1MNN7n8DwkWsV2FunQKC7kK/JfbhAYDTE1UAdyEAARhg6VZHYQECPkRNdleJAgM5VLh9q6ECgubQX4VXvQFAh7GqkDvNAgNe5P6Ze9UDQb4PIwrb1QOCvleJP9/VAgLpa4cie+EAg81RZhgf4QOAxgaBm1/dAoMGuYIEH+UBgo16P1g35QCDJQ9J7j/hAYGpi7EEO+UCAw3T5sjb5QIAk4LAakPhA4DQoOr2390BwtGA1peb4QMCL62Y3m/hA4GE6w7jp90Bg0vjtP9r4QGCZNKNWgfhAIDd04YPW+EAgQy/k5rX4QKA7i6ISd/hAIGslc9w2+UA=",
          "dtype": "f8"
         }
        },
        {
         "mode": "lines",
         "name": "Preds Trace 43",
         "type": "scatter",
         "visible": false,
         "x": {
          "bdata": "AAECAwQFBgcICQoLDA0ODxAREhMUFRYXGBkaGxwdHh8gISIjJCUmJw==",
          "dtype": "i1"
         },
         "y": {
          "bdata": "ATM9OecfZEBAtGhGbu6owCQySw7JspLA/EfbtqQBMUAA4RJjiFliwKABqludfKBAgIeDJOzij8B8yufr7HySwDCmAABmTJxAHOL2XI9gpcCIo7y0g2OUQNThSqiIz7dASBf9EkpOy0Aguv+4SknZQHBYeKRA7ONAyHG2HcDU6UCUD4vkOB7wQITGJjnwbPNAGFICkz9D9kDQQkctI3T2QCDv5tNv3fZAkHQzBIFi+UCQ85G0s8L4QEhuWtRlHPlAaMMvBqz7+UBgV1ru8sv5QBBL7n++l/lA4GJINNy2+UBwSSQHdlL6QGiv4r/osvlA0I7TVk7J+EDArbBUubj5QPBADuwE6vlAOOIeKChi+UCwcbyPcpj5QCCNcqv97vlAyKZnFgWi+UCIelvPaXn5QKDln8G0xflAgBZjypy++kA=",
          "dtype": "f8"
         }
        },
        {
         "mode": "lines",
         "name": "Preds Trace 44",
         "type": "scatter",
         "visible": false,
         "x": {
          "bdata": "AAECAwQFBgcICQoLDA0ODxAREhMUFRYXGBkaGxwdHh8gISIjJCUmJw==",
          "dtype": "i1"
         },
         "y": {
          "bdata": "APidFsHujEAA8G7TBUmnwADAekLuA5PAAICkCEm1dsAAAHCgJvxWQABQJYDUj5hAAKxPG6LnoMAAAFjj+Qd9wACAK3PWQ5VAAAAY5rqdocAAsEqCUZGjQACgUjYe/rVAAICYC1X1x0AAgPtUPyjYQACAa6+zDuJAAABZiTVy50AAgKb9TkruQACAw0wDifJAAICiZmr89EAAAAZzsCr1QACA3zeCY/VAAIBjw2kz+EAAANJgaDj3QACA9MoeVPdAAABkk59X+EAAAHjdxVX4QAAAl5QgCvhAAICbEWNk+EAAAKLHPI74QAAAGhqtD/hAAAC/Gl4U90AAgOwa+zb4QACAOouBGPhAAIB7M21j90AAgESwd0L4QAAAvqZKMfhAAAB2Ztkf+EAAAG0rYvz3QAAAAdJPCPhAAIDTSFXR+EA=",
          "dtype": "f8"
         }
        },
        {
         "mode": "lines",
         "name": "Preds Trace 45",
         "type": "scatter",
         "visible": false,
         "x": {
          "bdata": "AAECAwQFBgcICQoLDA0ODxAREhMUFRYXGBkaGxwdHh8gISIjJCUmJw==",
          "dtype": "i1"
         },
         "y": {
          "bdata": "AADkb7LIjEAAMO7rK3GhwABAojvFg5jAAAA0jhxTdcAAgEYcKYJ7wACgPqdHSI1AAFhcMgk2l8AAAILTX8J5wAAA6pIu/ZpAAEAVKJZHoMAAcDse7WmgQADgOL1qFLVAAID69PfeyEAAgAEwNZXYQACAjtufueJAAACYigS06EAAAL+crGLvQAAAXsmQA/NAAAAj1EyM9UAAAJgCILv1QACAxm1t6/VAAADbWHi0+EAAANwKxMn3QAAAC7gu9PdAAACl8kgR+UAAgHFLTuP4QAAA6aMXnvhAAABUQEX9+EAAgNjmC1z5QACARnfesfhAAICgRPS290AAgHfiwNr4QACA9MyntvhAAAAgFu5A+EAAAAKkC7/4QAAAWjMywPhAAIAAkrm7+EAAAFwA23r4QAAApnV3ovhAAIDMw5x++UA=",
          "dtype": "f8"
         }
        },
        {
         "mode": "lines",
         "name": "Preds Trace 46",
         "type": "scatter",
         "visible": false,
         "x": {
          "bdata": "AAECAwQFBgcICQoLDA0ODxAREhMUFRYXGBkaGxwdHh8gISIjJCUmJw==",
          "dtype": "i1"
         },
         "y": {
          "bdata": "AICW+pHOjEAAkBtOyMihwACAO7VwdpXAAACQrcKtaEAAACDJz7AywACQPVDjspNAALCXw9w1j8AAAKDabu9jwAAA0DE8UZJAAOCpW5iToMAAmDNd5aShQACgUPML8bBAAIBi5WqByEAAAKiiv8nYQAAAy9qCheJAAADHAyQ56EAAAC/gdOTuQAAAeJWz0vJAAAASE3Uq9UAAAHlaLVT1QAAAVccrefVAAABIITFn+EAAAEAdWVD3QAAAsypHV/dAAACXLhR9+EAAAGAsj5b4QAAAlPxxQPhAAACBZa6v+EAAAHSHSNH4QAAAgDW0cvhAAAAKU3aX90AAAGL+8GX4QAAAhhmcYfhAAAD1NYfC90AAAIQM4Y/4QAAA/agEW/hAAACpnTys+EAAABWOnyr4QAAAMWujUvhAAADxhUoA+UA=",
          "dtype": "f8"
         }
        },
        {
         "mode": "lines",
         "name": "Preds Trace 47",
         "type": "scatter",
         "visible": false,
         "x": {
          "bdata": "AAECAwQFBgcICQoLDA0ODxAREhMUFRYXGBkaGxwdHh8gISIjJCUmJw==",
          "dtype": "i1"
         },
         "y": {
          "bdata": "ACwNntETkUAA8AaPJ16iwAAAZHZn043AAAAUnJ5VYcAAAIjpMzZsQADQoxh5SJRAAFiMuZKokMAAAM5/7AOMwACAdl8Qqp5AAABnYeBSk8AA4IoqOBSbQABQwp8kALVAAIBi5vIeykAAAATl7pjZQAAAyKRlIuJAAAAdBX066UAAALTq12/vQAAAlOkhgfNAAIB9PgZc9kAAgGYYve31QAAAfGfOUPZAAAC7i0Uv+UAAAJ+G7gT4QAAArkAkM/hAAABYgX5c+UAAAN7hVp/5QAAAP2TeAPlAAAAXxnh6+UAAAH9GkD76QAAAGGL1P/lAAABFn001+EAAALYEVE35QAAA9YStCPlAAAA1XnZD+EAAALwQNET5QAAA5gnUOPlAAABuXS02+UAAALBR07/4QAAAUFQ99/hAAABk2zo++kA=",
          "dtype": "f8"
         }
        },
        {
         "mode": "lines",
         "name": "Preds Trace 48",
         "type": "scatter",
         "visible": false,
         "x": {
          "bdata": "AAECAwQFBgcICQoLDA0ODxAREhMUFRYXGBkaGxwdHh8gISIjJCUmJw==",
          "dtype": "i1"
         },
         "y": {
          "bdata": "AAB0aj+TkUAAEEVPJt2iwAAAx3JW4Y3AAABrRBynacAAAC2TsPJnQABQF7Tz3JVAADD/zs3FjsAAAODI2zSIwACACQJy+Z1AAAD+8oO5mMAAcPrPYIegQADg7kLgqLNAAABKfv8KykAAAF1ElZDZQACAeWEhQeJAAAC3EXxc6UAAADr+A6DvQAAAErxom/NAAADNwY9+9kAAgOS7rAL2QACA9J8WZPZAAADQZ6V4+UAAADOg/CP4QAAAlplYPfhAAIBNr2eU+UAAgBbopMH5QAAAMzIYIflAAICtWMOW+UAAAGL+kWH6QAAAVnFMaflAAADYa99O+EAAgP6b4mj5QACAzB8bJPlAAIAWLPFC+EAAACQeVm35QACAZ+gOV/lAAAAUIChR+UAAACVdw+v4QAAAW/9PF/lAAAAvdrVg+kA=",
          "dtype": "f8"
         }
        },
        {
         "mode": "lines",
         "name": "Preds Trace 49",
         "type": "scatter",
         "visible": false,
         "x": {
          "bdata": "AAECAwQFBgcICQoLDA0ODxAREhMUFRYXGBkaGxwdHh8gISIjJCUmJw==",
          "dtype": "i1"
         },
         "y": {
          "bdata": "AAAsUf2+kEAA8Dpc0/GjwADA0099EJLAAAAJ5wv+icAAgHK9BOZyQABQVdKHV5lAALBaECnNi8AAAKpDxlWMwAAw3ENpQaBAAACgVIufmsAA8AE7j12jQABgCqAJLLVAAICrOeK1ykAAABVSLjXaQAAA2JpRwuJAAAANOwn86UAAgJ99HSXwQAAAiNbkNvRAAACz8Rwr90AAAOetzrL2QAAA5R7e8vZAAAB/88Y0+kAAAL2RtOv4QAAAOvl1zPhAAAAJ4OxV+kAAADO6oIr6QAAAq5+p0flAAABxk5lk+kAAAN4ojC77QAAAymkWHfpAAAB8xtD0+EAAAJHFVjL6QAAAaeNZ0/lAAACpk4rd+EAAAL2YOyr6QAAAdNJjDPpAAAAgZPb8+UAAAFv+Qp/5QAAAPpjkx/lAAACHAGQ4+0A=",
          "dtype": "f8"
         }
        },
        {
         "mode": "lines",
         "name": "Preds Trace 50",
         "type": "scatter",
         "visible": false,
         "x": {
          "bdata": "AAECAwQFBgcICQoLDA0ODxAREhMUFRYXGBkaGxwdHh8gISIjJCUmJw==",
          "dtype": "i1"
         },
         "y": {
          "bdata": "AACLXmEskUAAsM0hSL2kwADAP/Cs2pLAAADhF4bVisAAgBZHqnhyQABQL+jH1plAAFjaZPFNkMAAAFgaZrKLwAAwerD3AqFAAADYvn4dmsAA8EcUncyiQADgay3qtrRAAIBZMvSKykAAAI/N7S/aQAAAtsDZ1+JAAACXFNLa6UAAgPv3/yDwQAAAWp8rL/RAAABGIf8u90AAADuefJ32QAAAZnYs4vZAAAAIPj80+kAAAJLYiuX4QAAAam/Pv/hAAACa/MBM+kAAAEQWbH/6QAAA1pmxwPlAAAD1MGRk+kAAAEwl8Rv7QAAACmQ5CfpAAAAWWwHa+EAAAN+Iwin6QAAAPVMCzvlAAAB3wAfX+EAAAPBdkBj6QAAAlSmaBPpAAADrH1nn+UAAAGvkeJj5QAAAfPEJvPlAAAApHTwp+0A=",
          "dtype": "f8"
         }
        },
        {
         "mode": "lines",
         "name": "Preds Trace 51",
         "type": "scatter",
         "visible": false,
         "x": {
          "bdata": "AAECAwQFBgcICQoLDA0ODxAREhMUFRYXGBkaGxwdHh8gISIjJCUmJw==",
          "dtype": "i1"
         },
         "y": {
          "bdata": "AACy8umpkUAAsKVuvcOkwADA+2EXlpPAAEC0v6hTi8AAAFVMToVmQABQa5hDEJlAAFgZ+WYvkcAAAOLcyByOwAAwBi2ECqFAAABGm3t8msAA8NYo6YOiQADgHKPWVbVAAIAn3nykykAAAPn3BFbaQAAAKASH5+JAAADZVboC6kAAgN+EaC/wQAAA0sJTRPRAAAAtzjBC90AAALXXeLf2QAAAT8kK+vZAAAC3XMNC+kAAAOdHbun4QAAAirj21vhAAAClIaRg+kAAAKvyt5P6QAAATaMj1/lAAABbj/5/+kAAAAyxxjX7QAAA+H0WJPpAAAC2Dzvz+EAAAL8Ipkf6QAAAxfIh4PlAAABTnePm+EAAAO2ohir6QAAAEKmMI/pAAADykygA+kAAACcXs6b5QAAA7skh0flAAABnI8RO+0A=",
          "dtype": "f8"
         }
        },
        {
         "mode": "lines",
         "name": "Preds Trace 52",
         "type": "scatter",
         "visible": false,
         "x": {
          "bdata": "AAECAwQFBgcICQoLDA0ODxAREhMUFRYXGBkaGxwdHh8gISIjJCUmJw==",
          "dtype": "i1"
         },
         "y": {
          "bdata": "AACy8umpkUAAsKVuvcOkwADA+2EXlpPAAEC0v6hTi8AAAFVMToVmQABQa5hDEJlAAFgZ+WYvkcAAAOLcyByOwAAwBi2ECqFAAABGm3t8msAA8NYo6YOiQADgHKPWVbVAAIAn3nykykAAAPn3BFbaQAAAKASH5+JAAADZVboC6kAAgN+EaC/wQAAA0sJTRPRAAAAtzjBC90AAALXXeLf2QAAAT8kK+vZAAAC3XMNC+kAAAOdHbun4QAAAirj21vhAAAClIaRg+kAAAKvyt5P6QAAATaMj1/lAAABbj/5/+kAAAAyxxjX7QAAA+H0WJPpAAAC2Dzvz+EAAAL8Ipkf6QAAAxfIh4PlAAABTnePm+EAAAO2ohir6QAAAEKmMI/pAAADykygA+kAAACcXs6b5QAAA7skh0flAAABnI8RO+0A=",
          "dtype": "f8"
         }
        },
        {
         "name": "Actuals",
         "opacity": 0.6,
         "type": "bar",
         "x": {
          "bdata": "AAECAwQFBgcICQoLDA0ODxAREhMUFRYXGBkaGxwdHh8gISIjJCUmJw==",
          "dtype": "i1"
         },
         "y": {
          "bdata": "AAAAAAAAAAAAAAAAAAAAAAAAAAAAAKtDAIDFRADg20QA6P5FAJQjRgA9FkeAdpFHgGPYRwBT9UdAIS1IADYUSICeDEgA+u1HACjlR4DG0EcAEaBHADppRwBUJUcAfqxGACQVRgAA+UUAUChFAECRRADAdkQAAAAAAAB8QwAAAAAAAAAAAAAAAAAAAAAAAAAAAAAAAAAAAAAAAAAAAAAAAA==",
          "dtype": "f4"
         }
        }
       ],
       "layout": {
        "barmode": "overlay",
        "sliders": [
         {
          "active": 0,
          "currentvalue": {
           "prefix": "Trace: "
          },
          "pad": {
           "t": 40
          },
          "steps": [
           {
            "args": [
             {
              "visible": [
               true,
               false,
               false,
               false,
               false,
               false,
               false,
               false,
               false,
               false,
               false,
               false,
               false,
               false,
               false,
               false,
               false,
               false,
               false,
               false,
               false,
               false,
               false,
               false,
               false,
               false,
               false,
               false,
               false,
               false,
               false,
               false,
               false,
               false,
               false,
               false,
               false,
               false,
               false,
               false,
               false,
               false,
               false,
               false,
               false,
               false,
               false,
               false,
               false,
               false,
               false,
               false,
               true
              ]
             }
            ],
            "label": "Preds Trace 1",
            "method": "update"
           },
           {
            "args": [
             {
              "visible": [
               false,
               true,
               false,
               false,
               false,
               false,
               false,
               false,
               false,
               false,
               false,
               false,
               false,
               false,
               false,
               false,
               false,
               false,
               false,
               false,
               false,
               false,
               false,
               false,
               false,
               false,
               false,
               false,
               false,
               false,
               false,
               false,
               false,
               false,
               false,
               false,
               false,
               false,
               false,
               false,
               false,
               false,
               false,
               false,
               false,
               false,
               false,
               false,
               false,
               false,
               false,
               false,
               true
              ]
             }
            ],
            "label": "Preds Trace 2",
            "method": "update"
           },
           {
            "args": [
             {
              "visible": [
               false,
               false,
               true,
               false,
               false,
               false,
               false,
               false,
               false,
               false,
               false,
               false,
               false,
               false,
               false,
               false,
               false,
               false,
               false,
               false,
               false,
               false,
               false,
               false,
               false,
               false,
               false,
               false,
               false,
               false,
               false,
               false,
               false,
               false,
               false,
               false,
               false,
               false,
               false,
               false,
               false,
               false,
               false,
               false,
               false,
               false,
               false,
               false,
               false,
               false,
               false,
               false,
               true
              ]
             }
            ],
            "label": "Preds Trace 3",
            "method": "update"
           },
           {
            "args": [
             {
              "visible": [
               false,
               false,
               false,
               true,
               false,
               false,
               false,
               false,
               false,
               false,
               false,
               false,
               false,
               false,
               false,
               false,
               false,
               false,
               false,
               false,
               false,
               false,
               false,
               false,
               false,
               false,
               false,
               false,
               false,
               false,
               false,
               false,
               false,
               false,
               false,
               false,
               false,
               false,
               false,
               false,
               false,
               false,
               false,
               false,
               false,
               false,
               false,
               false,
               false,
               false,
               false,
               false,
               true
              ]
             }
            ],
            "label": "Preds Trace 4",
            "method": "update"
           },
           {
            "args": [
             {
              "visible": [
               false,
               false,
               false,
               false,
               true,
               false,
               false,
               false,
               false,
               false,
               false,
               false,
               false,
               false,
               false,
               false,
               false,
               false,
               false,
               false,
               false,
               false,
               false,
               false,
               false,
               false,
               false,
               false,
               false,
               false,
               false,
               false,
               false,
               false,
               false,
               false,
               false,
               false,
               false,
               false,
               false,
               false,
               false,
               false,
               false,
               false,
               false,
               false,
               false,
               false,
               false,
               false,
               true
              ]
             }
            ],
            "label": "Preds Trace 5",
            "method": "update"
           },
           {
            "args": [
             {
              "visible": [
               false,
               false,
               false,
               false,
               false,
               true,
               false,
               false,
               false,
               false,
               false,
               false,
               false,
               false,
               false,
               false,
               false,
               false,
               false,
               false,
               false,
               false,
               false,
               false,
               false,
               false,
               false,
               false,
               false,
               false,
               false,
               false,
               false,
               false,
               false,
               false,
               false,
               false,
               false,
               false,
               false,
               false,
               false,
               false,
               false,
               false,
               false,
               false,
               false,
               false,
               false,
               false,
               true
              ]
             }
            ],
            "label": "Preds Trace 6",
            "method": "update"
           },
           {
            "args": [
             {
              "visible": [
               false,
               false,
               false,
               false,
               false,
               false,
               true,
               false,
               false,
               false,
               false,
               false,
               false,
               false,
               false,
               false,
               false,
               false,
               false,
               false,
               false,
               false,
               false,
               false,
               false,
               false,
               false,
               false,
               false,
               false,
               false,
               false,
               false,
               false,
               false,
               false,
               false,
               false,
               false,
               false,
               false,
               false,
               false,
               false,
               false,
               false,
               false,
               false,
               false,
               false,
               false,
               false,
               true
              ]
             }
            ],
            "label": "Preds Trace 7",
            "method": "update"
           },
           {
            "args": [
             {
              "visible": [
               false,
               false,
               false,
               false,
               false,
               false,
               false,
               true,
               false,
               false,
               false,
               false,
               false,
               false,
               false,
               false,
               false,
               false,
               false,
               false,
               false,
               false,
               false,
               false,
               false,
               false,
               false,
               false,
               false,
               false,
               false,
               false,
               false,
               false,
               false,
               false,
               false,
               false,
               false,
               false,
               false,
               false,
               false,
               false,
               false,
               false,
               false,
               false,
               false,
               false,
               false,
               false,
               true
              ]
             }
            ],
            "label": "Preds Trace 8",
            "method": "update"
           },
           {
            "args": [
             {
              "visible": [
               false,
               false,
               false,
               false,
               false,
               false,
               false,
               false,
               true,
               false,
               false,
               false,
               false,
               false,
               false,
               false,
               false,
               false,
               false,
               false,
               false,
               false,
               false,
               false,
               false,
               false,
               false,
               false,
               false,
               false,
               false,
               false,
               false,
               false,
               false,
               false,
               false,
               false,
               false,
               false,
               false,
               false,
               false,
               false,
               false,
               false,
               false,
               false,
               false,
               false,
               false,
               false,
               true
              ]
             }
            ],
            "label": "Preds Trace 9",
            "method": "update"
           },
           {
            "args": [
             {
              "visible": [
               false,
               false,
               false,
               false,
               false,
               false,
               false,
               false,
               false,
               true,
               false,
               false,
               false,
               false,
               false,
               false,
               false,
               false,
               false,
               false,
               false,
               false,
               false,
               false,
               false,
               false,
               false,
               false,
               false,
               false,
               false,
               false,
               false,
               false,
               false,
               false,
               false,
               false,
               false,
               false,
               false,
               false,
               false,
               false,
               false,
               false,
               false,
               false,
               false,
               false,
               false,
               false,
               true
              ]
             }
            ],
            "label": "Preds Trace 10",
            "method": "update"
           },
           {
            "args": [
             {
              "visible": [
               false,
               false,
               false,
               false,
               false,
               false,
               false,
               false,
               false,
               false,
               true,
               false,
               false,
               false,
               false,
               false,
               false,
               false,
               false,
               false,
               false,
               false,
               false,
               false,
               false,
               false,
               false,
               false,
               false,
               false,
               false,
               false,
               false,
               false,
               false,
               false,
               false,
               false,
               false,
               false,
               false,
               false,
               false,
               false,
               false,
               false,
               false,
               false,
               false,
               false,
               false,
               false,
               true
              ]
             }
            ],
            "label": "Preds Trace 11",
            "method": "update"
           },
           {
            "args": [
             {
              "visible": [
               false,
               false,
               false,
               false,
               false,
               false,
               false,
               false,
               false,
               false,
               false,
               true,
               false,
               false,
               false,
               false,
               false,
               false,
               false,
               false,
               false,
               false,
               false,
               false,
               false,
               false,
               false,
               false,
               false,
               false,
               false,
               false,
               false,
               false,
               false,
               false,
               false,
               false,
               false,
               false,
               false,
               false,
               false,
               false,
               false,
               false,
               false,
               false,
               false,
               false,
               false,
               false,
               true
              ]
             }
            ],
            "label": "Preds Trace 12",
            "method": "update"
           },
           {
            "args": [
             {
              "visible": [
               false,
               false,
               false,
               false,
               false,
               false,
               false,
               false,
               false,
               false,
               false,
               false,
               true,
               false,
               false,
               false,
               false,
               false,
               false,
               false,
               false,
               false,
               false,
               false,
               false,
               false,
               false,
               false,
               false,
               false,
               false,
               false,
               false,
               false,
               false,
               false,
               false,
               false,
               false,
               false,
               false,
               false,
               false,
               false,
               false,
               false,
               false,
               false,
               false,
               false,
               false,
               false,
               true
              ]
             }
            ],
            "label": "Preds Trace 13",
            "method": "update"
           },
           {
            "args": [
             {
              "visible": [
               false,
               false,
               false,
               false,
               false,
               false,
               false,
               false,
               false,
               false,
               false,
               false,
               false,
               true,
               false,
               false,
               false,
               false,
               false,
               false,
               false,
               false,
               false,
               false,
               false,
               false,
               false,
               false,
               false,
               false,
               false,
               false,
               false,
               false,
               false,
               false,
               false,
               false,
               false,
               false,
               false,
               false,
               false,
               false,
               false,
               false,
               false,
               false,
               false,
               false,
               false,
               false,
               true
              ]
             }
            ],
            "label": "Preds Trace 14",
            "method": "update"
           },
           {
            "args": [
             {
              "visible": [
               false,
               false,
               false,
               false,
               false,
               false,
               false,
               false,
               false,
               false,
               false,
               false,
               false,
               false,
               true,
               false,
               false,
               false,
               false,
               false,
               false,
               false,
               false,
               false,
               false,
               false,
               false,
               false,
               false,
               false,
               false,
               false,
               false,
               false,
               false,
               false,
               false,
               false,
               false,
               false,
               false,
               false,
               false,
               false,
               false,
               false,
               false,
               false,
               false,
               false,
               false,
               false,
               true
              ]
             }
            ],
            "label": "Preds Trace 15",
            "method": "update"
           },
           {
            "args": [
             {
              "visible": [
               false,
               false,
               false,
               false,
               false,
               false,
               false,
               false,
               false,
               false,
               false,
               false,
               false,
               false,
               false,
               true,
               false,
               false,
               false,
               false,
               false,
               false,
               false,
               false,
               false,
               false,
               false,
               false,
               false,
               false,
               false,
               false,
               false,
               false,
               false,
               false,
               false,
               false,
               false,
               false,
               false,
               false,
               false,
               false,
               false,
               false,
               false,
               false,
               false,
               false,
               false,
               false,
               true
              ]
             }
            ],
            "label": "Preds Trace 16",
            "method": "update"
           },
           {
            "args": [
             {
              "visible": [
               false,
               false,
               false,
               false,
               false,
               false,
               false,
               false,
               false,
               false,
               false,
               false,
               false,
               false,
               false,
               false,
               true,
               false,
               false,
               false,
               false,
               false,
               false,
               false,
               false,
               false,
               false,
               false,
               false,
               false,
               false,
               false,
               false,
               false,
               false,
               false,
               false,
               false,
               false,
               false,
               false,
               false,
               false,
               false,
               false,
               false,
               false,
               false,
               false,
               false,
               false,
               false,
               true
              ]
             }
            ],
            "label": "Preds Trace 17",
            "method": "update"
           },
           {
            "args": [
             {
              "visible": [
               false,
               false,
               false,
               false,
               false,
               false,
               false,
               false,
               false,
               false,
               false,
               false,
               false,
               false,
               false,
               false,
               false,
               true,
               false,
               false,
               false,
               false,
               false,
               false,
               false,
               false,
               false,
               false,
               false,
               false,
               false,
               false,
               false,
               false,
               false,
               false,
               false,
               false,
               false,
               false,
               false,
               false,
               false,
               false,
               false,
               false,
               false,
               false,
               false,
               false,
               false,
               false,
               true
              ]
             }
            ],
            "label": "Preds Trace 18",
            "method": "update"
           },
           {
            "args": [
             {
              "visible": [
               false,
               false,
               false,
               false,
               false,
               false,
               false,
               false,
               false,
               false,
               false,
               false,
               false,
               false,
               false,
               false,
               false,
               false,
               true,
               false,
               false,
               false,
               false,
               false,
               false,
               false,
               false,
               false,
               false,
               false,
               false,
               false,
               false,
               false,
               false,
               false,
               false,
               false,
               false,
               false,
               false,
               false,
               false,
               false,
               false,
               false,
               false,
               false,
               false,
               false,
               false,
               false,
               true
              ]
             }
            ],
            "label": "Preds Trace 19",
            "method": "update"
           },
           {
            "args": [
             {
              "visible": [
               false,
               false,
               false,
               false,
               false,
               false,
               false,
               false,
               false,
               false,
               false,
               false,
               false,
               false,
               false,
               false,
               false,
               false,
               false,
               true,
               false,
               false,
               false,
               false,
               false,
               false,
               false,
               false,
               false,
               false,
               false,
               false,
               false,
               false,
               false,
               false,
               false,
               false,
               false,
               false,
               false,
               false,
               false,
               false,
               false,
               false,
               false,
               false,
               false,
               false,
               false,
               false,
               true
              ]
             }
            ],
            "label": "Preds Trace 20",
            "method": "update"
           },
           {
            "args": [
             {
              "visible": [
               false,
               false,
               false,
               false,
               false,
               false,
               false,
               false,
               false,
               false,
               false,
               false,
               false,
               false,
               false,
               false,
               false,
               false,
               false,
               false,
               true,
               false,
               false,
               false,
               false,
               false,
               false,
               false,
               false,
               false,
               false,
               false,
               false,
               false,
               false,
               false,
               false,
               false,
               false,
               false,
               false,
               false,
               false,
               false,
               false,
               false,
               false,
               false,
               false,
               false,
               false,
               false,
               true
              ]
             }
            ],
            "label": "Preds Trace 21",
            "method": "update"
           },
           {
            "args": [
             {
              "visible": [
               false,
               false,
               false,
               false,
               false,
               false,
               false,
               false,
               false,
               false,
               false,
               false,
               false,
               false,
               false,
               false,
               false,
               false,
               false,
               false,
               false,
               true,
               false,
               false,
               false,
               false,
               false,
               false,
               false,
               false,
               false,
               false,
               false,
               false,
               false,
               false,
               false,
               false,
               false,
               false,
               false,
               false,
               false,
               false,
               false,
               false,
               false,
               false,
               false,
               false,
               false,
               false,
               true
              ]
             }
            ],
            "label": "Preds Trace 22",
            "method": "update"
           },
           {
            "args": [
             {
              "visible": [
               false,
               false,
               false,
               false,
               false,
               false,
               false,
               false,
               false,
               false,
               false,
               false,
               false,
               false,
               false,
               false,
               false,
               false,
               false,
               false,
               false,
               false,
               true,
               false,
               false,
               false,
               false,
               false,
               false,
               false,
               false,
               false,
               false,
               false,
               false,
               false,
               false,
               false,
               false,
               false,
               false,
               false,
               false,
               false,
               false,
               false,
               false,
               false,
               false,
               false,
               false,
               false,
               true
              ]
             }
            ],
            "label": "Preds Trace 23",
            "method": "update"
           },
           {
            "args": [
             {
              "visible": [
               false,
               false,
               false,
               false,
               false,
               false,
               false,
               false,
               false,
               false,
               false,
               false,
               false,
               false,
               false,
               false,
               false,
               false,
               false,
               false,
               false,
               false,
               false,
               true,
               false,
               false,
               false,
               false,
               false,
               false,
               false,
               false,
               false,
               false,
               false,
               false,
               false,
               false,
               false,
               false,
               false,
               false,
               false,
               false,
               false,
               false,
               false,
               false,
               false,
               false,
               false,
               false,
               true
              ]
             }
            ],
            "label": "Preds Trace 24",
            "method": "update"
           },
           {
            "args": [
             {
              "visible": [
               false,
               false,
               false,
               false,
               false,
               false,
               false,
               false,
               false,
               false,
               false,
               false,
               false,
               false,
               false,
               false,
               false,
               false,
               false,
               false,
               false,
               false,
               false,
               false,
               true,
               false,
               false,
               false,
               false,
               false,
               false,
               false,
               false,
               false,
               false,
               false,
               false,
               false,
               false,
               false,
               false,
               false,
               false,
               false,
               false,
               false,
               false,
               false,
               false,
               false,
               false,
               false,
               true
              ]
             }
            ],
            "label": "Preds Trace 25",
            "method": "update"
           },
           {
            "args": [
             {
              "visible": [
               false,
               false,
               false,
               false,
               false,
               false,
               false,
               false,
               false,
               false,
               false,
               false,
               false,
               false,
               false,
               false,
               false,
               false,
               false,
               false,
               false,
               false,
               false,
               false,
               false,
               true,
               false,
               false,
               false,
               false,
               false,
               false,
               false,
               false,
               false,
               false,
               false,
               false,
               false,
               false,
               false,
               false,
               false,
               false,
               false,
               false,
               false,
               false,
               false,
               false,
               false,
               false,
               true
              ]
             }
            ],
            "label": "Preds Trace 26",
            "method": "update"
           },
           {
            "args": [
             {
              "visible": [
               false,
               false,
               false,
               false,
               false,
               false,
               false,
               false,
               false,
               false,
               false,
               false,
               false,
               false,
               false,
               false,
               false,
               false,
               false,
               false,
               false,
               false,
               false,
               false,
               false,
               false,
               true,
               false,
               false,
               false,
               false,
               false,
               false,
               false,
               false,
               false,
               false,
               false,
               false,
               false,
               false,
               false,
               false,
               false,
               false,
               false,
               false,
               false,
               false,
               false,
               false,
               false,
               true
              ]
             }
            ],
            "label": "Preds Trace 27",
            "method": "update"
           },
           {
            "args": [
             {
              "visible": [
               false,
               false,
               false,
               false,
               false,
               false,
               false,
               false,
               false,
               false,
               false,
               false,
               false,
               false,
               false,
               false,
               false,
               false,
               false,
               false,
               false,
               false,
               false,
               false,
               false,
               false,
               false,
               true,
               false,
               false,
               false,
               false,
               false,
               false,
               false,
               false,
               false,
               false,
               false,
               false,
               false,
               false,
               false,
               false,
               false,
               false,
               false,
               false,
               false,
               false,
               false,
               false,
               true
              ]
             }
            ],
            "label": "Preds Trace 28",
            "method": "update"
           },
           {
            "args": [
             {
              "visible": [
               false,
               false,
               false,
               false,
               false,
               false,
               false,
               false,
               false,
               false,
               false,
               false,
               false,
               false,
               false,
               false,
               false,
               false,
               false,
               false,
               false,
               false,
               false,
               false,
               false,
               false,
               false,
               false,
               true,
               false,
               false,
               false,
               false,
               false,
               false,
               false,
               false,
               false,
               false,
               false,
               false,
               false,
               false,
               false,
               false,
               false,
               false,
               false,
               false,
               false,
               false,
               false,
               true
              ]
             }
            ],
            "label": "Preds Trace 29",
            "method": "update"
           },
           {
            "args": [
             {
              "visible": [
               false,
               false,
               false,
               false,
               false,
               false,
               false,
               false,
               false,
               false,
               false,
               false,
               false,
               false,
               false,
               false,
               false,
               false,
               false,
               false,
               false,
               false,
               false,
               false,
               false,
               false,
               false,
               false,
               false,
               true,
               false,
               false,
               false,
               false,
               false,
               false,
               false,
               false,
               false,
               false,
               false,
               false,
               false,
               false,
               false,
               false,
               false,
               false,
               false,
               false,
               false,
               false,
               true
              ]
             }
            ],
            "label": "Preds Trace 30",
            "method": "update"
           },
           {
            "args": [
             {
              "visible": [
               false,
               false,
               false,
               false,
               false,
               false,
               false,
               false,
               false,
               false,
               false,
               false,
               false,
               false,
               false,
               false,
               false,
               false,
               false,
               false,
               false,
               false,
               false,
               false,
               false,
               false,
               false,
               false,
               false,
               false,
               true,
               false,
               false,
               false,
               false,
               false,
               false,
               false,
               false,
               false,
               false,
               false,
               false,
               false,
               false,
               false,
               false,
               false,
               false,
               false,
               false,
               false,
               true
              ]
             }
            ],
            "label": "Preds Trace 31",
            "method": "update"
           },
           {
            "args": [
             {
              "visible": [
               false,
               false,
               false,
               false,
               false,
               false,
               false,
               false,
               false,
               false,
               false,
               false,
               false,
               false,
               false,
               false,
               false,
               false,
               false,
               false,
               false,
               false,
               false,
               false,
               false,
               false,
               false,
               false,
               false,
               false,
               false,
               true,
               false,
               false,
               false,
               false,
               false,
               false,
               false,
               false,
               false,
               false,
               false,
               false,
               false,
               false,
               false,
               false,
               false,
               false,
               false,
               false,
               true
              ]
             }
            ],
            "label": "Preds Trace 32",
            "method": "update"
           },
           {
            "args": [
             {
              "visible": [
               false,
               false,
               false,
               false,
               false,
               false,
               false,
               false,
               false,
               false,
               false,
               false,
               false,
               false,
               false,
               false,
               false,
               false,
               false,
               false,
               false,
               false,
               false,
               false,
               false,
               false,
               false,
               false,
               false,
               false,
               false,
               false,
               true,
               false,
               false,
               false,
               false,
               false,
               false,
               false,
               false,
               false,
               false,
               false,
               false,
               false,
               false,
               false,
               false,
               false,
               false,
               false,
               true
              ]
             }
            ],
            "label": "Preds Trace 33",
            "method": "update"
           },
           {
            "args": [
             {
              "visible": [
               false,
               false,
               false,
               false,
               false,
               false,
               false,
               false,
               false,
               false,
               false,
               false,
               false,
               false,
               false,
               false,
               false,
               false,
               false,
               false,
               false,
               false,
               false,
               false,
               false,
               false,
               false,
               false,
               false,
               false,
               false,
               false,
               false,
               true,
               false,
               false,
               false,
               false,
               false,
               false,
               false,
               false,
               false,
               false,
               false,
               false,
               false,
               false,
               false,
               false,
               false,
               false,
               true
              ]
             }
            ],
            "label": "Preds Trace 34",
            "method": "update"
           },
           {
            "args": [
             {
              "visible": [
               false,
               false,
               false,
               false,
               false,
               false,
               false,
               false,
               false,
               false,
               false,
               false,
               false,
               false,
               false,
               false,
               false,
               false,
               false,
               false,
               false,
               false,
               false,
               false,
               false,
               false,
               false,
               false,
               false,
               false,
               false,
               false,
               false,
               false,
               true,
               false,
               false,
               false,
               false,
               false,
               false,
               false,
               false,
               false,
               false,
               false,
               false,
               false,
               false,
               false,
               false,
               false,
               true
              ]
             }
            ],
            "label": "Preds Trace 35",
            "method": "update"
           },
           {
            "args": [
             {
              "visible": [
               false,
               false,
               false,
               false,
               false,
               false,
               false,
               false,
               false,
               false,
               false,
               false,
               false,
               false,
               false,
               false,
               false,
               false,
               false,
               false,
               false,
               false,
               false,
               false,
               false,
               false,
               false,
               false,
               false,
               false,
               false,
               false,
               false,
               false,
               false,
               true,
               false,
               false,
               false,
               false,
               false,
               false,
               false,
               false,
               false,
               false,
               false,
               false,
               false,
               false,
               false,
               false,
               true
              ]
             }
            ],
            "label": "Preds Trace 36",
            "method": "update"
           },
           {
            "args": [
             {
              "visible": [
               false,
               false,
               false,
               false,
               false,
               false,
               false,
               false,
               false,
               false,
               false,
               false,
               false,
               false,
               false,
               false,
               false,
               false,
               false,
               false,
               false,
               false,
               false,
               false,
               false,
               false,
               false,
               false,
               false,
               false,
               false,
               false,
               false,
               false,
               false,
               false,
               true,
               false,
               false,
               false,
               false,
               false,
               false,
               false,
               false,
               false,
               false,
               false,
               false,
               false,
               false,
               false,
               true
              ]
             }
            ],
            "label": "Preds Trace 37",
            "method": "update"
           },
           {
            "args": [
             {
              "visible": [
               false,
               false,
               false,
               false,
               false,
               false,
               false,
               false,
               false,
               false,
               false,
               false,
               false,
               false,
               false,
               false,
               false,
               false,
               false,
               false,
               false,
               false,
               false,
               false,
               false,
               false,
               false,
               false,
               false,
               false,
               false,
               false,
               false,
               false,
               false,
               false,
               false,
               true,
               false,
               false,
               false,
               false,
               false,
               false,
               false,
               false,
               false,
               false,
               false,
               false,
               false,
               false,
               true
              ]
             }
            ],
            "label": "Preds Trace 38",
            "method": "update"
           },
           {
            "args": [
             {
              "visible": [
               false,
               false,
               false,
               false,
               false,
               false,
               false,
               false,
               false,
               false,
               false,
               false,
               false,
               false,
               false,
               false,
               false,
               false,
               false,
               false,
               false,
               false,
               false,
               false,
               false,
               false,
               false,
               false,
               false,
               false,
               false,
               false,
               false,
               false,
               false,
               false,
               false,
               false,
               true,
               false,
               false,
               false,
               false,
               false,
               false,
               false,
               false,
               false,
               false,
               false,
               false,
               false,
               true
              ]
             }
            ],
            "label": "Preds Trace 39",
            "method": "update"
           },
           {
            "args": [
             {
              "visible": [
               false,
               false,
               false,
               false,
               false,
               false,
               false,
               false,
               false,
               false,
               false,
               false,
               false,
               false,
               false,
               false,
               false,
               false,
               false,
               false,
               false,
               false,
               false,
               false,
               false,
               false,
               false,
               false,
               false,
               false,
               false,
               false,
               false,
               false,
               false,
               false,
               false,
               false,
               false,
               true,
               false,
               false,
               false,
               false,
               false,
               false,
               false,
               false,
               false,
               false,
               false,
               false,
               true
              ]
             }
            ],
            "label": "Preds Trace 40",
            "method": "update"
           },
           {
            "args": [
             {
              "visible": [
               false,
               false,
               false,
               false,
               false,
               false,
               false,
               false,
               false,
               false,
               false,
               false,
               false,
               false,
               false,
               false,
               false,
               false,
               false,
               false,
               false,
               false,
               false,
               false,
               false,
               false,
               false,
               false,
               false,
               false,
               false,
               false,
               false,
               false,
               false,
               false,
               false,
               false,
               false,
               false,
               true,
               false,
               false,
               false,
               false,
               false,
               false,
               false,
               false,
               false,
               false,
               false,
               true
              ]
             }
            ],
            "label": "Preds Trace 41",
            "method": "update"
           },
           {
            "args": [
             {
              "visible": [
               false,
               false,
               false,
               false,
               false,
               false,
               false,
               false,
               false,
               false,
               false,
               false,
               false,
               false,
               false,
               false,
               false,
               false,
               false,
               false,
               false,
               false,
               false,
               false,
               false,
               false,
               false,
               false,
               false,
               false,
               false,
               false,
               false,
               false,
               false,
               false,
               false,
               false,
               false,
               false,
               false,
               true,
               false,
               false,
               false,
               false,
               false,
               false,
               false,
               false,
               false,
               false,
               true
              ]
             }
            ],
            "label": "Preds Trace 42",
            "method": "update"
           },
           {
            "args": [
             {
              "visible": [
               false,
               false,
               false,
               false,
               false,
               false,
               false,
               false,
               false,
               false,
               false,
               false,
               false,
               false,
               false,
               false,
               false,
               false,
               false,
               false,
               false,
               false,
               false,
               false,
               false,
               false,
               false,
               false,
               false,
               false,
               false,
               false,
               false,
               false,
               false,
               false,
               false,
               false,
               false,
               false,
               false,
               false,
               true,
               false,
               false,
               false,
               false,
               false,
               false,
               false,
               false,
               false,
               true
              ]
             }
            ],
            "label": "Preds Trace 43",
            "method": "update"
           },
           {
            "args": [
             {
              "visible": [
               false,
               false,
               false,
               false,
               false,
               false,
               false,
               false,
               false,
               false,
               false,
               false,
               false,
               false,
               false,
               false,
               false,
               false,
               false,
               false,
               false,
               false,
               false,
               false,
               false,
               false,
               false,
               false,
               false,
               false,
               false,
               false,
               false,
               false,
               false,
               false,
               false,
               false,
               false,
               false,
               false,
               false,
               false,
               true,
               false,
               false,
               false,
               false,
               false,
               false,
               false,
               false,
               true
              ]
             }
            ],
            "label": "Preds Trace 44",
            "method": "update"
           },
           {
            "args": [
             {
              "visible": [
               false,
               false,
               false,
               false,
               false,
               false,
               false,
               false,
               false,
               false,
               false,
               false,
               false,
               false,
               false,
               false,
               false,
               false,
               false,
               false,
               false,
               false,
               false,
               false,
               false,
               false,
               false,
               false,
               false,
               false,
               false,
               false,
               false,
               false,
               false,
               false,
               false,
               false,
               false,
               false,
               false,
               false,
               false,
               false,
               true,
               false,
               false,
               false,
               false,
               false,
               false,
               false,
               true
              ]
             }
            ],
            "label": "Preds Trace 45",
            "method": "update"
           },
           {
            "args": [
             {
              "visible": [
               false,
               false,
               false,
               false,
               false,
               false,
               false,
               false,
               false,
               false,
               false,
               false,
               false,
               false,
               false,
               false,
               false,
               false,
               false,
               false,
               false,
               false,
               false,
               false,
               false,
               false,
               false,
               false,
               false,
               false,
               false,
               false,
               false,
               false,
               false,
               false,
               false,
               false,
               false,
               false,
               false,
               false,
               false,
               false,
               false,
               true,
               false,
               false,
               false,
               false,
               false,
               false,
               true
              ]
             }
            ],
            "label": "Preds Trace 46",
            "method": "update"
           },
           {
            "args": [
             {
              "visible": [
               false,
               false,
               false,
               false,
               false,
               false,
               false,
               false,
               false,
               false,
               false,
               false,
               false,
               false,
               false,
               false,
               false,
               false,
               false,
               false,
               false,
               false,
               false,
               false,
               false,
               false,
               false,
               false,
               false,
               false,
               false,
               false,
               false,
               false,
               false,
               false,
               false,
               false,
               false,
               false,
               false,
               false,
               false,
               false,
               false,
               false,
               true,
               false,
               false,
               false,
               false,
               false,
               true
              ]
             }
            ],
            "label": "Preds Trace 47",
            "method": "update"
           },
           {
            "args": [
             {
              "visible": [
               false,
               false,
               false,
               false,
               false,
               false,
               false,
               false,
               false,
               false,
               false,
               false,
               false,
               false,
               false,
               false,
               false,
               false,
               false,
               false,
               false,
               false,
               false,
               false,
               false,
               false,
               false,
               false,
               false,
               false,
               false,
               false,
               false,
               false,
               false,
               false,
               false,
               false,
               false,
               false,
               false,
               false,
               false,
               false,
               false,
               false,
               false,
               true,
               false,
               false,
               false,
               false,
               true
              ]
             }
            ],
            "label": "Preds Trace 48",
            "method": "update"
           },
           {
            "args": [
             {
              "visible": [
               false,
               false,
               false,
               false,
               false,
               false,
               false,
               false,
               false,
               false,
               false,
               false,
               false,
               false,
               false,
               false,
               false,
               false,
               false,
               false,
               false,
               false,
               false,
               false,
               false,
               false,
               false,
               false,
               false,
               false,
               false,
               false,
               false,
               false,
               false,
               false,
               false,
               false,
               false,
               false,
               false,
               false,
               false,
               false,
               false,
               false,
               false,
               false,
               true,
               false,
               false,
               false,
               true
              ]
             }
            ],
            "label": "Preds Trace 49",
            "method": "update"
           },
           {
            "args": [
             {
              "visible": [
               false,
               false,
               false,
               false,
               false,
               false,
               false,
               false,
               false,
               false,
               false,
               false,
               false,
               false,
               false,
               false,
               false,
               false,
               false,
               false,
               false,
               false,
               false,
               false,
               false,
               false,
               false,
               false,
               false,
               false,
               false,
               false,
               false,
               false,
               false,
               false,
               false,
               false,
               false,
               false,
               false,
               false,
               false,
               false,
               false,
               false,
               false,
               false,
               false,
               true,
               false,
               false,
               true
              ]
             }
            ],
            "label": "Preds Trace 50",
            "method": "update"
           },
           {
            "args": [
             {
              "visible": [
               false,
               false,
               false,
               false,
               false,
               false,
               false,
               false,
               false,
               false,
               false,
               false,
               false,
               false,
               false,
               false,
               false,
               false,
               false,
               false,
               false,
               false,
               false,
               false,
               false,
               false,
               false,
               false,
               false,
               false,
               false,
               false,
               false,
               false,
               false,
               false,
               false,
               false,
               false,
               false,
               false,
               false,
               false,
               false,
               false,
               false,
               false,
               false,
               false,
               false,
               true,
               false,
               true
              ]
             }
            ],
            "label": "Preds Trace 51",
            "method": "update"
           },
           {
            "args": [
             {
              "visible": [
               false,
               false,
               false,
               false,
               false,
               false,
               false,
               false,
               false,
               false,
               false,
               false,
               false,
               false,
               false,
               false,
               false,
               false,
               false,
               false,
               false,
               false,
               false,
               false,
               false,
               false,
               false,
               false,
               false,
               false,
               false,
               false,
               false,
               false,
               false,
               false,
               false,
               false,
               false,
               false,
               false,
               false,
               false,
               false,
               false,
               false,
               false,
               false,
               false,
               false,
               false,
               true,
               true
              ]
             }
            ],
            "label": "Preds Trace 52",
            "method": "update"
           }
          ]
         }
        ],
        "template": {
         "data": {
          "candlestick": [
           {
            "decreasing": {
             "line": {
              "color": "#000033"
             }
            },
            "increasing": {
             "line": {
              "color": "#000032"
             }
            },
            "type": "candlestick"
           }
          ],
          "contour": [
           {
            "colorscale": [
             [
              0,
              "#000011"
             ],
             [
              0.1111111111111111,
              "#000012"
             ],
             [
              0.2222222222222222,
              "#000013"
             ],
             [
              0.3333333333333333,
              "#000014"
             ],
             [
              0.4444444444444444,
              "#000015"
             ],
             [
              0.5555555555555556,
              "#000016"
             ],
             [
              0.6666666666666666,
              "#000017"
             ],
             [
              0.7777777777777778,
              "#000018"
             ],
             [
              0.8888888888888888,
              "#000019"
             ],
             [
              1,
              "#000020"
             ]
            ],
            "type": "contour"
           }
          ],
          "contourcarpet": [
           {
            "colorscale": [
             [
              0,
              "#000011"
             ],
             [
              0.1111111111111111,
              "#000012"
             ],
             [
              0.2222222222222222,
              "#000013"
             ],
             [
              0.3333333333333333,
              "#000014"
             ],
             [
              0.4444444444444444,
              "#000015"
             ],
             [
              0.5555555555555556,
              "#000016"
             ],
             [
              0.6666666666666666,
              "#000017"
             ],
             [
              0.7777777777777778,
              "#000018"
             ],
             [
              0.8888888888888888,
              "#000019"
             ],
             [
              1,
              "#000020"
             ]
            ],
            "type": "contourcarpet"
           }
          ],
          "heatmap": [
           {
            "colorscale": [
             [
              0,
              "#000011"
             ],
             [
              0.1111111111111111,
              "#000012"
             ],
             [
              0.2222222222222222,
              "#000013"
             ],
             [
              0.3333333333333333,
              "#000014"
             ],
             [
              0.4444444444444444,
              "#000015"
             ],
             [
              0.5555555555555556,
              "#000016"
             ],
             [
              0.6666666666666666,
              "#000017"
             ],
             [
              0.7777777777777778,
              "#000018"
             ],
             [
              0.8888888888888888,
              "#000019"
             ],
             [
              1,
              "#000020"
             ]
            ],
            "type": "heatmap"
           }
          ],
          "histogram2d": [
           {
            "colorscale": [
             [
              0,
              "#000011"
             ],
             [
              0.1111111111111111,
              "#000012"
             ],
             [
              0.2222222222222222,
              "#000013"
             ],
             [
              0.3333333333333333,
              "#000014"
             ],
             [
              0.4444444444444444,
              "#000015"
             ],
             [
              0.5555555555555556,
              "#000016"
             ],
             [
              0.6666666666666666,
              "#000017"
             ],
             [
              0.7777777777777778,
              "#000018"
             ],
             [
              0.8888888888888888,
              "#000019"
             ],
             [
              1,
              "#000020"
             ]
            ],
            "type": "histogram2d"
           }
          ],
          "icicle": [
           {
            "textfont": {
             "color": "white"
            },
            "type": "icicle"
           }
          ],
          "sankey": [
           {
            "textfont": {
             "color": "#000036"
            },
            "type": "sankey"
           }
          ],
          "scatter": [
           {
            "marker": {
             "line": {
              "width": 0
             }
            },
            "type": "scatter"
           }
          ],
          "table": [
           {
            "cells": {
             "fill": {
              "color": "#000038"
             },
             "font": {
              "color": "#000037"
             },
             "line": {
              "color": "#000039"
             }
            },
            "header": {
             "fill": {
              "color": "#000040"
             },
             "font": {
              "color": "#000036"
             },
             "line": {
              "color": "#000039"
             }
            },
            "type": "table"
           }
          ],
          "waterfall": [
           {
            "connector": {
             "line": {
              "color": "#000036",
              "width": 2
             }
            },
            "decreasing": {
             "marker": {
              "color": "#000033"
             }
            },
            "increasing": {
             "marker": {
              "color": "#000032"
             }
            },
            "totals": {
             "marker": {
              "color": "#000034"
             }
            },
            "type": "waterfall"
           }
          ]
         },
         "layout": {
          "coloraxis": {
           "colorscale": [
            [
             0,
             "#000011"
            ],
            [
             0.1111111111111111,
             "#000012"
            ],
            [
             0.2222222222222222,
             "#000013"
            ],
            [
             0.3333333333333333,
             "#000014"
            ],
            [
             0.4444444444444444,
             "#000015"
            ],
            [
             0.5555555555555556,
             "#000016"
            ],
            [
             0.6666666666666666,
             "#000017"
            ],
            [
             0.7777777777777778,
             "#000018"
            ],
            [
             0.8888888888888888,
             "#000019"
            ],
            [
             1,
             "#000020"
            ]
           ]
          },
          "colorscale": {
           "diverging": [
            [
             0,
             "#000021"
            ],
            [
             0.1,
             "#000022"
            ],
            [
             0.2,
             "#000023"
            ],
            [
             0.3,
             "#000024"
            ],
            [
             0.4,
             "#000025"
            ],
            [
             0.5,
             "#000026"
            ],
            [
             0.6,
             "#000027"
            ],
            [
             0.7,
             "#000028"
            ],
            [
             0.8,
             "#000029"
            ],
            [
             0.9,
             "#000030"
            ],
            [
             1,
             "#000031"
            ]
           ],
           "sequential": [
            [
             0,
             "#000011"
            ],
            [
             0.1111111111111111,
             "#000012"
            ],
            [
             0.2222222222222222,
             "#000013"
            ],
            [
             0.3333333333333333,
             "#000014"
            ],
            [
             0.4444444444444444,
             "#000015"
            ],
            [
             0.5555555555555556,
             "#000016"
            ],
            [
             0.6666666666666666,
             "#000017"
            ],
            [
             0.7777777777777778,
             "#000018"
            ],
            [
             0.8888888888888888,
             "#000019"
            ],
            [
             1,
             "#000020"
            ]
           ],
           "sequentialminus": [
            [
             0,
             "#000011"
            ],
            [
             0.1111111111111111,
             "#000012"
            ],
            [
             0.2222222222222222,
             "#000013"
            ],
            [
             0.3333333333333333,
             "#000014"
            ],
            [
             0.4444444444444444,
             "#000015"
            ],
            [
             0.5555555555555556,
             "#000016"
            ],
            [
             0.6666666666666666,
             "#000017"
            ],
            [
             0.7777777777777778,
             "#000018"
            ],
            [
             0.8888888888888888,
             "#000019"
            ],
            [
             1,
             "#000020"
            ]
           ]
          },
          "colorway": [
           "#000001",
           "#000002",
           "#000003",
           "#000004",
           "#000005",
           "#000006",
           "#000007",
           "#000008",
           "#000009",
           "#000010"
          ]
         }
        },
        "title": {
         "text": "Predictions and Actuals"
        },
        "xaxis": {
         "title": {
          "text": "Time Step"
         }
        },
        "yaxis": {
         "range": [
          0,
          117516.13295173645
         ],
         "title": {
          "text": "Values"
         }
        }
       }
      }
     },
     "metadata": {},
     "output_type": "display_data"
    }
   ],
   "source": [
    "graphs.graph_harvest(preds_kilo,actual_kilos)"
   ]
  },
  {
   "cell_type": "code",
   "execution_count": null,
   "id": "9613f6bd",
   "metadata": {},
   "outputs": [],
   "source": []
  },
  {
   "cell_type": "code",
   "execution_count": 41,
   "id": "7197d7b0",
   "metadata": {},
   "outputs": [
    {
     "data": {
      "text/plain": [
       "(176, 40)"
      ]
     },
     "execution_count": 41,
     "metadata": {},
     "output_type": "execute_result"
    }
   ],
   "source": [
    "actual_kilos.shape"
   ]
  },
  {
   "cell_type": "code",
   "execution_count": null,
   "id": "3559ad09",
   "metadata": {},
   "outputs": [],
   "source": [
    "preds = preds_kilo\n",
    "actuals = actual_kilos\n"
   ]
  },
  {
   "cell_type": "code",
   "execution_count": 36,
   "id": "301538e8",
   "metadata": {},
   "outputs": [],
   "source": [
    "graph_dict, summary_class,idx_dict = demo.create_harvest_curves(preds,actuals,plan)"
   ]
  },
  {
   "cell_type": "code",
   "execution_count": 37,
   "id": "88a1ba18",
   "metadata": {},
   "outputs": [
    {
     "data": {
      "text/html": [
       "<div>\n",
       "<style scoped>\n",
       "    .dataframe tbody tr th:only-of-type {\n",
       "        vertical-align: middle;\n",
       "    }\n",
       "\n",
       "    .dataframe tbody tr th {\n",
       "        vertical-align: top;\n",
       "    }\n",
       "\n",
       "    .dataframe thead tr th {\n",
       "        text-align: left;\n",
       "    }\n",
       "\n",
       "    .dataframe thead tr:last-of-type th {\n",
       "        text-align: right;\n",
       "    }\n",
       "</style>\n",
       "<table border=\"1\" class=\"dataframe\">\n",
       "  <thead>\n",
       "    <tr>\n",
       "      <th></th>\n",
       "      <th></th>\n",
       "      <th>Ha</th>\n",
       "      <th colspan=\"3\" halign=\"left\">WeekTransplanted</th>\n",
       "      <th>ProducerCode</th>\n",
       "      <th>KilosReceived</th>\n",
       "      <th>FinalPreds</th>\n",
       "      <th>InitialPreds</th>\n",
       "    </tr>\n",
       "    <tr>\n",
       "      <th></th>\n",
       "      <th></th>\n",
       "      <th>sum</th>\n",
       "      <th>min</th>\n",
       "      <th>max</th>\n",
       "      <th>nunique</th>\n",
       "      <th>nunique</th>\n",
       "      <th></th>\n",
       "      <th></th>\n",
       "      <th></th>\n",
       "    </tr>\n",
       "    <tr>\n",
       "      <th>Class</th>\n",
       "      <th>Type</th>\n",
       "      <th></th>\n",
       "      <th></th>\n",
       "      <th></th>\n",
       "      <th></th>\n",
       "      <th></th>\n",
       "      <th></th>\n",
       "      <th></th>\n",
       "      <th></th>\n",
       "    </tr>\n",
       "  </thead>\n",
       "  <tbody>\n",
       "    <tr>\n",
       "      <th rowspan=\"2\" valign=\"top\">BSUF</th>\n",
       "      <th>Uva Amarilla</th>\n",
       "      <td>3.6850</td>\n",
       "      <td>6</td>\n",
       "      <td>30</td>\n",
       "      <td>17</td>\n",
       "      <td>6</td>\n",
       "      <td>38798.0</td>\n",
       "      <td>8.622735e+04</td>\n",
       "      <td>1.082421e+05</td>\n",
       "    </tr>\n",
       "    <tr>\n",
       "      <th>Uva Roja</th>\n",
       "      <td>29.7352</td>\n",
       "      <td>4</td>\n",
       "      <td>31</td>\n",
       "      <td>19</td>\n",
       "      <td>6</td>\n",
       "      <td>777107.0</td>\n",
       "      <td>1.323854e+06</td>\n",
       "      <td>1.592491e+06</td>\n",
       "    </tr>\n",
       "    <tr>\n",
       "      <th rowspan=\"5\" valign=\"top\">CHE</th>\n",
       "      <th>Cherry Naranja</th>\n",
       "      <td>1.0469</td>\n",
       "      <td>6</td>\n",
       "      <td>30</td>\n",
       "      <td>11</td>\n",
       "      <td>6</td>\n",
       "      <td>9922.0</td>\n",
       "      <td>2.545254e+04</td>\n",
       "      <td>4.045623e+04</td>\n",
       "    </tr>\n",
       "    <tr>\n",
       "      <th>Cherry Rojo</th>\n",
       "      <td>19.9773</td>\n",
       "      <td>4</td>\n",
       "      <td>31</td>\n",
       "      <td>15</td>\n",
       "      <td>6</td>\n",
       "      <td>515662.0</td>\n",
       "      <td>1.020323e+06</td>\n",
       "      <td>7.827999e+05</td>\n",
       "    </tr>\n",
       "    <tr>\n",
       "      <th>Cherry Rosa</th>\n",
       "      <td>4.2565</td>\n",
       "      <td>6</td>\n",
       "      <td>30</td>\n",
       "      <td>15</td>\n",
       "      <td>6</td>\n",
       "      <td>60963.0</td>\n",
       "      <td>8.273124e+04</td>\n",
       "      <td>1.154694e+05</td>\n",
       "    </tr>\n",
       "    <tr>\n",
       "      <th>Pera Amarilla</th>\n",
       "      <td>1.6648</td>\n",
       "      <td>6</td>\n",
       "      <td>30</td>\n",
       "      <td>12</td>\n",
       "      <td>6</td>\n",
       "      <td>10834.0</td>\n",
       "      <td>2.727216e+04</td>\n",
       "      <td>3.729375e+04</td>\n",
       "    </tr>\n",
       "    <tr>\n",
       "      <th>Pera Roja</th>\n",
       "      <td>1.3811</td>\n",
       "      <td>6</td>\n",
       "      <td>30</td>\n",
       "      <td>11</td>\n",
       "      <td>6</td>\n",
       "      <td>6138.0</td>\n",
       "      <td>2.524148e+04</td>\n",
       "      <td>4.843053e+04</td>\n",
       "    </tr>\n",
       "  </tbody>\n",
       "</table>\n",
       "</div>"
      ],
      "text/plain": [
       "                           Ha WeekTransplanted             ProducerCode  \\\n",
       "                          sum              min max nunique      nunique   \n",
       "Class Type                                                                \n",
       "BSUF  Uva Amarilla     3.6850                6  30      17            6   \n",
       "      Uva Roja        29.7352                4  31      19            6   \n",
       "CHE   Cherry Naranja   1.0469                6  30      11            6   \n",
       "      Cherry Rojo     19.9773                4  31      15            6   \n",
       "      Cherry Rosa      4.2565                6  30      15            6   \n",
       "      Pera Amarilla    1.6648                6  30      12            6   \n",
       "      Pera Roja        1.3811                6  30      11            6   \n",
       "\n",
       "                     KilosReceived    FinalPreds  InitialPreds  \n",
       "                                                                \n",
       "Class Type                                                      \n",
       "BSUF  Uva Amarilla         38798.0  8.622735e+04  1.082421e+05  \n",
       "      Uva Roja            777107.0  1.323854e+06  1.592491e+06  \n",
       "CHE   Cherry Naranja        9922.0  2.545254e+04  4.045623e+04  \n",
       "      Cherry Rojo         515662.0  1.020323e+06  7.827999e+05  \n",
       "      Cherry Rosa          60963.0  8.273124e+04  1.154694e+05  \n",
       "      Pera Amarilla        10834.0  2.727216e+04  3.729375e+04  \n",
       "      Pera Roja             6138.0  2.524148e+04  4.843053e+04  "
      ]
     },
     "execution_count": 37,
     "metadata": {},
     "output_type": "execute_result"
    }
   ],
   "source": [
    "summary_class"
   ]
  },
  {
   "cell_type": "code",
   "execution_count": null,
   "id": "130c88a6",
   "metadata": {},
   "outputs": [],
   "source": []
  }
 ],
 "metadata": {
  "kernelspec": {
   "display_name": "cherry",
   "language": "python",
   "name": "python3"
  },
  "language_info": {
   "codemirror_mode": {
    "name": "ipython",
    "version": 3
   },
   "file_extension": ".py",
   "mimetype": "text/x-python",
   "name": "python",
   "nbconvert_exporter": "python",
   "pygments_lexer": "ipython3",
   "version": "3.10.15"
  }
 },
 "nbformat": 4,
 "nbformat_minor": 5
}
