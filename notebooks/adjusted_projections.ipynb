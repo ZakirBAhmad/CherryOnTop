{
 "cells": [
  {
   "cell_type": "markdown",
   "metadata": {},
   "source": [
    "imports"
   ]
  },
  {
   "cell_type": "code",
   "execution_count": 2,
   "metadata": {},
   "outputs": [],
   "source": [
    "import sys\n",
    "import os\n",
    "\n",
    "# Add the parent directory to sys.path\n",
    "sys.path.append(os.path.abspath('..'))\n"
   ]
  },
  {
   "cell_type": "code",
   "execution_count": 3,
   "metadata": {},
   "outputs": [],
   "source": [
    "import numpy as np\n",
    "import pandas as pd\n",
    "\n",
    "import src.preprocessing as pre\n",
    "import src.utils as utils\n",
    "import src.table as table\n",
    "import src.graphs as graphs"
   ]
  },
  {
   "cell_type": "markdown",
   "metadata": {},
   "source": [
    "initialize shit"
   ]
  },
  {
   "cell_type": "markdown",
   "metadata": {},
   "source": [
    "full season totals"
   ]
  },
  {
   "cell_type": "markdown",
   "metadata": {},
   "source": [
    "received only harvest cycle"
   ]
  },
  {
   "cell_type": "markdown",
   "metadata": {},
   "source": [
    "total harvest cycle"
   ]
  },
  {
   "cell_type": "markdown",
   "metadata": {},
   "source": [
    "table summary, important stats, % expected, amount received, adjusted %, initial predictions, final predictions, totals by class, tomato type"
   ]
  },
  {
   "cell_type": "markdown",
   "metadata": {},
   "source": [
    "by class"
   ]
  },
  {
   "cell_type": "markdown",
   "metadata": {},
   "source": [
    "by type"
   ]
  },
  {
   "cell_type": "markdown",
   "metadata": {},
   "source": [
    "by ranch, all 3 and table"
   ]
  }
 ],
 "metadata": {
  "kernelspec": {
   "display_name": "cherry",
   "language": "python",
   "name": "python3"
  },
  "language_info": {
   "codemirror_mode": {
    "name": "ipython",
    "version": 3
   },
   "file_extension": ".py",
   "mimetype": "text/x-python",
   "name": "python",
   "nbconvert_exporter": "python",
   "pygments_lexer": "ipython3",
   "version": "3.10.15"
  }
 },
 "nbformat": 4,
 "nbformat_minor": 2
}
