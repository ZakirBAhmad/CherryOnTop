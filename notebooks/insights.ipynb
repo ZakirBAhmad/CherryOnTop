{
 "cells": [
  {
   "cell_type": "markdown",
   "metadata": {},
   "source": [
    "imports"
   ]
  },
  {
   "cell_type": "markdown",
   "metadata": {},
   "source": [
    "initialization"
   ]
  },
  {
   "cell_type": "markdown",
   "metadata": {},
   "source": [
    "which types are performing better at which ranches, which ones are coming earlier"
   ]
  },
  {
   "cell_type": "markdown",
   "metadata": {},
   "source": [
    "test batches"
   ]
  },
  {
   "cell_type": "markdown",
   "metadata": {},
   "source": [
    "trends in harvest"
   ]
  },
  {
   "cell_type": "markdown",
   "metadata": {},
   "source": [
    "% box yield"
   ]
  },
  {
   "cell_type": "markdown",
   "metadata": {},
   "source": [
    "historical yield, type breakdown"
   ]
  },
  {
   "cell_type": "markdown",
   "metadata": {},
   "source": [
    "small batches vs larger batches"
   ]
  },
  {
   "cell_type": "markdown",
   "metadata": {},
   "source": [
    "maybe i can do a matching study, idk"
   ]
  },
  {
   "cell_type": "markdown",
   "metadata": {},
   "source": [
    "plots over performing/underperforming"
   ]
  },
  {
   "cell_type": "markdown",
   "metadata": {},
   "source": [
    "temperature insights"
   ]
  },
  {
   "cell_type": "markdown",
   "metadata": {},
   "source": [
    "comparison to other years"
   ]
  },
  {
   "cell_type": "markdown",
   "metadata": {},
   "source": []
  }
 ],
 "metadata": {
  "language_info": {
   "name": "python"
  }
 },
 "nbformat": 4,
 "nbformat_minor": 2
}
