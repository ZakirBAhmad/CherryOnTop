{
 "cells": [
  {
   "cell_type": "code",
   "execution_count": 1,
   "metadata": {},
   "outputs": [],
   "source": [
    "import sys\n",
    "import os\n",
    "\n",
    "# Add the parent directory to sys.path\n",
    "sys.path.append(os.path.abspath('..'))"
   ]
  },
  {
   "cell_type": "code",
   "execution_count": 2,
   "metadata": {},
   "outputs": [],
   "source": [
    "import src.load as load\n",
    "import src.dataset as ds\n",
    "import numpy as np\n",
    "import pandas as pd\n",
    "import torch\n",
    "import plotly.graph_objects as go\n",
    "import matplotlib.pyplot as plt\n",
    "\n"
   ]
  },
  {
   "cell_type": "code",
   "execution_count": 3,
   "metadata": {},
   "outputs": [],
   "source": [
    "import src.load as load\n",
    "from src.dataset import HarvestDataset\n",
    "\n",
    "train_dataset, test_dataset, mapping_dict, reverse_mappings, meta  = load.separate_prop('../data/processed/')\n"
   ]
  },
  {
   "cell_type": "code",
   "execution_count": 6,
   "metadata": {},
   "outputs": [
    {
     "data": {
      "text/html": [
       "<div>\n",
       "<style scoped>\n",
       "    .dataframe tbody tr th:only-of-type {\n",
       "        vertical-align: middle;\n",
       "    }\n",
       "\n",
       "    .dataframe tbody tr th {\n",
       "        vertical-align: top;\n",
       "    }\n",
       "\n",
       "    .dataframe thead th {\n",
       "        text-align: right;\n",
       "    }\n",
       "</style>\n",
       "<table border=\"1\" class=\"dataframe\">\n",
       "  <thead>\n",
       "    <tr style=\"text-align: right;\">\n",
       "      <th></th>\n",
       "      <th>TransplantDate</th>\n",
       "      <th>Parcel</th>\n",
       "      <th>Lot</th>\n",
       "      <th>ProducerCode</th>\n",
       "      <th>Variety</th>\n",
       "      <th>Ha</th>\n",
       "      <th>Class</th>\n",
       "      <th>Type</th>\n",
       "      <th>WeekTransplanted</th>\n",
       "      <th>WeekCos</th>\n",
       "      <th>WeekSin</th>\n",
       "      <th>Year</th>\n",
       "      <th>ClimateSeries</th>\n",
       "    </tr>\n",
       "  </thead>\n",
       "  <tbody>\n",
       "    <tr>\n",
       "      <th>4</th>\n",
       "      <td>2013-02-15</td>\n",
       "      <td>Z18</td>\n",
       "      <td>2</td>\n",
       "      <td>ZJL</td>\n",
       "      <td>Olivia</td>\n",
       "      <td>0.5400</td>\n",
       "      <td>BSUF</td>\n",
       "      <td>Uva Roja</td>\n",
       "      <td>7</td>\n",
       "      <td>0.663123</td>\n",
       "      <td>0.748511</td>\n",
       "      <td>2013</td>\n",
       "      <td>[[0.3125368926, -0.0596579057, 0.0, 0.0, -0.54...</td>\n",
       "    </tr>\n",
       "    <tr>\n",
       "      <th>10</th>\n",
       "      <td>2013-02-20</td>\n",
       "      <td>Z18</td>\n",
       "      <td>5</td>\n",
       "      <td>ZJL</td>\n",
       "      <td>Shiren</td>\n",
       "      <td>0.2700</td>\n",
       "      <td>CHE</td>\n",
       "      <td>Cherry Rojo</td>\n",
       "      <td>8</td>\n",
       "      <td>0.568065</td>\n",
       "      <td>0.822984</td>\n",
       "      <td>2013</td>\n",
       "      <td>[[-1.020167475, -0.1291892644, 0.2, 0.2, -0.92...</td>\n",
       "    </tr>\n",
       "    <tr>\n",
       "      <th>16</th>\n",
       "      <td>2013-02-23</td>\n",
       "      <td>Z17</td>\n",
       "      <td>8</td>\n",
       "      <td>ZJL</td>\n",
       "      <td>Amaí</td>\n",
       "      <td>0.5063</td>\n",
       "      <td>BSUF</td>\n",
       "      <td>Uva Roja</td>\n",
       "      <td>8</td>\n",
       "      <td>0.568065</td>\n",
       "      <td>0.822984</td>\n",
       "      <td>2013</td>\n",
       "      <td>[[-0.1651137121, -0.949659491, 0.0, 0.0, 0.007...</td>\n",
       "    </tr>\n",
       "    <tr>\n",
       "      <th>23</th>\n",
       "      <td>2013-03-01</td>\n",
       "      <td>Z17</td>\n",
       "      <td>11</td>\n",
       "      <td>ZJL</td>\n",
       "      <td>Baby Black Plum</td>\n",
       "      <td>0.0900</td>\n",
       "      <td>CHE</td>\n",
       "      <td>Heirloom Cherry</td>\n",
       "      <td>9</td>\n",
       "      <td>0.464723</td>\n",
       "      <td>0.885456</td>\n",
       "      <td>2013</td>\n",
       "      <td>[[0.7783938882, 0.42706146570000003, 0.0, 0.0,...</td>\n",
       "    </tr>\n",
       "    <tr>\n",
       "      <th>25</th>\n",
       "      <td>2013-03-01</td>\n",
       "      <td>Z17</td>\n",
       "      <td>11</td>\n",
       "      <td>ZJL</td>\n",
       "      <td>Habanero Tangerina</td>\n",
       "      <td>0.0675</td>\n",
       "      <td>CHE</td>\n",
       "      <td>Heirloom Cherry</td>\n",
       "      <td>9</td>\n",
       "      <td>0.464723</td>\n",
       "      <td>0.885456</td>\n",
       "      <td>2013</td>\n",
       "      <td>[[0.7783938882, 0.42706146570000003, 0.0, 0.0,...</td>\n",
       "    </tr>\n",
       "    <tr>\n",
       "      <th>...</th>\n",
       "      <td>...</td>\n",
       "      <td>...</td>\n",
       "      <td>...</td>\n",
       "      <td>...</td>\n",
       "      <td>...</td>\n",
       "      <td>...</td>\n",
       "      <td>...</td>\n",
       "      <td>...</td>\n",
       "      <td>...</td>\n",
       "      <td>...</td>\n",
       "      <td>...</td>\n",
       "      <td>...</td>\n",
       "      <td>...</td>\n",
       "    </tr>\n",
       "    <tr>\n",
       "      <th>3777</th>\n",
       "      <td>2024-07-18</td>\n",
       "      <td>V02</td>\n",
       "      <td>37</td>\n",
       "      <td>VAP</td>\n",
       "      <td>King</td>\n",
       "      <td>0.6300</td>\n",
       "      <td>BSUF</td>\n",
       "      <td>Uva Roja</td>\n",
       "      <td>29</td>\n",
       "      <td>-0.935016</td>\n",
       "      <td>-0.354605</td>\n",
       "      <td>2024</td>\n",
       "      <td>[[0.4868501577, 0.3822832708, 0.0, 0.0, 0.2966...</td>\n",
       "    </tr>\n",
       "    <tr>\n",
       "      <th>3785</th>\n",
       "      <td>2024-07-25</td>\n",
       "      <td>S12</td>\n",
       "      <td>4</td>\n",
       "      <td>SGB</td>\n",
       "      <td>Top 2323</td>\n",
       "      <td>0.1530</td>\n",
       "      <td>CHE</td>\n",
       "      <td>Cherry Rosa</td>\n",
       "      <td>30</td>\n",
       "      <td>-0.885456</td>\n",
       "      <td>-0.464723</td>\n",
       "      <td>2024</td>\n",
       "      <td>[[0.8452649894, 0.93700445, 0.0, 0.0, 0.485896...</td>\n",
       "    </tr>\n",
       "    <tr>\n",
       "      <th>3786</th>\n",
       "      <td>2024-07-25</td>\n",
       "      <td>S12</td>\n",
       "      <td>4</td>\n",
       "      <td>SGB</td>\n",
       "      <td>Yoyomo</td>\n",
       "      <td>0.1020</td>\n",
       "      <td>BSUF</td>\n",
       "      <td>Uva Amarilla</td>\n",
       "      <td>30</td>\n",
       "      <td>-0.885456</td>\n",
       "      <td>-0.464723</td>\n",
       "      <td>2024</td>\n",
       "      <td>[[0.8452649894, 0.93700445, 0.0, 0.0, 0.485896...</td>\n",
       "    </tr>\n",
       "    <tr>\n",
       "      <th>3788</th>\n",
       "      <td>2024-07-29</td>\n",
       "      <td>S12</td>\n",
       "      <td>8</td>\n",
       "      <td>SGB</td>\n",
       "      <td>King</td>\n",
       "      <td>0.0306</td>\n",
       "      <td>BSUF</td>\n",
       "      <td>Uva Roja</td>\n",
       "      <td>31</td>\n",
       "      <td>-0.822984</td>\n",
       "      <td>-0.568065</td>\n",
       "      <td>2024</td>\n",
       "      <td>[[0.3676142667, 0.3320816298, 0.0, 0.0, 0.5941...</td>\n",
       "    </tr>\n",
       "    <tr>\n",
       "      <th>3789</th>\n",
       "      <td>2024-07-29</td>\n",
       "      <td>S12</td>\n",
       "      <td>8</td>\n",
       "      <td>SGB</td>\n",
       "      <td>Tymoty</td>\n",
       "      <td>0.3978</td>\n",
       "      <td>CHE</td>\n",
       "      <td>Cherry Rojo</td>\n",
       "      <td>31</td>\n",
       "      <td>-0.822984</td>\n",
       "      <td>-0.568065</td>\n",
       "      <td>2024</td>\n",
       "      <td>[[0.3676142667, 0.3320816298, 0.0, 0.0, 0.5941...</td>\n",
       "    </tr>\n",
       "  </tbody>\n",
       "</table>\n",
       "<p>758 rows × 13 columns</p>\n",
       "</div>"
      ],
      "text/plain": [
       "     TransplantDate Parcel  Lot ProducerCode             Variety      Ha  \\\n",
       "4        2013-02-15    Z18    2          ZJL              Olivia  0.5400   \n",
       "10       2013-02-20    Z18    5          ZJL              Shiren  0.2700   \n",
       "16       2013-02-23    Z17    8          ZJL                Amaí  0.5063   \n",
       "23       2013-03-01    Z17   11          ZJL     Baby Black Plum  0.0900   \n",
       "25       2013-03-01    Z17   11          ZJL  Habanero Tangerina  0.0675   \n",
       "...             ...    ...  ...          ...                 ...     ...   \n",
       "3777     2024-07-18    V02   37          VAP                King  0.6300   \n",
       "3785     2024-07-25    S12    4          SGB            Top 2323  0.1530   \n",
       "3786     2024-07-25    S12    4          SGB              Yoyomo  0.1020   \n",
       "3788     2024-07-29    S12    8          SGB                King  0.0306   \n",
       "3789     2024-07-29    S12    8          SGB              Tymoty  0.3978   \n",
       "\n",
       "     Class             Type  WeekTransplanted   WeekCos   WeekSin  Year  \\\n",
       "4     BSUF         Uva Roja                 7  0.663123  0.748511  2013   \n",
       "10     CHE      Cherry Rojo                 8  0.568065  0.822984  2013   \n",
       "16    BSUF         Uva Roja                 8  0.568065  0.822984  2013   \n",
       "23     CHE  Heirloom Cherry                 9  0.464723  0.885456  2013   \n",
       "25     CHE  Heirloom Cherry                 9  0.464723  0.885456  2013   \n",
       "...    ...              ...               ...       ...       ...   ...   \n",
       "3777  BSUF         Uva Roja                29 -0.935016 -0.354605  2024   \n",
       "3785   CHE      Cherry Rosa                30 -0.885456 -0.464723  2024   \n",
       "3786  BSUF     Uva Amarilla                30 -0.885456 -0.464723  2024   \n",
       "3788  BSUF         Uva Roja                31 -0.822984 -0.568065  2024   \n",
       "3789   CHE      Cherry Rojo                31 -0.822984 -0.568065  2024   \n",
       "\n",
       "                                          ClimateSeries  \n",
       "4     [[0.3125368926, -0.0596579057, 0.0, 0.0, -0.54...  \n",
       "10    [[-1.020167475, -0.1291892644, 0.2, 0.2, -0.92...  \n",
       "16    [[-0.1651137121, -0.949659491, 0.0, 0.0, 0.007...  \n",
       "23    [[0.7783938882, 0.42706146570000003, 0.0, 0.0,...  \n",
       "25    [[0.7783938882, 0.42706146570000003, 0.0, 0.0,...  \n",
       "...                                                 ...  \n",
       "3777  [[0.4868501577, 0.3822832708, 0.0, 0.0, 0.2966...  \n",
       "3785  [[0.8452649894, 0.93700445, 0.0, 0.0, 0.485896...  \n",
       "3786  [[0.8452649894, 0.93700445, 0.0, 0.0, 0.485896...  \n",
       "3788  [[0.3676142667, 0.3320816298, 0.0, 0.0, 0.5941...  \n",
       "3789  [[0.3676142667, 0.3320816298, 0.0, 0.0, 0.5941...  \n",
       "\n",
       "[758 rows x 13 columns]"
      ]
     },
     "execution_count": 6,
     "metadata": {},
     "output_type": "execute_result"
    }
   ],
   "source": [
    "meta"
   ]
  },
  {
   "cell_type": "code",
   "execution_count": 9,
   "metadata": {},
   "outputs": [
    {
     "data": {
      "text/plain": [
       "tensor([0.5400, 0.2700, 0.5063, 0.0900, 0.0675, 0.1808, 0.1480, 0.8160, 0.1280,\n",
       "        0.1040, 0.1176, 0.2016, 0.3024, 0.0810, 0.0690, 0.0320, 0.0320, 0.0320,\n",
       "        0.3360, 0.0320, 0.0320, 0.4800, 0.2240, 0.6080, 0.2560, 0.1440, 0.0540,\n",
       "        0.1800, 0.1800, 0.3312, 0.3888, 0.0288, 0.0513, 0.0684, 0.0684, 0.3078,\n",
       "        0.2394, 0.2736, 0.0171, 0.3840, 0.2240, 0.2052, 0.0770, 0.1026, 0.0684,\n",
       "        0.0855, 0.1625, 0.0720, 0.4536, 0.2907, 0.3249, 0.2223, 0.4000, 0.6840,\n",
       "        0.0516, 0.1376, 0.0900, 0.7088, 0.0225, 0.1013, 0.7763, 0.1238, 0.0900,\n",
       "        0.0900, 0.7650, 0.0567, 0.0891, 0.0162, 0.7104, 0.0980, 0.1674, 0.0432,\n",
       "        0.0648, 0.0432, 0.1710, 0.5760, 0.7632, 0.0648, 0.3892, 0.0720, 0.1224,\n",
       "        0.0504, 0.3078, 0.1368, 0.1458, 0.2394, 0.2052, 0.1283, 0.1026, 0.0257,\n",
       "        0.2736, 0.0513, 0.7353, 0.3591, 0.1368, 0.1260, 0.1026, 0.1197, 0.0513,\n",
       "        0.2736, 1.1502, 0.9180, 0.1458, 0.1140, 0.5092, 0.3080, 0.1540, 0.0480,\n",
       "        0.1680, 0.7988, 0.6638, 0.0900, 0.0900, 0.4050, 0.0788, 0.8550, 0.0675,\n",
       "        0.6300, 0.1533, 0.0219, 0.2138, 0.0664, 0.0790, 0.1232, 0.3872, 0.1197,\n",
       "        0.0342, 0.0990, 0.1650, 0.1059, 0.1967, 0.0908, 0.0303, 0.1296, 0.0180,\n",
       "        0.1440, 0.7200, 0.2700, 0.1440, 0.0900, 0.0540, 0.2700, 0.1260, 0.0720,\n",
       "        0.0324, 0.0855, 0.0513, 0.4275, 0.1881, 0.0684, 0.2916, 0.0810, 0.1881,\n",
       "        0.1368, 0.1458, 0.1026, 0.7128, 0.0972, 0.1710, 0.1134, 0.1782, 0.0648,\n",
       "        0.0162, 0.0726, 0.0968, 0.1210, 0.1176, 0.0372, 0.0930, 0.1302, 0.2800,\n",
       "        0.0930, 0.0558, 0.0864, 0.0200, 0.4388, 0.1688, 0.1013, 0.0675, 0.7425,\n",
       "        0.0450, 0.1800, 0.0338, 0.1800, 0.1013, 0.0450, 0.1013, 0.0788, 0.7380,\n",
       "        0.4536, 0.0540, 0.3648, 0.3840, 1.1304, 0.0576, 0.0384, 0.2688, 0.1440,\n",
       "        0.1600, 0.0800, 0.1600, 0.0599, 0.1600, 0.0160, 0.0640, 0.0640, 0.1440,\n",
       "        0.0960, 0.1600, 0.1881, 0.1539, 0.0162, 0.0324, 0.0189, 0.7020, 0.0360,\n",
       "        0.1260, 0.2394, 0.0684, 0.0171, 0.0513, 0.0855, 0.3705, 0.0513, 0.4788,\n",
       "        0.1026, 0.1881, 0.0513, 0.1995, 0.0171, 0.7353, 0.3933, 0.5130, 0.7992,\n",
       "        0.2340, 0.1853, 1.0800, 0.0900, 0.1176, 0.3780, 0.1360, 0.2430, 0.5796,\n",
       "        0.1620, 0.6210, 0.2688, 1.2210, 0.9300, 0.3100, 0.0640, 0.0504, 0.0800,\n",
       "        0.1425, 0.0998, 0.1710, 0.0713, 0.0713, 0.1710, 0.1368, 0.1026, 0.0684,\n",
       "        0.3420, 0.2430, 0.7560, 0.0972, 0.3564, 0.1026, 0.0855, 0.2052, 0.5472,\n",
       "        0.1026, 0.0513, 0.0972, 0.2394, 0.1026, 0.0713, 0.0855, 0.4617, 0.0950,\n",
       "        0.1296, 0.0810, 0.0486, 0.0810, 0.0648, 0.3249, 0.2736, 0.0171, 0.0684,\n",
       "        0.6930, 0.1548, 0.4212, 0.0684, 0.1140, 0.2880, 0.1760, 0.1013, 0.1238,\n",
       "        0.1800, 0.3600, 0.1125, 0.3825, 0.6525, 0.5063, 0.0113, 0.1463, 0.3528,\n",
       "        0.3304, 0.0094, 0.5376, 0.1836, 0.3762, 0.3416, 0.8000, 0.0384, 0.0192,\n",
       "        0.1881, 0.1620, 0.6480, 0.4104, 0.8208, 0.1539, 0.1539, 0.0171, 0.1368,\n",
       "        0.2394, 0.0460, 0.0318, 0.1620, 0.7740, 0.2880, 0.6318, 0.0324, 0.3402,\n",
       "        0.1881, 0.1197, 0.0855, 0.3726, 0.3402, 0.1539, 0.8550, 0.1442, 0.0342,\n",
       "        0.4617, 0.0972, 0.0440, 0.1026, 0.8037, 0.1539, 0.4650, 0.2480, 0.4160,\n",
       "        0.0480, 0.3586, 0.0162, 0.5040, 0.2520, 0.4680, 0.2700, 0.5120, 0.5220,\n",
       "        0.0540, 0.1904, 0.7988, 0.1350, 0.0900, 0.0360, 0.1980, 0.0360, 0.1260,\n",
       "        0.0900, 0.1800, 0.5850, 0.8438, 0.0640, 0.4160, 0.5600, 0.2958, 0.3068,\n",
       "        0.1540, 0.5280, 0.1520, 0.1080, 0.1264, 0.1680, 0.2000, 0.5400, 0.4400,\n",
       "        0.1900, 0.1944, 0.3200, 0.0810, 0.1296, 0.0810, 0.3220, 0.1380, 0.0260,\n",
       "        0.2200, 1.3870, 0.2090, 0.2520, 0.7200, 0.1256, 0.2200, 0.2280, 0.1900,\n",
       "        0.1900, 0.2090, 0.2470, 0.4180, 0.2160, 0.3960, 0.9600, 0.0900, 0.5040,\n",
       "        0.3000, 0.8600, 0.0800, 0.1200, 0.2400, 0.2200, 0.1600, 1.0860, 0.1448,\n",
       "        0.7200, 0.2340, 0.0400, 0.2400, 0.3000, 0.7400, 0.7400, 0.1710, 0.2000,\n",
       "        0.5200, 0.2000, 0.1728, 0.1080, 0.1944, 0.9450, 0.6800, 0.2200, 0.1072,\n",
       "        0.7248, 0.3648, 0.3792, 0.6160, 0.4240, 0.1200, 0.6000, 0.6200, 0.0648,\n",
       "        1.1250, 0.1050, 0.0750, 0.1350, 0.1200, 0.3240, 0.0675, 0.2784, 0.1944,\n",
       "        0.2519, 0.1340, 0.1710, 0.2376, 0.0488, 0.1920, 0.1600, 1.0200, 0.0513,\n",
       "        0.3780, 0.6300, 0.2700, 0.2340, 0.1512, 0.1260, 0.5040, 0.0342, 0.2160,\n",
       "        0.1800, 0.1260, 0.1620, 0.8100, 0.5040, 0.1800, 0.1800, 0.1080, 0.0900,\n",
       "        0.3240, 0.6480, 0.7577, 0.0270, 0.0990, 0.0360, 0.0171, 1.2312, 1.0944,\n",
       "        0.7488, 0.7200, 0.1440, 0.0702, 0.0640, 0.1440, 0.0480, 0.0320, 0.0320,\n",
       "        0.1440, 0.3500, 0.2280, 0.1276, 0.3375, 0.0788, 0.3600, 0.5520, 0.3584,\n",
       "        0.0942, 0.1080, 0.0883, 0.1270, 0.0700, 0.0800, 0.1200, 0.1600, 0.2000,\n",
       "        0.0600, 0.7536, 0.0246, 0.2212, 0.3941, 0.1080, 0.1620, 0.0360, 0.4860,\n",
       "        0.1080, 0.2520, 0.8640, 0.4320, 0.4640, 0.6400, 0.3162, 0.0540, 0.2520,\n",
       "        0.0536, 0.0306, 0.2925, 0.0189, 0.0216, 0.3780, 0.1080, 0.0360, 0.0450,\n",
       "        0.1000, 0.4200, 0.0450, 0.0950, 0.0510, 0.3780, 0.0916, 0.1603, 0.5940,\n",
       "        0.0720, 0.4800, 0.5832, 1.0206, 0.0944, 0.0566, 0.9709, 0.3840, 0.3444,\n",
       "        0.1120, 0.0280, 0.3240, 0.5980, 0.0625, 0.5310, 0.0540, 0.6800, 0.9000,\n",
       "        0.2700, 0.2520, 0.2142, 0.0714, 0.0714, 0.0360, 0.1080, 0.0540, 0.1080,\n",
       "        0.3920, 0.0360, 0.1896, 0.0912, 0.2574, 0.0540, 0.1000, 0.0600, 0.5500,\n",
       "        0.0600, 1.2012, 0.4370, 0.0960, 0.5000, 0.0720, 0.2870, 0.3672, 0.0714,\n",
       "        0.0918, 0.0408, 0.5600, 0.1600, 0.4872, 0.4104, 0.2464, 0.5038, 0.2912,\n",
       "        0.1938, 0.1938, 0.0816, 0.1760, 0.4160, 0.0480, 0.9400, 0.0360, 0.0360,\n",
       "        0.0360, 0.4510, 0.0860, 0.4875, 0.0640, 0.0960, 0.6832, 0.0707, 0.3020,\n",
       "        0.3570, 0.3060, 0.0900, 0.2520, 0.1250, 0.0744, 0.1020, 0.0306, 0.1224,\n",
       "        0.3680, 0.0180, 0.0510, 0.1122, 0.1620, 0.1260, 0.6120, 0.5200, 0.0800,\n",
       "        0.0800, 0.0180, 0.1440, 0.0760, 0.0760, 0.0800, 0.4536, 0.0828, 0.1104,\n",
       "        0.1380, 0.0138, 0.0414, 0.0720, 0.6660, 0.1200, 0.2448, 0.0918, 0.4212,\n",
       "        0.9752, 0.1800, 0.3600, 0.0204, 0.0204, 0.0102, 0.1020, 0.1200, 0.1335,\n",
       "        0.0484, 0.0800, 0.1710, 0.5795, 0.0684, 0.0941, 0.7360, 0.1120, 0.4000,\n",
       "        0.2754, 0.0510, 0.0510, 0.1530, 0.6080, 0.1008, 0.0666, 0.0612, 0.3162,\n",
       "        0.0162, 0.3564, 0.3726, 0.5760, 0.1000, 0.2880, 0.6840, 0.5120, 0.0888,\n",
       "        0.0664, 0.1620, 0.0240, 0.0566, 0.0360, 0.1600, 0.0600, 0.0408, 0.0900,\n",
       "        0.3780, 0.4400, 0.1510, 0.3480, 0.0870, 0.1200, 0.3570, 0.0102, 0.4440,\n",
       "        0.3264, 0.1326, 0.4143, 0.4781, 0.4080, 0.2880, 0.2304, 0.8280, 0.3672,\n",
       "        0.0864, 0.2240, 0.7360, 0.1680, 0.0840, 0.0540, 0.4200, 0.7740, 0.0540,\n",
       "        0.0720, 0.2340, 0.0238, 0.0800, 0.0600, 0.2340, 0.2340, 0.3060, 0.5940,\n",
       "        0.5040, 0.2880, 0.4500, 0.1748, 0.1600, 0.3276, 0.6300, 0.1530, 0.1020,\n",
       "        0.0306, 0.3978])"
      ]
     },
     "execution_count": 9,
     "metadata": {},
     "output_type": "execute_result"
    }
   ],
   "source": [
    "test_dataset.features[:,0]"
   ]
  },
  {
   "cell_type": "markdown",
   "metadata": {},
   "source": [
    "***Production Plan***"
   ]
  },
  {
   "cell_type": "code",
   "execution_count": 9,
   "metadata": {},
   "outputs": [],
   "source": [
    "meta['Ranch'] = meta['ProducerCode']"
   ]
  },
  {
   "cell_type": "code",
   "execution_count": 10,
   "metadata": {},
   "outputs": [],
   "source": [
    "\n",
    "agg_cols = {'Ha':'sum',\n",
    "    'WeekTransplanted':['min','max','nunique']}\n",
    "\n",
    "summary_ranch = meta.groupby(['Ranch','Class','Type']).agg(agg_cols)\n",
    "summary_class = meta.groupby(['Class','Type']).agg(agg_cols)\n",
    "summary_class_ranch = meta.groupby(['Class','Type','Ranch']).agg(agg_cols)\n",
    "\n",
    "\n",
    "ranch_pivot = meta.pivot_table(\n",
    "index=['Ranch', 'Class', 'Type'],\n",
    "columns='WeekTransplanted',\n",
    "values='Ha',\n",
    "aggfunc='sum',\n",
    "fill_value=0,\n",
    ")\n",
    "\n",
    "class_pivot = meta.pivot_table(\n",
    "    index=['Class', 'Type'],\n",
    "    columns='WeekTransplanted',\n",
    "    values='Ha',\n",
    "    aggfunc='sum',\n",
    "    fill_value=0,\n",
    ")\n"
   ]
  },
  {
   "cell_type": "code",
   "execution_count": 16,
   "metadata": {},
   "outputs": [
    {
     "data": {
      "text/html": [
       "<div>\n",
       "<style scoped>\n",
       "    .dataframe tbody tr th:only-of-type {\n",
       "        vertical-align: middle;\n",
       "    }\n",
       "\n",
       "    .dataframe tbody tr th {\n",
       "        vertical-align: top;\n",
       "    }\n",
       "\n",
       "    .dataframe thead tr th {\n",
       "        text-align: left;\n",
       "    }\n",
       "\n",
       "    .dataframe thead tr:last-of-type th {\n",
       "        text-align: right;\n",
       "    }\n",
       "</style>\n",
       "<table border=\"1\" class=\"dataframe\">\n",
       "  <thead>\n",
       "    <tr>\n",
       "      <th></th>\n",
       "      <th></th>\n",
       "      <th></th>\n",
       "      <th>Ha</th>\n",
       "      <th colspan=\"3\" halign=\"left\">WeekTransplanted</th>\n",
       "    </tr>\n",
       "    <tr>\n",
       "      <th></th>\n",
       "      <th></th>\n",
       "      <th></th>\n",
       "      <th>sum</th>\n",
       "      <th>min</th>\n",
       "      <th>max</th>\n",
       "      <th>nunique</th>\n",
       "    </tr>\n",
       "    <tr>\n",
       "      <th>Ranch</th>\n",
       "      <th>Class</th>\n",
       "      <th>Type</th>\n",
       "      <th></th>\n",
       "      <th></th>\n",
       "      <th></th>\n",
       "      <th></th>\n",
       "    </tr>\n",
       "  </thead>\n",
       "  <tbody>\n",
       "    <tr>\n",
       "      <th rowspan=\"2\" valign=\"top\">MAP</th>\n",
       "      <th>BSUF</th>\n",
       "      <th>Uva Roja</th>\n",
       "      <td>0.0640</td>\n",
       "      <td>14</td>\n",
       "      <td>14</td>\n",
       "      <td>1</td>\n",
       "    </tr>\n",
       "    <tr>\n",
       "      <th>CHE</th>\n",
       "      <th>Cherry Naranja</th>\n",
       "      <td>0.1158</td>\n",
       "      <td>14</td>\n",
       "      <td>25</td>\n",
       "      <td>2</td>\n",
       "    </tr>\n",
       "    <tr>\n",
       "      <th rowspan=\"3\" valign=\"top\">OAP</th>\n",
       "      <th rowspan=\"2\" valign=\"top\">BSUF</th>\n",
       "      <th>Uva Amarilla</th>\n",
       "      <td>2.4354</td>\n",
       "      <td>16</td>\n",
       "      <td>29</td>\n",
       "      <td>7</td>\n",
       "    </tr>\n",
       "    <tr>\n",
       "      <th>Uva Roja</th>\n",
       "      <td>13.7910</td>\n",
       "      <td>10</td>\n",
       "      <td>31</td>\n",
       "      <td>18</td>\n",
       "    </tr>\n",
       "    <tr>\n",
       "      <th>CHE</th>\n",
       "      <th>Cherry Amarillo</th>\n",
       "      <td>0.2594</td>\n",
       "      <td>17</td>\n",
       "      <td>25</td>\n",
       "      <td>4</td>\n",
       "    </tr>\n",
       "    <tr>\n",
       "      <th>...</th>\n",
       "      <th>...</th>\n",
       "      <th>...</th>\n",
       "      <td>...</td>\n",
       "      <td>...</td>\n",
       "      <td>...</td>\n",
       "      <td>...</td>\n",
       "    </tr>\n",
       "    <tr>\n",
       "      <th rowspan=\"5\" valign=\"top\">ZJL</th>\n",
       "      <th rowspan=\"5\" valign=\"top\">CHE</th>\n",
       "      <th>Cherry Rosa</th>\n",
       "      <td>0.0225</td>\n",
       "      <td>9</td>\n",
       "      <td>9</td>\n",
       "      <td>1</td>\n",
       "    </tr>\n",
       "    <tr>\n",
       "      <th>Heirloom Cherry</th>\n",
       "      <td>1.0631</td>\n",
       "      <td>5</td>\n",
       "      <td>35</td>\n",
       "      <td>4</td>\n",
       "    </tr>\n",
       "    <tr>\n",
       "      <th>Pera</th>\n",
       "      <td>0.4878</td>\n",
       "      <td>5</td>\n",
       "      <td>32</td>\n",
       "      <td>4</td>\n",
       "    </tr>\n",
       "    <tr>\n",
       "      <th>Pera Amarilla</th>\n",
       "      <td>0.3038</td>\n",
       "      <td>33</td>\n",
       "      <td>35</td>\n",
       "      <td>2</td>\n",
       "    </tr>\n",
       "    <tr>\n",
       "      <th>Pera Roja</th>\n",
       "      <td>0.2850</td>\n",
       "      <td>39</td>\n",
       "      <td>39</td>\n",
       "      <td>1</td>\n",
       "    </tr>\n",
       "  </tbody>\n",
       "</table>\n",
       "<p>95 rows × 4 columns</p>\n",
       "</div>"
      ],
      "text/plain": [
       "                                  Ha WeekTransplanted            \n",
       "                                 sum              min max nunique\n",
       "Ranch Class Type                                                 \n",
       "MAP   BSUF  Uva Roja          0.0640               14  14       1\n",
       "      CHE   Cherry Naranja    0.1158               14  25       2\n",
       "OAP   BSUF  Uva Amarilla      2.4354               16  29       7\n",
       "            Uva Roja         13.7910               10  31      18\n",
       "      CHE   Cherry Amarillo   0.2594               17  25       4\n",
       "...                              ...              ...  ..     ...\n",
       "ZJL   CHE   Cherry Rosa       0.0225                9   9       1\n",
       "            Heirloom Cherry   1.0631                5  35       4\n",
       "            Pera              0.4878                5  32       4\n",
       "            Pera Amarilla     0.3038               33  35       2\n",
       "            Pera Roja         0.2850               39  39       1\n",
       "\n",
       "[95 rows x 4 columns]"
      ]
     },
     "execution_count": 16,
     "metadata": {},
     "output_type": "execute_result"
    }
   ],
   "source": [
    "summary_ranch"
   ]
  },
  {
   "cell_type": "code",
   "execution_count": 17,
   "metadata": {},
   "outputs": [
    {
     "data": {
      "text/html": [
       "<div>\n",
       "<style scoped>\n",
       "    .dataframe tbody tr th:only-of-type {\n",
       "        vertical-align: middle;\n",
       "    }\n",
       "\n",
       "    .dataframe tbody tr th {\n",
       "        vertical-align: top;\n",
       "    }\n",
       "\n",
       "    .dataframe thead tr th {\n",
       "        text-align: left;\n",
       "    }\n",
       "\n",
       "    .dataframe thead tr:last-of-type th {\n",
       "        text-align: right;\n",
       "    }\n",
       "</style>\n",
       "<table border=\"1\" class=\"dataframe\">\n",
       "  <thead>\n",
       "    <tr>\n",
       "      <th></th>\n",
       "      <th></th>\n",
       "      <th>Ha</th>\n",
       "      <th colspan=\"3\" halign=\"left\">WeekTransplanted</th>\n",
       "    </tr>\n",
       "    <tr>\n",
       "      <th></th>\n",
       "      <th></th>\n",
       "      <th>sum</th>\n",
       "      <th>min</th>\n",
       "      <th>max</th>\n",
       "      <th>nunique</th>\n",
       "    </tr>\n",
       "    <tr>\n",
       "      <th>Class</th>\n",
       "      <th>Type</th>\n",
       "      <th></th>\n",
       "      <th></th>\n",
       "      <th></th>\n",
       "      <th></th>\n",
       "    </tr>\n",
       "  </thead>\n",
       "  <tbody>\n",
       "    <tr>\n",
       "      <th rowspan=\"3\" valign=\"top\">BSUF</th>\n",
       "      <th>Uva Amarilla</th>\n",
       "      <td>8.0065</td>\n",
       "      <td>12</td>\n",
       "      <td>36</td>\n",
       "      <td>21</td>\n",
       "    </tr>\n",
       "    <tr>\n",
       "      <th>Uva Roja</th>\n",
       "      <td>85.1094</td>\n",
       "      <td>5</td>\n",
       "      <td>35</td>\n",
       "      <td>30</td>\n",
       "    </tr>\n",
       "    <tr>\n",
       "      <th>Uva Zebra</th>\n",
       "      <td>0.1040</td>\n",
       "      <td>19</td>\n",
       "      <td>21</td>\n",
       "      <td>2</td>\n",
       "    </tr>\n",
       "    <tr>\n",
       "      <th rowspan=\"9\" valign=\"top\">CHE</th>\n",
       "      <th>Cherry Amarillo</th>\n",
       "      <td>1.0585</td>\n",
       "      <td>11</td>\n",
       "      <td>33</td>\n",
       "      <td>11</td>\n",
       "    </tr>\n",
       "    <tr>\n",
       "      <th>Cherry Chocolate</th>\n",
       "      <td>0.9498</td>\n",
       "      <td>10</td>\n",
       "      <td>37</td>\n",
       "      <td>5</td>\n",
       "    </tr>\n",
       "    <tr>\n",
       "      <th>Cherry Naranja</th>\n",
       "      <td>1.5583</td>\n",
       "      <td>6</td>\n",
       "      <td>32</td>\n",
       "      <td>12</td>\n",
       "    </tr>\n",
       "    <tr>\n",
       "      <th>Cherry Rojo</th>\n",
       "      <td>36.5355</td>\n",
       "      <td>4</td>\n",
       "      <td>34</td>\n",
       "      <td>26</td>\n",
       "    </tr>\n",
       "    <tr>\n",
       "      <th>Cherry Rosa</th>\n",
       "      <td>2.6922</td>\n",
       "      <td>9</td>\n",
       "      <td>33</td>\n",
       "      <td>14</td>\n",
       "    </tr>\n",
       "    <tr>\n",
       "      <th>Heirloom Cherry</th>\n",
       "      <td>20.1770</td>\n",
       "      <td>5</td>\n",
       "      <td>36</td>\n",
       "      <td>27</td>\n",
       "    </tr>\n",
       "    <tr>\n",
       "      <th>Pera</th>\n",
       "      <td>7.3167</td>\n",
       "      <td>5</td>\n",
       "      <td>32</td>\n",
       "      <td>24</td>\n",
       "    </tr>\n",
       "    <tr>\n",
       "      <th>Pera Amarilla</th>\n",
       "      <td>5.9593</td>\n",
       "      <td>6</td>\n",
       "      <td>37</td>\n",
       "      <td>22</td>\n",
       "    </tr>\n",
       "    <tr>\n",
       "      <th>Pera Roja</th>\n",
       "      <td>6.0043</td>\n",
       "      <td>10</td>\n",
       "      <td>39</td>\n",
       "      <td>21</td>\n",
       "    </tr>\n",
       "  </tbody>\n",
       "</table>\n",
       "</div>"
      ],
      "text/plain": [
       "                             Ha WeekTransplanted            \n",
       "                            sum              min max nunique\n",
       "Class Type                                                  \n",
       "BSUF  Uva Amarilla       8.0065               12  36      21\n",
       "      Uva Roja          85.1094                5  35      30\n",
       "      Uva Zebra          0.1040               19  21       2\n",
       "CHE   Cherry Amarillo    1.0585               11  33      11\n",
       "      Cherry Chocolate   0.9498               10  37       5\n",
       "      Cherry Naranja     1.5583                6  32      12\n",
       "      Cherry Rojo       36.5355                4  34      26\n",
       "      Cherry Rosa        2.6922                9  33      14\n",
       "      Heirloom Cherry   20.1770                5  36      27\n",
       "      Pera               7.3167                5  32      24\n",
       "      Pera Amarilla      5.9593                6  37      22\n",
       "      Pera Roja          6.0043               10  39      21"
      ]
     },
     "execution_count": 17,
     "metadata": {},
     "output_type": "execute_result"
    }
   ],
   "source": [
    "summary_class"
   ]
  },
  {
   "cell_type": "code",
   "execution_count": 14,
   "metadata": {},
   "outputs": [
    {
     "data": {
      "text/html": [
       "<div>\n",
       "<style scoped>\n",
       "    .dataframe tbody tr th:only-of-type {\n",
       "        vertical-align: middle;\n",
       "    }\n",
       "\n",
       "    .dataframe tbody tr th {\n",
       "        vertical-align: top;\n",
       "    }\n",
       "\n",
       "    .dataframe thead th {\n",
       "        text-align: right;\n",
       "    }\n",
       "</style>\n",
       "<table border=\"1\" class=\"dataframe\">\n",
       "  <thead>\n",
       "    <tr style=\"text-align: right;\">\n",
       "      <th></th>\n",
       "      <th></th>\n",
       "      <th>WeekTransplanted</th>\n",
       "      <th>4</th>\n",
       "      <th>5</th>\n",
       "      <th>6</th>\n",
       "      <th>7</th>\n",
       "      <th>8</th>\n",
       "      <th>9</th>\n",
       "      <th>10</th>\n",
       "      <th>11</th>\n",
       "      <th>12</th>\n",
       "      <th>13</th>\n",
       "      <th>...</th>\n",
       "      <th>29</th>\n",
       "      <th>30</th>\n",
       "      <th>31</th>\n",
       "      <th>32</th>\n",
       "      <th>33</th>\n",
       "      <th>34</th>\n",
       "      <th>35</th>\n",
       "      <th>36</th>\n",
       "      <th>37</th>\n",
       "      <th>39</th>\n",
       "    </tr>\n",
       "    <tr>\n",
       "      <th>Ranch</th>\n",
       "      <th>Class</th>\n",
       "      <th>Type</th>\n",
       "      <th></th>\n",
       "      <th></th>\n",
       "      <th></th>\n",
       "      <th></th>\n",
       "      <th></th>\n",
       "      <th></th>\n",
       "      <th></th>\n",
       "      <th></th>\n",
       "      <th></th>\n",
       "      <th></th>\n",
       "      <th></th>\n",
       "      <th></th>\n",
       "      <th></th>\n",
       "      <th></th>\n",
       "      <th></th>\n",
       "      <th></th>\n",
       "      <th></th>\n",
       "      <th></th>\n",
       "      <th></th>\n",
       "      <th></th>\n",
       "      <th></th>\n",
       "    </tr>\n",
       "  </thead>\n",
       "  <tbody>\n",
       "    <tr>\n",
       "      <th rowspan=\"2\" valign=\"top\">MAP</th>\n",
       "      <th>BSUF</th>\n",
       "      <th>Uva Roja</th>\n",
       "      <td>0.0</td>\n",
       "      <td>0.0000</td>\n",
       "      <td>0.000</td>\n",
       "      <td>0.0</td>\n",
       "      <td>0.0</td>\n",
       "      <td>0.0000</td>\n",
       "      <td>0.0000</td>\n",
       "      <td>0.0</td>\n",
       "      <td>0.0000</td>\n",
       "      <td>0.00</td>\n",
       "      <td>...</td>\n",
       "      <td>0.0000</td>\n",
       "      <td>0.0</td>\n",
       "      <td>0.0000</td>\n",
       "      <td>0.0000</td>\n",
       "      <td>0.0000</td>\n",
       "      <td>0.0</td>\n",
       "      <td>0.0000</td>\n",
       "      <td>0.0</td>\n",
       "      <td>0.0</td>\n",
       "      <td>0.000</td>\n",
       "    </tr>\n",
       "    <tr>\n",
       "      <th>CHE</th>\n",
       "      <th>Cherry Naranja</th>\n",
       "      <td>0.0</td>\n",
       "      <td>0.0000</td>\n",
       "      <td>0.000</td>\n",
       "      <td>0.0</td>\n",
       "      <td>0.0</td>\n",
       "      <td>0.0000</td>\n",
       "      <td>0.0000</td>\n",
       "      <td>0.0</td>\n",
       "      <td>0.0000</td>\n",
       "      <td>0.00</td>\n",
       "      <td>...</td>\n",
       "      <td>0.0000</td>\n",
       "      <td>0.0</td>\n",
       "      <td>0.0000</td>\n",
       "      <td>0.0000</td>\n",
       "      <td>0.0000</td>\n",
       "      <td>0.0</td>\n",
       "      <td>0.0000</td>\n",
       "      <td>0.0</td>\n",
       "      <td>0.0</td>\n",
       "      <td>0.000</td>\n",
       "    </tr>\n",
       "    <tr>\n",
       "      <th rowspan=\"3\" valign=\"top\">OAP</th>\n",
       "      <th rowspan=\"2\" valign=\"top\">BSUF</th>\n",
       "      <th>Uva Amarilla</th>\n",
       "      <td>0.0</td>\n",
       "      <td>0.0000</td>\n",
       "      <td>0.000</td>\n",
       "      <td>0.0</td>\n",
       "      <td>0.0</td>\n",
       "      <td>0.0000</td>\n",
       "      <td>0.0000</td>\n",
       "      <td>0.0</td>\n",
       "      <td>0.0000</td>\n",
       "      <td>0.00</td>\n",
       "      <td>...</td>\n",
       "      <td>0.0810</td>\n",
       "      <td>0.0</td>\n",
       "      <td>0.0000</td>\n",
       "      <td>0.0000</td>\n",
       "      <td>0.0000</td>\n",
       "      <td>0.0</td>\n",
       "      <td>0.0000</td>\n",
       "      <td>0.0</td>\n",
       "      <td>0.0</td>\n",
       "      <td>0.000</td>\n",
       "    </tr>\n",
       "    <tr>\n",
       "      <th>Uva Roja</th>\n",
       "      <td>0.0</td>\n",
       "      <td>0.0000</td>\n",
       "      <td>0.000</td>\n",
       "      <td>0.0</td>\n",
       "      <td>0.0</td>\n",
       "      <td>0.0000</td>\n",
       "      <td>0.2025</td>\n",
       "      <td>0.0</td>\n",
       "      <td>0.3933</td>\n",
       "      <td>0.09</td>\n",
       "      <td>...</td>\n",
       "      <td>0.0972</td>\n",
       "      <td>0.0</td>\n",
       "      <td>0.0648</td>\n",
       "      <td>0.0000</td>\n",
       "      <td>0.0000</td>\n",
       "      <td>0.0</td>\n",
       "      <td>0.0000</td>\n",
       "      <td>0.0</td>\n",
       "      <td>0.0</td>\n",
       "      <td>0.000</td>\n",
       "    </tr>\n",
       "    <tr>\n",
       "      <th>CHE</th>\n",
       "      <th>Cherry Amarillo</th>\n",
       "      <td>0.0</td>\n",
       "      <td>0.0000</td>\n",
       "      <td>0.000</td>\n",
       "      <td>0.0</td>\n",
       "      <td>0.0</td>\n",
       "      <td>0.0000</td>\n",
       "      <td>0.0000</td>\n",
       "      <td>0.0</td>\n",
       "      <td>0.0000</td>\n",
       "      <td>0.00</td>\n",
       "      <td>...</td>\n",
       "      <td>0.0000</td>\n",
       "      <td>0.0</td>\n",
       "      <td>0.0000</td>\n",
       "      <td>0.0000</td>\n",
       "      <td>0.0000</td>\n",
       "      <td>0.0</td>\n",
       "      <td>0.0000</td>\n",
       "      <td>0.0</td>\n",
       "      <td>0.0</td>\n",
       "      <td>0.000</td>\n",
       "    </tr>\n",
       "    <tr>\n",
       "      <th>...</th>\n",
       "      <th>...</th>\n",
       "      <th>...</th>\n",
       "      <td>...</td>\n",
       "      <td>...</td>\n",
       "      <td>...</td>\n",
       "      <td>...</td>\n",
       "      <td>...</td>\n",
       "      <td>...</td>\n",
       "      <td>...</td>\n",
       "      <td>...</td>\n",
       "      <td>...</td>\n",
       "      <td>...</td>\n",
       "      <td>...</td>\n",
       "      <td>...</td>\n",
       "      <td>...</td>\n",
       "      <td>...</td>\n",
       "      <td>...</td>\n",
       "      <td>...</td>\n",
       "      <td>...</td>\n",
       "      <td>...</td>\n",
       "      <td>...</td>\n",
       "      <td>...</td>\n",
       "      <td>...</td>\n",
       "    </tr>\n",
       "    <tr>\n",
       "      <th rowspan=\"5\" valign=\"top\">ZJL</th>\n",
       "      <th rowspan=\"5\" valign=\"top\">CHE</th>\n",
       "      <th>Cherry Rosa</th>\n",
       "      <td>0.0</td>\n",
       "      <td>0.0000</td>\n",
       "      <td>0.000</td>\n",
       "      <td>0.0</td>\n",
       "      <td>0.0</td>\n",
       "      <td>0.0225</td>\n",
       "      <td>0.0000</td>\n",
       "      <td>0.0</td>\n",
       "      <td>0.0000</td>\n",
       "      <td>0.00</td>\n",
       "      <td>...</td>\n",
       "      <td>0.0000</td>\n",
       "      <td>0.0</td>\n",
       "      <td>0.0000</td>\n",
       "      <td>0.0000</td>\n",
       "      <td>0.0000</td>\n",
       "      <td>0.0</td>\n",
       "      <td>0.0000</td>\n",
       "      <td>0.0</td>\n",
       "      <td>0.0</td>\n",
       "      <td>0.000</td>\n",
       "    </tr>\n",
       "    <tr>\n",
       "      <th>Heirloom Cherry</th>\n",
       "      <td>0.0</td>\n",
       "      <td>0.0767</td>\n",
       "      <td>0.000</td>\n",
       "      <td>0.0</td>\n",
       "      <td>0.0</td>\n",
       "      <td>0.0000</td>\n",
       "      <td>0.0000</td>\n",
       "      <td>0.0</td>\n",
       "      <td>0.0000</td>\n",
       "      <td>0.00</td>\n",
       "      <td>...</td>\n",
       "      <td>0.0000</td>\n",
       "      <td>0.0</td>\n",
       "      <td>0.0000</td>\n",
       "      <td>0.3788</td>\n",
       "      <td>0.0788</td>\n",
       "      <td>0.0</td>\n",
       "      <td>0.5288</td>\n",
       "      <td>0.0</td>\n",
       "      <td>0.0</td>\n",
       "      <td>0.000</td>\n",
       "    </tr>\n",
       "    <tr>\n",
       "      <th>Pera</th>\n",
       "      <td>0.0</td>\n",
       "      <td>0.2628</td>\n",
       "      <td>0.045</td>\n",
       "      <td>0.0</td>\n",
       "      <td>0.0</td>\n",
       "      <td>0.0675</td>\n",
       "      <td>0.0000</td>\n",
       "      <td>0.0</td>\n",
       "      <td>0.0000</td>\n",
       "      <td>0.00</td>\n",
       "      <td>...</td>\n",
       "      <td>0.0000</td>\n",
       "      <td>0.0</td>\n",
       "      <td>0.0000</td>\n",
       "      <td>0.1125</td>\n",
       "      <td>0.0000</td>\n",
       "      <td>0.0</td>\n",
       "      <td>0.0000</td>\n",
       "      <td>0.0</td>\n",
       "      <td>0.0</td>\n",
       "      <td>0.000</td>\n",
       "    </tr>\n",
       "    <tr>\n",
       "      <th>Pera Amarilla</th>\n",
       "      <td>0.0</td>\n",
       "      <td>0.0000</td>\n",
       "      <td>0.000</td>\n",
       "      <td>0.0</td>\n",
       "      <td>0.0</td>\n",
       "      <td>0.0000</td>\n",
       "      <td>0.0000</td>\n",
       "      <td>0.0</td>\n",
       "      <td>0.0000</td>\n",
       "      <td>0.00</td>\n",
       "      <td>...</td>\n",
       "      <td>0.0000</td>\n",
       "      <td>0.0</td>\n",
       "      <td>0.0000</td>\n",
       "      <td>0.0000</td>\n",
       "      <td>0.0788</td>\n",
       "      <td>0.0</td>\n",
       "      <td>0.2250</td>\n",
       "      <td>0.0</td>\n",
       "      <td>0.0</td>\n",
       "      <td>0.000</td>\n",
       "    </tr>\n",
       "    <tr>\n",
       "      <th>Pera Roja</th>\n",
       "      <td>0.0</td>\n",
       "      <td>0.0000</td>\n",
       "      <td>0.000</td>\n",
       "      <td>0.0</td>\n",
       "      <td>0.0</td>\n",
       "      <td>0.0000</td>\n",
       "      <td>0.0000</td>\n",
       "      <td>0.0</td>\n",
       "      <td>0.0000</td>\n",
       "      <td>0.00</td>\n",
       "      <td>...</td>\n",
       "      <td>0.0000</td>\n",
       "      <td>0.0</td>\n",
       "      <td>0.0000</td>\n",
       "      <td>0.0000</td>\n",
       "      <td>0.0000</td>\n",
       "      <td>0.0</td>\n",
       "      <td>0.0000</td>\n",
       "      <td>0.0</td>\n",
       "      <td>0.0</td>\n",
       "      <td>0.285</td>\n",
       "    </tr>\n",
       "  </tbody>\n",
       "</table>\n",
       "<p>95 rows × 35 columns</p>\n",
       "</div>"
      ],
      "text/plain": [
       "WeekTransplanted              4       5      6    7    8       9       10  \\\n",
       "Ranch Class Type                                                            \n",
       "MAP   BSUF  Uva Roja         0.0  0.0000  0.000  0.0  0.0  0.0000  0.0000   \n",
       "      CHE   Cherry Naranja   0.0  0.0000  0.000  0.0  0.0  0.0000  0.0000   \n",
       "OAP   BSUF  Uva Amarilla     0.0  0.0000  0.000  0.0  0.0  0.0000  0.0000   \n",
       "            Uva Roja         0.0  0.0000  0.000  0.0  0.0  0.0000  0.2025   \n",
       "      CHE   Cherry Amarillo  0.0  0.0000  0.000  0.0  0.0  0.0000  0.0000   \n",
       "...                          ...     ...    ...  ...  ...     ...     ...   \n",
       "ZJL   CHE   Cherry Rosa      0.0  0.0000  0.000  0.0  0.0  0.0225  0.0000   \n",
       "            Heirloom Cherry  0.0  0.0767  0.000  0.0  0.0  0.0000  0.0000   \n",
       "            Pera             0.0  0.2628  0.045  0.0  0.0  0.0675  0.0000   \n",
       "            Pera Amarilla    0.0  0.0000  0.000  0.0  0.0  0.0000  0.0000   \n",
       "            Pera Roja        0.0  0.0000  0.000  0.0  0.0  0.0000  0.0000   \n",
       "\n",
       "WeekTransplanted              11      12    13  ...      29   30      31  \\\n",
       "Ranch Class Type                                ...                        \n",
       "MAP   BSUF  Uva Roja         0.0  0.0000  0.00  ...  0.0000  0.0  0.0000   \n",
       "      CHE   Cherry Naranja   0.0  0.0000  0.00  ...  0.0000  0.0  0.0000   \n",
       "OAP   BSUF  Uva Amarilla     0.0  0.0000  0.00  ...  0.0810  0.0  0.0000   \n",
       "            Uva Roja         0.0  0.3933  0.09  ...  0.0972  0.0  0.0648   \n",
       "      CHE   Cherry Amarillo  0.0  0.0000  0.00  ...  0.0000  0.0  0.0000   \n",
       "...                          ...     ...   ...  ...     ...  ...     ...   \n",
       "ZJL   CHE   Cherry Rosa      0.0  0.0000  0.00  ...  0.0000  0.0  0.0000   \n",
       "            Heirloom Cherry  0.0  0.0000  0.00  ...  0.0000  0.0  0.0000   \n",
       "            Pera             0.0  0.0000  0.00  ...  0.0000  0.0  0.0000   \n",
       "            Pera Amarilla    0.0  0.0000  0.00  ...  0.0000  0.0  0.0000   \n",
       "            Pera Roja        0.0  0.0000  0.00  ...  0.0000  0.0  0.0000   \n",
       "\n",
       "WeekTransplanted                 32      33   34      35   36   37     39  \n",
       "Ranch Class Type                                                           \n",
       "MAP   BSUF  Uva Roja         0.0000  0.0000  0.0  0.0000  0.0  0.0  0.000  \n",
       "      CHE   Cherry Naranja   0.0000  0.0000  0.0  0.0000  0.0  0.0  0.000  \n",
       "OAP   BSUF  Uva Amarilla     0.0000  0.0000  0.0  0.0000  0.0  0.0  0.000  \n",
       "            Uva Roja         0.0000  0.0000  0.0  0.0000  0.0  0.0  0.000  \n",
       "      CHE   Cherry Amarillo  0.0000  0.0000  0.0  0.0000  0.0  0.0  0.000  \n",
       "...                             ...     ...  ...     ...  ...  ...    ...  \n",
       "ZJL   CHE   Cherry Rosa      0.0000  0.0000  0.0  0.0000  0.0  0.0  0.000  \n",
       "            Heirloom Cherry  0.3788  0.0788  0.0  0.5288  0.0  0.0  0.000  \n",
       "            Pera             0.1125  0.0000  0.0  0.0000  0.0  0.0  0.000  \n",
       "            Pera Amarilla    0.0000  0.0788  0.0  0.2250  0.0  0.0  0.000  \n",
       "            Pera Roja        0.0000  0.0000  0.0  0.0000  0.0  0.0  0.285  \n",
       "\n",
       "[95 rows x 35 columns]"
      ]
     },
     "execution_count": 14,
     "metadata": {},
     "output_type": "execute_result"
    }
   ],
   "source": [
    "ranch_pivot"
   ]
  },
  {
   "cell_type": "code",
   "execution_count": 15,
   "metadata": {},
   "outputs": [
    {
     "data": {
      "text/html": [
       "<div>\n",
       "<style scoped>\n",
       "    .dataframe tbody tr th:only-of-type {\n",
       "        vertical-align: middle;\n",
       "    }\n",
       "\n",
       "    .dataframe tbody tr th {\n",
       "        vertical-align: top;\n",
       "    }\n",
       "\n",
       "    .dataframe thead tr th {\n",
       "        text-align: left;\n",
       "    }\n",
       "\n",
       "    .dataframe thead tr:last-of-type th {\n",
       "        text-align: right;\n",
       "    }\n",
       "</style>\n",
       "<table border=\"1\" class=\"dataframe\">\n",
       "  <thead>\n",
       "    <tr>\n",
       "      <th></th>\n",
       "      <th></th>\n",
       "      <th></th>\n",
       "      <th>Ha</th>\n",
       "      <th colspan=\"3\" halign=\"left\">WeekTransplanted</th>\n",
       "    </tr>\n",
       "    <tr>\n",
       "      <th></th>\n",
       "      <th></th>\n",
       "      <th></th>\n",
       "      <th>sum</th>\n",
       "      <th>min</th>\n",
       "      <th>max</th>\n",
       "      <th>nunique</th>\n",
       "    </tr>\n",
       "    <tr>\n",
       "      <th>Class</th>\n",
       "      <th>Type</th>\n",
       "      <th>Ranch</th>\n",
       "      <th></th>\n",
       "      <th></th>\n",
       "      <th></th>\n",
       "      <th></th>\n",
       "    </tr>\n",
       "  </thead>\n",
       "  <tbody>\n",
       "    <tr>\n",
       "      <th rowspan=\"5\" valign=\"top\">BSUF</th>\n",
       "      <th rowspan=\"5\" valign=\"top\">Uva Amarilla</th>\n",
       "      <th>OAP</th>\n",
       "      <td>2.4354</td>\n",
       "      <td>16</td>\n",
       "      <td>29</td>\n",
       "      <td>7</td>\n",
       "    </tr>\n",
       "    <tr>\n",
       "      <th>OSF</th>\n",
       "      <td>0.8845</td>\n",
       "      <td>14</td>\n",
       "      <td>26</td>\n",
       "      <td>5</td>\n",
       "    </tr>\n",
       "    <tr>\n",
       "      <th>SAB</th>\n",
       "      <td>0.5940</td>\n",
       "      <td>15</td>\n",
       "      <td>30</td>\n",
       "      <td>4</td>\n",
       "    </tr>\n",
       "    <tr>\n",
       "      <th>SFB</th>\n",
       "      <td>1.1320</td>\n",
       "      <td>14</td>\n",
       "      <td>28</td>\n",
       "      <td>5</td>\n",
       "    </tr>\n",
       "    <tr>\n",
       "      <th>SGB</th>\n",
       "      <td>0.0204</td>\n",
       "      <td>18</td>\n",
       "      <td>18</td>\n",
       "      <td>1</td>\n",
       "    </tr>\n",
       "    <tr>\n",
       "      <th>...</th>\n",
       "      <th>...</th>\n",
       "      <th>...</th>\n",
       "      <td>...</td>\n",
       "      <td>...</td>\n",
       "      <td>...</td>\n",
       "      <td>...</td>\n",
       "    </tr>\n",
       "    <tr>\n",
       "      <th rowspan=\"5\" valign=\"top\">CHE</th>\n",
       "      <th rowspan=\"5\" valign=\"top\">Pera Roja</th>\n",
       "      <th>SGC</th>\n",
       "      <td>0.3042</td>\n",
       "      <td>16</td>\n",
       "      <td>16</td>\n",
       "      <td>1</td>\n",
       "    </tr>\n",
       "    <tr>\n",
       "      <th>SJB</th>\n",
       "      <td>0.0552</td>\n",
       "      <td>24</td>\n",
       "      <td>24</td>\n",
       "      <td>1</td>\n",
       "    </tr>\n",
       "    <tr>\n",
       "      <th>SMB</th>\n",
       "      <td>0.0600</td>\n",
       "      <td>27</td>\n",
       "      <td>27</td>\n",
       "      <td>1</td>\n",
       "    </tr>\n",
       "    <tr>\n",
       "      <th>VAP</th>\n",
       "      <td>1.3180</td>\n",
       "      <td>10</td>\n",
       "      <td>30</td>\n",
       "      <td>6</td>\n",
       "    </tr>\n",
       "    <tr>\n",
       "      <th>ZJL</th>\n",
       "      <td>0.2850</td>\n",
       "      <td>39</td>\n",
       "      <td>39</td>\n",
       "      <td>1</td>\n",
       "    </tr>\n",
       "  </tbody>\n",
       "</table>\n",
       "<p>95 rows × 4 columns</p>\n",
       "</div>"
      ],
      "text/plain": [
       "                              Ha WeekTransplanted            \n",
       "                             sum              min max nunique\n",
       "Class Type         Ranch                                     \n",
       "BSUF  Uva Amarilla OAP    2.4354               16  29       7\n",
       "                   OSF    0.8845               14  26       5\n",
       "                   SAB    0.5940               15  30       4\n",
       "                   SFB    1.1320               14  28       5\n",
       "                   SGB    0.0204               18  18       1\n",
       "...                          ...              ...  ..     ...\n",
       "CHE   Pera Roja    SGC    0.3042               16  16       1\n",
       "                   SJB    0.0552               24  24       1\n",
       "                   SMB    0.0600               27  27       1\n",
       "                   VAP    1.3180               10  30       6\n",
       "                   ZJL    0.2850               39  39       1\n",
       "\n",
       "[95 rows x 4 columns]"
      ]
     },
     "execution_count": 15,
     "metadata": {},
     "output_type": "execute_result"
    }
   ],
   "source": [
    "summary_class_ranch"
   ]
  },
  {
   "cell_type": "code",
   "execution_count": 12,
   "metadata": {},
   "outputs": [
    {
     "data": {
      "text/html": [
       "<div>\n",
       "<style scoped>\n",
       "    .dataframe tbody tr th:only-of-type {\n",
       "        vertical-align: middle;\n",
       "    }\n",
       "\n",
       "    .dataframe tbody tr th {\n",
       "        vertical-align: top;\n",
       "    }\n",
       "\n",
       "    .dataframe thead th {\n",
       "        text-align: right;\n",
       "    }\n",
       "</style>\n",
       "<table border=\"1\" class=\"dataframe\">\n",
       "  <thead>\n",
       "    <tr style=\"text-align: right;\">\n",
       "      <th></th>\n",
       "      <th>WeekTransplanted</th>\n",
       "      <th>4</th>\n",
       "      <th>5</th>\n",
       "      <th>6</th>\n",
       "      <th>7</th>\n",
       "      <th>8</th>\n",
       "      <th>9</th>\n",
       "      <th>10</th>\n",
       "      <th>11</th>\n",
       "      <th>12</th>\n",
       "      <th>13</th>\n",
       "      <th>...</th>\n",
       "      <th>29</th>\n",
       "      <th>30</th>\n",
       "      <th>31</th>\n",
       "      <th>32</th>\n",
       "      <th>33</th>\n",
       "      <th>34</th>\n",
       "      <th>35</th>\n",
       "      <th>36</th>\n",
       "      <th>37</th>\n",
       "      <th>39</th>\n",
       "    </tr>\n",
       "    <tr>\n",
       "      <th>Class</th>\n",
       "      <th>Type</th>\n",
       "      <th></th>\n",
       "      <th></th>\n",
       "      <th></th>\n",
       "      <th></th>\n",
       "      <th></th>\n",
       "      <th></th>\n",
       "      <th></th>\n",
       "      <th></th>\n",
       "      <th></th>\n",
       "      <th></th>\n",
       "      <th></th>\n",
       "      <th></th>\n",
       "      <th></th>\n",
       "      <th></th>\n",
       "      <th></th>\n",
       "      <th></th>\n",
       "      <th></th>\n",
       "      <th></th>\n",
       "      <th></th>\n",
       "      <th></th>\n",
       "      <th></th>\n",
       "    </tr>\n",
       "  </thead>\n",
       "  <tbody>\n",
       "    <tr>\n",
       "      <th rowspan=\"3\" valign=\"top\">BSUF</th>\n",
       "      <th>Uva Amarilla</th>\n",
       "      <td>0.0000</td>\n",
       "      <td>0.0000</td>\n",
       "      <td>0.0000</td>\n",
       "      <td>0.0000</td>\n",
       "      <td>0.0000</td>\n",
       "      <td>0.0000</td>\n",
       "      <td>0.0000</td>\n",
       "      <td>0.0000</td>\n",
       "      <td>0.0288</td>\n",
       "      <td>0.1426</td>\n",
       "      <td>...</td>\n",
       "      <td>0.9484</td>\n",
       "      <td>0.4743</td>\n",
       "      <td>0.0960</td>\n",
       "      <td>0.0000</td>\n",
       "      <td>0.0000</td>\n",
       "      <td>0.0000</td>\n",
       "      <td>0.1200</td>\n",
       "      <td>0.1260</td>\n",
       "      <td>0.0000</td>\n",
       "      <td>0.000</td>\n",
       "    </tr>\n",
       "    <tr>\n",
       "      <th>Uva Roja</th>\n",
       "      <td>0.0000</td>\n",
       "      <td>0.2795</td>\n",
       "      <td>0.4163</td>\n",
       "      <td>0.0000</td>\n",
       "      <td>1.5076</td>\n",
       "      <td>2.4517</td>\n",
       "      <td>0.3649</td>\n",
       "      <td>4.1572</td>\n",
       "      <td>4.0560</td>\n",
       "      <td>5.7984</td>\n",
       "      <td>...</td>\n",
       "      <td>2.3746</td>\n",
       "      <td>3.5287</td>\n",
       "      <td>1.7668</td>\n",
       "      <td>0.7313</td>\n",
       "      <td>0.9143</td>\n",
       "      <td>0.6477</td>\n",
       "      <td>1.5597</td>\n",
       "      <td>0.0000</td>\n",
       "      <td>0.0000</td>\n",
       "      <td>0.000</td>\n",
       "    </tr>\n",
       "    <tr>\n",
       "      <th>Uva Zebra</th>\n",
       "      <td>0.0000</td>\n",
       "      <td>0.0000</td>\n",
       "      <td>0.0000</td>\n",
       "      <td>0.0000</td>\n",
       "      <td>0.0000</td>\n",
       "      <td>0.0000</td>\n",
       "      <td>0.0000</td>\n",
       "      <td>0.0000</td>\n",
       "      <td>0.0000</td>\n",
       "      <td>0.0000</td>\n",
       "      <td>...</td>\n",
       "      <td>0.0000</td>\n",
       "      <td>0.0000</td>\n",
       "      <td>0.0000</td>\n",
       "      <td>0.0000</td>\n",
       "      <td>0.0000</td>\n",
       "      <td>0.0000</td>\n",
       "      <td>0.0000</td>\n",
       "      <td>0.0000</td>\n",
       "      <td>0.0000</td>\n",
       "      <td>0.000</td>\n",
       "    </tr>\n",
       "    <tr>\n",
       "      <th rowspan=\"9\" valign=\"top\">CHE</th>\n",
       "      <th>Cherry Amarillo</th>\n",
       "      <td>0.0000</td>\n",
       "      <td>0.0000</td>\n",
       "      <td>0.0000</td>\n",
       "      <td>0.0000</td>\n",
       "      <td>0.0000</td>\n",
       "      <td>0.0000</td>\n",
       "      <td>0.0000</td>\n",
       "      <td>0.2604</td>\n",
       "      <td>0.0000</td>\n",
       "      <td>0.0480</td>\n",
       "      <td>...</td>\n",
       "      <td>0.1884</td>\n",
       "      <td>0.0000</td>\n",
       "      <td>0.0000</td>\n",
       "      <td>0.0000</td>\n",
       "      <td>0.0320</td>\n",
       "      <td>0.0000</td>\n",
       "      <td>0.0000</td>\n",
       "      <td>0.0000</td>\n",
       "      <td>0.0000</td>\n",
       "      <td>0.000</td>\n",
       "    </tr>\n",
       "    <tr>\n",
       "      <th>Cherry Chocolate</th>\n",
       "      <td>0.0000</td>\n",
       "      <td>0.0000</td>\n",
       "      <td>0.0000</td>\n",
       "      <td>0.0000</td>\n",
       "      <td>0.0000</td>\n",
       "      <td>0.0000</td>\n",
       "      <td>0.3200</td>\n",
       "      <td>0.0000</td>\n",
       "      <td>0.0000</td>\n",
       "      <td>0.0204</td>\n",
       "      <td>...</td>\n",
       "      <td>0.0000</td>\n",
       "      <td>0.0000</td>\n",
       "      <td>0.0000</td>\n",
       "      <td>0.0000</td>\n",
       "      <td>0.0000</td>\n",
       "      <td>0.0000</td>\n",
       "      <td>0.0000</td>\n",
       "      <td>0.0000</td>\n",
       "      <td>0.1440</td>\n",
       "      <td>0.000</td>\n",
       "    </tr>\n",
       "    <tr>\n",
       "      <th>Cherry Naranja</th>\n",
       "      <td>0.0000</td>\n",
       "      <td>0.0000</td>\n",
       "      <td>0.0540</td>\n",
       "      <td>0.0000</td>\n",
       "      <td>0.0000</td>\n",
       "      <td>0.0000</td>\n",
       "      <td>0.0000</td>\n",
       "      <td>0.0000</td>\n",
       "      <td>0.0000</td>\n",
       "      <td>0.0000</td>\n",
       "      <td>...</td>\n",
       "      <td>0.0000</td>\n",
       "      <td>0.1805</td>\n",
       "      <td>0.0000</td>\n",
       "      <td>0.1220</td>\n",
       "      <td>0.0000</td>\n",
       "      <td>0.0000</td>\n",
       "      <td>0.0000</td>\n",
       "      <td>0.0000</td>\n",
       "      <td>0.0000</td>\n",
       "      <td>0.000</td>\n",
       "    </tr>\n",
       "    <tr>\n",
       "      <th>Cherry Rojo</th>\n",
       "      <td>0.4224</td>\n",
       "      <td>0.0000</td>\n",
       "      <td>0.0000</td>\n",
       "      <td>0.8439</td>\n",
       "      <td>1.0463</td>\n",
       "      <td>0.0000</td>\n",
       "      <td>0.5592</td>\n",
       "      <td>2.5598</td>\n",
       "      <td>1.4912</td>\n",
       "      <td>1.6628</td>\n",
       "      <td>...</td>\n",
       "      <td>2.6948</td>\n",
       "      <td>0.3340</td>\n",
       "      <td>0.1857</td>\n",
       "      <td>0.0000</td>\n",
       "      <td>0.0000</td>\n",
       "      <td>1.0066</td>\n",
       "      <td>0.0000</td>\n",
       "      <td>0.0000</td>\n",
       "      <td>0.0000</td>\n",
       "      <td>0.000</td>\n",
       "    </tr>\n",
       "    <tr>\n",
       "      <th>Cherry Rosa</th>\n",
       "      <td>0.0000</td>\n",
       "      <td>0.0000</td>\n",
       "      <td>0.0000</td>\n",
       "      <td>0.0000</td>\n",
       "      <td>0.0000</td>\n",
       "      <td>0.0225</td>\n",
       "      <td>0.2720</td>\n",
       "      <td>0.0000</td>\n",
       "      <td>0.0000</td>\n",
       "      <td>0.1152</td>\n",
       "      <td>...</td>\n",
       "      <td>0.0000</td>\n",
       "      <td>0.0000</td>\n",
       "      <td>0.0480</td>\n",
       "      <td>0.0000</td>\n",
       "      <td>0.0800</td>\n",
       "      <td>0.0000</td>\n",
       "      <td>0.0000</td>\n",
       "      <td>0.0000</td>\n",
       "      <td>0.0000</td>\n",
       "      <td>0.000</td>\n",
       "    </tr>\n",
       "    <tr>\n",
       "      <th>Heirloom Cherry</th>\n",
       "      <td>0.0000</td>\n",
       "      <td>0.0767</td>\n",
       "      <td>0.0000</td>\n",
       "      <td>0.0000</td>\n",
       "      <td>0.0000</td>\n",
       "      <td>0.0000</td>\n",
       "      <td>0.4160</td>\n",
       "      <td>0.7239</td>\n",
       "      <td>0.9305</td>\n",
       "      <td>1.4423</td>\n",
       "      <td>...</td>\n",
       "      <td>1.2278</td>\n",
       "      <td>0.9050</td>\n",
       "      <td>0.2992</td>\n",
       "      <td>0.8288</td>\n",
       "      <td>0.4588</td>\n",
       "      <td>0.0000</td>\n",
       "      <td>0.5288</td>\n",
       "      <td>0.0306</td>\n",
       "      <td>0.0000</td>\n",
       "      <td>0.000</td>\n",
       "    </tr>\n",
       "    <tr>\n",
       "      <th>Pera</th>\n",
       "      <td>0.0000</td>\n",
       "      <td>0.2628</td>\n",
       "      <td>0.0450</td>\n",
       "      <td>0.0000</td>\n",
       "      <td>0.0000</td>\n",
       "      <td>0.0675</td>\n",
       "      <td>0.0000</td>\n",
       "      <td>0.3840</td>\n",
       "      <td>0.2940</td>\n",
       "      <td>0.1616</td>\n",
       "      <td>...</td>\n",
       "      <td>0.3646</td>\n",
       "      <td>0.0000</td>\n",
       "      <td>0.1980</td>\n",
       "      <td>0.1125</td>\n",
       "      <td>0.0000</td>\n",
       "      <td>0.0000</td>\n",
       "      <td>0.0000</td>\n",
       "      <td>0.0000</td>\n",
       "      <td>0.0000</td>\n",
       "      <td>0.000</td>\n",
       "    </tr>\n",
       "    <tr>\n",
       "      <th>Pera Amarilla</th>\n",
       "      <td>0.0000</td>\n",
       "      <td>0.0000</td>\n",
       "      <td>0.0540</td>\n",
       "      <td>0.0000</td>\n",
       "      <td>0.0000</td>\n",
       "      <td>0.0000</td>\n",
       "      <td>0.1944</td>\n",
       "      <td>0.3337</td>\n",
       "      <td>0.1710</td>\n",
       "      <td>0.0000</td>\n",
       "      <td>...</td>\n",
       "      <td>0.4160</td>\n",
       "      <td>0.1020</td>\n",
       "      <td>0.0000</td>\n",
       "      <td>0.0000</td>\n",
       "      <td>0.5188</td>\n",
       "      <td>0.0000</td>\n",
       "      <td>0.2250</td>\n",
       "      <td>0.0000</td>\n",
       "      <td>0.2304</td>\n",
       "      <td>0.000</td>\n",
       "    </tr>\n",
       "    <tr>\n",
       "      <th>Pera Roja</th>\n",
       "      <td>0.0000</td>\n",
       "      <td>0.0000</td>\n",
       "      <td>0.0000</td>\n",
       "      <td>0.0000</td>\n",
       "      <td>0.0000</td>\n",
       "      <td>0.0000</td>\n",
       "      <td>0.1600</td>\n",
       "      <td>0.0900</td>\n",
       "      <td>0.5294</td>\n",
       "      <td>0.4400</td>\n",
       "      <td>...</td>\n",
       "      <td>0.2220</td>\n",
       "      <td>0.1272</td>\n",
       "      <td>0.0000</td>\n",
       "      <td>0.0000</td>\n",
       "      <td>0.3000</td>\n",
       "      <td>0.0000</td>\n",
       "      <td>0.0000</td>\n",
       "      <td>0.0000</td>\n",
       "      <td>0.0000</td>\n",
       "      <td>0.285</td>\n",
       "    </tr>\n",
       "  </tbody>\n",
       "</table>\n",
       "<p>12 rows × 35 columns</p>\n",
       "</div>"
      ],
      "text/plain": [
       "WeekTransplanted            4       5       6       7       8       9   \\\n",
       "Class Type                                                               \n",
       "BSUF  Uva Amarilla      0.0000  0.0000  0.0000  0.0000  0.0000  0.0000   \n",
       "      Uva Roja          0.0000  0.2795  0.4163  0.0000  1.5076  2.4517   \n",
       "      Uva Zebra         0.0000  0.0000  0.0000  0.0000  0.0000  0.0000   \n",
       "CHE   Cherry Amarillo   0.0000  0.0000  0.0000  0.0000  0.0000  0.0000   \n",
       "      Cherry Chocolate  0.0000  0.0000  0.0000  0.0000  0.0000  0.0000   \n",
       "      Cherry Naranja    0.0000  0.0000  0.0540  0.0000  0.0000  0.0000   \n",
       "      Cherry Rojo       0.4224  0.0000  0.0000  0.8439  1.0463  0.0000   \n",
       "      Cherry Rosa       0.0000  0.0000  0.0000  0.0000  0.0000  0.0225   \n",
       "      Heirloom Cherry   0.0000  0.0767  0.0000  0.0000  0.0000  0.0000   \n",
       "      Pera              0.0000  0.2628  0.0450  0.0000  0.0000  0.0675   \n",
       "      Pera Amarilla     0.0000  0.0000  0.0540  0.0000  0.0000  0.0000   \n",
       "      Pera Roja         0.0000  0.0000  0.0000  0.0000  0.0000  0.0000   \n",
       "\n",
       "WeekTransplanted            10      11      12      13  ...      29      30  \\\n",
       "Class Type                                              ...                   \n",
       "BSUF  Uva Amarilla      0.0000  0.0000  0.0288  0.1426  ...  0.9484  0.4743   \n",
       "      Uva Roja          0.3649  4.1572  4.0560  5.7984  ...  2.3746  3.5287   \n",
       "      Uva Zebra         0.0000  0.0000  0.0000  0.0000  ...  0.0000  0.0000   \n",
       "CHE   Cherry Amarillo   0.0000  0.2604  0.0000  0.0480  ...  0.1884  0.0000   \n",
       "      Cherry Chocolate  0.3200  0.0000  0.0000  0.0204  ...  0.0000  0.0000   \n",
       "      Cherry Naranja    0.0000  0.0000  0.0000  0.0000  ...  0.0000  0.1805   \n",
       "      Cherry Rojo       0.5592  2.5598  1.4912  1.6628  ...  2.6948  0.3340   \n",
       "      Cherry Rosa       0.2720  0.0000  0.0000  0.1152  ...  0.0000  0.0000   \n",
       "      Heirloom Cherry   0.4160  0.7239  0.9305  1.4423  ...  1.2278  0.9050   \n",
       "      Pera              0.0000  0.3840  0.2940  0.1616  ...  0.3646  0.0000   \n",
       "      Pera Amarilla     0.1944  0.3337  0.1710  0.0000  ...  0.4160  0.1020   \n",
       "      Pera Roja         0.1600  0.0900  0.5294  0.4400  ...  0.2220  0.1272   \n",
       "\n",
       "WeekTransplanted            31      32      33      34      35      36  \\\n",
       "Class Type                                                               \n",
       "BSUF  Uva Amarilla      0.0960  0.0000  0.0000  0.0000  0.1200  0.1260   \n",
       "      Uva Roja          1.7668  0.7313  0.9143  0.6477  1.5597  0.0000   \n",
       "      Uva Zebra         0.0000  0.0000  0.0000  0.0000  0.0000  0.0000   \n",
       "CHE   Cherry Amarillo   0.0000  0.0000  0.0320  0.0000  0.0000  0.0000   \n",
       "      Cherry Chocolate  0.0000  0.0000  0.0000  0.0000  0.0000  0.0000   \n",
       "      Cherry Naranja    0.0000  0.1220  0.0000  0.0000  0.0000  0.0000   \n",
       "      Cherry Rojo       0.1857  0.0000  0.0000  1.0066  0.0000  0.0000   \n",
       "      Cherry Rosa       0.0480  0.0000  0.0800  0.0000  0.0000  0.0000   \n",
       "      Heirloom Cherry   0.2992  0.8288  0.4588  0.0000  0.5288  0.0306   \n",
       "      Pera              0.1980  0.1125  0.0000  0.0000  0.0000  0.0000   \n",
       "      Pera Amarilla     0.0000  0.0000  0.5188  0.0000  0.2250  0.0000   \n",
       "      Pera Roja         0.0000  0.0000  0.3000  0.0000  0.0000  0.0000   \n",
       "\n",
       "WeekTransplanted            37     39  \n",
       "Class Type                             \n",
       "BSUF  Uva Amarilla      0.0000  0.000  \n",
       "      Uva Roja          0.0000  0.000  \n",
       "      Uva Zebra         0.0000  0.000  \n",
       "CHE   Cherry Amarillo   0.0000  0.000  \n",
       "      Cherry Chocolate  0.1440  0.000  \n",
       "      Cherry Naranja    0.0000  0.000  \n",
       "      Cherry Rojo       0.0000  0.000  \n",
       "      Cherry Rosa       0.0000  0.000  \n",
       "      Heirloom Cherry   0.0000  0.000  \n",
       "      Pera              0.0000  0.000  \n",
       "      Pera Amarilla     0.2304  0.000  \n",
       "      Pera Roja         0.0000  0.285  \n",
       "\n",
       "[12 rows x 35 columns]"
      ]
     },
     "execution_count": 12,
     "metadata": {},
     "output_type": "execute_result"
    }
   ],
   "source": [
    "class_pivot"
   ]
  },
  {
   "cell_type": "code",
   "execution_count": 24,
   "metadata": {},
   "outputs": [
    {
     "data": {
      "application/vnd.plotly.v1+json": {
       "config": {
        "plotlyServerURL": "https://plot.ly"
       },
       "data": [
        {
         "name": "('BSUF', 'Uva Amarilla')",
         "type": "bar",
         "x": {
          "bdata": "BAUGBwgJCgsMDQ4PEBESExQVFhcYGRobHB0eHyAhIiMkJSc=",
          "dtype": "i1"
         },
         "y": {
          "bdata": "AAAAAAAAAAAAAAAAAAAAAAAAAAAAAAAAAAAAAAAAAAAAAAAAAAAAAAAAAAAAAAAAAAAAAAAAAAAAAAAAAAAAAJPLf0i/fZ0/xm00gLdAwj9GJXUCmgjfPzEIrBxaZNs/CtejcD0Kxz8830+Nl27CPxb7y+7Jw9o/JlMFo5I62T/m0CLb+X7aPx44Z0Rpb8A/YqHWNO848T/mP6Tfvg7kP0/RkVz+Q7o/AAAAAAAAAAAofoy5awnvPzzfT42XbrI//tR46SYx5D9F2PD0SlnuPwmKH2PuWt4/+n5qvHSTuD8AAAAAAAAAAAAAAAAAAAAAAAAAAAAAAAC4HoXrUbi+P1TjpZvEIMA/AAAAAAAAAAAAAAAAAAAAAA==",
          "dtype": "f8"
         }
        },
        {
         "name": "('BSUF', 'Uva Roja')",
         "type": "bar",
         "x": {
          "bdata": "BAUGBwgJCgsMDQ4PEBESExQVFhcYGRobHB0eHyAhIiMkJSc=",
          "dtype": "i1"
         },
         "y": {
          "bdata": "AAAAAAAAAAAX2c73U+PRP4fJVMGopNo/AAAAAAAAAACQMXctIR/4P1vTvOMUnQNAmN2Th4Va1z+NuWsJ+aAQQNNNYhBYORBAb4EExY8xF0Crz9VW7C8EQEhy+Q/pNwpAexSuR+F6BkDqJjEIrBwNQPvL7snDwgtAYVRSJ6CJ2D/Xo3A9ClcEQI6XbhKDwAtAPldbsb9sDEDNzMzMzMwRQIJzRpT2hhBA2j15WKg1DEDqlbIMcSwcQC4hH/Rs1hZA0bNZ9bkaEEAep+hILv8CQF8pyxDHOgxAMCqpE9BE/D/YEvJBz2bnPxlz1xLyQe0/fNCzWfW55D+jI7n8h/T4PwAAAAAAAAAAAAAAAAAAAAAAAAAAAAAAAA==",
          "dtype": "f8"
         }
        },
        {
         "name": "('BSUF', 'Uva Zebra')",
         "type": "bar",
         "x": {
          "bdata": "BAUGBwgJCgsMDQ4PEBESExQVFhcYGRobHB0eHyAhIiMkJSc=",
          "dtype": "i1"
         },
         "y": {
          "bdata": "AAAAAAAAAAAAAAAAAAAAAAAAAAAAAAAAAAAAAAAAAAAAAAAAAAAAAAAAAAAAAAAAAAAAAAAAAAAAAAAAAAAAAAAAAAAAAAAAAAAAAAAAAAAAAAAAAAAAAAAAAAAAAAAAAAAAAAAAAAAAAAAAAAAAAAAAAAAAAAAA+n5qvHSTmD8AAAAAAAAAAHsUrkfherQ/AAAAAAAAAAAAAAAAAAAAAAAAAAAAAAAAAAAAAAAAAAAAAAAAAAAAAAAAAAAAAAAAAAAAAAAAAAAAAAAAAAAAAAAAAAAAAAAAAAAAAAAAAAAAAAAAAAAAAAAAAAAAAAAAAAAAAAAAAAAAAAAAAAAAAAAAAAAAAAAAAAAAAAAAAAAAAAAAAAAAAA==",
          "dtype": "f8"
         }
        },
        {
         "name": "('CHE', 'Cherry Amarillo')",
         "type": "bar",
         "x": {
          "bdata": "BAUGBwgJCgsMDQ4PEBESExQVFhcYGRobHB0eHyAhIiMkJSc=",
          "dtype": "i1"
         },
         "y": {
          "bdata": "AAAAAAAAAAAAAAAAAAAAAAAAAAAAAAAAAAAAAAAAAAAAAAAAAAAAAAAAAAAAAAAAAAAAAAAAAAC1N/jCZKrQPwAAAAAAAAAA+n5qvHSTqD+DwMqhRbazP1QFo5I6Ab0/AAAAAAAAAADGbTSAt0CyPwAAAAAAAAAAAAAAAAAAAAAAAAAAAAAAAE/RkVz+Q6o/AAAAAAAAAAAX2c73U+O1PwAAAAAAAAAAT9GRXP5Dqj8AAAAAAAAAAAAAAAAAAAAAexSuR+F6tD/Mf0i/fR3IPwAAAAAAAAAAAAAAAAAAAAAAAAAAAAAAAPyp8dJNYqA/AAAAAAAAAAAAAAAAAAAAAAAAAAAAAAAAAAAAAAAAAAAAAAAAAAAAAA==",
          "dtype": "f8"
         }
        },
        {
         "name": "('CHE', 'Cherry Chocolate')",
         "type": "bar",
         "x": {
          "bdata": "BAUGBwgJCgsMDQ4PEBESExQVFhcYGRobHB0eHyAhIiMkJSc=",
          "dtype": "i1"
         },
         "y": {
          "bdata": "AAAAAAAAAAAAAAAAAAAAAAAAAAAAAAAAAAAAAAAAAAAAAAAAAAAAAAAAAAAAAAAAexSuR+F61D8AAAAAAAAAAAAAAAAAAAAAiIVa07zjlD8AAAAAAAAAAAAAAAAAAAAAAAAAAAAAAAAAAAAAAAAAAAAAAAAAAAAABOeMKO0Nvj8AAAAAAAAAAAAAAAAAAAAAAAAAAAAAAAAAAAAAAAAAAAAAAAAAAAAAAAAAAAAAAAATg8DKoUXWPwAAAAAAAAAAAAAAAAAAAAAAAAAAAAAAAAAAAAAAAAAAAAAAAAAAAAAAAAAAAAAAAAAAAAAAAAAAAAAAAAAAAAAAAAAAAAAAAAAAAAAAAAAAPN9PjZduwj8AAAAAAAAAAA==",
          "dtype": "f8"
         }
        },
        {
         "name": "('CHE', 'Cherry Naranja')",
         "type": "bar",
         "x": {
          "bdata": "BAUGBwgJCgsMDQ4PEBESExQVFhcYGRobHB0eHyAhIiMkJSc=",
          "dtype": "i1"
         },
         "y": {
          "bdata": "AAAAAAAAAAAAAAAAAAAAANnO91Pjpas/AAAAAAAAAAAAAAAAAAAAAAAAAAAAAAAAAAAAAAAAAAAAAAAAAAAAAAAAAAAAAAAAAAAAAAAAAAD6fmq8dJO4P0SLbOf7qcE/JnUCmggb3j8830+Nl26SP8TTK2UZ4qg/PN9PjZduwj9cIEHxY8zNPwAAAAAAAAAA3+ALk6mCoT8AAAAAAAAAAAAAAAAAAAAA9dvXgXNGlD8AAAAAAAAAAAAAAAAAAAAAAAAAAAAAAAAAAAAAAAAAALXIdr6fGsc/AAAAAAAAAAAIrBxaZDu/PwAAAAAAAAAAAAAAAAAAAAAAAAAAAAAAAAAAAAAAAAAAAAAAAAAAAAAAAAAAAAAAAA==",
          "dtype": "f8"
         }
        },
        {
         "name": "('CHE', 'Cherry Rojo')",
         "type": "bar",
         "x": {
          "bdata": "BAUGBwgJCgsMDQ4PEBESExQVFhcYGRobHB0eHyAhIiMkJSc=",
          "dtype": "i1"
         },
         "y": {
          "bdata": "RiV1ApoI2z8AAAAAAAAAAAAAAAAAAAAAVAWjkjoB6z924JwRpb3wPwAAAAAAAAAA24r9Zffk4T8KaCJseHoEQCS5/If02/c/7Z48LNSa+j9xrIvbaAD9P8xdS8gHPeU/io7k8h/S4z8GEhQ/xtz4P0w3iUFg5QRAjgbwFkhQ9z+QoPgx5q7+P8UgsHJokfE/DAIrhxbZ+T8B3gIJih/7P/OwUGuadwRAAwmKH2Pu9D/0/dR46SbtPw5Pr5RliP4/SS7/If32/z8eFmpN844FQMdLN4lBYNU/agBvgQTFxz8AAAAAAAAAAAAAAAAAAAAAJnUCmggb8D8AAAAAAAAAAAAAAAAAAAAAAAAAAAAAAAAAAAAAAAAAAA==",
          "dtype": "f8"
         }
        },
        {
         "name": "('CHE', 'Cherry Rosa')",
         "type": "bar",
         "x": {
          "bdata": "BAUGBwgJCgsMDQ4PEBESExQVFhcYGRobHB0eHyAhIiMkJSc=",
          "dtype": "i1"
         },
         "y": {
          "bdata": "AAAAAAAAAAAAAAAAAAAAAAAAAAAAAAAAAAAAAAAAAAAAAAAAAAAAAAvXo3A9Cpc/nMQgsHJo0T8AAAAAAAAAAAAAAAAAAAAAk8t/SL99vT/IuriNBvDWP1QFo5I6Ab0/AAAAAAAAAAAAAAAAAAAAALgehetRuL4/AAAAAAAAAAAAAAAAAAAAAHsUrkfhesQ/PN9PjZdu0j8AAAAAAAAAAN/gC5OpgqE/AAAAAAAAAAC4rwPnjCjVP+J6FK5H4eI/exSuR+F6xD8AAAAAAAAAAAAAAAAAAAAA+n5qvHSTqD8AAAAAAAAAAHsUrkfherQ/AAAAAAAAAAAAAAAAAAAAAAAAAAAAAAAAAAAAAAAAAAAAAAAAAAAAAA==",
          "dtype": "f8"
         }
        },
        {
         "name": "('CHE', 'Heirloom Cherry')",
         "type": "bar",
         "x": {
          "bdata": "BAUGBwgJCgsMDQ4PEBESExQVFhcYGRobHB0eHyAhIiMkJSc=",
          "dtype": "i1"
         },
         "y": {
          "bdata": "AAAAAAAAAABRa5p3nKKzPwAAAAAAAAAAAAAAAAAAAAAAAAAAAAAAAAAAAAAAAAAAOrTIdr6f2j98YTJVMCrnPy2yne+nxu0/M1UwKqkT9z8+CtejcD3kP5XUCWgibNg/z2bV52or7D9MyAc9m1WfP/cGX5hMFew/nu+nxks3uT9Ra5p3nKLfP9iBc0aU9uI/XrpJDAIrzz9VUiegibD8P+4NvjCZKvo/DXGsi9to8D8zVTAqqRP8P6abxCCwcuQ/JuSDns2q8z/3deCcEaXzP/YoXI/C9ew/EqW9wRcm0z/2l92Th4XqPz7o2az6XN0/AAAAAAAAAABc/kP67evgP0zIBz2bVZ8/AAAAAAAAAAAAAAAAAAAAAA==",
          "dtype": "f8"
         }
        },
        {
         "name": "('CHE', 'Pera')",
         "type": "bar",
         "x": {
          "bdata": "BAUGBwgJCgsMDQ4PEBESExQVFhcYGRobHB0eHyAhIiMkJSc=",
          "dtype": "i1"
         },
         "y": {
          "bdata": "AAAAAAAAAAAa4lgXt9HQPwrXo3A9Cqc/AAAAAAAAAAAAAAAAAAAAAEjhehSuR7E/AAAAAAAAAAD6fmq8dJPYPziJQWDl0NI/Ak2EDU+vxD9AE2HD0yvFPyNseHqlLOM/KKCJsOHp0T9xzojS3uDTP4Lix5i7lsA/T9GRXP5Dyj/aPXlYqDW9P9/gC5OpgtE/PN9PjZdu4j8nwoanV8rSP+PHmLuWkN8/GlHaG3xh6j+S7Xw/NV7sP3TXEvJBz8Y/xNMrZRniuD9MyAc9m1XXPwAAAAAAAAAA8tJNYhBYyT/NzMzMzMy8PwAAAAAAAAAAAAAAAAAAAAAAAAAAAAAAAAAAAAAAAAAAAAAAAAAAAAAAAAAAAAAAAA==",
          "dtype": "f8"
         }
        },
        {
         "name": "('CHE', 'Pera Amarilla')",
         "type": "bar",
         "x": {
          "bdata": "BAUGBwgJCgsMDQ4PEBESExQVFhcYGRobHB0eHyAhIiMkJSc=",
          "dtype": "i1"
         },
         "y": {
          "bdata": "AAAAAAAAAAAAAAAAAAAAANnO91Pjpas/AAAAAAAAAAAAAAAAAAAAAAAAAAAAAAAAxNMrZRniyD96Nqs+V1vVPxfZzvdT48U/AAAAAAAAAABmGeJYF7fVP2HD0ytlGbI/guLHmLuWoD+OBvAWSFDUP+omMQisHLo/7Q2+MJkq2D8AAAAAAAAAAB1aZDvfT90/T9GRXP5Dqj8Wak3zjlPkP44G8BZIUNQ/AAAAAAAAAADy0k1iEFi5P5qZmZmZmck/ZvfkYaHW5j86tMh2vp/aP+omMQisHLo/AAAAAAAAAAAAAAAAAAAAAAtGJXUCmuA/AAAAAAAAAADNzMzMzMzMPwAAAAAAAAAAk8t/SL99zT8AAAAAAAAAAA==",
          "dtype": "f8"
         }
        },
        {
         "name": "('CHE', 'Pera Roja')",
         "type": "bar",
         "x": {
          "bdata": "BAUGBwgJCgsMDQ4PEBESExQVFhcYGRobHB0eHyAhIiMkJSc=",
          "dtype": "i1"
         },
         "y": {
          "bdata": "AAAAAAAAAAAAAAAAAAAAAAAAAAAAAAAAAAAAAAAAAAAAAAAAAAAAAAAAAAAAAAAAexSuR+F6xD8K16NwPQq3P6kT0ETY8OA/KVyPwvUo3D++wRcmUwXrPwAAAAAAAAAA2fD0SlmG2D+X/5B++zrQPyPb+X5qvMQ/hQ1Pr5Rl0D97FK5H4Xq0P42XbhKDwMo/DuAtkKD40T9I4XoUrkfRPxgmUwWjkto/hslUwaikvj+Ens2qz9XSP4xK6gQ0EdI/AAAAAAAAAADRItv5fmrMP7mNBvAWSMA/AAAAAAAAAAAAAAAAAAAAADQzMzMzM9M/AAAAAAAAAAAAAAAAAAAAAAAAAAAAAAAAAAAAAAAAAAA+CtejcD3SPw==",
          "dtype": "f8"
         }
        }
       ],
       "layout": {
        "barmode": "stack",
        "legend": {
         "title": {
          "text": "Class and Type"
         },
         "x": 1.05,
         "y": 1
        },
        "template": {
         "data": {
          "bar": [
           {
            "error_x": {
             "color": "#2a3f5f"
            },
            "error_y": {
             "color": "#2a3f5f"
            },
            "marker": {
             "line": {
              "color": "#E5ECF6",
              "width": 0.5
             },
             "pattern": {
              "fillmode": "overlay",
              "size": 10,
              "solidity": 0.2
             }
            },
            "type": "bar"
           }
          ],
          "barpolar": [
           {
            "marker": {
             "line": {
              "color": "#E5ECF6",
              "width": 0.5
             },
             "pattern": {
              "fillmode": "overlay",
              "size": 10,
              "solidity": 0.2
             }
            },
            "type": "barpolar"
           }
          ],
          "carpet": [
           {
            "aaxis": {
             "endlinecolor": "#2a3f5f",
             "gridcolor": "white",
             "linecolor": "white",
             "minorgridcolor": "white",
             "startlinecolor": "#2a3f5f"
            },
            "baxis": {
             "endlinecolor": "#2a3f5f",
             "gridcolor": "white",
             "linecolor": "white",
             "minorgridcolor": "white",
             "startlinecolor": "#2a3f5f"
            },
            "type": "carpet"
           }
          ],
          "choropleth": [
           {
            "colorbar": {
             "outlinewidth": 0,
             "ticks": ""
            },
            "type": "choropleth"
           }
          ],
          "contour": [
           {
            "colorbar": {
             "outlinewidth": 0,
             "ticks": ""
            },
            "colorscale": [
             [
              0,
              "#0d0887"
             ],
             [
              0.1111111111111111,
              "#46039f"
             ],
             [
              0.2222222222222222,
              "#7201a8"
             ],
             [
              0.3333333333333333,
              "#9c179e"
             ],
             [
              0.4444444444444444,
              "#bd3786"
             ],
             [
              0.5555555555555556,
              "#d8576b"
             ],
             [
              0.6666666666666666,
              "#ed7953"
             ],
             [
              0.7777777777777778,
              "#fb9f3a"
             ],
             [
              0.8888888888888888,
              "#fdca26"
             ],
             [
              1,
              "#f0f921"
             ]
            ],
            "type": "contour"
           }
          ],
          "contourcarpet": [
           {
            "colorbar": {
             "outlinewidth": 0,
             "ticks": ""
            },
            "type": "contourcarpet"
           }
          ],
          "heatmap": [
           {
            "colorbar": {
             "outlinewidth": 0,
             "ticks": ""
            },
            "colorscale": [
             [
              0,
              "#0d0887"
             ],
             [
              0.1111111111111111,
              "#46039f"
             ],
             [
              0.2222222222222222,
              "#7201a8"
             ],
             [
              0.3333333333333333,
              "#9c179e"
             ],
             [
              0.4444444444444444,
              "#bd3786"
             ],
             [
              0.5555555555555556,
              "#d8576b"
             ],
             [
              0.6666666666666666,
              "#ed7953"
             ],
             [
              0.7777777777777778,
              "#fb9f3a"
             ],
             [
              0.8888888888888888,
              "#fdca26"
             ],
             [
              1,
              "#f0f921"
             ]
            ],
            "type": "heatmap"
           }
          ],
          "histogram": [
           {
            "marker": {
             "pattern": {
              "fillmode": "overlay",
              "size": 10,
              "solidity": 0.2
             }
            },
            "type": "histogram"
           }
          ],
          "histogram2d": [
           {
            "colorbar": {
             "outlinewidth": 0,
             "ticks": ""
            },
            "colorscale": [
             [
              0,
              "#0d0887"
             ],
             [
              0.1111111111111111,
              "#46039f"
             ],
             [
              0.2222222222222222,
              "#7201a8"
             ],
             [
              0.3333333333333333,
              "#9c179e"
             ],
             [
              0.4444444444444444,
              "#bd3786"
             ],
             [
              0.5555555555555556,
              "#d8576b"
             ],
             [
              0.6666666666666666,
              "#ed7953"
             ],
             [
              0.7777777777777778,
              "#fb9f3a"
             ],
             [
              0.8888888888888888,
              "#fdca26"
             ],
             [
              1,
              "#f0f921"
             ]
            ],
            "type": "histogram2d"
           }
          ],
          "histogram2dcontour": [
           {
            "colorbar": {
             "outlinewidth": 0,
             "ticks": ""
            },
            "colorscale": [
             [
              0,
              "#0d0887"
             ],
             [
              0.1111111111111111,
              "#46039f"
             ],
             [
              0.2222222222222222,
              "#7201a8"
             ],
             [
              0.3333333333333333,
              "#9c179e"
             ],
             [
              0.4444444444444444,
              "#bd3786"
             ],
             [
              0.5555555555555556,
              "#d8576b"
             ],
             [
              0.6666666666666666,
              "#ed7953"
             ],
             [
              0.7777777777777778,
              "#fb9f3a"
             ],
             [
              0.8888888888888888,
              "#fdca26"
             ],
             [
              1,
              "#f0f921"
             ]
            ],
            "type": "histogram2dcontour"
           }
          ],
          "mesh3d": [
           {
            "colorbar": {
             "outlinewidth": 0,
             "ticks": ""
            },
            "type": "mesh3d"
           }
          ],
          "parcoords": [
           {
            "line": {
             "colorbar": {
              "outlinewidth": 0,
              "ticks": ""
             }
            },
            "type": "parcoords"
           }
          ],
          "pie": [
           {
            "automargin": true,
            "type": "pie"
           }
          ],
          "scatter": [
           {
            "fillpattern": {
             "fillmode": "overlay",
             "size": 10,
             "solidity": 0.2
            },
            "type": "scatter"
           }
          ],
          "scatter3d": [
           {
            "line": {
             "colorbar": {
              "outlinewidth": 0,
              "ticks": ""
             }
            },
            "marker": {
             "colorbar": {
              "outlinewidth": 0,
              "ticks": ""
             }
            },
            "type": "scatter3d"
           }
          ],
          "scattercarpet": [
           {
            "marker": {
             "colorbar": {
              "outlinewidth": 0,
              "ticks": ""
             }
            },
            "type": "scattercarpet"
           }
          ],
          "scattergeo": [
           {
            "marker": {
             "colorbar": {
              "outlinewidth": 0,
              "ticks": ""
             }
            },
            "type": "scattergeo"
           }
          ],
          "scattergl": [
           {
            "marker": {
             "colorbar": {
              "outlinewidth": 0,
              "ticks": ""
             }
            },
            "type": "scattergl"
           }
          ],
          "scattermap": [
           {
            "marker": {
             "colorbar": {
              "outlinewidth": 0,
              "ticks": ""
             }
            },
            "type": "scattermap"
           }
          ],
          "scattermapbox": [
           {
            "marker": {
             "colorbar": {
              "outlinewidth": 0,
              "ticks": ""
             }
            },
            "type": "scattermapbox"
           }
          ],
          "scatterpolar": [
           {
            "marker": {
             "colorbar": {
              "outlinewidth": 0,
              "ticks": ""
             }
            },
            "type": "scatterpolar"
           }
          ],
          "scatterpolargl": [
           {
            "marker": {
             "colorbar": {
              "outlinewidth": 0,
              "ticks": ""
             }
            },
            "type": "scatterpolargl"
           }
          ],
          "scatterternary": [
           {
            "marker": {
             "colorbar": {
              "outlinewidth": 0,
              "ticks": ""
             }
            },
            "type": "scatterternary"
           }
          ],
          "surface": [
           {
            "colorbar": {
             "outlinewidth": 0,
             "ticks": ""
            },
            "colorscale": [
             [
              0,
              "#0d0887"
             ],
             [
              0.1111111111111111,
              "#46039f"
             ],
             [
              0.2222222222222222,
              "#7201a8"
             ],
             [
              0.3333333333333333,
              "#9c179e"
             ],
             [
              0.4444444444444444,
              "#bd3786"
             ],
             [
              0.5555555555555556,
              "#d8576b"
             ],
             [
              0.6666666666666666,
              "#ed7953"
             ],
             [
              0.7777777777777778,
              "#fb9f3a"
             ],
             [
              0.8888888888888888,
              "#fdca26"
             ],
             [
              1,
              "#f0f921"
             ]
            ],
            "type": "surface"
           }
          ],
          "table": [
           {
            "cells": {
             "fill": {
              "color": "#EBF0F8"
             },
             "line": {
              "color": "white"
             }
            },
            "header": {
             "fill": {
              "color": "#C8D4E3"
             },
             "line": {
              "color": "white"
             }
            },
            "type": "table"
           }
          ]
         },
         "layout": {
          "annotationdefaults": {
           "arrowcolor": "#2a3f5f",
           "arrowhead": 0,
           "arrowwidth": 1
          },
          "autotypenumbers": "strict",
          "coloraxis": {
           "colorbar": {
            "outlinewidth": 0,
            "ticks": ""
           }
          },
          "colorscale": {
           "diverging": [
            [
             0,
             "#8e0152"
            ],
            [
             0.1,
             "#c51b7d"
            ],
            [
             0.2,
             "#de77ae"
            ],
            [
             0.3,
             "#f1b6da"
            ],
            [
             0.4,
             "#fde0ef"
            ],
            [
             0.5,
             "#f7f7f7"
            ],
            [
             0.6,
             "#e6f5d0"
            ],
            [
             0.7,
             "#b8e186"
            ],
            [
             0.8,
             "#7fbc41"
            ],
            [
             0.9,
             "#4d9221"
            ],
            [
             1,
             "#276419"
            ]
           ],
           "sequential": [
            [
             0,
             "#0d0887"
            ],
            [
             0.1111111111111111,
             "#46039f"
            ],
            [
             0.2222222222222222,
             "#7201a8"
            ],
            [
             0.3333333333333333,
             "#9c179e"
            ],
            [
             0.4444444444444444,
             "#bd3786"
            ],
            [
             0.5555555555555556,
             "#d8576b"
            ],
            [
             0.6666666666666666,
             "#ed7953"
            ],
            [
             0.7777777777777778,
             "#fb9f3a"
            ],
            [
             0.8888888888888888,
             "#fdca26"
            ],
            [
             1,
             "#f0f921"
            ]
           ],
           "sequentialminus": [
            [
             0,
             "#0d0887"
            ],
            [
             0.1111111111111111,
             "#46039f"
            ],
            [
             0.2222222222222222,
             "#7201a8"
            ],
            [
             0.3333333333333333,
             "#9c179e"
            ],
            [
             0.4444444444444444,
             "#bd3786"
            ],
            [
             0.5555555555555556,
             "#d8576b"
            ],
            [
             0.6666666666666666,
             "#ed7953"
            ],
            [
             0.7777777777777778,
             "#fb9f3a"
            ],
            [
             0.8888888888888888,
             "#fdca26"
            ],
            [
             1,
             "#f0f921"
            ]
           ]
          },
          "colorway": [
           "#636efa",
           "#EF553B",
           "#00cc96",
           "#ab63fa",
           "#FFA15A",
           "#19d3f3",
           "#FF6692",
           "#B6E880",
           "#FF97FF",
           "#FECB52"
          ],
          "font": {
           "color": "#2a3f5f"
          },
          "geo": {
           "bgcolor": "white",
           "lakecolor": "white",
           "landcolor": "#E5ECF6",
           "showlakes": true,
           "showland": true,
           "subunitcolor": "white"
          },
          "hoverlabel": {
           "align": "left"
          },
          "hovermode": "closest",
          "mapbox": {
           "style": "light"
          },
          "paper_bgcolor": "white",
          "plot_bgcolor": "#E5ECF6",
          "polar": {
           "angularaxis": {
            "gridcolor": "white",
            "linecolor": "white",
            "ticks": ""
           },
           "bgcolor": "#E5ECF6",
           "radialaxis": {
            "gridcolor": "white",
            "linecolor": "white",
            "ticks": ""
           }
          },
          "scene": {
           "xaxis": {
            "backgroundcolor": "#E5ECF6",
            "gridcolor": "white",
            "gridwidth": 2,
            "linecolor": "white",
            "showbackground": true,
            "ticks": "",
            "zerolinecolor": "white"
           },
           "yaxis": {
            "backgroundcolor": "#E5ECF6",
            "gridcolor": "white",
            "gridwidth": 2,
            "linecolor": "white",
            "showbackground": true,
            "ticks": "",
            "zerolinecolor": "white"
           },
           "zaxis": {
            "backgroundcolor": "#E5ECF6",
            "gridcolor": "white",
            "gridwidth": 2,
            "linecolor": "white",
            "showbackground": true,
            "ticks": "",
            "zerolinecolor": "white"
           }
          },
          "shapedefaults": {
           "line": {
            "color": "#2a3f5f"
           }
          },
          "ternary": {
           "aaxis": {
            "gridcolor": "white",
            "linecolor": "white",
            "ticks": ""
           },
           "baxis": {
            "gridcolor": "white",
            "linecolor": "white",
            "ticks": ""
           },
           "bgcolor": "#E5ECF6",
           "caxis": {
            "gridcolor": "white",
            "linecolor": "white",
            "ticks": ""
           }
          },
          "title": {
           "x": 0.05
          },
          "xaxis": {
           "automargin": true,
           "gridcolor": "white",
           "linecolor": "white",
           "ticks": "",
           "title": {
            "standoff": 15
           },
           "zerolinecolor": "white",
           "zerolinewidth": 2
          },
          "yaxis": {
           "automargin": true,
           "gridcolor": "white",
           "linecolor": "white",
           "ticks": "",
           "title": {
            "standoff": 15
           },
           "zerolinecolor": "white",
           "zerolinewidth": 2
          }
         }
        },
        "title": {
         "text": "Stacked Bar Plot of Hectares by Week Transplanted"
        },
        "xaxis": {
         "categoryorder": "total descending",
         "tickangle": 45,
         "title": {
          "text": "Week Transplanted"
         }
        },
        "yaxis": {
         "title": {
          "text": "Hectares (Ha)"
         }
        }
       }
      }
     },
     "metadata": {},
     "output_type": "display_data"
    }
   ],
   "source": [
    "data = []\n",
    "for class_type in class_pivot.index:\n",
    "    data.append(go.Bar(\n",
    "        name=f'{class_type}',\n",
    "        x=class_pivot.columns,\n",
    "        y=class_pivot.loc[class_type]\n",
    "    ))\n",
    "  \n",
    "# Create the figure\n",
    "fig = go.Figure(data=data)\n",
    "\n",
    "# Update layout for the plot\n",
    "fig.update_layout(\n",
    "    barmode='stack',\n",
    "    title='Stacked Bar Plot of Hectares by Week Transplanted',\n",
    "    xaxis_title='Week Transplanted',\n",
    "    yaxis_title='Hectares (Ha)',\n",
    "    legend_title='Class and Type',\n",
    "    xaxis=dict(tickangle=45, categoryorder='total descending'),\n",
    "    legend=dict(x=1.05, y=1)\n",
    ")\n",
    "\n",
    "\n"
   ]
  },
  {
   "cell_type": "code",
   "execution_count": 25,
   "metadata": {},
   "outputs": [
    {
     "data": {
      "application/vnd.plotly.v1+json": {
       "config": {
        "plotlyServerURL": "https://plot.ly"
       },
       "data": [
        {
         "name": "('MAP', 'BSUF', 'Uva Roja')",
         "type": "bar",
         "x": {
          "bdata": "BAUGBwgJCgsMDQ4PEBESExQVFhcYGRobHB0eHyAhIiMkJSc=",
          "dtype": "i1"
         },
         "y": {
          "bdata": "AAAAAAAAAAAAAAAAAAAAAAAAAAAAAAAAAAAAAAAAAAAAAAAAAAAAAAAAAAAAAAAAAAAAAAAAAAAAAAAAAAAAAAAAAAAAAAAAAAAAAAAAAAD8qfHSTWKwPwAAAAAAAAAAAAAAAAAAAAAAAAAAAAAAAAAAAAAAAAAAAAAAAAAAAAAAAAAAAAAAAAAAAAAAAAAAAAAAAAAAAAAAAAAAAAAAAAAAAAAAAAAAAAAAAAAAAAAAAAAAAAAAAAAAAAAAAAAAAAAAAAAAAAAAAAAAAAAAAAAAAAAAAAAAAAAAAAAAAAAAAAAAAAAAAAAAAAAAAAAAAAAAAAAAAAAAAAAAAAAAAAAAAAAAAAAAAAAAAAAAAAAAAAAAAAAAAA==",
          "dtype": "f8"
         }
        },
        {
         "name": "('MAP', 'CHE', 'Cherry Naranja')",
         "type": "bar",
         "x": {
          "bdata": "BAUGBwgJCgsMDQ4PEBESExQVFhcYGRobHB0eHyAhIiMkJSc=",
          "dtype": "i1"
         },
         "y": {
          "bdata": "AAAAAAAAAAAAAAAAAAAAAAAAAAAAAAAAAAAAAAAAAAAAAAAAAAAAAAAAAAAAAAAAAAAAAAAAAAAAAAAAAAAAAAAAAAAAAAAAAAAAAAAAAAD6fmq8dJO4PwAAAAAAAAAAAAAAAAAAAAAAAAAAAAAAAAAAAAAAAAAAAAAAAAAAAAAAAAAAAAAAAAAAAAAAAAAAAAAAAAAAAAAAAAAAAAAAAAAAAAAAAAAA9dvXgXNGlD8AAAAAAAAAAAAAAAAAAAAAAAAAAAAAAAAAAAAAAAAAAAAAAAAAAAAAAAAAAAAAAAAAAAAAAAAAAAAAAAAAAAAAAAAAAAAAAAAAAAAAAAAAAAAAAAAAAAAAAAAAAAAAAAAAAAAAAAAAAA==",
          "dtype": "f8"
         }
        },
        {
         "name": "('OAP', 'BSUF', 'Uva Amarilla')",
         "type": "bar",
         "x": {
          "bdata": "BAUGBwgJCgsMDQ4PEBESExQVFhcYGRobHB0eHyAhIiMkJSc=",
          "dtype": "i1"
         },
         "y": {
          "bdata": "AAAAAAAAAAAAAAAAAAAAAAAAAAAAAAAAAAAAAAAAAAAAAAAAAAAAAAAAAAAAAAAAAAAAAAAAAAAAAAAAAAAAAAAAAAAAAAAAAAAAAAAAAAAAAAAAAAAAAAAAAAAAAAAACtejcD0Ktz8830+Nl27CPwAAAAAAAAAAJlMFo5I62T/m0CLb+X7aPwAAAAAAAAAAVOOlm8Qg8D9kXdxGA3jTPwAAAAAAAAAAAAAAAAAAAAAAAAAAAAAAAAAAAAAAAAAAAAAAAAAAAAAj2/l+ary0PwAAAAAAAAAAAAAAAAAAAAAAAAAAAAAAAAAAAAAAAAAAAAAAAAAAAAAAAAAAAAAAAAAAAAAAAAAAAAAAAAAAAAAAAAAAAAAAAA==",
          "dtype": "f8"
         }
        },
        {
         "name": "('OAP', 'BSUF', 'Uva Roja')",
         "type": "bar",
         "x": {
          "bdata": "BAUGBwgJCgsMDQ4PEBESExQVFhcYGRobHB0eHyAhIiMkJSc=",
          "dtype": "i1"
         },
         "y": {
          "bdata": "AAAAAAAAAAAAAAAAAAAAAAAAAAAAAAAAAAAAAAAAAAAAAAAAAAAAAAAAAAAAAAAA7FG4HoXryT8AAAAAAAAAAEATYcPTK9k/CtejcD0Ktz8AAAAAAAAAAP7UeOkmMeg/L90kBoGV0z8j2/l+arz0P/7UeOkmMdg/YVRSJ6CJ2D9YW7G/7J70P0/RkVz+Q+o/aZHtfD816j/qt68D54z2P2FUUiegiQNAW9O84xQd+T+yv+yePCz3PwAAAAAAAAAAcF8HzhlRmj/E0ytlGeK4PwAAAAAAAAAAguLHmLuWsD8AAAAAAAAAAAAAAAAAAAAAAAAAAAAAAAAAAAAAAAAAAAAAAAAAAAAAAAAAAAAAAAAAAAAAAAAAAA==",
          "dtype": "f8"
         }
        },
        {
         "name": "('OAP', 'CHE', 'Cherry Amarillo')",
         "type": "bar",
         "x": {
          "bdata": "BAUGBwgJCgsMDQ4PEBESExQVFhcYGRobHB0eHyAhIiMkJSc=",
          "dtype": "i1"
         },
         "y": {
          "bdata": "AAAAAAAAAAAAAAAAAAAAAAAAAAAAAAAAAAAAAAAAAAAAAAAAAAAAAAAAAAAAAAAAAAAAAAAAAAAAAAAAAAAAAAAAAAAAAAAAAAAAAAAAAAAAAAAAAAAAAAAAAAAAAAAAAAAAAAAAAADGbTSAt0CyPwAAAAAAAAAAAAAAAAAAAAAAAAAAAAAAAE/RkVz+Q6o/AAAAAAAAAAAX2c73U+O1PwAAAAAAAAAAT9GRXP5Dqj8AAAAAAAAAAAAAAAAAAAAAAAAAAAAAAAAAAAAAAAAAAAAAAAAAAAAAAAAAAAAAAAAAAAAAAAAAAAAAAAAAAAAAAAAAAAAAAAAAAAAAAAAAAAAAAAAAAAAAAAAAAAAAAAAAAAAAAAAAAA==",
          "dtype": "f8"
         }
        },
        {
         "name": "('OAP', 'CHE', 'Cherry Naranja')",
         "type": "bar",
         "x": {
          "bdata": "BAUGBwgJCgsMDQ4PEBESExQVFhcYGRobHB0eHyAhIiMkJSc=",
          "dtype": "i1"
         },
         "y": {
          "bdata": "AAAAAAAAAAAAAAAAAAAAAAAAAAAAAAAAAAAAAAAAAAAAAAAAAAAAAAAAAAAAAAAAAAAAAAAAAAAAAAAAAAAAAAAAAAAAAAAAAAAAAAAAAAAAAAAAAAAAANnO91Pjpas/AAAAAAAAAAA830+Nl26SPwAAAAAAAAAAAAAAAAAAAAAAAAAAAAAAAAAAAAAAAAAAAAAAAAAAAAAAAAAAAAAAAAAAAAAAAAAAAAAAAAAAAAAAAAAAAAAAAAAAAAAAAAAAAAAAAAAAAAAAAAAAAAAAAAAAAAAAAAAAAAAAAAAAAAAAAAAAAAAAAAAAAAAAAAAAAAAAAAAAAAAAAAAAAAAAAAAAAAAAAAAAAAAAAAAAAAAAAAAAAAAAAA==",
          "dtype": "f8"
         }
        },
        {
         "name": "('OAP', 'CHE', 'Cherry Rojo')",
         "type": "bar",
         "x": {
          "bdata": "BAUGBwgJCgsMDQ4PEBESExQVFhcYGRobHB0eHyAhIiMkJSc=",
          "dtype": "i1"
         },
         "y": {
          "bdata": "AAAAAAAAAAAAAAAAAAAAAAAAAAAAAAAAAAAAAAAAAAAAAAAAAAAAAAAAAAAAAAAAAAAAAAAAAAAAAAAAAAAAAAAAAAAAAAAAXrpJDAIr6T8AAAAAAAAAAFTjpZvEINA/AAAAAAAAAAAAAAAAAAAAADVeukkMAuM/jgbwFkhQ9z+IY13cRgPQP0vqBDQRNu4/BFYOLbKd5z+Uh4Va07zvP00VjErqBNg/2s73U+Ol8T+uR+F6FK7nP2iz6nO1FfA/OdbFbTSAtz901xLyQc/WPwAAAAAAAAAAAAAAAAAAAAAAAAAAAAAAAAAAAAAAAAAAAAAAAAAAAAAAAAAAAAAAAAAAAAAAAAAAAAAAAAAAAAAAAAAAAAAAAA==",
          "dtype": "f8"
         }
        },
        {
         "name": "('OAP', 'CHE', 'Cherry Rosa')",
         "type": "bar",
         "x": {
          "bdata": "BAUGBwgJCgsMDQ4PEBESExQVFhcYGRobHB0eHyAhIiMkJSc=",
          "dtype": "i1"
         },
         "y": {
          "bdata": "AAAAAAAAAAAAAAAAAAAAAAAAAAAAAAAAAAAAAAAAAAAAAAAAAAAAAAAAAAAAAAAAAAAAAAAAAAAAAAAAAAAAAAAAAAAAAAAAAAAAAAAAAAAAAAAAAAAAAAAAAAAAAAAAAAAAAAAAAAAAAAAAAAAAAAAAAAAAAAAAAAAAAAAAAAAAAAAAAAAAAAAAAAAAAAAAPN9PjZdu0j8AAAAAAAAAAAAAAAAAAAAAAAAAAAAAAAAAAAAAAAAAAAAAAAAAAAAAAAAAAAAAAAAAAAAAAAAAAAAAAAAAAAAAAAAAAAAAAAAAAAAAAAAAAAAAAAAAAAAAAAAAAAAAAAAAAAAAAAAAAAAAAAAAAAAAAAAAAAAAAAAAAAAAAAAAAA==",
          "dtype": "f8"
         }
        },
        {
         "name": "('OAP', 'CHE', 'Heirloom Cherry')",
         "type": "bar",
         "x": {
          "bdata": "BAUGBwgJCgsMDQ4PEBESExQVFhcYGRobHB0eHyAhIiMkJSc=",
          "dtype": "i1"
         },
         "y": {
          "bdata": "AAAAAAAAAAAAAAAAAAAAAAAAAAAAAAAAAAAAAAAAAAAAAAAAAAAAAAAAAAAAAAAAAAAAAAAAAAAAAAAAAAAAAJXUCWgibMA/AAAAAAAAAAAAAAAAAAAAAAAAAAAAAAAAguLHmLuWkD8AAAAAAAAAAAAAAAAAAAAA3+ALk6mCoT8X2c73U+O1P0jhehSuR9E/Nqs+V1uxvz8830+Nl27SP0/RkVz+Q7o/4umVsgxx1D89LNSa5h3rP9Le4AuTqdI/F9nO91PjxT8AAAAAAAAAAAAAAAAAAAAAAAAAAAAAAAAAAAAAAAAAAAAAAAAAAAAAAAAAAAAAAAAAAAAAAAAAAAAAAAAAAAAAAAAAAAAAAAAAAAAAAAAAAA==",
          "dtype": "f8"
         }
        },
        {
         "name": "('OAP', 'CHE', 'Pera')",
         "type": "bar",
         "x": {
          "bdata": "BAUGBwgJCgsMDQ4PEBESExQVFhcYGRobHB0eHyAhIiMkJSc=",
          "dtype": "i1"
         },
         "y": {
          "bdata": "AAAAAAAAAAAAAAAAAAAAAAAAAAAAAAAAAAAAAAAAAAAAAAAAAAAAAAAAAAAAAAAAAAAAAAAAAAAAAAAAAAAAAAAAAAAAAAAAzV1LyAc9mz8AAAAAAAAAAAAAAAAAAAAA+1xtxf6ywz9P0ZFc/kO6PwAAAAAAAAAAT9GRXP5Dyj8AAAAAAAAAAE/RkVz+Q7o/PN9PjZdu4j+8uI0G8Ba4PxfZzvdT47U/7Z48LNSa4j8AAAAAAAAAAHTXEvJBz8Y/xNMrZRniuD/T3uALk6nCPwAAAAAAAAAAAAAAAAAAAAAAAAAAAAAAAAAAAAAAAAAAAAAAAAAAAAAAAAAAAAAAAAAAAAAAAAAAAAAAAAAAAAAAAAAAAAAAAA==",
          "dtype": "f8"
         }
        },
        {
         "name": "('OAP', 'CHE', 'Pera Amarilla')",
         "type": "bar",
         "x": {
          "bdata": "BAUGBwgJCgsMDQ4PEBESExQVFhcYGRobHB0eHyAhIiMkJSc=",
          "dtype": "i1"
         },
         "y": {
          "bdata": "AAAAAAAAAAAAAAAAAAAAAAAAAAAAAAAAAAAAAAAAAAAAAAAAAAAAAAAAAAAAAAAAAAAAAAAAAAAAAAAAAAAAABfZzvdT48U/AAAAAAAAAAAAAAAAAAAAAAAAAAAAAAAAAAAAAAAAAAA830+Nl27CPwAAAAAAAAAAAAAAAAAAAAAAAAAAAAAAAP7UeOkmMdg/AAAAAAAAAAB7FK5H4XqkP2TMXUvIB70/AAAAAAAAAAAAAAAAAAAAAJqZmZmZmck/AAAAAAAAAAAAAAAAAAAAAAAAAAAAAAAAAAAAAAAAAAAAAAAAAAAAAAAAAAAAAAAAAAAAAAAAAAAAAAAAAAAAAAAAAAAAAAAAAAAAAAAAAAAAAAAAAAAAAA==",
          "dtype": "f8"
         }
        },
        {
         "name": "('OAP', 'CHE', 'Pera Roja')",
         "type": "bar",
         "x": {
          "bdata": "BAUGBwgJCgsMDQ4PEBESExQVFhcYGRobHB0eHyAhIiMkJSc=",
          "dtype": "i1"
         },
         "y": {
          "bdata": "AAAAAAAAAAAAAAAAAAAAAAAAAAAAAAAAAAAAAAAAAAAAAAAAAAAAAAAAAAAAAAAAAAAAAAAAAAAAAAAAAAAAABfZzvdT48U/AAAAAAAAAAAAAAAAAAAAAAAAAAAAAAAAAAAAAAAAAAAAAAAAAAAAACPb+X5qvMQ/T9GRXP5Dyj8AAAAAAAAAAAAAAAAAAAAAPN9PjZduwj8AAAAAAAAAAMHKoUW2880/AAAAAAAAAAAAAAAAAAAAAAAAAAAAAAAAAAAAAAAAAAAAAAAAAAAAAAAAAAAAAAAAAAAAAAAAAAAAAAAAAAAAAAAAAAAAAAAAAAAAAAAAAAAAAAAAAAAAAAAAAAAAAAAAAAAAAAAAAAAAAAAAAAAAAA==",
          "dtype": "f8"
         }
        },
        {
         "name": "('OSF', 'BSUF', 'Uva Amarilla')",
         "type": "bar",
         "x": {
          "bdata": "BAUGBwgJCgsMDQ4PEBESExQVFhcYGRobHB0eHyAhIiMkJSc=",
          "dtype": "i1"
         },
         "y": {
          "bdata": "AAAAAAAAAAAAAAAAAAAAAAAAAAAAAAAAAAAAAAAAAAAAAAAAAAAAAAAAAAAAAAAAAAAAAAAAAAAAAAAAAAAAAAAAAAAAAAAAAAAAAAAAAAAJG55eKcvUPwAAAAAAAAAAAAAAAAAAAAAAAAAAAAAAAAAAAAAAAAAAAAAAAAAAAAAAAAAAAAAAAN/gC5OpgrE/3+ALk6mCsT8AAAAAAAAAAE/RkVz+Q7o/AAAAAAAAAAADeAskKH7UPwAAAAAAAAAAAAAAAAAAAAAAAAAAAAAAAAAAAAAAAAAAAAAAAAAAAAAAAAAAAAAAAAAAAAAAAAAAAAAAAAAAAAAAAAAAAAAAAAAAAAAAAAAAAAAAAAAAAAAAAAAAAAAAAA==",
          "dtype": "f8"
         }
        },
        {
         "name": "('OSF', 'BSUF', 'Uva Roja')",
         "type": "bar",
         "x": {
          "bdata": "BAUGBwgJCgsMDQ4PEBESExQVFhcYGRobHB0eHyAhIiMkJSc=",
          "dtype": "i1"
         },
         "y": {
          "bdata": "AAAAAAAAAAAAAAAAAAAAAAAAAAAAAAAAAAAAAAAAAAAAAAAAAAAAAAAAAAAAAAAAAAAAAAAAAAAAAAAAAAAAAAAAAAAAAAAA3+ALk6mC4T/RItv5fmrQPwAAAAAAAAAAAAAAAAAAAAAAAAAAAAAAAEATYcPTK+k/AAAAAAAAAAAAAAAAAAAAAIbJVMGopN4/hslUwaikzj8kKH6MuWvhPz4K16NwPeI/ak3zjlN03D9VUiegibAAQAkbnl4py9Q/AAAAAAAAAAAAAAAAAAAAAAAAAAAAAAAAAAAAAAAAAAAAAAAAAAAAAAAAAAAAAAAAAAAAAAAAAAAAAAAAAAAAAAAAAAAAAAAAAAAAAAAAAAAAAAAAAAAAAA==",
          "dtype": "f8"
         }
        },
        {
         "name": "('OSF', 'CHE', 'Cherry Naranja')",
         "type": "bar",
         "x": {
          "bdata": "BAUGBwgJCgsMDQ4PEBESExQVFhcYGRobHB0eHyAhIiMkJSc=",
          "dtype": "i1"
         },
         "y": {
          "bdata": "AAAAAAAAAAAAAAAAAAAAAAAAAAAAAAAAAAAAAAAAAAAAAAAAAAAAAAAAAAAAAAAAAAAAAAAAAAAAAAAAAAAAAAAAAAAAAAAAAAAAAAAAAAAAAAAAAAAAAAAAAAAAAAAAAAAAAAAAAAAAAAAAAAAAAAAAAAAAAAAAAAAAAAAAAAAAAAAAAAAAAAAAAAAAAAAA3+ALk6mCoT8AAAAAAAAAAAAAAAAAAAAAAAAAAAAAAAAAAAAAAAAAAAAAAAAAAAAAAAAAAAAAAAAAAAAAAAAAAAAAAAAAAAAAAAAAAAAAAAAAAAAAAAAAAAAAAAAAAAAAAAAAAAAAAAAAAAAAAAAAAAAAAAAAAAAAAAAAAAAAAAAAAAAAAAAAAA==",
          "dtype": "f8"
         }
        },
        {
         "name": "('OSF', 'CHE', 'Cherry Rojo')",
         "type": "bar",
         "x": {
          "bdata": "BAUGBwgJCgsMDQ4PEBESExQVFhcYGRobHB0eHyAhIiMkJSc=",
          "dtype": "i1"
         },
         "y": {
          "bdata": "AAAAAAAAAAAAAAAAAAAAAAAAAAAAAAAAAAAAAAAAAAAAAAAAAAAAAAAAAAAAAAAAAAAAAAAAAAAAAAAAAAAAAAAAAAAAAAAA+1xtxf6ywz8JG55eKcvkP78OnDOitLc/AAAAAAAAAAAAAAAAAAAAANEi2/l+avA/AAAAAAAAAABcj8L1KFzbP/tcbcX+ssM/OrTIdr6f6D8AAAAAAAAAAPtcbcX+ssM/T9GRXP5Dyj8X2c73U+PFPwAAAAAAAAAAAAAAAAAAAAAAAAAAAAAAAAAAAAAAAAAAAAAAAAAAAAAAAAAAAAAAAAAAAAAAAAAAAAAAAAAAAAAAAAAAAAAAAAAAAAAAAAAAAAAAAAAAAAAAAAAAAAAAAA==",
          "dtype": "f8"
         }
        },
        {
         "name": "('OSF', 'CHE', 'Cherry Rosa')",
         "type": "bar",
         "x": {
          "bdata": "BAUGBwgJCgsMDQ4PEBESExQVFhcYGRobHB0eHyAhIiMkJSc=",
          "dtype": "i1"
         },
         "y": {
          "bdata": "AAAAAAAAAAAAAAAAAAAAAAAAAAAAAAAAAAAAAAAAAAAAAAAAAAAAAAAAAAAAAAAAAAAAAAAAAAAAAAAAAAAAAAAAAAAAAAAAAAAAAAAAAAAAAAAAAAAAAAAAAAAAAAAAAAAAAAAAAAAAAAAAAAAAAAAAAAAAAAAAAAAAAAAAAAAAAAAAAAAAAAAAAAAAAAAAAAAAAAAAAAAAAAAAAAAAAN/gC5OpgqE/AAAAAAAAAAAAAAAAAAAAAAAAAAAAAAAAAAAAAAAAAAAAAAAAAAAAAAAAAAAAAAAAAAAAAAAAAAAAAAAAAAAAAAAAAAAAAAAAAAAAAAAAAAAAAAAAAAAAAAAAAAAAAAAAAAAAAAAAAAAAAAAAAAAAAA==",
          "dtype": "f8"
         }
        },
        {
         "name": "('OSF', 'CHE', 'Heirloom Cherry')",
         "type": "bar",
         "x": {
          "bdata": "BAUGBwgJCgsMDQ4PEBESExQVFhcYGRobHB0eHyAhIiMkJSc=",
          "dtype": "i1"
         },
         "y": {
          "bdata": "AAAAAAAAAAAAAAAAAAAAAAAAAAAAAAAAAAAAAAAAAAAAAAAAAAAAAAAAAAAAAAAAAAAAAAAAAAAAAAAAAAAAAAAAAAAAAAAAAAAAAAAAAAAAAAAAAAAAAAAAAAAAAAAAAAAAAAAAAAAAAAAAAAAAAAAAAAAAAAAAAAAAAAAAAADf4AuTqYLBPwRWDi2ync8/hslUwaikvj/f4AuTqYLRP5T2Bl+YTOE/3+ALk6mCwT/7XG3F/rLjP4bJVMGopM4/AAAAAAAAAAAAAAAAAAAAAAAAAAAAAAAAAAAAAAAAAAAAAAAAAAAAAAAAAAAAAAAAAAAAAAAAAAAAAAAAAAAAAAAAAAAAAAAAAAAAAAAAAAAAAAAAAAAAAA==",
          "dtype": "f8"
         }
        },
        {
         "name": "('OSF', 'CHE', 'Pera')",
         "type": "bar",
         "x": {
          "bdata": "BAUGBwgJCgsMDQ4PEBESExQVFhcYGRobHB0eHyAhIiMkJSc=",
          "dtype": "i1"
         },
         "y": {
          "bdata": "AAAAAAAAAAAAAAAAAAAAAAAAAAAAAAAAAAAAAAAAAAAAAAAAAAAAAAAAAAAAAAAAAAAAAAAAAAAAAAAAAAAAAAAAAAAAAAAAAAAAAAAAAAAAAAAAAAAAAAAAAAAAAAAAAAAAAAAAAAAAAAAAAAAAAAAAAAAAAAAAAAAAAAAAAADaPXlYqDW9PxfZzvdT48U/AAAAAAAAAADwp8ZLN4nJPySX/5B++9Y/AAAAAAAAAACVh4Va07zfPwAAAAAAAAAAAAAAAAAAAAAAAAAAAAAAAAAAAAAAAAAAAAAAAAAAAAAAAAAAAAAAAAAAAAAAAAAAAAAAAAAAAAAAAAAAAAAAAAAAAAAAAAAAAAAAAAAAAAAAAAAAAAAAAA==",
          "dtype": "f8"
         }
        },
        {
         "name": "('OSF', 'CHE', 'Pera Amarilla')",
         "type": "bar",
         "x": {
          "bdata": "BAUGBwgJCgsMDQ4PEBESExQVFhcYGRobHB0eHyAhIiMkJSc=",
          "dtype": "i1"
         },
         "y": {
          "bdata": "AAAAAAAAAAAAAAAAAAAAAAAAAAAAAAAAAAAAAAAAAAAAAAAAAAAAAAAAAAAAAAAAAAAAAAAAAAAAAAAAAAAAAAAAAAAAAAAAAAAAAAAAAAAX2c73U+PFPwAAAAAAAAAAAAAAAAAAAAAAAAAAAAAAAAAAAAAAAAAAAAAAAAAAAAAAAAAAAAAAAAAAAAAAAAAAT9GRXP5Dqj8AAAAAAAAAAAAAAAAAAAAAAAAAAAAAAAAAAAAAAAAAAAAAAAAAAAAAAAAAAAAAAAAAAAAAAAAAAAAAAAAAAAAAAAAAAAAAAAAAAAAAAAAAAAAAAAAAAAAAAAAAAAAAAAAAAAAAAAAAAAAAAAAAAAAAAAAAAAAAAAAAAAAAAAAAAA==",
          "dtype": "f8"
         }
        },
        {
         "name": "('OSF', 'CHE', 'Pera Roja')",
         "type": "bar",
         "x": {
          "bdata": "BAUGBwgJCgsMDQ4PEBESExQVFhcYGRobHB0eHyAhIiMkJSc=",
          "dtype": "i1"
         },
         "y": {
          "bdata": "AAAAAAAAAAAAAAAAAAAAAAAAAAAAAAAAAAAAAAAAAAAAAAAAAAAAAAAAAAAAAAAAAAAAAAAAAAAAAAAAAAAAAAAAAAAAAAAAAAAAAAAAAAAAAAAAAAAAAAAAAAAAAAAAAAAAAAAAAAAAAAAAAAAAAAAAAAAAAAAAAAAAAAAAAAAAAAAAAAAAAI2XbhKDwMo/3+ALk6mCwT8AAAAAAAAAAAAAAAAAAAAAhslUwaikvj9qTfOOU3TMP2pN845TdMw/AAAAAAAAAAAAAAAAAAAAAAAAAAAAAAAAAAAAAAAAAAAAAAAAAAAAAAAAAAAAAAAAAAAAAAAAAAAAAAAAAAAAAAAAAAAAAAAAAAAAAAAAAAAAAAAAAAAAAA==",
          "dtype": "f8"
         }
        },
        {
         "name": "('SAB', 'BSUF', 'Uva Amarilla')",
         "type": "bar",
         "x": {
          "bdata": "BAUGBwgJCgsMDQ4PEBESExQVFhcYGRobHB0eHyAhIiMkJSc=",
          "dtype": "i1"
         },
         "y": {
          "bdata": "AAAAAAAAAAAAAAAAAAAAAAAAAAAAAAAAAAAAAAAAAAAAAAAAAAAAAAAAAAAAAAAAAAAAAAAAAAAAAAAAAAAAAAAAAAAAAAAAAAAAAAAAAAAAAAAAAAAAAFTjpZvEIMA/CtejcD0Ktz8AAAAAAAAAAAAAAAAAAAAAAAAAAAAAAAAAAAAAAAAAAAAAAAAAAAAAAAAAAAAAAAAAAAAAAAAAAAAAAAAAAAAAAAAAAAAAAABU46WbxCDAPwAAAAAAAAAAAAAAAAAAAAAAAAAAAAAAAFTjpZvEINA/AAAAAAAAAAAAAAAAAAAAAAAAAAAAAAAAAAAAAAAAAAAAAAAAAAAAAAAAAAAAAAAAAAAAAAAAAAAAAAAAAAAAAA==",
          "dtype": "f8"
         }
        },
        {
         "name": "('SAB', 'BSUF', 'Uva Roja')",
         "type": "bar",
         "x": {
          "bdata": "BAUGBwgJCgsMDQ4PEBESExQVFhcYGRobHB0eHyAhIiMkJSc=",
          "dtype": "i1"
         },
         "y": {
          "bdata": "AAAAAAAAAAAAAAAAAAAAAAAAAAAAAAAAAAAAAAAAAAAAAAAAAAAAAAAAAAAAAAAAAAAAAAAAAAAAAAAAAAAAAFpkO99Pjdc/mN2Th4Va4z+HFtnO91PjPzq0yHa+n+I/+n5qvHSTAEAIrBxaZDvvPwAAAAAAAAAAAAAAAAAAAADNzMzMzMzcPwAAAAAAAAAAAAAAAAAAAADD9Shcj8LVPxxaZDvfT+U/I9v5fmq8xD/HSzeJQWDtP7TIdr6fGv8/x0s3iUFg7T8AAAAAAAAAALTIdr6fGtc/i2zn+6nx7j8AAAAAAAAAAAAAAAAAAAAAAAAAAAAAAAAAAAAAAAAAAAAAAAAAAAAAAAAAAAAAAAAAAAAAAAAAAA==",
          "dtype": "f8"
         }
        },
        {
         "name": "('SAB', 'CHE', 'Cherry Chocolate')",
         "type": "bar",
         "x": {
          "bdata": "BAUGBwgJCgsMDQ4PEBESExQVFhcYGRobHB0eHyAhIiMkJSc=",
          "dtype": "i1"
         },
         "y": {
          "bdata": "AAAAAAAAAAAAAAAAAAAAAAAAAAAAAAAAAAAAAAAAAAAAAAAAAAAAAAAAAAAAAAAAAAAAAAAAAAAAAAAAAAAAAAAAAAAAAAAAAAAAAAAAAAAAAAAAAAAAAAAAAAAAAAAAAAAAAAAAAAAAAAAAAAAAAAAAAAAAAAAAAAAAAAAAAAAAAAAAAAAAAAAAAAAAAAAAAAAAAAAAAAAAAAAAAAAAAAAAAAAAAAAAAAAAAAAAAAAAAAAAAAAAAAAAAAAAAAAAAAAAAAAAAAAAAAAAAAAAAAAAAAAAAAAAAAAAAAAAAAAAAAAAAAAAAAAAAAAAAAAAAAAAAAAAAAAAAAAAAAAAAAAAAAAAAAAAPN9PjZduwj8AAAAAAAAAAA==",
          "dtype": "f8"
         }
        },
        {
         "name": "('SAB', 'CHE', 'Cherry Naranja')",
         "type": "bar",
         "x": {
          "bdata": "BAUGBwgJCgsMDQ4PEBESExQVFhcYGRobHB0eHyAhIiMkJSc=",
          "dtype": "i1"
         },
         "y": {
          "bdata": "AAAAAAAAAAAAAAAAAAAAAAAAAAAAAAAAAAAAAAAAAAAAAAAAAAAAAAAAAAAAAAAAAAAAAAAAAAAAAAAAAAAAAAAAAAAAAAAAAAAAAAAAAAAAAAAAAAAAAAAAAAAAAAAAAAAAAAAAAAAAAAAAAAAAAAAAAAAAAAAAPN9PjZduwj8AAAAAAAAAAAAAAAAAAAAAAAAAAAAAAAAAAAAAAAAAAAAAAAAAAAAAAAAAAAAAAAAAAAAAAAAAAAAAAAAAAAAAAAAAAAAAAAAAAAAAAAAAAAAAAAAAAAAAAAAAAAAAAAAAAAAAAAAAAAAAAAAAAAAAAAAAAAAAAAAAAAAAAAAAAAAAAAAAAAAAAAAAAAAAAAAAAAAAAAAAAA==",
          "dtype": "f8"
         }
        },
        {
         "name": "('SAB', 'CHE', 'Cherry Rojo')",
         "type": "bar",
         "x": {
          "bdata": "BAUGBwgJCgsMDQ4PEBESExQVFhcYGRobHB0eHyAhIiMkJSc=",
          "dtype": "i1"
         },
         "y": {
          "bdata": "AAAAAAAAAAAAAAAAAAAAAAAAAAAAAAAAAAAAAAAAAAAAAAAAAAAAAAAAAAAAAAAAAAAAAAAAAAAAAAAAAAAAAAAAAAAAAAAAAAAAAAAAAAAX2c73U+PlPwAAAAAAAAAAJQaBlUOL3D93vp8aL930P7gehetRuN4/AAAAAAAAAAAK16NwPQrnPwAAAAAAAAAAAAAAAAAAAAAlBoGVQ4vcPwAAAAAAAAAAAAAAAAAAAAAAAAAAAAAAAAAAAAAAAAAA001iEFg57D8AAAAAAAAAAAAAAAAAAAAAAAAAAAAAAAAAAAAAAAAAAAAAAAAAAAAAAAAAAAAAAAAAAAAAAAAAAAAAAAAAAAAAAAAAAAAAAAAAAAAAAAAAAA==",
          "dtype": "f8"
         }
        },
        {
         "name": "('SAB', 'CHE', 'Cherry Rosa')",
         "type": "bar",
         "x": {
          "bdata": "BAUGBwgJCgsMDQ4PEBESExQVFhcYGRobHB0eHyAhIiMkJSc=",
          "dtype": "i1"
         },
         "y": {
          "bdata": "AAAAAAAAAAAAAAAAAAAAAAAAAAAAAAAAAAAAAAAAAAAAAAAAAAAAAAAAAAAAAAAAAAAAAAAAAAAAAAAAAAAAAAAAAAAAAAAAk8t/SL99vT8AAAAAAAAAAAAAAAAAAAAAAAAAAAAAAAAAAAAAAAAAAAAAAAAAAAAAAAAAAAAAAAAAAAAAAAAAAAAAAAAAAAAAAAAAAAAAAAAAAAAAAAAAAAAAAAAAAAAAAAAAAAAAAAAAAAAAAAAAAAAAAAAAAAAAAAAAAAAAAAAAAAAAAAAAAAAAAAAAAAAA+n5qvHSTqD8AAAAAAAAAAAAAAAAAAAAAAAAAAAAAAAAAAAAAAAAAAAAAAAAAAAAAAAAAAAAAAAAAAAAAAAAAAA==",
          "dtype": "f8"
         }
        },
        {
         "name": "('SAB', 'CHE', 'Heirloom Cherry')",
         "type": "bar",
         "x": {
          "bdata": "BAUGBwgJCgsMDQ4PEBESExQVFhcYGRobHB0eHyAhIiMkJSc=",
          "dtype": "i1"
         },
         "y": {
          "bdata": "AAAAAAAAAAAAAAAAAAAAAAAAAAAAAAAAAAAAAAAAAAAAAAAAAAAAAAAAAAAAAAAAAAAAAAAAAAAAAAAAAAAAAAAAAAAAAAAAlkOLbOf72T/6fmq8dJPYP+xRuB6F68E/EFg5tMh23j8AAAAAAAAAAJqZmZmZmdk/AAAAAAAAAAAAAAAAAAAAAAAAAAAAAAAAAAAAAAAAAADsUbgehevhP1TjpZvEIOA/KVyPwvUozD8AAAAAAAAAANrO91Pjpbs/AAAAAAAAAADZzvdT46WrP8HKoUW2890/AAAAAAAAAAAAAAAAAAAAAFK4HoXrUdg/AAAAAAAAAAAAAAAAAAAAAAAAAAAAAAAAAAAAAAAAAAAAAAAAAAAAAA==",
          "dtype": "f8"
         }
        },
        {
         "name": "('SAB', 'CHE', 'Pera')",
         "type": "bar",
         "x": {
          "bdata": "BAUGBwgJCgsMDQ4PEBESExQVFhcYGRobHB0eHyAhIiMkJSc=",
          "dtype": "i1"
         },
         "y": {
          "bdata": "AAAAAAAAAAAAAAAAAAAAAAAAAAAAAAAAAAAAAAAAAAAAAAAAAAAAAAAAAAAAAAAAAAAAAAAAAAAAAAAAAAAAAAAAAAAAAAAAAAAAAAAAAAB7FK5H4Xq0P2Dl0CLb+d4/VOOlm8QgwD86tMh2vp/KPwAAAAAAAAAAAAAAAAAAAAAAAAAAAAAAAAAAAAAAAAAAAAAAAAAAAAAAAAAAAAAAAAAAAAAAAAAAAAAAAAAAAAAW2c73U+PVPwAAAAAAAAAAAAAAAAAAAAAAAAAAAAAAAAAAAAAAAAAA8tJNYhBYyT8AAAAAAAAAAAAAAAAAAAAAAAAAAAAAAAAAAAAAAAAAAAAAAAAAAAAAAAAAAAAAAAAAAAAAAAAAAA==",
          "dtype": "f8"
         }
        },
        {
         "name": "('SAB', 'CHE', 'Pera Amarilla')",
         "type": "bar",
         "x": {
          "bdata": "BAUGBwgJCgsMDQ4PEBESExQVFhcYGRobHB0eHyAhIiMkJSc=",
          "dtype": "i1"
         },
         "y": {
          "bdata": "AAAAAAAAAAAAAAAAAAAAAAAAAAAAAAAAAAAAAAAAAAAAAAAAAAAAAAAAAAAAAAAAAAAAAAAAAAAAAAAAAAAAAAAAAAAAAAAAAAAAAAAAAAAAAAAAAAAAAAAAAAAAAAAAAAAAAAAAAAAAAAAAAAAAAAAAAAAAAAAAAAAAAAAAAAAAAAAAAAAAAAAAAAAAAAAAAAAAAAAAAAAAAAAAAAAAANnO91Pjpbs/AAAAAAAAAAAAAAAAAAAAAAAAAAAAAAAAAAAAAAAAAAAAAAAAAAAAANnO91Pjpas/AAAAAAAAAAAAAAAAAAAAAMP1KFyPwtU/AAAAAAAAAAAAAAAAAAAAAAAAAAAAAAAAk8t/SL99zT8AAAAAAAAAAA==",
          "dtype": "f8"
         }
        },
        {
         "name": "('SAB', 'CHE', 'Pera Roja')",
         "type": "bar",
         "x": {
          "bdata": "BAUGBwgJCgsMDQ4PEBESExQVFhcYGRobHB0eHyAhIiMkJSc=",
          "dtype": "i1"
         },
         "y": {
          "bdata": "AAAAAAAAAAAAAAAAAAAAAAAAAAAAAAAAAAAAAAAAAAAAAAAAAAAAAAAAAAAAAAAAAAAAAAAAAAAAAAAAAAAAAAAAAAAAAAAAKVyPwvUo3D+amZmZmZnJPwAAAAAAAAAAexSuR+F6pD8AAAAAAAAAAAAAAAAAAAAAAAAAAAAAAAAAAAAAAAAAAAAAAAAAAAAAAAAAAAAAAABI4XoUrkfRP1TjpZvEIMA/AAAAAAAAAAAAAAAAAAAAAAAAAAAAAAAAAAAAAAAAAABU46WbxCDAPwAAAAAAAAAAAAAAAAAAAAAAAAAAAAAAADQzMzMzM9M/AAAAAAAAAAAAAAAAAAAAAAAAAAAAAAAAAAAAAAAAAAAAAAAAAAAAAA==",
          "dtype": "f8"
         }
        },
        {
         "name": "('SFB', 'BSUF', 'Uva Amarilla')",
         "type": "bar",
         "x": {
          "bdata": "BAUGBwgJCgsMDQ4PEBESExQVFhcYGRobHB0eHyAhIiMkJSc=",
          "dtype": "i1"
         },
         "y": {
          "bdata": "AAAAAAAAAAAAAAAAAAAAAAAAAAAAAAAAAAAAAAAAAAAAAAAAAAAAAAAAAAAAAAAAAAAAAAAAAAAAAAAAAAAAAAAAAAAAAAAAAAAAAAAAAAB7FK5H4XrEPwAAAAAAAAAAAAAAAAAAAAAAAAAAAAAAAL5SliGOddk/AAAAAAAAAAAAAAAAAAAAAAAAAAAAAAAAAAAAAAAAAAAU0ETY8PTKPwAAAAAAAAAAAAAAAAAAAAAj2/l+ary0PwAAAAAAAAAA2V92Tx4W0j8AAAAAAAAAAAAAAAAAAAAAAAAAAAAAAAAAAAAAAAAAAAAAAAAAAAAAAAAAAAAAAAAAAAAAAAAAAAAAAAAAAAAAAAAAAAAAAAAAAAAAAAAAAA==",
          "dtype": "f8"
         }
        },
        {
         "name": "('SFB', 'BSUF', 'Uva Roja')",
         "type": "bar",
         "x": {
          "bdata": "BAUGBwgJCgsMDQ4PEBESExQVFhcYGRobHB0eHyAhIiMkJSc=",
          "dtype": "i1"
         },
         "y": {
          "bdata": "AAAAAAAAAAAAAAAAAAAAAAAAAAAAAAAAAAAAAAAAAAAAAAAAAAAAAKRwPQrXo9A/AAAAAAAAAAAAAAAAAAAAAL6fGi/dJOI/wcqhRbbz9z+C4seYu5bQPwAAAAAAAAAAAAAAAAAAAAAAAAAAAAAAALTIdr6fGs8/AAAAAAAAAAAAAAAAAAAAAF5LyAc9m+0/iPTb14Fz4D/biv1l9+TzPwAAAAAAAAAAjErqBDQR3j/E0ytlGeK4P/LSTWIQWOk/n82qz9VWBEAAAAAAAAAAAAAAAAAAAAAAAAAAAAAAAAAAAAAAAAAAAAAAAAAAAAAAAAAAAAAAAAAAAAAAAAAAAAAAAAAAAAAAAAAAAAAAAAAAAAAAAAAAAA==",
          "dtype": "f8"
         }
        },
        {
         "name": "('SFB', 'BSUF', 'Uva Zebra')",
         "type": "bar",
         "x": {
          "bdata": "BAUGBwgJCgsMDQ4PEBESExQVFhcYGRobHB0eHyAhIiMkJSc=",
          "dtype": "i1"
         },
         "y": {
          "bdata": "AAAAAAAAAAAAAAAAAAAAAAAAAAAAAAAAAAAAAAAAAAAAAAAAAAAAAAAAAAAAAAAAAAAAAAAAAAAAAAAAAAAAAAAAAAAAAAAAAAAAAAAAAAAAAAAAAAAAAAAAAAAAAAAAAAAAAAAAAAAAAAAAAAAAAAAAAAAAAAAA+n5qvHSTmD8AAAAAAAAAAAAAAAAAAAAAAAAAAAAAAAAAAAAAAAAAAAAAAAAAAAAAAAAAAAAAAAAAAAAAAAAAAAAAAAAAAAAAAAAAAAAAAAAAAAAAAAAAAAAAAAAAAAAAAAAAAAAAAAAAAAAAAAAAAAAAAAAAAAAAAAAAAAAAAAAAAAAAAAAAAAAAAAAAAAAAAAAAAAAAAAAAAAAAAAAAAA==",
          "dtype": "f8"
         }
        },
        {
         "name": "('SFB', 'CHE', 'Cherry Amarillo')",
         "type": "bar",
         "x": {
          "bdata": "BAUGBwgJCgsMDQ4PEBESExQVFhcYGRobHB0eHyAhIiMkJSc=",
          "dtype": "i1"
         },
         "y": {
          "bdata": "AAAAAAAAAAAAAAAAAAAAAAAAAAAAAAAAAAAAAAAAAAAAAAAAAAAAAAAAAAAAAAAAAAAAAAAAAAAAAAAAAAAAAAAAAAAAAAAAAAAAAAAAAAAAAAAAAAAAAAAAAAAAAAAAAAAAAAAAAAAAAAAAAAAAAAAAAAAAAAAAAAAAAAAAAAAAAAAAAAAAAAAAAAAAAAAAAAAAAAAAAAAAAAAAAAAAAAAAAAAAAAAAAAAAAAAAAAAAAAAAAAAAAAAAAAAAAAAAexSuR+F6tD8AAAAAAAAAAAAAAAAAAAAAAAAAAAAAAAAAAAAAAAAAAAAAAAAAAAAAAAAAAAAAAAAAAAAAAAAAAAAAAAAAAAAAAAAAAAAAAAAAAAAAAAAAAA==",
          "dtype": "f8"
         }
        },
        {
         "name": "('SFB', 'CHE', 'Cherry Naranja')",
         "type": "bar",
         "x": {
          "bdata": "BAUGBwgJCgsMDQ4PEBESExQVFhcYGRobHB0eHyAhIiMkJSc=",
          "dtype": "i1"
         },
         "y": {
          "bdata": "AAAAAAAAAAAAAAAAAAAAAAAAAAAAAAAAAAAAAAAAAAAAAAAAAAAAAAAAAAAAAAAAAAAAAAAAAAAAAAAAAAAAAAAAAAAAAAAAAAAAAAAAAAAAAAAAAAAAAAAAAAAAAAAAAAAAAAAAAAAAAAAAAAAAAMTTK2UZ4qg/AAAAAAAAAAAAAAAAAAAAAAAAAAAAAAAAAAAAAAAAAAAAAAAAAAAAAAAAAAAAAAAAAAAAAAAAAAAAAAAAAAAAAAAAAAAAAAAAAAAAAAAAAAAAAAAAAAAAAAAAAAAAAAAAAAAAAAAAAAAAAAAAAAAAAAAAAAAAAAAAAAAAAAAAAAAAAAAAAAAAAAAAAAAAAAAAAAAAAAAAAAAAAAAAAAAAAA==",
          "dtype": "f8"
         }
        },
        {
         "name": "('SFB', 'CHE', 'Cherry Rojo')",
         "type": "bar",
         "x": {
          "bdata": "BAUGBwgJCgsMDQ4PEBESExQVFhcYGRobHB0eHyAhIiMkJSc=",
          "dtype": "i1"
         },
         "y": {
          "bdata": "AAAAAAAAAAAAAAAAAAAAAAAAAAAAAAAAAAAAAAAAAAAAAAAAAAAAAAAAAAAAAAAAAAAAAAAAAAAAAAAAAAAAAK7YX3ZPHrY/ZMxdS8gH3T8AAAAAAAAAAAAAAAAAAAAAAAAAAAAAAAAAAAAAAAAAAAAAAAAAAAAAAAAAAAAAAACkcD0K16PgPwAAAAAAAAAA2c73U+Oluz+3Yn/ZPXnQP3pYqDXNOwBAAAAAAAAAAAAAAAAAAAAAAAAAAAAAAAAAuB6F61G43j8AAAAAAAAAAAAAAAAAAAAAAAAAAAAAAAAAAAAAAAAAAAAAAAAAAAAAAAAAAAAAAAAAAAAAAAAAAAAAAAAAAAAAAAAAAAAAAAAAAAAAAAAAAA==",
          "dtype": "f8"
         }
        },
        {
         "name": "('SFB', 'CHE', 'Cherry Rosa')",
         "type": "bar",
         "x": {
          "bdata": "BAUGBwgJCgsMDQ4PEBESExQVFhcYGRobHB0eHyAhIiMkJSc=",
          "dtype": "i1"
         },
         "y": {
          "bdata": "AAAAAAAAAAAAAAAAAAAAAAAAAAAAAAAAAAAAAAAAAAAAAAAAAAAAAAAAAAAAAAAAAAAAAAAAAAAAAAAAAAAAAAAAAAAAAAAAAAAAAAAAAAB56SYxCKzMPwAAAAAAAAAAAAAAAAAAAAAAAAAAAAAAAAAAAAAAAAAAAAAAAAAAAAAAAAAAAAAAAAAAAAAAAAAAAAAAAAAAAAAAAAAAAAAAAAAAAAAAAAAAAAAAAAAAAAAAAAAAAAAAAAAAAAAAAAAAexSuR+F6xD8AAAAAAAAAAAAAAAAAAAAAAAAAAAAAAAAAAAAAAAAAAAAAAAAAAAAAAAAAAAAAAAAAAAAAAAAAAAAAAAAAAAAAAAAAAAAAAAAAAAAAAAAAAA==",
          "dtype": "f8"
         }
        },
        {
         "name": "('SFB', 'CHE', 'Heirloom Cherry')",
         "type": "bar",
         "x": {
          "bdata": "BAUGBwgJCgsMDQ4PEBESExQVFhcYGRobHB0eHyAhIiMkJSc=",
          "dtype": "i1"
         },
         "y": {
          "bdata": "AAAAAAAAAAAAAAAAAAAAAAAAAAAAAAAAAAAAAAAAAAAAAAAAAAAAAAAAAAAAAAAAAAAAAAAAAAAAAAAAAAAAAEtZhjjWxdU/dnEbDeAtwD/TTWIQWDm0PwAAAAAAAAAAzhlR2ht8sT8AAAAAAAAAAAKaCBueXtU/AAAAAAAAAACcxCCwcmjRP5jdk4eFWrM/AAAAAAAAAAB+HThnRGnbP5APejarPt8/uB6F61G4vj9q3nGKjuTCPwAAAAAAAAAAJzEIrBxa4D8AAAAAAAAAAAAAAAAAAAAAAAAAAAAAAAAAAAAAAAAAAAAAAAAAAAAAAAAAAAAAAAAAAAAAAAAAAAAAAAAAAAAAAAAAAAAAAAAAAAAAAAAAAA==",
          "dtype": "f8"
         }
        },
        {
         "name": "('SFB', 'CHE', 'Pera')",
         "type": "bar",
         "x": {
          "bdata": "BAUGBwgJCgsMDQ4PEBESExQVFhcYGRobHB0eHyAhIiMkJSc=",
          "dtype": "i1"
         },
         "y": {
          "bdata": "AAAAAAAAAAAAAAAAAAAAAAAAAAAAAAAAAAAAAAAAAAAAAAAAAAAAAAAAAAAAAAAAAAAAAAAAAAAAAAAAAAAAACPb+X5qvMQ/SOF6FK5HwT8AAAAAAAAAAJPLf0i/fb0/AAAAAAAAAAAAAAAAAAAAAILix5i7lsA/AAAAAAAAAAAAAAAAAAAAAAAAAAAAAAAAAAAAAAAAAAAAAAAAAAAAAMTTK2UZ4qg/tMh2vp8azz/E0ytlGeKoPwAAAAAAAAAAAAAAAAAAAAAAAAAAAAAAAAAAAAAAAAAAAAAAAAAAAAAAAAAAAAAAAAAAAAAAAAAAAAAAAAAAAAAAAAAAAAAAAAAAAAAAAAAAAAAAAAAAAAAAAAAAAAAAAA==",
          "dtype": "f8"
         }
        },
        {
         "name": "('SFB', 'CHE', 'Pera Amarilla')",
         "type": "bar",
         "x": {
          "bdata": "BAUGBwgJCgsMDQ4PEBESExQVFhcYGRobHB0eHyAhIiMkJSc=",
          "dtype": "i1"
         },
         "y": {
          "bdata": "AAAAAAAAAAAAAAAAAAAAAAAAAAAAAAAAAAAAAAAAAAAAAAAAAAAAAAAAAAAAAAAAAAAAAAAAAAAAAAAAAAAAAAAAAAAAAAAAAAAAAAAAAAAAAAAAAAAAAAAAAAAAAAAAAAAAAAAAAACcxCCwcmixPwAAAAAAAAAAAAAAAAAAAAAAAAAAAAAAAAAAAAAAAAAAAAAAAAAAAAAAAAAAAAAAAAAAAAAAAAAAAAAAAAAAAADy0k1iEFi5PwAAAAAAAAAA2V92Tx4Wyj8AAAAAAAAAAAAAAAAAAAAAAAAAAAAAAAAAAAAAAAAAAAAAAAAAAAAAAAAAAAAAAAAAAAAAAAAAAAAAAAAAAAAAAAAAAAAAAAAAAAAAAAAAAA==",
          "dtype": "f8"
         }
        },
        {
         "name": "('SFB', 'CHE', 'Pera Roja')",
         "type": "bar",
         "x": {
          "bdata": "BAUGBwgJCgsMDQ4PEBESExQVFhcYGRobHB0eHyAhIiMkJSc=",
          "dtype": "i1"
         },
         "y": {
          "bdata": "AAAAAAAAAAAAAAAAAAAAAAAAAAAAAAAAAAAAAAAAAAAAAAAAAAAAAAAAAAAAAAAAAAAAAAAAAAAAAAAAAAAAAAAAAAAAAAAAAAAAAAAAAADTTWIQWDnEPwAAAAAAAAAAK4cW2c73oz+amZmZmZnJPwAAAAAAAAAAAAAAAAAAAAB7FK5H4Xq0PwAAAAAAAAAAAAAAAAAAAAAAAAAAAAAAAAAAAAAAAAAAAAAAAAAAAAA830+Nl26yPwAAAAAAAAAAAAAAAAAAAAAAAAAAAAAAAAAAAAAAAAAAAAAAAAAAAAAAAAAAAAAAAAAAAAAAAAAAAAAAAAAAAAAAAAAAAAAAAAAAAAAAAAAAAAAAAAAAAAAAAAAAAAAAAA==",
          "dtype": "f8"
         }
        },
        {
         "name": "('SGB', 'BSUF', 'Uva Amarilla')",
         "type": "bar",
         "x": {
          "bdata": "BAUGBwgJCgsMDQ4PEBESExQVFhcYGRobHB0eHyAhIiMkJSc=",
          "dtype": "i1"
         },
         "y": {
          "bdata": "AAAAAAAAAAAAAAAAAAAAAAAAAAAAAAAAAAAAAAAAAAAAAAAAAAAAAAAAAAAAAAAAAAAAAAAAAAAAAAAAAAAAAAAAAAAAAAAAAAAAAAAAAAAAAAAAAAAAAAAAAAAAAAAAAAAAAAAAAAAAAAAAAAAAAIiFWtO845Q/AAAAAAAAAAAAAAAAAAAAAAAAAAAAAAAAAAAAAAAAAAAAAAAAAAAAAAAAAAAAAAAAAAAAAAAAAAAAAAAAAAAAAAAAAAAAAAAAAAAAAAAAAAAAAAAAAAAAAAAAAAAAAAAAAAAAAAAAAAAAAAAAAAAAAAAAAAAAAAAAAAAAAAAAAAAAAAAAAAAAAAAAAAAAAAAAAAAAAAAAAAAAAAAAAAAAAA==",
          "dtype": "f8"
         }
        },
        {
         "name": "('SGB', 'BSUF', 'Uva Roja')",
         "type": "bar",
         "x": {
          "bdata": "BAUGBwgJCgsMDQ4PEBESExQVFhcYGRobHB0eHyAhIiMkJSc=",
          "dtype": "i1"
         },
         "y": {
          "bdata": "AAAAAAAAAAAAAAAAAAAAAAAAAAAAAAAAAAAAAAAAAAAAAAAAAAAAAAAAAAAAAAAAAAAAAAAAAABCz2bV52rLPwAAAAAAAAAAAAAAAAAAAAAAAAAAAAAAAAAAAAAAAAAAAAAAAAAAAABsmnecoiPRPxFYObTIdt4/AAAAAAAAAAAAAAAAAAAAAAAAAAAAAAAAAAAAAAAAAACIhVrTvOOkPwAAAAAAAAAAx0s3iUFg3T8AAAAAAAAAAAAAAAAAAAAAAAAAAAAAAAAAAAAAAAAAAAAAAAAAAAAAUrgehetR4D8AAAAAAAAAAOomMQisHNo/foy5awn50D851sVtNIDXPwAAAAAAAAAAAAAAAAAAAAAAAAAAAAAAAA==",
          "dtype": "f8"
         }
        },
        {
         "name": "('SGB', 'CHE', 'Cherry Chocolate')",
         "type": "bar",
         "x": {
          "bdata": "BAUGBwgJCgsMDQ4PEBESExQVFhcYGRobHB0eHyAhIiMkJSc=",
          "dtype": "i1"
         },
         "y": {
          "bdata": "AAAAAAAAAAAAAAAAAAAAAAAAAAAAAAAAAAAAAAAAAAAAAAAAAAAAAAAAAAAAAAAAAAAAAAAAAAAAAAAAAAAAAAAAAAAAAAAAiIVa07zjlD8AAAAAAAAAAAAAAAAAAAAAAAAAAAAAAAAAAAAAAAAAAAAAAAAAAAAA6iYxCKwcqj8AAAAAAAAAAAAAAAAAAAAAAAAAAAAAAAAAAAAAAAAAAAAAAAAAAAAAAAAAAAAAAAAAAAAAAAAAAAAAAAAAAAAAAAAAAAAAAAAAAAAAAAAAAAAAAAAAAAAAAAAAAAAAAAAAAAAAAAAAAAAAAAAAAAAAAAAAAAAAAAAAAAAAAAAAAAAAAAAAAAAAAAAAAAAAAAAAAAAAAAAAAA==",
          "dtype": "f8"
         }
        },
        {
         "name": "('SGB', 'CHE', 'Cherry Naranja')",
         "type": "bar",
         "x": {
          "bdata": "BAUGBwgJCgsMDQ4PEBESExQVFhcYGRobHB0eHyAhIiMkJSc=",
          "dtype": "i1"
         },
         "y": {
          "bdata": "AAAAAAAAAAAAAAAAAAAAAAAAAAAAAAAAAAAAAAAAAAAAAAAAAAAAAAAAAAAAAAAAAAAAAAAAAAAAAAAAAAAAAAAAAAAAAAAAAAAAAAAAAAAAAAAAAAAAABsv3SQGgbU/iIVa07zjtD8AAAAAAAAAAAAAAAAAAAAAAAAAAAAAAAAAAAAAAAAAAAAAAAAAAAAAAAAAAAAAAAAAAAAAAAAAAAAAAAAAAAAAAAAAAAAAAAAAAAAAAAAAAAAAAAAAAAAAAAAAAAAAAAAAAAAAAAAAAAAAAAAAAAAAAAAAAAAAAAAAAAAAAAAAAAAAAAAAAAAAAAAAAAAAAAAAAAAAAAAAAAAAAAAAAAAAAAAAAAAAAAAAAAAAAAAAAA==",
          "dtype": "f8"
         }
        },
        {
         "name": "('SGB', 'CHE', 'Cherry Rojo')",
         "type": "bar",
         "x": {
          "bdata": "BAUGBwgJCgsMDQ4PEBESExQVFhcYGRobHB0eHyAhIiMkJSc=",
          "dtype": "i1"
         },
         "y": {
          "bdata": "AAAAAAAAAAAAAAAAAAAAAAAAAAAAAAAAAAAAAAAAAAAAAAAAAAAAAAAAAAAAAAAAAAAAAAAAAAAAAAAAAAAAAGWqYFRSJ9g/AAAAAAAAAAAAAAAAAAAAAAAAAAAAAAAA4C2QoPgxxj94nKIjufzPPwAAAAAAAAAAAAAAAAAAAAAAAAAAAAAAAAAAAAAAAAAAAAAAAAAAAAAAAAAAAAAAAAAAAAAAAAAAAAAAAAAAAAAAAAAAAAAAAAAAAAAAAAAAAAAAAAAAAAAAAAAAAAAAAAAAAAAAAAAAAAAAAAAAAAAAAAAAAAAAAAAAAAAAAAAAtFn1udqK1T8AAAAAAAAAAAAAAAAAAAAAAAAAAAAAAAAAAAAAAAAAAA==",
          "dtype": "f8"
         }
        },
        {
         "name": "('SGB', 'CHE', 'Heirloom Cherry')",
         "type": "bar",
         "x": {
          "bdata": "BAUGBwgJCgsMDQ4PEBESExQVFhcYGRobHB0eHyAhIiMkJSc=",
          "dtype": "i1"
         },
         "y": {
          "bdata": "AAAAAAAAAAAAAAAAAAAAAAAAAAAAAAAAAAAAAAAAAAAAAAAAAAAAAAAAAAAAAAAAAAAAAAAAAAAAAAAAAAAAAAAAAAAAAAAA6iYxCKwcqj8AAAAAAAAAAAAAAAAAAAAA1zTvOEVHsj9MyAc9m1WfP4iFWtO846Q/AAAAAAAAAAAAAAAAAAAAAAAAAAAAAAAAAAAAAAAAAAAAAAAAAAAAAAAAAAAAAAAA1zTvOEVHsj8AAAAAAAAAAAAAAAAAAAAAAAAAAAAAAAAAAAAAAAAAAAAAAAAAAAAAAAAAAAAAAAAAAAAAAAAAAAAAAAAAAAAAAAAAAAAAAAAAAAAAAAAAAEzIBz2bVZ8/AAAAAAAAAAAAAAAAAAAAAA==",
          "dtype": "f8"
         }
        },
        {
         "name": "('SGB', 'CHE', 'Pera Amarilla')",
         "type": "bar",
         "x": {
          "bdata": "BAUGBwgJCgsMDQ4PEBESExQVFhcYGRobHB0eHyAhIiMkJSc=",
          "dtype": "i1"
         },
         "y": {
          "bdata": "AAAAAAAAAAAAAAAAAAAAAAAAAAAAAAAAAAAAAAAAAAAAAAAAAAAAAAAAAAAAAAAAAAAAAAAAAAAAAAAAAAAAAAAAAAAAAAAAAAAAAAAAAAAAAAAAAAAAAAAAAAAAAAAAAAAAAAAAAAAll/+Qfvu6P+omMQisHLo/AAAAAAAAAAAAAAAAAAAAAAAAAAAAAAAAAAAAAAAAAAAAAAAAAAAAAAAAAAAAAAAAAAAAAAAAAAAAAAAAAAAAAAAAAAAAAAAAAAAAAAAAAAAAAAAAAAAAAAAAAAAAAAAAAAAAAAAAAAAAAAAAAAAAAAAAAAAAAAAAAAAAAAAAAAAAAAAAAAAAAAAAAAAAAAAAAAAAAAAAAAAAAAAAAAAAAA==",
          "dtype": "f8"
         }
        },
        {
         "name": "('SGB', 'CHE', 'Pera Roja')",
         "type": "bar",
         "x": {
          "bdata": "BAUGBwgJCgsMDQ4PEBESExQVFhcYGRobHB0eHyAhIiMkJSc=",
          "dtype": "i1"
         },
         "y": {
          "bdata": "AAAAAAAAAAAAAAAAAAAAAAAAAAAAAAAAAAAAAAAAAAAAAAAAAAAAAAAAAAAAAAAAAAAAAAAAAAAAAAAAAAAAAAAAAAAAAAAAAAAAAAAAAAAAAAAAAAAAAAAAAAAAAAAAAAAAAAAAAABTliGOdXGrPwAAAAAAAAAA6iYxCKwcqj8AAAAAAAAAAAAAAAAAAAAAAAAAAAAAAAAAAAAAAAAAAAAAAAAAAAAAAAAAAAAAAAAAAAAAAAAAAAAAAAAAAAAAAAAAAAAAAAAAAAAAAAAAAAAAAAAAAAAAAAAAAAAAAAAAAAAAAAAAAAAAAAAAAAAAAAAAAAAAAAAAAAAAAAAAAAAAAAAAAAAAAAAAAAAAAAAAAAAAAAAAAA==",
          "dtype": "f8"
         }
        },
        {
         "name": "('SGC', 'BSUF', 'Uva Roja')",
         "type": "bar",
         "x": {
          "bdata": "BAUGBwgJCgsMDQ4PEBESExQVFhcYGRobHB0eHyAhIiMkJSc=",
          "dtype": "i1"
         },
         "y": {
          "bdata": "AAAAAAAAAAAAAAAAAAAAAAAAAAAAAAAAAAAAAAAAAAAAAAAAAAAAAAAAAAAAAAAAAAAAAAAAAAAAAAAAAAAAAGPuWkI+6Ok/AAAAAAAAAAAAAAAAAAAAAAAAAAAAAAAAAAAAAAAAAAAAAAAAAAAAALkehetRuNI/AAAAAAAAAAAAAAAAAAAAAAAAAAAAAAAAAAAAAAAAAAAAAAAAAAAAAAAAAAAAAAAAAAAAAAAAAAAAAAAAAAAAAAAAAAAAAAAAAAAAAAAAAAAAAAAAAAAAAAAAAAAAAAAAAAAAAAAAAAAAAAAAAAAAAAAAAAAAAAAAAAAAAAAAAAAAAAAAAAAAAAAAAAAAAAAAAAAAAAAAAAAAAAAAAAAAAA==",
          "dtype": "f8"
         }
        },
        {
         "name": "('SGC', 'CHE', 'Heirloom Cherry')",
         "type": "bar",
         "x": {
          "bdata": "BAUGBwgJCgsMDQ4PEBESExQVFhcYGRobHB0eHyAhIiMkJSc=",
          "dtype": "i1"
         },
         "y": {
          "bdata": "AAAAAAAAAAAAAAAAAAAAAAAAAAAAAAAAAAAAAAAAAAAAAAAAAAAAAAAAAAAAAAAAAAAAAAAAAAAAAAAAAAAAAAAAAAAAAAAAPN9PjZdusj8H8BZIUPyoPwAAAAAAAAAAAAAAAAAAAAAAAAAAAAAAAJjdk4eFWpM/pU5AE2HDkz8AAAAAAAAAAAAAAAAAAAAAAAAAAAAAAAAAAAAAAAAAAAAAAAAAAAAAbXh6pSxDjD8AAAAAAAAAAAAAAAAAAAAAAAAAAAAAAAAAAAAAAAAAAAAAAAAAAAAAAAAAAAAAAAAAAAAAAAAAAAAAAAAAAAAAAAAAAAAAAAAAAAAAAAAAAAAAAAAAAAAAAAAAAAAAAAAAAAAAAAAAAA==",
          "dtype": "f8"
         }
        },
        {
         "name": "('SGC', 'CHE', 'Pera Roja')",
         "type": "bar",
         "x": {
          "bdata": "BAUGBwgJCgsMDQ4PEBESExQVFhcYGRobHB0eHyAhIiMkJSc=",
          "dtype": "i1"
         },
         "y": {
          "bdata": "AAAAAAAAAAAAAAAAAAAAAAAAAAAAAAAAAAAAAAAAAAAAAAAAAAAAAAAAAAAAAAAAAAAAAAAAAAAAAAAAAAAAAAAAAAAAAAAAAAAAAAAAAAAAAAAAAAAAAAAAAAAAAAAAZF3cRgN40z8AAAAAAAAAAAAAAAAAAAAAAAAAAAAAAAAAAAAAAAAAAAAAAAAAAAAAAAAAAAAAAAAAAAAAAAAAAAAAAAAAAAAAAAAAAAAAAAAAAAAAAAAAAAAAAAAAAAAAAAAAAAAAAAAAAAAAAAAAAAAAAAAAAAAAAAAAAAAAAAAAAAAAAAAAAAAAAAAAAAAAAAAAAAAAAAAAAAAAAAAAAAAAAAAAAAAAAAAAAAAAAAAAAAAAAAAAAA==",
          "dtype": "f8"
         }
        },
        {
         "name": "('SJB', 'BSUF', 'Uva Amarilla')",
         "type": "bar",
         "x": {
          "bdata": "BAUGBwgJCgsMDQ4PEBESExQVFhcYGRobHB0eHyAhIiMkJSc=",
          "dtype": "i1"
         },
         "y": {
          "bdata": "AAAAAAAAAAAAAAAAAAAAAAAAAAAAAAAAAAAAAAAAAAAAAAAAAAAAAAAAAAAAAAAAAAAAAAAAAAAAAAAAAAAAAAAAAAAAAAAAseHplbIMsT8AAAAAAAAAAAAAAAAAAAAAAAAAAAAAAAAAAAAAAAAAAAAAAAAAAAAAAAAAAAAAAAAAAAAAAAAAAAAAAAAAAAAAAAAAAAAAAAAAAAAAAAAAAAAAAAAAAAAAAAAAAAAAAAAAAAAAAAAAAAAAAAAAAAAAAAAAAAAAAACamZmZmZm5PwAAAAAAAAAA+n5qvHSTuD8AAAAAAAAAAAAAAAAAAAAAAAAAAAAAAAAAAAAAAAAAAAAAAAAAAAAAAAAAAAAAAAAAAAAAAAAAAA==",
          "dtype": "f8"
         }
        },
        {
         "name": "('SJB', 'BSUF', 'Uva Roja')",
         "type": "bar",
         "x": {
          "bdata": "BAUGBwgJCgsMDQ4PEBESExQVFhcYGRobHB0eHyAhIiMkJSc=",
          "dtype": "i1"
         },
         "y": {
          "bdata": "AAAAAAAAAAAAAAAAAAAAAAAAAAAAAAAAAAAAAAAAAAAAAAAAAAAAAAAAAAAAAAAAAAAAAAAAAAAAAAAAAAAAAAAAAAAAAAAAsHJoke187z+u2F92Tx7iPwAAAAAAAAAAAAAAAAAAAAAAAAAAAAAAALByaJHtfOc/AAAAAAAAAAAAAAAAAAAAAAAAAAAAAAAAAAAAAAAAAACmLEMc6+LqPwAAAAAAAAAAAAAAAAAAAAAAAAAAAAAAAAAAAAAAAAAAAAAAAAAAAAC4HoXrUbiuPwAAAAAAAAAAAAAAAAAAAAAAAAAAAAAAAAAAAAAAAAAAAAAAAAAAAAAAAAAAAAAAAAAAAAAAAAAAAAAAAAAAAAAAAAAAAAAAAA==",
          "dtype": "f8"
         }
        },
        {
         "name": "('SJB', 'CHE', 'Cherry Chocolate')",
         "type": "bar",
         "x": {
          "bdata": "BAUGBwgJCgsMDQ4PEBESExQVFhcYGRobHB0eHyAhIiMkJSc=",
          "dtype": "i1"
         },
         "y": {
          "bdata": "AAAAAAAAAAAAAAAAAAAAAAAAAAAAAAAAAAAAAAAAAAAAAAAAAAAAAAAAAAAAAAAAAAAAAAAAAAAAAAAAAAAAAAAAAAAAAAAAAAAAAAAAAAAAAAAAAAAAAAAAAAAAAAAAAAAAAAAAAAAAAAAAAAAAAAAAAAAAAAAAj1N0JJf/sD8AAAAAAAAAAAAAAAAAAAAAAAAAAAAAAAAAAAAAAAAAAAAAAAAAAAAAAAAAAAAAAAAAAAAAAAAAAAAAAAAAAAAAAAAAAAAAAAAAAAAAAAAAAAAAAAAAAAAAAAAAAAAAAAAAAAAAAAAAAAAAAAAAAAAAAAAAAAAAAAAAAAAAAAAAAAAAAAAAAAAAAAAAAAAAAAAAAAAAAAAAAA==",
          "dtype": "f8"
         }
        },
        {
         "name": "('SJB', 'CHE', 'Cherry Naranja')",
         "type": "bar",
         "x": {
          "bdata": "BAUGBwgJCgsMDQ4PEBESExQVFhcYGRobHB0eHyAhIiMkJSc=",
          "dtype": "i1"
         },
         "y": {
          "bdata": "AAAAAAAAAAAAAAAAAAAAAAAAAAAAAAAAAAAAAAAAAAAAAAAAAAAAAAAAAAAAAAAAAAAAAAAAAAAAAAAAAAAAAAAAAAAAAAAAAAAAAAAAAAAAAAAAAAAAAAAAAAAAAAAAAAAAAAAAAAAAAAAAAAAAAAAAAAAAAAAAAAAAAAAAAAAAAAAAAAAAAAAAAAAAAAAAAAAAAAAAAAAAAAAAAAAAAAAAAAAAAAAAAAAAAAAAAAAAAAAAAAAAAAAAAAAAAAAAAAAAAAAAAAAAAAAAAAAAAAAAAAAAAAAAAAAAAAAAAAAIrBxaZDu/PwAAAAAAAAAAAAAAAAAAAAAAAAAAAAAAAAAAAAAAAAAAAAAAAAAAAAAAAAAAAAAAAA==",
          "dtype": "f8"
         }
        },
        {
         "name": "('SJB', 'CHE', 'Cherry Rojo')",
         "type": "bar",
         "x": {
          "bdata": "BAUGBwgJCgsMDQ4PEBESExQVFhcYGRobHB0eHyAhIiMkJSc=",
          "dtype": "i1"
         },
         "y": {
          "bdata": "AAAAAAAAAAAAAAAAAAAAAAAAAAAAAAAAAAAAAAAAAAAAAAAAAAAAAAAAAAAAAAAAAAAAAAAAAAAAAAAAAAAAAAAAAAAAAAAAAAAAAAAAAAAAAAAAAAAAAAAAAAAAAAAAAAAAAAAAAAAAAAAAAAAAAPyp8dJNYuA/AAAAAAAAAAAAAAAAAAAAAAAAAAAAAAAAAAAAAAAAAAAAAAAAAAAAAAAAAAAAAAAAAAAAAAAAAAAAAAAAAAAAAAAAAAAAAAAAAAAAAAAAAAAAAAAAAAAAAAAAAAAAAAAAAAAAAAAAAAAAAAAAAAAAAAAAAAAAAAAAmpmZmZmZ2T8AAAAAAAAAAAAAAAAAAAAAAAAAAAAAAAAAAAAAAAAAAA==",
          "dtype": "f8"
         }
        },
        {
         "name": "('SJB', 'CHE', 'Heirloom Cherry')",
         "type": "bar",
         "x": {
          "bdata": "BAUGBwgJCgsMDQ4PEBESExQVFhcYGRobHB0eHyAhIiMkJSc=",
          "dtype": "i1"
         },
         "y": {
          "bdata": "AAAAAAAAAAAAAAAAAAAAAAAAAAAAAAAAAAAAAAAAAAAAAAAAAAAAAAAAAAAAAAAAAAAAAAAAAAAAAAAAAAAAAAAAAAAAAAAAAAAAAAAAAAAAAAAAAAAAAAAAAAAAAAAAAAAAAAAAAAAAAAAAAAAAABsv3SQGgbU/CtejcD0Kpz8AAAAAAAAAAAAAAAAAAAAAAAAAAAAAAAAAAAAAAAAAAAAAAAAAAAAAAAAAAAAAAAAAAAAAAAAAAAAAAAAAAAAAexSuR+F6tD/ecYqO5PK/PwAAAAAAAAAAAAAAAAAAAAAAAAAAAAAAAAAAAAAAAAAAAAAAAAAAAAAAAAAAAAAAAAAAAAAAAAAAAAAAAAAAAAAAAAAAAAAAAA==",
          "dtype": "f8"
         }
        },
        {
         "name": "('SJB', 'CHE', 'Pera Amarilla')",
         "type": "bar",
         "x": {
          "bdata": "BAUGBwgJCgsMDQ4PEBESExQVFhcYGRobHB0eHyAhIiMkJSc=",
          "dtype": "i1"
         },
         "y": {
          "bdata": "AAAAAAAAAAAAAAAAAAAAAAAAAAAAAAAAAAAAAAAAAAAAAAAAAAAAAAAAAAAAAAAAAAAAAAAAAAAAAAAAAAAAAAAAAAAAAAAAAAAAAAAAAAAAAAAAAAAAAAAAAAAAAAAAAAAAAAAAAAAAAAAAAAAAAAAAAAAAAAAAAAAAAAAAAAAAAAAAAAAAAAAAAAAAAAAAAAAAAAAAAAAAAAAAAAAAAPp+arx0k7g/AAAAAAAAAAAAAAAAAAAAAAAAAAAAAAAAexSuR+F6tD8AAAAAAAAAAAAAAAAAAAAAAAAAAAAAAAAAAAAAAAAAAAAAAAAAAAAAAAAAAAAAAAAAAAAAAAAAAAAAAAAAAAAAAAAAAAAAAAAAAAAAAAAAAA==",
          "dtype": "f8"
         }
        },
        {
         "name": "('SJB', 'CHE', 'Pera Roja')",
         "type": "bar",
         "x": {
          "bdata": "BAUGBwgJCgsMDQ4PEBESExQVFhcYGRobHB0eHyAhIiMkJSc=",
          "dtype": "i1"
         },
         "y": {
          "bdata": "AAAAAAAAAAAAAAAAAAAAAAAAAAAAAAAAAAAAAAAAAAAAAAAAAAAAAAAAAAAAAAAAAAAAAAAAAAAAAAAAAAAAAAAAAAAAAAAAAAAAAAAAAAAAAAAAAAAAAAAAAAAAAAAAAAAAAAAAAAAAAAAAAAAAAAAAAAAAAAAAAAAAAAAAAAAAAAAAAAAAAAAAAAAAAAAAAAAAAAAAAAAAAAAAAAAAAG14eqUsQ6w/AAAAAAAAAAAAAAAAAAAAAAAAAAAAAAAAAAAAAAAAAAAAAAAAAAAAAAAAAAAAAAAAAAAAAAAAAAAAAAAAAAAAAAAAAAAAAAAAAAAAAAAAAAAAAAAAAAAAAAAAAAAAAAAAAAAAAAAAAAAAAAAAAAAAAA==",
          "dtype": "f8"
         }
        },
        {
         "name": "('SLB', 'BSUF', 'Uva Roja')",
         "type": "bar",
         "x": {
          "bdata": "BAUGBwgJCgsMDQ4PEBESExQVFhcYGRobHB0eHyAhIiMkJSc=",
          "dtype": "i1"
         },
         "y": {
          "bdata": "AAAAAAAAAAAAAAAAAAAAAAAAAAAAAAAAAAAAAAAAAAAAAAAAAAAAAAAAAAAAAAAAAAAAAAAAAAAAAAAAAAAAAAAAAAAAAAAAAAAAAAAAAAAAAAAAAAAAAAAAAAAAAAAA2c73U+Ol2z8AAAAAAAAAAAAAAAAAAAAAAAAAAAAAAAAAAAAAAAAAAAAAAAAAAAAAAAAAAAAAAAAAAAAAAAAAAAAAAAAAAAAAAAAAAAAAAAAAAAAAAAAAAAAAAAAAAAAAAAAAAAAAAAAAAAAAAAAAAAAAAAAAAAAAAAAAAAAAAAAAAAAAAAAAAAAAAAAAAAAAAAAAAAAAAAAAAAAAAAAAAAAAAAAAAAAAAAAAAAAAAAAAAAAAAAAAAA==",
          "dtype": "f8"
         }
        },
        {
         "name": "('SMB', 'BSUF', 'Uva Amarilla')",
         "type": "bar",
         "x": {
          "bdata": "BAUGBwgJCgsMDQ4PEBESExQVFhcYGRobHB0eHyAhIiMkJSc=",
          "dtype": "i1"
         },
         "y": {
          "bdata": "AAAAAAAAAAAAAAAAAAAAAAAAAAAAAAAAAAAAAAAAAAAAAAAAAAAAAAAAAAAAAAAAAAAAAAAAAAAAAAAAAAAAAAAAAAAAAAAAAAAAAAAAAAAAAAAAAAAAAAAAAAAAAAAAAAAAAAAAAAAAAAAAAAAAAAAAAAAAAAAAAAAAAAAAAAAAAAAAAAAAALgehetRuK4/AAAAAAAAAAB56SYxCKy8PwAAAAAAAAAAAAAAAAAAAAAAAAAAAAAAADzfT42XbrI/AAAAAAAAAAAAAAAAAAAAAAAAAAAAAAAAAAAAAAAAAAAAAAAAAAAAAAAAAAAAAAAAAAAAAAAAAAAAAAAAAAAAAAAAAAAAAAAAAAAAAAAAAAAAAAAAAAAAAA==",
          "dtype": "f8"
         }
        },
        {
         "name": "('SMB', 'BSUF', 'Uva Roja')",
         "type": "bar",
         "x": {
          "bdata": "BAUGBwgJCgsMDQ4PEBESExQVFhcYGRobHB0eHyAhIiMkJSc=",
          "dtype": "i1"
         },
         "y": {
          "bdata": "AAAAAAAAAAAAAAAAAAAAAAAAAAAAAAAAAAAAAAAAAAAAAAAAAAAAAAAAAAAAAAAAAAAAAAAAAAAAAAAAAAAAAAAAAAAAAAAAAAAAAAAAAAAAAAAAAAAAAAAAAAAAAAAAAAAAAAAAAAAAAAAAAAAAAOxRuB6F6+E/AAAAAAAAAAAAAAAAAAAAAJqZmZmZmfE/AAAAAAAAAAAAAAAAAAAAAAAAAAAAAAAAAAAAAAAAAAAAAAAAAAAAAPLSTWIQWNk/SOF6FK5H4T8AAAAAAAAAAAAAAAAAAAAAAAAAAAAAAAAAAAAAAAAAAAAAAAAAAAAAAAAAAAAAAAAAAAAAAAAAAAAAAAAAAAAAAAAAAAAAAAAAAAAAAAAAAA==",
          "dtype": "f8"
         }
        },
        {
         "name": "('SMB', 'BSUF', 'Uva Zebra')",
         "type": "bar",
         "x": {
          "bdata": "BAUGBwgJCgsMDQ4PEBESExQVFhcYGRobHB0eHyAhIiMkJSc=",
          "dtype": "i1"
         },
         "y": {
          "bdata": "AAAAAAAAAAAAAAAAAAAAAAAAAAAAAAAAAAAAAAAAAAAAAAAAAAAAAAAAAAAAAAAAAAAAAAAAAAAAAAAAAAAAAAAAAAAAAAAAAAAAAAAAAAAAAAAAAAAAAAAAAAAAAAAAAAAAAAAAAAAAAAAAAAAAAAAAAAAAAAAAAAAAAAAAAAAAAAAAAAAAAHsUrkfherQ/AAAAAAAAAAAAAAAAAAAAAAAAAAAAAAAAAAAAAAAAAAAAAAAAAAAAAAAAAAAAAAAAAAAAAAAAAAAAAAAAAAAAAAAAAAAAAAAAAAAAAAAAAAAAAAAAAAAAAAAAAAAAAAAAAAAAAAAAAAAAAAAAAAAAAAAAAAAAAAAAAAAAAAAAAAAAAAAAAAAAAA==",
          "dtype": "f8"
         }
        },
        {
         "name": "('SMB', 'CHE', 'Cherry Rojo')",
         "type": "bar",
         "x": {
          "bdata": "BAUGBwgJCgsMDQ4PEBESExQVFhcYGRobHB0eHyAhIiMkJSc=",
          "dtype": "i1"
         },
         "y": {
          "bdata": "AAAAAAAAAAAAAAAAAAAAAAAAAAAAAAAAAAAAAAAAAAAAAAAAAAAAAAAAAAAAAAAAAAAAAAAAAAAAAAAAAAAAAMHKoUW2880/AAAAAAAAAAAAAAAAAAAAAAAAAAAAAAAAAAAAAAAAAAAAAAAAAAAAAAAAAAAAAAAAAAAAAAAAAAAAAAAAAAAAAAAAAAAAAAAAAAAAAAAAAAAAAAAAAAAAAAAAAAAAAAAAAAAAAAAAAAAAAAAAAAAAALpJDAIrh7Y/AAAAAAAAAAAAAAAAAAAAAAAAAAAAAAAAAAAAAAAAAAAAAAAAAAAAAAAAAAAAAAAAAAAAAAAAAAAAAAAAAAAAAAAAAAAAAAAAAAAAAAAAAAAAAAAAAAAAAA==",
          "dtype": "f8"
         }
        },
        {
         "name": "('SMB', 'CHE', 'Cherry Rosa')",
         "type": "bar",
         "x": {
          "bdata": "BAUGBwgJCgsMDQ4PEBESExQVFhcYGRobHB0eHyAhIiMkJSc=",
          "dtype": "i1"
         },
         "y": {
          "bdata": "AAAAAAAAAAAAAAAAAAAAAAAAAAAAAAAAAAAAAAAAAAAAAAAAAAAAAAAAAAAAAAAAAAAAAAAAAAAAAAAAAAAAAAAAAAAAAAAAAAAAAAAAAAAAAAAAAAAAAAAAAAAAAAAAAAAAAAAAAAAAAAAAAAAAALgehetRuL4/AAAAAAAAAAAAAAAAAAAAAHsUrkfhesQ/AAAAAAAAAAAAAAAAAAAAAAAAAAAAAAAAAAAAAAAAAAAAAAAAAAAAAOxRuB6F68E/AAAAAAAAAAAAAAAAAAAAAAAAAAAAAAAAAAAAAAAAAAAAAAAAAAAAAHsUrkfherQ/AAAAAAAAAAAAAAAAAAAAAAAAAAAAAAAAAAAAAAAAAAAAAAAAAAAAAA==",
          "dtype": "f8"
         }
        },
        {
         "name": "('SMB', 'CHE', 'Heirloom Cherry')",
         "type": "bar",
         "x": {
          "bdata": "BAUGBwgJCgsMDQ4PEBESExQVFhcYGRobHB0eHyAhIiMkJSc=",
          "dtype": "i1"
         },
         "y": {
          "bdata": "AAAAAAAAAAAAAAAAAAAAAAAAAAAAAAAAAAAAAAAAAAAAAAAAAAAAAAAAAAAAAAAAAAAAAAAAAAAAAAAAAAAAAAAAAAAAAAAAAAAAAAAAAAAAAAAAAAAAAAAAAAAAAAAA2c73U+Olqz8AAAAAAAAAAAAAAAAAAAAAAAAAAAAAAAAAAAAAAAAAAAAAAAAAAAAAAAAAAAAAAAAbL90kBoGlPwAAAAAAAAAAAAAAAAAAAAAAAAAAAAAAAAAAAAAAAAAAAAAAAAAAAAAAAAAAAAAAAAAAAAAAAAAAAAAAAAAAAAAAAAAAAAAAAAAAAAAAAAAAAAAAAAAAAAAAAAAAAAAAAAAAAAAAAAAAAAAAAAAAAAAAAAAAAAAAAA==",
          "dtype": "f8"
         }
        },
        {
         "name": "('SMB', 'CHE', 'Pera Amarilla')",
         "type": "bar",
         "x": {
          "bdata": "BAUGBwgJCgsMDQ4PEBESExQVFhcYGRobHB0eHyAhIiMkJSc=",
          "dtype": "i1"
         },
         "y": {
          "bdata": "AAAAAAAAAAAAAAAAAAAAAAAAAAAAAAAAAAAAAAAAAAAAAAAAAAAAAAAAAAAAAAAAAAAAAAAAAAAAAAAAAAAAAAAAAAAAAAAAAAAAAAAAAAAAAAAAAAAAAAAAAAAAAAAAAAAAAAAAAAAAAAAAAAAAAAAAAAAAAAAAAAAAAAAAAAAAAAAAAAAAAHsUrkfherQ/AAAAAAAAAAAAAAAAAAAAAAAAAAAAAAAAAAAAAAAAAAAAAAAAAAAAAAAAAAAAAAAAAAAAAAAAAAAAAAAAAAAAAAAAAAAAAAAAAAAAAAAAAAAAAAAAAAAAAJqZmZmZmbk/AAAAAAAAAAAAAAAAAAAAAAAAAAAAAAAAAAAAAAAAAAAAAAAAAAAAAA==",
          "dtype": "f8"
         }
        },
        {
         "name": "('SMB', 'CHE', 'Pera Roja')",
         "type": "bar",
         "x": {
          "bdata": "BAUGBwgJCgsMDQ4PEBESExQVFhcYGRobHB0eHyAhIiMkJSc=",
          "dtype": "i1"
         },
         "y": {
          "bdata": "AAAAAAAAAAAAAAAAAAAAAAAAAAAAAAAAAAAAAAAAAAAAAAAAAAAAAAAAAAAAAAAAAAAAAAAAAAAAAAAAAAAAAAAAAAAAAAAAAAAAAAAAAAAAAAAAAAAAAAAAAAAAAAAAAAAAAAAAAAAAAAAAAAAAAAAAAAAAAAAAAAAAAAAAAAAAAAAAAAAAAAAAAAAAAAAAAAAAAAAAAAAAAAAAAAAAAAAAAAAAAAAAAAAAAAAAAAAAAAAAAAAAALgehetRuK4/AAAAAAAAAAAAAAAAAAAAAAAAAAAAAAAAAAAAAAAAAAAAAAAAAAAAAAAAAAAAAAAAAAAAAAAAAAAAAAAAAAAAAAAAAAAAAAAAAAAAAAAAAAAAAAAAAAAAAA==",
          "dtype": "f8"
         }
        },
        {
         "name": "('SMR', 'BSUF', 'Uva Amarilla')",
         "type": "bar",
         "x": {
          "bdata": "BAUGBwgJCgsMDQ4PEBESExQVFhcYGRobHB0eHyAhIiMkJSc=",
          "dtype": "i1"
         },
         "y": {
          "bdata": "AAAAAAAAAAAAAAAAAAAAAAAAAAAAAAAAAAAAAAAAAAAAAAAAAAAAAAAAAAAAAAAAAAAAAAAAAAAAAAAAAAAAAAAAAAAAAAAAAAAAAAAAAAAAAAAAAAAAAAAAAAAAAAAAAAAAAAAAAAAAAAAAAAAAAAAAAAAAAAAAAAAAAAAAAAAAAAAAAAAAAAAAAAAAAAAAAAAAAAAAAAAAAAAAAAAAAAAAAAAAAAAAAAAAAAAAAAAAAAAAAAAAAAAAAAAAAAAAAAAAAAAAAAAAAAAAAAAAAGpN845TdMw/AAAAAAAAAAAAAAAAAAAAAAAAAAAAAAAAAAAAAAAAAAAAAAAAAAAAAAAAAAAAAAAAAAAAAAAAAAAAAAAAAAAAAA==",
          "dtype": "f8"
         }
        },
        {
         "name": "('SMR', 'BSUF', 'Uva Roja')",
         "type": "bar",
         "x": {
          "bdata": "BAUGBwgJCgsMDQ4PEBESExQVFhcYGRobHB0eHyAhIiMkJSc=",
          "dtype": "i1"
         },
         "y": {
          "bdata": "AAAAAAAAAAAAAAAAAAAAAAAAAAAAAAAAAAAAAAAAAAAAAAAAAAAAAAAAAAAAAAAAAAAAAAAAAAAAAAAAAAAAAOY/pN++DuI/AAAAAAAAAAAAAAAAAAAAAAAAAAAAAAAAAAAAAAAAAAAAAAAAAAAAAAAAAAAAAAAAAAAAAAAAAABIcvkP6bfpPwAAAAAAAAAAAAAAAAAAAAAAAAAAAAAAAAAAAAAAAAAAAAAAAAAAAAAAAAAAAAAAAAAAAAAAAAAAAAAAAAAAAAAAAAAAAAAAADq0yHa+n+g/AAAAAAAAAAAAAAAAAAAAAAAAAAAAAAAAAAAAAAAAAAAAAAAAAAAAAAAAAAAAAAAAAAAAAAAAAAAAAAAAAAAAAA==",
          "dtype": "f8"
         }
        },
        {
         "name": "('SMR', 'CHE', 'Cherry Amarillo')",
         "type": "bar",
         "x": {
          "bdata": "BAUGBwgJCgsMDQ4PEBESExQVFhcYGRobHB0eHyAhIiMkJSc=",
          "dtype": "i1"
         },
         "y": {
          "bdata": "AAAAAAAAAAAAAAAAAAAAAAAAAAAAAAAAAAAAAAAAAAAAAAAAAAAAAAAAAAAAAAAAAAAAAAAAAAAAAAAAAAAAAAAAAAAAAAAAAAAAAAAAAACDwMqhRbazPwAAAAAAAAAAAAAAAAAAAAAAAAAAAAAAAAAAAAAAAAAAAAAAAAAAAAAAAAAAAAAAAAAAAAAAAAAAAAAAAAAAAAAAAAAAAAAAAAAAAAAAAAAAAAAAAAAAAAAAAAAAAAAAAAAAAAAAAAAAAAAAAAAAAAAAAAAAAAAAAAAAAAAAAAAAAAAAAAAAAAAAAAAAAAAAAAAAAAAAAAAAAAAAAAAAAAAAAAAAAAAAAAAAAAAAAAAAAAAAAAAAAAAAAAAAAAAAAA==",
          "dtype": "f8"
         }
        },
        {
         "name": "('SMR', 'CHE', 'Cherry Rojo')",
         "type": "bar",
         "x": {
          "bdata": "BAUGBwgJCgsMDQ4PEBESExQVFhcYGRobHB0eHyAhIiMkJSc=",
          "dtype": "i1"
         },
         "y": {
          "bdata": "AAAAAAAAAAAAAAAAAAAAAAAAAAAAAAAAAAAAAAAAAAAAAAAAAAAAAAAAAAAAAAAAAAAAAAAAAAAAAAAAAAAAAAAAAAAAAAAAAAAAAAAAAACGyVTBqKTePwAAAAAAAAAAAAAAAAAAAAAAAAAAAAAAAAAAAAAAAAAAAAAAAAAAAAAAAAAAAAAAAAAAAAAAAAAAAAAAAAAAAAAAAAAAAAAAAAAAAAAAAAAAAAAAAAAAAAAAAAAAAAAAAAAAAAAAAAAAAAAAAAAAAAAAAAAAAAAAAAAAAAAAAAAAAAAAAAAAAAAAAAAAAAAAAAAAAAAAAAAAAAAAAAAAAAAAAAAAAAAAAAAAAAAAAAAAAAAAAAAAAAAAAAAAAAAAAA==",
          "dtype": "f8"
         }
        },
        {
         "name": "('SMR', 'CHE', 'Heirloom Cherry')",
         "type": "bar",
         "x": {
          "bdata": "BAUGBwgJCgsMDQ4PEBESExQVFhcYGRobHB0eHyAhIiMkJSc=",
          "dtype": "i1"
         },
         "y": {
          "bdata": "AAAAAAAAAAAAAAAAAAAAAAAAAAAAAAAAAAAAAAAAAAAAAAAAAAAAAAAAAAAAAAAAAAAAAAAAAAAAAAAAAAAAAAAAAAAAAAAAAAAAAAAAAAAi/fZ14JyBPwAAAAAAAAAAAAAAAAAAAAAAAAAAAAAAAAAAAAAAAAAAAAAAAAAAAAAAAAAAAAAAAAAAAAAAAAAAAAAAAAAAAAAAAAAAAAAAAAAAAAAAAAAAAAAAAAAAAAAAAAAAAAAAAAAAAAAAAAAAAAAAAAAAAAAAAAAAAAAAAAAAAAAAAAAAAAAAAAAAAAAAAAAAAAAAAAAAAAAAAAAAAAAAAAAAAAAAAAAAAAAAAAAAAAAAAAAAAAAAAAAAAAAAAAAAAAAAAA==",
          "dtype": "f8"
         }
        },
        {
         "name": "('SMR', 'CHE', 'Pera Amarilla')",
         "type": "bar",
         "x": {
          "bdata": "BAUGBwgJCgsMDQ4PEBESExQVFhcYGRobHB0eHyAhIiMkJSc=",
          "dtype": "i1"
         },
         "y": {
          "bdata": "AAAAAAAAAAAAAAAAAAAAAAAAAAAAAAAAAAAAAAAAAAAAAAAAAAAAAAAAAAAAAAAAAAAAAAAAAAAAAAAAAAAAAAAAAAAAAAAAAAAAAAAAAAAX2c73U+O1PwAAAAAAAAAAAAAAAAAAAAAAAAAAAAAAAAAAAAAAAAAAAAAAAAAAAAAAAAAAAAAAAAAAAAAAAAAAAAAAAAAAAAAAAAAAAAAAAAAAAAAAAAAAAAAAAAAAAAAAAAAAAAAAAAAAAAAAAAAAAAAAAAAAAAAAAAAAAAAAAAAAAAAAAAAAAAAAAAAAAAAAAAAAAAAAAAAAAAAAAAAAAAAAAAAAAAAAAAAAAAAAAAAAAAAAAAAAAAAAAAAAAAAAAAAAAAAAAA==",
          "dtype": "f8"
         }
        },
        {
         "name": "('VAP', 'BSUF', 'Uva Amarilla')",
         "type": "bar",
         "x": {
          "bdata": "BAUGBwgJCgsMDQ4PEBESExQVFhcYGRobHB0eHyAhIiMkJSc=",
          "dtype": "i1"
         },
         "y": {
          "bdata": "AAAAAAAAAAAAAAAAAAAAAAAAAAAAAAAAAAAAAAAAAAAAAAAAAAAAAAAAAAAAAAAAAAAAAAAAAAAAAAAAAAAAAJPLf0i/fZ0/2/l+arx0sz8AAAAAAAAAAIcW2c73U9M/AAAAAAAAAAAAAAAAAAAAAAAAAAAAAAAAAAAAAAAAAAAAAAAAAAAAAAAAAAAAAAAAAAAAAAAAAAAAAAAAAAAAAAAAAAAAAAAAAAAAAAAAAADbG3xhMlXcPwAAAAAAAAAAJEp7gy9M1j+tad5xio7oPwAAAAAAAAAAAAAAAAAAAAAAAAAAAAAAAAAAAAAAAAAAAAAAAAAAAAAAAAAAAAAAAFTjpZvEIMA/AAAAAAAAAAAAAAAAAAAAAA==",
          "dtype": "f8"
         }
        },
        {
         "name": "('VAP', 'BSUF', 'Uva Roja')",
         "type": "bar",
         "x": {
          "bdata": "BAUGBwgJCgsMDQ4PEBESExQVFhcYGRobHB0eHyAhIiMkJSc=",
          "dtype": "i1"
         },
         "y": {
          "bdata": "AAAAAAAAAAAAAAAAAAAAAAAAAAAAAAAAAAAAAAAAAAAAAAAAAAAAACBB8WPMXfc/RGlv8IXJxD8lBoGVQ4sPQGIyVTAqqfU/fPKwUGuaAECOl24Sg8DoP/Mf0m9fB/8/AAAAAAAAAAARNjy9UpbxPwAAAAAAAAAAAAAAAAAAAAAAAAAAAAAAAEymCkYldcI/VFInoImw/z+5jQbwFkigP2TMXUvIB90/FNBE2PD02j8XSFD8GPMDQIXrUbgeBQJAAAAAAAAAAAAFNBE2PL0BQDojSnuDLwNAAAAAAAAAAAAAAAAAAAAAAArXo3A9Crc/AAAAAAAAAAAAAAAAAAAAAAAAAAAAAAAAAAAAAAAAAAAAAAAAAAAAAA==",
          "dtype": "f8"
         }
        },
        {
         "name": "('VAP', 'CHE', 'Cherry Amarillo')",
         "type": "bar",
         "x": {
          "bdata": "BAUGBwgJCgsMDQ4PEBESExQVFhcYGRobHB0eHyAhIiMkJSc=",
          "dtype": "i1"
         },
         "y": {
          "bdata": "AAAAAAAAAAAAAAAAAAAAAAAAAAAAAAAAAAAAAAAAAAAAAAAAAAAAAAAAAAAAAAAAAAAAAAAAAAC1N/jCZKrQPwAAAAAAAAAA+n5qvHSTqD8AAAAAAAAAAFQFo5I6Ab0/AAAAAAAAAAAAAAAAAAAAAAAAAAAAAAAAAAAAAAAAAAAAAAAAAAAAAAAAAAAAAAAAAAAAAAAAAAAAAAAAAAAAAAAAAAAAAAAAAAAAAAAAAAAAAAAAAAAAAAAAAAAAAAAAAAAAAAAAAADMf0i/fR3IPwAAAAAAAAAAAAAAAAAAAAAAAAAAAAAAAPyp8dJNYqA/AAAAAAAAAAAAAAAAAAAAAAAAAAAAAAAAAAAAAAAAAAAAAAAAAAAAAA==",
          "dtype": "f8"
         }
        },
        {
         "name": "('VAP', 'CHE', 'Cherry Chocolate')",
         "type": "bar",
         "x": {
          "bdata": "BAUGBwgJCgsMDQ4PEBESExQVFhcYGRobHB0eHyAhIiMkJSc=",
          "dtype": "i1"
         },
         "y": {
          "bdata": "AAAAAAAAAAAAAAAAAAAAAAAAAAAAAAAAAAAAAAAAAAAAAAAAAAAAAAAAAAAAAAAAexSuR+F61D8AAAAAAAAAAAAAAAAAAAAAAAAAAAAAAAAAAAAAAAAAAAAAAAAAAAAAAAAAAAAAAAAAAAAAAAAAAAAAAAAAAAAAAAAAAAAAAAAAAAAAAAAAAAAAAAAAAAAAAAAAAAAAAAAAAAAAAAAAAAAAAAAAAAAAAAAAAAAAAAATg8DKoUXWPwAAAAAAAAAAAAAAAAAAAAAAAAAAAAAAAAAAAAAAAAAAAAAAAAAAAAAAAAAAAAAAAAAAAAAAAAAAAAAAAAAAAAAAAAAAAAAAAAAAAAAAAAAAAAAAAAAAAAAAAAAAAAAAAA==",
          "dtype": "f8"
         }
        },
        {
         "name": "('VAP', 'CHE', 'Cherry Naranja')",
         "type": "bar",
         "x": {
          "bdata": "BAUGBwgJCgsMDQ4PEBESExQVFhcYGRobHB0eHyAhIiMkJSc=",
          "dtype": "i1"
         },
         "y": {
          "bdata": "AAAAAAAAAAAAAAAAAAAAANnO91Pjpas/AAAAAAAAAAAAAAAAAAAAAAAAAAAAAAAAAAAAAAAAAAAAAAAAAAAAAAAAAAAAAAAAAAAAAAAAAAAAAAAAAAAAAAAAAAAAAAAAxNMrZRni2D8AAAAAAAAAAAAAAAAAAAAAAAAAAAAAAABcIEHxY8zNPwAAAAAAAAAAAAAAAAAAAAAAAAAAAAAAAAAAAAAAAAAAAAAAAAAAAAAAAAAAAAAAAAAAAAAAAAAAAAAAAAAAAAAAAAAAAAAAALXIdr6fGsc/AAAAAAAAAAAAAAAAAAAAAAAAAAAAAAAAAAAAAAAAAAAAAAAAAAAAAAAAAAAAAAAAAAAAAAAAAAAAAAAAAAAAAA==",
          "dtype": "f8"
         }
        },
        {
         "name": "('VAP', 'CHE', 'Cherry Rojo')",
         "type": "bar",
         "x": {
          "bdata": "BAUGBwgJCgsMDQ4PEBESExQVFhcYGRobHB0eHyAhIiMkJSc=",
          "dtype": "i1"
         },
         "y": {
          "bdata": "RiV1ApoI2z8AAAAAAAAAAAAAAAAAAAAAAAAAAAAAAAAAAAAAAAAAAAAAAAAAAAAA24r9Zffk4T8KaCJseHoEQE+vlGWIY+k/FoxK6gQ00T8AAAAAAAAAAJXUCWgibNQ/AAAAAAAAAAAAAAAAAAAAAAAAAAAAAAAAAAAAAAAAAAAAAAAAAAAAAAAAAAAAAAAAAAAAAAAAAAAAAAAAAAAAAAAAAAAAAAAAAAAAAAAAAAAAAAAAAAAAABWuR+F6FOo/nMQgsHJo4T8wuycPC7UCQMdLN4lBYNU/AW+BBMWPwT8AAAAAAAAAAAAAAAAAAAAAAAAAAAAAAAAAAAAAAAAAAAAAAAAAAAAAAAAAAAAAAAAAAAAAAAAAAA==",
          "dtype": "f8"
         }
        },
        {
         "name": "('VAP', 'CHE', 'Cherry Rosa')",
         "type": "bar",
         "x": {
          "bdata": "BAUGBwgJCgsMDQ4PEBESExQVFhcYGRobHB0eHyAhIiMkJSc=",
          "dtype": "i1"
         },
         "y": {
          "bdata": "AAAAAAAAAAAAAAAAAAAAAAAAAAAAAAAAAAAAAAAAAAAAAAAAAAAAAAAAAAAAAAAAnMQgsHJo0T8AAAAAAAAAAAAAAAAAAAAAAAAAAAAAAAAWjErqBDTBP1QFo5I6Ab0/AAAAAAAAAAAAAAAAAAAAAAAAAAAAAAAAAAAAAAAAAAAAAAAAAAAAAAAAAAAAAAAAAAAAAAAAAAAAAAAAAAAAAAAAAAAAAAAAAAAAAAAAAAC4rwPnjCjVP83MzMzMzNw/AAAAAAAAAAAAAAAAAAAAAAAAAAAAAAAAAAAAAAAAAAAAAAAAAAAAAAAAAAAAAAAAAAAAAAAAAAAAAAAAAAAAAAAAAAAAAAAAAAAAAAAAAAAAAAAAAAAAAA==",
          "dtype": "f8"
         }
        },
        {
         "name": "('VAP', 'CHE', 'Heirloom Cherry')",
         "type": "bar",
         "x": {
          "bdata": "BAUGBwgJCgsMDQ4PEBESExQVFhcYGRobHB0eHyAhIiMkJSc=",
          "dtype": "i1"
         },
         "y": {
          "bdata": "AAAAAAAAAAAAAAAAAAAAAAAAAAAAAAAAAAAAAAAAAAAAAAAAAAAAAAAAAAAAAAAAOrTIdr6f2j98YTJVMCrnP8UgsHJokd0/5x2n6Egu6T+KsOHplbK8Pz9XW7G/7M4/w9MrZRniyD8AAAAAAAAAAAAAAAAAAAAAAAAAAAAAAAAAAAAAAAAAAAAAAAAAAAAAAAAAAAAAAAD+Q/rt68DJPwAAAAAAAAAATKYKRiV1wj9MpgpGJXXCPwAAAAAAAAAAnzws1Jrm3T9iEFg5tMjwPyyHFtnO99s/EqW9wRcm0z/NzMzMzMzcPwAAAAAAAAAAAAAAAAAAAAAAAAAAAAAAAAAAAAAAAAAAAAAAAAAAAAAAAAAAAAAAAA==",
          "dtype": "f8"
         }
        },
        {
         "name": "('VAP', 'CHE', 'Pera')",
         "type": "bar",
         "x": {
          "bdata": "BAUGBwgJCgsMDQ4PEBESExQVFhcYGRobHB0eHyAhIiMkJSc=",
          "dtype": "i1"
         },
         "y": {
          "bdata": "AAAAAAAAAAAAAAAAAAAAAAAAAAAAAAAAAAAAAAAAAAAAAAAAAAAAAAAAAAAAAAAAAAAAAAAAAAD6fmq8dJPYP0w3iUFg5cA/AAAAAAAAAAAGEhQ/xty1PwAAAAAAAAAAAAAAAAAAAAAAAAAAAAAAAAAAAAAAAAAAAAAAAAAAAAAAAAAAAAAAAAAAAAAAAAAAAAAAAAAAAAAAAAAAAAAAAAAAAAAAAAAAAAAAAAAAAAAAAAAAAAAAAAAAAAAAAAAAAAAAAAAAAADEsS5uowHMPwAAAAAAAAAAAAAAAAAAAAAAAAAAAAAAAAAAAAAAAAAAAAAAAAAAAAAAAAAAAAAAAAAAAAAAAAAAAAAAAAAAAAAAAAAAAAAAAA==",
          "dtype": "f8"
         }
        },
        {
         "name": "('VAP', 'CHE', 'Pera Amarilla')",
         "type": "bar",
         "x": {
          "bdata": "BAUGBwgJCgsMDQ4PEBESExQVFhcYGRobHB0eHyAhIiMkJSc=",
          "dtype": "i1"
         },
         "y": {
          "bdata": "AAAAAAAAAAAAAAAAAAAAANnO91Pjpas/AAAAAAAAAAAAAAAAAAAAAAAAAAAAAAAAxNMrZRniyD96Nqs+V1vVPwAAAAAAAAAAAAAAAAAAAABR2ht8YTK1P2HD0ytlGbI/guLHmLuWoD8AAAAAAAAAAAAAAAAAAAAA7Q2+MJkq2D8AAAAAAAAAAAAAAAAAAAAAAAAAAAAAAADPiNLe4AvjPwAAAAAAAAAAAAAAAAAAAAAAAAAAAAAAAAAAAAAAAAAAwjkjSnuD2z86tMh2vp/aP/p+arx0k6g/AAAAAAAAAAAAAAAAAAAAAAAAAAAAAAAAAAAAAAAAAAAAAAAAAAAAAAAAAAAAAAAAAAAAAAAAAAAAAAAAAAAAAA==",
          "dtype": "f8"
         }
        },
        {
         "name": "('VAP', 'CHE', 'Pera Roja')",
         "type": "bar",
         "x": {
          "bdata": "BAUGBwgJCgsMDQ4PEBESExQVFhcYGRobHB0eHyAhIiMkJSc=",
          "dtype": "i1"
         },
         "y": {
          "bdata": "AAAAAAAAAAAAAAAAAAAAAAAAAAAAAAAAAAAAAAAAAAAAAAAAAAAAAAAAAAAAAAAAexSuR+F6xD8K16NwPQq3P8e6uI0G8NY/AAAAAAAAAADFjzF3LSHfPwAAAAAAAAAAAAAAAAAAAAAAAAAAAAAAAAAAAAAAAAAAAAAAAAAAAAAAAAAAAAAAAAAAAAAAAAAAAAAAAAAAAAAAAAAAAAAAAAAAAAAAAAAAAAAAAAAAAAAAAAAAAAAAAAAAAAAAAAAAAAAAAAAAAAD6fmq8dJO4P7mNBvAWSMA/AAAAAAAAAAAAAAAAAAAAAAAAAAAAAAAAAAAAAAAAAAAAAAAAAAAAAAAAAAAAAAAAAAAAAAAAAAAAAAAAAAAAAA==",
          "dtype": "f8"
         }
        },
        {
         "name": "('ZJL', 'BSUF', 'Uva Amarilla')",
         "type": "bar",
         "x": {
          "bdata": "BAUGBwgJCgsMDQ4PEBESExQVFhcYGRobHB0eHyAhIiMkJSc=",
          "dtype": "i1"
         },
         "y": {
          "bdata": "AAAAAAAAAAAAAAAAAAAAAAAAAAAAAAAAAAAAAAAAAAAAAAAAAAAAAAAAAAAAAAAAAAAAAAAAAAAAAAAAAAAAAAAAAAAAAAAAAAAAAAAAAAAAAAAAAAAAAAAAAAAAAAAAAAAAAAAAAAAAAAAAAAAAAAAAAAAAAAAAAAAAAAAAAAAAAAAAAAAAAAAAAAAAAAAAAAAAAAAAAAAAAAAAAAAAAAAAAAAAAAAAAAAAAAAAAAAAAAAAAAAAAAAAAAAAAAAAAAAAAAAAAAAAAAAAAAAAAAAAAAAAAAAAAAAAAAAAAAAAAAAAAAAAAAAAAAAAAAAAAAAAAAAAAAC4HoXrUbi+PwAAAAAAAAAAAAAAAAAAAAAAAAAAAAAAAA==",
          "dtype": "f8"
         }
        },
        {
         "name": "('ZJL', 'BSUF', 'Uva Roja')",
         "type": "bar",
         "x": {
          "bdata": "BAUGBwgJCgsMDQ4PEBESExQVFhcYGRobHB0eHyAhIiMkJSc=",
          "dtype": "i1"
         },
         "y": {
          "bdata": "AAAAAAAAAAAX2c73U+PRP4fJVMGopNo/AAAAAAAAAACQMXctIR/4P9gS8kHPZuc/AAAAAAAAAAAAAAAAAAAAAAAAAAAAAAAAAAAAAAAAAAAAAAAAAAAAAAAAAAAAAAAAAAAAAAAAAAAAAAAAAAAAAAAAAAAAAAAAAAAAAAAAAAAAAAAAAAAAAAAAAAAAAAAAAAAAAAAAAAAAAAAAAAAAAAAAAAAAAAAAAAAAAAAAAAAAAAAAAAAAAAAAAAAAAAAAAAAAAAAAAAAAAAAAAAAAAAAAAAAAAAAAzczMzMzMzD/YEvJBz2bnP4bJVMGopNo/exSuR+F62D8UrkfhehTzPwAAAAAAAAAAAAAAAAAAAAAAAAAAAAAAAA==",
          "dtype": "f8"
         }
        },
        {
         "name": "('ZJL', 'CHE', 'Cherry Rojo')",
         "type": "bar",
         "x": {
          "bdata": "BAUGBwgJCgsMDQ4PEBESExQVFhcYGRobHB0eHyAhIiMkJSc=",
          "dtype": "i1"
         },
         "y": {
          "bdata": "AAAAAAAAAAAAAAAAAAAAAAAAAAAAAAAAVAWjkjoB6z924JwRpb3wPwAAAAAAAAAAAAAAAAAAAAAAAAAAAAAAAAAAAAAAAAAAAAAAAAAAAAAAAAAAAAAAAAAAAAAAAAAAAAAAAAAAAAAAAAAAAAAAAAAAAAAAAAAAAAAAAAAAAAAAAAAAAAAAAAAAAAAAAAAAAAAAAAAAAAAAAAAAAAAAAAAAAAAAAAAAAAAAAAAAAAAAAAAAAAAAAAAAAAAAAAAAAAAAAAAAAAAAAAAAAAAAAAAAAAAAAAAAokW28/3UqD8AAAAAAAAAAAAAAAAAAAAASOF6FK5H0T8AAAAAAAAAAAAAAAAAAAAAAAAAAAAAAAAAAAAAAAAAAA==",
          "dtype": "f8"
         }
        },
        {
         "name": "('ZJL', 'CHE', 'Cherry Rosa')",
         "type": "bar",
         "x": {
          "bdata": "BAUGBwgJCgsMDQ4PEBESExQVFhcYGRobHB0eHyAhIiMkJSc=",
          "dtype": "i1"
         },
         "y": {
          "bdata": "AAAAAAAAAAAAAAAAAAAAAAAAAAAAAAAAAAAAAAAAAAAAAAAAAAAAAAvXo3A9Cpc/AAAAAAAAAAAAAAAAAAAAAAAAAAAAAAAAAAAAAAAAAAAAAAAAAAAAAAAAAAAAAAAAAAAAAAAAAAAAAAAAAAAAAAAAAAAAAAAAAAAAAAAAAAAAAAAAAAAAAAAAAAAAAAAAAAAAAAAAAAAAAAAAAAAAAAAAAAAAAAAAAAAAAAAAAAAAAAAAAAAAAAAAAAAAAAAAAAAAAAAAAAAAAAAAAAAAAAAAAAAAAAAAAAAAAAAAAAAAAAAAAAAAAAAAAAAAAAAAAAAAAAAAAAAAAAAAAAAAAAAAAAAAAAAAAAAAAAAAAAAAAAAAAAAAAA==",
          "dtype": "f8"
         }
        },
        {
         "name": "('ZJL', 'CHE', 'Heirloom Cherry')",
         "type": "bar",
         "x": {
          "bdata": "BAUGBwgJCgsMDQ4PEBESExQVFhcYGRobHB0eHyAhIiMkJSc=",
          "dtype": "i1"
         },
         "y": {
          "bdata": "AAAAAAAAAABRa5p3nKKzPwAAAAAAAAAAAAAAAAAAAAAAAAAAAAAAAAAAAAAAAAAAAAAAAAAAAAAAAAAAAAAAAAAAAAAAAAAAAAAAAAAAAAAAAAAAAAAAAAAAAAAAAAAAAAAAAAAAAAAAAAAAAAAAAAAAAAAAAAAAAAAAAAAAAAAAAAAAAAAAAAAAAAAAAAAAAAAAAAAAAAAAAAAAAAAAAAAAAAAAAAAAAAAAAAAAAAAAAAAAAAAAAAAAAAAAAAAAAAAAAAAAAAAAAAAAAAAAAAAAAAAAAAAAAAAAAAAAAAAgY+5aQj7YP7K/7J48LLQ/AAAAAAAAAABc/kP67evgPwAAAAAAAAAAAAAAAAAAAAAAAAAAAAAAAA==",
          "dtype": "f8"
         }
        },
        {
         "name": "('ZJL', 'CHE', 'Pera')",
         "type": "bar",
         "x": {
          "bdata": "BAUGBwgJCgsMDQ4PEBESExQVFhcYGRobHB0eHyAhIiMkJSc=",
          "dtype": "i1"
         },
         "y": {
          "bdata": "AAAAAAAAAAAa4lgXt9HQPwrXo3A9Cqc/AAAAAAAAAAAAAAAAAAAAAEjhehSuR7E/AAAAAAAAAAAAAAAAAAAAAAAAAAAAAAAAAAAAAAAAAAAAAAAAAAAAAAAAAAAAAAAAAAAAAAAAAAAAAAAAAAAAAAAAAAAAAAAAAAAAAAAAAAAAAAAAAAAAAAAAAAAAAAAAAAAAAAAAAAAAAAAAAAAAAAAAAAAAAAAAAAAAAAAAAAAAAAAAAAAAAAAAAAAAAAAAAAAAAAAAAAAAAAAAAAAAAAAAAAAAAAAAAAAAAAAAAADNzMzMzMy8PwAAAAAAAAAAAAAAAAAAAAAAAAAAAAAAAAAAAAAAAAAAAAAAAAAAAAAAAAAAAAAAAA==",
          "dtype": "f8"
         }
        },
        {
         "name": "('ZJL', 'CHE', 'Pera Amarilla')",
         "type": "bar",
         "x": {
          "bdata": "BAUGBwgJCgsMDQ4PEBESExQVFhcYGRobHB0eHyAhIiMkJSc=",
          "dtype": "i1"
         },
         "y": {
          "bdata": "AAAAAAAAAAAAAAAAAAAAAAAAAAAAAAAAAAAAAAAAAAAAAAAAAAAAAAAAAAAAAAAAAAAAAAAAAAAAAAAAAAAAAAAAAAAAAAAAAAAAAAAAAAAAAAAAAAAAAAAAAAAAAAAAAAAAAAAAAAAAAAAAAAAAAAAAAAAAAAAAAAAAAAAAAAAAAAAAAAAAAAAAAAAAAAAAAAAAAAAAAAAAAAAAAAAAAAAAAAAAAAAAAAAAAAAAAAAAAAAAAAAAAAAAAAAAAAAAAAAAAAAAAAAAAAAAAAAAAAAAAAAAAAAAAAAAAAAAAAAAAAAAAAAAALK/7J48LLQ/AAAAAAAAAADNzMzMzMzMPwAAAAAAAAAAAAAAAAAAAAAAAAAAAAAAAA==",
          "dtype": "f8"
         }
        },
        {
         "name": "('ZJL', 'CHE', 'Pera Roja')",
         "type": "bar",
         "x": {
          "bdata": "BAUGBwgJCgsMDQ4PEBESExQVFhcYGRobHB0eHyAhIiMkJSc=",
          "dtype": "i1"
         },
         "y": {
          "bdata": "AAAAAAAAAAAAAAAAAAAAAAAAAAAAAAAAAAAAAAAAAAAAAAAAAAAAAAAAAAAAAAAAAAAAAAAAAAAAAAAAAAAAAAAAAAAAAAAAAAAAAAAAAAAAAAAAAAAAAAAAAAAAAAAAAAAAAAAAAAAAAAAAAAAAAAAAAAAAAAAAAAAAAAAAAAAAAAAAAAAAAAAAAAAAAAAAAAAAAAAAAAAAAAAAAAAAAAAAAAAAAAAAAAAAAAAAAAAAAAAAAAAAAAAAAAAAAAAAAAAAAAAAAAAAAAAAAAAAAAAAAAAAAAAAAAAAAAAAAAAAAAAAAAAAAAAAAAAAAAAAAAAAAAAAAAAAAAAAAAAAAAAAAAAAAAAAAAAAAAAAAAA+CtejcD3SPw==",
          "dtype": "f8"
         }
        }
       ],
       "layout": {
        "barmode": "stack",
        "legend": {
         "title": {
          "text": "Ranch"
         },
         "x": 1.05,
         "y": 1
        },
        "template": {
         "data": {
          "bar": [
           {
            "error_x": {
             "color": "#2a3f5f"
            },
            "error_y": {
             "color": "#2a3f5f"
            },
            "marker": {
             "line": {
              "color": "#E5ECF6",
              "width": 0.5
             },
             "pattern": {
              "fillmode": "overlay",
              "size": 10,
              "solidity": 0.2
             }
            },
            "type": "bar"
           }
          ],
          "barpolar": [
           {
            "marker": {
             "line": {
              "color": "#E5ECF6",
              "width": 0.5
             },
             "pattern": {
              "fillmode": "overlay",
              "size": 10,
              "solidity": 0.2
             }
            },
            "type": "barpolar"
           }
          ],
          "carpet": [
           {
            "aaxis": {
             "endlinecolor": "#2a3f5f",
             "gridcolor": "white",
             "linecolor": "white",
             "minorgridcolor": "white",
             "startlinecolor": "#2a3f5f"
            },
            "baxis": {
             "endlinecolor": "#2a3f5f",
             "gridcolor": "white",
             "linecolor": "white",
             "minorgridcolor": "white",
             "startlinecolor": "#2a3f5f"
            },
            "type": "carpet"
           }
          ],
          "choropleth": [
           {
            "colorbar": {
             "outlinewidth": 0,
             "ticks": ""
            },
            "type": "choropleth"
           }
          ],
          "contour": [
           {
            "colorbar": {
             "outlinewidth": 0,
             "ticks": ""
            },
            "colorscale": [
             [
              0,
              "#0d0887"
             ],
             [
              0.1111111111111111,
              "#46039f"
             ],
             [
              0.2222222222222222,
              "#7201a8"
             ],
             [
              0.3333333333333333,
              "#9c179e"
             ],
             [
              0.4444444444444444,
              "#bd3786"
             ],
             [
              0.5555555555555556,
              "#d8576b"
             ],
             [
              0.6666666666666666,
              "#ed7953"
             ],
             [
              0.7777777777777778,
              "#fb9f3a"
             ],
             [
              0.8888888888888888,
              "#fdca26"
             ],
             [
              1,
              "#f0f921"
             ]
            ],
            "type": "contour"
           }
          ],
          "contourcarpet": [
           {
            "colorbar": {
             "outlinewidth": 0,
             "ticks": ""
            },
            "type": "contourcarpet"
           }
          ],
          "heatmap": [
           {
            "colorbar": {
             "outlinewidth": 0,
             "ticks": ""
            },
            "colorscale": [
             [
              0,
              "#0d0887"
             ],
             [
              0.1111111111111111,
              "#46039f"
             ],
             [
              0.2222222222222222,
              "#7201a8"
             ],
             [
              0.3333333333333333,
              "#9c179e"
             ],
             [
              0.4444444444444444,
              "#bd3786"
             ],
             [
              0.5555555555555556,
              "#d8576b"
             ],
             [
              0.6666666666666666,
              "#ed7953"
             ],
             [
              0.7777777777777778,
              "#fb9f3a"
             ],
             [
              0.8888888888888888,
              "#fdca26"
             ],
             [
              1,
              "#f0f921"
             ]
            ],
            "type": "heatmap"
           }
          ],
          "histogram": [
           {
            "marker": {
             "pattern": {
              "fillmode": "overlay",
              "size": 10,
              "solidity": 0.2
             }
            },
            "type": "histogram"
           }
          ],
          "histogram2d": [
           {
            "colorbar": {
             "outlinewidth": 0,
             "ticks": ""
            },
            "colorscale": [
             [
              0,
              "#0d0887"
             ],
             [
              0.1111111111111111,
              "#46039f"
             ],
             [
              0.2222222222222222,
              "#7201a8"
             ],
             [
              0.3333333333333333,
              "#9c179e"
             ],
             [
              0.4444444444444444,
              "#bd3786"
             ],
             [
              0.5555555555555556,
              "#d8576b"
             ],
             [
              0.6666666666666666,
              "#ed7953"
             ],
             [
              0.7777777777777778,
              "#fb9f3a"
             ],
             [
              0.8888888888888888,
              "#fdca26"
             ],
             [
              1,
              "#f0f921"
             ]
            ],
            "type": "histogram2d"
           }
          ],
          "histogram2dcontour": [
           {
            "colorbar": {
             "outlinewidth": 0,
             "ticks": ""
            },
            "colorscale": [
             [
              0,
              "#0d0887"
             ],
             [
              0.1111111111111111,
              "#46039f"
             ],
             [
              0.2222222222222222,
              "#7201a8"
             ],
             [
              0.3333333333333333,
              "#9c179e"
             ],
             [
              0.4444444444444444,
              "#bd3786"
             ],
             [
              0.5555555555555556,
              "#d8576b"
             ],
             [
              0.6666666666666666,
              "#ed7953"
             ],
             [
              0.7777777777777778,
              "#fb9f3a"
             ],
             [
              0.8888888888888888,
              "#fdca26"
             ],
             [
              1,
              "#f0f921"
             ]
            ],
            "type": "histogram2dcontour"
           }
          ],
          "mesh3d": [
           {
            "colorbar": {
             "outlinewidth": 0,
             "ticks": ""
            },
            "type": "mesh3d"
           }
          ],
          "parcoords": [
           {
            "line": {
             "colorbar": {
              "outlinewidth": 0,
              "ticks": ""
             }
            },
            "type": "parcoords"
           }
          ],
          "pie": [
           {
            "automargin": true,
            "type": "pie"
           }
          ],
          "scatter": [
           {
            "fillpattern": {
             "fillmode": "overlay",
             "size": 10,
             "solidity": 0.2
            },
            "type": "scatter"
           }
          ],
          "scatter3d": [
           {
            "line": {
             "colorbar": {
              "outlinewidth": 0,
              "ticks": ""
             }
            },
            "marker": {
             "colorbar": {
              "outlinewidth": 0,
              "ticks": ""
             }
            },
            "type": "scatter3d"
           }
          ],
          "scattercarpet": [
           {
            "marker": {
             "colorbar": {
              "outlinewidth": 0,
              "ticks": ""
             }
            },
            "type": "scattercarpet"
           }
          ],
          "scattergeo": [
           {
            "marker": {
             "colorbar": {
              "outlinewidth": 0,
              "ticks": ""
             }
            },
            "type": "scattergeo"
           }
          ],
          "scattergl": [
           {
            "marker": {
             "colorbar": {
              "outlinewidth": 0,
              "ticks": ""
             }
            },
            "type": "scattergl"
           }
          ],
          "scattermap": [
           {
            "marker": {
             "colorbar": {
              "outlinewidth": 0,
              "ticks": ""
             }
            },
            "type": "scattermap"
           }
          ],
          "scattermapbox": [
           {
            "marker": {
             "colorbar": {
              "outlinewidth": 0,
              "ticks": ""
             }
            },
            "type": "scattermapbox"
           }
          ],
          "scatterpolar": [
           {
            "marker": {
             "colorbar": {
              "outlinewidth": 0,
              "ticks": ""
             }
            },
            "type": "scatterpolar"
           }
          ],
          "scatterpolargl": [
           {
            "marker": {
             "colorbar": {
              "outlinewidth": 0,
              "ticks": ""
             }
            },
            "type": "scatterpolargl"
           }
          ],
          "scatterternary": [
           {
            "marker": {
             "colorbar": {
              "outlinewidth": 0,
              "ticks": ""
             }
            },
            "type": "scatterternary"
           }
          ],
          "surface": [
           {
            "colorbar": {
             "outlinewidth": 0,
             "ticks": ""
            },
            "colorscale": [
             [
              0,
              "#0d0887"
             ],
             [
              0.1111111111111111,
              "#46039f"
             ],
             [
              0.2222222222222222,
              "#7201a8"
             ],
             [
              0.3333333333333333,
              "#9c179e"
             ],
             [
              0.4444444444444444,
              "#bd3786"
             ],
             [
              0.5555555555555556,
              "#d8576b"
             ],
             [
              0.6666666666666666,
              "#ed7953"
             ],
             [
              0.7777777777777778,
              "#fb9f3a"
             ],
             [
              0.8888888888888888,
              "#fdca26"
             ],
             [
              1,
              "#f0f921"
             ]
            ],
            "type": "surface"
           }
          ],
          "table": [
           {
            "cells": {
             "fill": {
              "color": "#EBF0F8"
             },
             "line": {
              "color": "white"
             }
            },
            "header": {
             "fill": {
              "color": "#C8D4E3"
             },
             "line": {
              "color": "white"
             }
            },
            "type": "table"
           }
          ]
         },
         "layout": {
          "annotationdefaults": {
           "arrowcolor": "#2a3f5f",
           "arrowhead": 0,
           "arrowwidth": 1
          },
          "autotypenumbers": "strict",
          "coloraxis": {
           "colorbar": {
            "outlinewidth": 0,
            "ticks": ""
           }
          },
          "colorscale": {
           "diverging": [
            [
             0,
             "#8e0152"
            ],
            [
             0.1,
             "#c51b7d"
            ],
            [
             0.2,
             "#de77ae"
            ],
            [
             0.3,
             "#f1b6da"
            ],
            [
             0.4,
             "#fde0ef"
            ],
            [
             0.5,
             "#f7f7f7"
            ],
            [
             0.6,
             "#e6f5d0"
            ],
            [
             0.7,
             "#b8e186"
            ],
            [
             0.8,
             "#7fbc41"
            ],
            [
             0.9,
             "#4d9221"
            ],
            [
             1,
             "#276419"
            ]
           ],
           "sequential": [
            [
             0,
             "#0d0887"
            ],
            [
             0.1111111111111111,
             "#46039f"
            ],
            [
             0.2222222222222222,
             "#7201a8"
            ],
            [
             0.3333333333333333,
             "#9c179e"
            ],
            [
             0.4444444444444444,
             "#bd3786"
            ],
            [
             0.5555555555555556,
             "#d8576b"
            ],
            [
             0.6666666666666666,
             "#ed7953"
            ],
            [
             0.7777777777777778,
             "#fb9f3a"
            ],
            [
             0.8888888888888888,
             "#fdca26"
            ],
            [
             1,
             "#f0f921"
            ]
           ],
           "sequentialminus": [
            [
             0,
             "#0d0887"
            ],
            [
             0.1111111111111111,
             "#46039f"
            ],
            [
             0.2222222222222222,
             "#7201a8"
            ],
            [
             0.3333333333333333,
             "#9c179e"
            ],
            [
             0.4444444444444444,
             "#bd3786"
            ],
            [
             0.5555555555555556,
             "#d8576b"
            ],
            [
             0.6666666666666666,
             "#ed7953"
            ],
            [
             0.7777777777777778,
             "#fb9f3a"
            ],
            [
             0.8888888888888888,
             "#fdca26"
            ],
            [
             1,
             "#f0f921"
            ]
           ]
          },
          "colorway": [
           "#636efa",
           "#EF553B",
           "#00cc96",
           "#ab63fa",
           "#FFA15A",
           "#19d3f3",
           "#FF6692",
           "#B6E880",
           "#FF97FF",
           "#FECB52"
          ],
          "font": {
           "color": "#2a3f5f"
          },
          "geo": {
           "bgcolor": "white",
           "lakecolor": "white",
           "landcolor": "#E5ECF6",
           "showlakes": true,
           "showland": true,
           "subunitcolor": "white"
          },
          "hoverlabel": {
           "align": "left"
          },
          "hovermode": "closest",
          "mapbox": {
           "style": "light"
          },
          "paper_bgcolor": "white",
          "plot_bgcolor": "#E5ECF6",
          "polar": {
           "angularaxis": {
            "gridcolor": "white",
            "linecolor": "white",
            "ticks": ""
           },
           "bgcolor": "#E5ECF6",
           "radialaxis": {
            "gridcolor": "white",
            "linecolor": "white",
            "ticks": ""
           }
          },
          "scene": {
           "xaxis": {
            "backgroundcolor": "#E5ECF6",
            "gridcolor": "white",
            "gridwidth": 2,
            "linecolor": "white",
            "showbackground": true,
            "ticks": "",
            "zerolinecolor": "white"
           },
           "yaxis": {
            "backgroundcolor": "#E5ECF6",
            "gridcolor": "white",
            "gridwidth": 2,
            "linecolor": "white",
            "showbackground": true,
            "ticks": "",
            "zerolinecolor": "white"
           },
           "zaxis": {
            "backgroundcolor": "#E5ECF6",
            "gridcolor": "white",
            "gridwidth": 2,
            "linecolor": "white",
            "showbackground": true,
            "ticks": "",
            "zerolinecolor": "white"
           }
          },
          "shapedefaults": {
           "line": {
            "color": "#2a3f5f"
           }
          },
          "ternary": {
           "aaxis": {
            "gridcolor": "white",
            "linecolor": "white",
            "ticks": ""
           },
           "baxis": {
            "gridcolor": "white",
            "linecolor": "white",
            "ticks": ""
           },
           "bgcolor": "#E5ECF6",
           "caxis": {
            "gridcolor": "white",
            "linecolor": "white",
            "ticks": ""
           }
          },
          "title": {
           "x": 0.05
          },
          "xaxis": {
           "automargin": true,
           "gridcolor": "white",
           "linecolor": "white",
           "ticks": "",
           "title": {
            "standoff": 15
           },
           "zerolinecolor": "white",
           "zerolinewidth": 2
          },
          "yaxis": {
           "automargin": true,
           "gridcolor": "white",
           "linecolor": "white",
           "ticks": "",
           "title": {
            "standoff": 15
           },
           "zerolinecolor": "white",
           "zerolinewidth": 2
          }
         }
        },
        "title": {
         "text": "Stacked Bar Plot of Hectares by Week Transplanted (Ranch)"
        },
        "xaxis": {
         "categoryorder": "total descending",
         "tickangle": 45,
         "title": {
          "text": "Week Transplanted"
         }
        },
        "yaxis": {
         "title": {
          "text": "Hectares (Ha)"
         }
        }
       }
      }
     },
     "metadata": {},
     "output_type": "display_data"
    }
   ],
   "source": [
    "\n",
    "\n",
    "# Prepare data for the stacked bar plot\n",
    "ranch_data = []\n",
    "for ranch in ranch_pivot.index:\n",
    "    ranch_data.append(go.Bar(\n",
    "        name=f'{ranch}',\n",
    "        x=ranch_pivot.columns,\n",
    "        y=ranch_pivot.loc[ranch]\n",
    "    ))\n",
    "\n",
    "# Create the figure\n",
    "ranch_fig = go.Figure(data=ranch_data)\n",
    "\n",
    "# Update layout for the plot\n",
    "ranch_fig.update_layout(\n",
    "    barmode='stack',\n",
    "    title='Stacked Bar Plot of Hectares by Week Transplanted (Ranch)',\n",
    "    xaxis_title='Week Transplanted',\n",
    "    yaxis_title='Hectares (Ha)',\n",
    "    legend_title='Ranch',\n",
    "    xaxis=dict(tickangle=45, categoryorder='total descending'),\n",
    "    legend=dict(x=1.05, y=1)\n",
    ")\n"
   ]
  },
  {
   "cell_type": "markdown",
   "metadata": {},
   "source": [
    "load in model"
   ]
  },
  {
   "cell_type": "code",
   "execution_count": 19,
   "metadata": {},
   "outputs": [],
   "source": [
    "from src.model import KiloModel,ScheduleModel\n",
    "from src.encoder import ClimateEncoder"
   ]
  },
  {
   "cell_type": "code",
   "execution_count": 27,
   "metadata": {},
   "outputs": [],
   "source": [
    "_kilo_model_path = '../app/k_model.pth'\n",
    "_schedule_model_path = '../app/s_model.pth'"
   ]
  },
  {
   "cell_type": "code",
   "execution_count": 28,
   "metadata": {},
   "outputs": [
    {
     "name": "stderr",
     "output_type": "stream",
     "text": [
      "/Users/zakir/anaconda3/envs/cherry/lib/python3.10/site-packages/torch/nn/utils/weight_norm.py:143: FutureWarning:\n",
      "\n",
      "`torch.nn.utils.weight_norm` is deprecated in favor of `torch.nn.utils.parametrizations.weight_norm`.\n",
      "\n"
     ]
    },
    {
     "data": {
      "text/plain": [
       "ScheduleModel(\n",
       "  (encoder): ClimateEncoder(\n",
       "    (feature_encoder): Sequential(\n",
       "      (0): Linear(in_features=5, out_features=32, bias=True)\n",
       "      (1): ReLU()\n",
       "    )\n",
       "    (climate_gru): GRU(9, 32, num_layers=2, batch_first=True, dropout=0.2)\n",
       "    (ranch_emb): Embedding(13, 12)\n",
       "    (parcel_emb): Embedding(44, 12)\n",
       "    (lot_emb): Embedding(75, 12)\n",
       "    (lot_to_parcel): Linear(in_features=12, out_features=12, bias=True)\n",
       "    (parcel_to_ranch): Linear(in_features=12, out_features=12, bias=True)\n",
       "    (class_emb): Embedding(2, 12)\n",
       "    (type_emb): Embedding(14, 12)\n",
       "    (variety_emb): Embedding(59, 12)\n",
       "    (type_to_class): Linear(in_features=12, out_features=12, bias=True)\n",
       "    (variety_to_type): Linear(in_features=12, out_features=12, bias=True)\n",
       "  )\n",
       "  (kilo_gru): GRU(3, 32, num_layers=2, batch_first=True, dropout=0.2)\n",
       "  (schedule_output): Sequential(\n",
       "    (0): Linear(in_features=168, out_features=32, bias=True)\n",
       "    (1): ReLU()\n",
       "    (2): Linear(in_features=32, out_features=5, bias=True)\n",
       "  )\n",
       ")"
      ]
     },
     "execution_count": 28,
     "metadata": {},
     "output_type": "execute_result"
    }
   ],
   "source": [
    "kilo_encoder = ClimateEncoder()\n",
    "schedule_encoder = ClimateEncoder()\n",
    "kilo_model = KiloModel(kilo_encoder)\n",
    "kilo_model.load_state_dict(torch.load(_kilo_model_path))\n",
    "kilo_model.eval()\n",
    "\n",
    "schedule_model = ScheduleModel(schedule_encoder)\n",
    "schedule_model.load_state_dict(torch.load(_schedule_model_path))\n",
    "schedule_model.eval()"
   ]
  },
  {
   "cell_type": "code",
   "execution_count": 55,
   "metadata": {},
   "outputs": [],
   "source": [
    "outputs = kilo_model(test_dataset.features,test_dataset.encoded_features,test_dataset.climate_data,test_dataset.Y_combined[:,:10,:])\n"
   ]
  },
  {
   "cell_type": "code",
   "execution_count": 60,
   "metadata": {},
   "outputs": [],
   "source": [
    "preds = outputs.detach().numpy().sum(axis=1)"
   ]
  },
  {
   "cell_type": "code",
   "execution_count": 61,
   "metadata": {},
   "outputs": [],
   "source": [
    "actuals = test_dataset.Y_kilos.detach().numpy().sum(axis=1)"
   ]
  },
  {
   "cell_type": "code",
   "execution_count": 62,
   "metadata": {},
   "outputs": [
    {
     "data": {
      "text/plain": [
       "array([ 935.74097,  878.0376 ,  915.28326,  765.7602 ,  761.2605 ,\n",
       "        769.20166,  706.2112 ,  812.471  ,  805.9408 ,  830.69116,\n",
       "        788.1886 ,  700.7489 ,  902.9768 ,  800.2494 ,  685.3682 ,\n",
       "        876.0423 ,  701.276  ,  770.58966,  761.77405,  712.16394,\n",
       "        830.4024 ,  927.6593 ,  800.635  ,  793.0717 ,  903.3398 ,\n",
       "        723.3081 ,  826.6186 ,  829.43604,  657.56494,  753.44104,\n",
       "        782.873  ,  777.505  ,  867.4995 ,  671.6677 ,  807.08167,\n",
       "        777.6943 ,  718.02826,  873.91504,  907.5198 ,  747.87305,\n",
       "        700.2075 ,  868.6288 ,  802.22577,  712.5901 ,  873.18005,\n",
       "        690.64075,  899.07007,  678.55774,  780.4724 ,  653.56744,\n",
       "        780.4886 ,  612.9413 ,  750.6034 ,  750.6206 ,  734.2047 ,\n",
       "        801.8231 ,  872.32043,  908.91113,  650.2723 ,  752.3915 ,\n",
       "        698.5276 , 1002.95703,  787.2033 ,  871.6021 ,  890.4129 ,\n",
       "       1018.7187 ,  888.373  ,  956.8069 ,  845.0968 ,  889.5714 ,\n",
       "        985.32513,  801.65106,  975.82007, 1019.9341 ,  891.2449 ,\n",
       "        826.63763,  829.5542 ,  893.88544,  806.1194 ,  942.85925,\n",
       "        873.4966 ,  900.19946,  802.8568 ,  788.08044,  932.4849 ,\n",
       "        792.0433 ,  741.3081 ,  853.735  ,  857.8135 ,  869.6586 ,\n",
       "        773.5708 ,  785.33136,  719.5979 ,  889.1598 ,  974.94745,\n",
       "        874.40564,  862.093  ,  839.7295 ,  786.78925,  870.0708 ,\n",
       "        954.4598 ,  990.2383 ,  693.1437 ,  903.7727 ,  926.35254,\n",
       "        800.92584,  938.2385 ,  891.7682 ,  885.8955 ,  873.3865 ,\n",
       "        992.5648 ,  934.7257 , 1036.1748 ,  900.71545, 1078.4463 ,\n",
       "       1033.114  ,  925.2648 ,  946.4177 , 1064.4875 , 1012.09607,\n",
       "        912.0826 , 1030.3083 , 1048.0728 ,  841.55646,  977.81165,\n",
       "        959.5062 ,  913.7246 ,  921.04297, 1097.1718 ,  977.5878 ,\n",
       "       1092.3455 ,  898.2899 ,  917.36884,  896.692  ,  985.9999 ,\n",
       "        991.6699 ,  933.51636,  979.729  , 1030.3048 , 1010.8346 ,\n",
       "        924.3814 ,  866.4193 , 1088.6326 , 1018.07007,  977.8824 ,\n",
       "        889.3369 , 1092.4478 ,  904.9132 ,  926.61536,  991.9199 ,\n",
       "        944.12585,  968.49585, 1032.5775 ,  902.53174, 1042.8374 ,\n",
       "       1056.6697 , 1016.553  ,  896.0421 ,  896.0748 , 1127.828  ,\n",
       "        909.2704 , 1049.4336 , 1083.0605 , 1118.737  , 1011.3395 ,\n",
       "        913.2627 ,  920.45233,  956.80664,  884.1394 , 1002.36206,\n",
       "        858.8054 ,  907.83984,  910.1693 ,  961.94037, 1012.2517 ,\n",
       "        986.2333 ,  978.17224, 1127.902  ,  933.8589 ,  960.1042 ,\n",
       "       1007.9785 , 1017.5019 ,  992.9836 , 1033.4758 , 1049.7632 ,\n",
       "       1089.384  , 1186.1017 , 1054.0061 , 1187.7194 , 1144.9263 ,\n",
       "       1073.9766 , 1121.9438 , 1176.3171 , 1010.574  , 1101.023  ,\n",
       "       1106.1643 , 1148.9609 , 1238.7468 , 1013.00397, 1135.299  ,\n",
       "       1137.9557 , 1218.0168 , 1048.9954 , 1135.5386 , 1012.7898 ,\n",
       "       1114.7855 , 1131.0017 , 1077.1104 , 1167.5759 , 1155.6031 ,\n",
       "       1112.5159 , 1275.3162 , 1227.5784 , 1114.4065 ,  993.8918 ,\n",
       "       1005.8071 ,  994.7373 ,  908.37195, 1182.5189 , 1046.4288 ,\n",
       "       1037.2299 , 1118.7213 , 1021.023  , 1005.3533 , 1094.0901 ,\n",
       "       1197.6116 ,  909.8209 , 1118.9347 , 1116.3759 , 1122.9177 ,\n",
       "       1189.3691 , 1130.0482 , 1315.678  , 1318.6804 , 1303.8347 ,\n",
       "       1311.2041 , 1051.2058 , 1301.6571 , 1133.7294 , 1258.4741 ,\n",
       "       1299.5619 , 1108.179  , 1219.3661 , 1295.1431 , 1362.102  ,\n",
       "       1240.7587 , 1277.4738 , 1142.8044 , 1113.6223 , 1266.1057 ,\n",
       "       1157.2297 , 1248.3131 , 1279.3181 , 1241.1895 , 1345.9686 ,\n",
       "       1053.4695 , 1012.71814, 1386.6165 , 1268.3896 , 1213.7194 ,\n",
       "       1190.5481 , 1221.4274 , 1100.8322 , 1119.744  , 1252.6326 ,\n",
       "       1326.5164 , 1139.7773 , 1313.2275 , 1188.5798 , 1224.8052 ,\n",
       "       1155.4287 , 1133.343  , 1227.1018 , 1253.635  , 1209.4607 ,\n",
       "       1088.9197 , 1095.9069 , 1108.168  , 1127.8064 , 1220.9764 ,\n",
       "       1181.2401 , 1209.4254 , 1104.3617 , 1112.0366 , 1163.2035 ,\n",
       "       1202.7485 , 1242.8455 , 1306.2037 , 1228.8088 , 1149.4773 ,\n",
       "       1288.77   , 1060.5024 , 1245.0913 , 1213.2223 , 1204.1614 ,\n",
       "       1225.3999 , 1256.467  , 1185.468  , 1145.9084 , 1263.7283 ,\n",
       "       1278.9962 , 1245.4897 , 1351.7585 , 1341.5645 , 1358.7025 ,\n",
       "       1366.428  , 1392.2616 , 1319.837  , 1425.5593 , 1343.5033 ,\n",
       "       1405.8828 , 1241.9048 , 1357.6335 , 1370.4879 , 1431.6909 ,\n",
       "       1353.4946 , 1328.9136 , 1317.1558 , 1274.4763 , 1337.3728 ,\n",
       "       1304.332  , 1317.8743 , 1388.6646 , 1165.2507 , 1368.4144 ,\n",
       "       1418.2689 , 1270.7225 , 1304.5156 , 1392.6665 , 1230.3075 ,\n",
       "       1379.9438 , 1280.3171 , 1352.4819 , 1277.5613 , 1200.9083 ,\n",
       "       1363.322  , 1304.1511 , 1395.6929 , 1299.6113 , 1298.9197 ,\n",
       "       1254.1589 , 1327.4609 , 1391.0464 , 1373.2397 , 1397.0907 ,\n",
       "       1356.5446 , 1368.155  , 1275.0498 , 1264.5468 , 1243.8154 ,\n",
       "       1340.4924 , 1272.6249 , 1341.3505 , 1402.4338 , 1404.9224 ,\n",
       "       1364.8566 , 1381.2633 , 1407.616  , 1315.3845 , 1344.2108 ,\n",
       "       1271.7792 , 1510.6353 , 1524.9741 , 1547.9662 , 1471.6572 ,\n",
       "       1497.6619 , 1425.5403 , 1468.6027 , 1383.6636 , 1431.6049 ,\n",
       "       1435.3236 , 1455.0447 , 1505.3029 , 1477.8755 , 1442.3547 ,\n",
       "       1436.5171 , 1438.6334 , 1491.1426 , 1450.8049 , 1459.743  ,\n",
       "       1365.8583 , 1566.0625 , 1472.1472 , 1401.7251 , 1403.8796 ,\n",
       "       1486.6489 , 1502.8098 , 1508.5372 , 1524.9524 , 1520.2191 ,\n",
       "       1544.487  , 1438.2014 , 1464.26   , 1420.4949 , 1395.8754 ,\n",
       "       1363.8911 , 1331.9415 , 1480.2207 , 1358.5447 , 1426.629  ,\n",
       "       1522.0146 , 1433.6279 , 1521.1082 , 1454.1478 , 1384.5516 ,\n",
       "       1367.7781 , 1455.8037 , 1484.9595 , 1431.2759 , 1455.7181 ,\n",
       "       1468.7772 , 1409.4019 , 1518.8499 , 1476.1693 , 1282.5547 ,\n",
       "       1366.0037 , 1494.5303 , 1385.0884 , 1402.9099 , 1411.3018 ,\n",
       "       1489.7207 , 1476.3265 , 1514.8516 , 1509.5563 , 1500.2012 ,\n",
       "       1422.7493 , 1454.3171 , 1472.2566 , 1415.8545 , 1430.3425 ,\n",
       "       1440.6934 , 1399.7086 , 1342.7806 , 1468.8356 , 1325.1931 ,\n",
       "       1348.0564 , 1428.4392 , 1637.198  , 1620.5408 , 1529.55   ,\n",
       "       1608.0515 , 1602.084  , 1626.9026 , 1643.2627 , 1495.2831 ,\n",
       "       1641.4202 , 1501.6995 , 1540.5986 , 1618.1154 , 1557.7952 ,\n",
       "       1638.2775 , 1535.0767 , 1526.4297 , 1607.5142 , 1452.956  ,\n",
       "       1551.3947 , 1575.5372 , 1521.1174 , 1552.6272 , 1479.8862 ,\n",
       "       1483.287  , 1572.8145 , 1567.4155 , 1582.0333 , 1496.4495 ,\n",
       "       1472.1716 , 1509.3499 , 1605.9681 , 1466.0051 , 1452.9653 ,\n",
       "       1536.7316 , 1512.2231 , 1614.7461 , 1579.065  , 1535.7332 ,\n",
       "       1600.7087 , 1519.9269 , 1568.6232 , 1624.7179 , 1554.947  ,\n",
       "       1517.3552 , 1511.117  , 1426.2659 , 1509.551  , 1601.1992 ,\n",
       "       1603.5862 , 1526.5455 , 1617.5513 , 1515.471  , 1515.9158 ,\n",
       "       1596.1039 , 1499.1494 , 1505.3162 , 1514.4712 , 1566.3477 ,\n",
       "       1541.9417 , 1596.6143 , 1542.9016 , 1584.5137 , 1457.2424 ,\n",
       "       1512.5269 , 1603.05   , 1520.7826 , 1563.942  , 1513.2761 ,\n",
       "       1593.8794 , 1612.4564 , 1531.447  , 1581.8202 , 1523.0239 ,\n",
       "       1544.528  , 1519.1667 , 1537.5571 , 1692.0746 , 1739.3134 ,\n",
       "       1693.6912 , 1589.4342 , 1607.9722 , 1653.4277 , 1786.2319 ,\n",
       "       1781.3506 , 1641.8027 , 1644.7932 , 1694.8364 , 1664.1339 ,\n",
       "       1700.8901 , 1680.7688 , 1715.4753 , 1664.9568 , 1579.3555 ,\n",
       "       1640.0925 , 1643.2078 , 1673.3271 , 1584.3628 , 1661.5781 ,\n",
       "       1651.398  , 1670.0591 , 1621.2888 , 1624.4038 , 1669.8018 ,\n",
       "       1592.9423 , 1574.4653 , 1583.3953 , 1669.5361 , 1626.3591 ,\n",
       "       1680.0934 , 1759.8401 , 1536.2557 , 1513.4277 , 1660.5583 ,\n",
       "       1643.3087 , 1650.3157 , 1696.1831 , 1643.8704 , 1702.6436 ,\n",
       "       1564.7675 , 1613.106  , 1643.1448 , 1521.688  , 1563.6965 ,\n",
       "       1586.862  , 1602.7651 , 1553.7286 , 1700.4425 , 1594.6189 ,\n",
       "       1648.5142 , 1599.293  , 1583.3228 , 1724.6995 , 1668.6907 ,\n",
       "       1646.9946 , 1634.7781 , 1575.8772 , 1603.5176 , 1722.99   ,\n",
       "       1623.4493 , 1724.8721 , 1727.9935 , 1611.961  , 1530.0103 ,\n",
       "       1713.4432 , 1614.0576 , 1674.3228 , 1621.8483 , 1588.8652 ,\n",
       "       1512.5945 , 1579.0271 , 1595.1506 , 1539.1177 , 1598.388  ,\n",
       "       1677.0254 , 1666.1162 , 1562.717  , 1782.3    , 1693.3011 ,\n",
       "       1789.9302 , 1744.8291 , 1793.242  , 1762.3545 , 1837.1112 ,\n",
       "       1722.9469 , 1818.1653 , 1756.5044 , 1778.802  , 1738.1387 ,\n",
       "       1643.0142 , 1702.0896 , 1668.2114 , 1693.1823 , 1707.5684 ,\n",
       "       1812.5195 , 1828.7615 , 1685.4243 , 1722.785  , 1662.4624 ,\n",
       "       1749.095  , 1866.9302 , 1710.9468 , 1711.8315 , 1621.7632 ,\n",
       "       1668.5071 , 1773.2239 , 1829.2253 , 1827.7839 , 1887.3577 ,\n",
       "       1822.6877 , 1739.9441 , 1672.4875 , 1713.1329 , 1622.6277 ,\n",
       "       1781.493  , 1830.8792 , 1763.7595 , 1780.0012 , 1739.1781 ,\n",
       "       1782.2891 , 1685.4287 , 1740.3212 , 1606.2465 , 1621.1462 ,\n",
       "       1799.1462 , 1673.147  , 1753.1754 , 1799.4819 , 1673.1671 ,\n",
       "       1758.7681 , 1747.8071 , 1656.7766 , 1707.2004 , 1799.5756 ,\n",
       "       1761.0842 , 1759.377  , 1784.2385 , 1727.9658 , 1682.56   ,\n",
       "       1657.93   , 1853.4131 , 1756.6202 , 1644.9429 , 1687.8873 ,\n",
       "       1845.2898 , 1604.8091 , 1691.386  , 1628.9896 , 1745.387  ,\n",
       "       1611.6753 , 1679.8536 , 1646.385  , 1769.1346 , 1762.2961 ,\n",
       "       1769.3298 , 1769.7227 , 1958.7476 , 1912.3774 , 1842.0175 ,\n",
       "       1766.4048 , 1921.5115 , 1804.0431 , 1889.5706 , 1745.0565 ,\n",
       "       1795.6464 , 1782.3462 , 1901.9379 , 1948.8612 , 1878.876  ,\n",
       "       1855.4326 , 1849.5992 , 1771.2692 , 1894.5167 , 1821.5254 ,\n",
       "       1708.2646 , 1839.4207 , 1783.5576 , 1789.2366 , 1672.751  ,\n",
       "       1827.0759 , 1810.2402 , 1800.6731 , 1662.8049 , 1747.6876 ,\n",
       "       1768.9371 , 1918.9707 , 1780.6611 , 1773.0549 , 1793.8047 ,\n",
       "       1915.6503 , 1748.5205 , 1749.4772 , 1841.2864 , 1781.3683 ,\n",
       "       1752.2675 , 1814.4271 , 1772.2461 , 1772.5132 , 1762.0256 ,\n",
       "       1741.3477 , 2086.356  , 1930.3539 , 1979.0566 , 2008.3018 ,\n",
       "       1903.1185 , 1891.2638 , 2008.0764 , 2086.7397 , 1843.8092 ,\n",
       "       1836.4131 , 1787.2214 , 1990.9106 , 2000.0029 , 1898.1362 ,\n",
       "       1782.0063 , 1940.8784 , 2097.9033 , 1863.5332 , 1957.1741 ,\n",
       "       1943.0125 , 1925.035  , 1998.4204 , 1849.8866 , 2057.1494 ,\n",
       "       1961.5535 , 1937.749  , 1862.439  , 1833.2494 , 2028.0261 ,\n",
       "       1922.3629 , 1853.0619 , 2025.6986 , 1896.6763 , 1905.7588 ,\n",
       "       2052.715  , 1863.213  , 2004.6556 , 1871.643  , 1830.3585 ,\n",
       "       1819.9272 , 1935.5172 , 1945.0475 ], dtype=float32)"
      ]
     },
     "execution_count": 62,
     "metadata": {},
     "output_type": "execute_result"
    }
   ],
   "source": [
    "preds"
   ]
  },
  {
   "cell_type": "code",
   "execution_count": 65,
   "metadata": {},
   "outputs": [
    {
     "data": {
      "text/html": [
       "<div>\n",
       "<style scoped>\n",
       "    .dataframe tbody tr th:only-of-type {\n",
       "        vertical-align: middle;\n",
       "    }\n",
       "\n",
       "    .dataframe tbody tr th {\n",
       "        vertical-align: top;\n",
       "    }\n",
       "\n",
       "    .dataframe thead th {\n",
       "        text-align: right;\n",
       "    }\n",
       "</style>\n",
       "<table border=\"1\" class=\"dataframe\">\n",
       "  <thead>\n",
       "    <tr style=\"text-align: right;\">\n",
       "      <th></th>\n",
       "      <th>TransplantDate</th>\n",
       "      <th>Parcel</th>\n",
       "      <th>Lot</th>\n",
       "      <th>ProducerCode</th>\n",
       "      <th>Variety</th>\n",
       "      <th>Ha</th>\n",
       "      <th>Class</th>\n",
       "      <th>Type</th>\n",
       "      <th>WeekTransplanted</th>\n",
       "      <th>WeekCos</th>\n",
       "      <th>WeekSin</th>\n",
       "      <th>Year</th>\n",
       "      <th>ClimateSeries</th>\n",
       "      <th>Ranch</th>\n",
       "    </tr>\n",
       "  </thead>\n",
       "  <tbody>\n",
       "    <tr>\n",
       "      <th>2</th>\n",
       "      <td>2013-02-13</td>\n",
       "      <td>Z18</td>\n",
       "      <td>6</td>\n",
       "      <td>ZJL</td>\n",
       "      <td>Shiren</td>\n",
       "      <td>0.3938</td>\n",
       "      <td>CHE</td>\n",
       "      <td>Cherry Rojo</td>\n",
       "      <td>7</td>\n",
       "      <td>0.663123</td>\n",
       "      <td>0.748511</td>\n",
       "      <td>2013</td>\n",
       "      <td>[[-0.2535675497, -0.8592687109, 0.0, 0.0, -0.1...</td>\n",
       "      <td>ZJL</td>\n",
       "    </tr>\n",
       "    <tr>\n",
       "      <th>5</th>\n",
       "      <td>2013-02-15</td>\n",
       "      <td>Z18</td>\n",
       "      <td>5</td>\n",
       "      <td>ZJL</td>\n",
       "      <td>Felicity</td>\n",
       "      <td>0.2138</td>\n",
       "      <td>CHE</td>\n",
       "      <td>Cherry Rojo</td>\n",
       "      <td>7</td>\n",
       "      <td>0.663123</td>\n",
       "      <td>0.748511</td>\n",
       "      <td>2013</td>\n",
       "      <td>[[0.3125368926, -0.0596579057, 0.0, 0.0, -0.54...</td>\n",
       "      <td>ZJL</td>\n",
       "    </tr>\n",
       "    <tr>\n",
       "      <th>10</th>\n",
       "      <td>2013-02-20</td>\n",
       "      <td>Z18</td>\n",
       "      <td>5</td>\n",
       "      <td>ZJL</td>\n",
       "      <td>Shiren</td>\n",
       "      <td>0.2700</td>\n",
       "      <td>CHE</td>\n",
       "      <td>Cherry Rojo</td>\n",
       "      <td>8</td>\n",
       "      <td>0.568065</td>\n",
       "      <td>0.822984</td>\n",
       "      <td>2013</td>\n",
       "      <td>[[-1.020167475, -0.1291892644, 0.2, 0.2, -0.92...</td>\n",
       "      <td>ZJL</td>\n",
       "    </tr>\n",
       "    <tr>\n",
       "      <th>16</th>\n",
       "      <td>2013-02-23</td>\n",
       "      <td>Z17</td>\n",
       "      <td>8</td>\n",
       "      <td>ZJL</td>\n",
       "      <td>Amaí</td>\n",
       "      <td>0.5063</td>\n",
       "      <td>BSUF</td>\n",
       "      <td>Uva Roja</td>\n",
       "      <td>8</td>\n",
       "      <td>0.568065</td>\n",
       "      <td>0.822984</td>\n",
       "      <td>2013</td>\n",
       "      <td>[[-0.1651137121, -0.949659491, 0.0, 0.0, 0.007...</td>\n",
       "      <td>ZJL</td>\n",
       "    </tr>\n",
       "    <tr>\n",
       "      <th>17</th>\n",
       "      <td>2013-02-23</td>\n",
       "      <td>Z17</td>\n",
       "      <td>8</td>\n",
       "      <td>ZJL</td>\n",
       "      <td>Amsterdam</td>\n",
       "      <td>0.1463</td>\n",
       "      <td>BSUF</td>\n",
       "      <td>Uva Roja</td>\n",
       "      <td>8</td>\n",
       "      <td>0.568065</td>\n",
       "      <td>0.822984</td>\n",
       "      <td>2013</td>\n",
       "      <td>[[-0.1651137121, -0.949659491, 0.0, 0.0, 0.007...</td>\n",
       "      <td>ZJL</td>\n",
       "    </tr>\n",
       "    <tr>\n",
       "      <th>...</th>\n",
       "      <td>...</td>\n",
       "      <td>...</td>\n",
       "      <td>...</td>\n",
       "      <td>...</td>\n",
       "      <td>...</td>\n",
       "      <td>...</td>\n",
       "      <td>...</td>\n",
       "      <td>...</td>\n",
       "      <td>...</td>\n",
       "      <td>...</td>\n",
       "      <td>...</td>\n",
       "      <td>...</td>\n",
       "      <td>...</td>\n",
       "      <td>...</td>\n",
       "    </tr>\n",
       "    <tr>\n",
       "      <th>3762</th>\n",
       "      <td>2024-07-08</td>\n",
       "      <td>S07</td>\n",
       "      <td>11</td>\n",
       "      <td>SFB</td>\n",
       "      <td>Pera Amarilla Viv</td>\n",
       "      <td>0.0400</td>\n",
       "      <td>CHE</td>\n",
       "      <td>Pera Amarilla</td>\n",
       "      <td>28</td>\n",
       "      <td>-0.970942</td>\n",
       "      <td>-0.239316</td>\n",
       "      <td>2024</td>\n",
       "      <td>[[0.37274458930000004, 0.539771659, 0.0, 0.0, ...</td>\n",
       "      <td>SFB</td>\n",
       "    </tr>\n",
       "    <tr>\n",
       "      <th>3764</th>\n",
       "      <td>2024-07-08</td>\n",
       "      <td>S07</td>\n",
       "      <td>11</td>\n",
       "      <td>SFB</td>\n",
       "      <td>Top 2323</td>\n",
       "      <td>0.0800</td>\n",
       "      <td>CHE</td>\n",
       "      <td>Cherry Rosa</td>\n",
       "      <td>28</td>\n",
       "      <td>-0.970942</td>\n",
       "      <td>-0.239316</td>\n",
       "      <td>2024</td>\n",
       "      <td>[[0.37274458930000004, 0.539771659, 0.0, 0.0, ...</td>\n",
       "      <td>SFB</td>\n",
       "    </tr>\n",
       "    <tr>\n",
       "      <th>3774</th>\n",
       "      <td>2024-07-18</td>\n",
       "      <td>V02</td>\n",
       "      <td>33</td>\n",
       "      <td>VAP</td>\n",
       "      <td>Yoyomo</td>\n",
       "      <td>0.5980</td>\n",
       "      <td>BSUF</td>\n",
       "      <td>Uva Amarilla</td>\n",
       "      <td>29</td>\n",
       "      <td>-0.935016</td>\n",
       "      <td>-0.354605</td>\n",
       "      <td>2024</td>\n",
       "      <td>[[0.4868501577, 0.3822832708, 0.0, 0.0, 0.2966...</td>\n",
       "      <td>VAP</td>\n",
       "    </tr>\n",
       "    <tr>\n",
       "      <th>3784</th>\n",
       "      <td>2024-07-24</td>\n",
       "      <td>V02</td>\n",
       "      <td>8</td>\n",
       "      <td>VAP</td>\n",
       "      <td>Top 2417</td>\n",
       "      <td>0.1805</td>\n",
       "      <td>CHE</td>\n",
       "      <td>Cherry Naranja</td>\n",
       "      <td>30</td>\n",
       "      <td>-0.885456</td>\n",
       "      <td>-0.464723</td>\n",
       "      <td>2024</td>\n",
       "      <td>[[1.10012998, 0.7647058824, 0.0, 0.0, 0.501364...</td>\n",
       "      <td>VAP</td>\n",
       "    </tr>\n",
       "    <tr>\n",
       "      <th>3787</th>\n",
       "      <td>2024-07-29</td>\n",
       "      <td>S12</td>\n",
       "      <td>7</td>\n",
       "      <td>SGB</td>\n",
       "      <td>King</td>\n",
       "      <td>0.5100</td>\n",
       "      <td>BSUF</td>\n",
       "      <td>Uva Roja</td>\n",
       "      <td>31</td>\n",
       "      <td>-0.822984</td>\n",
       "      <td>-0.568065</td>\n",
       "      <td>2024</td>\n",
       "      <td>[[0.3676142667, 0.3320816298, 0.0, 0.0, 0.5941...</td>\n",
       "      <td>SGB</td>\n",
       "    </tr>\n",
       "  </tbody>\n",
       "</table>\n",
       "<p>758 rows × 14 columns</p>\n",
       "</div>"
      ],
      "text/plain": [
       "     TransplantDate Parcel  Lot ProducerCode            Variety      Ha Class  \\\n",
       "2        2013-02-13    Z18    6          ZJL             Shiren  0.3938   CHE   \n",
       "5        2013-02-15    Z18    5          ZJL           Felicity  0.2138   CHE   \n",
       "10       2013-02-20    Z18    5          ZJL             Shiren  0.2700   CHE   \n",
       "16       2013-02-23    Z17    8          ZJL               Amaí  0.5063  BSUF   \n",
       "17       2013-02-23    Z17    8          ZJL          Amsterdam  0.1463  BSUF   \n",
       "...             ...    ...  ...          ...                ...     ...   ...   \n",
       "3762     2024-07-08    S07   11          SFB  Pera Amarilla Viv  0.0400   CHE   \n",
       "3764     2024-07-08    S07   11          SFB           Top 2323  0.0800   CHE   \n",
       "3774     2024-07-18    V02   33          VAP             Yoyomo  0.5980  BSUF   \n",
       "3784     2024-07-24    V02    8          VAP           Top 2417  0.1805   CHE   \n",
       "3787     2024-07-29    S12    7          SGB               King  0.5100  BSUF   \n",
       "\n",
       "                Type  WeekTransplanted   WeekCos   WeekSin  Year  \\\n",
       "2        Cherry Rojo                 7  0.663123  0.748511  2013   \n",
       "5        Cherry Rojo                 7  0.663123  0.748511  2013   \n",
       "10       Cherry Rojo                 8  0.568065  0.822984  2013   \n",
       "16          Uva Roja                 8  0.568065  0.822984  2013   \n",
       "17          Uva Roja                 8  0.568065  0.822984  2013   \n",
       "...              ...               ...       ...       ...   ...   \n",
       "3762   Pera Amarilla                28 -0.970942 -0.239316  2024   \n",
       "3764     Cherry Rosa                28 -0.970942 -0.239316  2024   \n",
       "3774    Uva Amarilla                29 -0.935016 -0.354605  2024   \n",
       "3784  Cherry Naranja                30 -0.885456 -0.464723  2024   \n",
       "3787        Uva Roja                31 -0.822984 -0.568065  2024   \n",
       "\n",
       "                                          ClimateSeries Ranch  \n",
       "2     [[-0.2535675497, -0.8592687109, 0.0, 0.0, -0.1...   ZJL  \n",
       "5     [[0.3125368926, -0.0596579057, 0.0, 0.0, -0.54...   ZJL  \n",
       "10    [[-1.020167475, -0.1291892644, 0.2, 0.2, -0.92...   ZJL  \n",
       "16    [[-0.1651137121, -0.949659491, 0.0, 0.0, 0.007...   ZJL  \n",
       "17    [[-0.1651137121, -0.949659491, 0.0, 0.0, 0.007...   ZJL  \n",
       "...                                                 ...   ...  \n",
       "3762  [[0.37274458930000004, 0.539771659, 0.0, 0.0, ...   SFB  \n",
       "3764  [[0.37274458930000004, 0.539771659, 0.0, 0.0, ...   SFB  \n",
       "3774  [[0.4868501577, 0.3822832708, 0.0, 0.0, 0.2966...   VAP  \n",
       "3784  [[1.10012998, 0.7647058824, 0.0, 0.0, 0.501364...   VAP  \n",
       "3787  [[0.3676142667, 0.3320816298, 0.0, 0.0, 0.5941...   SGB  \n",
       "\n",
       "[758 rows x 14 columns]"
      ]
     },
     "execution_count": 65,
     "metadata": {},
     "output_type": "execute_result"
    }
   ],
   "source": [
    "meta"
   ]
  },
  {
   "cell_type": "code",
   "execution_count": 63,
   "metadata": {},
   "outputs": [
    {
     "data": {
      "text/plain": [
       "array([2.45300e+04, 2.11610e+04, 2.29520e+04, 1.61540e+04, 5.88800e+03,\n",
       "       3.54360e+04, 1.29800e+03, 2.36000e+04, 1.62560e+04, 7.74400e+03,\n",
       "       1.73920e+04, 2.33600e+03, 2.93440e+04, 5.12000e+02, 8.32000e+02,\n",
       "       7.18400e+03, 6.08000e+02, 3.64800e+03, 1.53120e+04, 4.64000e+02,\n",
       "       9.45000e+02, 1.12000e+03, 1.69600e+03, 1.61160e+04, 2.15560e+04,\n",
       "       3.45600e+03, 1.03890e+04, 6.22900e+03, 8.16000e+02, 8.65600e+03,\n",
       "       1.88800e+03, 1.46880e+04, 5.18400e+03, 2.84800e+03, 1.81120e+04,\n",
       "       3.50100e+03, 1.29600e+03, 3.29600e+03, 2.51840e+04, 3.82400e+03,\n",
       "       2.00000e+03, 1.60000e+01, 2.83200e+03, 1.45600e+03, 1.57120e+04,\n",
       "       3.63200e+03, 2.07840e+04, 6.60800e+03, 1.40800e+03, 1.93600e+03,\n",
       "       1.23200e+03, 1.42400e+03, 1.00800e+03, 7.84000e+02, 7.23200e+03,\n",
       "       1.66080e+04, 8.43200e+03, 2.26880e+04, 4.64000e+03, 2.14400e+03,\n",
       "       6.24000e+02, 1.09500e+04, 2.44800e+03, 8.99200e+03, 3.63200e+03,\n",
       "       1.39200e+03, 8.19200e+03, 3.80800e+03, 3.04000e+02, 2.18080e+04,\n",
       "       9.28000e+02, 2.46400e+03, 4.96000e+03, 9.37600e+03, 7.58400e+03,\n",
       "       7.18000e+02, 3.20000e+02, 2.78200e+04, 4.80800e+03, 1.38300e+03,\n",
       "       6.68700e+03, 8.97400e+03, 1.85600e+03, 2.27200e+03, 1.10160e+04,\n",
       "       3.32800e+03, 9.33000e+02, 8.80000e+02, 2.52000e+04, 8.00000e+02,\n",
       "       1.02465e+04, 3.92000e+03, 4.03200e+03, 6.54400e+03, 8.16000e+02,\n",
       "       3.68640e+04, 4.00000e+02, 2.73600e+04, 1.08800e+03, 2.98240e+04,\n",
       "       2.15680e+04, 3.17760e+04, 4.80000e+02, 2.04160e+04, 1.03200e+04,\n",
       "       1.28000e+03, 2.72000e+02, 1.44000e+03, 5.44000e+02, 5.60000e+02,\n",
       "       1.92000e+03, 5.79200e+03, 2.89600e+03, 3.24800e+03, 2.94400e+03,\n",
       "       7.10400e+03, 3.63200e+03, 2.41600e+03, 2.08320e+04, 1.77120e+04,\n",
       "       1.07200e+03, 1.68000e+03, 5.32800e+03, 1.28000e+02, 1.16480e+04,\n",
       "       1.29600e+03, 1.12000e+03, 5.95200e+03, 2.73600e+03, 1.44000e+03,\n",
       "       2.97600e+03, 1.79200e+03, 1.79200e+03, 5.37600e+03, 1.76000e+03,\n",
       "       1.93600e+03, 1.10400e+03, 1.74400e+03, 7.16800e+03, 1.40800e+03,\n",
       "       3.95200e+03, 3.45600e+03, 3.52000e+03, 3.76000e+03, 8.08000e+03,\n",
       "       1.44000e+02, 2.88000e+04, 7.23200e+03, 1.10400e+03, 1.12160e+04,\n",
       "       6.56000e+02, 5.64800e+03, 2.75200e+03, 1.85600e+03, 1.31200e+03,\n",
       "       1.76000e+03, 2.25600e+03, 4.72000e+03, 2.88000e+03, 1.44160e+04,\n",
       "       4.48000e+02, 3.87200e+03, 8.27200e+03, 1.42400e+03, 6.67200e+03,\n",
       "       1.02400e+03, 3.52000e+02, 6.25600e+03, 1.60000e+02, 7.84000e+02,\n",
       "       1.79200e+03, 2.43200e+03, 4.64000e+02, 1.80800e+03, 8.00000e+02,\n",
       "       5.16800e+03, 2.29760e+04, 8.80000e+03, 1.24800e+03, 2.11200e+03,\n",
       "       5.71200e+03, 4.70400e+03, 1.05600e+03, 1.64800e+03, 2.17600e+03,\n",
       "       1.37600e+03, 2.41600e+03, 1.60000e+01, 2.27200e+03, 1.32960e+04,\n",
       "       3.04000e+03, 2.81280e+04, 3.53840e+04, 1.34400e+03, 9.88800e+03,\n",
       "       2.08000e+02, 1.92000e+02, 3.08900e+03, 2.76800e+03, 1.30880e+04,\n",
       "       1.16480e+04, 1.69600e+03, 7.20000e+02, 5.81000e+02, 2.72000e+02,\n",
       "       6.70000e+02, 1.76000e+02, 6.51000e+03, 6.54600e+03, 9.73700e+03,\n",
       "       5.66000e+02, 8.54400e+03, 3.63000e+02, 4.57000e+02, 9.24000e+02,\n",
       "       7.49000e+02, 1.54000e+02, 6.51000e+02, 1.12790e+04, 1.60000e+01,\n",
       "       8.20000e+01, 5.63500e+03, 9.00000e+01, 2.20000e+02, 2.86000e+02,\n",
       "       9.12700e+03, 2.53000e+02, 1.04400e+03, 6.60000e+02, 2.20000e+02,\n",
       "       5.70300e+03, 9.90000e+02, 6.60000e+01, 2.10320e+04, 4.08100e+03,\n",
       "       1.00430e+04, 5.72000e+03, 3.97100e+03, 2.17800e+03, 1.28700e+03,\n",
       "       1.50700e+03, 1.54000e+02, 1.82600e+03, 2.02400e+03, 1.21990e+04,\n",
       "       3.48040e+04, 1.28700e+03, 5.08200e+03, 6.55600e+03, 1.90300e+03,\n",
       "       1.11100e+03, 5.39000e+03, 1.16600e+04, 4.35600e+03, 2.31000e+03,\n",
       "       1.23200e+03, 2.56300e+03, 1.13080e+04, 3.54200e+03, 1.62800e+03,\n",
       "       4.07000e+02, 2.02400e+03, 6.05000e+02, 5.28000e+03, 6.71000e+02,\n",
       "       4.46600e+03, 2.61800e+03, 1.22100e+03, 1.00100e+04, 6.49000e+02,\n",
       "       8.36000e+02, 1.25400e+03, 8.25000e+02, 2.05480e+04, 8.10700e+03,\n",
       "       1.65000e+02, 2.05700e+03, 1.87000e+03, 6.82000e+02, 5.99500e+03,\n",
       "       1.98000e+02, 1.06590e+04, 2.75000e+03, 1.02300e+03, 2.40900e+03,\n",
       "       1.70610e+04, 3.66300e+03, 8.83300e+03, 6.88600e+03, 8.69000e+02,\n",
       "       1.98000e+03, 2.56300e+03, 2.83800e+03, 2.01300e+04, 4.56500e+03,\n",
       "       3.68500e+03, 4.26800e+03, 1.38600e+03, 2.17800e+03, 2.44200e+03,\n",
       "       6.12700e+03, 3.64100e+03, 6.16000e+02, 3.46940e+04, 2.42000e+02,\n",
       "       1.10000e+02, 2.76430e+04, 1.72700e+03, 2.81600e+03, 8.25000e+02,\n",
       "       4.18000e+02, 1.17700e+03, 5.80800e+03, 7.15000e+03, 4.86200e+03,\n",
       "       7.70000e+01, 3.96000e+02, 2.20000e+02, 2.82700e+03, 1.34200e+03,\n",
       "       2.07020e+04, 4.62000e+02, 2.94360e+04, 5.04900e+03, 2.42000e+03,\n",
       "       1.15500e+03, 1.24300e+03, 1.10000e+02, 4.40000e+01, 1.43000e+02,\n",
       "       4.40000e+01, 2.78300e+03, 1.54330e+04, 4.95000e+02, 1.91400e+03,\n",
       "       4.21300e+03, 1.36400e+03, 1.13300e+03, 7.81000e+03, 3.30000e+02,\n",
       "       1.36400e+03, 2.44200e+03, 1.18800e+03, 1.70500e+03, 4.07000e+02,\n",
       "       5.72000e+02, 3.98200e+03, 6.44600e+03, 1.37500e+03, 1.28700e+03,\n",
       "       1.67200e+03, 1.28700e+03, 1.32660e+04, 3.63000e+02, 3.31100e+03,\n",
       "       7.59000e+02, 2.26600e+03, 4.22400e+03, 3.32200e+03, 7.26000e+02,\n",
       "       1.56200e+03, 2.42000e+03, 3.44300e+03, 7.86800e+03, 5.21400e+03,\n",
       "       3.87700e+03, 3.27800e+03, 5.30400e+03, 1.67200e+03, 2.07900e+03,\n",
       "       1.51110e+04, 3.30350e+04, 1.04940e+04, 4.40000e+02, 1.18030e+04,\n",
       "       5.17000e+02, 1.72480e+04, 1.48500e+03, 2.44200e+03, 6.68200e+03,\n",
       "       2.70900e+03, 9.63600e+03, 1.62700e+03, 3.41000e+02, 1.44100e+03,\n",
       "       5.28000e+02, 2.97000e+02, 2.77640e+04, 5.14800e+03, 2.36390e+04,\n",
       "       1.22100e+04, 3.19000e+02, 2.94800e+03, 1.74900e+03, 1.55100e+03,\n",
       "       9.46000e+02, 4.34500e+03, 2.48600e+03, 2.64000e+02, 1.41350e+04,\n",
       "       4.59800e+03, 2.00200e+03, 2.13950e+04, 1.81500e+03, 1.69400e+03,\n",
       "       7.15000e+02, 1.69400e+03, 1.92060e+04, 3.11300e+03, 8.03000e+02,\n",
       "       1.05600e+03, 9.61400e+03, 2.06030e+04, 3.86100e+03, 7.48000e+02,\n",
       "       2.04600e+03, 1.95800e+03, 5.50000e+03, 1.25290e+04, 4.25700e+03,\n",
       "       2.21100e+03, 1.41900e+03, 1.03840e+04, 1.26390e+04, 2.46840e+04,\n",
       "       2.28470e+04, 1.43000e+03, 2.98100e+03, 1.98000e+02, 7.70000e+02,\n",
       "       1.03400e+03, 1.24300e+03, 2.35400e+03, 5.52000e+02, 6.60000e+02,\n",
       "       4.62000e+02, 7.48000e+02, 2.45000e+03, 5.38600e+03, 2.15800e+03,\n",
       "       3.19800e+03, 2.09900e+03, 3.30000e+01, 1.43000e+03, 8.46500e+03,\n",
       "       1.61590e+04, 1.70500e+03, 8.20600e+03, 3.08000e+02, 1.98600e+03,\n",
       "       6.82000e+02, 7.82700e+03, 2.65100e+03, 3.33600e+03, 1.93280e+04,\n",
       "       1.13300e+03, 1.22650e+04, 3.28900e+03, 2.09000e+02, 7.70000e+01,\n",
       "       5.50000e+02, 2.15100e+03, 6.60000e+02, 4.40000e+01, 4.40000e+01,\n",
       "       4.62000e+02, 2.44200e+03, 1.57260e+04, 2.20000e+02, 1.24300e+03,\n",
       "       2.13800e+03, 4.57400e+03, 1.19460e+04, 1.46900e+03, 1.79190e+04,\n",
       "       7.59000e+02, 1.42090e+04, 3.12000e+02, 1.84300e+03, 1.09300e+04,\n",
       "       2.25500e+03, 1.52900e+03, 3.67000e+02, 1.08350e+04, 1.08900e+03,\n",
       "       2.86000e+02, 9.38000e+02, 7.81000e+02, 6.60000e+01, 1.02300e+03,\n",
       "       2.31000e+02, 2.07570e+04, 3.52000e+02, 9.10800e+03, 1.33420e+04,\n",
       "       2.58000e+02, 3.09000e+02, 1.90640e+04, 1.28700e+03, 1.12000e+03,\n",
       "       6.82000e+02, 5.72000e+02, 8.80000e+01, 2.31000e+02, 2.75000e+02,\n",
       "       3.30000e+01, 8.45200e+03, 9.90000e+01, 4.32300e+03, 3.35500e+03,\n",
       "       1.57300e+03, 1.10000e+01, 2.20000e+02, 2.28460e+04, 8.07600e+03,\n",
       "       4.71100e+03, 1.53000e+03, 4.79000e+02, 2.69500e+03, 2.09340e+04,\n",
       "       1.59670e+04, 3.81000e+02, 5.80000e+01, 9.84600e+03, 3.66200e+03,\n",
       "       1.14200e+03, 1.14240e+04, 3.23870e+04, 4.98100e+03, 1.72700e+03,\n",
       "       2.74900e+03, 4.30000e+02, 8.50000e+02, 2.34500e+03, 2.90600e+03,\n",
       "       2.96500e+03, 1.38980e+04, 2.47600e+03, 7.01000e+02, 1.58700e+03,\n",
       "       1.48880e+04, 1.05980e+04, 7.64000e+02, 4.96000e+02, 1.26860e+04,\n",
       "       2.40000e+03, 2.41990e+04, 9.97000e+02, 5.43000e+02, 2.50200e+03,\n",
       "       1.29770e+04, 8.60600e+03, 8.11900e+03, 2.72670e+04, 2.34920e+04,\n",
       "       4.60300e+03, 7.36300e+03, 1.35020e+04, 4.67000e+02, 2.37000e+02,\n",
       "       8.87000e+02, 5.11000e+02, 8.20000e+02, 1.05800e+03, 1.57970e+04,\n",
       "       1.95900e+03, 3.20000e+02, 9.40000e+02, 1.09100e+03, 3.06480e+04,\n",
       "       6.36300e+03, 2.39050e+04, 7.41000e+02, 2.85200e+03, 1.73380e+04,\n",
       "       3.35500e+03, 1.20900e+03, 4.84000e+02, 1.29500e+03, 9.23000e+02,\n",
       "       7.75000e+02, 1.36900e+03, 1.30000e+01, 3.89800e+03, 3.21000e+03,\n",
       "       7.32000e+02, 1.32000e+03, 5.36000e+02, 1.42000e+02, 9.10000e+02,\n",
       "       1.51670e+04, 1.10790e+04, 3.09000e+02, 1.20100e+04, 1.05800e+03,\n",
       "       6.12000e+03, 8.44000e+02, 1.03740e+04, 1.96420e+04, 2.15100e+03,\n",
       "       1.11890e+04, 1.08170e+04, 3.24500e+04, 1.03000e+03, 9.57000e+02,\n",
       "       6.48000e+02, 7.59000e+02, 3.42100e+03, 2.88800e+03, 2.75000e+02,\n",
       "       1.61000e+03, 1.73700e+03, 5.15000e+03, 1.32270e+04, 3.54700e+03,\n",
       "       1.89900e+03, 5.63700e+03, 2.64970e+04, 6.96500e+03, 3.73700e+03,\n",
       "       6.79000e+02, 2.32400e+03, 1.18900e+03, 1.09290e+04, 4.88500e+03,\n",
       "       1.04890e+04, 4.34000e+02, 3.28000e+03, 1.28200e+03, 9.10000e+01,\n",
       "       2.70990e+04, 9.45100e+03, 5.50000e+02, 2.62000e+02, 8.15000e+02,\n",
       "       1.18400e+03, 1.31600e+03, 1.63600e+03, 2.92300e+03, 2.16400e+03,\n",
       "       2.09000e+02, 2.78500e+03, 1.08300e+03, 1.87000e+02, 1.86900e+03,\n",
       "       6.24000e+02, 1.76090e+04, 4.40000e+01, 4.63000e+02, 2.48700e+03,\n",
       "       3.60000e+02, 9.61700e+03, 5.75000e+02, 1.28100e+04, 8.22000e+02,\n",
       "       9.49000e+02, 2.30800e+03, 1.12600e+03, 3.42000e+02, 3.88700e+03,\n",
       "       3.40200e+03, 1.09800e+03, 1.46500e+03, 9.23000e+02, 3.92900e+03,\n",
       "       4.33000e+02, 3.30000e+02, 1.26900e+03, 3.05800e+03, 9.43000e+03,\n",
       "       8.22100e+03, 3.25100e+03, 2.33380e+04, 1.37980e+04, 1.72910e+04,\n",
       "       1.02000e+03, 8.35000e+02, 8.88000e+02, 7.54000e+02, 4.18000e+02,\n",
       "       2.13670e+04, 1.34500e+03, 2.67530e+04, 8.31000e+02, 9.98000e+02,\n",
       "       4.83300e+03, 3.93400e+03, 1.74370e+04, 1.53240e+04, 8.28000e+02,\n",
       "       1.38400e+03, 1.65500e+03, 4.17100e+03, 2.24000e+02, 1.74200e+03,\n",
       "       5.02000e+02, 2.34600e+03, 1.04840e+04, 9.01000e+02, 5.06000e+02,\n",
       "       1.40000e+02, 2.10330e+04, 2.37400e+03, 4.25200e+03, 4.66500e+03,\n",
       "       1.27600e+04, 1.95400e+03, 9.42700e+03, 2.96800e+03, 6.00000e+01,\n",
       "       9.79000e+02, 7.51700e+03, 1.11000e+03, 1.20650e+04, 4.86000e+02,\n",
       "       1.21000e+02, 9.60500e+03, 5.46000e+02, 8.27000e+02, 1.38950e+04,\n",
       "       4.80000e+02, 1.09400e+03, 2.00735e+04, 1.48110e+04, 2.20000e+02,\n",
       "       4.00100e+03, 2.16700e+03, 1.14300e+03, 1.65620e+04, 1.96000e+02,\n",
       "       6.90000e+02, 5.30000e+02, 1.01660e+04, 7.70000e+01, 7.05700e+03,\n",
       "       2.83410e+04, 1.08160e+04, 1.28600e+04, 2.63800e+03, 6.39800e+03,\n",
       "       2.99040e+04, 1.08750e+04, 2.04300e+03, 3.56700e+03, 1.91420e+04,\n",
       "       9.70500e+03, 7.94000e+02, 1.53720e+04, 2.11730e+04, 1.66870e+04,\n",
       "       2.82080e+04, 6.08800e+03, 9.38000e+03, 1.17000e+02, 3.85200e+03,\n",
       "       3.48800e+03, 1.13800e+03, 7.78900e+03], dtype=float32)"
      ]
     },
     "execution_count": 63,
     "metadata": {},
     "output_type": "execute_result"
    }
   ],
   "source": [
    "actuals"
   ]
  },
  {
   "cell_type": "code",
   "execution_count": null,
   "metadata": {},
   "outputs": [],
   "source": []
  }
 ],
 "metadata": {
  "kernelspec": {
   "display_name": "cherry",
   "language": "python",
   "name": "python3"
  },
  "language_info": {
   "codemirror_mode": {
    "name": "ipython",
    "version": 3
   },
   "file_extension": ".py",
   "mimetype": "text/x-python",
   "name": "python",
   "nbconvert_exporter": "python",
   "pygments_lexer": "ipython3",
   "version": "3.10.15"
  }
 },
 "nbformat": 4,
 "nbformat_minor": 2
}
