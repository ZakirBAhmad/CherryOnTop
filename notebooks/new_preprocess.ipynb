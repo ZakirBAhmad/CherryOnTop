{
 "cells": [
  {
   "cell_type": "code",
   "execution_count": 1,
   "metadata": {},
   "outputs": [],
   "source": [
    "import sys\n",
    "import os\n",
    "\n",
    "# Add the parent directory to sys.path\n",
    "sys.path.append(os.path.abspath('..'))"
   ]
  },
  {
   "cell_type": "code",
   "execution_count": 2,
   "metadata": {},
   "outputs": [],
   "source": [
    "import pandas as pd\n",
    "import numpy as np\n",
    "import torch"
   ]
  },
  {
   "cell_type": "code",
   "execution_count": 3,
   "metadata": {},
   "outputs": [],
   "source": [
    "import src.load as load\n",
    "import src.dataset as ds\n"
   ]
  },
  {
   "cell_type": "code",
   "execution_count": 4,
   "metadata": {},
   "outputs": [],
   "source": [
    "import src.load as load\n",
    "from src.dataset import HarvestDataset\n",
    "meta, y, mappings, reverse_mappings  = load.load_data('../data/processed/')\n"
   ]
  },
  {
   "cell_type": "code",
   "execution_count": 5,
   "metadata": {},
   "outputs": [
    {
     "data": {
      "text/plain": [
       "0        0\n",
       "1        1\n",
       "2        0\n",
       "3        2\n",
       "4        3\n",
       "        ..\n",
       "3947    29\n",
       "3948    56\n",
       "3949    47\n",
       "3950    47\n",
       "3951    21\n",
       "Name: Variety, Length: 3952, dtype: int64"
      ]
     },
     "execution_count": 5,
     "metadata": {},
     "output_type": "execute_result"
    }
   ],
   "source": [
    "meta.Variety.map(mappings['Variety'])"
   ]
  },
  {
   "cell_type": "code",
   "execution_count": 51,
   "metadata": {},
   "outputs": [],
   "source": [
    "\n"
   ]
  },
  {
   "cell_type": "code",
   "execution_count": 6,
   "metadata": {},
   "outputs": [],
   "source": [
    "features = np.column_stack([\n",
    "    meta['Ha'].to_numpy(),  # Hectares\n",
    "    meta['Week_Sin'].to_numpy(),  # Week sine\n",
    "    meta['Week_Cos'].to_numpy(),  # Week cosine\n",
    "    meta['Year'].to_numpy() - 2010,                  # Year\n",
    "    np.ones(len(meta))                    # Constant feature\n",
    "])\n",
    "mapped_arrays = [meta[column].astype(str).map(mappings[column]).to_numpy() for column in ['ProducerCode','Parcel','Lot','Class','Type','Variety']]\n",
    "encoded_features = np.column_stack(mapped_arrays)\n",
    "\n",
    "climate_data = np.array(meta.ClimateSeries.to_list())\n",
    "y_kilos = y.to_numpy()\n",
    "\n"
   ]
  },
  {
   "cell_type": "code",
   "execution_count": 7,
   "metadata": {},
   "outputs": [],
   "source": [
    "dataset = HarvestDataset(\n",
    "    features,\n",
    "    encoded_features,\n",
    "    climate_data,\n",
    "    y_kilos\n",
    ")"
   ]
  },
  {
   "cell_type": "code",
   "execution_count": null,
   "metadata": {},
   "outputs": [],
   "source": []
  }
 ],
 "metadata": {
  "kernelspec": {
   "display_name": "cherry",
   "language": "python",
   "name": "python3"
  },
  "language_info": {
   "codemirror_mode": {
    "name": "ipython",
    "version": 3
   },
   "file_extension": ".py",
   "mimetype": "text/x-python",
   "name": "python",
   "nbconvert_exporter": "python",
   "pygments_lexer": "ipython3",
   "version": "3.10.15"
  }
 },
 "nbformat": 4,
 "nbformat_minor": 2
}
