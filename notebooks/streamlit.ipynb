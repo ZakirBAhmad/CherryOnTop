{
 "cells": [
  {
   "cell_type": "code",
   "execution_count": 1,
   "metadata": {},
   "outputs": [],
   "source": [
    "import sys\n",
    "import os\n",
    "sys.path.append(os.path.abspath('..'))"
   ]
  },
  {
   "cell_type": "code",
   "execution_count": 2,
   "metadata": {},
   "outputs": [],
   "source": [
    "import torch\n",
    "import src.load as load\n",
    "import numpy as np\n",
    "\n",
    "import app.utils as utils\n",
    "import pandas as pd\n",
    "import src.table as table\n"
   ]
  },
  {
   "cell_type": "code",
   "execution_count": 3,
   "metadata": {},
   "outputs": [],
   "source": [
    "folder_path = \"../app/models\""
   ]
  },
  {
   "cell_type": "code",
   "execution_count": 4,
   "metadata": {},
   "outputs": [
    {
     "name": "stderr",
     "output_type": "stream",
     "text": [
      "/Users/zakir/anaconda3/envs/cherry/lib/python3.10/site-packages/torch/nn/utils/weight_norm.py:143: FutureWarning: `torch.nn.utils.weight_norm` is deprecated in favor of `torch.nn.utils.parametrizations.weight_norm`.\n",
      "  WeightNorm.apply(module, name, dim)\n"
     ]
    }
   ],
   "source": [
    "models = utils.load_models(folder_path)\n"
   ]
  },
  {
   "cell_type": "code",
   "execution_count": 5,
   "metadata": {},
   "outputs": [],
   "source": [
    "train_dataset, test_dataset, mapping_dict, reverse_mappings, train_meta, test_meta = load.separate_year('../data/processed/')"
   ]
  },
  {
   "cell_type": "code",
   "execution_count": 6,
   "metadata": {},
   "outputs": [],
   "source": [
    "transplant_weeks = test_meta['WeekTransplanted']"
   ]
  },
  {
   "cell_type": "code",
   "execution_count": 7,
   "metadata": {},
   "outputs": [],
   "source": [
    "pred_path = \"../app/preds\""
   ]
  },
  {
   "cell_type": "code",
   "execution_count": 12,
   "metadata": {},
   "outputs": [],
   "source": [
    "week_list = os.listdir(pred_path)"
   ]
  },
  {
   "cell_type": "code",
   "execution_count": 17,
   "metadata": {},
   "outputs": [],
   "source": [
    "num_preds = len(week_list)\n",
    "num_plantings = len(test_dataset)"
   ]
  },
  {
   "cell_type": "code",
   "execution_count": 14,
   "metadata": {},
   "outputs": [],
   "source": [
    "num_weeks = 40"
   ]
  },
  {
   "cell_type": "code",
   "execution_count": 16,
   "metadata": {},
   "outputs": [],
   "source": [
    "transplant_weeks = test_meta['WeekTransplanted']"
   ]
  },
  {
   "cell_type": "code",
   "execution_count": 26,
   "metadata": {},
   "outputs": [],
   "source": [
    "idxs = table.create_indices_dict(test_meta)\n",
    "bsuf_idx = idxs['Class']['BSUF']"
   ]
  },
  {
   "cell_type": "code",
   "execution_count": 78,
   "metadata": {},
   "outputs": [],
   "source": [
    "agg_kilo_preds = np.zeros((num_plantings, num_preds,num_weeks))\n",
    "agg_sched_preds = np.zeros((num_plantings, num_preds, 5))"
   ]
  },
  {
   "cell_type": "code",
   "execution_count": 81,
   "metadata": {},
   "outputs": [],
   "source": [
    "for week in week_list:\n",
    "    week_path = os.path.join(pred_path, week)\n",
    "    week_idx = int(week.split('_')[-1]) - 1\n",
    "    for file in os.listdir(week_path):\n",
    "        if 'kilo_preds' in file:\n",
    "            preds = pd.read_csv(os.path.join(week_path, file),index_col=0).values\n",
    "            agg_kilo_preds[:,week_idx,:] = preds\n",
    "        elif 'sched_preds' in file:\n",
    "            preds = pd.read_csv(os.path.join(week_path, file),index_col=0).values\n",
    "            agg_sched_preds[:,week_idx,:] = preds\n",
    "        else:\n",
    "            print('eeker casillas')"
   ]
  },
  {
   "cell_type": "code",
   "execution_count": 83,
   "metadata": {},
   "outputs": [
    {
     "data": {
      "text/plain": [
       "array([[[ 6.24236298e+01,  2.93248348e+01, -3.07660255e+01, ...,\n",
       "          1.95476489e+03,  1.75148486e+03,  1.79947620e+03],\n",
       "        [ 6.24236298e+01,  2.93248348e+01, -3.07660255e+01, ...,\n",
       "          1.95476489e+03,  1.75148486e+03,  1.79947620e+03],\n",
       "        [ 6.24236298e+01,  2.93248348e+01, -3.07660255e+01, ...,\n",
       "          1.95476489e+03,  1.75148486e+03,  1.79947620e+03],\n",
       "        ...,\n",
       "        [ 2.20625706e+01, -1.54256149e+02, -6.21294098e+01, ...,\n",
       "          2.20714893e+03,  2.11360767e+03,  2.29231030e+03],\n",
       "        [ 2.20625706e+01, -1.54256149e+02, -6.21294098e+01, ...,\n",
       "          2.20714893e+03,  2.11360767e+03,  2.29231030e+03],\n",
       "        [ 2.20625706e+01, -1.54256149e+02, -6.21294098e+01, ...,\n",
       "          2.20714893e+03,  2.11360767e+03,  2.29231030e+03]],\n",
       "\n",
       "       [[ 9.20294285e+00, -1.34544449e+01,  1.88214636e+00, ...,\n",
       "          6.93985779e+02,  7.16510925e+02,  6.88871582e+02],\n",
       "        [ 9.20294285e+00, -1.34544449e+01,  1.88214636e+00, ...,\n",
       "          6.93985779e+02,  7.16510925e+02,  6.88871582e+02],\n",
       "        [ 9.20294285e+00, -1.34544449e+01,  1.88214636e+00, ...,\n",
       "          6.93985779e+02,  7.16510925e+02,  6.88871582e+02],\n",
       "        ...,\n",
       "        [ 2.21351776e+01, -6.16969566e+01, -1.08187952e+01, ...,\n",
       "          8.05719360e+02,  7.96757019e+02,  8.52790771e+02],\n",
       "        [ 2.21351776e+01, -6.16969566e+01, -1.08187952e+01, ...,\n",
       "          8.05719360e+02,  7.96757019e+02,  8.52790771e+02],\n",
       "        [ 2.21351776e+01, -6.16969566e+01, -1.08187952e+01, ...,\n",
       "          8.05719360e+02,  7.96757019e+02,  8.52790771e+02]],\n",
       "\n",
       "       [[ 1.83004494e+01, -8.50407505e+00, -1.59385214e+01, ...,\n",
       "          6.57140076e+02,  6.44705688e+02,  6.49102661e+02],\n",
       "        [ 1.83004494e+01, -8.50407505e+00, -1.59385214e+01, ...,\n",
       "          6.57140076e+02,  6.44705688e+02,  6.49102661e+02],\n",
       "        [ 1.83004494e+01, -8.50407505e+00, -1.59385214e+01, ...,\n",
       "          6.57140076e+02,  6.44705688e+02,  6.49102661e+02],\n",
       "        ...,\n",
       "        [-1.53741226e+01, -2.44329453e+01,  1.96057377e+01, ...,\n",
       "          1.03555383e+03,  1.04259131e+03,  1.12188647e+03],\n",
       "        [-1.53741226e+01, -2.44329453e+01,  1.96057377e+01, ...,\n",
       "          1.03555383e+03,  1.04259131e+03,  1.12188647e+03],\n",
       "        [-1.53741226e+01, -2.44329453e+01,  1.96057377e+01, ...,\n",
       "          1.03555383e+03,  1.04259131e+03,  1.12188647e+03]],\n",
       "\n",
       "       ...,\n",
       "\n",
       "       [[-4.07320404e+00,  9.94696808e+01,  1.16931133e+01, ...,\n",
       "          8.51124390e+02,  7.64529724e+02,  8.17556519e+02],\n",
       "        [-4.07320404e+00,  9.94696808e+01,  1.16931133e+01, ...,\n",
       "          8.51124390e+02,  7.64529724e+02,  8.17556519e+02],\n",
       "        [-4.07320404e+00,  9.94696808e+01,  1.16931133e+01, ...,\n",
       "          8.51124390e+02,  7.64529724e+02,  8.17556519e+02],\n",
       "        ...,\n",
       "        [ 3.99800706e+00, -4.17472725e+01,  2.82388420e+01, ...,\n",
       "          5.42354553e+02,  4.88504242e+02,  4.23303772e+02],\n",
       "        [ 3.43157883e+01, -5.51282539e+01,  1.76860130e+00, ...,\n",
       "          8.67053894e+02,  8.54794067e+02,  9.29504639e+02],\n",
       "        [ 3.43157883e+01, -5.51282539e+01,  1.76860130e+00, ...,\n",
       "          8.67053894e+02,  8.54794067e+02,  9.29504639e+02]],\n",
       "\n",
       "       [[-9.97181177e-01,  6.57838392e+00,  7.43388593e-01, ...,\n",
       "          5.52778015e+01,  4.94920807e+01,  5.29958839e+01],\n",
       "        [-9.97181177e-01,  6.57838392e+00,  7.43388593e-01, ...,\n",
       "          5.52778015e+01,  4.94920807e+01,  5.29958839e+01],\n",
       "        [-9.97181177e-01,  6.57838392e+00,  7.43388593e-01, ...,\n",
       "          5.52778015e+01,  4.94920807e+01,  5.29958839e+01],\n",
       "        ...,\n",
       "        [ 2.34416381e-01, -1.26494718e+00,  9.68021572e-01, ...,\n",
       "          1.60808830e+01,  1.43981609e+01,  1.27144299e+01],\n",
       "        [ 1.29639816e+00, -2.07436037e+00,  3.42187524e-01, ...,\n",
       "          2.93477249e+01,  2.90594215e+01,  3.15811195e+01],\n",
       "        [ 1.29639816e+00, -2.07436037e+00,  3.42187524e-01, ...,\n",
       "          2.93477249e+01,  2.90594215e+01,  3.15811195e+01]],\n",
       "\n",
       "       [[ 1.69192564e+00,  3.51402893e+01,  2.56384063e+00, ...,\n",
       "          4.13808319e+02,  4.13831635e+02,  4.28350464e+02],\n",
       "        [ 1.69192564e+00,  3.51402893e+01,  2.56384063e+00, ...,\n",
       "          4.13808319e+02,  4.13831635e+02,  4.28350464e+02],\n",
       "        [ 1.69192564e+00,  3.51402893e+01,  2.56384063e+00, ...,\n",
       "          4.13808319e+02,  4.13831635e+02,  4.28350464e+02],\n",
       "        ...,\n",
       "        [ 2.49753304e+01, -3.47735176e+01,  2.29300251e+01, ...,\n",
       "          7.27379883e+02,  6.85988647e+02,  6.03804138e+02],\n",
       "        [ 2.49789467e+01, -2.38122234e+01,  3.17215276e+00, ...,\n",
       "          6.17051025e+02,  6.42527832e+02,  6.79238037e+02],\n",
       "        [ 2.49789467e+01, -2.38122234e+01,  3.17215276e+00, ...,\n",
       "          6.17051025e+02,  6.42527832e+02,  6.79238037e+02]]])"
      ]
     },
     "execution_count": 83,
     "metadata": {},
     "output_type": "execute_result"
    }
   ],
   "source": [
    "agg_kilo_preds"
   ]
  },
  {
   "cell_type": "code",
   "execution_count": 84,
   "metadata": {},
   "outputs": [],
   "source": [
    "actual_kilos = np.round((torch.exp(test_dataset.yield_dist.view(-1, 40)) - 1).numpy() * test_dataset.features[:,0].view(-1,1).numpy())\n",
    "actual_sched = test_dataset.Y_schedule.numpy()"
   ]
  },
  {
   "cell_type": "code",
   "execution_count": 74,
   "metadata": {},
   "outputs": [
    {
     "data": {
      "text/plain": [
       "(176, 40)"
      ]
     },
     "execution_count": 74,
     "metadata": {},
     "output_type": "execute_result"
    }
   ],
   "source": [
    "actual_kilos.shape"
   ]
  },
  {
   "cell_type": "code",
   "execution_count": null,
   "metadata": {},
   "outputs": [],
   "source": []
  }
 ],
 "metadata": {
  "kernelspec": {
   "display_name": "cherry",
   "language": "python",
   "name": "python3"
  },
  "language_info": {
   "codemirror_mode": {
    "name": "ipython",
    "version": 3
   },
   "file_extension": ".py",
   "mimetype": "text/x-python",
   "name": "python",
   "nbconvert_exporter": "python",
   "pygments_lexer": "ipython3",
   "version": "3.10.15"
  }
 },
 "nbformat": 4,
 "nbformat_minor": 2
}
