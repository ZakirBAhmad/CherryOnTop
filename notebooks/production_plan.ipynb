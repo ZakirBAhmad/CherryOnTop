{
 "cells": [
  {
   "cell_type": "code",
   "execution_count": 1,
   "metadata": {},
   "outputs": [],
   "source": [
    "import sys\n",
    "import os\n",
    "\n",
    "sys.path.append(os.path.abspath('..'))"
   ]
  },
  {
   "cell_type": "code",
   "execution_count": 17,
   "metadata": {},
   "outputs": [],
   "source": [
    "import pandas as pd\n",
    "import numpy as np\n",
    "import torch\n",
    "\n",
    "import src.preprocessing as pre\n",
    "import plotly.graph_objects as go\n",
    "import src.utils as utils"
   ]
  },
  {
   "cell_type": "markdown",
   "metadata": {},
   "source": [
    "set production plan"
   ]
  },
  {
   "cell_type": "code",
   "execution_count": 3,
   "metadata": {},
   "outputs": [],
   "source": [
    "train, test, mappings, meta = pre.separate_year('../data/meta.json','../data/y.csv','../data/mappings.json')\n"
   ]
  },
  {
   "cell_type": "code",
   "execution_count": 4,
   "metadata": {},
   "outputs": [
    {
     "data": {
      "text/html": [
       "<div>\n",
       "<style scoped>\n",
       "    .dataframe tbody tr th:only-of-type {\n",
       "        vertical-align: middle;\n",
       "    }\n",
       "\n",
       "    .dataframe tbody tr th {\n",
       "        vertical-align: top;\n",
       "    }\n",
       "\n",
       "    .dataframe thead th {\n",
       "        text-align: right;\n",
       "    }\n",
       "</style>\n",
       "<table border=\"1\" class=\"dataframe\">\n",
       "  <thead>\n",
       "    <tr style=\"text-align: right;\">\n",
       "      <th></th>\n",
       "      <th>Year</th>\n",
       "      <th>WeekTransplanted</th>\n",
       "      <th>Ranch</th>\n",
       "      <th>Class</th>\n",
       "      <th>Type</th>\n",
       "      <th>Variety</th>\n",
       "      <th>Ha</th>\n",
       "    </tr>\n",
       "  </thead>\n",
       "  <tbody>\n",
       "    <tr>\n",
       "      <th>0</th>\n",
       "      <td>2024</td>\n",
       "      <td>4</td>\n",
       "      <td>VAP</td>\n",
       "      <td>BSUF</td>\n",
       "      <td>Uva Roja</td>\n",
       "      <td>King</td>\n",
       "      <td>0.8280</td>\n",
       "    </tr>\n",
       "    <tr>\n",
       "      <th>1</th>\n",
       "      <td>2024</td>\n",
       "      <td>4</td>\n",
       "      <td>VAP</td>\n",
       "      <td>BSUF</td>\n",
       "      <td>Uva Roja</td>\n",
       "      <td>Prince</td>\n",
       "      <td>0.4416</td>\n",
       "    </tr>\n",
       "    <tr>\n",
       "      <th>2</th>\n",
       "      <td>2024</td>\n",
       "      <td>4</td>\n",
       "      <td>VAP</td>\n",
       "      <td>CHE</td>\n",
       "      <td>Cherry Rojo</td>\n",
       "      <td>Tymoty</td>\n",
       "      <td>0.4224</td>\n",
       "    </tr>\n",
       "    <tr>\n",
       "      <th>3</th>\n",
       "      <td>2024</td>\n",
       "      <td>6</td>\n",
       "      <td>VAP</td>\n",
       "      <td>BSUF</td>\n",
       "      <td>Uva Roja</td>\n",
       "      <td>King</td>\n",
       "      <td>0.4500</td>\n",
       "    </tr>\n",
       "    <tr>\n",
       "      <th>4</th>\n",
       "      <td>2024</td>\n",
       "      <td>6</td>\n",
       "      <td>VAP</td>\n",
       "      <td>CHE</td>\n",
       "      <td>Cherry Rojo</td>\n",
       "      <td>Tymoty</td>\n",
       "      <td>0.4800</td>\n",
       "    </tr>\n",
       "    <tr>\n",
       "      <th>...</th>\n",
       "      <td>...</td>\n",
       "      <td>...</td>\n",
       "      <td>...</td>\n",
       "      <td>...</td>\n",
       "      <td>...</td>\n",
       "      <td>...</td>\n",
       "      <td>...</td>\n",
       "    </tr>\n",
       "    <tr>\n",
       "      <th>134</th>\n",
       "      <td>2024</td>\n",
       "      <td>29</td>\n",
       "      <td>VAP</td>\n",
       "      <td>CHE</td>\n",
       "      <td>Cherry Rojo</td>\n",
       "      <td>Tymoty</td>\n",
       "      <td>0.1764</td>\n",
       "    </tr>\n",
       "    <tr>\n",
       "      <th>135</th>\n",
       "      <td>2024</td>\n",
       "      <td>30</td>\n",
       "      <td>VAP</td>\n",
       "      <td>CHE</td>\n",
       "      <td>Cherry Naranja</td>\n",
       "      <td>Top 2417</td>\n",
       "      <td>0.1805</td>\n",
       "    </tr>\n",
       "    <tr>\n",
       "      <th>136</th>\n",
       "      <td>2024</td>\n",
       "      <td>31</td>\n",
       "      <td>SGB</td>\n",
       "      <td>BSUF</td>\n",
       "      <td>Uva Roja</td>\n",
       "      <td>King</td>\n",
       "      <td>0.5100</td>\n",
       "    </tr>\n",
       "    <tr>\n",
       "      <th>137</th>\n",
       "      <td>2024</td>\n",
       "      <td>31</td>\n",
       "      <td>SGB</td>\n",
       "      <td>BSUF</td>\n",
       "      <td>Uva Roja</td>\n",
       "      <td>King</td>\n",
       "      <td>0.0306</td>\n",
       "    </tr>\n",
       "    <tr>\n",
       "      <th>138</th>\n",
       "      <td>2024</td>\n",
       "      <td>31</td>\n",
       "      <td>SGB</td>\n",
       "      <td>CHE</td>\n",
       "      <td>Cherry Rojo</td>\n",
       "      <td>Tymoty</td>\n",
       "      <td>0.3978</td>\n",
       "    </tr>\n",
       "  </tbody>\n",
       "</table>\n",
       "<p>139 rows × 7 columns</p>\n",
       "</div>"
      ],
      "text/plain": [
       "     Year  WeekTransplanted Ranch Class            Type   Variety      Ha\n",
       "0    2024                 4   VAP  BSUF        Uva Roja      King  0.8280\n",
       "1    2024                 4   VAP  BSUF        Uva Roja    Prince  0.4416\n",
       "2    2024                 4   VAP   CHE     Cherry Rojo    Tymoty  0.4224\n",
       "3    2024                 6   VAP  BSUF        Uva Roja      King  0.4500\n",
       "4    2024                 6   VAP   CHE     Cherry Rojo    Tymoty  0.4800\n",
       "..    ...               ...   ...   ...             ...       ...     ...\n",
       "134  2024                29   VAP   CHE     Cherry Rojo    Tymoty  0.1764\n",
       "135  2024                30   VAP   CHE  Cherry Naranja  Top 2417  0.1805\n",
       "136  2024                31   SGB  BSUF        Uva Roja      King  0.5100\n",
       "137  2024                31   SGB  BSUF        Uva Roja      King  0.0306\n",
       "138  2024                31   SGB   CHE     Cherry Rojo    Tymoty  0.3978\n",
       "\n",
       "[139 rows x 7 columns]"
      ]
     },
     "execution_count": 4,
     "metadata": {},
     "output_type": "execute_result"
    }
   ],
   "source": [
    "production_plan = pre.decode(meta,mappings)[['Year','WeekTransplanted','Ranch','Class','Type','Variety','Ha']]\n",
    "\n",
    "production_plan.reset_index(drop=True)"
   ]
  },
  {
   "cell_type": "markdown",
   "metadata": {},
   "source": [
    "create summary by class/type, summary by ranch/class/type"
   ]
  },
  {
   "cell_type": "code",
   "execution_count": 5,
   "metadata": {},
   "outputs": [],
   "source": [
    "summary_ranch = production_plan.groupby(['Ranch','Class','Type']).agg(\n",
    "    {'Ha':'sum',\n",
    "     'WeekTransplanted':['min','max','count']\n",
    "})\n",
    "\n",
    "summary_class = production_plan.groupby(['Class','Type']).agg(\n",
    "    {'Ha':'sum',\n",
    "     'WeekTransplanted':['min','max','nunique'],\n",
    "     'Ranch':'nunique'\n",
    "})\n",
    "\n",
    "summary_class_ranch = production_plan.groupby(['Class','Type','Ranch']).agg(\n",
    "    {'Ha':'sum',\n",
    "     'WeekTransplanted':['min','max','count']\n",
    "})"
   ]
  },
  {
   "cell_type": "code",
   "execution_count": 6,
   "metadata": {},
   "outputs": [
    {
     "data": {
      "text/html": [
       "<div>\n",
       "<style scoped>\n",
       "    .dataframe tbody tr th:only-of-type {\n",
       "        vertical-align: middle;\n",
       "    }\n",
       "\n",
       "    .dataframe tbody tr th {\n",
       "        vertical-align: top;\n",
       "    }\n",
       "\n",
       "    .dataframe thead tr th {\n",
       "        text-align: left;\n",
       "    }\n",
       "\n",
       "    .dataframe thead tr:last-of-type th {\n",
       "        text-align: right;\n",
       "    }\n",
       "</style>\n",
       "<table border=\"1\" class=\"dataframe\">\n",
       "  <thead>\n",
       "    <tr>\n",
       "      <th></th>\n",
       "      <th></th>\n",
       "      <th></th>\n",
       "      <th>Ha</th>\n",
       "      <th colspan=\"3\" halign=\"left\">WeekTransplanted</th>\n",
       "    </tr>\n",
       "    <tr>\n",
       "      <th></th>\n",
       "      <th></th>\n",
       "      <th></th>\n",
       "      <th>sum</th>\n",
       "      <th>min</th>\n",
       "      <th>max</th>\n",
       "      <th>count</th>\n",
       "    </tr>\n",
       "    <tr>\n",
       "      <th>Ranch</th>\n",
       "      <th>Class</th>\n",
       "      <th>Type</th>\n",
       "      <th></th>\n",
       "      <th></th>\n",
       "      <th></th>\n",
       "      <th></th>\n",
       "    </tr>\n",
       "  </thead>\n",
       "  <tbody>\n",
       "    <tr>\n",
       "      <th rowspan=\"5\" valign=\"top\">OAP</th>\n",
       "      <th rowspan=\"2\" valign=\"top\">BSUF</th>\n",
       "      <th>Uva Amarilla</th>\n",
       "      <td>0.7200</td>\n",
       "      <td>17</td>\n",
       "      <td>26</td>\n",
       "      <td>3</td>\n",
       "    </tr>\n",
       "    <tr>\n",
       "      <th>Uva Roja</th>\n",
       "      <td>7.4880</td>\n",
       "      <td>15</td>\n",
       "      <td>26</td>\n",
       "      <td>12</td>\n",
       "    </tr>\n",
       "    <tr>\n",
       "      <th rowspan=\"3\" valign=\"top\">CHE</th>\n",
       "      <th>Cherry Rojo</th>\n",
       "      <td>3.9920</td>\n",
       "      <td>15</td>\n",
       "      <td>27</td>\n",
       "      <td>7</td>\n",
       "    </tr>\n",
       "    <tr>\n",
       "      <th>Cherry Rosa</th>\n",
       "      <td>0.6660</td>\n",
       "      <td>15</td>\n",
       "      <td>22</td>\n",
       "      <td>3</td>\n",
       "    </tr>\n",
       "    <tr>\n",
       "      <th>Pera Amarilla</th>\n",
       "      <td>0.1440</td>\n",
       "      <td>20</td>\n",
       "      <td>20</td>\n",
       "      <td>2</td>\n",
       "    </tr>\n",
       "    <tr>\n",
       "      <th rowspan=\"7\" valign=\"top\">SFB</th>\n",
       "      <th rowspan=\"2\" valign=\"top\">BSUF</th>\n",
       "      <th>Uva Amarilla</th>\n",
       "      <td>0.3200</td>\n",
       "      <td>14</td>\n",
       "      <td>28</td>\n",
       "      <td>2</td>\n",
       "    </tr>\n",
       "    <tr>\n",
       "      <th>Uva Roja</th>\n",
       "      <td>1.3620</td>\n",
       "      <td>14</td>\n",
       "      <td>28</td>\n",
       "      <td>3</td>\n",
       "    </tr>\n",
       "    <tr>\n",
       "      <th rowspan=\"5\" valign=\"top\">CHE</th>\n",
       "      <th>Cherry Naranja</th>\n",
       "      <td>0.0172</td>\n",
       "      <td>14</td>\n",
       "      <td>14</td>\n",
       "      <td>1</td>\n",
       "    </tr>\n",
       "    <tr>\n",
       "      <th>Cherry Rojo</th>\n",
       "      <td>1.1160</td>\n",
       "      <td>14</td>\n",
       "      <td>28</td>\n",
       "      <td>2</td>\n",
       "    </tr>\n",
       "    <tr>\n",
       "      <th>Cherry Rosa</th>\n",
       "      <td>0.3040</td>\n",
       "      <td>14</td>\n",
       "      <td>28</td>\n",
       "      <td>2</td>\n",
       "    </tr>\n",
       "    <tr>\n",
       "      <th>Pera Amarilla</th>\n",
       "      <td>0.0960</td>\n",
       "      <td>14</td>\n",
       "      <td>14</td>\n",
       "      <td>1</td>\n",
       "    </tr>\n",
       "    <tr>\n",
       "      <th>Pera Roja</th>\n",
       "      <td>0.0960</td>\n",
       "      <td>14</td>\n",
       "      <td>14</td>\n",
       "      <td>1</td>\n",
       "    </tr>\n",
       "    <tr>\n",
       "      <th rowspan=\"7\" valign=\"top\">SGB</th>\n",
       "      <th rowspan=\"2\" valign=\"top\">BSUF</th>\n",
       "      <th>Uva Amarilla</th>\n",
       "      <td>0.1715</td>\n",
       "      <td>15</td>\n",
       "      <td>17</td>\n",
       "      <td>2</td>\n",
       "    </tr>\n",
       "    <tr>\n",
       "      <th>Uva Roja</th>\n",
       "      <td>1.5028</td>\n",
       "      <td>12</td>\n",
       "      <td>31</td>\n",
       "      <td>4</td>\n",
       "    </tr>\n",
       "    <tr>\n",
       "      <th rowspan=\"5\" valign=\"top\">CHE</th>\n",
       "      <th>Cherry Naranja</th>\n",
       "      <td>0.1078</td>\n",
       "      <td>15</td>\n",
       "      <td>17</td>\n",
       "      <td>2</td>\n",
       "    </tr>\n",
       "    <tr>\n",
       "      <th>Cherry Rojo</th>\n",
       "      <td>1.0251</td>\n",
       "      <td>12</td>\n",
       "      <td>31</td>\n",
       "      <td>3</td>\n",
       "    </tr>\n",
       "    <tr>\n",
       "      <th>Cherry Rosa</th>\n",
       "      <td>0.2632</td>\n",
       "      <td>15</td>\n",
       "      <td>17</td>\n",
       "      <td>2</td>\n",
       "    </tr>\n",
       "    <tr>\n",
       "      <th>Pera Amarilla</th>\n",
       "      <td>0.0595</td>\n",
       "      <td>17</td>\n",
       "      <td>17</td>\n",
       "      <td>1</td>\n",
       "    </tr>\n",
       "    <tr>\n",
       "      <th>Pera Roja</th>\n",
       "      <td>0.0595</td>\n",
       "      <td>17</td>\n",
       "      <td>17</td>\n",
       "      <td>1</td>\n",
       "    </tr>\n",
       "    <tr>\n",
       "      <th rowspan=\"7\" valign=\"top\">SJB</th>\n",
       "      <th rowspan=\"2\" valign=\"top\">BSUF</th>\n",
       "      <th>Uva Amarilla</th>\n",
       "      <td>0.1900</td>\n",
       "      <td>14</td>\n",
       "      <td>24</td>\n",
       "      <td>2</td>\n",
       "    </tr>\n",
       "    <tr>\n",
       "      <th>Uva Roja</th>\n",
       "      <td>1.9995</td>\n",
       "      <td>14</td>\n",
       "      <td>24</td>\n",
       "      <td>3</td>\n",
       "    </tr>\n",
       "    <tr>\n",
       "      <th rowspan=\"5\" valign=\"top\">CHE</th>\n",
       "      <th>Cherry Naranja</th>\n",
       "      <td>0.0804</td>\n",
       "      <td>14</td>\n",
       "      <td>24</td>\n",
       "      <td>2</td>\n",
       "    </tr>\n",
       "    <tr>\n",
       "      <th>Cherry Rojo</th>\n",
       "      <td>1.2102</td>\n",
       "      <td>14</td>\n",
       "      <td>24</td>\n",
       "      <td>2</td>\n",
       "    </tr>\n",
       "    <tr>\n",
       "      <th>Cherry Rosa</th>\n",
       "      <td>0.2994</td>\n",
       "      <td>14</td>\n",
       "      <td>24</td>\n",
       "      <td>2</td>\n",
       "    </tr>\n",
       "    <tr>\n",
       "      <th>Pera Amarilla</th>\n",
       "      <td>0.1092</td>\n",
       "      <td>14</td>\n",
       "      <td>24</td>\n",
       "      <td>2</td>\n",
       "    </tr>\n",
       "    <tr>\n",
       "      <th>Pera Roja</th>\n",
       "      <td>0.1002</td>\n",
       "      <td>14</td>\n",
       "      <td>24</td>\n",
       "      <td>2</td>\n",
       "    </tr>\n",
       "    <tr>\n",
       "      <th rowspan=\"6\" valign=\"top\">SMB</th>\n",
       "      <th rowspan=\"2\" valign=\"top\">BSUF</th>\n",
       "      <th>Uva Amarilla</th>\n",
       "      <td>0.2400</td>\n",
       "      <td>18</td>\n",
       "      <td>21</td>\n",
       "      <td>2</td>\n",
       "    </tr>\n",
       "    <tr>\n",
       "      <th>Uva Roja</th>\n",
       "      <td>2.1800</td>\n",
       "      <td>16</td>\n",
       "      <td>22</td>\n",
       "      <td>6</td>\n",
       "    </tr>\n",
       "    <tr>\n",
       "      <th rowspan=\"4\" valign=\"top\">CHE</th>\n",
       "      <th>Cherry Naranja</th>\n",
       "      <td>0.0600</td>\n",
       "      <td>18</td>\n",
       "      <td>18</td>\n",
       "      <td>1</td>\n",
       "    </tr>\n",
       "    <tr>\n",
       "      <th>Cherry Rojo</th>\n",
       "      <td>1.9000</td>\n",
       "      <td>16</td>\n",
       "      <td>27</td>\n",
       "      <td>3</td>\n",
       "    </tr>\n",
       "    <tr>\n",
       "      <th>Cherry Rosa</th>\n",
       "      <td>0.2800</td>\n",
       "      <td>18</td>\n",
       "      <td>21</td>\n",
       "      <td>2</td>\n",
       "    </tr>\n",
       "    <tr>\n",
       "      <th>Pera Amarilla</th>\n",
       "      <td>0.0800</td>\n",
       "      <td>18</td>\n",
       "      <td>18</td>\n",
       "      <td>1</td>\n",
       "    </tr>\n",
       "    <tr>\n",
       "      <th rowspan=\"7\" valign=\"top\">VAP</th>\n",
       "      <th rowspan=\"2\" valign=\"top\">BSUF</th>\n",
       "      <th>Uva Amarilla</th>\n",
       "      <td>0.8330</td>\n",
       "      <td>6</td>\n",
       "      <td>27</td>\n",
       "      <td>3</td>\n",
       "    </tr>\n",
       "    <tr>\n",
       "      <th>Uva Roja</th>\n",
       "      <td>13.3812</td>\n",
       "      <td>4</td>\n",
       "      <td>29</td>\n",
       "      <td>26</td>\n",
       "    </tr>\n",
       "    <tr>\n",
       "      <th rowspan=\"5\" valign=\"top\">CHE</th>\n",
       "      <th>Cherry Naranja</th>\n",
       "      <td>0.3875</td>\n",
       "      <td>12</td>\n",
       "      <td>30</td>\n",
       "      <td>4</td>\n",
       "    </tr>\n",
       "    <tr>\n",
       "      <th>Cherry Rojo</th>\n",
       "      <td>8.9636</td>\n",
       "      <td>4</td>\n",
       "      <td>29</td>\n",
       "      <td>13</td>\n",
       "    </tr>\n",
       "    <tr>\n",
       "      <th>Cherry Rosa</th>\n",
       "      <td>1.9713</td>\n",
       "      <td>9</td>\n",
       "      <td>29</td>\n",
       "      <td>6</td>\n",
       "    </tr>\n",
       "    <tr>\n",
       "      <th>Pera Amarilla</th>\n",
       "      <td>0.1150</td>\n",
       "      <td>16</td>\n",
       "      <td>16</td>\n",
       "      <td>1</td>\n",
       "    </tr>\n",
       "    <tr>\n",
       "      <th>Pera Roja</th>\n",
       "      <td>0.2050</td>\n",
       "      <td>11</td>\n",
       "      <td>16</td>\n",
       "      <td>2</td>\n",
       "    </tr>\n",
       "  </tbody>\n",
       "</table>\n",
       "</div>"
      ],
      "text/plain": [
       "                                 Ha WeekTransplanted          \n",
       "                                sum              min max count\n",
       "Ranch Class Type                                              \n",
       "OAP   BSUF  Uva Amarilla     0.7200               17  26     3\n",
       "            Uva Roja         7.4880               15  26    12\n",
       "      CHE   Cherry Rojo      3.9920               15  27     7\n",
       "            Cherry Rosa      0.6660               15  22     3\n",
       "            Pera Amarilla    0.1440               20  20     2\n",
       "SFB   BSUF  Uva Amarilla     0.3200               14  28     2\n",
       "            Uva Roja         1.3620               14  28     3\n",
       "      CHE   Cherry Naranja   0.0172               14  14     1\n",
       "            Cherry Rojo      1.1160               14  28     2\n",
       "            Cherry Rosa      0.3040               14  28     2\n",
       "            Pera Amarilla    0.0960               14  14     1\n",
       "            Pera Roja        0.0960               14  14     1\n",
       "SGB   BSUF  Uva Amarilla     0.1715               15  17     2\n",
       "            Uva Roja         1.5028               12  31     4\n",
       "      CHE   Cherry Naranja   0.1078               15  17     2\n",
       "            Cherry Rojo      1.0251               12  31     3\n",
       "            Cherry Rosa      0.2632               15  17     2\n",
       "            Pera Amarilla    0.0595               17  17     1\n",
       "            Pera Roja        0.0595               17  17     1\n",
       "SJB   BSUF  Uva Amarilla     0.1900               14  24     2\n",
       "            Uva Roja         1.9995               14  24     3\n",
       "      CHE   Cherry Naranja   0.0804               14  24     2\n",
       "            Cherry Rojo      1.2102               14  24     2\n",
       "            Cherry Rosa      0.2994               14  24     2\n",
       "            Pera Amarilla    0.1092               14  24     2\n",
       "            Pera Roja        0.1002               14  24     2\n",
       "SMB   BSUF  Uva Amarilla     0.2400               18  21     2\n",
       "            Uva Roja         2.1800               16  22     6\n",
       "      CHE   Cherry Naranja   0.0600               18  18     1\n",
       "            Cherry Rojo      1.9000               16  27     3\n",
       "            Cherry Rosa      0.2800               18  21     2\n",
       "            Pera Amarilla    0.0800               18  18     1\n",
       "VAP   BSUF  Uva Amarilla     0.8330                6  27     3\n",
       "            Uva Roja        13.3812                4  29    26\n",
       "      CHE   Cherry Naranja   0.3875               12  30     4\n",
       "            Cherry Rojo      8.9636                4  29    13\n",
       "            Cherry Rosa      1.9713                9  29     6\n",
       "            Pera Amarilla    0.1150               16  16     1\n",
       "            Pera Roja        0.2050               11  16     2"
      ]
     },
     "execution_count": 6,
     "metadata": {},
     "output_type": "execute_result"
    }
   ],
   "source": [
    "summary_ranch"
   ]
  },
  {
   "cell_type": "code",
   "execution_count": 7,
   "metadata": {},
   "outputs": [
    {
     "data": {
      "text/html": [
       "<div>\n",
       "<style scoped>\n",
       "    .dataframe tbody tr th:only-of-type {\n",
       "        vertical-align: middle;\n",
       "    }\n",
       "\n",
       "    .dataframe tbody tr th {\n",
       "        vertical-align: top;\n",
       "    }\n",
       "\n",
       "    .dataframe thead tr th {\n",
       "        text-align: left;\n",
       "    }\n",
       "\n",
       "    .dataframe thead tr:last-of-type th {\n",
       "        text-align: right;\n",
       "    }\n",
       "</style>\n",
       "<table border=\"1\" class=\"dataframe\">\n",
       "  <thead>\n",
       "    <tr>\n",
       "      <th></th>\n",
       "      <th></th>\n",
       "      <th>Ha</th>\n",
       "      <th colspan=\"3\" halign=\"left\">WeekTransplanted</th>\n",
       "      <th>Ranch</th>\n",
       "    </tr>\n",
       "    <tr>\n",
       "      <th></th>\n",
       "      <th></th>\n",
       "      <th>sum</th>\n",
       "      <th>min</th>\n",
       "      <th>max</th>\n",
       "      <th>nunique</th>\n",
       "      <th>nunique</th>\n",
       "    </tr>\n",
       "    <tr>\n",
       "      <th>Class</th>\n",
       "      <th>Type</th>\n",
       "      <th></th>\n",
       "      <th></th>\n",
       "      <th></th>\n",
       "      <th></th>\n",
       "      <th></th>\n",
       "    </tr>\n",
       "  </thead>\n",
       "  <tbody>\n",
       "    <tr>\n",
       "      <th rowspan=\"2\" valign=\"top\">BSUF</th>\n",
       "      <th>Uva Amarilla</th>\n",
       "      <td>2.4745</td>\n",
       "      <td>6</td>\n",
       "      <td>28</td>\n",
       "      <td>12</td>\n",
       "      <td>6</td>\n",
       "    </tr>\n",
       "    <tr>\n",
       "      <th>Uva Roja</th>\n",
       "      <td>27.9135</td>\n",
       "      <td>4</td>\n",
       "      <td>31</td>\n",
       "      <td>19</td>\n",
       "      <td>6</td>\n",
       "    </tr>\n",
       "    <tr>\n",
       "      <th rowspan=\"5\" valign=\"top\">CHE</th>\n",
       "      <th>Cherry Naranja</th>\n",
       "      <td>0.6529</td>\n",
       "      <td>12</td>\n",
       "      <td>30</td>\n",
       "      <td>9</td>\n",
       "      <td>5</td>\n",
       "    </tr>\n",
       "    <tr>\n",
       "      <th>Cherry Rojo</th>\n",
       "      <td>18.2069</td>\n",
       "      <td>4</td>\n",
       "      <td>31</td>\n",
       "      <td>15</td>\n",
       "      <td>6</td>\n",
       "    </tr>\n",
       "    <tr>\n",
       "      <th>Cherry Rosa</th>\n",
       "      <td>3.7839</td>\n",
       "      <td>9</td>\n",
       "      <td>29</td>\n",
       "      <td>13</td>\n",
       "      <td>6</td>\n",
       "    </tr>\n",
       "    <tr>\n",
       "      <th>Pera Amarilla</th>\n",
       "      <td>0.6037</td>\n",
       "      <td>14</td>\n",
       "      <td>24</td>\n",
       "      <td>6</td>\n",
       "      <td>6</td>\n",
       "    </tr>\n",
       "    <tr>\n",
       "      <th>Pera Roja</th>\n",
       "      <td>0.4607</td>\n",
       "      <td>11</td>\n",
       "      <td>24</td>\n",
       "      <td>5</td>\n",
       "      <td>4</td>\n",
       "    </tr>\n",
       "  </tbody>\n",
       "</table>\n",
       "</div>"
      ],
      "text/plain": [
       "                           Ha WeekTransplanted               Ranch\n",
       "                          sum              min max nunique nunique\n",
       "Class Type                                                        \n",
       "BSUF  Uva Amarilla     2.4745                6  28      12       6\n",
       "      Uva Roja        27.9135                4  31      19       6\n",
       "CHE   Cherry Naranja   0.6529               12  30       9       5\n",
       "      Cherry Rojo     18.2069                4  31      15       6\n",
       "      Cherry Rosa      3.7839                9  29      13       6\n",
       "      Pera Amarilla    0.6037               14  24       6       6\n",
       "      Pera Roja        0.4607               11  24       5       4"
      ]
     },
     "execution_count": 7,
     "metadata": {},
     "output_type": "execute_result"
    }
   ],
   "source": [
    "summary_class"
   ]
  },
  {
   "cell_type": "code",
   "execution_count": 8,
   "metadata": {},
   "outputs": [
    {
     "data": {
      "text/html": [
       "<div>\n",
       "<style scoped>\n",
       "    .dataframe tbody tr th:only-of-type {\n",
       "        vertical-align: middle;\n",
       "    }\n",
       "\n",
       "    .dataframe tbody tr th {\n",
       "        vertical-align: top;\n",
       "    }\n",
       "\n",
       "    .dataframe thead tr th {\n",
       "        text-align: left;\n",
       "    }\n",
       "\n",
       "    .dataframe thead tr:last-of-type th {\n",
       "        text-align: right;\n",
       "    }\n",
       "</style>\n",
       "<table border=\"1\" class=\"dataframe\">\n",
       "  <thead>\n",
       "    <tr>\n",
       "      <th></th>\n",
       "      <th></th>\n",
       "      <th></th>\n",
       "      <th>Ha</th>\n",
       "      <th colspan=\"3\" halign=\"left\">WeekTransplanted</th>\n",
       "    </tr>\n",
       "    <tr>\n",
       "      <th></th>\n",
       "      <th></th>\n",
       "      <th></th>\n",
       "      <th>sum</th>\n",
       "      <th>min</th>\n",
       "      <th>max</th>\n",
       "      <th>count</th>\n",
       "    </tr>\n",
       "    <tr>\n",
       "      <th>Class</th>\n",
       "      <th>Type</th>\n",
       "      <th>Ranch</th>\n",
       "      <th></th>\n",
       "      <th></th>\n",
       "      <th></th>\n",
       "      <th></th>\n",
       "    </tr>\n",
       "  </thead>\n",
       "  <tbody>\n",
       "    <tr>\n",
       "      <th rowspan=\"12\" valign=\"top\">BSUF</th>\n",
       "      <th rowspan=\"6\" valign=\"top\">Uva Amarilla</th>\n",
       "      <th>OAP</th>\n",
       "      <td>0.7200</td>\n",
       "      <td>17</td>\n",
       "      <td>26</td>\n",
       "      <td>3</td>\n",
       "    </tr>\n",
       "    <tr>\n",
       "      <th>SFB</th>\n",
       "      <td>0.3200</td>\n",
       "      <td>14</td>\n",
       "      <td>28</td>\n",
       "      <td>2</td>\n",
       "    </tr>\n",
       "    <tr>\n",
       "      <th>SGB</th>\n",
       "      <td>0.1715</td>\n",
       "      <td>15</td>\n",
       "      <td>17</td>\n",
       "      <td>2</td>\n",
       "    </tr>\n",
       "    <tr>\n",
       "      <th>SJB</th>\n",
       "      <td>0.1900</td>\n",
       "      <td>14</td>\n",
       "      <td>24</td>\n",
       "      <td>2</td>\n",
       "    </tr>\n",
       "    <tr>\n",
       "      <th>SMB</th>\n",
       "      <td>0.2400</td>\n",
       "      <td>18</td>\n",
       "      <td>21</td>\n",
       "      <td>2</td>\n",
       "    </tr>\n",
       "    <tr>\n",
       "      <th>VAP</th>\n",
       "      <td>0.8330</td>\n",
       "      <td>6</td>\n",
       "      <td>27</td>\n",
       "      <td>3</td>\n",
       "    </tr>\n",
       "    <tr>\n",
       "      <th rowspan=\"6\" valign=\"top\">Uva Roja</th>\n",
       "      <th>OAP</th>\n",
       "      <td>7.4880</td>\n",
       "      <td>15</td>\n",
       "      <td>26</td>\n",
       "      <td>12</td>\n",
       "    </tr>\n",
       "    <tr>\n",
       "      <th>SFB</th>\n",
       "      <td>1.3620</td>\n",
       "      <td>14</td>\n",
       "      <td>28</td>\n",
       "      <td>3</td>\n",
       "    </tr>\n",
       "    <tr>\n",
       "      <th>SGB</th>\n",
       "      <td>1.5028</td>\n",
       "      <td>12</td>\n",
       "      <td>31</td>\n",
       "      <td>4</td>\n",
       "    </tr>\n",
       "    <tr>\n",
       "      <th>SJB</th>\n",
       "      <td>1.9995</td>\n",
       "      <td>14</td>\n",
       "      <td>24</td>\n",
       "      <td>3</td>\n",
       "    </tr>\n",
       "    <tr>\n",
       "      <th>SMB</th>\n",
       "      <td>2.1800</td>\n",
       "      <td>16</td>\n",
       "      <td>22</td>\n",
       "      <td>6</td>\n",
       "    </tr>\n",
       "    <tr>\n",
       "      <th>VAP</th>\n",
       "      <td>13.3812</td>\n",
       "      <td>4</td>\n",
       "      <td>29</td>\n",
       "      <td>26</td>\n",
       "    </tr>\n",
       "    <tr>\n",
       "      <th rowspan=\"27\" valign=\"top\">CHE</th>\n",
       "      <th rowspan=\"5\" valign=\"top\">Cherry Naranja</th>\n",
       "      <th>SFB</th>\n",
       "      <td>0.0172</td>\n",
       "      <td>14</td>\n",
       "      <td>14</td>\n",
       "      <td>1</td>\n",
       "    </tr>\n",
       "    <tr>\n",
       "      <th>SGB</th>\n",
       "      <td>0.1078</td>\n",
       "      <td>15</td>\n",
       "      <td>17</td>\n",
       "      <td>2</td>\n",
       "    </tr>\n",
       "    <tr>\n",
       "      <th>SJB</th>\n",
       "      <td>0.0804</td>\n",
       "      <td>14</td>\n",
       "      <td>24</td>\n",
       "      <td>2</td>\n",
       "    </tr>\n",
       "    <tr>\n",
       "      <th>SMB</th>\n",
       "      <td>0.0600</td>\n",
       "      <td>18</td>\n",
       "      <td>18</td>\n",
       "      <td>1</td>\n",
       "    </tr>\n",
       "    <tr>\n",
       "      <th>VAP</th>\n",
       "      <td>0.3875</td>\n",
       "      <td>12</td>\n",
       "      <td>30</td>\n",
       "      <td>4</td>\n",
       "    </tr>\n",
       "    <tr>\n",
       "      <th rowspan=\"6\" valign=\"top\">Cherry Rojo</th>\n",
       "      <th>OAP</th>\n",
       "      <td>3.9920</td>\n",
       "      <td>15</td>\n",
       "      <td>27</td>\n",
       "      <td>7</td>\n",
       "    </tr>\n",
       "    <tr>\n",
       "      <th>SFB</th>\n",
       "      <td>1.1160</td>\n",
       "      <td>14</td>\n",
       "      <td>28</td>\n",
       "      <td>2</td>\n",
       "    </tr>\n",
       "    <tr>\n",
       "      <th>SGB</th>\n",
       "      <td>1.0251</td>\n",
       "      <td>12</td>\n",
       "      <td>31</td>\n",
       "      <td>3</td>\n",
       "    </tr>\n",
       "    <tr>\n",
       "      <th>SJB</th>\n",
       "      <td>1.2102</td>\n",
       "      <td>14</td>\n",
       "      <td>24</td>\n",
       "      <td>2</td>\n",
       "    </tr>\n",
       "    <tr>\n",
       "      <th>SMB</th>\n",
       "      <td>1.9000</td>\n",
       "      <td>16</td>\n",
       "      <td>27</td>\n",
       "      <td>3</td>\n",
       "    </tr>\n",
       "    <tr>\n",
       "      <th>VAP</th>\n",
       "      <td>8.9636</td>\n",
       "      <td>4</td>\n",
       "      <td>29</td>\n",
       "      <td>13</td>\n",
       "    </tr>\n",
       "    <tr>\n",
       "      <th rowspan=\"6\" valign=\"top\">Cherry Rosa</th>\n",
       "      <th>OAP</th>\n",
       "      <td>0.6660</td>\n",
       "      <td>15</td>\n",
       "      <td>22</td>\n",
       "      <td>3</td>\n",
       "    </tr>\n",
       "    <tr>\n",
       "      <th>SFB</th>\n",
       "      <td>0.3040</td>\n",
       "      <td>14</td>\n",
       "      <td>28</td>\n",
       "      <td>2</td>\n",
       "    </tr>\n",
       "    <tr>\n",
       "      <th>SGB</th>\n",
       "      <td>0.2632</td>\n",
       "      <td>15</td>\n",
       "      <td>17</td>\n",
       "      <td>2</td>\n",
       "    </tr>\n",
       "    <tr>\n",
       "      <th>SJB</th>\n",
       "      <td>0.2994</td>\n",
       "      <td>14</td>\n",
       "      <td>24</td>\n",
       "      <td>2</td>\n",
       "    </tr>\n",
       "    <tr>\n",
       "      <th>SMB</th>\n",
       "      <td>0.2800</td>\n",
       "      <td>18</td>\n",
       "      <td>21</td>\n",
       "      <td>2</td>\n",
       "    </tr>\n",
       "    <tr>\n",
       "      <th>VAP</th>\n",
       "      <td>1.9713</td>\n",
       "      <td>9</td>\n",
       "      <td>29</td>\n",
       "      <td>6</td>\n",
       "    </tr>\n",
       "    <tr>\n",
       "      <th rowspan=\"6\" valign=\"top\">Pera Amarilla</th>\n",
       "      <th>OAP</th>\n",
       "      <td>0.1440</td>\n",
       "      <td>20</td>\n",
       "      <td>20</td>\n",
       "      <td>2</td>\n",
       "    </tr>\n",
       "    <tr>\n",
       "      <th>SFB</th>\n",
       "      <td>0.0960</td>\n",
       "      <td>14</td>\n",
       "      <td>14</td>\n",
       "      <td>1</td>\n",
       "    </tr>\n",
       "    <tr>\n",
       "      <th>SGB</th>\n",
       "      <td>0.0595</td>\n",
       "      <td>17</td>\n",
       "      <td>17</td>\n",
       "      <td>1</td>\n",
       "    </tr>\n",
       "    <tr>\n",
       "      <th>SJB</th>\n",
       "      <td>0.1092</td>\n",
       "      <td>14</td>\n",
       "      <td>24</td>\n",
       "      <td>2</td>\n",
       "    </tr>\n",
       "    <tr>\n",
       "      <th>SMB</th>\n",
       "      <td>0.0800</td>\n",
       "      <td>18</td>\n",
       "      <td>18</td>\n",
       "      <td>1</td>\n",
       "    </tr>\n",
       "    <tr>\n",
       "      <th>VAP</th>\n",
       "      <td>0.1150</td>\n",
       "      <td>16</td>\n",
       "      <td>16</td>\n",
       "      <td>1</td>\n",
       "    </tr>\n",
       "    <tr>\n",
       "      <th rowspan=\"4\" valign=\"top\">Pera Roja</th>\n",
       "      <th>SFB</th>\n",
       "      <td>0.0960</td>\n",
       "      <td>14</td>\n",
       "      <td>14</td>\n",
       "      <td>1</td>\n",
       "    </tr>\n",
       "    <tr>\n",
       "      <th>SGB</th>\n",
       "      <td>0.0595</td>\n",
       "      <td>17</td>\n",
       "      <td>17</td>\n",
       "      <td>1</td>\n",
       "    </tr>\n",
       "    <tr>\n",
       "      <th>SJB</th>\n",
       "      <td>0.1002</td>\n",
       "      <td>14</td>\n",
       "      <td>24</td>\n",
       "      <td>2</td>\n",
       "    </tr>\n",
       "    <tr>\n",
       "      <th>VAP</th>\n",
       "      <td>0.2050</td>\n",
       "      <td>11</td>\n",
       "      <td>16</td>\n",
       "      <td>2</td>\n",
       "    </tr>\n",
       "  </tbody>\n",
       "</table>\n",
       "</div>"
      ],
      "text/plain": [
       "                                 Ha WeekTransplanted          \n",
       "                                sum              min max count\n",
       "Class Type           Ranch                                    \n",
       "BSUF  Uva Amarilla   OAP     0.7200               17  26     3\n",
       "                     SFB     0.3200               14  28     2\n",
       "                     SGB     0.1715               15  17     2\n",
       "                     SJB     0.1900               14  24     2\n",
       "                     SMB     0.2400               18  21     2\n",
       "                     VAP     0.8330                6  27     3\n",
       "      Uva Roja       OAP     7.4880               15  26    12\n",
       "                     SFB     1.3620               14  28     3\n",
       "                     SGB     1.5028               12  31     4\n",
       "                     SJB     1.9995               14  24     3\n",
       "                     SMB     2.1800               16  22     6\n",
       "                     VAP    13.3812                4  29    26\n",
       "CHE   Cherry Naranja SFB     0.0172               14  14     1\n",
       "                     SGB     0.1078               15  17     2\n",
       "                     SJB     0.0804               14  24     2\n",
       "                     SMB     0.0600               18  18     1\n",
       "                     VAP     0.3875               12  30     4\n",
       "      Cherry Rojo    OAP     3.9920               15  27     7\n",
       "                     SFB     1.1160               14  28     2\n",
       "                     SGB     1.0251               12  31     3\n",
       "                     SJB     1.2102               14  24     2\n",
       "                     SMB     1.9000               16  27     3\n",
       "                     VAP     8.9636                4  29    13\n",
       "      Cherry Rosa    OAP     0.6660               15  22     3\n",
       "                     SFB     0.3040               14  28     2\n",
       "                     SGB     0.2632               15  17     2\n",
       "                     SJB     0.2994               14  24     2\n",
       "                     SMB     0.2800               18  21     2\n",
       "                     VAP     1.9713                9  29     6\n",
       "      Pera Amarilla  OAP     0.1440               20  20     2\n",
       "                     SFB     0.0960               14  14     1\n",
       "                     SGB     0.0595               17  17     1\n",
       "                     SJB     0.1092               14  24     2\n",
       "                     SMB     0.0800               18  18     1\n",
       "                     VAP     0.1150               16  16     1\n",
       "      Pera Roja      SFB     0.0960               14  14     1\n",
       "                     SGB     0.0595               17  17     1\n",
       "                     SJB     0.1002               14  24     2\n",
       "                     VAP     0.2050               11  16     2"
      ]
     },
     "execution_count": 8,
     "metadata": {},
     "output_type": "execute_result"
    }
   ],
   "source": [
    "summary_class_ranch"
   ]
  },
  {
   "cell_type": "markdown",
   "metadata": {},
   "source": [
    "create planting plans"
   ]
  },
  {
   "cell_type": "code",
   "execution_count": 9,
   "metadata": {},
   "outputs": [
    {
     "data": {
      "text/html": [
       "<div>\n",
       "<style scoped>\n",
       "    .dataframe tbody tr th:only-of-type {\n",
       "        vertical-align: middle;\n",
       "    }\n",
       "\n",
       "    .dataframe tbody tr th {\n",
       "        vertical-align: top;\n",
       "    }\n",
       "\n",
       "    .dataframe thead th {\n",
       "        text-align: right;\n",
       "    }\n",
       "</style>\n",
       "<table border=\"1\" class=\"dataframe\">\n",
       "  <thead>\n",
       "    <tr style=\"text-align: right;\">\n",
       "      <th></th>\n",
       "      <th>WeekTransplanted</th>\n",
       "      <th>4</th>\n",
       "      <th>6</th>\n",
       "      <th>9</th>\n",
       "      <th>11</th>\n",
       "      <th>12</th>\n",
       "      <th>14</th>\n",
       "      <th>15</th>\n",
       "      <th>16</th>\n",
       "      <th>17</th>\n",
       "      <th>18</th>\n",
       "      <th>20</th>\n",
       "      <th>21</th>\n",
       "      <th>22</th>\n",
       "      <th>24</th>\n",
       "      <th>26</th>\n",
       "      <th>27</th>\n",
       "      <th>28</th>\n",
       "      <th>29</th>\n",
       "      <th>30</th>\n",
       "      <th>31</th>\n",
       "    </tr>\n",
       "    <tr>\n",
       "      <th>Class</th>\n",
       "      <th>Type</th>\n",
       "      <th></th>\n",
       "      <th></th>\n",
       "      <th></th>\n",
       "      <th></th>\n",
       "      <th></th>\n",
       "      <th></th>\n",
       "      <th></th>\n",
       "      <th></th>\n",
       "      <th></th>\n",
       "      <th></th>\n",
       "      <th></th>\n",
       "      <th></th>\n",
       "      <th></th>\n",
       "      <th></th>\n",
       "      <th></th>\n",
       "      <th></th>\n",
       "      <th></th>\n",
       "      <th></th>\n",
       "      <th></th>\n",
       "      <th></th>\n",
       "    </tr>\n",
       "  </thead>\n",
       "  <tbody>\n",
       "    <tr>\n",
       "      <th rowspan=\"2\" valign=\"top\">BSUF</th>\n",
       "      <th>Uva Amarilla</th>\n",
       "      <td>0.0000</td>\n",
       "      <td>0.176</td>\n",
       "      <td>0.0000</td>\n",
       "      <td>0.0000</td>\n",
       "      <td>0.0000</td>\n",
       "      <td>0.2500</td>\n",
       "      <td>0.0525</td>\n",
       "      <td>0.207</td>\n",
       "      <td>0.2630</td>\n",
       "      <td>0.12</td>\n",
       "      <td>0.234</td>\n",
       "      <td>0.12</td>\n",
       "      <td>0.000</td>\n",
       "      <td>0.1000</td>\n",
       "      <td>0.342</td>\n",
       "      <td>0.4500</td>\n",
       "      <td>0.16</td>\n",
       "      <td>0.0000</td>\n",
       "      <td>0.0000</td>\n",
       "      <td>0.0000</td>\n",
       "    </tr>\n",
       "    <tr>\n",
       "      <th>Uva Roja</th>\n",
       "      <td>1.2696</td>\n",
       "      <td>1.854</td>\n",
       "      <td>0.9832</td>\n",
       "      <td>1.9049</td>\n",
       "      <td>1.2856</td>\n",
       "      <td>1.5019</td>\n",
       "      <td>1.2060</td>\n",
       "      <td>1.942</td>\n",
       "      <td>1.6942</td>\n",
       "      <td>0.56</td>\n",
       "      <td>1.530</td>\n",
       "      <td>1.00</td>\n",
       "      <td>1.172</td>\n",
       "      <td>1.9716</td>\n",
       "      <td>1.386</td>\n",
       "      <td>3.3405</td>\n",
       "      <td>0.76</td>\n",
       "      <td>2.0114</td>\n",
       "      <td>0.0000</td>\n",
       "      <td>0.5406</td>\n",
       "    </tr>\n",
       "    <tr>\n",
       "      <th rowspan=\"5\" valign=\"top\">CHE</th>\n",
       "      <th>Cherry Naranja</th>\n",
       "      <td>0.0000</td>\n",
       "      <td>0.000</td>\n",
       "      <td>0.0000</td>\n",
       "      <td>0.0000</td>\n",
       "      <td>0.0640</td>\n",
       "      <td>0.0532</td>\n",
       "      <td>0.0840</td>\n",
       "      <td>0.023</td>\n",
       "      <td>0.0238</td>\n",
       "      <td>0.06</td>\n",
       "      <td>0.000</td>\n",
       "      <td>0.00</td>\n",
       "      <td>0.000</td>\n",
       "      <td>0.0444</td>\n",
       "      <td>0.000</td>\n",
       "      <td>0.1200</td>\n",
       "      <td>0.00</td>\n",
       "      <td>0.0000</td>\n",
       "      <td>0.1805</td>\n",
       "      <td>0.0000</td>\n",
       "    </tr>\n",
       "    <tr>\n",
       "      <th>Cherry Rojo</th>\n",
       "      <td>0.4224</td>\n",
       "      <td>1.520</td>\n",
       "      <td>1.2060</td>\n",
       "      <td>0.0000</td>\n",
       "      <td>1.5294</td>\n",
       "      <td>1.3942</td>\n",
       "      <td>0.5940</td>\n",
       "      <td>1.929</td>\n",
       "      <td>1.4159</td>\n",
       "      <td>0.00</td>\n",
       "      <td>1.044</td>\n",
       "      <td>0.00</td>\n",
       "      <td>1.458</td>\n",
       "      <td>0.5520</td>\n",
       "      <td>0.000</td>\n",
       "      <td>4.1878</td>\n",
       "      <td>0.38</td>\n",
       "      <td>0.1764</td>\n",
       "      <td>0.0000</td>\n",
       "      <td>0.3978</td>\n",
       "    </tr>\n",
       "    <tr>\n",
       "      <th>Cherry Rosa</th>\n",
       "      <td>0.0000</td>\n",
       "      <td>0.000</td>\n",
       "      <td>0.2464</td>\n",
       "      <td>0.0000</td>\n",
       "      <td>0.1920</td>\n",
       "      <td>0.3680</td>\n",
       "      <td>0.3660</td>\n",
       "      <td>0.138</td>\n",
       "      <td>0.3983</td>\n",
       "      <td>0.12</td>\n",
       "      <td>0.000</td>\n",
       "      <td>0.16</td>\n",
       "      <td>0.234</td>\n",
       "      <td>0.1554</td>\n",
       "      <td>0.000</td>\n",
       "      <td>0.4500</td>\n",
       "      <td>0.08</td>\n",
       "      <td>0.8758</td>\n",
       "      <td>0.0000</td>\n",
       "      <td>0.0000</td>\n",
       "    </tr>\n",
       "    <tr>\n",
       "      <th>Pera Amarilla</th>\n",
       "      <td>0.0000</td>\n",
       "      <td>0.000</td>\n",
       "      <td>0.0000</td>\n",
       "      <td>0.0000</td>\n",
       "      <td>0.0000</td>\n",
       "      <td>0.1500</td>\n",
       "      <td>0.0000</td>\n",
       "      <td>0.115</td>\n",
       "      <td>0.0595</td>\n",
       "      <td>0.08</td>\n",
       "      <td>0.144</td>\n",
       "      <td>0.00</td>\n",
       "      <td>0.000</td>\n",
       "      <td>0.0552</td>\n",
       "      <td>0.000</td>\n",
       "      <td>0.0000</td>\n",
       "      <td>0.00</td>\n",
       "      <td>0.0000</td>\n",
       "      <td>0.0000</td>\n",
       "      <td>0.0000</td>\n",
       "    </tr>\n",
       "    <tr>\n",
       "      <th>Pera Roja</th>\n",
       "      <td>0.0000</td>\n",
       "      <td>0.000</td>\n",
       "      <td>0.0000</td>\n",
       "      <td>0.0900</td>\n",
       "      <td>0.0000</td>\n",
       "      <td>0.1410</td>\n",
       "      <td>0.0000</td>\n",
       "      <td>0.115</td>\n",
       "      <td>0.0595</td>\n",
       "      <td>0.00</td>\n",
       "      <td>0.000</td>\n",
       "      <td>0.00</td>\n",
       "      <td>0.000</td>\n",
       "      <td>0.0552</td>\n",
       "      <td>0.000</td>\n",
       "      <td>0.0000</td>\n",
       "      <td>0.00</td>\n",
       "      <td>0.0000</td>\n",
       "      <td>0.0000</td>\n",
       "      <td>0.0000</td>\n",
       "    </tr>\n",
       "  </tbody>\n",
       "</table>\n",
       "</div>"
      ],
      "text/plain": [
       "WeekTransplanted          4      6       9       11      12      14      15  \\\n",
       "Class Type                                                                    \n",
       "BSUF  Uva Amarilla    0.0000  0.176  0.0000  0.0000  0.0000  0.2500  0.0525   \n",
       "      Uva Roja        1.2696  1.854  0.9832  1.9049  1.2856  1.5019  1.2060   \n",
       "CHE   Cherry Naranja  0.0000  0.000  0.0000  0.0000  0.0640  0.0532  0.0840   \n",
       "      Cherry Rojo     0.4224  1.520  1.2060  0.0000  1.5294  1.3942  0.5940   \n",
       "      Cherry Rosa     0.0000  0.000  0.2464  0.0000  0.1920  0.3680  0.3660   \n",
       "      Pera Amarilla   0.0000  0.000  0.0000  0.0000  0.0000  0.1500  0.0000   \n",
       "      Pera Roja       0.0000  0.000  0.0000  0.0900  0.0000  0.1410  0.0000   \n",
       "\n",
       "WeekTransplanted         16      17    18     20    21     22      24     26  \\\n",
       "Class Type                                                                     \n",
       "BSUF  Uva Amarilla    0.207  0.2630  0.12  0.234  0.12  0.000  0.1000  0.342   \n",
       "      Uva Roja        1.942  1.6942  0.56  1.530  1.00  1.172  1.9716  1.386   \n",
       "CHE   Cherry Naranja  0.023  0.0238  0.06  0.000  0.00  0.000  0.0444  0.000   \n",
       "      Cherry Rojo     1.929  1.4159  0.00  1.044  0.00  1.458  0.5520  0.000   \n",
       "      Cherry Rosa     0.138  0.3983  0.12  0.000  0.16  0.234  0.1554  0.000   \n",
       "      Pera Amarilla   0.115  0.0595  0.08  0.144  0.00  0.000  0.0552  0.000   \n",
       "      Pera Roja       0.115  0.0595  0.00  0.000  0.00  0.000  0.0552  0.000   \n",
       "\n",
       "WeekTransplanted          27    28      29      30      31  \n",
       "Class Type                                                  \n",
       "BSUF  Uva Amarilla    0.4500  0.16  0.0000  0.0000  0.0000  \n",
       "      Uva Roja        3.3405  0.76  2.0114  0.0000  0.5406  \n",
       "CHE   Cherry Naranja  0.1200  0.00  0.0000  0.1805  0.0000  \n",
       "      Cherry Rojo     4.1878  0.38  0.1764  0.0000  0.3978  \n",
       "      Cherry Rosa     0.4500  0.08  0.8758  0.0000  0.0000  \n",
       "      Pera Amarilla   0.0000  0.00  0.0000  0.0000  0.0000  \n",
       "      Pera Roja       0.0000  0.00  0.0000  0.0000  0.0000  "
      ]
     },
     "execution_count": 9,
     "metadata": {},
     "output_type": "execute_result"
    }
   ],
   "source": [
    "ranch_pivot = production_plan.pivot_table(\n",
    "    index=['Ranch', 'Class', 'Type'],\n",
    "    columns='WeekTransplanted',\n",
    "    values='Ha',\n",
    "    aggfunc='sum',\n",
    "    fill_value=0,\n",
    ")\n",
    "\n",
    "class_pivot = production_plan.pivot_table(\n",
    "    index=['Class', 'Type'],\n",
    "    columns='WeekTransplanted',\n",
    "    values='Ha',\n",
    "    aggfunc='sum',\n",
    "    fill_value=0,\n",
    ")\n",
    "class_pivot\n"
   ]
  },
  {
   "cell_type": "markdown",
   "metadata": {},
   "source": [
    "create graphs"
   ]
  },
  {
   "cell_type": "code",
   "execution_count": 10,
   "metadata": {},
   "outputs": [
    {
     "data": {
      "application/vnd.plotly.v1+json": {
       "config": {
        "plotlyServerURL": "https://plot.ly"
       },
       "data": [
        {
         "name": "('BSUF', 'Uva Amarilla')",
         "type": "bar",
         "x": {
          "bdata": "BAYJCwwODxAREhQVFhgaGxwdHh8=",
          "dtype": "i1"
         },
         "y": {
          "bdata": "AAAAAAAAAAC6SQwCK4fGPwAAAAAAAAAAAAAAAAAAAAAAAAAAAAAAAAAAAAAAANA/4noUrkfhqj/m0CLb+X7KP6JFtvP91NA/uB6F61G4vj/ByqFFtvPNP7gehetRuL4/AAAAAAAAAACamZmZmZm5PxfZzvdT49U/zczMzMzM3D97FK5H4XrEPwAAAAAAAAAAAAAAAAAAAAAAAAAAAAAAAA==",
          "dtype": "f8"
         }
        },
        {
         "name": "('BSUF', 'Uva Roja')",
         "type": "bar",
         "x": {
          "bdata": "BAYJCwwODxAREhQVFhgaGxwdHh8=",
          "dtype": "i1"
         },
         "y": {
          "bdata": "jgbwFkhQ9D9Ei2zn+6n9P6Crrdhfdu8/CmgibHh6/j82zTtO0ZH0P2TMXUvIB/g/sp3vp8ZL8z/gT42XbhL/P5YhjnVxG/s/7FG4HoXr4T97FK5H4Xr4PwAAAAAAAPA/jZduEoPA8j+WsgxxrIv/P5QYBFYOLfY/001iEFi5CkBSuB6F61HoPyxlGeJYFwBAAAAAAAAAAACU9gZfmEzhPw==",
          "dtype": "f8"
         }
        },
        {
         "name": "('CHE', 'Cherry Naranja')",
         "type": "bar",
         "x": {
          "bdata": "BAYJCwwODxAREhQVFhgaGxwdHh8=",
          "dtype": "i1"
         },
         "y": {
          "bdata": "AAAAAAAAAAAAAAAAAAAAAAAAAAAAAAAAAAAAAAAAAAD8qfHSTWKwP81dS8gHPas/Gy/dJAaBtT9aZDvfT42XP3RGlPYGX5g/uB6F61G4rj8AAAAAAAAAAAAAAAAAAAAAAAAAAAAAAABBguLHmLumPwAAAAAAAAAAuB6F61G4vj8AAAAAAAAAAAAAAAAAAAAAtch2vp8axz8AAAAAAAAAAA==",
          "dtype": "f8"
         }
        },
        {
         "name": "('CHE', 'Cherry Rojo')",
         "type": "bar",
         "x": {
          "bdata": "BAYJCwwODxAREhQVFhgaGxwdHh8=",
          "dtype": "i1"
         },
         "y": {
          "bdata": "RiV1ApoI2z9SuB6F61H4P7Kd76fGS/M/AAAAAAAAAADUCWgibHj4P8pUwaikTvY/NV66SQwC4z93vp8aL93+P56AJsKGp/Y/AAAAAAAAAABOYhBYObTwPwAAAAAAAAAAhxbZzvdT9z9Ei2zn+6nhPwAAAAAAAAAAVcGopE7AEEBSuB6F61HYP9zXgXNGlMY/AAAAAAAAAAC+UpYhjnXZPw==",
          "dtype": "f8"
         }
        },
        {
         "name": "('CHE', 'Cherry Rosa')",
         "type": "bar",
         "x": {
          "bdata": "BAYJCwwODxAREhQVFhgaGxwdHh8=",
          "dtype": "i1"
         },
         "y": {
          "bdata": "AAAAAAAAAAAAAAAAAAAAANIA3gIJis8/AAAAAAAAAAD6fmq8dJPIP1pkO99Pjdc/BoGVQ4ts1z9Ei2zn+6nBP5PLf0i/fdk/uB6F61G4vj8AAAAAAAAAAHsUrkfhesQ/wcqhRbbzzT/5MeauJeTDPwAAAAAAAAAAzczMzMzM3D97FK5H4Xq0PxHHuriNBuw/AAAAAAAAAAAAAAAAAAAAAA==",
          "dtype": "f8"
         }
        },
        {
         "name": "('CHE', 'Pera Amarilla')",
         "type": "bar",
         "x": {
          "bdata": "BAYJCwwODxAREhQVFhgaGxwdHh8=",
          "dtype": "i1"
         },
         "y": {
          "bdata": "AAAAAAAAAAAAAAAAAAAAAAAAAAAAAAAAAAAAAAAAAAAAAAAAAAAAADMzMzMzM8M/AAAAAAAAAABxPQrXo3C9PxFYObTIdq4/exSuR+F6tD8730+Nl27CPwAAAAAAAAAAAAAAAAAAAABteHqlLEOsPwAAAAAAAAAAAAAAAAAAAAAAAAAAAAAAAAAAAAAAAAAAAAAAAAAAAAAAAAAAAAAAAA==",
          "dtype": "f8"
         }
        },
        {
         "name": "('CHE', 'Pera Roja')",
         "type": "bar",
         "x": {
          "bdata": "BAYJCwwODxAREhQVFhgaGxwdHh8=",
          "dtype": "i1"
         },
         "y": {
          "bdata": "AAAAAAAAAAAAAAAAAAAAAAAAAAAAAAAACtejcD0Ktz8AAAAAAAAAAEA1XrpJDMI/AAAAAAAAAABxPQrXo3C9PxFYObTIdq4/AAAAAAAAAAAAAAAAAAAAAAAAAAAAAAAAAAAAAAAAAABteHqlLEOsPwAAAAAAAAAAAAAAAAAAAAAAAAAAAAAAAAAAAAAAAAAAAAAAAAAAAAAAAAAAAAAAAA==",
          "dtype": "f8"
         }
        }
       ],
       "layout": {
        "barmode": "stack",
        "legend": {
         "title": {
          "text": "Class and Type"
         },
         "x": 1.05,
         "y": 1
        },
        "template": {
         "data": {
          "bar": [
           {
            "error_x": {
             "color": "#2a3f5f"
            },
            "error_y": {
             "color": "#2a3f5f"
            },
            "marker": {
             "line": {
              "color": "#E5ECF6",
              "width": 0.5
             },
             "pattern": {
              "fillmode": "overlay",
              "size": 10,
              "solidity": 0.2
             }
            },
            "type": "bar"
           }
          ],
          "barpolar": [
           {
            "marker": {
             "line": {
              "color": "#E5ECF6",
              "width": 0.5
             },
             "pattern": {
              "fillmode": "overlay",
              "size": 10,
              "solidity": 0.2
             }
            },
            "type": "barpolar"
           }
          ],
          "carpet": [
           {
            "aaxis": {
             "endlinecolor": "#2a3f5f",
             "gridcolor": "white",
             "linecolor": "white",
             "minorgridcolor": "white",
             "startlinecolor": "#2a3f5f"
            },
            "baxis": {
             "endlinecolor": "#2a3f5f",
             "gridcolor": "white",
             "linecolor": "white",
             "minorgridcolor": "white",
             "startlinecolor": "#2a3f5f"
            },
            "type": "carpet"
           }
          ],
          "choropleth": [
           {
            "colorbar": {
             "outlinewidth": 0,
             "ticks": ""
            },
            "type": "choropleth"
           }
          ],
          "contour": [
           {
            "colorbar": {
             "outlinewidth": 0,
             "ticks": ""
            },
            "colorscale": [
             [
              0,
              "#0d0887"
             ],
             [
              0.1111111111111111,
              "#46039f"
             ],
             [
              0.2222222222222222,
              "#7201a8"
             ],
             [
              0.3333333333333333,
              "#9c179e"
             ],
             [
              0.4444444444444444,
              "#bd3786"
             ],
             [
              0.5555555555555556,
              "#d8576b"
             ],
             [
              0.6666666666666666,
              "#ed7953"
             ],
             [
              0.7777777777777778,
              "#fb9f3a"
             ],
             [
              0.8888888888888888,
              "#fdca26"
             ],
             [
              1,
              "#f0f921"
             ]
            ],
            "type": "contour"
           }
          ],
          "contourcarpet": [
           {
            "colorbar": {
             "outlinewidth": 0,
             "ticks": ""
            },
            "type": "contourcarpet"
           }
          ],
          "heatmap": [
           {
            "colorbar": {
             "outlinewidth": 0,
             "ticks": ""
            },
            "colorscale": [
             [
              0,
              "#0d0887"
             ],
             [
              0.1111111111111111,
              "#46039f"
             ],
             [
              0.2222222222222222,
              "#7201a8"
             ],
             [
              0.3333333333333333,
              "#9c179e"
             ],
             [
              0.4444444444444444,
              "#bd3786"
             ],
             [
              0.5555555555555556,
              "#d8576b"
             ],
             [
              0.6666666666666666,
              "#ed7953"
             ],
             [
              0.7777777777777778,
              "#fb9f3a"
             ],
             [
              0.8888888888888888,
              "#fdca26"
             ],
             [
              1,
              "#f0f921"
             ]
            ],
            "type": "heatmap"
           }
          ],
          "histogram": [
           {
            "marker": {
             "pattern": {
              "fillmode": "overlay",
              "size": 10,
              "solidity": 0.2
             }
            },
            "type": "histogram"
           }
          ],
          "histogram2d": [
           {
            "colorbar": {
             "outlinewidth": 0,
             "ticks": ""
            },
            "colorscale": [
             [
              0,
              "#0d0887"
             ],
             [
              0.1111111111111111,
              "#46039f"
             ],
             [
              0.2222222222222222,
              "#7201a8"
             ],
             [
              0.3333333333333333,
              "#9c179e"
             ],
             [
              0.4444444444444444,
              "#bd3786"
             ],
             [
              0.5555555555555556,
              "#d8576b"
             ],
             [
              0.6666666666666666,
              "#ed7953"
             ],
             [
              0.7777777777777778,
              "#fb9f3a"
             ],
             [
              0.8888888888888888,
              "#fdca26"
             ],
             [
              1,
              "#f0f921"
             ]
            ],
            "type": "histogram2d"
           }
          ],
          "histogram2dcontour": [
           {
            "colorbar": {
             "outlinewidth": 0,
             "ticks": ""
            },
            "colorscale": [
             [
              0,
              "#0d0887"
             ],
             [
              0.1111111111111111,
              "#46039f"
             ],
             [
              0.2222222222222222,
              "#7201a8"
             ],
             [
              0.3333333333333333,
              "#9c179e"
             ],
             [
              0.4444444444444444,
              "#bd3786"
             ],
             [
              0.5555555555555556,
              "#d8576b"
             ],
             [
              0.6666666666666666,
              "#ed7953"
             ],
             [
              0.7777777777777778,
              "#fb9f3a"
             ],
             [
              0.8888888888888888,
              "#fdca26"
             ],
             [
              1,
              "#f0f921"
             ]
            ],
            "type": "histogram2dcontour"
           }
          ],
          "mesh3d": [
           {
            "colorbar": {
             "outlinewidth": 0,
             "ticks": ""
            },
            "type": "mesh3d"
           }
          ],
          "parcoords": [
           {
            "line": {
             "colorbar": {
              "outlinewidth": 0,
              "ticks": ""
             }
            },
            "type": "parcoords"
           }
          ],
          "pie": [
           {
            "automargin": true,
            "type": "pie"
           }
          ],
          "scatter": [
           {
            "fillpattern": {
             "fillmode": "overlay",
             "size": 10,
             "solidity": 0.2
            },
            "type": "scatter"
           }
          ],
          "scatter3d": [
           {
            "line": {
             "colorbar": {
              "outlinewidth": 0,
              "ticks": ""
             }
            },
            "marker": {
             "colorbar": {
              "outlinewidth": 0,
              "ticks": ""
             }
            },
            "type": "scatter3d"
           }
          ],
          "scattercarpet": [
           {
            "marker": {
             "colorbar": {
              "outlinewidth": 0,
              "ticks": ""
             }
            },
            "type": "scattercarpet"
           }
          ],
          "scattergeo": [
           {
            "marker": {
             "colorbar": {
              "outlinewidth": 0,
              "ticks": ""
             }
            },
            "type": "scattergeo"
           }
          ],
          "scattergl": [
           {
            "marker": {
             "colorbar": {
              "outlinewidth": 0,
              "ticks": ""
             }
            },
            "type": "scattergl"
           }
          ],
          "scattermap": [
           {
            "marker": {
             "colorbar": {
              "outlinewidth": 0,
              "ticks": ""
             }
            },
            "type": "scattermap"
           }
          ],
          "scattermapbox": [
           {
            "marker": {
             "colorbar": {
              "outlinewidth": 0,
              "ticks": ""
             }
            },
            "type": "scattermapbox"
           }
          ],
          "scatterpolar": [
           {
            "marker": {
             "colorbar": {
              "outlinewidth": 0,
              "ticks": ""
             }
            },
            "type": "scatterpolar"
           }
          ],
          "scatterpolargl": [
           {
            "marker": {
             "colorbar": {
              "outlinewidth": 0,
              "ticks": ""
             }
            },
            "type": "scatterpolargl"
           }
          ],
          "scatterternary": [
           {
            "marker": {
             "colorbar": {
              "outlinewidth": 0,
              "ticks": ""
             }
            },
            "type": "scatterternary"
           }
          ],
          "surface": [
           {
            "colorbar": {
             "outlinewidth": 0,
             "ticks": ""
            },
            "colorscale": [
             [
              0,
              "#0d0887"
             ],
             [
              0.1111111111111111,
              "#46039f"
             ],
             [
              0.2222222222222222,
              "#7201a8"
             ],
             [
              0.3333333333333333,
              "#9c179e"
             ],
             [
              0.4444444444444444,
              "#bd3786"
             ],
             [
              0.5555555555555556,
              "#d8576b"
             ],
             [
              0.6666666666666666,
              "#ed7953"
             ],
             [
              0.7777777777777778,
              "#fb9f3a"
             ],
             [
              0.8888888888888888,
              "#fdca26"
             ],
             [
              1,
              "#f0f921"
             ]
            ],
            "type": "surface"
           }
          ],
          "table": [
           {
            "cells": {
             "fill": {
              "color": "#EBF0F8"
             },
             "line": {
              "color": "white"
             }
            },
            "header": {
             "fill": {
              "color": "#C8D4E3"
             },
             "line": {
              "color": "white"
             }
            },
            "type": "table"
           }
          ]
         },
         "layout": {
          "annotationdefaults": {
           "arrowcolor": "#2a3f5f",
           "arrowhead": 0,
           "arrowwidth": 1
          },
          "autotypenumbers": "strict",
          "coloraxis": {
           "colorbar": {
            "outlinewidth": 0,
            "ticks": ""
           }
          },
          "colorscale": {
           "diverging": [
            [
             0,
             "#8e0152"
            ],
            [
             0.1,
             "#c51b7d"
            ],
            [
             0.2,
             "#de77ae"
            ],
            [
             0.3,
             "#f1b6da"
            ],
            [
             0.4,
             "#fde0ef"
            ],
            [
             0.5,
             "#f7f7f7"
            ],
            [
             0.6,
             "#e6f5d0"
            ],
            [
             0.7,
             "#b8e186"
            ],
            [
             0.8,
             "#7fbc41"
            ],
            [
             0.9,
             "#4d9221"
            ],
            [
             1,
             "#276419"
            ]
           ],
           "sequential": [
            [
             0,
             "#0d0887"
            ],
            [
             0.1111111111111111,
             "#46039f"
            ],
            [
             0.2222222222222222,
             "#7201a8"
            ],
            [
             0.3333333333333333,
             "#9c179e"
            ],
            [
             0.4444444444444444,
             "#bd3786"
            ],
            [
             0.5555555555555556,
             "#d8576b"
            ],
            [
             0.6666666666666666,
             "#ed7953"
            ],
            [
             0.7777777777777778,
             "#fb9f3a"
            ],
            [
             0.8888888888888888,
             "#fdca26"
            ],
            [
             1,
             "#f0f921"
            ]
           ],
           "sequentialminus": [
            [
             0,
             "#0d0887"
            ],
            [
             0.1111111111111111,
             "#46039f"
            ],
            [
             0.2222222222222222,
             "#7201a8"
            ],
            [
             0.3333333333333333,
             "#9c179e"
            ],
            [
             0.4444444444444444,
             "#bd3786"
            ],
            [
             0.5555555555555556,
             "#d8576b"
            ],
            [
             0.6666666666666666,
             "#ed7953"
            ],
            [
             0.7777777777777778,
             "#fb9f3a"
            ],
            [
             0.8888888888888888,
             "#fdca26"
            ],
            [
             1,
             "#f0f921"
            ]
           ]
          },
          "colorway": [
           "#636efa",
           "#EF553B",
           "#00cc96",
           "#ab63fa",
           "#FFA15A",
           "#19d3f3",
           "#FF6692",
           "#B6E880",
           "#FF97FF",
           "#FECB52"
          ],
          "font": {
           "color": "#2a3f5f"
          },
          "geo": {
           "bgcolor": "white",
           "lakecolor": "white",
           "landcolor": "#E5ECF6",
           "showlakes": true,
           "showland": true,
           "subunitcolor": "white"
          },
          "hoverlabel": {
           "align": "left"
          },
          "hovermode": "closest",
          "mapbox": {
           "style": "light"
          },
          "paper_bgcolor": "white",
          "plot_bgcolor": "#E5ECF6",
          "polar": {
           "angularaxis": {
            "gridcolor": "white",
            "linecolor": "white",
            "ticks": ""
           },
           "bgcolor": "#E5ECF6",
           "radialaxis": {
            "gridcolor": "white",
            "linecolor": "white",
            "ticks": ""
           }
          },
          "scene": {
           "xaxis": {
            "backgroundcolor": "#E5ECF6",
            "gridcolor": "white",
            "gridwidth": 2,
            "linecolor": "white",
            "showbackground": true,
            "ticks": "",
            "zerolinecolor": "white"
           },
           "yaxis": {
            "backgroundcolor": "#E5ECF6",
            "gridcolor": "white",
            "gridwidth": 2,
            "linecolor": "white",
            "showbackground": true,
            "ticks": "",
            "zerolinecolor": "white"
           },
           "zaxis": {
            "backgroundcolor": "#E5ECF6",
            "gridcolor": "white",
            "gridwidth": 2,
            "linecolor": "white",
            "showbackground": true,
            "ticks": "",
            "zerolinecolor": "white"
           }
          },
          "shapedefaults": {
           "line": {
            "color": "#2a3f5f"
           }
          },
          "ternary": {
           "aaxis": {
            "gridcolor": "white",
            "linecolor": "white",
            "ticks": ""
           },
           "baxis": {
            "gridcolor": "white",
            "linecolor": "white",
            "ticks": ""
           },
           "bgcolor": "#E5ECF6",
           "caxis": {
            "gridcolor": "white",
            "linecolor": "white",
            "ticks": ""
           }
          },
          "title": {
           "x": 0.05
          },
          "xaxis": {
           "automargin": true,
           "gridcolor": "white",
           "linecolor": "white",
           "ticks": "",
           "title": {
            "standoff": 15
           },
           "zerolinecolor": "white",
           "zerolinewidth": 2
          },
          "yaxis": {
           "automargin": true,
           "gridcolor": "white",
           "linecolor": "white",
           "ticks": "",
           "title": {
            "standoff": 15
           },
           "zerolinecolor": "white",
           "zerolinewidth": 2
          }
         }
        },
        "title": {
         "text": "Stacked Bar Plot of Hectares by Week Transplanted"
        },
        "xaxis": {
         "categoryorder": "total descending",
         "tickangle": 45,
         "title": {
          "text": "Week Transplanted"
         }
        },
        "yaxis": {
         "title": {
          "text": "Hectares (Ha)"
         }
        }
       }
      }
     },
     "metadata": {},
     "output_type": "display_data"
    }
   ],
   "source": [
    "\n",
    "\n",
    "# Prepare data for the stacked bar plot\n",
    "data = []\n",
    "for class_type in class_pivot.index:\n",
    "    data.append(go.Bar(\n",
    "        name=f'{class_type}',\n",
    "        x=class_pivot.columns,\n",
    "        y=class_pivot.loc[class_type]\n",
    "    ))\n",
    "\n",
    "# Create the figure\n",
    "fig = go.Figure(data=data)\n",
    "\n",
    "# Update layout for the plot\n",
    "fig.update_layout(\n",
    "    barmode='stack',\n",
    "    title='Stacked Bar Plot of Hectares by Week Transplanted',\n",
    "    xaxis_title='Week Transplanted',\n",
    "    yaxis_title='Hectares (Ha)',\n",
    "    legend_title='Class and Type',\n",
    "    xaxis=dict(tickangle=45, categoryorder='total descending'),\n",
    "    legend=dict(x=1.05, y=1)\n",
    ")\n",
    "\n",
    "# Show plot\n",
    "fig.show()\n"
   ]
  },
  {
   "cell_type": "code",
   "execution_count": 11,
   "metadata": {},
   "outputs": [
    {
     "data": {
      "application/vnd.plotly.v1+json": {
       "config": {
        "plotlyServerURL": "https://plot.ly"
       },
       "data": [
        {
         "name": "OAP",
         "type": "bar",
         "x": {
          "bdata": "BAYJCwwODxAREhQVFhgaGxwdHh8=",
          "dtype": "i1"
         },
         "y": {
          "bdata": "AAAAAAAAAAAAAAAAAAAAAAAAAAAAAAAAAAAAAAAAAAAAAAAAAAAAAAAAAAAAAAAAK4cW2c73/z/FILByaJEBQNz5fmq8dOM/AAAAAAAAAAAEVg4tsp0HQAAAAAAAAAAAtMh2vp8a/z+0yHa+nxrvP9nO91Pjpfs/L90kBoGV4z8AAAAAAAAAAAAAAAAAAAAAAAAAAAAAAAAAAAAAAAAAAA==",
          "dtype": "f8"
         }
        },
        {
         "name": "SFB",
         "type": "bar",
         "x": {
          "bdata": "BAYJCwwODxAREhQVFhgaGxwdHh8=",
          "dtype": "i1"
         },
         "y": {
          "bdata": "AAAAAAAAAAAAAAAAAAAAAAAAAAAAAAAAAAAAAAAAAAAAAAAAAAAAAC6QoPgx5v4/AAAAAAAAAAAAAAAAAAAAAAAAAAAAAAAAAAAAAAAAAAAAAAAAAAAAAAAAAAAAAAAAAAAAAAAAAAAAAAAAAAAAAAAAAAAAAAAAAAAAAAAAAAAVrkfhehT2PwAAAAAAAAAAAAAAAAAAAAAAAAAAAAAAAA==",
          "dtype": "f8"
         }
        },
        {
         "name": "SGB",
         "type": "bar",
         "x": {
          "bdata": "BAYJCwwODxAREhQVFhgaGxwdHh8=",
          "dtype": "i1"
         },
         "y": {
          "bdata": "AAAAAAAAAAAAAAAAAAAAAAAAAAAAAAAAAAAAAAAAAABPQBNhw9PnPwAAAAAAAAAAsHJoke180z8AAAAAAAAAAJf/kH77OvM/AAAAAAAAAAAAAAAAAAAAAAAAAAAAAAAAAAAAAAAAAAAAAAAAAAAAAAAAAAAAAAAAAAAAAAAAAAAAAAAAAAAAAAAAAAAAAAAAAAAAAAAAAAD0H9JvXwfuPw==",
          "dtype": "f8"
         }
        },
        {
         "name": "SJB",
         "type": "bar",
         "x": {
          "bdata": "BAYJCwwODxAREhQVFhgaGxwdHh8=",
          "dtype": "i1"
         },
         "y": {
          "bdata": "AAAAAAAAAAAAAAAAAAAAAAAAAAAAAAAAAAAAAAAAAAAAAAAAAAAAABPyQc9m1f4/AAAAAAAAAACamZmZmZm5PwAAAAAAAAAAAAAAAAAAAAAAAAAAAAAAAAAAAAAAAAAAAAAAAAAAAABQr5RliGP/PwAAAAAAAAAAAAAAAAAAAAAAAAAAAAAAAAAAAAAAAAAAAAAAAAAAAAAAAAAAAAAAAA==",
          "dtype": "f8"
         }
        },
        {
         "name": "SMB",
         "type": "bar",
         "x": {
          "bdata": "BAYJCwwODxAREhQVFhgaGxwdHh8=",
          "dtype": "i1"
         },
         "y": {
          "bdata": "AAAAAAAAAAAAAAAAAAAAAAAAAAAAAAAAAAAAAAAAAAAAAAAAAAAAAAAAAAAAAAAAAAAAAAAAAAAAAAAAAADwPwAAAAAAAAAAFK5H4XoU7j8AAAAAAAAAAHsUrkfhevQ/cD0K16Nw7T8AAAAAAAAAAAAAAAAAAAAANDMzMzMz4z8AAAAAAAAAAAAAAAAAAAAAAAAAAAAAAAAAAAAAAAAAAA==",
          "dtype": "f8"
         }
        },
        {
         "name": "VAP",
         "type": "bar",
         "x": {
          "bdata": "BAYJCwwODxAREhQVFhgaGxwdHh8=",
          "dtype": "i1"
         },
         "y": {
          "bdata": "4E+Nl24S+z9mZmZmZmYMQM4ZUdobfANAe6UsQxzr/z+xUGuad5wCQAAAAAAAAAAAAAAAAAAAAAD4U+Olm8TyP0zIBz2b1QBAAAAAAAAAAAAAAAAAAAAAAAAAAAAAAAAAAAAAAAAAAAAAAAAAAAAAAAAAAAAAAAAAR5T2Bl9YHUAAAAAAAAAAAG40gLdAgghAtch2vp8axz8AAAAAAAAAAA==",
          "dtype": "f8"
         }
        }
       ],
       "layout": {
        "barmode": "stack",
        "legend": {
         "title": {
          "text": "Ranch"
         },
         "x": 1.05,
         "y": 1
        },
        "template": {
         "data": {
          "bar": [
           {
            "error_x": {
             "color": "#2a3f5f"
            },
            "error_y": {
             "color": "#2a3f5f"
            },
            "marker": {
             "line": {
              "color": "#E5ECF6",
              "width": 0.5
             },
             "pattern": {
              "fillmode": "overlay",
              "size": 10,
              "solidity": 0.2
             }
            },
            "type": "bar"
           }
          ],
          "barpolar": [
           {
            "marker": {
             "line": {
              "color": "#E5ECF6",
              "width": 0.5
             },
             "pattern": {
              "fillmode": "overlay",
              "size": 10,
              "solidity": 0.2
             }
            },
            "type": "barpolar"
           }
          ],
          "carpet": [
           {
            "aaxis": {
             "endlinecolor": "#2a3f5f",
             "gridcolor": "white",
             "linecolor": "white",
             "minorgridcolor": "white",
             "startlinecolor": "#2a3f5f"
            },
            "baxis": {
             "endlinecolor": "#2a3f5f",
             "gridcolor": "white",
             "linecolor": "white",
             "minorgridcolor": "white",
             "startlinecolor": "#2a3f5f"
            },
            "type": "carpet"
           }
          ],
          "choropleth": [
           {
            "colorbar": {
             "outlinewidth": 0,
             "ticks": ""
            },
            "type": "choropleth"
           }
          ],
          "contour": [
           {
            "colorbar": {
             "outlinewidth": 0,
             "ticks": ""
            },
            "colorscale": [
             [
              0,
              "#0d0887"
             ],
             [
              0.1111111111111111,
              "#46039f"
             ],
             [
              0.2222222222222222,
              "#7201a8"
             ],
             [
              0.3333333333333333,
              "#9c179e"
             ],
             [
              0.4444444444444444,
              "#bd3786"
             ],
             [
              0.5555555555555556,
              "#d8576b"
             ],
             [
              0.6666666666666666,
              "#ed7953"
             ],
             [
              0.7777777777777778,
              "#fb9f3a"
             ],
             [
              0.8888888888888888,
              "#fdca26"
             ],
             [
              1,
              "#f0f921"
             ]
            ],
            "type": "contour"
           }
          ],
          "contourcarpet": [
           {
            "colorbar": {
             "outlinewidth": 0,
             "ticks": ""
            },
            "type": "contourcarpet"
           }
          ],
          "heatmap": [
           {
            "colorbar": {
             "outlinewidth": 0,
             "ticks": ""
            },
            "colorscale": [
             [
              0,
              "#0d0887"
             ],
             [
              0.1111111111111111,
              "#46039f"
             ],
             [
              0.2222222222222222,
              "#7201a8"
             ],
             [
              0.3333333333333333,
              "#9c179e"
             ],
             [
              0.4444444444444444,
              "#bd3786"
             ],
             [
              0.5555555555555556,
              "#d8576b"
             ],
             [
              0.6666666666666666,
              "#ed7953"
             ],
             [
              0.7777777777777778,
              "#fb9f3a"
             ],
             [
              0.8888888888888888,
              "#fdca26"
             ],
             [
              1,
              "#f0f921"
             ]
            ],
            "type": "heatmap"
           }
          ],
          "histogram": [
           {
            "marker": {
             "pattern": {
              "fillmode": "overlay",
              "size": 10,
              "solidity": 0.2
             }
            },
            "type": "histogram"
           }
          ],
          "histogram2d": [
           {
            "colorbar": {
             "outlinewidth": 0,
             "ticks": ""
            },
            "colorscale": [
             [
              0,
              "#0d0887"
             ],
             [
              0.1111111111111111,
              "#46039f"
             ],
             [
              0.2222222222222222,
              "#7201a8"
             ],
             [
              0.3333333333333333,
              "#9c179e"
             ],
             [
              0.4444444444444444,
              "#bd3786"
             ],
             [
              0.5555555555555556,
              "#d8576b"
             ],
             [
              0.6666666666666666,
              "#ed7953"
             ],
             [
              0.7777777777777778,
              "#fb9f3a"
             ],
             [
              0.8888888888888888,
              "#fdca26"
             ],
             [
              1,
              "#f0f921"
             ]
            ],
            "type": "histogram2d"
           }
          ],
          "histogram2dcontour": [
           {
            "colorbar": {
             "outlinewidth": 0,
             "ticks": ""
            },
            "colorscale": [
             [
              0,
              "#0d0887"
             ],
             [
              0.1111111111111111,
              "#46039f"
             ],
             [
              0.2222222222222222,
              "#7201a8"
             ],
             [
              0.3333333333333333,
              "#9c179e"
             ],
             [
              0.4444444444444444,
              "#bd3786"
             ],
             [
              0.5555555555555556,
              "#d8576b"
             ],
             [
              0.6666666666666666,
              "#ed7953"
             ],
             [
              0.7777777777777778,
              "#fb9f3a"
             ],
             [
              0.8888888888888888,
              "#fdca26"
             ],
             [
              1,
              "#f0f921"
             ]
            ],
            "type": "histogram2dcontour"
           }
          ],
          "mesh3d": [
           {
            "colorbar": {
             "outlinewidth": 0,
             "ticks": ""
            },
            "type": "mesh3d"
           }
          ],
          "parcoords": [
           {
            "line": {
             "colorbar": {
              "outlinewidth": 0,
              "ticks": ""
             }
            },
            "type": "parcoords"
           }
          ],
          "pie": [
           {
            "automargin": true,
            "type": "pie"
           }
          ],
          "scatter": [
           {
            "fillpattern": {
             "fillmode": "overlay",
             "size": 10,
             "solidity": 0.2
            },
            "type": "scatter"
           }
          ],
          "scatter3d": [
           {
            "line": {
             "colorbar": {
              "outlinewidth": 0,
              "ticks": ""
             }
            },
            "marker": {
             "colorbar": {
              "outlinewidth": 0,
              "ticks": ""
             }
            },
            "type": "scatter3d"
           }
          ],
          "scattercarpet": [
           {
            "marker": {
             "colorbar": {
              "outlinewidth": 0,
              "ticks": ""
             }
            },
            "type": "scattercarpet"
           }
          ],
          "scattergeo": [
           {
            "marker": {
             "colorbar": {
              "outlinewidth": 0,
              "ticks": ""
             }
            },
            "type": "scattergeo"
           }
          ],
          "scattergl": [
           {
            "marker": {
             "colorbar": {
              "outlinewidth": 0,
              "ticks": ""
             }
            },
            "type": "scattergl"
           }
          ],
          "scattermap": [
           {
            "marker": {
             "colorbar": {
              "outlinewidth": 0,
              "ticks": ""
             }
            },
            "type": "scattermap"
           }
          ],
          "scattermapbox": [
           {
            "marker": {
             "colorbar": {
              "outlinewidth": 0,
              "ticks": ""
             }
            },
            "type": "scattermapbox"
           }
          ],
          "scatterpolar": [
           {
            "marker": {
             "colorbar": {
              "outlinewidth": 0,
              "ticks": ""
             }
            },
            "type": "scatterpolar"
           }
          ],
          "scatterpolargl": [
           {
            "marker": {
             "colorbar": {
              "outlinewidth": 0,
              "ticks": ""
             }
            },
            "type": "scatterpolargl"
           }
          ],
          "scatterternary": [
           {
            "marker": {
             "colorbar": {
              "outlinewidth": 0,
              "ticks": ""
             }
            },
            "type": "scatterternary"
           }
          ],
          "surface": [
           {
            "colorbar": {
             "outlinewidth": 0,
             "ticks": ""
            },
            "colorscale": [
             [
              0,
              "#0d0887"
             ],
             [
              0.1111111111111111,
              "#46039f"
             ],
             [
              0.2222222222222222,
              "#7201a8"
             ],
             [
              0.3333333333333333,
              "#9c179e"
             ],
             [
              0.4444444444444444,
              "#bd3786"
             ],
             [
              0.5555555555555556,
              "#d8576b"
             ],
             [
              0.6666666666666666,
              "#ed7953"
             ],
             [
              0.7777777777777778,
              "#fb9f3a"
             ],
             [
              0.8888888888888888,
              "#fdca26"
             ],
             [
              1,
              "#f0f921"
             ]
            ],
            "type": "surface"
           }
          ],
          "table": [
           {
            "cells": {
             "fill": {
              "color": "#EBF0F8"
             },
             "line": {
              "color": "white"
             }
            },
            "header": {
             "fill": {
              "color": "#C8D4E3"
             },
             "line": {
              "color": "white"
             }
            },
            "type": "table"
           }
          ]
         },
         "layout": {
          "annotationdefaults": {
           "arrowcolor": "#2a3f5f",
           "arrowhead": 0,
           "arrowwidth": 1
          },
          "autotypenumbers": "strict",
          "coloraxis": {
           "colorbar": {
            "outlinewidth": 0,
            "ticks": ""
           }
          },
          "colorscale": {
           "diverging": [
            [
             0,
             "#8e0152"
            ],
            [
             0.1,
             "#c51b7d"
            ],
            [
             0.2,
             "#de77ae"
            ],
            [
             0.3,
             "#f1b6da"
            ],
            [
             0.4,
             "#fde0ef"
            ],
            [
             0.5,
             "#f7f7f7"
            ],
            [
             0.6,
             "#e6f5d0"
            ],
            [
             0.7,
             "#b8e186"
            ],
            [
             0.8,
             "#7fbc41"
            ],
            [
             0.9,
             "#4d9221"
            ],
            [
             1,
             "#276419"
            ]
           ],
           "sequential": [
            [
             0,
             "#0d0887"
            ],
            [
             0.1111111111111111,
             "#46039f"
            ],
            [
             0.2222222222222222,
             "#7201a8"
            ],
            [
             0.3333333333333333,
             "#9c179e"
            ],
            [
             0.4444444444444444,
             "#bd3786"
            ],
            [
             0.5555555555555556,
             "#d8576b"
            ],
            [
             0.6666666666666666,
             "#ed7953"
            ],
            [
             0.7777777777777778,
             "#fb9f3a"
            ],
            [
             0.8888888888888888,
             "#fdca26"
            ],
            [
             1,
             "#f0f921"
            ]
           ],
           "sequentialminus": [
            [
             0,
             "#0d0887"
            ],
            [
             0.1111111111111111,
             "#46039f"
            ],
            [
             0.2222222222222222,
             "#7201a8"
            ],
            [
             0.3333333333333333,
             "#9c179e"
            ],
            [
             0.4444444444444444,
             "#bd3786"
            ],
            [
             0.5555555555555556,
             "#d8576b"
            ],
            [
             0.6666666666666666,
             "#ed7953"
            ],
            [
             0.7777777777777778,
             "#fb9f3a"
            ],
            [
             0.8888888888888888,
             "#fdca26"
            ],
            [
             1,
             "#f0f921"
            ]
           ]
          },
          "colorway": [
           "#636efa",
           "#EF553B",
           "#00cc96",
           "#ab63fa",
           "#FFA15A",
           "#19d3f3",
           "#FF6692",
           "#B6E880",
           "#FF97FF",
           "#FECB52"
          ],
          "font": {
           "color": "#2a3f5f"
          },
          "geo": {
           "bgcolor": "white",
           "lakecolor": "white",
           "landcolor": "#E5ECF6",
           "showlakes": true,
           "showland": true,
           "subunitcolor": "white"
          },
          "hoverlabel": {
           "align": "left"
          },
          "hovermode": "closest",
          "mapbox": {
           "style": "light"
          },
          "paper_bgcolor": "white",
          "plot_bgcolor": "#E5ECF6",
          "polar": {
           "angularaxis": {
            "gridcolor": "white",
            "linecolor": "white",
            "ticks": ""
           },
           "bgcolor": "#E5ECF6",
           "radialaxis": {
            "gridcolor": "white",
            "linecolor": "white",
            "ticks": ""
           }
          },
          "scene": {
           "xaxis": {
            "backgroundcolor": "#E5ECF6",
            "gridcolor": "white",
            "gridwidth": 2,
            "linecolor": "white",
            "showbackground": true,
            "ticks": "",
            "zerolinecolor": "white"
           },
           "yaxis": {
            "backgroundcolor": "#E5ECF6",
            "gridcolor": "white",
            "gridwidth": 2,
            "linecolor": "white",
            "showbackground": true,
            "ticks": "",
            "zerolinecolor": "white"
           },
           "zaxis": {
            "backgroundcolor": "#E5ECF6",
            "gridcolor": "white",
            "gridwidth": 2,
            "linecolor": "white",
            "showbackground": true,
            "ticks": "",
            "zerolinecolor": "white"
           }
          },
          "shapedefaults": {
           "line": {
            "color": "#2a3f5f"
           }
          },
          "ternary": {
           "aaxis": {
            "gridcolor": "white",
            "linecolor": "white",
            "ticks": ""
           },
           "baxis": {
            "gridcolor": "white",
            "linecolor": "white",
            "ticks": ""
           },
           "bgcolor": "#E5ECF6",
           "caxis": {
            "gridcolor": "white",
            "linecolor": "white",
            "ticks": ""
           }
          },
          "title": {
           "x": 0.05
          },
          "xaxis": {
           "automargin": true,
           "gridcolor": "white",
           "linecolor": "white",
           "ticks": "",
           "title": {
            "standoff": 15
           },
           "zerolinecolor": "white",
           "zerolinewidth": 2
          },
          "yaxis": {
           "automargin": true,
           "gridcolor": "white",
           "linecolor": "white",
           "ticks": "",
           "title": {
            "standoff": 15
           },
           "zerolinecolor": "white",
           "zerolinewidth": 2
          }
         }
        },
        "title": {
         "text": "Stacked Bar Plot of Hectares by Week Transplanted (Ranch)"
        },
        "xaxis": {
         "categoryorder": "total descending",
         "tickangle": 45,
         "title": {
          "text": "Week Transplanted"
         }
        },
        "yaxis": {
         "title": {
          "text": "Hectares (Ha)"
         }
        }
       }
      }
     },
     "metadata": {},
     "output_type": "display_data"
    }
   ],
   "source": [
    "# Prepare data for the stacked bar plot by Ranch\n",
    "ranch_pivot = production_plan.pivot_table(\n",
    "    index='Ranch',\n",
    "    columns='WeekTransplanted',\n",
    "    values='Ha',\n",
    "    aggfunc='sum',\n",
    "    fill_value=0,\n",
    ")\n",
    "\n",
    "# Prepare data for the stacked bar plot\n",
    "ranch_data = []\n",
    "for ranch in ranch_pivot.index:\n",
    "    ranch_data.append(go.Bar(\n",
    "        name=f'{ranch}',\n",
    "        x=ranch_pivot.columns,\n",
    "        y=ranch_pivot.loc[ranch]\n",
    "    ))\n",
    "\n",
    "# Create the figure\n",
    "ranch_fig = go.Figure(data=ranch_data)\n",
    "\n",
    "# Update layout for the plot\n",
    "ranch_fig.update_layout(\n",
    "    barmode='stack',\n",
    "    title='Stacked Bar Plot of Hectares by Week Transplanted (Ranch)',\n",
    "    xaxis_title='Week Transplanted',\n",
    "    yaxis_title='Hectares (Ha)',\n",
    "    legend_title='Ranch',\n",
    "    xaxis=dict(tickangle=45, categoryorder='total descending'),\n",
    "    legend=dict(x=1.05, y=1)\n",
    ")\n",
    "\n",
    "# Show plot\n",
    "ranch_fig.show()\n"
   ]
  },
  {
   "cell_type": "markdown",
   "metadata": {},
   "source": [
    "initialize model"
   ]
  },
  {
   "cell_type": "code",
   "execution_count": 12,
   "metadata": {},
   "outputs": [
    {
     "name": "stdout",
     "output_type": "stream",
     "text": [
      "Epoch [1/200], Loss: 4404239.7315\n"
     ]
    }
   ],
   "source": [
    "model = utils.create_model(train,num_epochs=1)"
   ]
  },
  {
   "cell_type": "markdown",
   "metadata": {},
   "source": [
    "create predictions"
   ]
  },
  {
   "cell_type": "code",
   "execution_count": 38,
   "metadata": {},
   "outputs": [],
   "source": [
    "preds = utils.predict_harvest(model,test)\n"
   ]
  },
  {
   "cell_type": "code",
   "execution_count": 44,
   "metadata": {},
   "outputs": [],
   "source": [
    "production_plan['Kilos'] = preds.sum(axis=1)"
   ]
  },
  {
   "cell_type": "markdown",
   "metadata": {},
   "source": [
    "historical and predicted yield"
   ]
  },
  {
   "cell_type": "code",
   "execution_count": 48,
   "metadata": {},
   "outputs": [
    {
     "data": {
      "text/html": [
       "<div>\n",
       "<style scoped>\n",
       "    .dataframe tbody tr th:only-of-type {\n",
       "        vertical-align: middle;\n",
       "    }\n",
       "\n",
       "    .dataframe tbody tr th {\n",
       "        vertical-align: top;\n",
       "    }\n",
       "\n",
       "    .dataframe thead tr th {\n",
       "        text-align: left;\n",
       "    }\n",
       "\n",
       "    .dataframe thead tr:last-of-type th {\n",
       "        text-align: right;\n",
       "    }\n",
       "</style>\n",
       "<table border=\"1\" class=\"dataframe\">\n",
       "  <thead>\n",
       "    <tr>\n",
       "      <th></th>\n",
       "      <th></th>\n",
       "      <th></th>\n",
       "      <th>Ha</th>\n",
       "      <th colspan=\"3\" halign=\"left\">WeekTransplanted</th>\n",
       "      <th>Kilos</th>\n",
       "      <th>Yield</th>\n",
       "    </tr>\n",
       "    <tr>\n",
       "      <th></th>\n",
       "      <th></th>\n",
       "      <th></th>\n",
       "      <th>sum</th>\n",
       "      <th>min</th>\n",
       "      <th>max</th>\n",
       "      <th>count</th>\n",
       "      <th>sum</th>\n",
       "      <th></th>\n",
       "    </tr>\n",
       "    <tr>\n",
       "      <th>Class</th>\n",
       "      <th>Type</th>\n",
       "      <th>Ranch</th>\n",
       "      <th></th>\n",
       "      <th></th>\n",
       "      <th></th>\n",
       "      <th></th>\n",
       "      <th></th>\n",
       "      <th></th>\n",
       "    </tr>\n",
       "  </thead>\n",
       "  <tbody>\n",
       "    <tr>\n",
       "      <th rowspan=\"12\" valign=\"top\">BSUF</th>\n",
       "      <th rowspan=\"6\" valign=\"top\">Uva Amarilla</th>\n",
       "      <th>OAP</th>\n",
       "      <td>0.7200</td>\n",
       "      <td>17</td>\n",
       "      <td>26</td>\n",
       "      <td>3</td>\n",
       "      <td>3089.205078</td>\n",
       "      <td>4290.562609</td>\n",
       "    </tr>\n",
       "    <tr>\n",
       "      <th>SFB</th>\n",
       "      <td>0.3200</td>\n",
       "      <td>14</td>\n",
       "      <td>28</td>\n",
       "      <td>2</td>\n",
       "      <td>2038.649414</td>\n",
       "      <td>6370.779419</td>\n",
       "    </tr>\n",
       "    <tr>\n",
       "      <th>SGB</th>\n",
       "      <td>0.1715</td>\n",
       "      <td>15</td>\n",
       "      <td>17</td>\n",
       "      <td>2</td>\n",
       "      <td>2034.667969</td>\n",
       "      <td>11863.953171</td>\n",
       "    </tr>\n",
       "    <tr>\n",
       "      <th>SJB</th>\n",
       "      <td>0.1900</td>\n",
       "      <td>14</td>\n",
       "      <td>24</td>\n",
       "      <td>2</td>\n",
       "      <td>2035.157227</td>\n",
       "      <td>10711.353824</td>\n",
       "    </tr>\n",
       "    <tr>\n",
       "      <th>SMB</th>\n",
       "      <td>0.2400</td>\n",
       "      <td>18</td>\n",
       "      <td>21</td>\n",
       "      <td>2</td>\n",
       "      <td>2048.662354</td>\n",
       "      <td>8536.093140</td>\n",
       "    </tr>\n",
       "    <tr>\n",
       "      <th>VAP</th>\n",
       "      <td>0.8330</td>\n",
       "      <td>6</td>\n",
       "      <td>27</td>\n",
       "      <td>3</td>\n",
       "      <td>3063.554688</td>\n",
       "      <td>3677.736720</td>\n",
       "    </tr>\n",
       "    <tr>\n",
       "      <th rowspan=\"6\" valign=\"top\">Uva Roja</th>\n",
       "      <th>OAP</th>\n",
       "      <td>7.4880</td>\n",
       "      <td>15</td>\n",
       "      <td>26</td>\n",
       "      <td>12</td>\n",
       "      <td>12909.986328</td>\n",
       "      <td>1724.090055</td>\n",
       "    </tr>\n",
       "    <tr>\n",
       "      <th>SFB</th>\n",
       "      <td>1.3620</td>\n",
       "      <td>14</td>\n",
       "      <td>28</td>\n",
       "      <td>3</td>\n",
       "      <td>3191.653809</td>\n",
       "      <td>2343.358156</td>\n",
       "    </tr>\n",
       "    <tr>\n",
       "      <th>SGB</th>\n",
       "      <td>1.5028</td>\n",
       "      <td>12</td>\n",
       "      <td>31</td>\n",
       "      <td>4</td>\n",
       "      <td>4213.804199</td>\n",
       "      <td>2803.968725</td>\n",
       "    </tr>\n",
       "    <tr>\n",
       "      <th>SJB</th>\n",
       "      <td>1.9995</td>\n",
       "      <td>14</td>\n",
       "      <td>24</td>\n",
       "      <td>3</td>\n",
       "      <td>3207.151855</td>\n",
       "      <td>1603.976922</td>\n",
       "    </tr>\n",
       "    <tr>\n",
       "      <th>SMB</th>\n",
       "      <td>2.1800</td>\n",
       "      <td>16</td>\n",
       "      <td>22</td>\n",
       "      <td>6</td>\n",
       "      <td>6370.477051</td>\n",
       "      <td>2922.237179</td>\n",
       "    </tr>\n",
       "    <tr>\n",
       "      <th>VAP</th>\n",
       "      <td>13.3812</td>\n",
       "      <td>4</td>\n",
       "      <td>29</td>\n",
       "      <td>26</td>\n",
       "      <td>27505.291016</td>\n",
       "      <td>2055.517518</td>\n",
       "    </tr>\n",
       "    <tr>\n",
       "      <th rowspan=\"27\" valign=\"top\">CHE</th>\n",
       "      <th rowspan=\"5\" valign=\"top\">Cherry Naranja</th>\n",
       "      <th>SFB</th>\n",
       "      <td>0.0172</td>\n",
       "      <td>14</td>\n",
       "      <td>14</td>\n",
       "      <td>1</td>\n",
       "      <td>1001.381836</td>\n",
       "      <td>58219.874182</td>\n",
       "    </tr>\n",
       "    <tr>\n",
       "      <th>SGB</th>\n",
       "      <td>0.1078</td>\n",
       "      <td>15</td>\n",
       "      <td>17</td>\n",
       "      <td>2</td>\n",
       "      <td>1993.500977</td>\n",
       "      <td>18492.587909</td>\n",
       "    </tr>\n",
       "    <tr>\n",
       "      <th>SJB</th>\n",
       "      <td>0.0804</td>\n",
       "      <td>14</td>\n",
       "      <td>24</td>\n",
       "      <td>2</td>\n",
       "      <td>1992.743042</td>\n",
       "      <td>24785.361219</td>\n",
       "    </tr>\n",
       "    <tr>\n",
       "      <th>SMB</th>\n",
       "      <td>0.0600</td>\n",
       "      <td>18</td>\n",
       "      <td>18</td>\n",
       "      <td>1</td>\n",
       "      <td>1003.489258</td>\n",
       "      <td>16724.820964</td>\n",
       "    </tr>\n",
       "    <tr>\n",
       "      <th>VAP</th>\n",
       "      <td>0.3875</td>\n",
       "      <td>12</td>\n",
       "      <td>30</td>\n",
       "      <td>4</td>\n",
       "      <td>3995.637207</td>\n",
       "      <td>10311.321825</td>\n",
       "    </tr>\n",
       "    <tr>\n",
       "      <th rowspan=\"6\" valign=\"top\">Cherry Rojo</th>\n",
       "      <th>OAP</th>\n",
       "      <td>3.9920</td>\n",
       "      <td>15</td>\n",
       "      <td>27</td>\n",
       "      <td>7</td>\n",
       "      <td>7416.484375</td>\n",
       "      <td>1857.836767</td>\n",
       "    </tr>\n",
       "    <tr>\n",
       "      <th>SFB</th>\n",
       "      <td>1.1160</td>\n",
       "      <td>14</td>\n",
       "      <td>28</td>\n",
       "      <td>2</td>\n",
       "      <td>2100.333496</td>\n",
       "      <td>1882.019262</td>\n",
       "    </tr>\n",
       "    <tr>\n",
       "      <th>SGB</th>\n",
       "      <td>1.0251</td>\n",
       "      <td>12</td>\n",
       "      <td>31</td>\n",
       "      <td>3</td>\n",
       "      <td>3103.128174</td>\n",
       "      <td>3027.146789</td>\n",
       "    </tr>\n",
       "    <tr>\n",
       "      <th>SJB</th>\n",
       "      <td>1.2102</td>\n",
       "      <td>14</td>\n",
       "      <td>24</td>\n",
       "      <td>2</td>\n",
       "      <td>2102.932861</td>\n",
       "      <td>1737.673824</td>\n",
       "    </tr>\n",
       "    <tr>\n",
       "      <th>SMB</th>\n",
       "      <td>1.9000</td>\n",
       "      <td>16</td>\n",
       "      <td>27</td>\n",
       "      <td>3</td>\n",
       "      <td>3160.851562</td>\n",
       "      <td>1663.606086</td>\n",
       "    </tr>\n",
       "    <tr>\n",
       "      <th>VAP</th>\n",
       "      <td>8.9636</td>\n",
       "      <td>4</td>\n",
       "      <td>29</td>\n",
       "      <td>13</td>\n",
       "      <td>13643.461914</td>\n",
       "      <td>1522.096246</td>\n",
       "    </tr>\n",
       "    <tr>\n",
       "      <th rowspan=\"6\" valign=\"top\">Cherry Rosa</th>\n",
       "      <th>OAP</th>\n",
       "      <td>0.6660</td>\n",
       "      <td>15</td>\n",
       "      <td>22</td>\n",
       "      <td>3</td>\n",
       "      <td>3154.019775</td>\n",
       "      <td>4735.765429</td>\n",
       "    </tr>\n",
       "    <tr>\n",
       "      <th>SFB</th>\n",
       "      <td>0.3040</td>\n",
       "      <td>14</td>\n",
       "      <td>28</td>\n",
       "      <td>2</td>\n",
       "      <td>2078.711914</td>\n",
       "      <td>6837.868138</td>\n",
       "    </tr>\n",
       "    <tr>\n",
       "      <th>SGB</th>\n",
       "      <td>0.2632</td>\n",
       "      <td>15</td>\n",
       "      <td>17</td>\n",
       "      <td>2</td>\n",
       "      <td>2077.656494</td>\n",
       "      <td>7893.831665</td>\n",
       "    </tr>\n",
       "    <tr>\n",
       "      <th>SJB</th>\n",
       "      <td>0.2994</td>\n",
       "      <td>14</td>\n",
       "      <td>24</td>\n",
       "      <td>2</td>\n",
       "      <td>2078.626465</td>\n",
       "      <td>6942.640163</td>\n",
       "    </tr>\n",
       "    <tr>\n",
       "      <th>SMB</th>\n",
       "      <td>0.2800</td>\n",
       "      <td>18</td>\n",
       "      <td>21</td>\n",
       "      <td>2</td>\n",
       "      <td>2090.246094</td>\n",
       "      <td>7465.164621</td>\n",
       "    </tr>\n",
       "    <tr>\n",
       "      <th>VAP</th>\n",
       "      <td>1.9713</td>\n",
       "      <td>9</td>\n",
       "      <td>29</td>\n",
       "      <td>6</td>\n",
       "      <td>6279.957031</td>\n",
       "      <td>3185.693213</td>\n",
       "    </tr>\n",
       "    <tr>\n",
       "      <th rowspan=\"6\" valign=\"top\">Pera Amarilla</th>\n",
       "      <th>OAP</th>\n",
       "      <td>0.1440</td>\n",
       "      <td>20</td>\n",
       "      <td>20</td>\n",
       "      <td>2</td>\n",
       "      <td>2059.632080</td>\n",
       "      <td>14303.000556</td>\n",
       "    </tr>\n",
       "    <tr>\n",
       "      <th>SFB</th>\n",
       "      <td>0.0960</td>\n",
       "      <td>14</td>\n",
       "      <td>14</td>\n",
       "      <td>1</td>\n",
       "      <td>1024.612793</td>\n",
       "      <td>10673.049927</td>\n",
       "    </tr>\n",
       "    <tr>\n",
       "      <th>SGB</th>\n",
       "      <td>0.0595</td>\n",
       "      <td>17</td>\n",
       "      <td>17</td>\n",
       "      <td>1</td>\n",
       "      <td>1019.071472</td>\n",
       "      <td>17127.251633</td>\n",
       "    </tr>\n",
       "    <tr>\n",
       "      <th>SJB</th>\n",
       "      <td>0.1092</td>\n",
       "      <td>14</td>\n",
       "      <td>24</td>\n",
       "      <td>2</td>\n",
       "      <td>2035.705566</td>\n",
       "      <td>18641.992366</td>\n",
       "    </tr>\n",
       "    <tr>\n",
       "      <th>SMB</th>\n",
       "      <td>0.0800</td>\n",
       "      <td>18</td>\n",
       "      <td>18</td>\n",
       "      <td>1</td>\n",
       "      <td>1025.122559</td>\n",
       "      <td>12814.031982</td>\n",
       "    </tr>\n",
       "    <tr>\n",
       "      <th>VAP</th>\n",
       "      <td>0.1150</td>\n",
       "      <td>16</td>\n",
       "      <td>16</td>\n",
       "      <td>1</td>\n",
       "      <td>1030.359497</td>\n",
       "      <td>8959.647801</td>\n",
       "    </tr>\n",
       "    <tr>\n",
       "      <th rowspan=\"4\" valign=\"top\">Pera Roja</th>\n",
       "      <th>SFB</th>\n",
       "      <td>0.0960</td>\n",
       "      <td>14</td>\n",
       "      <td>14</td>\n",
       "      <td>1</td>\n",
       "      <td>1018.676636</td>\n",
       "      <td>10611.214956</td>\n",
       "    </tr>\n",
       "    <tr>\n",
       "      <th>SGB</th>\n",
       "      <td>0.0595</td>\n",
       "      <td>17</td>\n",
       "      <td>17</td>\n",
       "      <td>1</td>\n",
       "      <td>1013.135315</td>\n",
       "      <td>17027.484285</td>\n",
       "    </tr>\n",
       "    <tr>\n",
       "      <th>SJB</th>\n",
       "      <td>0.1002</td>\n",
       "      <td>14</td>\n",
       "      <td>24</td>\n",
       "      <td>2</td>\n",
       "      <td>2023.588623</td>\n",
       "      <td>20195.495240</td>\n",
       "    </tr>\n",
       "    <tr>\n",
       "      <th>VAP</th>\n",
       "      <td>0.2050</td>\n",
       "      <td>11</td>\n",
       "      <td>16</td>\n",
       "      <td>2</td>\n",
       "      <td>2038.270508</td>\n",
       "      <td>9942.782965</td>\n",
       "    </tr>\n",
       "  </tbody>\n",
       "</table>\n",
       "</div>"
      ],
      "text/plain": [
       "                                 Ha WeekTransplanted                   Kilos  \\\n",
       "                                sum              min max count           sum   \n",
       "Class Type           Ranch                                                     \n",
       "BSUF  Uva Amarilla   OAP     0.7200               17  26     3   3089.205078   \n",
       "                     SFB     0.3200               14  28     2   2038.649414   \n",
       "                     SGB     0.1715               15  17     2   2034.667969   \n",
       "                     SJB     0.1900               14  24     2   2035.157227   \n",
       "                     SMB     0.2400               18  21     2   2048.662354   \n",
       "                     VAP     0.8330                6  27     3   3063.554688   \n",
       "      Uva Roja       OAP     7.4880               15  26    12  12909.986328   \n",
       "                     SFB     1.3620               14  28     3   3191.653809   \n",
       "                     SGB     1.5028               12  31     4   4213.804199   \n",
       "                     SJB     1.9995               14  24     3   3207.151855   \n",
       "                     SMB     2.1800               16  22     6   6370.477051   \n",
       "                     VAP    13.3812                4  29    26  27505.291016   \n",
       "CHE   Cherry Naranja SFB     0.0172               14  14     1   1001.381836   \n",
       "                     SGB     0.1078               15  17     2   1993.500977   \n",
       "                     SJB     0.0804               14  24     2   1992.743042   \n",
       "                     SMB     0.0600               18  18     1   1003.489258   \n",
       "                     VAP     0.3875               12  30     4   3995.637207   \n",
       "      Cherry Rojo    OAP     3.9920               15  27     7   7416.484375   \n",
       "                     SFB     1.1160               14  28     2   2100.333496   \n",
       "                     SGB     1.0251               12  31     3   3103.128174   \n",
       "                     SJB     1.2102               14  24     2   2102.932861   \n",
       "                     SMB     1.9000               16  27     3   3160.851562   \n",
       "                     VAP     8.9636                4  29    13  13643.461914   \n",
       "      Cherry Rosa    OAP     0.6660               15  22     3   3154.019775   \n",
       "                     SFB     0.3040               14  28     2   2078.711914   \n",
       "                     SGB     0.2632               15  17     2   2077.656494   \n",
       "                     SJB     0.2994               14  24     2   2078.626465   \n",
       "                     SMB     0.2800               18  21     2   2090.246094   \n",
       "                     VAP     1.9713                9  29     6   6279.957031   \n",
       "      Pera Amarilla  OAP     0.1440               20  20     2   2059.632080   \n",
       "                     SFB     0.0960               14  14     1   1024.612793   \n",
       "                     SGB     0.0595               17  17     1   1019.071472   \n",
       "                     SJB     0.1092               14  24     2   2035.705566   \n",
       "                     SMB     0.0800               18  18     1   1025.122559   \n",
       "                     VAP     0.1150               16  16     1   1030.359497   \n",
       "      Pera Roja      SFB     0.0960               14  14     1   1018.676636   \n",
       "                     SGB     0.0595               17  17     1   1013.135315   \n",
       "                     SJB     0.1002               14  24     2   2023.588623   \n",
       "                     VAP     0.2050               11  16     2   2038.270508   \n",
       "\n",
       "                                   Yield  \n",
       "                                          \n",
       "Class Type           Ranch                \n",
       "BSUF  Uva Amarilla   OAP     4290.562609  \n",
       "                     SFB     6370.779419  \n",
       "                     SGB    11863.953171  \n",
       "                     SJB    10711.353824  \n",
       "                     SMB     8536.093140  \n",
       "                     VAP     3677.736720  \n",
       "      Uva Roja       OAP     1724.090055  \n",
       "                     SFB     2343.358156  \n",
       "                     SGB     2803.968725  \n",
       "                     SJB     1603.976922  \n",
       "                     SMB     2922.237179  \n",
       "                     VAP     2055.517518  \n",
       "CHE   Cherry Naranja SFB    58219.874182  \n",
       "                     SGB    18492.587909  \n",
       "                     SJB    24785.361219  \n",
       "                     SMB    16724.820964  \n",
       "                     VAP    10311.321825  \n",
       "      Cherry Rojo    OAP     1857.836767  \n",
       "                     SFB     1882.019262  \n",
       "                     SGB     3027.146789  \n",
       "                     SJB     1737.673824  \n",
       "                     SMB     1663.606086  \n",
       "                     VAP     1522.096246  \n",
       "      Cherry Rosa    OAP     4735.765429  \n",
       "                     SFB     6837.868138  \n",
       "                     SGB     7893.831665  \n",
       "                     SJB     6942.640163  \n",
       "                     SMB     7465.164621  \n",
       "                     VAP     3185.693213  \n",
       "      Pera Amarilla  OAP    14303.000556  \n",
       "                     SFB    10673.049927  \n",
       "                     SGB    17127.251633  \n",
       "                     SJB    18641.992366  \n",
       "                     SMB    12814.031982  \n",
       "                     VAP     8959.647801  \n",
       "      Pera Roja      SFB    10611.214956  \n",
       "                     SGB    17027.484285  \n",
       "                     SJB    20195.495240  \n",
       "                     VAP     9942.782965  "
      ]
     },
     "execution_count": 48,
     "metadata": {},
     "output_type": "execute_result"
    }
   ],
   "source": [
    "\n",
    "\n",
    "class_preds = production_plan.groupby(['Class','Type']).agg(\n",
    "    {'Ha':'sum',\n",
    "     'WeekTransplanted':['min','max','nunique'],\n",
    "     'Ranch':'nunique',\n",
    "     'Kilos':'sum'\n",
    "})\n",
    "\n",
    "class_ranch_preds = production_plan.groupby(['Class','Type','Ranch']).agg(\n",
    "    {'Ha':'sum',\n",
    "     'WeekTransplanted':['min','max','count'],\n",
    "     'Kilos':'sum'\n",
    "})\n",
    "class_preds['Yield'] = class_preds['Kilos']/class_preds['Ha']\n",
    "class_ranch_preds['Yield'] = class_ranch_preds['Kilos']/class_ranch_preds['Ha']\n",
    "\n",
    "class_ranch_preds\n"
   ]
  },
  {
   "cell_type": "code",
   "execution_count": null,
   "metadata": {},
   "outputs": [],
   "source": []
  }
 ],
 "metadata": {
  "kernelspec": {
   "display_name": "cherry",
   "language": "python",
   "name": "python3"
  },
  "language_info": {
   "codemirror_mode": {
    "name": "ipython",
    "version": 3
   },
   "file_extension": ".py",
   "mimetype": "text/x-python",
   "name": "python",
   "nbconvert_exporter": "python",
   "pygments_lexer": "ipython3",
   "version": "3.10.15"
  }
 },
 "nbformat": 4,
 "nbformat_minor": 2
}
