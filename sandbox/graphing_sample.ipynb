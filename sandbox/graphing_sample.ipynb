{
 "cells": [
  {
   "cell_type": "code",
   "execution_count": 1,
   "metadata": {},
   "outputs": [],
   "source": [
    "import sys\n",
    "import os\n",
    "\n",
    "sys.path.append(os.path.abspath('..'))"
   ]
  },
  {
   "cell_type": "code",
   "execution_count": 2,
   "metadata": {},
   "outputs": [],
   "source": [
    "import pandas as pd\n",
    "import numpy as np\n",
    "import torch\n",
    "\n",
    "import src.preprocessing as pre\n",
    "import plotly.graph_objects as go\n",
    "import src.utils as utils\n",
    "from torch.utils.data import DataLoader\n",
    "import src.table as table"
   ]
  },
  {
   "cell_type": "code",
   "execution_count": 3,
   "metadata": {},
   "outputs": [],
   "source": [
    "train, test, mappings, meta = pre.separate_year('../data/meta.json','../data/y.csv','../data/mappings.json')"
   ]
  },
  {
   "cell_type": "code",
   "execution_count": 4,
   "metadata": {},
   "outputs": [
    {
     "name": "stdout",
     "output_type": "stream",
     "text": [
      "Epoch [1/200], Loss: 4387507.3097\n",
      "Epoch [2/200], Loss: 3815341.8338\n",
      "Epoch [3/200], Loss: 3168647.9581\n",
      "Epoch [4/200], Loss: 2997148.7905\n",
      "Epoch [5/200], Loss: 2864431.5518\n",
      "Epoch [6/200], Loss: 2664083.2919\n",
      "Epoch [7/200], Loss: 2523408.9176\n",
      "Epoch [8/200], Loss: 2420477.2358\n",
      "Epoch [9/200], Loss: 2364393.2010\n",
      "Epoch [10/200], Loss: 2336705.9503\n",
      "Epoch [11/200], Loss: 2304015.3888\n",
      "Epoch [12/200], Loss: 2271609.8736\n",
      "Epoch [13/200], Loss: 2252189.9616\n",
      "Epoch [14/200], Loss: 2224168.1690\n",
      "Epoch [15/200], Loss: 2199669.5284\n",
      "Epoch [16/200], Loss: 2169363.0540\n",
      "Epoch [17/200], Loss: 2148840.8402\n",
      "Epoch [18/200], Loss: 2124193.4276\n",
      "Epoch [19/200], Loss: 2093223.2287\n",
      "Epoch [20/200], Loss: 2060686.4474\n",
      "Epoch [21/200], Loss: 2029293.7656\n",
      "Epoch [22/200], Loss: 1999104.6719\n",
      "Epoch [23/200], Loss: 1955006.7464\n",
      "Epoch [24/200], Loss: 1924342.4812\n",
      "Epoch [25/200], Loss: 1898545.4020\n",
      "Epoch [26/200], Loss: 1849898.6023\n",
      "Epoch [27/200], Loss: 1812908.8615\n",
      "Epoch [28/200], Loss: 1778243.1626\n",
      "Epoch [29/200], Loss: 1745392.5785\n",
      "Epoch [30/200], Loss: 1707196.8082\n",
      "Epoch [31/200], Loss: 1675623.8192\n",
      "Epoch [32/200], Loss: 1649018.3583\n",
      "Epoch [33/200], Loss: 1622472.9840\n",
      "Epoch [34/200], Loss: 1596775.6286\n",
      "Epoch [35/200], Loss: 1584611.0295\n",
      "Epoch [36/200], Loss: 1563314.6804\n",
      "Epoch [37/200], Loss: 1543674.7866\n",
      "Epoch [38/200], Loss: 1530222.6651\n",
      "Epoch [39/200], Loss: 1513296.2369\n",
      "Epoch [40/200], Loss: 1499412.7509\n",
      "Epoch [41/200], Loss: 1500843.3477\n",
      "Epoch [42/200], Loss: 1481316.0831\n",
      "Epoch [43/200], Loss: 1474721.1044\n",
      "Epoch [44/200], Loss: 1469179.0874\n",
      "Epoch [45/200], Loss: 1458118.5724\n",
      "Epoch [46/200], Loss: 1476290.7116\n",
      "Epoch [47/200], Loss: 1452727.4808\n",
      "Epoch [48/200], Loss: 1445940.1314\n",
      "Epoch [49/200], Loss: 1434947.5181\n",
      "Epoch [50/200], Loss: 1421993.5902\n",
      "Epoch [51/200], Loss: 1425829.1108\n",
      "Epoch [52/200], Loss: 1423240.1520\n",
      "Epoch [53/200], Loss: 1401548.9453\n",
      "Epoch [54/200], Loss: 1403104.6136\n",
      "Epoch [55/200], Loss: 1404752.0327\n",
      "Epoch [56/200], Loss: 1389617.7649\n",
      "Epoch [57/200], Loss: 1388080.5934\n",
      "Epoch [58/200], Loss: 1389005.7827\n",
      "Epoch [59/200], Loss: 1377675.4922\n",
      "Epoch [60/200], Loss: 1371264.6420\n",
      "Epoch [61/200], Loss: 1384889.9393\n",
      "Epoch [62/200], Loss: 1375707.0437\n",
      "Epoch [63/200], Loss: 1370343.0973\n",
      "Epoch [64/200], Loss: 1381187.5852\n",
      "Epoch [65/200], Loss: 1370511.6665\n",
      "Epoch [66/200], Loss: 1360190.9151\n",
      "Epoch [67/200], Loss: 1362777.2536\n",
      "Epoch [68/200], Loss: 1364621.0376\n",
      "Epoch [69/200], Loss: 1350924.9709\n",
      "Epoch [70/200], Loss: 1350227.9039\n",
      "Epoch [71/200], Loss: 1346737.9869\n",
      "Epoch [72/200], Loss: 1337798.3825\n",
      "Epoch [73/200], Loss: 1332657.8462\n",
      "Epoch [74/200], Loss: 1339764.5678\n",
      "Epoch [75/200], Loss: 1322035.9009\n",
      "Epoch [76/200], Loss: 1324312.4123\n",
      "Epoch [77/200], Loss: 1315923.6300\n",
      "Epoch [78/200], Loss: 1329520.3079\n",
      "Epoch [79/200], Loss: 1361422.4698\n",
      "Epoch [80/200], Loss: 1330566.5884\n",
      "Epoch [81/200], Loss: 1304860.3111\n",
      "Epoch [82/200], Loss: 1309451.3171\n",
      "Epoch [83/200], Loss: 1306242.0330\n",
      "Epoch [84/200], Loss: 1300065.3320\n",
      "Epoch [85/200], Loss: 1294381.5852\n",
      "Epoch [86/200], Loss: 1298667.1349\n",
      "Epoch [87/200], Loss: 1289091.2830\n",
      "Epoch [88/200], Loss: 1292262.6637\n",
      "Epoch [89/200], Loss: 1288124.5337\n",
      "Epoch [90/200], Loss: 1276418.3835\n",
      "Epoch [91/200], Loss: 1275467.9361\n",
      "Epoch [92/200], Loss: 1278644.6376\n",
      "Epoch [93/200], Loss: 1269700.0362\n",
      "Epoch [94/200], Loss: 1272017.8711\n",
      "Epoch [95/200], Loss: 1264545.2958\n",
      "Epoch [96/200], Loss: 1263488.0763\n",
      "Epoch [97/200], Loss: 1259986.9474\n",
      "Epoch [98/200], Loss: 1258928.7695\n",
      "Epoch [99/200], Loss: 1252729.5604\n",
      "Epoch [100/200], Loss: 1267546.2404\n"
     ]
    }
   ],
   "source": [
    "model = utils.create_model(train,num_epochs=100)"
   ]
  },
  {
   "cell_type": "code",
   "execution_count": 5,
   "metadata": {},
   "outputs": [],
   "source": [
    "preds = utils.predict_gridded_harvest(model,test)"
   ]
  },
  {
   "cell_type": "code",
   "execution_count": 6,
   "metadata": {},
   "outputs": [],
   "source": [
    "actuals = test.Y.detach().numpy()"
   ]
  },
  {
   "cell_type": "code",
   "execution_count": 7,
   "metadata": {},
   "outputs": [],
   "source": [
    "production_plan = pre.decode(meta,mappings).reset_index(drop=True)"
   ]
  },
  {
   "cell_type": "code",
   "execution_count": 8,
   "metadata": {},
   "outputs": [
    {
     "data": {
      "text/plain": [
       "((139, 20, 51), (139, 51))"
      ]
     },
     "execution_count": 8,
     "metadata": {},
     "output_type": "execute_result"
    }
   ],
   "source": [
    "transplant_weeks = production_plan.WeekTransplanted.to_numpy()\n",
    "year_preds, year_actuals = table.season_shift(transplant_weeks,preds,actuals)\n",
    "year_preds.shape,year_actuals.shape"
   ]
  },
  {
   "cell_type": "code",
   "execution_count": 11,
   "metadata": {},
   "outputs": [
    {
     "data": {
      "application/vnd.plotly.v1+json": {
       "config": {
        "plotlyServerURL": "https://plot.ly"
       },
       "data": [
        {
         "mode": "lines",
         "name": "Preds Trace 1",
         "type": "scatter",
         "visible": true,
         "x": {
          "bdata": "AAECAwQFBgcICQoLDA0ODxAREhMUFRYXGBkaGxwdHh8gISIjJCUmJygpKissLS4vMDEy",
          "dtype": "i1"
         },
         "y": {
          "bdata": "AAAAAAAAAAAAAAAAAAAAAAAAAAAAAAAAAAAAAAAAAAAAAAAAAAAAAAAAAAAAAAAAAAAAAAAAAAAAAAAAAAAAAAAAAAAAAAAAAAAAAAAAAAAAAAAAAAAAAAAAAAAAAAAAAAAAAAAAAAAAAAAAAAAAAAAAAAAAAAAAAAAAAAAAAAAAAAAAAAAAAAAAAAAAAAAAAAAAAAAAAAAAAAAAAAAAAAAAAAAAAAAAAAAAAAAAAAAAAAAAAAAAAAAAAAAAAAAAAAAAAAAAAAAAAAAAAAAAAAAAAAAAAAAAAAAAAAAAAAAAAAAAAAAAAAAAAAAAAAAAAAAAAAAAAAAAAAAAAAAAAAAAAAAAAAAAAAAAAAAAAAAAAAAAAAAAAAAAAAAAAAAAAAAAAAAAAAAAAAAAAAAAAAAAAAAAAAAAAAAAAAAAAAAAAAAAAAAAAAAAAAAAAAAAAAAAAAAAAAAAAAAAAAAAAAAAAAAAAAAAAAAAAAAAAAAAAAAAAAAAAAAAAAAAAAAAAAAAAAAAAAAAAAAAAAAAAAAAAAAAAAAA",
          "dtype": "f8"
         }
        },
        {
         "mode": "lines",
         "name": "Preds Trace 2",
         "type": "scatter",
         "visible": false,
         "x": {
          "bdata": "AAECAwQFBgcICQoLDA0ODxAREhMUFRYXGBkaGxwdHh8gISIjJCUmJygpKissLS4vMDEy",
          "dtype": "i1"
         },
         "y": {
          "bdata": "AAAAAAAAAAAAAAAAAAAAAAAAAAAAAAAAAAAAAAAAAAAAAAAAAAAAAAAAAAAAAAAAAAAAAAAAAAAAAAAAAAAAAAAAAAAAAAAAAAAAAAAAAAAAAAAAAAAAAAAAAAAAAAAAAAAAAAAAAAAAAAAAAAAAAAAAAAAAAAAAAAAAAAAAAAAAAAAAAAAAAAAAAAAAAAAAAAAAAAAAAAAAAAAAAAAAAAAAAAAAAAAAAAAAAAAAAAAAAAAAAAAAAAAAAAAAAAAAAAAAAAAAAAAAAAAAAAAAAAAAAAAAAAAAAAAAAAAAAAAAAAAAAAAAAAAAAAAAAAAAAAAAAAAAAAAAAAAAAAAAAAAAAAAAAAAAAAAAAAAAAAAAAAAAAAAAAAAAAAAAAAAAAAAAAAAAAAAAAAAAAAAAAAAAAAAAAAAAAAAAAAAAAAAAAAAAAAAAAAAAAAAAAAAAAAAAAAAAAAAAAAAAAAAAAAAAAAAAAAAAAAAAAAAAAAAAAAAAAAAAAAAAAAAAAAAAAAAAAAAAAAAAAAAAAAAAAAAAAAAAAAAA",
          "dtype": "f8"
         }
        },
        {
         "mode": "lines",
         "name": "Preds Trace 3",
         "type": "scatter",
         "visible": false,
         "x": {
          "bdata": "AAECAwQFBgcICQoLDA0ODxAREhMUFRYXGBkaGxwdHh8gISIjJCUmJygpKissLS4vMDEy",
          "dtype": "i1"
         },
         "y": {
          "bdata": "AAAAAAAAAAAAAAAAAAAAAAAAAAAAAAAAAAAAAAAAAAAAAAAAAAAAAAAAAAAAAAAAAAAAAAAAAAAAAAAAAAAAAAAAAAAAAAAAAAAAAAAAAAAAAAAAAAAAAAAAAAAAAAAAAAAAAAAAAAAAAAAAAAAAAAAAAAAAAAAAAAAAAAAAAAAAAAAAAAAAAAAAAAAAAAAAAAAAAAAAAAAAAAAAAAAAAAAAAAAAAAAAAAAAAAAAAAAAAAAAAAAAAAAAAAAAAAAAAAAAAAAAAAAAAAAAAAAAAAAAAAAAAAAAAAAAAAAAAAAAAAAAAAAAAAAAAAAAAAAAAAAAAAAAAAAAAAAAAAAAAAAAAAAAAAAAAAAAAAAAAAAAAAAAAAAAAAAAAAAAAAAAAAAAAAAAAAAAAAAAAAAAAAAAAAAAAAAAAAAAAAAAAAAAAAAAAAAAAAAAAAAAAAAAAAAAAAAAAAAAAAAAAAAAAAAAAAAAAAAAAAAAAAAAAAAAAAAAAAAAAAAAAAAAAAAAAAAAAAAAAAAAAAAAAAAAAAAAAAAAAAAA",
          "dtype": "f8"
         }
        },
        {
         "mode": "lines",
         "name": "Preds Trace 4",
         "type": "scatter",
         "visible": false,
         "x": {
          "bdata": "AAECAwQFBgcICQoLDA0ODxAREhMUFRYXGBkaGxwdHh8gISIjJCUmJygpKissLS4vMDEy",
          "dtype": "i1"
         },
         "y": {
          "bdata": "AAAAAAAAAAAAAAAAAAAAAAAAAAAAAAAAAAAAAAAAAAAAAAAAAAAAAAAAAAAAAAAAAAAAAAAAAAAAAAAAAAAAAAAAAAAAAAAAAAAAAAAAAAAAAAAAAAAAAAAAAAAAAAAAAAAAAAAAAAAAAAAAAAAAAAAAAAAAAAAAAAAAAAAAAAAAAAAAAAAAAAAAAAAAAAAAAAAAAAAAAAAAAAAAAAAAAAAAAAAAAAAAAAAAAAAAAAAAAAAAAAAAAAAAAAAAAAAAAAAAAAAAAAAAAAAAAAAAAAAAAAAAAAAAAAAAAAAAAAAAAAAAAAAAAAAAAAAAAAAAAAAAAAAAAAAAAAAAAAAAAAAAAAAAAAAAAAAAAAAAAAAAAAAAAAAAAAAAAAAAAAAAAAAAAAAAAAAAAAAAAAAAAAAAAAAAAAAAAAAAAAAAAAAAAAAAAAAAAAAAAAAAAAAAAAAAAAAAAAAAAAAAAAAAAAAAAAAAAAAAAAAAAAAAAAAAAAAAAAAAAAAAAAAAAAAAAAAAAAAAAAAAAAAAAAAAAAAAAAAAAAAA",
          "dtype": "f8"
         }
        },
        {
         "mode": "lines",
         "name": "Preds Trace 5",
         "type": "scatter",
         "visible": false,
         "x": {
          "bdata": "AAECAwQFBgcICQoLDA0ODxAREhMUFRYXGBkaGxwdHh8gISIjJCUmJygpKissLS4vMDEy",
          "dtype": "i1"
         },
         "y": {
          "bdata": "AAAAAAAAAAAAAAAAAAAAAAAAAAAAAAAAAAAAAAAAAAAAAAAAAAAAAAAAAAAAAAAAAAAAAAAAAAAAAAAAAAAAAAAAAAAAAAAAAAAAAAAAAAAAAAAAAAAAAAAAAAAAAAAAAAAAAAAAAAAAAAAAAAAAAAAAAAAAAAAAAAAAAAAAAAAAAAAAAAAAAAAAAAAAAAAAAAAAAAAAAAAAAAAAAAAAAAAAAAAAAAAAAAAAAAAAAAAAAAAAAAAAAAAAAAAAAAAAAAAAAAAAAAAAAAAAAAAAAAAAAAAAAAAAAAAAAAAAAAAAAAAAAAAAAAAAAAAAAAAAAAAAAAAAAAAAAAAAAAAAAAAAAAAAAAAAAAAAAAAAAAAAAAAAAAAAAAAAAAAAAAAAAAAAAAAAAAAAAAAAAAAAAAAAAAAAAAAAAAAAAAAAAAAAAAAAAAAAAAAAAAAAAAAAAAAAAAAAAAAAAAAAAAAAAAAAAAAAAAAAAAAAAAAAAAAAAAAAAAAAAAAAAAAAAAAAAAAAAAAAAAAAAAAAAAAAAAAAAAAAAAAA",
          "dtype": "f8"
         }
        },
        {
         "mode": "lines",
         "name": "Preds Trace 6",
         "type": "scatter",
         "visible": false,
         "x": {
          "bdata": "AAECAwQFBgcICQoLDA0ODxAREhMUFRYXGBkaGxwdHh8gISIjJCUmJygpKissLS4vMDEy",
          "dtype": "i1"
         },
         "y": {
          "bdata": "AAAAAAAAAAAAAAAAAAAAAAAAAAAAAAAAAAAAAAAAAAAAAAAAAAAAAAAAAAAAAAAAAAAAAAAAAAAAAAAAAAAAAAAAAAAAAAAAAAAAFI9jBMAAAAAQCs/wPwAAAAqJByDAAAAAHmeIKEAAAADxU9FHQAAAgLd9Ml5AAAAA/LauakAAAOhMdSeEQAAAN90AlKBAAABrZRURtUAAwJo32tnFQACQd+jXLtJAALBZrPQQ2UAAYJGXzHDfQADUo+gEoeFAAHB8LXTy4UAAYEAe5//kQAAAPq+qOOVAAHDKmazf60AAMI2RWuvwQAAwLrga8vFAABhr5tb680AATPTLXuLyQAD+ZarhR/BAAKBF9XTE7UAAcILG5FnmQACAL5qTWONAAEBOsaqN30AAAIzTFiTeQABwxu8DruFAAEA+31iw5EAAAMu5apXmQADANXPE/uhAAABgGpvM6EAAAM1iZrHnQAAADOF2UORAAABA+TT/4EAAAJBf9EjZQAAAwJjlTMRAAADAqCTyukAAAAAW1VSaQAAAAIKIHJFA",
          "dtype": "f8"
         }
        },
        {
         "mode": "lines",
         "name": "Preds Trace 7",
         "type": "scatter",
         "visible": false,
         "x": {
          "bdata": "AAECAwQFBgcICQoLDA0ODxAREhMUFRYXGBkaGxwdHh8gISIjJCUmJygpKissLS4vMDEy",
          "dtype": "i1"
         },
         "y": {
          "bdata": "AAAAAAAAAAAAAAAAAAAAAAAAAAAAAAAAAAAAAAAAAAAAAAAAAAAAAAAAAAAAAAAAAAAAAAAAAAAAAAAAAAAAAAAAAAAAAAAAAAAAAAAAAAAAAADg0MbxPwAAAOxF0xHAAAAATOSYKkAAAIC4KiJKQAAA4KI3tGFAAABIdlwQcEAAAAi1Df6GQAAAfqYotaFAAACd/5LOtUAAgJF+Z1HGQADwK/K6bdJAADA8aglX2UAAUCDzwLzfQACA6ss/y+FAAKAXke0i4kAAIKLc0z3lQAAA0+FxguVAANAPp+o97EAACCMe6iHxQACk4fy7KfJAAECXLwEv9EAAsLz85w7zQACgr6moa/BAAABDaO0R7kAAwNYpUpHmQABAxTO/jONAAAA8/B/w30AAgIXato3eQACA7BDp7OFAAABXEnH65EAAYI2uH+XmQABAQN8fTelAAAAcDyMR6UAAIKBIz+bnQAAAxujseuRAAACI/0sd4UAAAIxqyXTZQAAAwLpyesRAAAAAN+35ukAAAAC6gUCaQAAAAK7pFpFA",
          "dtype": "f8"
         }
        },
        {
         "mode": "lines",
         "name": "Preds Trace 8",
         "type": "scatter",
         "visible": false,
         "x": {
          "bdata": "AAECAwQFBgcICQoLDA0ODxAREhMUFRYXGBkaGxwdHh8gISIjJCUmJygpKissLS4vMDEy",
          "dtype": "i1"
         },
         "y": {
          "bdata": "AAAAAAAAAAAAAAAAAAAAAAAAAAAAAAAAAAAAAAAAAAAAAAAAAAAAAAAAAAAAAAAAAAAAAAAAAAAAAAAAAAAAAAAAAAAAAAAAAAAAAAAAAAAAAAAAAAAAAAAAAGBBzRDAAAAAcOEEJUAAAIAE0VlMQAAAOLA5rWNAAACArOxjckAAAIgeuoWJQAAAaGhGwaJAAACAwkSDtkAAwPT4icPGQAAA9WwerdJAAJB3HZmc2UAAMP+4fgXgQACwjYa19+FAAMiNcnlW4kAAYFuHGX/lQACAv+goz+VAAIAKhUqf7EAAmJT1q1rxQABYTbRAZPJAAFC40jFu9EAAhHzSEkPzQACAPyxnmPBAAFDVG5Ni7kAAIGyT8B7nQAAAy15Jz+NAAAD6ddw04EAAABqEMwXfQACA6roNNOJAAADzVgdQ5UAAAAY12ELnQAAAS4Ieq+lAAAAq9GZl6UAAAAy7IivoQAAAEMumreRAAAAgSg1D4UAAAMhU0arZQAAAmNdksMRAAAAAaw4tu0AAAABij3eaQAAAAL4OPZFA",
          "dtype": "f8"
         }
        },
        {
         "mode": "lines",
         "name": "Preds Trace 9",
         "type": "scatter",
         "visible": false,
         "x": {
          "bdata": "AAECAwQFBgcICQoLDA0ODxAREhMUFRYXGBkaGxwdHh8gISIjJCUmJygpKissLS4vMDEy",
          "dtype": "i1"
         },
         "y": {
          "bdata": "AAAAAAAAAAAAAAAAAAAAAAAAAAAAAAAAAAAAAAAAAAAAAAAAAAAAAAAAAAAAAAAAAAAAAAAAAAAAAAAAAAAAAAAAAAAAAAAAAAAAAAAAAAAAAAAAAAAAAAAAAAAAAAAAAAAAcO2sJkAAAADglXVQQAAAgJ6UbWVAAAAAuPWqdEAAAABhk+qLQAAA1MefuKNAAAAEc6Qyt0AAgLgUPy3HQABQORKS6NJAAABW5ELf2UAA6BOErSrgQACggLPFI+JAABhKqQ+H4kAAgDuqSLzlQAAADv0cF+ZAAACROIz77EAAgKev1o/xQACAM9X3mvJAAIA9S1Cl9EAAAOgannvzQACAbZVlxfBAAIAj1eu27kAAANuimmXnQAAAwuxnneRAAACaO0Jv4EAAABz4PXjfQAAAahMieOJAAADa09Ci5UAAABBWWJ7nQAAAwKPzBupAAAAWrxa26UAAALp+i2roQAAAAPak2uRAAABwmh9m4UAAAMP+s+PZQAAAcH8o/sRAAACAdc6au0AAAAAGrYubQAAAANoH9ZFA",
          "dtype": "f8"
         }
        },
        {
         "mode": "lines",
         "name": "Preds Trace 10",
         "type": "scatter",
         "visible": false,
         "x": {
          "bdata": "AAECAwQFBgcICQoLDA0ODxAREhMUFRYXGBkaGxwdHh8gISIjJCUmJygpKissLS4vMDEy",
          "dtype": "i1"
         },
         "y": {
          "bdata": "AAAAAAAAAAAAAAAAAAAAAAAAAAAAAAAAAAAAAAAAAAAAAAAAAAAAAAAAAAAAAAAAAAAAAAAAAAAAAAAAAAAAAAAAAAAAAAAAAAAAAAAAAAAAAAAAAAAAAAAAAAAAAAAAAAAAAAAAAAAAAABAC/xQQAAAAPxm7GJAAAAAr+IUdkAAAABTFFiNQAAAgNw6IqRAAABkowmit0AAAMA742vHQAAA/+JxCNNAAAA+pmwO2kAAAOzb9j3gQAAAHwJaO+JAAAC/6COe4kAAABTwcdblQAAAtgfSQOZAAABXezY57UAAgHNnsbrxQACAwhiPuvJAAAC/0dXJ9EAAAH54F6HzQACA+lySE/FAAIC9YYYG70AAgKGEcqfnQAAAX2X4yuRAAABYzzXu4UAAANPdCubfQAAA0KKjyeJAAECPtmsJ5kAAABjRwQ3oQAAAlP79fepAAABIbwEp6kAAABDHsdHoQAAAIGcnKOVAAACgKoeo4UAAQEaN/VPaQAAAYM0XjcVAAACAokv/u0AAAADQnIKcQAAAAKobiZJA",
          "dtype": "f8"
         }
        },
        {
         "mode": "lines",
         "name": "Preds Trace 11",
         "type": "scatter",
         "visible": false,
         "x": {
          "bdata": "AAECAwQFBgcICQoLDA0ODxAREhMUFRYXGBkaGxwdHh8gISIjJCUmJygpKissLS4vMDEy",
          "dtype": "i1"
         },
         "y": {
          "bdata": "AAAAAAAAAAAAAAAAAAAAAAAAAAAAAAAAAAAAAAAAAAAAAAAAAAAAAAAAAAAAAAAAAAAAAAAAAAAAAAAAAAAAAAAAAAAAAAAAAAAAAAAAAAAAAAAAAAAAAAAAAAAAAAAAAAAAAAAAAAAAAAAAAAAAAAAAAGycHWJAAAAAumdTaUAAAABFHGaMQAAAgDd3zaNAAAAAHWLxtkAAAOhuglfHQAAAJOLw5dJAAACqANPi2UAAAGIiRkLgQAAAASMbFeJAAADzvzR94kAAANIiyJXlQAAAANDk9+VAAABA8jb27EAAgJMkoaDxQACATz+ys/JAAAC6MAyv9EAAAKo7VpzzQAAAQ9lqKPFAAACJP0Ip8EAAAFI4EfHnQACAhCbf9uRAAAAjlMjn4UAAAGgoLRnhQAAAxmwiqeJAAAAEzVQR5kAAAOACvfTnQAAAMRnhbupAAADUXYwq6kAAAK4WO+3oQAAAcCcANeVAAACAKZzD4UAAACAgMYLaQAAAQAt5u8VAAAAAM/dZvEAAAACIuu2cQAAAAObVm5JA",
          "dtype": "f8"
         }
        },
        {
         "mode": "lines",
         "name": "Preds Trace 12",
         "type": "scatter",
         "visible": false,
         "x": {
          "bdata": "AAECAwQFBgcICQoLDA0ODxAREhMUFRYXGBkaGxwdHh8gISIjJCUmJygpKissLS4vMDEy",
          "dtype": "i1"
         },
         "y": {
          "bdata": "AAAAAAAAAAAAAAAAAAAAAAAAAAAAAAAAAAAAAAAAAAAAAAAAAAAAAAAAAAAAAAAAAAAAAAAAAAAAAAAAAAAAAAAAAAAAAAAAAAAAAAAAAAAAAAAAAAAAAAAAAAAAAAAAAAAAAAAAAAAAAAAAAAAAAAAAAAAAAAAAAAAAUCEsWUAAAADSEqx8QAAAIBTkuKBAAACAYq0FtUAAAECVtL7FQACAs7GMVtJAAAAImFcD2UAAAHwc9HffQADAlBQCxOFAAAAO0pSY4UAAQKz6BrvkQACA/H4++uRAAADLrwQQ7EAAgGT0byHxQACgX8DDXPJAAIB0PPEd9UAAALinrKLzQAAA1J6hMfFAAOhlOVRg8EAAgA7Y4EnqQAAAny6+eeVAAADZmuzz4UAAAHQYcJHgQAAA7rZrN+NAAAAJKgH45EAAANLa+zfnQAAAGp00xulAAADALB6f6UAAALhNkaLoQAAAYH9iEuVAAKCjZ1zT4UAAACA8BbraQAAAAG2n98VAAACAyfQEvUAAAAAUxwSeQAAAABqw0pJA",
          "dtype": "f8"
         }
        },
        {
         "mode": "lines",
         "name": "Preds Trace 13",
         "type": "scatter",
         "visible": false,
         "x": {
          "bdata": "AAECAwQFBgcICQoLDA0ODxAREhMUFRYXGBkaGxwdHh8gISIjJCUmJygpKissLS4vMDEy",
          "dtype": "i1"
         },
         "y": {
          "bdata": "AAAAAAAAAAAAAAAAAAAAAAAAAAAAAAAAAAAAAAAAAAAAAAAAAAAAAAAAAAAAAAAAAAAAAAAAAAAAAAAAAAAAAAAAAAAAAAAAAAAAAAAAAAAAAAAAAAAAAAAAAAAAAAAAAAAAAAAAAAAAAAAAAAAAAAAAAAAAAAAAAAAAAAAAAAAAAACIfCN0wAAAAJr14opAAAAAjkuMpEAAAAAHnui+QAAAgI2P5c1AAADAH7rd1EAAAED7ldPaQAAA4PgEGN5AAACEG6yl3UAAwAj9Vg7hQAAAVFwFF+FAAAA9VPVx6EAAAFPHIlnuQAAAuqjcffBAAAD4BGuS80AAABRZUcjzQAAACB/eu/BAAMBdww+j70AAgPjTrePpQACARhdQKOhAAACvcgWq4UAAAJo4lE3gQAAAZE7cQeFAAABVo4ST40AAALL/B5TkQAAAruviqOdAAADoG0Cx50AAAG2jihPnQAAAWBu/5+NAAAC8e1Ie4UAAAEDpd+TZQAAA4BRxbsVAAAAAMQWKvEAAAABseOCdQAAAAConM5JA",
          "dtype": "f8"
         }
        },
        {
         "mode": "lines",
         "name": "Preds Trace 14",
         "type": "scatter",
         "visible": false,
         "x": {
          "bdata": "AAECAwQFBgcICQoLDA0ODxAREhMUFRYXGBkaGxwdHh8gISIjJCUmJygpKissLS4vMDEy",
          "dtype": "i1"
         },
         "y": {
          "bdata": "AAAAAAAAAAAAAAAAAAAAAAAAAAAAAAAAAAAAAAAAAAAAAAAAAAAAAAAAAAAAAAAAAAAAAAAAAAAAAAAAAAAAAAAAAAAAAAAAAAAAAAAAAAAAAAAAAAAAAAAAAAAAAAAAAAAAAAAAAAAAAAAAAAAAAAAAAAAAAAAAAAAAAAAAAAAAAAAgtwI9QAAAAE7B34VAAABodxTjp0AAAACC+L+8QAAAAAIb1MxAAADAogLb1EAAAKgIPyTaQAAAgB0KJt1AAAD4Pp1Z3EAAgIxK84fgQAAAMpxauuBAAICPd7Gg50AAAEh4uaXvQAAAG0d27/BAAIDEr7ab80AAwLgIVrfzQAAAwjfRZvJAAAAhBX1D8EAAgA2dsXnqQAAAk3mdWehAAAD6M+Zh5UAAAJrXQWjgQAAAjCNZ7+BAAAA0yQL54EAAAPjxA6/jQAAAdPF0R+VAAADOkR9q5kAAAERGST3mQAAAxL/9D+NAAABgrr+K4EAAADDfsC3ZQAAAoD6Y5MRAAACA94zEu0AAAACYcrGdQAAAAOLOC5JA",
          "dtype": "f8"
         }
        },
        {
         "mode": "lines",
         "name": "Preds Trace 15",
         "type": "scatter",
         "visible": false,
         "x": {
          "bdata": "AAECAwQFBgcICQoLDA0ODxAREhMUFRYXGBkaGxwdHh8gISIjJCUmJygpKissLS4vMDEy",
          "dtype": "i1"
         },
         "y": {
          "bdata": "AAAAAAAAAAAAAAAAAAAAAAAAAAAAAAAAAAAAAAAAAAAAAAAAAAAAAAAAAAAAAAAAAAAAAAAAAAAAAAAAAAAAAAAAAAAAAAAAAAAAAAAAAAAAAAAAAAAAAAAAAAAAAAAAAAAAAAAAAAAAAAAAAAAAAAAAAAAAAAAAAAAAAAAAAAAAAAAgtwI9QAAAAJRzGl5AAABoR46Lp0AAAABpocq4QAAAAEiQesxAAAAArAeb1EAAAFAO80TZQAAAIPhPzdxAAAD4oenf2kAAgNgpf33fQAAAflKttOBAAIAmYPm66EAAwAoYJRzwQAAAxR0mePJAAIBUJKiT9EAAAErcZaP0QAAAnpUNwvJAAKDqO29/8UAAgDMQT5jrQAAAaVJj+OhAAAAYYuDB5UAAAIJpQ+fiQAAA/Ox+FeFAAADs1WTI4EAAAMYiXKbhQAAA6xOI8ORAAABGpaeB5EAAAJDGnHvmQAAAcOVRW+NAAACYVEnM4EAAAJBDRXXZQAAAADbAw8RAAACAIviUu0AAAAB8jpmdQAAAAIqQ9ZFA",
          "dtype": "f8"
         }
        },
        {
         "mode": "lines",
         "name": "Preds Trace 16",
         "type": "scatter",
         "visible": false,
         "x": {
          "bdata": "AAECAwQFBgcICQoLDA0ODxAREhMUFRYXGBkaGxwdHh8gISIjJCUmJygpKissLS4vMDEy",
          "dtype": "i1"
         },
         "y": {
          "bdata": "AAAAAAAAAAAAAAAAAAAAAAAAAAAAAAAAAAAAAAAAAAAAAAAAAAAAAAAAAAAAAAAAAAAAAAAAAAAAAAAAAAAAAAAAAAAAAAAAAAAAAAAAAAAAAAAAAAAAAAAAAAAAAAAAAAAAAAAAAAAAAAAAAAAAAAAAAAAAAAAAAAAAAAAAAAAAAAAgtwI9QAAAAJRzGl5AAABAG/D9ckAAAAA5Abu4QAAAAO80T8NAAAAAOl251EAAANDZilzZQAAAMCERNNlAAAD4A6T72kAAgMzRg63cQAAA7NMjdN5AAICm16bp6EAAAKqHQgzxQAAAuGvg2PJAAIA0Cpj19UAAANobmkP2QAAA6CsJFPRAAACnpzLB8UAAgPJn+xDtQAAAibigkelAAACCS7Qp5kAAAGI2bw7jQAAAVA/HWuFAAAAkJFLj4EAAgDjYJjnhQAAAdM/TKedAAAAWrS+D5EAAQAh4Hd3jQAAA7D/+puNAAADYBVwy4UAAALBo0P7ZQAAAwHO/tcRAAACAEv15u0AAAACM8qCdQAAAAEoM+5FA",
          "dtype": "f8"
         }
        },
        {
         "mode": "lines",
         "name": "Preds Trace 17",
         "type": "scatter",
         "visible": false,
         "x": {
          "bdata": "AAECAwQFBgcICQoLDA0ODxAREhMUFRYXGBkaGxwdHh8gISIjJCUmJygpKissLS4vMDEy",
          "dtype": "i1"
         },
         "y": {
          "bdata": "AAAAAAAAAAAAAAAAAAAAAAAAAAAAAAAAAAAAAAAAAAAAAAAAAAAAAAAAAAAAAAAAAAAAAAAAAAAAAAAAAAAAAAAAAAAAAAAAAAAAAAAAAAAAAAAAAAAAAAAAAAAAAAAAAAAAAAAAAAAAAAAAAAAAAAAAAAAAAAAAAAAAAAAAAAAAAAAgtwI9QAAAAJRzGl5AAABAG/D9ckAAAABowkCSQAAAANdPbcNAAAAAZqAmxkAAANBeCWjZQAAAMNtDPdlAAAD4rL4O1EAAgMx1iLjcQAAAvM8hO9lAAICmc6hp50AAAKprESHxQAAAcE9eHfRAAIAso1De9UAAAIpHEvn2QAAAVpoT3vRAAADztEX28kAAgERksSPtQAAAFbQ/depAAADIxGzU5UAAAOL75QHiQAAARHygSeFAAAAYj4+y3kAAAJSkBjrhQAAA/vfO9+dAAADWKtBr50AAAOS2YpnkQAAAyCY8aeBAAACwKgov4UAAAABtePfZQAAAYBGaucRAAACA515yu0AAAADUjpOdQAAAAOaB75FA",
          "dtype": "f8"
         }
        },
        {
         "mode": "lines",
         "name": "Preds Trace 18",
         "type": "scatter",
         "visible": false,
         "x": {
          "bdata": "AAECAwQFBgcICQoLDA0ODxAREhMUFRYXGBkaGxwdHh8gISIjJCUmJygpKissLS4vMDEy",
          "dtype": "i1"
         },
         "y": {
          "bdata": "AAAAAAAAAAAAAAAAAAAAAAAAAAAAAAAAAAAAAAAAAAAAAAAAAAAAAAAAAAAAAAAAAAAAAAAAAAAAAAAAAAAAAAAAAAAAAAAAAAAAAAAAAAAAAAAAAAAAAAAAAAAAAAAAAAAAAAAAAAAAAAAAAAAAAAAAAAAAAAAAAAAAAAAAAAAAAAAgtwI9QAAAAJRzGl5AAABAG/D9ckAAAABowkCSQAAAAL5xu6ZAAAAAhm0uxkAAAKDDC9HGQAAAMP3+PdlAAAD4egIN1EAAgMxBEE7VQAAAvM+MPNlAAICGTILM40AAAOrSTrTwQAAAcAdNMfRAAIBcHTh89kAAACqGoPb2QAAAqPhBovRAAAAVvEUv80AAgKi0dKbuQAAAy9bwbupAAAC0Qi7t5kAAAOIYAnrhQAAA7LkmmOBAAADM/xis3kAAAPTH2A/fQAAAIsgh6edAAAAGjh5b6EAAALQVuCzpQAAA+FqoguJAAACQU25V3EAAALBEt8DZQAAAIDFFzMRAAACAdq9su0AAAACEuIadQAAAADqO6pFA",
          "dtype": "f8"
         }
        },
        {
         "mode": "lines",
         "name": "Preds Trace 19",
         "type": "scatter",
         "visible": false,
         "x": {
          "bdata": "AAECAwQFBgcICQoLDA0ODxAREhMUFRYXGBkaGxwdHh8gISIjJCUmJygpKissLS4vMDEy",
          "dtype": "i1"
         },
         "y": {
          "bdata": "AAAAAAAAAAAAAAAAAAAAAAAAAAAAAAAAAAAAAAAAAAAAAAAAAAAAAAAAAAAAAAAAAAAAAAAAAAAAAAAAAAAAAAAAAAAAAAAAAAAAAAAAAAAAAAAAAAAAAAAAAAAAAAAAAAAAAAAAAAAAAAAAAAAAAAAAAAAAAAAAAAAAAAAAAAAAAAAgtwI9QAAAAJRzGl5AAABAG/D9ckAAAABowkCSQAAAAL5xu6ZAAAAAAKTDskAAAKCLDNHGQAAA4Ca+BstAAAD4Z/0O1EAAgEw2CVDVQAAAPLSu7tNAAICGduL540AAALS4nRnuQAAAaPPiDPVAAIC8RXSQ9kAAAIpZ9Sj3QAAAONNnlfRAAAChHNKE8kAAgJoKYnzsQAAAuSwq9OpAAAAENavq5kAAAMLjy/fhQAAAVEy9F+BAAACohGli3UAAAKTQAQDfQAAAOv6rLOZAAADW0Fdp6EAAAFRylHjqQAAAqPh4oeNAAABY1g2X4EAAAFAgi67UQAAAQA8iR8RAAABAB0aEu0AAAACM2DydQAAAAHP2o5FA",
          "dtype": "f8"
         }
        },
        {
         "mode": "lines",
         "name": "Preds Trace 20",
         "type": "scatter",
         "visible": false,
         "x": {
          "bdata": "AAECAwQFBgcICQoLDA0ODxAREhMUFRYXGBkaGxwdHh8gISIjJCUmJygpKissLS4vMDEy",
          "dtype": "i1"
         },
         "y": {
          "bdata": "AAAAAAAAAAAAAAAAAAAAAAAAAAAAAAAAAAAAAAAAAAAAAAAAAAAAAAAAAAAAAAAAAAAAAAAAAAAAAAAAAAAAAAAAAAAAAAAAAAAAAAAAAAAAAAAAAAAAAAAAAAAAAAAAAAAAAAAAAAAAAAAAAAAAAAAAAAAAAAAAAAAAAAAAAAAAAAAgtwI9QAAAAJRzGl5AAABAG/D9ckAAAABowkCSQAAAAL5xu6ZAAAAAAKTDskAAAEA//VW9QAAA4ArIBstAAAD4t5Ns00AAgEz9fg3WQAAAPLSu7tNAAIAGER/140AAALT/aEnuQAAAWOAjifNAAIDcUVB690AAACqNMyn3QAAA6MMtdvRAAACF7Xe78kAAgA5gHcjpQACAcavdF+hAAABMjiTo5kAAAAJV8vDhQAAAVFemM+BAAAB4lLlY3EAAAFQ9p5bfQAAAamlmLOZAAACm5jvq5kAAACx9oXDqQAAAiOZXbOVAAAA4XRmb4kAAAKCXgs7WQAAAoJ3QH8JAAADA8hysu0AAAAB8yt+dQAAAAE5mLJJA",
          "dtype": "f8"
         }
        },
        {
         "name": "Actuals",
         "opacity": 0.6,
         "type": "bar",
         "x": {
          "bdata": "AAECAwQFBgcICQoLDA0ODxAREhMUFRYXGBkaGxwdHh8gISIjJCUmJygpKissLS4vMDEy",
          "dtype": "i1"
         },
         "y": {
          "bdata": "AAAAAAAAAAAAAAAAAAAAAAAAAAAAAAAAAAAAAAAAAAAAAAAAAAAAAAAAAAAAAAAAAAAAAAAAAAAAAAAAAAAAALkV6EGd0/BCge+XQxMGkkSP2zVFIR2WRemv6kXW50VGnmSbRmUyDkd2dZ9G+KgfR7oTgEcfSZxHhJ6zR4oLwEdxsaNHBreXR/7QUEc4gTRH0askRwxQDkcznQFHzivnRp2b9ka2oTJH4FE3R7R0S0fAYitHTY8nR6LS30YuKhJGH8ErRuqX7UQa+mBE",
          "dtype": "f4"
         }
        }
       ],
       "layout": {
        "barmode": "overlay",
        "sliders": [
         {
          "active": 0,
          "currentvalue": {
           "prefix": "Trace: "
          },
          "pad": {
           "t": 50
          },
          "steps": [
           {
            "args": [
             {
              "visible": [
               true,
               false,
               false,
               false,
               false,
               false,
               false,
               false,
               false,
               false,
               false,
               false,
               false,
               false,
               false,
               false,
               false,
               false,
               false,
               false,
               true
              ]
             }
            ],
            "label": "Preds Trace 1",
            "method": "update"
           },
           {
            "args": [
             {
              "visible": [
               false,
               true,
               false,
               false,
               false,
               false,
               false,
               false,
               false,
               false,
               false,
               false,
               false,
               false,
               false,
               false,
               false,
               false,
               false,
               false,
               true
              ]
             }
            ],
            "label": "Preds Trace 2",
            "method": "update"
           },
           {
            "args": [
             {
              "visible": [
               false,
               false,
               true,
               false,
               false,
               false,
               false,
               false,
               false,
               false,
               false,
               false,
               false,
               false,
               false,
               false,
               false,
               false,
               false,
               false,
               true
              ]
             }
            ],
            "label": "Preds Trace 3",
            "method": "update"
           },
           {
            "args": [
             {
              "visible": [
               false,
               false,
               false,
               true,
               false,
               false,
               false,
               false,
               false,
               false,
               false,
               false,
               false,
               false,
               false,
               false,
               false,
               false,
               false,
               false,
               true
              ]
             }
            ],
            "label": "Preds Trace 4",
            "method": "update"
           },
           {
            "args": [
             {
              "visible": [
               false,
               false,
               false,
               false,
               true,
               false,
               false,
               false,
               false,
               false,
               false,
               false,
               false,
               false,
               false,
               false,
               false,
               false,
               false,
               false,
               true
              ]
             }
            ],
            "label": "Preds Trace 5",
            "method": "update"
           },
           {
            "args": [
             {
              "visible": [
               false,
               false,
               false,
               false,
               false,
               true,
               false,
               false,
               false,
               false,
               false,
               false,
               false,
               false,
               false,
               false,
               false,
               false,
               false,
               false,
               true
              ]
             }
            ],
            "label": "Preds Trace 6",
            "method": "update"
           },
           {
            "args": [
             {
              "visible": [
               false,
               false,
               false,
               false,
               false,
               false,
               true,
               false,
               false,
               false,
               false,
               false,
               false,
               false,
               false,
               false,
               false,
               false,
               false,
               false,
               true
              ]
             }
            ],
            "label": "Preds Trace 7",
            "method": "update"
           },
           {
            "args": [
             {
              "visible": [
               false,
               false,
               false,
               false,
               false,
               false,
               false,
               true,
               false,
               false,
               false,
               false,
               false,
               false,
               false,
               false,
               false,
               false,
               false,
               false,
               true
              ]
             }
            ],
            "label": "Preds Trace 8",
            "method": "update"
           },
           {
            "args": [
             {
              "visible": [
               false,
               false,
               false,
               false,
               false,
               false,
               false,
               false,
               true,
               false,
               false,
               false,
               false,
               false,
               false,
               false,
               false,
               false,
               false,
               false,
               true
              ]
             }
            ],
            "label": "Preds Trace 9",
            "method": "update"
           },
           {
            "args": [
             {
              "visible": [
               false,
               false,
               false,
               false,
               false,
               false,
               false,
               false,
               false,
               true,
               false,
               false,
               false,
               false,
               false,
               false,
               false,
               false,
               false,
               false,
               true
              ]
             }
            ],
            "label": "Preds Trace 10",
            "method": "update"
           },
           {
            "args": [
             {
              "visible": [
               false,
               false,
               false,
               false,
               false,
               false,
               false,
               false,
               false,
               false,
               true,
               false,
               false,
               false,
               false,
               false,
               false,
               false,
               false,
               false,
               true
              ]
             }
            ],
            "label": "Preds Trace 11",
            "method": "update"
           },
           {
            "args": [
             {
              "visible": [
               false,
               false,
               false,
               false,
               false,
               false,
               false,
               false,
               false,
               false,
               false,
               true,
               false,
               false,
               false,
               false,
               false,
               false,
               false,
               false,
               true
              ]
             }
            ],
            "label": "Preds Trace 12",
            "method": "update"
           },
           {
            "args": [
             {
              "visible": [
               false,
               false,
               false,
               false,
               false,
               false,
               false,
               false,
               false,
               false,
               false,
               false,
               true,
               false,
               false,
               false,
               false,
               false,
               false,
               false,
               true
              ]
             }
            ],
            "label": "Preds Trace 13",
            "method": "update"
           },
           {
            "args": [
             {
              "visible": [
               false,
               false,
               false,
               false,
               false,
               false,
               false,
               false,
               false,
               false,
               false,
               false,
               false,
               true,
               false,
               false,
               false,
               false,
               false,
               false,
               true
              ]
             }
            ],
            "label": "Preds Trace 14",
            "method": "update"
           },
           {
            "args": [
             {
              "visible": [
               false,
               false,
               false,
               false,
               false,
               false,
               false,
               false,
               false,
               false,
               false,
               false,
               false,
               false,
               true,
               false,
               false,
               false,
               false,
               false,
               true
              ]
             }
            ],
            "label": "Preds Trace 15",
            "method": "update"
           },
           {
            "args": [
             {
              "visible": [
               false,
               false,
               false,
               false,
               false,
               false,
               false,
               false,
               false,
               false,
               false,
               false,
               false,
               false,
               false,
               true,
               false,
               false,
               false,
               false,
               true
              ]
             }
            ],
            "label": "Preds Trace 16",
            "method": "update"
           },
           {
            "args": [
             {
              "visible": [
               false,
               false,
               false,
               false,
               false,
               false,
               false,
               false,
               false,
               false,
               false,
               false,
               false,
               false,
               false,
               false,
               true,
               false,
               false,
               false,
               true
              ]
             }
            ],
            "label": "Preds Trace 17",
            "method": "update"
           },
           {
            "args": [
             {
              "visible": [
               false,
               false,
               false,
               false,
               false,
               false,
               false,
               false,
               false,
               false,
               false,
               false,
               false,
               false,
               false,
               false,
               false,
               true,
               false,
               false,
               true
              ]
             }
            ],
            "label": "Preds Trace 18",
            "method": "update"
           },
           {
            "args": [
             {
              "visible": [
               false,
               false,
               false,
               false,
               false,
               false,
               false,
               false,
               false,
               false,
               false,
               false,
               false,
               false,
               false,
               false,
               false,
               false,
               true,
               false,
               true
              ]
             }
            ],
            "label": "Preds Trace 19",
            "method": "update"
           },
           {
            "args": [
             {
              "visible": [
               false,
               false,
               false,
               false,
               false,
               false,
               false,
               false,
               false,
               false,
               false,
               false,
               false,
               false,
               false,
               false,
               false,
               false,
               false,
               true,
               true
              ]
             }
            ],
            "label": "Preds Trace 20",
            "method": "update"
           }
          ]
         }
        ],
        "template": {
         "data": {
          "bar": [
           {
            "error_x": {
             "color": "#2a3f5f"
            },
            "error_y": {
             "color": "#2a3f5f"
            },
            "marker": {
             "line": {
              "color": "#E5ECF6",
              "width": 0.5
             },
             "pattern": {
              "fillmode": "overlay",
              "size": 10,
              "solidity": 0.2
             }
            },
            "type": "bar"
           }
          ],
          "barpolar": [
           {
            "marker": {
             "line": {
              "color": "#E5ECF6",
              "width": 0.5
             },
             "pattern": {
              "fillmode": "overlay",
              "size": 10,
              "solidity": 0.2
             }
            },
            "type": "barpolar"
           }
          ],
          "carpet": [
           {
            "aaxis": {
             "endlinecolor": "#2a3f5f",
             "gridcolor": "white",
             "linecolor": "white",
             "minorgridcolor": "white",
             "startlinecolor": "#2a3f5f"
            },
            "baxis": {
             "endlinecolor": "#2a3f5f",
             "gridcolor": "white",
             "linecolor": "white",
             "minorgridcolor": "white",
             "startlinecolor": "#2a3f5f"
            },
            "type": "carpet"
           }
          ],
          "choropleth": [
           {
            "colorbar": {
             "outlinewidth": 0,
             "ticks": ""
            },
            "type": "choropleth"
           }
          ],
          "contour": [
           {
            "colorbar": {
             "outlinewidth": 0,
             "ticks": ""
            },
            "colorscale": [
             [
              0,
              "#0d0887"
             ],
             [
              0.1111111111111111,
              "#46039f"
             ],
             [
              0.2222222222222222,
              "#7201a8"
             ],
             [
              0.3333333333333333,
              "#9c179e"
             ],
             [
              0.4444444444444444,
              "#bd3786"
             ],
             [
              0.5555555555555556,
              "#d8576b"
             ],
             [
              0.6666666666666666,
              "#ed7953"
             ],
             [
              0.7777777777777778,
              "#fb9f3a"
             ],
             [
              0.8888888888888888,
              "#fdca26"
             ],
             [
              1,
              "#f0f921"
             ]
            ],
            "type": "contour"
           }
          ],
          "contourcarpet": [
           {
            "colorbar": {
             "outlinewidth": 0,
             "ticks": ""
            },
            "type": "contourcarpet"
           }
          ],
          "heatmap": [
           {
            "colorbar": {
             "outlinewidth": 0,
             "ticks": ""
            },
            "colorscale": [
             [
              0,
              "#0d0887"
             ],
             [
              0.1111111111111111,
              "#46039f"
             ],
             [
              0.2222222222222222,
              "#7201a8"
             ],
             [
              0.3333333333333333,
              "#9c179e"
             ],
             [
              0.4444444444444444,
              "#bd3786"
             ],
             [
              0.5555555555555556,
              "#d8576b"
             ],
             [
              0.6666666666666666,
              "#ed7953"
             ],
             [
              0.7777777777777778,
              "#fb9f3a"
             ],
             [
              0.8888888888888888,
              "#fdca26"
             ],
             [
              1,
              "#f0f921"
             ]
            ],
            "type": "heatmap"
           }
          ],
          "histogram": [
           {
            "marker": {
             "pattern": {
              "fillmode": "overlay",
              "size": 10,
              "solidity": 0.2
             }
            },
            "type": "histogram"
           }
          ],
          "histogram2d": [
           {
            "colorbar": {
             "outlinewidth": 0,
             "ticks": ""
            },
            "colorscale": [
             [
              0,
              "#0d0887"
             ],
             [
              0.1111111111111111,
              "#46039f"
             ],
             [
              0.2222222222222222,
              "#7201a8"
             ],
             [
              0.3333333333333333,
              "#9c179e"
             ],
             [
              0.4444444444444444,
              "#bd3786"
             ],
             [
              0.5555555555555556,
              "#d8576b"
             ],
             [
              0.6666666666666666,
              "#ed7953"
             ],
             [
              0.7777777777777778,
              "#fb9f3a"
             ],
             [
              0.8888888888888888,
              "#fdca26"
             ],
             [
              1,
              "#f0f921"
             ]
            ],
            "type": "histogram2d"
           }
          ],
          "histogram2dcontour": [
           {
            "colorbar": {
             "outlinewidth": 0,
             "ticks": ""
            },
            "colorscale": [
             [
              0,
              "#0d0887"
             ],
             [
              0.1111111111111111,
              "#46039f"
             ],
             [
              0.2222222222222222,
              "#7201a8"
             ],
             [
              0.3333333333333333,
              "#9c179e"
             ],
             [
              0.4444444444444444,
              "#bd3786"
             ],
             [
              0.5555555555555556,
              "#d8576b"
             ],
             [
              0.6666666666666666,
              "#ed7953"
             ],
             [
              0.7777777777777778,
              "#fb9f3a"
             ],
             [
              0.8888888888888888,
              "#fdca26"
             ],
             [
              1,
              "#f0f921"
             ]
            ],
            "type": "histogram2dcontour"
           }
          ],
          "mesh3d": [
           {
            "colorbar": {
             "outlinewidth": 0,
             "ticks": ""
            },
            "type": "mesh3d"
           }
          ],
          "parcoords": [
           {
            "line": {
             "colorbar": {
              "outlinewidth": 0,
              "ticks": ""
             }
            },
            "type": "parcoords"
           }
          ],
          "pie": [
           {
            "automargin": true,
            "type": "pie"
           }
          ],
          "scatter": [
           {
            "fillpattern": {
             "fillmode": "overlay",
             "size": 10,
             "solidity": 0.2
            },
            "type": "scatter"
           }
          ],
          "scatter3d": [
           {
            "line": {
             "colorbar": {
              "outlinewidth": 0,
              "ticks": ""
             }
            },
            "marker": {
             "colorbar": {
              "outlinewidth": 0,
              "ticks": ""
             }
            },
            "type": "scatter3d"
           }
          ],
          "scattercarpet": [
           {
            "marker": {
             "colorbar": {
              "outlinewidth": 0,
              "ticks": ""
             }
            },
            "type": "scattercarpet"
           }
          ],
          "scattergeo": [
           {
            "marker": {
             "colorbar": {
              "outlinewidth": 0,
              "ticks": ""
             }
            },
            "type": "scattergeo"
           }
          ],
          "scattergl": [
           {
            "marker": {
             "colorbar": {
              "outlinewidth": 0,
              "ticks": ""
             }
            },
            "type": "scattergl"
           }
          ],
          "scattermap": [
           {
            "marker": {
             "colorbar": {
              "outlinewidth": 0,
              "ticks": ""
             }
            },
            "type": "scattermap"
           }
          ],
          "scattermapbox": [
           {
            "marker": {
             "colorbar": {
              "outlinewidth": 0,
              "ticks": ""
             }
            },
            "type": "scattermapbox"
           }
          ],
          "scatterpolar": [
           {
            "marker": {
             "colorbar": {
              "outlinewidth": 0,
              "ticks": ""
             }
            },
            "type": "scatterpolar"
           }
          ],
          "scatterpolargl": [
           {
            "marker": {
             "colorbar": {
              "outlinewidth": 0,
              "ticks": ""
             }
            },
            "type": "scatterpolargl"
           }
          ],
          "scatterternary": [
           {
            "marker": {
             "colorbar": {
              "outlinewidth": 0,
              "ticks": ""
             }
            },
            "type": "scatterternary"
           }
          ],
          "surface": [
           {
            "colorbar": {
             "outlinewidth": 0,
             "ticks": ""
            },
            "colorscale": [
             [
              0,
              "#0d0887"
             ],
             [
              0.1111111111111111,
              "#46039f"
             ],
             [
              0.2222222222222222,
              "#7201a8"
             ],
             [
              0.3333333333333333,
              "#9c179e"
             ],
             [
              0.4444444444444444,
              "#bd3786"
             ],
             [
              0.5555555555555556,
              "#d8576b"
             ],
             [
              0.6666666666666666,
              "#ed7953"
             ],
             [
              0.7777777777777778,
              "#fb9f3a"
             ],
             [
              0.8888888888888888,
              "#fdca26"
             ],
             [
              1,
              "#f0f921"
             ]
            ],
            "type": "surface"
           }
          ],
          "table": [
           {
            "cells": {
             "fill": {
              "color": "#EBF0F8"
             },
             "line": {
              "color": "white"
             }
            },
            "header": {
             "fill": {
              "color": "#C8D4E3"
             },
             "line": {
              "color": "white"
             }
            },
            "type": "table"
           }
          ]
         },
         "layout": {
          "annotationdefaults": {
           "arrowcolor": "#2a3f5f",
           "arrowhead": 0,
           "arrowwidth": 1
          },
          "autotypenumbers": "strict",
          "coloraxis": {
           "colorbar": {
            "outlinewidth": 0,
            "ticks": ""
           }
          },
          "colorscale": {
           "diverging": [
            [
             0,
             "#8e0152"
            ],
            [
             0.1,
             "#c51b7d"
            ],
            [
             0.2,
             "#de77ae"
            ],
            [
             0.3,
             "#f1b6da"
            ],
            [
             0.4,
             "#fde0ef"
            ],
            [
             0.5,
             "#f7f7f7"
            ],
            [
             0.6,
             "#e6f5d0"
            ],
            [
             0.7,
             "#b8e186"
            ],
            [
             0.8,
             "#7fbc41"
            ],
            [
             0.9,
             "#4d9221"
            ],
            [
             1,
             "#276419"
            ]
           ],
           "sequential": [
            [
             0,
             "#0d0887"
            ],
            [
             0.1111111111111111,
             "#46039f"
            ],
            [
             0.2222222222222222,
             "#7201a8"
            ],
            [
             0.3333333333333333,
             "#9c179e"
            ],
            [
             0.4444444444444444,
             "#bd3786"
            ],
            [
             0.5555555555555556,
             "#d8576b"
            ],
            [
             0.6666666666666666,
             "#ed7953"
            ],
            [
             0.7777777777777778,
             "#fb9f3a"
            ],
            [
             0.8888888888888888,
             "#fdca26"
            ],
            [
             1,
             "#f0f921"
            ]
           ],
           "sequentialminus": [
            [
             0,
             "#0d0887"
            ],
            [
             0.1111111111111111,
             "#46039f"
            ],
            [
             0.2222222222222222,
             "#7201a8"
            ],
            [
             0.3333333333333333,
             "#9c179e"
            ],
            [
             0.4444444444444444,
             "#bd3786"
            ],
            [
             0.5555555555555556,
             "#d8576b"
            ],
            [
             0.6666666666666666,
             "#ed7953"
            ],
            [
             0.7777777777777778,
             "#fb9f3a"
            ],
            [
             0.8888888888888888,
             "#fdca26"
            ],
            [
             1,
             "#f0f921"
            ]
           ]
          },
          "colorway": [
           "#636efa",
           "#EF553B",
           "#00cc96",
           "#ab63fa",
           "#FFA15A",
           "#19d3f3",
           "#FF6692",
           "#B6E880",
           "#FF97FF",
           "#FECB52"
          ],
          "font": {
           "color": "#2a3f5f"
          },
          "geo": {
           "bgcolor": "white",
           "lakecolor": "white",
           "landcolor": "#E5ECF6",
           "showlakes": true,
           "showland": true,
           "subunitcolor": "white"
          },
          "hoverlabel": {
           "align": "left"
          },
          "hovermode": "closest",
          "mapbox": {
           "style": "light"
          },
          "paper_bgcolor": "white",
          "plot_bgcolor": "#E5ECF6",
          "polar": {
           "angularaxis": {
            "gridcolor": "white",
            "linecolor": "white",
            "ticks": ""
           },
           "bgcolor": "#E5ECF6",
           "radialaxis": {
            "gridcolor": "white",
            "linecolor": "white",
            "ticks": ""
           }
          },
          "scene": {
           "xaxis": {
            "backgroundcolor": "#E5ECF6",
            "gridcolor": "white",
            "gridwidth": 2,
            "linecolor": "white",
            "showbackground": true,
            "ticks": "",
            "zerolinecolor": "white"
           },
           "yaxis": {
            "backgroundcolor": "#E5ECF6",
            "gridcolor": "white",
            "gridwidth": 2,
            "linecolor": "white",
            "showbackground": true,
            "ticks": "",
            "zerolinecolor": "white"
           },
           "zaxis": {
            "backgroundcolor": "#E5ECF6",
            "gridcolor": "white",
            "gridwidth": 2,
            "linecolor": "white",
            "showbackground": true,
            "ticks": "",
            "zerolinecolor": "white"
           }
          },
          "shapedefaults": {
           "line": {
            "color": "#2a3f5f"
           }
          },
          "ternary": {
           "aaxis": {
            "gridcolor": "white",
            "linecolor": "white",
            "ticks": ""
           },
           "baxis": {
            "gridcolor": "white",
            "linecolor": "white",
            "ticks": ""
           },
           "bgcolor": "#E5ECF6",
           "caxis": {
            "gridcolor": "white",
            "linecolor": "white",
            "ticks": ""
           }
          },
          "title": {
           "x": 0.05
          },
          "xaxis": {
           "automargin": true,
           "gridcolor": "white",
           "linecolor": "white",
           "ticks": "",
           "title": {
            "standoff": 15
           },
           "zerolinecolor": "white",
           "zerolinewidth": 2
          },
          "yaxis": {
           "automargin": true,
           "gridcolor": "white",
           "linecolor": "white",
           "ticks": "",
           "title": {
            "standoff": 15
           },
           "zerolinecolor": "white",
           "zerolinewidth": 2
          }
         }
        },
        "title": {
         "text": "Yearly Predictions and Actuals"
        },
        "xaxis": {
         "title": {
          "text": "Time Step"
         }
        },
        "yaxis": {
         "title": {
          "text": "Values"
         }
        }
       }
      }
     },
     "metadata": {},
     "output_type": "display_data"
    }
   ],
   "source": [
    "# Create a graph using year_preds and year_actuals\n",
    "\n",
    "# Sum the data by the first dimension\n",
    "summed_preds = np.sum(year_preds, axis=0)  # Shape: (20, 51)\n",
    "summed_actuals = np.sum(year_actuals, axis=0)  # Shape: (51,)\n",
    "\n",
    "# Create traces for the middle dimension of year_preds\n",
    "traces = []\n",
    "for i in range(summed_preds.shape[0]):  # Iterate over the 20 middle dimension\n",
    "    trace = go.Scatter(\n",
    "        x=np.arange(summed_preds.shape[1]),  # X-axis: 0 to 50\n",
    "        y=summed_preds[i, :],  # Y-axis: summed predictions for each middle dimension\n",
    "        mode='lines',\n",
    "        name=f'Preds Trace {i+1}',\n",
    "        visible=(i == 0)  # Only the first trace is visible initially\n",
    "    )\n",
    "    traces.append(trace)\n",
    "\n",
    "# Create bars for year_actuals\n",
    "actuals_trace = go.Bar(\n",
    "    x=np.arange(summed_actuals.shape[0]),  # X-axis: 0 to 50\n",
    "    y=summed_actuals,  # Y-axis: summed actuals\n",
    "    name='Actuals',\n",
    "    opacity=0.6\n",
    ")\n",
    "\n",
    "# Add the actuals trace to the list of traces\n",
    "traces.append(actuals_trace) \n",
    "\n",
    "# Create the figure\n",
    "fig = go.Figure(data=traces)\n",
    "\n",
    "# Create steps for the slider\n",
    "steps = []\n",
    "for i in range(len(traces) - 1):  # Exclude the actuals trace from the slider\n",
    "    step = dict(\n",
    "        method='update',\n",
    "        args=[{'visible': [j == i for j in range(len(traces) - 1)] + [True]}],  # Show only one preds trace and the actuals\n",
    "        label=f'Preds Trace {i+1}'\n",
    "    )\n",
    "    steps.append(step)\n",
    "\n",
    "# Create the slider\n",
    "sliders = [dict(\n",
    "    active=0,\n",
    "    currentvalue={\"prefix\": \"Trace: \"},\n",
    "    pad={\"t\": 50},\n",
    "    steps=steps\n",
    ")]\n",
    "\n",
    "# Update layout\n",
    "fig.update_layout(\n",
    "    title='Yearly Predictions and Actuals',\n",
    "    xaxis_title='Time Step',\n",
    "    yaxis_title='Values',\n",
    "    barmode='overlay',\n",
    "    sliders=sliders\n",
    ")\n",
    "\n",
    "# Show the figure\n",
    "fig.show()\n"
   ]
  },
  {
   "cell_type": "markdown",
   "metadata": {},
   "source": []
  }
 ],
 "metadata": {
  "kernelspec": {
   "display_name": "cherry",
   "language": "python",
   "name": "python3"
  },
  "language_info": {
   "codemirror_mode": {
    "name": "ipython",
    "version": 3
   },
   "file_extension": ".py",
   "mimetype": "text/x-python",
   "name": "python",
   "nbconvert_exporter": "python",
   "pygments_lexer": "ipython3",
   "version": "3.10.15"
  }
 },
 "nbformat": 4,
 "nbformat_minor": 2
}
