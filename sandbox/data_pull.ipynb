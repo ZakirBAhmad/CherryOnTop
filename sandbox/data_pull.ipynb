{
 "cells": [
  {
   "cell_type": "code",
   "execution_count": 1,
   "metadata": {},
   "outputs": [],
   "source": [
    "import sys\n",
    "import os\n",
    "sys.path.append(os.path.abspath('..'))"
   ]
  },
  {
   "cell_type": "code",
   "execution_count": 9,
   "metadata": {},
   "outputs": [],
   "source": [
    "import src.preprocessing as pre\n",
    "import numpy as np"
   ]
  },
  {
   "cell_type": "code",
   "execution_count": 4,
   "metadata": {},
   "outputs": [],
   "source": [
    "meta, y, mapping_dict = pre.load_data('../data/meta.json','../data/y.csv','../data/mappings.json')"
   ]
  },
  {
   "cell_type": "code",
   "execution_count": 13,
   "metadata": {},
   "outputs": [],
   "source": [
    "a = pre.decode(meta,mapping_dict).Ranch.unique()\n",
    "\n",
    "\n",
    "\n",
    "\n"
   ]
  },
  {
   "cell_type": "code",
   "execution_count": 12,
   "metadata": {},
   "outputs": [],
   "source": [
    "b = np.array([\n",
    "    'VAP', 'OAP', 'OIB', 'OLB', 'VDG', 'SMB', 'OSF', 'SGB', \n",
    "    'SEB', 'TJC', 'ZCC', 'ZJL', 'ZJM', 'ZJZ', 'ZPR', 'ZVJ'\n",
    "])"
   ]
  },
  {
   "cell_type": "code",
   "execution_count": 18,
   "metadata": {},
   "outputs": [
    {
     "data": {
      "text/plain": [
       "array(['MAP', 'OAP', 'OIB', 'OLB', 'OSF', 'SAB', 'SEB', 'SFB', 'SGB',\n",
       "       'SGC', 'SJB', 'SLB', 'SMB', 'SMR', 'TJC', 'VAP', 'VDG', 'ZCC',\n",
       "       'ZJL', 'ZJM', 'ZJZ', 'ZPR', 'ZVJ'], dtype=object)"
      ]
     },
     "execution_count": 18,
     "metadata": {},
     "output_type": "execute_result"
    }
   ],
   "source": [
    "np.unique(np.concatenate([a,b]))"
   ]
  },
  {
   "cell_type": "code",
   "execution_count": 20,
   "metadata": {},
   "outputs": [],
   "source": [
    "grower_coordinates = {\n",
    "    'MAP': (31.666431, -116.515308),\n",
    "    'OAP': (31.920693, -116.243753),\n",
    "    'OIB': (31.917818, -116.241634),  # estimated\n",
    "    'OLB': (31.907724, -116.236947),\n",
    "    'OSF': (31.925036, -116.244201),\n",
    "    'SAB': (32.026187, -116.742880),\n",
    "    'SEB': (32.017032, -116.689125),  # estimated\n",
    "    'SFB': (32.025498, -116.753590),\n",
    "    'SGB': (32.016094, -116.763115),\n",
    "    'SGC': (32.016094, -116.763115),  # estimated\n",
    "    'SJB': (32.022490, -116.754103),\n",
    "    'SLB': (32.024978, -116.739198),\n",
    "    'SMB': (31.907241, -116.241314),\n",
    "    'SMR': (32.096734, -116.829672),\n",
    "    'VAP': (31.421453, -116.269149),\n",
    "    'VDG': (31.345217, -116.326015),\n",
    "    'TJC': (25.091810, -111.315840),\n",
    "    'ZCC': (27.335660, -113.302957),  # estimated\n",
    "    'ZJL': (28.301185, -114.028883),  # estimated - same as ZJM\n",
    "    'ZJM': (28.301185, -114.028883),\n",
    "    'ZJZ': (28.301185, -114.028883),  # estimated - same as ZJM\n",
    "    'ZPR': (25.419456, -111.885169),\n",
    "    'ZVJ': (28.286338, -113.994819)\n",
    "}"
   ]
  },
  {
   "cell_type": "code",
   "execution_count": null,
   "metadata": {},
   "outputs": [],
   "source": []
  }
 ],
 "metadata": {
  "kernelspec": {
   "display_name": "cherry",
   "language": "python",
   "name": "python3"
  },
  "language_info": {
   "codemirror_mode": {
    "name": "ipython",
    "version": 3
   },
   "file_extension": ".py",
   "mimetype": "text/x-python",
   "name": "python",
   "nbconvert_exporter": "python",
   "pygments_lexer": "ipython3",
   "version": "3.10.15"
  }
 },
 "nbformat": 4,
 "nbformat_minor": 2
}
