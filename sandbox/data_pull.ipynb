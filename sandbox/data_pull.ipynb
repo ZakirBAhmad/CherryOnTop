{
 "cells": [
  {
   "cell_type": "code",
   "execution_count": 1,
   "metadata": {},
   "outputs": [],
   "source": [
    "import sys\n",
    "import os\n",
    "sys.path.append(os.path.abspath('..'))"
   ]
  },
  {
   "cell_type": "code",
   "execution_count": 49,
   "metadata": {},
   "outputs": [],
   "source": [
    "import load as pre\n",
    "import numpy as np\n",
    "import time\n",
    "import pandas as pd"
   ]
  },
  {
   "cell_type": "code",
   "execution_count": 3,
   "metadata": {},
   "outputs": [],
   "source": [
    "meta, y, mapping_dict = pre.load_data('../data/meta.json','../data/y.csv','../data/mappings.json')"
   ]
  },
  {
   "cell_type": "code",
   "execution_count": 4,
   "metadata": {},
   "outputs": [],
   "source": [
    "a = pre.decode(meta,mapping_dict).Ranch.unique()\n",
    "\n",
    "\n",
    "\n",
    "\n"
   ]
  },
  {
   "cell_type": "code",
   "execution_count": 5,
   "metadata": {},
   "outputs": [],
   "source": [
    "b = np.array([\n",
    "    'VAP', 'OAP', 'OIB', 'OLB', 'VDG', 'SMB', 'OSF', 'SGB', \n",
    "    'SEB', 'TJC', 'ZCC', 'ZJL', 'ZJM', 'ZJZ', 'ZPR', 'ZVJ'\n",
    "])"
   ]
  },
  {
   "cell_type": "code",
   "execution_count": 6,
   "metadata": {},
   "outputs": [
    {
     "data": {
      "text/plain": [
       "array(['MAP', 'OAP', 'OIB', 'OLB', 'OSF', 'SAB', 'SEB', 'SFB', 'SGB',\n",
       "       'SGC', 'SJB', 'SLB', 'SMB', 'SMR', 'TJC', 'VAP', 'VDG', 'ZCC',\n",
       "       'ZJL', 'ZJM', 'ZJZ', 'ZPR', 'ZVJ'], dtype=object)"
      ]
     },
     "execution_count": 6,
     "metadata": {},
     "output_type": "execute_result"
    }
   ],
   "source": [
    "np.unique(np.concatenate([a,b]))"
   ]
  },
  {
   "cell_type": "code",
   "execution_count": 56,
   "metadata": {},
   "outputs": [],
   "source": [
    "finished_coordinates = {\n",
    "    'MAP': (31.666431, -116.515308),\n",
    "    'OAP': (31.920693, -116.243753),\n",
    "    'OIB': (31.917818, -116.241634),  # estimated\n",
    "    'OLB': (31.907724, -116.236947),\n",
    "    'OSF': (31.925036, -116.244201),\n",
    "    'SAB': (32.026187, -116.742880),\n",
    "    'SEB': (32.017032, -116.689125),  # estimated\n",
    "    'SFB': (32.025498, -116.753590),\n",
    "    'SGB': (32.016094, -116.763115),\n",
    "    'SGC': (32.016094, -116.763115),  # estimated\n",
    "    'SJB': (32.022490, -116.754103),\n",
    "    'SLB': (32.024978, -116.739198),\n",
    "    'SMB': (31.907241, -116.241314),\n",
    "    'SMR': (32.096734, -116.829672),\n",
    "    'VAP': (31.421453, -116.269149),\n",
    "    'VDG': (31.345217, -116.326015),\n",
    "    'TJC': (25.091810, -111.315840),\n",
    "\n",
    "}"
   ]
  },
  {
   "cell_type": "code",
   "execution_count": 53,
   "metadata": {},
   "outputs": [],
   "source": [
    "grower_coordinates = {\n",
    "\n",
    "    'TJC': (25.091810, -111.315840),\n",
    "    'ZCC': (27.335660, -113.302957),  # estimated\n",
    "    'ZJL': (28.301185, -114.028883),  # estimated - same as ZJM\n",
    "    'ZJM': (28.301185, -114.028883),\n",
    "    'ZJZ': (28.301185, -114.028883),  # estimated - same as ZJM\n",
    "    'ZPR': (25.419456, -111.885169),\n",
    "    'ZVJ': (28.286338, -113.994819)\n",
    "}"
   ]
  },
  {
   "cell_type": "code",
   "execution_count": 8,
   "metadata": {},
   "outputs": [],
   "source": [
    "import openmeteo_requests\n",
    "\n",
    "import pandas as pd\n",
    "import requests_cache\n",
    "from retry_requests import retry"
   ]
  },
  {
   "cell_type": "code",
   "execution_count": 58,
   "metadata": {},
   "outputs": [
    {
     "name": "stdout",
     "output_type": "stream",
     "text": [
      "Saved ZCC\n",
      "Saved ZJL\n",
      "Saved ZJM\n",
      "Saved ZJZ\n",
      "Saved ZPR\n",
      "Saved ZVJ\n"
     ]
    }
   ],
   "source": [
    "#example pull:\n",
    "\n",
    "cache_session = requests_cache.CachedSession('.cache', expire_after = -1)\n",
    "retry_session = retry(cache_session, retries = 5, backoff_factor = 0.2)\n",
    "openmeteo = openmeteo_requests.Client(session = retry_session)\n",
    "\n",
    "vars = \"temperature_2m_max,temperature_2m_min,precipitation_sum,rain_sum,shortwave_radiation_sum,et0_fao_evapotranspiration,sunshine_duration,weather_code,precipitation_hours,wind_speed_10m_max\"\n",
    "var_list = vars.split(\",\")\n",
    "for loc in grower_coordinates:\n",
    "    lat = grower_coordinates[loc][0]\n",
    "    lon = grower_coordinates[loc][1]\n",
    "    start_date = \"2012-01-01\"\n",
    "    end_date = \"2025-06-17\"\n",
    "    url = \"https://archive-api.open-meteo.com/v1/archive\"\n",
    "    params = {\n",
    "\t\"latitude\": lat,\n",
    "\t\"longitude\": lon,\n",
    "\t\"start_date\": start_date,\n",
    "\t\"end_date\": end_date,\n",
    "\t\"daily\": vars\n",
    "}\n",
    "    responses = openmeteo.weather_api(url, params=params)\n",
    "    response = responses[0]\n",
    "    daily_data = pd.DataFrame(data = response.Daily().Variables(0).ValuesAsNumpy())\n",
    "    daily_data[\"date\"] = pd.date_range(\n",
    "\tstart = pd.to_datetime(response.Daily().Time(), unit = \"s\", utc = True),\n",
    "\tend = pd.to_datetime(response.Daily().TimeEnd(), unit = \"s\", utc = True),\n",
    "\tfreq = pd.Timedelta(seconds = response.Daily().Interval()),\n",
    "\tinclusive = \"left\"\n",
    ")\n",
    "    for var in var_list:\n",
    "        daily_data[var] = response.Daily().Variables(var_list.index(var)).ValuesAsNumpy()\n",
    "    daily_data.to_csv(f\"../data/raw/daily_data_{loc}.csv\")\n",
    "    print(f\"Saved {loc}\")\n",
    "    time.sleep(60)\n",
    "\n",
    "\n",
    "\n",
    "\n"
   ]
  },
  {
   "cell_type": "code",
   "execution_count": 59,
   "metadata": {},
   "outputs": [
    {
     "name": "stdout",
     "output_type": "stream",
     "text": [
      "Saved TJC\n"
     ]
    }
   ],
   "source": [
    "loc = 'TJC'\n",
    "lat = finished_coordinates[loc][0]\n",
    "lon = finished_coordinates[loc][1]\n",
    "start_date = \"2012-01-01\"\n",
    "end_date = \"2025-06-17\"\n",
    "url = \"https://archive-api.open-meteo.com/v1/archive\"\n",
    "params = {\n",
    "\"latitude\": lat,\n",
    "\"longitude\": lon,\n",
    "\"start_date\": start_date,\n",
    "\"end_date\": end_date,\n",
    "\"daily\": vars\n",
    "}\n",
    "responses = openmeteo.weather_api(url, params=params)\n",
    "response = responses[0]\n",
    "daily_data = pd.DataFrame(data = response.Daily().Variables(0).ValuesAsNumpy())\n",
    "daily_data[\"date\"] = pd.date_range(\n",
    "start = pd.to_datetime(response.Daily().Time(), unit = \"s\", utc = True),\n",
    "end = pd.to_datetime(response.Daily().TimeEnd(), unit = \"s\", utc = True),\n",
    "freq = pd.Timedelta(seconds = response.Daily().Interval()),\n",
    "inclusive = \"left\"\n",
    ")\n",
    "for var in var_list:\n",
    "    daily_data[var] = response.Daily().Variables(var_list.index(var)).ValuesAsNumpy()\n",
    "daily_data.to_csv(f\"../data/raw/daily_data_{loc}.csv\")\n",
    "print(f\"Saved {loc}\")"
   ]
  },
  {
   "cell_type": "markdown",
   "metadata": {},
   "source": [
    "check to make sure the things dont pull from overlapping lat/lon"
   ]
  },
  {
   "cell_type": "markdown",
   "metadata": {},
   "source": [
    "example pull from every location, for loop"
   ]
  },
  {
   "cell_type": "markdown",
   "metadata": {},
   "source": [
    "pull everything"
   ]
  },
  {
   "cell_type": "markdown",
   "metadata": {},
   "source": [
    "save as json? so i can save it all as 1 file"
   ]
  }
 ],
 "metadata": {
  "kernelspec": {
   "display_name": "cherry",
   "language": "python",
   "name": "python3"
  },
  "language_info": {
   "codemirror_mode": {
    "name": "ipython",
    "version": 3
   },
   "file_extension": ".py",
   "mimetype": "text/x-python",
   "name": "python",
   "nbconvert_exporter": "python",
   "pygments_lexer": "ipython3",
   "version": "3.10.15"
  }
 },
 "nbformat": 4,
 "nbformat_minor": 2
}
