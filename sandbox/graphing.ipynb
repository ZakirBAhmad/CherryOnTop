{
 "cells": [
  {
   "cell_type": "code",
   "execution_count": 1,
   "metadata": {},
   "outputs": [],
   "source": [
    "import pandas as pd\n",
    "import seaborn as sns\n",
    "import matplotlib.pyplot as plt\n",
    "import numpy as np\n",
    "from plotly import graph_objects as go\n",
    "from plotly import colors\n",
    "from plotly.colors import sample_colorscale"
   ]
  },
  {
   "cell_type": "code",
   "execution_count": 2,
   "metadata": {},
   "outputs": [],
   "source": [
    "import sys\n",
    "import os\n",
    "\n",
    "# Add the parent directory to sys.path\n",
    "sys.path.append(os.path.abspath('..'))"
   ]
  },
  {
   "cell_type": "code",
   "execution_count": 3,
   "metadata": {},
   "outputs": [],
   "source": [
    "from src.table import CherryTable\n",
    "import src.utils as utils\n",
    "import src.preprocessing as pre"
   ]
  },
  {
   "cell_type": "code",
   "execution_count": 4,
   "metadata": {},
   "outputs": [],
   "source": [
    "train, test, mapping_dict = pre.separate_year(planting_meta_path='../data/planting_meta.json', weekly_summary_path='../data/weekly_summary.csv')"
   ]
  },
  {
   "cell_type": "code",
   "execution_count": 5,
   "metadata": {},
   "outputs": [
    {
     "name": "stdout",
     "output_type": "stream",
     "text": [
      "Epoch [1/5], Loss: 837799.2586\n",
      "Epoch [2/5], Loss: 800551.9652\n",
      "Epoch [3/5], Loss: 794964.5982\n",
      "Epoch [4/5], Loss: 769445.6730\n",
      "Epoch [5/5], Loss: 714376.1796\n"
     ]
    }
   ],
   "source": [
    "model =utils.train_harvest_model(train)"
   ]
  },
  {
   "cell_type": "code",
   "execution_count": 6,
   "metadata": {},
   "outputs": [],
   "source": [
    "predictions = utils.predict_harvest(model, test)"
   ]
  },
  {
   "cell_type": "code",
   "execution_count": 7,
   "metadata": {},
   "outputs": [],
   "source": [
    "meta = pre.decode(test, mapping_dict)\n",
    "actuals = test.Y_kilos.detach().numpy()"
   ]
  },
  {
   "cell_type": "code",
   "execution_count": 8,
   "metadata": {},
   "outputs": [],
   "source": [
    "table = CherryTable(meta, {'predictions':predictions}, actuals)"
   ]
  },
  {
   "cell_type": "code",
   "execution_count": 9,
   "metadata": {},
   "outputs": [],
   "source": [
    "a,d,ha_info = table.graph_ready(ranches=True,classes=True)"
   ]
  },
  {
   "cell_type": "code",
   "execution_count": 10,
   "metadata": {},
   "outputs": [],
   "source": [
    "title = list(d.keys())[0]"
   ]
  },
  {
   "cell_type": "code",
   "execution_count": 11,
   "metadata": {},
   "outputs": [
    {
     "data": {
      "text/html": [
       "<div>\n",
       "<style scoped>\n",
       "    .dataframe tbody tr th:only-of-type {\n",
       "        vertical-align: middle;\n",
       "    }\n",
       "\n",
       "    .dataframe tbody tr th {\n",
       "        vertical-align: top;\n",
       "    }\n",
       "\n",
       "    .dataframe thead th {\n",
       "        text-align: right;\n",
       "    }\n",
       "</style>\n",
       "<table border=\"1\" class=\"dataframe\">\n",
       "  <thead>\n",
       "    <tr style=\"text-align: right;\">\n",
       "      <th></th>\n",
       "      <th></th>\n",
       "      <th>0</th>\n",
       "      <th>1</th>\n",
       "      <th>2</th>\n",
       "      <th>3</th>\n",
       "      <th>4</th>\n",
       "      <th>5</th>\n",
       "      <th>6</th>\n",
       "      <th>7</th>\n",
       "      <th>8</th>\n",
       "      <th>9</th>\n",
       "      <th>10</th>\n",
       "      <th>11</th>\n",
       "      <th>12</th>\n",
       "      <th>13</th>\n",
       "      <th>14</th>\n",
       "      <th>15</th>\n",
       "      <th>16</th>\n",
       "      <th>17</th>\n",
       "      <th>18</th>\n",
       "      <th>19</th>\n",
       "    </tr>\n",
       "    <tr>\n",
       "      <th>Ranch</th>\n",
       "      <th>Class</th>\n",
       "      <th></th>\n",
       "      <th></th>\n",
       "      <th></th>\n",
       "      <th></th>\n",
       "      <th></th>\n",
       "      <th></th>\n",
       "      <th></th>\n",
       "      <th></th>\n",
       "      <th></th>\n",
       "      <th></th>\n",
       "      <th></th>\n",
       "      <th></th>\n",
       "      <th></th>\n",
       "      <th></th>\n",
       "      <th></th>\n",
       "      <th></th>\n",
       "      <th></th>\n",
       "      <th></th>\n",
       "      <th></th>\n",
       "      <th></th>\n",
       "    </tr>\n",
       "  </thead>\n",
       "  <tbody>\n",
       "    <tr>\n",
       "      <th rowspan=\"2\" valign=\"top\">OAP</th>\n",
       "      <th>BSUF</th>\n",
       "      <td>4.316990</td>\n",
       "      <td>-0.356808</td>\n",
       "      <td>7.236816</td>\n",
       "      <td>-3.727654</td>\n",
       "      <td>4.017518</td>\n",
       "      <td>186.897842</td>\n",
       "      <td>-23.817627</td>\n",
       "      <td>127.639946</td>\n",
       "      <td>268.985382</td>\n",
       "      <td>1181.293945</td>\n",
       "      <td>3924.220703</td>\n",
       "      <td>8646.592773</td>\n",
       "      <td>12424.475586</td>\n",
       "      <td>17929.826172</td>\n",
       "      <td>19206.568359</td>\n",
       "      <td>19806.332031</td>\n",
       "      <td>17934.896484</td>\n",
       "      <td>15447.476562</td>\n",
       "      <td>12053.061523</td>\n",
       "      <td>6032.179199</td>\n",
       "    </tr>\n",
       "    <tr>\n",
       "      <th>CHE</th>\n",
       "      <td>-9.002924</td>\n",
       "      <td>2.536819</td>\n",
       "      <td>16.079273</td>\n",
       "      <td>-0.373222</td>\n",
       "      <td>-126.608040</td>\n",
       "      <td>262.015015</td>\n",
       "      <td>-14.808757</td>\n",
       "      <td>58.146477</td>\n",
       "      <td>169.493652</td>\n",
       "      <td>1005.703430</td>\n",
       "      <td>3772.435791</td>\n",
       "      <td>7930.842773</td>\n",
       "      <td>11745.315430</td>\n",
       "      <td>16996.390625</td>\n",
       "      <td>18312.982422</td>\n",
       "      <td>18951.648438</td>\n",
       "      <td>17178.904297</td>\n",
       "      <td>14436.757812</td>\n",
       "      <td>11332.753906</td>\n",
       "      <td>5691.674316</td>\n",
       "    </tr>\n",
       "    <tr>\n",
       "      <th rowspan=\"2\" valign=\"top\">SFB</th>\n",
       "      <th>BSUF</th>\n",
       "      <td>0.184981</td>\n",
       "      <td>0.426452</td>\n",
       "      <td>3.739281</td>\n",
       "      <td>-0.314290</td>\n",
       "      <td>-14.789971</td>\n",
       "      <td>74.882851</td>\n",
       "      <td>-6.410207</td>\n",
       "      <td>35.424820</td>\n",
       "      <td>81.613914</td>\n",
       "      <td>392.267883</td>\n",
       "      <td>1355.246094</td>\n",
       "      <td>2939.635498</td>\n",
       "      <td>4268.192871</td>\n",
       "      <td>6164.770020</td>\n",
       "      <td>6618.502441</td>\n",
       "      <td>6833.330566</td>\n",
       "      <td>6190.831543</td>\n",
       "      <td>5285.952148</td>\n",
       "      <td>4132.929688</td>\n",
       "      <td>2071.364746</td>\n",
       "    </tr>\n",
       "    <tr>\n",
       "      <th>CHE</th>\n",
       "      <td>-11.051155</td>\n",
       "      <td>3.601353</td>\n",
       "      <td>13.794744</td>\n",
       "      <td>3.287706</td>\n",
       "      <td>-140.054321</td>\n",
       "      <td>194.521393</td>\n",
       "      <td>-1.906226</td>\n",
       "      <td>-0.604939</td>\n",
       "      <td>53.501953</td>\n",
       "      <td>521.745605</td>\n",
       "      <td>2200.857178</td>\n",
       "      <td>4435.632812</td>\n",
       "      <td>6757.138672</td>\n",
       "      <td>9801.185547</td>\n",
       "      <td>10619.804688</td>\n",
       "      <td>11023.788086</td>\n",
       "      <td>10005.254883</td>\n",
       "      <td>8219.796875</td>\n",
       "      <td>6488.416016</td>\n",
       "      <td>3270.770508</td>\n",
       "    </tr>\n",
       "    <tr>\n",
       "      <th rowspan=\"2\" valign=\"top\">SGB</th>\n",
       "      <th>BSUF</th>\n",
       "      <td>2.214371</td>\n",
       "      <td>-0.157831</td>\n",
       "      <td>4.311312</td>\n",
       "      <td>-1.021194</td>\n",
       "      <td>-3.763134</td>\n",
       "      <td>106.265991</td>\n",
       "      <td>-11.204788</td>\n",
       "      <td>66.078766</td>\n",
       "      <td>142.933060</td>\n",
       "      <td>642.324585</td>\n",
       "      <td>2151.467529</td>\n",
       "      <td>4723.592773</td>\n",
       "      <td>6805.334961</td>\n",
       "      <td>9823.209961</td>\n",
       "      <td>10529.787109</td>\n",
       "      <td>10861.494141</td>\n",
       "      <td>9838.618164</td>\n",
       "      <td>8453.385742</td>\n",
       "      <td>6599.384277</td>\n",
       "      <td>3304.352051</td>\n",
       "    </tr>\n",
       "    <tr>\n",
       "      <th>CHE</th>\n",
       "      <td>-5.386551</td>\n",
       "      <td>1.296161</td>\n",
       "      <td>9.072071</td>\n",
       "      <td>0.832655</td>\n",
       "      <td>-76.093681</td>\n",
       "      <td>140.263245</td>\n",
       "      <td>-5.452521</td>\n",
       "      <td>22.473885</td>\n",
       "      <td>76.592896</td>\n",
       "      <td>496.821442</td>\n",
       "      <td>1906.464355</td>\n",
       "      <td>3972.817139</td>\n",
       "      <td>5919.606445</td>\n",
       "      <td>8570.815430</td>\n",
       "      <td>9246.806641</td>\n",
       "      <td>9575.309570</td>\n",
       "      <td>8683.989258</td>\n",
       "      <td>7259.983398</td>\n",
       "      <td>5705.834473</td>\n",
       "      <td>2868.196045</td>\n",
       "    </tr>\n",
       "    <tr>\n",
       "      <th rowspan=\"2\" valign=\"top\">SJB</th>\n",
       "      <th>BSUF</th>\n",
       "      <td>0.385468</td>\n",
       "      <td>0.595691</td>\n",
       "      <td>2.788979</td>\n",
       "      <td>-0.066650</td>\n",
       "      <td>-11.536199</td>\n",
       "      <td>62.059765</td>\n",
       "      <td>-5.200280</td>\n",
       "      <td>30.069008</td>\n",
       "      <td>69.203979</td>\n",
       "      <td>329.280518</td>\n",
       "      <td>1135.046631</td>\n",
       "      <td>2464.679932</td>\n",
       "      <td>3576.049316</td>\n",
       "      <td>5164.634766</td>\n",
       "      <td>5544.788086</td>\n",
       "      <td>5724.050781</td>\n",
       "      <td>5186.167969</td>\n",
       "      <td>4430.182617</td>\n",
       "      <td>3463.237305</td>\n",
       "      <td>1735.925781</td>\n",
       "    </tr>\n",
       "    <tr>\n",
       "      <th>CHE</th>\n",
       "      <td>-7.391114</td>\n",
       "      <td>3.034059</td>\n",
       "      <td>9.702473</td>\n",
       "      <td>2.763089</td>\n",
       "      <td>-100.565376</td>\n",
       "      <td>147.280762</td>\n",
       "      <td>-1.630160</td>\n",
       "      <td>4.429385</td>\n",
       "      <td>49.736313</td>\n",
       "      <td>422.960327</td>\n",
       "      <td>1741.526611</td>\n",
       "      <td>3540.221680</td>\n",
       "      <td>5362.467773</td>\n",
       "      <td>7774.291016</td>\n",
       "      <td>8416.575195</td>\n",
       "      <td>8730.796875</td>\n",
       "      <td>7923.563477</td>\n",
       "      <td>6537.481934</td>\n",
       "      <td>5154.464355</td>\n",
       "      <td>2597.275391</td>\n",
       "    </tr>\n",
       "    <tr>\n",
       "      <th rowspan=\"2\" valign=\"top\">SMB</th>\n",
       "      <th>BSUF</th>\n",
       "      <td>0.578284</td>\n",
       "      <td>0.267277</td>\n",
       "      <td>6.035095</td>\n",
       "      <td>-1.621244</td>\n",
       "      <td>-17.216637</td>\n",
       "      <td>122.514160</td>\n",
       "      <td>-12.223793</td>\n",
       "      <td>65.717491</td>\n",
       "      <td>144.893692</td>\n",
       "      <td>677.541748</td>\n",
       "      <td>2314.688232</td>\n",
       "      <td>5043.609863</td>\n",
       "      <td>7299.981445</td>\n",
       "      <td>10541.130859</td>\n",
       "      <td>11308.856445</td>\n",
       "      <td>11671.748047</td>\n",
       "      <td>10572.533203</td>\n",
       "      <td>9050.833008</td>\n",
       "      <td>7072.157227</td>\n",
       "      <td>3542.848633</td>\n",
       "    </tr>\n",
       "    <tr>\n",
       "      <th>CHE</th>\n",
       "      <td>-6.260203</td>\n",
       "      <td>1.753505</td>\n",
       "      <td>9.272972</td>\n",
       "      <td>0.790629</td>\n",
       "      <td>-81.982178</td>\n",
       "      <td>141.718262</td>\n",
       "      <td>-4.933600</td>\n",
       "      <td>19.261028</td>\n",
       "      <td>71.031242</td>\n",
       "      <td>480.951447</td>\n",
       "      <td>1874.049683</td>\n",
       "      <td>3885.215332</td>\n",
       "      <td>5807.877441</td>\n",
       "      <td>8410.885742</td>\n",
       "      <td>9080.342773</td>\n",
       "      <td>9406.346680</td>\n",
       "      <td>8531.004883</td>\n",
       "      <td>7114.069336</td>\n",
       "      <td>5594.873047</td>\n",
       "      <td>2813.837891</td>\n",
       "    </tr>\n",
       "    <tr>\n",
       "      <th rowspan=\"2\" valign=\"top\">VAP</th>\n",
       "      <th>BSUF</th>\n",
       "      <td>11.033687</td>\n",
       "      <td>2.534853</td>\n",
       "      <td>16.303881</td>\n",
       "      <td>-1.598614</td>\n",
       "      <td>-23.453552</td>\n",
       "      <td>462.657654</td>\n",
       "      <td>-46.544018</td>\n",
       "      <td>279.355225</td>\n",
       "      <td>614.488098</td>\n",
       "      <td>2764.855713</td>\n",
       "      <td>9291.657227</td>\n",
       "      <td>20377.312500</td>\n",
       "      <td>29378.494141</td>\n",
       "      <td>42405.890625</td>\n",
       "      <td>45468.953125</td>\n",
       "      <td>46903.988281</td>\n",
       "      <td>42490.851562</td>\n",
       "      <td>36484.437500</td>\n",
       "      <td>28485.609375</td>\n",
       "      <td>14268.214844</td>\n",
       "    </tr>\n",
       "    <tr>\n",
       "      <th>CHE</th>\n",
       "      <td>-13.297034</td>\n",
       "      <td>7.834411</td>\n",
       "      <td>27.882397</td>\n",
       "      <td>6.983722</td>\n",
       "      <td>-253.140579</td>\n",
       "      <td>519.402588</td>\n",
       "      <td>-19.178417</td>\n",
       "      <td>106.547180</td>\n",
       "      <td>335.570831</td>\n",
       "      <td>1994.718262</td>\n",
       "      <td>7484.578613</td>\n",
       "      <td>15731.647461</td>\n",
       "      <td>23313.414062</td>\n",
       "      <td>33734.675781</td>\n",
       "      <td>36369.613281</td>\n",
       "      <td>37636.480469</td>\n",
       "      <td>34132.855469</td>\n",
       "      <td>28654.681641</td>\n",
       "      <td>22496.316406</td>\n",
       "      <td>11306.702148</td>\n",
       "    </tr>\n",
       "  </tbody>\n",
       "</table>\n",
       "</div>"
      ],
      "text/plain": [
       "                    0         1          2         3           4           5   \\\n",
       "Ranch Class                                                                     \n",
       "OAP   BSUF    4.316990 -0.356808   7.236816 -3.727654    4.017518  186.897842   \n",
       "      CHE    -9.002924  2.536819  16.079273 -0.373222 -126.608040  262.015015   \n",
       "SFB   BSUF    0.184981  0.426452   3.739281 -0.314290  -14.789971   74.882851   \n",
       "      CHE   -11.051155  3.601353  13.794744  3.287706 -140.054321  194.521393   \n",
       "SGB   BSUF    2.214371 -0.157831   4.311312 -1.021194   -3.763134  106.265991   \n",
       "      CHE    -5.386551  1.296161   9.072071  0.832655  -76.093681  140.263245   \n",
       "SJB   BSUF    0.385468  0.595691   2.788979 -0.066650  -11.536199   62.059765   \n",
       "      CHE    -7.391114  3.034059   9.702473  2.763089 -100.565376  147.280762   \n",
       "SMB   BSUF    0.578284  0.267277   6.035095 -1.621244  -17.216637  122.514160   \n",
       "      CHE    -6.260203  1.753505   9.272972  0.790629  -81.982178  141.718262   \n",
       "VAP   BSUF   11.033687  2.534853  16.303881 -1.598614  -23.453552  462.657654   \n",
       "      CHE   -13.297034  7.834411  27.882397  6.983722 -253.140579  519.402588   \n",
       "\n",
       "                    6           7           8            9            10  \\\n",
       "Ranch Class                                                                \n",
       "OAP   BSUF  -23.817627  127.639946  268.985382  1181.293945  3924.220703   \n",
       "      CHE   -14.808757   58.146477  169.493652  1005.703430  3772.435791   \n",
       "SFB   BSUF   -6.410207   35.424820   81.613914   392.267883  1355.246094   \n",
       "      CHE    -1.906226   -0.604939   53.501953   521.745605  2200.857178   \n",
       "SGB   BSUF  -11.204788   66.078766  142.933060   642.324585  2151.467529   \n",
       "      CHE    -5.452521   22.473885   76.592896   496.821442  1906.464355   \n",
       "SJB   BSUF   -5.200280   30.069008   69.203979   329.280518  1135.046631   \n",
       "      CHE    -1.630160    4.429385   49.736313   422.960327  1741.526611   \n",
       "SMB   BSUF  -12.223793   65.717491  144.893692   677.541748  2314.688232   \n",
       "      CHE    -4.933600   19.261028   71.031242   480.951447  1874.049683   \n",
       "VAP   BSUF  -46.544018  279.355225  614.488098  2764.855713  9291.657227   \n",
       "      CHE   -19.178417  106.547180  335.570831  1994.718262  7484.578613   \n",
       "\n",
       "                       11            12            13            14  \\\n",
       "Ranch Class                                                           \n",
       "OAP   BSUF    8646.592773  12424.475586  17929.826172  19206.568359   \n",
       "      CHE     7930.842773  11745.315430  16996.390625  18312.982422   \n",
       "SFB   BSUF    2939.635498   4268.192871   6164.770020   6618.502441   \n",
       "      CHE     4435.632812   6757.138672   9801.185547  10619.804688   \n",
       "SGB   BSUF    4723.592773   6805.334961   9823.209961  10529.787109   \n",
       "      CHE     3972.817139   5919.606445   8570.815430   9246.806641   \n",
       "SJB   BSUF    2464.679932   3576.049316   5164.634766   5544.788086   \n",
       "      CHE     3540.221680   5362.467773   7774.291016   8416.575195   \n",
       "SMB   BSUF    5043.609863   7299.981445  10541.130859  11308.856445   \n",
       "      CHE     3885.215332   5807.877441   8410.885742   9080.342773   \n",
       "VAP   BSUF   20377.312500  29378.494141  42405.890625  45468.953125   \n",
       "      CHE    15731.647461  23313.414062  33734.675781  36369.613281   \n",
       "\n",
       "                       15            16            17            18  \\\n",
       "Ranch Class                                                           \n",
       "OAP   BSUF   19806.332031  17934.896484  15447.476562  12053.061523   \n",
       "      CHE    18951.648438  17178.904297  14436.757812  11332.753906   \n",
       "SFB   BSUF    6833.330566   6190.831543   5285.952148   4132.929688   \n",
       "      CHE    11023.788086  10005.254883   8219.796875   6488.416016   \n",
       "SGB   BSUF   10861.494141   9838.618164   8453.385742   6599.384277   \n",
       "      CHE     9575.309570   8683.989258   7259.983398   5705.834473   \n",
       "SJB   BSUF    5724.050781   5186.167969   4430.182617   3463.237305   \n",
       "      CHE     8730.796875   7923.563477   6537.481934   5154.464355   \n",
       "SMB   BSUF   11671.748047  10572.533203   9050.833008   7072.157227   \n",
       "      CHE     9406.346680   8531.004883   7114.069336   5594.873047   \n",
       "VAP   BSUF   46903.988281  42490.851562  36484.437500  28485.609375   \n",
       "      CHE    37636.480469  34132.855469  28654.681641  22496.316406   \n",
       "\n",
       "                       19  \n",
       "Ranch Class                \n",
       "OAP   BSUF    6032.179199  \n",
       "      CHE     5691.674316  \n",
       "SFB   BSUF    2071.364746  \n",
       "      CHE     3270.770508  \n",
       "SGB   BSUF    3304.352051  \n",
       "      CHE     2868.196045  \n",
       "SJB   BSUF    1735.925781  \n",
       "      CHE     2597.275391  \n",
       "SMB   BSUF    3542.848633  \n",
       "      CHE     2813.837891  \n",
       "VAP   BSUF   14268.214844  \n",
       "      CHE    11306.702148  "
      ]
     },
     "execution_count": 11,
     "metadata": {},
     "output_type": "execute_result"
    }
   ],
   "source": [
    "d[title]"
   ]
  },
  {
   "cell_type": "code",
   "execution_count": 12,
   "metadata": {},
   "outputs": [],
   "source": [
    "df = d[title].T"
   ]
  },
  {
   "cell_type": "code",
   "execution_count": 13,
   "metadata": {},
   "outputs": [],
   "source": [
    "af = d['actuals_summed'].T"
   ]
  },
  {
   "cell_type": "code",
   "execution_count": 14,
   "metadata": {},
   "outputs": [
    {
     "data": {
      "text/html": [
       "<div>\n",
       "<style scoped>\n",
       "    .dataframe tbody tr th:only-of-type {\n",
       "        vertical-align: middle;\n",
       "    }\n",
       "\n",
       "    .dataframe tbody tr th {\n",
       "        vertical-align: top;\n",
       "    }\n",
       "\n",
       "    .dataframe thead tr th {\n",
       "        text-align: left;\n",
       "    }\n",
       "</style>\n",
       "<table border=\"1\" class=\"dataframe\">\n",
       "  <thead>\n",
       "    <tr>\n",
       "      <th>Ranch</th>\n",
       "      <th colspan=\"2\" halign=\"left\">OAP</th>\n",
       "      <th colspan=\"2\" halign=\"left\">SFB</th>\n",
       "      <th colspan=\"2\" halign=\"left\">SGB</th>\n",
       "      <th colspan=\"2\" halign=\"left\">SJB</th>\n",
       "      <th colspan=\"2\" halign=\"left\">SMB</th>\n",
       "      <th colspan=\"2\" halign=\"left\">VAP</th>\n",
       "    </tr>\n",
       "    <tr>\n",
       "      <th>Class</th>\n",
       "      <th>BSUF</th>\n",
       "      <th>CHE</th>\n",
       "      <th>BSUF</th>\n",
       "      <th>CHE</th>\n",
       "      <th>BSUF</th>\n",
       "      <th>CHE</th>\n",
       "      <th>BSUF</th>\n",
       "      <th>CHE</th>\n",
       "      <th>BSUF</th>\n",
       "      <th>CHE</th>\n",
       "      <th>BSUF</th>\n",
       "      <th>CHE</th>\n",
       "    </tr>\n",
       "  </thead>\n",
       "  <tbody>\n",
       "    <tr>\n",
       "      <th>0</th>\n",
       "      <td>0.0</td>\n",
       "      <td>0.0</td>\n",
       "      <td>0.0</td>\n",
       "      <td>0.0</td>\n",
       "      <td>0.0</td>\n",
       "      <td>0.0</td>\n",
       "      <td>0.0</td>\n",
       "      <td>0.0</td>\n",
       "      <td>0.0</td>\n",
       "      <td>0.0</td>\n",
       "      <td>0.0</td>\n",
       "      <td>0.0</td>\n",
       "    </tr>\n",
       "    <tr>\n",
       "      <th>1</th>\n",
       "      <td>0.0</td>\n",
       "      <td>0.0</td>\n",
       "      <td>0.0</td>\n",
       "      <td>0.0</td>\n",
       "      <td>0.0</td>\n",
       "      <td>0.0</td>\n",
       "      <td>0.0</td>\n",
       "      <td>0.0</td>\n",
       "      <td>0.0</td>\n",
       "      <td>0.0</td>\n",
       "      <td>0.0</td>\n",
       "      <td>0.0</td>\n",
       "    </tr>\n",
       "    <tr>\n",
       "      <th>2</th>\n",
       "      <td>0.0</td>\n",
       "      <td>0.0</td>\n",
       "      <td>0.0</td>\n",
       "      <td>0.0</td>\n",
       "      <td>0.0</td>\n",
       "      <td>0.0</td>\n",
       "      <td>0.0</td>\n",
       "      <td>0.0</td>\n",
       "      <td>0.0</td>\n",
       "      <td>0.0</td>\n",
       "      <td>0.0</td>\n",
       "      <td>0.0</td>\n",
       "    </tr>\n",
       "    <tr>\n",
       "      <th>3</th>\n",
       "      <td>0.0</td>\n",
       "      <td>0.0</td>\n",
       "      <td>0.0</td>\n",
       "      <td>0.0</td>\n",
       "      <td>0.0</td>\n",
       "      <td>0.0</td>\n",
       "      <td>0.0</td>\n",
       "      <td>0.0</td>\n",
       "      <td>0.0</td>\n",
       "      <td>0.0</td>\n",
       "      <td>0.0</td>\n",
       "      <td>0.0</td>\n",
       "    </tr>\n",
       "    <tr>\n",
       "      <th>4</th>\n",
       "      <td>0.0</td>\n",
       "      <td>0.0</td>\n",
       "      <td>0.0</td>\n",
       "      <td>0.0</td>\n",
       "      <td>0.0</td>\n",
       "      <td>0.0</td>\n",
       "      <td>0.0</td>\n",
       "      <td>0.0</td>\n",
       "      <td>0.0</td>\n",
       "      <td>0.0</td>\n",
       "      <td>0.0</td>\n",
       "      <td>0.0</td>\n",
       "    </tr>\n",
       "    <tr>\n",
       "      <th>5</th>\n",
       "      <td>0.0</td>\n",
       "      <td>0.0</td>\n",
       "      <td>129.0</td>\n",
       "      <td>213.0</td>\n",
       "      <td>0.0</td>\n",
       "      <td>0.0</td>\n",
       "      <td>0.0</td>\n",
       "      <td>0.0</td>\n",
       "      <td>0.0</td>\n",
       "      <td>0.0</td>\n",
       "      <td>0.0</td>\n",
       "      <td>0.0</td>\n",
       "    </tr>\n",
       "    <tr>\n",
       "      <th>6</th>\n",
       "      <td>247.0</td>\n",
       "      <td>0.0</td>\n",
       "      <td>0.0</td>\n",
       "      <td>1333.0</td>\n",
       "      <td>0.0</td>\n",
       "      <td>0.0</td>\n",
       "      <td>0.0</td>\n",
       "      <td>0.0</td>\n",
       "      <td>0.0</td>\n",
       "      <td>0.0</td>\n",
       "      <td>0.0</td>\n",
       "      <td>0.0</td>\n",
       "    </tr>\n",
       "    <tr>\n",
       "      <th>7</th>\n",
       "      <td>0.0</td>\n",
       "      <td>0.0</td>\n",
       "      <td>852.0</td>\n",
       "      <td>883.0</td>\n",
       "      <td>33.0</td>\n",
       "      <td>0.0</td>\n",
       "      <td>0.0</td>\n",
       "      <td>0.0</td>\n",
       "      <td>0.0</td>\n",
       "      <td>0.0</td>\n",
       "      <td>0.0</td>\n",
       "      <td>0.0</td>\n",
       "    </tr>\n",
       "    <tr>\n",
       "      <th>8</th>\n",
       "      <td>0.0</td>\n",
       "      <td>796.0</td>\n",
       "      <td>2724.0</td>\n",
       "      <td>2004.0</td>\n",
       "      <td>116.0</td>\n",
       "      <td>36.0</td>\n",
       "      <td>1482.0</td>\n",
       "      <td>507.0</td>\n",
       "      <td>480.0</td>\n",
       "      <td>0.0</td>\n",
       "      <td>24.0</td>\n",
       "      <td>0.0</td>\n",
       "    </tr>\n",
       "    <tr>\n",
       "      <th>9</th>\n",
       "      <td>1280.0</td>\n",
       "      <td>2267.0</td>\n",
       "      <td>0.0</td>\n",
       "      <td>0.0</td>\n",
       "      <td>307.0</td>\n",
       "      <td>108.0</td>\n",
       "      <td>4236.0</td>\n",
       "      <td>742.0</td>\n",
       "      <td>0.0</td>\n",
       "      <td>1023.0</td>\n",
       "      <td>587.0</td>\n",
       "      <td>40.0</td>\n",
       "    </tr>\n",
       "    <tr>\n",
       "      <th>10</th>\n",
       "      <td>7385.0</td>\n",
       "      <td>8092.0</td>\n",
       "      <td>1261.0</td>\n",
       "      <td>470.0</td>\n",
       "      <td>1513.0</td>\n",
       "      <td>471.0</td>\n",
       "      <td>5472.0</td>\n",
       "      <td>1671.0</td>\n",
       "      <td>3236.0</td>\n",
       "      <td>3443.0</td>\n",
       "      <td>4292.0</td>\n",
       "      <td>2283.0</td>\n",
       "    </tr>\n",
       "    <tr>\n",
       "      <th>11</th>\n",
       "      <td>18731.0</td>\n",
       "      <td>12703.0</td>\n",
       "      <td>726.0</td>\n",
       "      <td>624.0</td>\n",
       "      <td>2223.0</td>\n",
       "      <td>1097.0</td>\n",
       "      <td>7925.0</td>\n",
       "      <td>5822.0</td>\n",
       "      <td>6670.0</td>\n",
       "      <td>5855.0</td>\n",
       "      <td>10141.0</td>\n",
       "      <td>3014.0</td>\n",
       "    </tr>\n",
       "    <tr>\n",
       "      <th>12</th>\n",
       "      <td>25271.0</td>\n",
       "      <td>21517.0</td>\n",
       "      <td>3146.0</td>\n",
       "      <td>1476.0</td>\n",
       "      <td>6290.0</td>\n",
       "      <td>2079.0</td>\n",
       "      <td>8861.0</td>\n",
       "      <td>6039.0</td>\n",
       "      <td>13066.0</td>\n",
       "      <td>7161.0</td>\n",
       "      <td>11268.0</td>\n",
       "      <td>8268.0</td>\n",
       "    </tr>\n",
       "    <tr>\n",
       "      <th>13</th>\n",
       "      <td>25938.0</td>\n",
       "      <td>20780.0</td>\n",
       "      <td>7817.0</td>\n",
       "      <td>1531.0</td>\n",
       "      <td>5475.0</td>\n",
       "      <td>5314.0</td>\n",
       "      <td>6686.0</td>\n",
       "      <td>3924.0</td>\n",
       "      <td>14370.0</td>\n",
       "      <td>8003.0</td>\n",
       "      <td>27651.0</td>\n",
       "      <td>12951.0</td>\n",
       "    </tr>\n",
       "    <tr>\n",
       "      <th>14</th>\n",
       "      <td>30949.0</td>\n",
       "      <td>20929.0</td>\n",
       "      <td>10482.0</td>\n",
       "      <td>4268.0</td>\n",
       "      <td>13021.0</td>\n",
       "      <td>6126.0</td>\n",
       "      <td>7671.0</td>\n",
       "      <td>2597.0</td>\n",
       "      <td>11039.0</td>\n",
       "      <td>10300.0</td>\n",
       "      <td>57526.0</td>\n",
       "      <td>21938.0</td>\n",
       "    </tr>\n",
       "    <tr>\n",
       "      <th>15</th>\n",
       "      <td>32539.0</td>\n",
       "      <td>15468.0</td>\n",
       "      <td>19272.0</td>\n",
       "      <td>6402.0</td>\n",
       "      <td>8873.0</td>\n",
       "      <td>7149.0</td>\n",
       "      <td>8114.0</td>\n",
       "      <td>4681.0</td>\n",
       "      <td>5944.0</td>\n",
       "      <td>6524.0</td>\n",
       "      <td>28505.0</td>\n",
       "      <td>23379.0</td>\n",
       "    </tr>\n",
       "    <tr>\n",
       "      <th>16</th>\n",
       "      <td>22353.0</td>\n",
       "      <td>18699.0</td>\n",
       "      <td>14579.0</td>\n",
       "      <td>6340.0</td>\n",
       "      <td>9305.0</td>\n",
       "      <td>5984.0</td>\n",
       "      <td>4190.0</td>\n",
       "      <td>3747.0</td>\n",
       "      <td>2399.0</td>\n",
       "      <td>2888.0</td>\n",
       "      <td>35783.0</td>\n",
       "      <td>28990.0</td>\n",
       "    </tr>\n",
       "    <tr>\n",
       "      <th>17</th>\n",
       "      <td>15831.0</td>\n",
       "      <td>13833.0</td>\n",
       "      <td>10325.0</td>\n",
       "      <td>4926.0</td>\n",
       "      <td>10036.0</td>\n",
       "      <td>6390.0</td>\n",
       "      <td>3624.0</td>\n",
       "      <td>3036.0</td>\n",
       "      <td>710.0</td>\n",
       "      <td>1185.0</td>\n",
       "      <td>35544.0</td>\n",
       "      <td>30833.0</td>\n",
       "    </tr>\n",
       "    <tr>\n",
       "      <th>18</th>\n",
       "      <td>21066.0</td>\n",
       "      <td>8567.0</td>\n",
       "      <td>4596.0</td>\n",
       "      <td>6382.0</td>\n",
       "      <td>1758.0</td>\n",
       "      <td>2642.0</td>\n",
       "      <td>1331.0</td>\n",
       "      <td>2483.0</td>\n",
       "      <td>869.0</td>\n",
       "      <td>2180.0</td>\n",
       "      <td>39197.0</td>\n",
       "      <td>33812.0</td>\n",
       "    </tr>\n",
       "    <tr>\n",
       "      <th>19</th>\n",
       "      <td>12352.0</td>\n",
       "      <td>4687.0</td>\n",
       "      <td>2564.0</td>\n",
       "      <td>2066.0</td>\n",
       "      <td>2074.0</td>\n",
       "      <td>832.0</td>\n",
       "      <td>460.0</td>\n",
       "      <td>1238.0</td>\n",
       "      <td>715.0</td>\n",
       "      <td>2236.0</td>\n",
       "      <td>41522.0</td>\n",
       "      <td>30767.0</td>\n",
       "    </tr>\n",
       "  </tbody>\n",
       "</table>\n",
       "</div>"
      ],
      "text/plain": [
       "Ranch      OAP               SFB              SGB             SJB          \\\n",
       "Class     BSUF      CHE     BSUF     CHE     BSUF     CHE    BSUF     CHE   \n",
       "0          0.0      0.0      0.0     0.0      0.0     0.0     0.0     0.0   \n",
       "1          0.0      0.0      0.0     0.0      0.0     0.0     0.0     0.0   \n",
       "2          0.0      0.0      0.0     0.0      0.0     0.0     0.0     0.0   \n",
       "3          0.0      0.0      0.0     0.0      0.0     0.0     0.0     0.0   \n",
       "4          0.0      0.0      0.0     0.0      0.0     0.0     0.0     0.0   \n",
       "5          0.0      0.0    129.0   213.0      0.0     0.0     0.0     0.0   \n",
       "6        247.0      0.0      0.0  1333.0      0.0     0.0     0.0     0.0   \n",
       "7          0.0      0.0    852.0   883.0     33.0     0.0     0.0     0.0   \n",
       "8          0.0    796.0   2724.0  2004.0    116.0    36.0  1482.0   507.0   \n",
       "9       1280.0   2267.0      0.0     0.0    307.0   108.0  4236.0   742.0   \n",
       "10      7385.0   8092.0   1261.0   470.0   1513.0   471.0  5472.0  1671.0   \n",
       "11     18731.0  12703.0    726.0   624.0   2223.0  1097.0  7925.0  5822.0   \n",
       "12     25271.0  21517.0   3146.0  1476.0   6290.0  2079.0  8861.0  6039.0   \n",
       "13     25938.0  20780.0   7817.0  1531.0   5475.0  5314.0  6686.0  3924.0   \n",
       "14     30949.0  20929.0  10482.0  4268.0  13021.0  6126.0  7671.0  2597.0   \n",
       "15     32539.0  15468.0  19272.0  6402.0   8873.0  7149.0  8114.0  4681.0   \n",
       "16     22353.0  18699.0  14579.0  6340.0   9305.0  5984.0  4190.0  3747.0   \n",
       "17     15831.0  13833.0  10325.0  4926.0  10036.0  6390.0  3624.0  3036.0   \n",
       "18     21066.0   8567.0   4596.0  6382.0   1758.0  2642.0  1331.0  2483.0   \n",
       "19     12352.0   4687.0   2564.0  2066.0   2074.0   832.0   460.0  1238.0   \n",
       "\n",
       "Ranch      SMB               VAP           \n",
       "Class     BSUF      CHE     BSUF      CHE  \n",
       "0          0.0      0.0      0.0      0.0  \n",
       "1          0.0      0.0      0.0      0.0  \n",
       "2          0.0      0.0      0.0      0.0  \n",
       "3          0.0      0.0      0.0      0.0  \n",
       "4          0.0      0.0      0.0      0.0  \n",
       "5          0.0      0.0      0.0      0.0  \n",
       "6          0.0      0.0      0.0      0.0  \n",
       "7          0.0      0.0      0.0      0.0  \n",
       "8        480.0      0.0     24.0      0.0  \n",
       "9          0.0   1023.0    587.0     40.0  \n",
       "10      3236.0   3443.0   4292.0   2283.0  \n",
       "11      6670.0   5855.0  10141.0   3014.0  \n",
       "12     13066.0   7161.0  11268.0   8268.0  \n",
       "13     14370.0   8003.0  27651.0  12951.0  \n",
       "14     11039.0  10300.0  57526.0  21938.0  \n",
       "15      5944.0   6524.0  28505.0  23379.0  \n",
       "16      2399.0   2888.0  35783.0  28990.0  \n",
       "17       710.0   1185.0  35544.0  30833.0  \n",
       "18       869.0   2180.0  39197.0  33812.0  \n",
       "19       715.0   2236.0  41522.0  30767.0  "
      ]
     },
     "execution_count": 14,
     "metadata": {},
     "output_type": "execute_result"
    }
   ],
   "source": [
    "af"
   ]
  },
  {
   "cell_type": "code",
   "execution_count": 15,
   "metadata": {},
   "outputs": [
    {
     "data": {
      "application/vnd.plotly.v1+json": {
       "config": {
        "plotlyServerURL": "https://plot.ly"
       },
       "data": [
        {
         "line": {
          "color": "rgb(68, 1, 84)"
         },
         "name": "OAP: BSUF Predicted",
         "type": "scatter",
         "x": {
          "bdata": "AAECAwQFBgcICQoLDA0ODxAREhM=",
          "dtype": "i1"
         },
         "y": {
          "bdata": "yCSKQJevtr7/k+dA4JFuwIKPgEDZ5TpDgIq+wadH/0IhfoZDaKmTRIhDdUVfGgdG5yFCRqcTjEYjDZZGqryaRssdjEboXXFGP1Q8Rm+BvEU=",
          "dtype": "f4"
         }
        },
        {
         "marker": {
          "color": "rgb(68, 1, 84)"
         },
         "name": "OAP: BSUF Actual",
         "opacity": 0.75,
         "type": "bar",
         "x": {
          "bdata": "AAECAwQFBgcICQoLDA0ODxAREhM=",
          "dtype": "i1"
         },
         "y": {
          "bdata": "AAAAAAAAAAAAAAAAAAAAAAAAAAAAAAAAAAB3QwAAAAAAAAAAAACgRADI5kUAVpJGAG7FRgCkykYAyvFGADb+RgCirkYAXHdGAJSkRgAAQUY=",
          "dtype": "f4"
         }
        },
        {
         "line": {
          "color": "rgb(71, 33, 113)"
         },
         "name": "OAP: CHE Predicted",
         "type": "scatter",
         "x": {
          "bdata": "AAECAwQFBgcICQoLDA0ODxAREhM=",
          "dtype": "i1"
         },
         "y": {
          "bdata": "+gsQwT9bIkBaooBB5Ba/vlE3/cLsAYNDq/Bswf6VaEJgfilDBW17RPnGa0W+1vdFQ4U3RsjIhEb3EY9GTA+URs81hkYIk2FGBBMxRmXdsUU=",
          "dtype": "f4"
         }
        },
        {
         "marker": {
          "color": "rgb(71, 33, 113)"
         },
         "name": "OAP: CHE Actual",
         "opacity": 0.75,
         "type": "bar",
         "x": {
          "bdata": "AAECAwQFBgcICQoLDA0ODxAREhM=",
          "dtype": "i1"
         },
         "y": {
          "bdata": "AAAAAAAAAAAAAAAAAAAAAAAAAAAAAAAAAAAAAAAAAAAAAEdEALANRQDg/EUAfEZGABqoRgBYokYAgqNGALBxRgAWkkYAJFhGANwFRgB4kkU=",
          "dtype": "f4"
         }
        },
        {
         "line": {
          "color": "rgb(66, 61, 131)"
         },
         "name": "SFB: BSUF Predicted",
         "type": "scatter",
         "x": {
          "bdata": "AAECAwQFBgcICQoLDA0ODxAREhM=",
          "dtype": "i1"
         },
         "y": {
          "bdata": "nGs9PuRX2j5gUG9AouqgvrmjbMEFxJVCayDNwASzDUJTOqNCSiLEQ+BnqUQrujdFi2GFRSmmwEUF1M5FpYrVRad2wUWeL6VFcCeBRdZ1AUU=",
          "dtype": "f4"
         }
        },
        {
         "marker": {
          "color": "rgb(66, 61, 131)"
         },
         "name": "SFB: BSUF Actual",
         "opacity": 0.75,
         "type": "bar",
         "x": {
          "bdata": "AAECAwQFBgcICQoLDA0ODxAREhM=",
          "dtype": "i1"
         },
         "y": {
          "bdata": "AAAAAAAAAAAAAAAAAAAAAAAAAAAAAAFDAAAAAAAAVUQAQCpFAAAAAACgnUQAgDVEAKBERQBI9EUAyCNGAJCWRgDMY0YAVCFGAKCPRQBAIEU=",
          "dtype": "f4"
         }
        },
        {
         "line": {
          "color": "rgb(56, 87, 139)"
         },
         "name": "SFB: CHE Predicted",
         "type": "scatter",
         "x": {
          "bdata": "AAECAwQFBgcICQoLDA0ODxAREhM=",
          "dtype": "i1"
         },
         "y": {
          "bdata": "iNEwwZB8ZkBFt1xBxmlSQOgNDMN6hUJDOv/zv0DdGr8AAlZCuG8CRLeNCUUQnYpFHCnTRb4kGUY47yVGJz8sRgVVHEYwbwBGVMPKRVRsTEU=",
          "dtype": "f4"
         }
        },
        {
         "marker": {
          "color": "rgb(56, 87, 139)"
         },
         "name": "SFB: CHE Actual",
         "opacity": 0.75,
         "type": "bar",
         "x": {
          "bdata": "AAECAwQFBgcICQoLDA0ODxAREhM=",
          "dtype": "i1"
         },
         "y": {
          "bdata": "AAAAAAAAAAAAAAAAAAAAAAAAAAAAAFVDAKCmRADAXEQAgPpEAAAAAAAA60MAABxEAIC4RABgv0QAYIVFABDIRQAgxkUA8JlFAHDHRQAgAUU=",
          "dtype": "f4"
         }
        },
        {
         "line": {
          "color": "rgb(46, 111, 142)"
         },
         "name": "SGB: BSUF Predicted",
         "type": "scatter",
         "x": {
          "bdata": "AAECAwQFBgcICQoLDA0ODxAREhM=",
          "dtype": "i1"
         },
         "y": {
          "bdata": "QrgNQIueIb5E9olAeLaCvy7XcMAwiNRC0EYzwVQohELd7g5DxpQgRHt3BkW+nJNFrqrURdd8GUYmhyRG+rUpRnm6GUaLFQRGEzvORaKFTkU=",
          "dtype": "f4"
         }
        },
        {
         "marker": {
          "color": "rgb(46, 111, 142)"
         },
         "name": "SGB: BSUF Actual",
         "opacity": 0.75,
         "type": "bar",
         "x": {
          "bdata": "AAECAwQFBgcICQoLDA0ODxAREhM=",
          "dtype": "i1"
         },
         "y": {
          "bdata": "AAAAAAAAAAAAAAAAAAAAAAAAAAAAAAAAAAAAAAAABEIAAOhCAICZQwAgvUQA8ApFAJDERQAYq0UAdEtGAKQKRgBkEUYA0BxGAMDbRACgAUU=",
          "dtype": "f4"
         }
        },
        {
         "line": {
          "color": "rgb(37, 133, 142)"
         },
         "name": "SGB: CHE Predicted",
         "type": "scatter",
         "x": {
          "bdata": "AAECAwQFBgcICQoLDA0ODxAREhM=",
          "dtype": "i1"
         },
         "y": {
          "bdata": "oV6swJzopT80JxFB5ihVP/cvmMJkQwxDDXuuwITKs0GQL5lCJWn4Q9xO7kQTTXhF2vy4RUPrBUY6exBGPZ0VRvWvB0be3+JFrU6yRSNDM0U=",
          "dtype": "f4"
         }
        },
        {
         "marker": {
          "color": "rgb(37, 133, 142)"
         },
         "name": "SGB: CHE Actual",
         "opacity": 0.75,
         "type": "bar",
         "x": {
          "bdata": "AAECAwQFBgcICQoLDA0ODxAREhM=",
          "dtype": "i1"
         },
         "y": {
          "bdata": "AAAAAAAAAAAAAAAAAAAAAAAAAAAAAAAAAAAAAAAAAAAAABBCAADYQgCA60MAIIlEAPABRQAQpkUAcL9FAGjfRQAAu0UAsMdFACAlRQAAUEQ=",
          "dtype": "f4"
         }
        },
        {
         "line": {
          "color": "rgb(32, 155, 137)"
         },
         "name": "SJB: BSUF Predicted",
         "type": "scatter",
         "x": {
          "bdata": "AAECAwQFBgcICQoLDA0ODxAREhM=",
          "dtype": "i1"
         },
         "y": {
          "bdata": "AFzFPjx/GD+hfjJADICIvUWUOMEzPXhCsmimwFSN8EFwaIpC6KOkQ37hjUThChpFyoBfRRRloUVORq1FaOCyRVgRokV2cYpFzHNYRaD92EQ=",
          "dtype": "f4"
         }
        },
        {
         "marker": {
          "color": "rgb(32, 155, 137)"
         },
         "name": "SJB: BSUF Actual",
         "opacity": 0.75,
         "type": "bar",
         "x": {
          "bdata": "AAECAwQFBgcICQoLDA0ODxAREhM=",
          "dtype": "i1"
         },
         "y": {
          "bdata": "AAAAAAAAAAAAAAAAAAAAAAAAAAAAAAAAAAAAAAAAAAAAQLlEAGCERQAAq0UAqPdFAHQKRgDw0EUAuO9FAJD9RQDwgkUAgGJFAGCmRAAA5kM=",
          "dtype": "f4"
         }
        },
        {
         "line": {
          "color": "rgb(47, 176, 125)"
         },
         "name": "SJB: CHE Predicted",
         "type": "scatter",
         "x": {
          "bdata": "AAECAwQFBgcICQoLDA0ODxAREhM=",
          "dtype": "i1"
         },
         "y": {
          "bdata": "AoTswAUuQkBUPRtBctYwQHkhycLgRxNDFqnQv4a9jUD88UZC7HrTQ9qw2USMQ11FvpOnRVTy8kVNggNGMGsIRoKc90XbS8xFtxOhRWhUIkU=",
          "dtype": "f4"
         }
        },
        {
         "marker": {
          "color": "rgb(47, 176, 125)"
         },
         "name": "SJB: CHE Actual",
         "opacity": 0.75,
         "type": "bar",
         "x": {
          "bdata": "AAECAwQFBgcICQoLDA0ODxAREhM=",
          "dtype": "i1"
         },
         "y": {
          "bdata": "AAAAAAAAAAAAAAAAAAAAAAAAAAAAAAAAAAAAAAAAAAAAgP1DAIA5RADg0EQA8LVFALi8RQBAdUUAUCJFAEiSRQAwakUAwD1FADAbRQDAmkQ=",
          "dtype": "f4"
         }
        },
        {
         "line": {
          "color": "rgb(84, 196, 103)"
         },
         "name": "SMB: BSUF Predicted",
         "type": "scatter",
         "x": {
          "bdata": "AAECAwQFBgcICQoLDA0ODxAREhM=",
          "dtype": "i1"
         },
         "y": {
          "bdata": "bgoUP4/YiD5/H8FA8ITPv6y7icFAB/VCqJRDwVtvg0LJ5BBDrGIpRAOrEEXhnJ1F2h/kRYa0JEZtszBG/l42RiIyJUZVaw1GQgHdRZRtXUU=",
          "dtype": "f4"
         }
        },
        {
         "marker": {
          "color": "rgb(84, 196, 103)"
         },
         "name": "SMB: BSUF Actual",
         "opacity": 0.75,
         "type": "bar",
         "x": {
          "bdata": "AAECAwQFBgcICQoLDA0ODxAREhM=",
          "dtype": "i1"
         },
         "y": {
          "bdata": "AAAAAAAAAAAAAAAAAAAAAAAAAAAAAAAAAAAAAAAAAAAAAPBDAAAAAABASkUAcNBFAChMRgCIYEYAfCxGAMC5RQDwFUUAgDFEAEBZRADAMkQ=",
          "dtype": "f4"
         }
        },
        {
         "line": {
          "color": "rgb(136, 212, 72)"
         },
         "name": "SMB: CHE Predicted",
         "type": "scatter",
         "x": {
          "bdata": "AAECAwQFBgcICQoLDA0ODxAREhM=",
          "dtype": "i1"
         },
         "y": {
          "bdata": "llPIwNty4D8YXhRBomZKP+D2o8Lgtw1DDeCdwJYWmkH/D45CyXnwQ5dB6kRy03JFBX+1RYtrA0Zf4Q1GY/kSRgVMBUaOUN5F/NauRWjdL0U=",
          "dtype": "f4"
         }
        },
        {
         "marker": {
          "color": "rgb(136, 212, 72)"
         },
         "name": "SMB: CHE Actual",
         "opacity": 0.75,
         "type": "bar",
         "x": {
          "bdata": "AAECAwQFBgcICQoLDA0ODxAREhM=",
          "dtype": "i1"
         },
         "y": {
          "bdata": "AAAAAAAAAAAAAAAAAAAAAAAAAAAAAAAAAAAAAAAAAAAAAAAAAMB/RAAwV0UA+LZFAMjfRQAY+kUA8CBGAODLRQCANEUAIJREAEAIRQDAC0U=",
          "dtype": "f4"
         }
        },
        {
         "line": {
          "color": "rgb(194, 224, 42)"
         },
         "name": "VAP: BSUF Predicted",
         "type": "scatter",
         "x": {
          "bdata": "AAECAwQFBgcICQoLDA0ODxAREhM=",
          "dtype": "i1"
         },
         "y": {
          "bdata": "+4kwQQc7IkBZboJBYZ/Mv+Cgu8EuVOdDEy06wniti0M9nxlEsc0sRaEuEUagMp9G/YTlRuSlJUf0nDFH/Tc3R9r6JUdwhA5HOIveRtzwXkY=",
          "dtype": "f4"
         }
        },
        {
         "marker": {
          "color": "rgb(194, 224, 42)"
         },
         "name": "VAP: BSUF Actual",
         "opacity": 0.75,
         "type": "bar",
         "x": {
          "bdata": "AAECAwQFBgcICQoLDA0ODxAREhM=",
          "dtype": "i1"
         },
         "y": {
          "bdata": "AAAAAAAAAAAAAAAAAAAAAAAAAAAAAAAAAAAAAAAAAAAAAMBBAMASRAAghkUAdB5GABAwRgAG2EYAtmBHALLeRgDHC0cA2ApHAB0ZRwAyIkc=",
          "dtype": "f4"
         }
        },
        {
         "line": {
          "color": "rgb(253, 231, 37)"
         },
         "name": "VAP: CHE Predicted",
         "type": "scatter",
         "x": {
          "bdata": "AAECAwQFBgcICQoLDA0ODxAREhM=",
          "dtype": "i1"
         },
         "y": {
          "bdata": "p8BUwX6z+kAmD99BpnrfQP0jfcPE2QFEZm2ZwSgY1UIRyadD/Fb5RKHk6UWXznVG1CK2Rq3GA0edEQ5HewQTR9tUBUdd3d9GosCvRs+qMEY=",
          "dtype": "f4"
         }
        },
        {
         "marker": {
          "color": "rgb(253, 231, 37)"
         },
         "name": "VAP: CHE Actual",
         "opacity": 0.75,
         "type": "bar",
         "x": {
          "bdata": "AAECAwQFBgcICQoLDA0ODxAREhM=",
          "dtype": "i1"
         },
         "y": {
          "bdata": "AAAAAAAAAAAAAAAAAAAAAAAAAAAAAAAAAAAAAAAAAAAAAAAAAAAgQgCwDkUAYDxFADABRgBcSkYAZKtGAKa2RgB84kYA4vBGABQERwBe8EY=",
          "dtype": "f4"
         }
        }
       ],
       "layout": {
        "template": {
         "data": {
          "bar": [
           {
            "error_x": {
             "color": "#2a3f5f"
            },
            "error_y": {
             "color": "#2a3f5f"
            },
            "marker": {
             "line": {
              "color": "white",
              "width": 0.5
             },
             "pattern": {
              "fillmode": "overlay",
              "size": 10,
              "solidity": 0.2
             }
            },
            "type": "bar"
           }
          ],
          "barpolar": [
           {
            "marker": {
             "line": {
              "color": "white",
              "width": 0.5
             },
             "pattern": {
              "fillmode": "overlay",
              "size": 10,
              "solidity": 0.2
             }
            },
            "type": "barpolar"
           }
          ],
          "carpet": [
           {
            "aaxis": {
             "endlinecolor": "#2a3f5f",
             "gridcolor": "#C8D4E3",
             "linecolor": "#C8D4E3",
             "minorgridcolor": "#C8D4E3",
             "startlinecolor": "#2a3f5f"
            },
            "baxis": {
             "endlinecolor": "#2a3f5f",
             "gridcolor": "#C8D4E3",
             "linecolor": "#C8D4E3",
             "minorgridcolor": "#C8D4E3",
             "startlinecolor": "#2a3f5f"
            },
            "type": "carpet"
           }
          ],
          "choropleth": [
           {
            "colorbar": {
             "outlinewidth": 0,
             "ticks": ""
            },
            "type": "choropleth"
           }
          ],
          "contour": [
           {
            "colorbar": {
             "outlinewidth": 0,
             "ticks": ""
            },
            "colorscale": [
             [
              0,
              "#0d0887"
             ],
             [
              0.1111111111111111,
              "#46039f"
             ],
             [
              0.2222222222222222,
              "#7201a8"
             ],
             [
              0.3333333333333333,
              "#9c179e"
             ],
             [
              0.4444444444444444,
              "#bd3786"
             ],
             [
              0.5555555555555556,
              "#d8576b"
             ],
             [
              0.6666666666666666,
              "#ed7953"
             ],
             [
              0.7777777777777778,
              "#fb9f3a"
             ],
             [
              0.8888888888888888,
              "#fdca26"
             ],
             [
              1,
              "#f0f921"
             ]
            ],
            "type": "contour"
           }
          ],
          "contourcarpet": [
           {
            "colorbar": {
             "outlinewidth": 0,
             "ticks": ""
            },
            "type": "contourcarpet"
           }
          ],
          "heatmap": [
           {
            "colorbar": {
             "outlinewidth": 0,
             "ticks": ""
            },
            "colorscale": [
             [
              0,
              "#0d0887"
             ],
             [
              0.1111111111111111,
              "#46039f"
             ],
             [
              0.2222222222222222,
              "#7201a8"
             ],
             [
              0.3333333333333333,
              "#9c179e"
             ],
             [
              0.4444444444444444,
              "#bd3786"
             ],
             [
              0.5555555555555556,
              "#d8576b"
             ],
             [
              0.6666666666666666,
              "#ed7953"
             ],
             [
              0.7777777777777778,
              "#fb9f3a"
             ],
             [
              0.8888888888888888,
              "#fdca26"
             ],
             [
              1,
              "#f0f921"
             ]
            ],
            "type": "heatmap"
           }
          ],
          "histogram": [
           {
            "marker": {
             "pattern": {
              "fillmode": "overlay",
              "size": 10,
              "solidity": 0.2
             }
            },
            "type": "histogram"
           }
          ],
          "histogram2d": [
           {
            "colorbar": {
             "outlinewidth": 0,
             "ticks": ""
            },
            "colorscale": [
             [
              0,
              "#0d0887"
             ],
             [
              0.1111111111111111,
              "#46039f"
             ],
             [
              0.2222222222222222,
              "#7201a8"
             ],
             [
              0.3333333333333333,
              "#9c179e"
             ],
             [
              0.4444444444444444,
              "#bd3786"
             ],
             [
              0.5555555555555556,
              "#d8576b"
             ],
             [
              0.6666666666666666,
              "#ed7953"
             ],
             [
              0.7777777777777778,
              "#fb9f3a"
             ],
             [
              0.8888888888888888,
              "#fdca26"
             ],
             [
              1,
              "#f0f921"
             ]
            ],
            "type": "histogram2d"
           }
          ],
          "histogram2dcontour": [
           {
            "colorbar": {
             "outlinewidth": 0,
             "ticks": ""
            },
            "colorscale": [
             [
              0,
              "#0d0887"
             ],
             [
              0.1111111111111111,
              "#46039f"
             ],
             [
              0.2222222222222222,
              "#7201a8"
             ],
             [
              0.3333333333333333,
              "#9c179e"
             ],
             [
              0.4444444444444444,
              "#bd3786"
             ],
             [
              0.5555555555555556,
              "#d8576b"
             ],
             [
              0.6666666666666666,
              "#ed7953"
             ],
             [
              0.7777777777777778,
              "#fb9f3a"
             ],
             [
              0.8888888888888888,
              "#fdca26"
             ],
             [
              1,
              "#f0f921"
             ]
            ],
            "type": "histogram2dcontour"
           }
          ],
          "mesh3d": [
           {
            "colorbar": {
             "outlinewidth": 0,
             "ticks": ""
            },
            "type": "mesh3d"
           }
          ],
          "parcoords": [
           {
            "line": {
             "colorbar": {
              "outlinewidth": 0,
              "ticks": ""
             }
            },
            "type": "parcoords"
           }
          ],
          "pie": [
           {
            "automargin": true,
            "type": "pie"
           }
          ],
          "scatter": [
           {
            "fillpattern": {
             "fillmode": "overlay",
             "size": 10,
             "solidity": 0.2
            },
            "type": "scatter"
           }
          ],
          "scatter3d": [
           {
            "line": {
             "colorbar": {
              "outlinewidth": 0,
              "ticks": ""
             }
            },
            "marker": {
             "colorbar": {
              "outlinewidth": 0,
              "ticks": ""
             }
            },
            "type": "scatter3d"
           }
          ],
          "scattercarpet": [
           {
            "marker": {
             "colorbar": {
              "outlinewidth": 0,
              "ticks": ""
             }
            },
            "type": "scattercarpet"
           }
          ],
          "scattergeo": [
           {
            "marker": {
             "colorbar": {
              "outlinewidth": 0,
              "ticks": ""
             }
            },
            "type": "scattergeo"
           }
          ],
          "scattergl": [
           {
            "marker": {
             "colorbar": {
              "outlinewidth": 0,
              "ticks": ""
             }
            },
            "type": "scattergl"
           }
          ],
          "scattermap": [
           {
            "marker": {
             "colorbar": {
              "outlinewidth": 0,
              "ticks": ""
             }
            },
            "type": "scattermap"
           }
          ],
          "scattermapbox": [
           {
            "marker": {
             "colorbar": {
              "outlinewidth": 0,
              "ticks": ""
             }
            },
            "type": "scattermapbox"
           }
          ],
          "scatterpolar": [
           {
            "marker": {
             "colorbar": {
              "outlinewidth": 0,
              "ticks": ""
             }
            },
            "type": "scatterpolar"
           }
          ],
          "scatterpolargl": [
           {
            "marker": {
             "colorbar": {
              "outlinewidth": 0,
              "ticks": ""
             }
            },
            "type": "scatterpolargl"
           }
          ],
          "scatterternary": [
           {
            "marker": {
             "colorbar": {
              "outlinewidth": 0,
              "ticks": ""
             }
            },
            "type": "scatterternary"
           }
          ],
          "surface": [
           {
            "colorbar": {
             "outlinewidth": 0,
             "ticks": ""
            },
            "colorscale": [
             [
              0,
              "#0d0887"
             ],
             [
              0.1111111111111111,
              "#46039f"
             ],
             [
              0.2222222222222222,
              "#7201a8"
             ],
             [
              0.3333333333333333,
              "#9c179e"
             ],
             [
              0.4444444444444444,
              "#bd3786"
             ],
             [
              0.5555555555555556,
              "#d8576b"
             ],
             [
              0.6666666666666666,
              "#ed7953"
             ],
             [
              0.7777777777777778,
              "#fb9f3a"
             ],
             [
              0.8888888888888888,
              "#fdca26"
             ],
             [
              1,
              "#f0f921"
             ]
            ],
            "type": "surface"
           }
          ],
          "table": [
           {
            "cells": {
             "fill": {
              "color": "#EBF0F8"
             },
             "line": {
              "color": "white"
             }
            },
            "header": {
             "fill": {
              "color": "#C8D4E3"
             },
             "line": {
              "color": "white"
             }
            },
            "type": "table"
           }
          ]
         },
         "layout": {
          "annotationdefaults": {
           "arrowcolor": "#2a3f5f",
           "arrowhead": 0,
           "arrowwidth": 1
          },
          "autotypenumbers": "strict",
          "coloraxis": {
           "colorbar": {
            "outlinewidth": 0,
            "ticks": ""
           }
          },
          "colorscale": {
           "diverging": [
            [
             0,
             "#8e0152"
            ],
            [
             0.1,
             "#c51b7d"
            ],
            [
             0.2,
             "#de77ae"
            ],
            [
             0.3,
             "#f1b6da"
            ],
            [
             0.4,
             "#fde0ef"
            ],
            [
             0.5,
             "#f7f7f7"
            ],
            [
             0.6,
             "#e6f5d0"
            ],
            [
             0.7,
             "#b8e186"
            ],
            [
             0.8,
             "#7fbc41"
            ],
            [
             0.9,
             "#4d9221"
            ],
            [
             1,
             "#276419"
            ]
           ],
           "sequential": [
            [
             0,
             "#0d0887"
            ],
            [
             0.1111111111111111,
             "#46039f"
            ],
            [
             0.2222222222222222,
             "#7201a8"
            ],
            [
             0.3333333333333333,
             "#9c179e"
            ],
            [
             0.4444444444444444,
             "#bd3786"
            ],
            [
             0.5555555555555556,
             "#d8576b"
            ],
            [
             0.6666666666666666,
             "#ed7953"
            ],
            [
             0.7777777777777778,
             "#fb9f3a"
            ],
            [
             0.8888888888888888,
             "#fdca26"
            ],
            [
             1,
             "#f0f921"
            ]
           ],
           "sequentialminus": [
            [
             0,
             "#0d0887"
            ],
            [
             0.1111111111111111,
             "#46039f"
            ],
            [
             0.2222222222222222,
             "#7201a8"
            ],
            [
             0.3333333333333333,
             "#9c179e"
            ],
            [
             0.4444444444444444,
             "#bd3786"
            ],
            [
             0.5555555555555556,
             "#d8576b"
            ],
            [
             0.6666666666666666,
             "#ed7953"
            ],
            [
             0.7777777777777778,
             "#fb9f3a"
            ],
            [
             0.8888888888888888,
             "#fdca26"
            ],
            [
             1,
             "#f0f921"
            ]
           ]
          },
          "colorway": [
           "#636efa",
           "#EF553B",
           "#00cc96",
           "#ab63fa",
           "#FFA15A",
           "#19d3f3",
           "#FF6692",
           "#B6E880",
           "#FF97FF",
           "#FECB52"
          ],
          "font": {
           "color": "#2a3f5f"
          },
          "geo": {
           "bgcolor": "white",
           "lakecolor": "white",
           "landcolor": "white",
           "showlakes": true,
           "showland": true,
           "subunitcolor": "#C8D4E3"
          },
          "hoverlabel": {
           "align": "left"
          },
          "hovermode": "closest",
          "mapbox": {
           "style": "light"
          },
          "paper_bgcolor": "white",
          "plot_bgcolor": "white",
          "polar": {
           "angularaxis": {
            "gridcolor": "#EBF0F8",
            "linecolor": "#EBF0F8",
            "ticks": ""
           },
           "bgcolor": "white",
           "radialaxis": {
            "gridcolor": "#EBF0F8",
            "linecolor": "#EBF0F8",
            "ticks": ""
           }
          },
          "scene": {
           "xaxis": {
            "backgroundcolor": "white",
            "gridcolor": "#DFE8F3",
            "gridwidth": 2,
            "linecolor": "#EBF0F8",
            "showbackground": true,
            "ticks": "",
            "zerolinecolor": "#EBF0F8"
           },
           "yaxis": {
            "backgroundcolor": "white",
            "gridcolor": "#DFE8F3",
            "gridwidth": 2,
            "linecolor": "#EBF0F8",
            "showbackground": true,
            "ticks": "",
            "zerolinecolor": "#EBF0F8"
           },
           "zaxis": {
            "backgroundcolor": "white",
            "gridcolor": "#DFE8F3",
            "gridwidth": 2,
            "linecolor": "#EBF0F8",
            "showbackground": true,
            "ticks": "",
            "zerolinecolor": "#EBF0F8"
           }
          },
          "shapedefaults": {
           "line": {
            "color": "#2a3f5f"
           }
          },
          "ternary": {
           "aaxis": {
            "gridcolor": "#DFE8F3",
            "linecolor": "#A2B1C6",
            "ticks": ""
           },
           "baxis": {
            "gridcolor": "#DFE8F3",
            "linecolor": "#A2B1C6",
            "ticks": ""
           },
           "bgcolor": "white",
           "caxis": {
            "gridcolor": "#DFE8F3",
            "linecolor": "#A2B1C6",
            "ticks": ""
           }
          },
          "title": {
           "x": 0.05
          },
          "xaxis": {
           "automargin": true,
           "gridcolor": "#EBF0F8",
           "linecolor": "#EBF0F8",
           "ticks": "",
           "title": {
            "standoff": 15
           },
           "zerolinecolor": "#EBF0F8",
           "zerolinewidth": 2
          },
          "yaxis": {
           "automargin": true,
           "gridcolor": "#EBF0F8",
           "linecolor": "#EBF0F8",
           "ticks": "",
           "title": {
            "standoff": 15
           },
           "zerolinecolor": "#EBF0F8",
           "zerolinewidth": 2
          }
         }
        },
        "title": {
         "text": "predictions_summed Trace Filter with Dropdown"
        },
        "updatemenus": [
         {
          "active": 0,
          "buttons": [
           {
            "args": [
             {
              "visible": [
               true,
               true,
               false,
               false,
               false,
               false,
               false,
               false,
               false,
               false,
               false,
               false,
               false,
               false,
               false,
               false,
               false,
               false,
               false,
               false,
               false,
               false,
               false,
               false,
               false,
               false,
               false,
               false,
               false,
               false,
               false,
               false,
               false,
               false,
               false,
               false,
               false,
               false,
               false,
               false,
               false,
               false,
               false,
               false,
               false,
               false,
               false,
               false
              ]
             },
             {
              "title": "Selected: OAP: BSUF"
             }
            ],
            "label": "OAP: BSUF",
            "method": "update"
           },
           {
            "args": [
             {
              "visible": [
               false,
               false,
               true,
               true,
               false,
               false,
               false,
               false,
               false,
               false,
               false,
               false,
               false,
               false,
               false,
               false,
               false,
               false,
               false,
               false,
               false,
               false,
               false,
               false,
               false,
               false,
               false,
               false,
               false,
               false,
               false,
               false,
               false,
               false,
               false,
               false,
               false,
               false,
               false,
               false,
               false,
               false,
               false,
               false,
               false,
               false,
               false,
               false
              ]
             },
             {
              "title": "Selected: OAP: CHE"
             }
            ],
            "label": "OAP: CHE",
            "method": "update"
           },
           {
            "args": [
             {
              "visible": [
               false,
               false,
               false,
               false,
               true,
               true,
               false,
               false,
               false,
               false,
               false,
               false,
               false,
               false,
               false,
               false,
               false,
               false,
               false,
               false,
               false,
               false,
               false,
               false,
               false,
               false,
               false,
               false,
               false,
               false,
               false,
               false,
               false,
               false,
               false,
               false,
               false,
               false,
               false,
               false,
               false,
               false,
               false,
               false,
               false,
               false,
               false,
               false
              ]
             },
             {
              "title": "Selected: SFB: BSUF"
             }
            ],
            "label": "SFB: BSUF",
            "method": "update"
           },
           {
            "args": [
             {
              "visible": [
               false,
               false,
               false,
               false,
               false,
               false,
               true,
               true,
               false,
               false,
               false,
               false,
               false,
               false,
               false,
               false,
               false,
               false,
               false,
               false,
               false,
               false,
               false,
               false,
               false,
               false,
               false,
               false,
               false,
               false,
               false,
               false,
               false,
               false,
               false,
               false,
               false,
               false,
               false,
               false,
               false,
               false,
               false,
               false,
               false,
               false,
               false,
               false
              ]
             },
             {
              "title": "Selected: SFB: CHE"
             }
            ],
            "label": "SFB: CHE",
            "method": "update"
           },
           {
            "args": [
             {
              "visible": [
               false,
               false,
               false,
               false,
               false,
               false,
               false,
               false,
               true,
               true,
               false,
               false,
               false,
               false,
               false,
               false,
               false,
               false,
               false,
               false,
               false,
               false,
               false,
               false,
               false,
               false,
               false,
               false,
               false,
               false,
               false,
               false,
               false,
               false,
               false,
               false,
               false,
               false,
               false,
               false,
               false,
               false,
               false,
               false,
               false,
               false,
               false,
               false
              ]
             },
             {
              "title": "Selected: SGB: BSUF"
             }
            ],
            "label": "SGB: BSUF",
            "method": "update"
           },
           {
            "args": [
             {
              "visible": [
               false,
               false,
               false,
               false,
               false,
               false,
               false,
               false,
               false,
               false,
               true,
               true,
               false,
               false,
               false,
               false,
               false,
               false,
               false,
               false,
               false,
               false,
               false,
               false,
               false,
               false,
               false,
               false,
               false,
               false,
               false,
               false,
               false,
               false,
               false,
               false,
               false,
               false,
               false,
               false,
               false,
               false,
               false,
               false,
               false,
               false,
               false,
               false
              ]
             },
             {
              "title": "Selected: SGB: CHE"
             }
            ],
            "label": "SGB: CHE",
            "method": "update"
           },
           {
            "args": [
             {
              "visible": [
               false,
               false,
               false,
               false,
               false,
               false,
               false,
               false,
               false,
               false,
               false,
               false,
               true,
               true,
               false,
               false,
               false,
               false,
               false,
               false,
               false,
               false,
               false,
               false,
               false,
               false,
               false,
               false,
               false,
               false,
               false,
               false,
               false,
               false,
               false,
               false,
               false,
               false,
               false,
               false,
               false,
               false,
               false,
               false,
               false,
               false,
               false,
               false
              ]
             },
             {
              "title": "Selected: SJB: BSUF"
             }
            ],
            "label": "SJB: BSUF",
            "method": "update"
           },
           {
            "args": [
             {
              "visible": [
               false,
               false,
               false,
               false,
               false,
               false,
               false,
               false,
               false,
               false,
               false,
               false,
               false,
               false,
               true,
               true,
               false,
               false,
               false,
               false,
               false,
               false,
               false,
               false,
               false,
               false,
               false,
               false,
               false,
               false,
               false,
               false,
               false,
               false,
               false,
               false,
               false,
               false,
               false,
               false,
               false,
               false,
               false,
               false,
               false,
               false,
               false,
               false
              ]
             },
             {
              "title": "Selected: SJB: CHE"
             }
            ],
            "label": "SJB: CHE",
            "method": "update"
           },
           {
            "args": [
             {
              "visible": [
               false,
               false,
               false,
               false,
               false,
               false,
               false,
               false,
               false,
               false,
               false,
               false,
               false,
               false,
               false,
               false,
               true,
               true,
               false,
               false,
               false,
               false,
               false,
               false,
               false,
               false,
               false,
               false,
               false,
               false,
               false,
               false,
               false,
               false,
               false,
               false,
               false,
               false,
               false,
               false,
               false,
               false,
               false,
               false,
               false,
               false,
               false,
               false
              ]
             },
             {
              "title": "Selected: SMB: BSUF"
             }
            ],
            "label": "SMB: BSUF",
            "method": "update"
           },
           {
            "args": [
             {
              "visible": [
               false,
               false,
               false,
               false,
               false,
               false,
               false,
               false,
               false,
               false,
               false,
               false,
               false,
               false,
               false,
               false,
               false,
               false,
               true,
               true,
               false,
               false,
               false,
               false,
               false,
               false,
               false,
               false,
               false,
               false,
               false,
               false,
               false,
               false,
               false,
               false,
               false,
               false,
               false,
               false,
               false,
               false,
               false,
               false,
               false,
               false,
               false,
               false
              ]
             },
             {
              "title": "Selected: SMB: CHE"
             }
            ],
            "label": "SMB: CHE",
            "method": "update"
           },
           {
            "args": [
             {
              "visible": [
               false,
               false,
               false,
               false,
               false,
               false,
               false,
               false,
               false,
               false,
               false,
               false,
               false,
               false,
               false,
               false,
               false,
               false,
               false,
               false,
               true,
               true,
               false,
               false,
               false,
               false,
               false,
               false,
               false,
               false,
               false,
               false,
               false,
               false,
               false,
               false,
               false,
               false,
               false,
               false,
               false,
               false,
               false,
               false,
               false,
               false,
               false,
               false
              ]
             },
             {
              "title": "Selected: VAP: BSUF"
             }
            ],
            "label": "VAP: BSUF",
            "method": "update"
           },
           {
            "args": [
             {
              "visible": [
               false,
               false,
               false,
               false,
               false,
               false,
               false,
               false,
               false,
               false,
               false,
               false,
               false,
               false,
               false,
               false,
               false,
               false,
               false,
               false,
               false,
               false,
               true,
               true,
               false,
               false,
               false,
               false,
               false,
               false,
               false,
               false,
               false,
               false,
               false,
               false,
               false,
               false,
               false,
               false,
               false,
               false,
               false,
               false,
               false,
               false,
               false,
               false
              ]
             },
             {
              "title": "Selected: VAP: CHE"
             }
            ],
            "label": "VAP: CHE",
            "method": "update"
           },
           {
            "args": [
             {
              "visible": [
               true,
               true,
               true,
               true,
               true,
               true,
               true,
               true,
               true,
               true,
               true,
               true,
               true,
               true,
               true,
               true,
               true,
               true,
               true,
               true,
               true,
               true,
               true,
               true
              ]
             },
             {
              "title": "All Traces Visible"
             }
            ],
            "label": "Show All",
            "method": "update"
           }
          ],
          "direction": "down",
          "showactive": true,
          "x": 1.05,
          "xanchor": "left",
          "y": 1,
          "yanchor": "top"
         }
        ],
        "xaxis": {
         "title": {
          "text": "Week after Transplant"
         }
        },
        "yaxis": {
         "title": {
          "text": "Harvest (kg)"
         }
        }
       }
      }
     },
     "metadata": {},
     "output_type": "display_data"
    }
   ],
   "source": [
    "fig = go.Figure()\n",
    "x_values = df.index\n",
    "colors = sample_colorscale('Viridis', [i / (len(df.columns) - 1) for i in range(len(df.columns))])\n",
    "color_map = {key: colors[i] for i, key in enumerate(df.columns)}\n",
    "\n",
    "for i, col in enumerate(df.columns):\n",
    "    label = col[0] + ': ' + col[1]\n",
    "    fig.add_trace(go.Scatter(x=x_values, y=df[col], name=label + ' Predicted', line=dict(color=color_map[col])))\n",
    "    fig.add_trace(go.Bar(x=x_values, y=af[col], name= label + ' Actual', marker_color=color_map[col], opacity=0.75))\n",
    "\n",
    "visibility_matrix = np.eye(2* len(df.columns), dtype=bool).repeat(2, axis=1)\n",
    "\n",
    "buttons = [dict(label=f\"{key[0]}: {key[1]}\",method='update',args=[{'visible': visibility_matrix[i].tolist()}, {'title': f'Selected: {key[0]}: {key[1]}'}]) for i,key in enumerate(df.columns)]\n",
    "\n",
    "\n",
    "# Add \"Show All\" button\n",
    "buttons.append(dict(\n",
    "    label='Show All', \n",
    "    method='update',\n",
    "    args=[{'visible': [True]*(len(df.columns)*2)}, {'title': 'All Traces Visible'}]\n",
    "))\n",
    "\n",
    "# Add dropdown menu to layout\n",
    "fig.update_layout(\n",
    "    updatemenus=[dict(\n",
    "        active=0,\n",
    "        buttons=buttons,\n",
    "        direction='down',\n",
    "        showactive=True,\n",
    "        x=1.05,\n",
    "        xanchor='left',\n",
    "        y=1,\n",
    "        yanchor='top'\n",
    "    )],\n",
    "    title=title + ' Trace Filter with Dropdown',\n",
    "    template='plotly_white',\n",
    "    xaxis_title='Week after Transplant',\n",
    "    yaxis_title='Harvest (kg)'\n",
    ")\n",
    "\n",
    "fig.show()\n"
   ]
  },
  {
   "cell_type": "code",
   "execution_count": 16,
   "metadata": {},
   "outputs": [],
   "source": [
    "import src.graphs as graphs\n",
    "import src.finetuning as finetuning\n",
    "fig = graphs.graph_preds_reg(df, af, title)"
   ]
  },
  {
   "cell_type": "code",
   "execution_count": null,
   "metadata": {},
   "outputs": [],
   "source": []
  }
 ],
 "metadata": {
  "language_info": {
   "name": "python"
  }
 },
 "nbformat": 4,
 "nbformat_minor": 2
}
