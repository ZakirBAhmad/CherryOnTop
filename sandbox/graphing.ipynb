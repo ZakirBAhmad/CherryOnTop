{
 "cells": [
  {
   "cell_type": "code",
   "execution_count": 38,
   "metadata": {},
   "outputs": [],
   "source": [
    "import pandas as pd\n",
    "import seaborn as sns\n",
    "import matplotlib.pyplot as plt\n",
    "import numpy as np\n",
    "from plotly import graph_objects as go\n",
    "from plotly import colors\n",
    "from plotly.colors import sample_colorscale"
   ]
  },
  {
   "cell_type": "code",
   "execution_count": 2,
   "metadata": {},
   "outputs": [],
   "source": [
    "import sys\n",
    "import os\n",
    "\n",
    "# Add the parent directory to sys.path\n",
    "sys.path.append(os.path.abspath('..'))"
   ]
  },
  {
   "cell_type": "code",
   "execution_count": 3,
   "metadata": {},
   "outputs": [],
   "source": [
    "from src.table import CherryTable\n",
    "import src.utils as utils\n",
    "import src.preprocessing as pre"
   ]
  },
  {
   "cell_type": "code",
   "execution_count": 4,
   "metadata": {},
   "outputs": [],
   "source": [
    "train, test, mapping_dict = pre.separate_year(planting_meta_path='../data/planting_meta.json', weekly_summary_path='../data/weekly_summary.csv')"
   ]
  },
  {
   "cell_type": "code",
   "execution_count": 5,
   "metadata": {},
   "outputs": [
    {
     "name": "stdout",
     "output_type": "stream",
     "text": [
      "Epoch [1/5], Loss: 830046.2307\n",
      "Epoch [2/5], Loss: 799363.6220\n",
      "Epoch [3/5], Loss: 786293.0571\n",
      "Epoch [4/5], Loss: 744113.8289\n",
      "Epoch [5/5], Loss: 691691.9197\n"
     ]
    }
   ],
   "source": [
    "model =utils.train_harvest_model(train)"
   ]
  },
  {
   "cell_type": "code",
   "execution_count": 6,
   "metadata": {},
   "outputs": [],
   "source": [
    "predictions = utils.predict_harvest(model, test)"
   ]
  },
  {
   "cell_type": "code",
   "execution_count": 7,
   "metadata": {},
   "outputs": [],
   "source": [
    "meta = pre.decode(test, mapping_dict)\n",
    "actuals = test.Y_kilos.detach().numpy()"
   ]
  },
  {
   "cell_type": "code",
   "execution_count": 8,
   "metadata": {},
   "outputs": [],
   "source": [
    "table = CherryTable(meta, {'predictions':predictions}, actuals)"
   ]
  },
  {
   "cell_type": "code",
   "execution_count": 9,
   "metadata": {},
   "outputs": [],
   "source": [
    "a,d,ha_info = table.graph_ready(ranches=True,classes=True)"
   ]
  },
  {
   "cell_type": "code",
   "execution_count": 10,
   "metadata": {},
   "outputs": [],
   "source": [
    "title = list(d.keys())[0]"
   ]
  },
  {
   "cell_type": "code",
   "execution_count": 16,
   "metadata": {},
   "outputs": [
    {
     "data": {
      "text/html": [
       "<div>\n",
       "<style scoped>\n",
       "    .dataframe tbody tr th:only-of-type {\n",
       "        vertical-align: middle;\n",
       "    }\n",
       "\n",
       "    .dataframe tbody tr th {\n",
       "        vertical-align: top;\n",
       "    }\n",
       "\n",
       "    .dataframe thead th {\n",
       "        text-align: right;\n",
       "    }\n",
       "</style>\n",
       "<table border=\"1\" class=\"dataframe\">\n",
       "  <thead>\n",
       "    <tr style=\"text-align: right;\">\n",
       "      <th></th>\n",
       "      <th></th>\n",
       "      <th>0</th>\n",
       "      <th>1</th>\n",
       "      <th>2</th>\n",
       "      <th>3</th>\n",
       "      <th>4</th>\n",
       "      <th>5</th>\n",
       "      <th>6</th>\n",
       "      <th>7</th>\n",
       "      <th>8</th>\n",
       "      <th>9</th>\n",
       "      <th>10</th>\n",
       "      <th>11</th>\n",
       "      <th>12</th>\n",
       "      <th>13</th>\n",
       "      <th>14</th>\n",
       "      <th>15</th>\n",
       "      <th>16</th>\n",
       "      <th>17</th>\n",
       "      <th>18</th>\n",
       "      <th>19</th>\n",
       "    </tr>\n",
       "    <tr>\n",
       "      <th>Ranch</th>\n",
       "      <th>Class</th>\n",
       "      <th></th>\n",
       "      <th></th>\n",
       "      <th></th>\n",
       "      <th></th>\n",
       "      <th></th>\n",
       "      <th></th>\n",
       "      <th></th>\n",
       "      <th></th>\n",
       "      <th></th>\n",
       "      <th></th>\n",
       "      <th></th>\n",
       "      <th></th>\n",
       "      <th></th>\n",
       "      <th></th>\n",
       "      <th></th>\n",
       "      <th></th>\n",
       "      <th></th>\n",
       "      <th></th>\n",
       "      <th></th>\n",
       "      <th></th>\n",
       "    </tr>\n",
       "  </thead>\n",
       "  <tbody>\n",
       "    <tr>\n",
       "      <th rowspan=\"2\" valign=\"top\">OAP</th>\n",
       "      <th>BSUF</th>\n",
       "      <td>-2.205449</td>\n",
       "      <td>4.771572</td>\n",
       "      <td>10.209360</td>\n",
       "      <td>17.150858</td>\n",
       "      <td>-42.521351</td>\n",
       "      <td>73.302269</td>\n",
       "      <td>25.477022</td>\n",
       "      <td>-77.511665</td>\n",
       "      <td>445.165436</td>\n",
       "      <td>742.475159</td>\n",
       "      <td>3761.457764</td>\n",
       "      <td>9327.161133</td>\n",
       "      <td>14459.647461</td>\n",
       "      <td>19231.318359</td>\n",
       "      <td>21314.720703</td>\n",
       "      <td>21273.679688</td>\n",
       "      <td>18761.023438</td>\n",
       "      <td>16845.539062</td>\n",
       "      <td>13051.378906</td>\n",
       "      <td>6787.375000</td>\n",
       "    </tr>\n",
       "    <tr>\n",
       "      <th>CHE</th>\n",
       "      <td>-9.013129</td>\n",
       "      <td>8.602759</td>\n",
       "      <td>-14.401507</td>\n",
       "      <td>16.261040</td>\n",
       "      <td>-46.814682</td>\n",
       "      <td>79.181992</td>\n",
       "      <td>22.290710</td>\n",
       "      <td>-77.268333</td>\n",
       "      <td>499.473969</td>\n",
       "      <td>779.656860</td>\n",
       "      <td>4184.903320</td>\n",
       "      <td>10403.481445</td>\n",
       "      <td>16185.494141</td>\n",
       "      <td>21511.171875</td>\n",
       "      <td>23912.687500</td>\n",
       "      <td>23903.021484</td>\n",
       "      <td>20980.851562</td>\n",
       "      <td>18867.873047</td>\n",
       "      <td>14601.958984</td>\n",
       "      <td>7605.794922</td>\n",
       "    </tr>\n",
       "    <tr>\n",
       "      <th rowspan=\"2\" valign=\"top\">SFB</th>\n",
       "      <th>BSUF</th>\n",
       "      <td>-0.452367</td>\n",
       "      <td>5.530527</td>\n",
       "      <td>-7.000641</td>\n",
       "      <td>7.331121</td>\n",
       "      <td>-15.799911</td>\n",
       "      <td>23.791077</td>\n",
       "      <td>6.470506</td>\n",
       "      <td>-21.019720</td>\n",
       "      <td>151.706802</td>\n",
       "      <td>224.882736</td>\n",
       "      <td>1260.480591</td>\n",
       "      <td>3136.920654</td>\n",
       "      <td>4887.587402</td>\n",
       "      <td>6493.960449</td>\n",
       "      <td>7237.399902</td>\n",
       "      <td>7249.341309</td>\n",
       "      <td>6340.203125</td>\n",
       "      <td>5709.562500</td>\n",
       "      <td>4419.029785</td>\n",
       "      <td>2304.219971</td>\n",
       "    </tr>\n",
       "    <tr>\n",
       "      <th>CHE</th>\n",
       "      <td>-4.632845</td>\n",
       "      <td>20.056353</td>\n",
       "      <td>-52.550896</td>\n",
       "      <td>14.065583</td>\n",
       "      <td>-31.808506</td>\n",
       "      <td>40.050201</td>\n",
       "      <td>2.696721</td>\n",
       "      <td>-21.985525</td>\n",
       "      <td>282.680237</td>\n",
       "      <td>325.089081</td>\n",
       "      <td>2278.243164</td>\n",
       "      <td>5711.151367</td>\n",
       "      <td>8989.291992</td>\n",
       "      <td>11919.738281</td>\n",
       "      <td>13414.939453</td>\n",
       "      <td>13513.802734</td>\n",
       "      <td>11643.545898</td>\n",
       "      <td>10539.565430</td>\n",
       "      <td>8137.321777</td>\n",
       "      <td>4264.298828</td>\n",
       "    </tr>\n",
       "    <tr>\n",
       "      <th rowspan=\"2\" valign=\"top\">SGB</th>\n",
       "      <th>BSUF</th>\n",
       "      <td>2.314051</td>\n",
       "      <td>8.877928</td>\n",
       "      <td>-5.905834</td>\n",
       "      <td>12.111773</td>\n",
       "      <td>-25.112289</td>\n",
       "      <td>35.929855</td>\n",
       "      <td>10.246668</td>\n",
       "      <td>-33.251678</td>\n",
       "      <td>232.252014</td>\n",
       "      <td>348.198364</td>\n",
       "      <td>1918.213867</td>\n",
       "      <td>4771.110352</td>\n",
       "      <td>7424.575684</td>\n",
       "      <td>9867.240234</td>\n",
       "      <td>10989.489258</td>\n",
       "      <td>11007.304688</td>\n",
       "      <td>9637.257812</td>\n",
       "      <td>8677.001953</td>\n",
       "      <td>6719.373535</td>\n",
       "      <td>3502.465332</td>\n",
       "    </tr>\n",
       "    <tr>\n",
       "      <th>CHE</th>\n",
       "      <td>-1.083051</td>\n",
       "      <td>10.676561</td>\n",
       "      <td>-18.926188</td>\n",
       "      <td>11.125767</td>\n",
       "      <td>-26.001015</td>\n",
       "      <td>36.505169</td>\n",
       "      <td>7.615144</td>\n",
       "      <td>-30.464569</td>\n",
       "      <td>244.985931</td>\n",
       "      <td>342.062561</td>\n",
       "      <td>2008.304565</td>\n",
       "      <td>5007.966309</td>\n",
       "      <td>7821.082031</td>\n",
       "      <td>10386.637695</td>\n",
       "      <td>11601.876953</td>\n",
       "      <td>11637.444336</td>\n",
       "      <td>10141.747070</td>\n",
       "      <td>9145.189453</td>\n",
       "      <td>7073.662598</td>\n",
       "      <td>3693.021240</td>\n",
       "    </tr>\n",
       "    <tr>\n",
       "      <th rowspan=\"2\" valign=\"top\">SJB</th>\n",
       "      <th>BSUF</th>\n",
       "      <td>-0.333931</td>\n",
       "      <td>6.404273</td>\n",
       "      <td>-11.824008</td>\n",
       "      <td>5.923113</td>\n",
       "      <td>-13.797776</td>\n",
       "      <td>18.288286</td>\n",
       "      <td>3.278419</td>\n",
       "      <td>-13.695978</td>\n",
       "      <td>119.530380</td>\n",
       "      <td>159.981537</td>\n",
       "      <td>974.386902</td>\n",
       "      <td>2432.188721</td>\n",
       "      <td>3803.254150</td>\n",
       "      <td>5049.361816</td>\n",
       "      <td>5649.547363</td>\n",
       "      <td>5672.627441</td>\n",
       "      <td>4932.659180</td>\n",
       "      <td>4451.217285</td>\n",
       "      <td>3442.447266</td>\n",
       "      <td>1798.531738</td>\n",
       "    </tr>\n",
       "    <tr>\n",
       "      <th>CHE</th>\n",
       "      <td>-0.628723</td>\n",
       "      <td>14.750647</td>\n",
       "      <td>-33.548027</td>\n",
       "      <td>11.470434</td>\n",
       "      <td>-26.362873</td>\n",
       "      <td>32.374428</td>\n",
       "      <td>2.726166</td>\n",
       "      <td>-20.333973</td>\n",
       "      <td>226.029861</td>\n",
       "      <td>272.816315</td>\n",
       "      <td>1813.963257</td>\n",
       "      <td>4540.635742</td>\n",
       "      <td>7127.340820</td>\n",
       "      <td>9455.312500</td>\n",
       "      <td>10620.607422</td>\n",
       "      <td>10691.211914</td>\n",
       "      <td>9239.525391</td>\n",
       "      <td>8356.829102</td>\n",
       "      <td>6457.180664</td>\n",
       "      <td>3380.373047</td>\n",
       "    </tr>\n",
       "    <tr>\n",
       "      <th rowspan=\"2\" valign=\"top\">SMB</th>\n",
       "      <th>BSUF</th>\n",
       "      <td>-1.281021</td>\n",
       "      <td>6.864823</td>\n",
       "      <td>-4.427677</td>\n",
       "      <td>11.955892</td>\n",
       "      <td>-26.353897</td>\n",
       "      <td>42.086708</td>\n",
       "      <td>12.648563</td>\n",
       "      <td>-40.317223</td>\n",
       "      <td>262.439484</td>\n",
       "      <td>408.762634</td>\n",
       "      <td>2196.761475</td>\n",
       "      <td>5458.399414</td>\n",
       "      <td>8488.018555</td>\n",
       "      <td>11282.379883</td>\n",
       "      <td>12545.867188</td>\n",
       "      <td>12547.625977</td>\n",
       "      <td>11011.716797</td>\n",
       "      <td>9903.660156</td>\n",
       "      <td>7668.392090</td>\n",
       "      <td>3994.174561</td>\n",
       "    </tr>\n",
       "    <tr>\n",
       "      <th>CHE</th>\n",
       "      <td>-1.621064</td>\n",
       "      <td>8.877446</td>\n",
       "      <td>-14.789248</td>\n",
       "      <td>11.495800</td>\n",
       "      <td>-25.076679</td>\n",
       "      <td>37.944847</td>\n",
       "      <td>8.709293</td>\n",
       "      <td>-33.237423</td>\n",
       "      <td>249.232101</td>\n",
       "      <td>360.971619</td>\n",
       "      <td>2061.027100</td>\n",
       "      <td>5132.712402</td>\n",
       "      <td>8006.849121</td>\n",
       "      <td>10636.169922</td>\n",
       "      <td>11864.447266</td>\n",
       "      <td>11890.384766</td>\n",
       "      <td>10382.856445</td>\n",
       "      <td>9355.006836</td>\n",
       "      <td>7237.953613</td>\n",
       "      <td>3776.212402</td>\n",
       "    </tr>\n",
       "    <tr>\n",
       "      <th rowspan=\"2\" valign=\"top\">VAP</th>\n",
       "      <th>BSUF</th>\n",
       "      <td>26.808754</td>\n",
       "      <td>21.094980</td>\n",
       "      <td>79.735901</td>\n",
       "      <td>61.448021</td>\n",
       "      <td>-117.074402</td>\n",
       "      <td>179.309235</td>\n",
       "      <td>68.075317</td>\n",
       "      <td>-207.234695</td>\n",
       "      <td>1130.645630</td>\n",
       "      <td>1922.442993</td>\n",
       "      <td>9465.086914</td>\n",
       "      <td>23429.220703</td>\n",
       "      <td>36232.761719</td>\n",
       "      <td>48220.750000</td>\n",
       "      <td>53382.328125</td>\n",
       "      <td>53282.890625</td>\n",
       "      <td>47089.546875</td>\n",
       "      <td>42261.488281</td>\n",
       "      <td>32780.500000</td>\n",
       "      <td>17032.947266</td>\n",
       "    </tr>\n",
       "    <tr>\n",
       "      <th>CHE</th>\n",
       "      <td>18.434593</td>\n",
       "      <td>36.010876</td>\n",
       "      <td>2.554262</td>\n",
       "      <td>55.407127</td>\n",
       "      <td>-107.910957</td>\n",
       "      <td>150.199966</td>\n",
       "      <td>42.785366</td>\n",
       "      <td>-154.685104</td>\n",
       "      <td>1010.458862</td>\n",
       "      <td>1549.251465</td>\n",
       "      <td>8318.114258</td>\n",
       "      <td>20661.351562</td>\n",
       "      <td>32109.589844</td>\n",
       "      <td>42692.207031</td>\n",
       "      <td>47489.808594</td>\n",
       "      <td>47540.597656</td>\n",
       "      <td>41702.386719</td>\n",
       "      <td>37523.824219</td>\n",
       "      <td>29069.755859</td>\n",
       "      <td>15142.165039</td>\n",
       "    </tr>\n",
       "  </tbody>\n",
       "</table>\n",
       "</div>"
      ],
      "text/plain": [
       "                    0          1          2          3           4   \\\n",
       "Ranch Class                                                           \n",
       "OAP   BSUF   -2.205449   4.771572  10.209360  17.150858  -42.521351   \n",
       "      CHE    -9.013129   8.602759 -14.401507  16.261040  -46.814682   \n",
       "SFB   BSUF   -0.452367   5.530527  -7.000641   7.331121  -15.799911   \n",
       "      CHE    -4.632845  20.056353 -52.550896  14.065583  -31.808506   \n",
       "SGB   BSUF    2.314051   8.877928  -5.905834  12.111773  -25.112289   \n",
       "      CHE    -1.083051  10.676561 -18.926188  11.125767  -26.001015   \n",
       "SJB   BSUF   -0.333931   6.404273 -11.824008   5.923113  -13.797776   \n",
       "      CHE    -0.628723  14.750647 -33.548027  11.470434  -26.362873   \n",
       "SMB   BSUF   -1.281021   6.864823  -4.427677  11.955892  -26.353897   \n",
       "      CHE    -1.621064   8.877446 -14.789248  11.495800  -25.076679   \n",
       "VAP   BSUF   26.808754  21.094980  79.735901  61.448021 -117.074402   \n",
       "      CHE    18.434593  36.010876   2.554262  55.407127 -107.910957   \n",
       "\n",
       "                     5          6           7            8            9   \\\n",
       "Ranch Class                                                                \n",
       "OAP   BSUF    73.302269  25.477022  -77.511665   445.165436   742.475159   \n",
       "      CHE     79.181992  22.290710  -77.268333   499.473969   779.656860   \n",
       "SFB   BSUF    23.791077   6.470506  -21.019720   151.706802   224.882736   \n",
       "      CHE     40.050201   2.696721  -21.985525   282.680237   325.089081   \n",
       "SGB   BSUF    35.929855  10.246668  -33.251678   232.252014   348.198364   \n",
       "      CHE     36.505169   7.615144  -30.464569   244.985931   342.062561   \n",
       "SJB   BSUF    18.288286   3.278419  -13.695978   119.530380   159.981537   \n",
       "      CHE     32.374428   2.726166  -20.333973   226.029861   272.816315   \n",
       "SMB   BSUF    42.086708  12.648563  -40.317223   262.439484   408.762634   \n",
       "      CHE     37.944847   8.709293  -33.237423   249.232101   360.971619   \n",
       "VAP   BSUF   179.309235  68.075317 -207.234695  1130.645630  1922.442993   \n",
       "      CHE    150.199966  42.785366 -154.685104  1010.458862  1549.251465   \n",
       "\n",
       "                      10            11            12            13  \\\n",
       "Ranch Class                                                          \n",
       "OAP   BSUF   3761.457764   9327.161133  14459.647461  19231.318359   \n",
       "      CHE    4184.903320  10403.481445  16185.494141  21511.171875   \n",
       "SFB   BSUF   1260.480591   3136.920654   4887.587402   6493.960449   \n",
       "      CHE    2278.243164   5711.151367   8989.291992  11919.738281   \n",
       "SGB   BSUF   1918.213867   4771.110352   7424.575684   9867.240234   \n",
       "      CHE    2008.304565   5007.966309   7821.082031  10386.637695   \n",
       "SJB   BSUF    974.386902   2432.188721   3803.254150   5049.361816   \n",
       "      CHE    1813.963257   4540.635742   7127.340820   9455.312500   \n",
       "SMB   BSUF   2196.761475   5458.399414   8488.018555  11282.379883   \n",
       "      CHE    2061.027100   5132.712402   8006.849121  10636.169922   \n",
       "VAP   BSUF   9465.086914  23429.220703  36232.761719  48220.750000   \n",
       "      CHE    8318.114258  20661.351562  32109.589844  42692.207031   \n",
       "\n",
       "                       14            15            16            17  \\\n",
       "Ranch Class                                                           \n",
       "OAP   BSUF   21314.720703  21273.679688  18761.023438  16845.539062   \n",
       "      CHE    23912.687500  23903.021484  20980.851562  18867.873047   \n",
       "SFB   BSUF    7237.399902   7249.341309   6340.203125   5709.562500   \n",
       "      CHE    13414.939453  13513.802734  11643.545898  10539.565430   \n",
       "SGB   BSUF   10989.489258  11007.304688   9637.257812   8677.001953   \n",
       "      CHE    11601.876953  11637.444336  10141.747070   9145.189453   \n",
       "SJB   BSUF    5649.547363   5672.627441   4932.659180   4451.217285   \n",
       "      CHE    10620.607422  10691.211914   9239.525391   8356.829102   \n",
       "SMB   BSUF   12545.867188  12547.625977  11011.716797   9903.660156   \n",
       "      CHE    11864.447266  11890.384766  10382.856445   9355.006836   \n",
       "VAP   BSUF   53382.328125  53282.890625  47089.546875  42261.488281   \n",
       "      CHE    47489.808594  47540.597656  41702.386719  37523.824219   \n",
       "\n",
       "                       18            19  \n",
       "Ranch Class                              \n",
       "OAP   BSUF   13051.378906   6787.375000  \n",
       "      CHE    14601.958984   7605.794922  \n",
       "SFB   BSUF    4419.029785   2304.219971  \n",
       "      CHE     8137.321777   4264.298828  \n",
       "SGB   BSUF    6719.373535   3502.465332  \n",
       "      CHE     7073.662598   3693.021240  \n",
       "SJB   BSUF    3442.447266   1798.531738  \n",
       "      CHE     6457.180664   3380.373047  \n",
       "SMB   BSUF    7668.392090   3994.174561  \n",
       "      CHE     7237.953613   3776.212402  \n",
       "VAP   BSUF   32780.500000  17032.947266  \n",
       "      CHE    29069.755859  15142.165039  "
      ]
     },
     "execution_count": 16,
     "metadata": {},
     "output_type": "execute_result"
    }
   ],
   "source": [
    "d[title]"
   ]
  },
  {
   "cell_type": "code",
   "execution_count": 19,
   "metadata": {},
   "outputs": [],
   "source": [
    "df = d[title].T"
   ]
  },
  {
   "cell_type": "code",
   "execution_count": 28,
   "metadata": {},
   "outputs": [],
   "source": [
    "af = d['actuals_summed'].T"
   ]
  },
  {
   "cell_type": "code",
   "execution_count": 30,
   "metadata": {},
   "outputs": [
    {
     "data": {
      "text/html": [
       "<div>\n",
       "<style scoped>\n",
       "    .dataframe tbody tr th:only-of-type {\n",
       "        vertical-align: middle;\n",
       "    }\n",
       "\n",
       "    .dataframe tbody tr th {\n",
       "        vertical-align: top;\n",
       "    }\n",
       "\n",
       "    .dataframe thead tr th {\n",
       "        text-align: left;\n",
       "    }\n",
       "</style>\n",
       "<table border=\"1\" class=\"dataframe\">\n",
       "  <thead>\n",
       "    <tr>\n",
       "      <th>Ranch</th>\n",
       "      <th colspan=\"2\" halign=\"left\">OAP</th>\n",
       "      <th colspan=\"2\" halign=\"left\">SFB</th>\n",
       "      <th colspan=\"2\" halign=\"left\">SGB</th>\n",
       "      <th colspan=\"2\" halign=\"left\">SJB</th>\n",
       "      <th colspan=\"2\" halign=\"left\">SMB</th>\n",
       "      <th colspan=\"2\" halign=\"left\">VAP</th>\n",
       "    </tr>\n",
       "    <tr>\n",
       "      <th>Class</th>\n",
       "      <th>BSUF</th>\n",
       "      <th>CHE</th>\n",
       "      <th>BSUF</th>\n",
       "      <th>CHE</th>\n",
       "      <th>BSUF</th>\n",
       "      <th>CHE</th>\n",
       "      <th>BSUF</th>\n",
       "      <th>CHE</th>\n",
       "      <th>BSUF</th>\n",
       "      <th>CHE</th>\n",
       "      <th>BSUF</th>\n",
       "      <th>CHE</th>\n",
       "    </tr>\n",
       "  </thead>\n",
       "  <tbody>\n",
       "    <tr>\n",
       "      <th>0</th>\n",
       "      <td>0.0</td>\n",
       "      <td>0.0</td>\n",
       "      <td>0.0</td>\n",
       "      <td>0.0</td>\n",
       "      <td>0.0</td>\n",
       "      <td>0.0</td>\n",
       "      <td>0.0</td>\n",
       "      <td>0.0</td>\n",
       "      <td>0.0</td>\n",
       "      <td>0.0</td>\n",
       "      <td>0.0</td>\n",
       "      <td>0.0</td>\n",
       "    </tr>\n",
       "    <tr>\n",
       "      <th>1</th>\n",
       "      <td>0.0</td>\n",
       "      <td>0.0</td>\n",
       "      <td>0.0</td>\n",
       "      <td>0.0</td>\n",
       "      <td>0.0</td>\n",
       "      <td>0.0</td>\n",
       "      <td>0.0</td>\n",
       "      <td>0.0</td>\n",
       "      <td>0.0</td>\n",
       "      <td>0.0</td>\n",
       "      <td>0.0</td>\n",
       "      <td>0.0</td>\n",
       "    </tr>\n",
       "    <tr>\n",
       "      <th>2</th>\n",
       "      <td>0.0</td>\n",
       "      <td>0.0</td>\n",
       "      <td>0.0</td>\n",
       "      <td>0.0</td>\n",
       "      <td>0.0</td>\n",
       "      <td>0.0</td>\n",
       "      <td>0.0</td>\n",
       "      <td>0.0</td>\n",
       "      <td>0.0</td>\n",
       "      <td>0.0</td>\n",
       "      <td>0.0</td>\n",
       "      <td>0.0</td>\n",
       "    </tr>\n",
       "    <tr>\n",
       "      <th>3</th>\n",
       "      <td>0.0</td>\n",
       "      <td>0.0</td>\n",
       "      <td>0.0</td>\n",
       "      <td>0.0</td>\n",
       "      <td>0.0</td>\n",
       "      <td>0.0</td>\n",
       "      <td>0.0</td>\n",
       "      <td>0.0</td>\n",
       "      <td>0.0</td>\n",
       "      <td>0.0</td>\n",
       "      <td>0.0</td>\n",
       "      <td>0.0</td>\n",
       "    </tr>\n",
       "    <tr>\n",
       "      <th>4</th>\n",
       "      <td>0.0</td>\n",
       "      <td>0.0</td>\n",
       "      <td>0.0</td>\n",
       "      <td>0.0</td>\n",
       "      <td>0.0</td>\n",
       "      <td>0.0</td>\n",
       "      <td>0.0</td>\n",
       "      <td>0.0</td>\n",
       "      <td>0.0</td>\n",
       "      <td>0.0</td>\n",
       "      <td>0.0</td>\n",
       "      <td>0.0</td>\n",
       "    </tr>\n",
       "    <tr>\n",
       "      <th>5</th>\n",
       "      <td>0.0</td>\n",
       "      <td>0.0</td>\n",
       "      <td>129.0</td>\n",
       "      <td>213.0</td>\n",
       "      <td>0.0</td>\n",
       "      <td>0.0</td>\n",
       "      <td>0.0</td>\n",
       "      <td>0.0</td>\n",
       "      <td>0.0</td>\n",
       "      <td>0.0</td>\n",
       "      <td>0.0</td>\n",
       "      <td>0.0</td>\n",
       "    </tr>\n",
       "    <tr>\n",
       "      <th>6</th>\n",
       "      <td>247.0</td>\n",
       "      <td>0.0</td>\n",
       "      <td>0.0</td>\n",
       "      <td>1333.0</td>\n",
       "      <td>0.0</td>\n",
       "      <td>0.0</td>\n",
       "      <td>0.0</td>\n",
       "      <td>0.0</td>\n",
       "      <td>0.0</td>\n",
       "      <td>0.0</td>\n",
       "      <td>0.0</td>\n",
       "      <td>0.0</td>\n",
       "    </tr>\n",
       "    <tr>\n",
       "      <th>7</th>\n",
       "      <td>0.0</td>\n",
       "      <td>0.0</td>\n",
       "      <td>852.0</td>\n",
       "      <td>883.0</td>\n",
       "      <td>33.0</td>\n",
       "      <td>0.0</td>\n",
       "      <td>0.0</td>\n",
       "      <td>0.0</td>\n",
       "      <td>0.0</td>\n",
       "      <td>0.0</td>\n",
       "      <td>0.0</td>\n",
       "      <td>0.0</td>\n",
       "    </tr>\n",
       "    <tr>\n",
       "      <th>8</th>\n",
       "      <td>0.0</td>\n",
       "      <td>796.0</td>\n",
       "      <td>2724.0</td>\n",
       "      <td>2004.0</td>\n",
       "      <td>116.0</td>\n",
       "      <td>36.0</td>\n",
       "      <td>1482.0</td>\n",
       "      <td>507.0</td>\n",
       "      <td>480.0</td>\n",
       "      <td>0.0</td>\n",
       "      <td>24.0</td>\n",
       "      <td>0.0</td>\n",
       "    </tr>\n",
       "    <tr>\n",
       "      <th>9</th>\n",
       "      <td>1280.0</td>\n",
       "      <td>2267.0</td>\n",
       "      <td>0.0</td>\n",
       "      <td>0.0</td>\n",
       "      <td>307.0</td>\n",
       "      <td>108.0</td>\n",
       "      <td>4236.0</td>\n",
       "      <td>742.0</td>\n",
       "      <td>0.0</td>\n",
       "      <td>1023.0</td>\n",
       "      <td>587.0</td>\n",
       "      <td>40.0</td>\n",
       "    </tr>\n",
       "    <tr>\n",
       "      <th>10</th>\n",
       "      <td>7385.0</td>\n",
       "      <td>8092.0</td>\n",
       "      <td>1261.0</td>\n",
       "      <td>470.0</td>\n",
       "      <td>1513.0</td>\n",
       "      <td>471.0</td>\n",
       "      <td>5472.0</td>\n",
       "      <td>1671.0</td>\n",
       "      <td>3236.0</td>\n",
       "      <td>3443.0</td>\n",
       "      <td>4292.0</td>\n",
       "      <td>2283.0</td>\n",
       "    </tr>\n",
       "    <tr>\n",
       "      <th>11</th>\n",
       "      <td>18731.0</td>\n",
       "      <td>12703.0</td>\n",
       "      <td>726.0</td>\n",
       "      <td>624.0</td>\n",
       "      <td>2223.0</td>\n",
       "      <td>1097.0</td>\n",
       "      <td>7925.0</td>\n",
       "      <td>5822.0</td>\n",
       "      <td>6670.0</td>\n",
       "      <td>5855.0</td>\n",
       "      <td>10141.0</td>\n",
       "      <td>3014.0</td>\n",
       "    </tr>\n",
       "    <tr>\n",
       "      <th>12</th>\n",
       "      <td>25271.0</td>\n",
       "      <td>21517.0</td>\n",
       "      <td>3146.0</td>\n",
       "      <td>1476.0</td>\n",
       "      <td>6290.0</td>\n",
       "      <td>2079.0</td>\n",
       "      <td>8861.0</td>\n",
       "      <td>6039.0</td>\n",
       "      <td>13066.0</td>\n",
       "      <td>7161.0</td>\n",
       "      <td>11268.0</td>\n",
       "      <td>8268.0</td>\n",
       "    </tr>\n",
       "    <tr>\n",
       "      <th>13</th>\n",
       "      <td>25938.0</td>\n",
       "      <td>20780.0</td>\n",
       "      <td>7817.0</td>\n",
       "      <td>1531.0</td>\n",
       "      <td>5475.0</td>\n",
       "      <td>5314.0</td>\n",
       "      <td>6686.0</td>\n",
       "      <td>3924.0</td>\n",
       "      <td>14370.0</td>\n",
       "      <td>8003.0</td>\n",
       "      <td>27651.0</td>\n",
       "      <td>12951.0</td>\n",
       "    </tr>\n",
       "    <tr>\n",
       "      <th>14</th>\n",
       "      <td>30949.0</td>\n",
       "      <td>20929.0</td>\n",
       "      <td>10482.0</td>\n",
       "      <td>4268.0</td>\n",
       "      <td>13021.0</td>\n",
       "      <td>6126.0</td>\n",
       "      <td>7671.0</td>\n",
       "      <td>2597.0</td>\n",
       "      <td>11039.0</td>\n",
       "      <td>10300.0</td>\n",
       "      <td>57526.0</td>\n",
       "      <td>21938.0</td>\n",
       "    </tr>\n",
       "    <tr>\n",
       "      <th>15</th>\n",
       "      <td>32539.0</td>\n",
       "      <td>15468.0</td>\n",
       "      <td>19272.0</td>\n",
       "      <td>6402.0</td>\n",
       "      <td>8873.0</td>\n",
       "      <td>7149.0</td>\n",
       "      <td>8114.0</td>\n",
       "      <td>4681.0</td>\n",
       "      <td>5944.0</td>\n",
       "      <td>6524.0</td>\n",
       "      <td>28505.0</td>\n",
       "      <td>23379.0</td>\n",
       "    </tr>\n",
       "    <tr>\n",
       "      <th>16</th>\n",
       "      <td>22353.0</td>\n",
       "      <td>18699.0</td>\n",
       "      <td>14579.0</td>\n",
       "      <td>6340.0</td>\n",
       "      <td>9305.0</td>\n",
       "      <td>5984.0</td>\n",
       "      <td>4190.0</td>\n",
       "      <td>3747.0</td>\n",
       "      <td>2399.0</td>\n",
       "      <td>2888.0</td>\n",
       "      <td>35783.0</td>\n",
       "      <td>28990.0</td>\n",
       "    </tr>\n",
       "    <tr>\n",
       "      <th>17</th>\n",
       "      <td>15831.0</td>\n",
       "      <td>13833.0</td>\n",
       "      <td>10325.0</td>\n",
       "      <td>4926.0</td>\n",
       "      <td>10036.0</td>\n",
       "      <td>6390.0</td>\n",
       "      <td>3624.0</td>\n",
       "      <td>3036.0</td>\n",
       "      <td>710.0</td>\n",
       "      <td>1185.0</td>\n",
       "      <td>35544.0</td>\n",
       "      <td>30833.0</td>\n",
       "    </tr>\n",
       "    <tr>\n",
       "      <th>18</th>\n",
       "      <td>21066.0</td>\n",
       "      <td>8567.0</td>\n",
       "      <td>4596.0</td>\n",
       "      <td>6382.0</td>\n",
       "      <td>1758.0</td>\n",
       "      <td>2642.0</td>\n",
       "      <td>1331.0</td>\n",
       "      <td>2483.0</td>\n",
       "      <td>869.0</td>\n",
       "      <td>2180.0</td>\n",
       "      <td>39197.0</td>\n",
       "      <td>33812.0</td>\n",
       "    </tr>\n",
       "    <tr>\n",
       "      <th>19</th>\n",
       "      <td>12352.0</td>\n",
       "      <td>4687.0</td>\n",
       "      <td>2564.0</td>\n",
       "      <td>2066.0</td>\n",
       "      <td>2074.0</td>\n",
       "      <td>832.0</td>\n",
       "      <td>460.0</td>\n",
       "      <td>1238.0</td>\n",
       "      <td>715.0</td>\n",
       "      <td>2236.0</td>\n",
       "      <td>41522.0</td>\n",
       "      <td>30767.0</td>\n",
       "    </tr>\n",
       "  </tbody>\n",
       "</table>\n",
       "</div>"
      ],
      "text/plain": [
       "Ranch      OAP               SFB              SGB             SJB          \\\n",
       "Class     BSUF      CHE     BSUF     CHE     BSUF     CHE    BSUF     CHE   \n",
       "0          0.0      0.0      0.0     0.0      0.0     0.0     0.0     0.0   \n",
       "1          0.0      0.0      0.0     0.0      0.0     0.0     0.0     0.0   \n",
       "2          0.0      0.0      0.0     0.0      0.0     0.0     0.0     0.0   \n",
       "3          0.0      0.0      0.0     0.0      0.0     0.0     0.0     0.0   \n",
       "4          0.0      0.0      0.0     0.0      0.0     0.0     0.0     0.0   \n",
       "5          0.0      0.0    129.0   213.0      0.0     0.0     0.0     0.0   \n",
       "6        247.0      0.0      0.0  1333.0      0.0     0.0     0.0     0.0   \n",
       "7          0.0      0.0    852.0   883.0     33.0     0.0     0.0     0.0   \n",
       "8          0.0    796.0   2724.0  2004.0    116.0    36.0  1482.0   507.0   \n",
       "9       1280.0   2267.0      0.0     0.0    307.0   108.0  4236.0   742.0   \n",
       "10      7385.0   8092.0   1261.0   470.0   1513.0   471.0  5472.0  1671.0   \n",
       "11     18731.0  12703.0    726.0   624.0   2223.0  1097.0  7925.0  5822.0   \n",
       "12     25271.0  21517.0   3146.0  1476.0   6290.0  2079.0  8861.0  6039.0   \n",
       "13     25938.0  20780.0   7817.0  1531.0   5475.0  5314.0  6686.0  3924.0   \n",
       "14     30949.0  20929.0  10482.0  4268.0  13021.0  6126.0  7671.0  2597.0   \n",
       "15     32539.0  15468.0  19272.0  6402.0   8873.0  7149.0  8114.0  4681.0   \n",
       "16     22353.0  18699.0  14579.0  6340.0   9305.0  5984.0  4190.0  3747.0   \n",
       "17     15831.0  13833.0  10325.0  4926.0  10036.0  6390.0  3624.0  3036.0   \n",
       "18     21066.0   8567.0   4596.0  6382.0   1758.0  2642.0  1331.0  2483.0   \n",
       "19     12352.0   4687.0   2564.0  2066.0   2074.0   832.0   460.0  1238.0   \n",
       "\n",
       "Ranch      SMB               VAP           \n",
       "Class     BSUF      CHE     BSUF      CHE  \n",
       "0          0.0      0.0      0.0      0.0  \n",
       "1          0.0      0.0      0.0      0.0  \n",
       "2          0.0      0.0      0.0      0.0  \n",
       "3          0.0      0.0      0.0      0.0  \n",
       "4          0.0      0.0      0.0      0.0  \n",
       "5          0.0      0.0      0.0      0.0  \n",
       "6          0.0      0.0      0.0      0.0  \n",
       "7          0.0      0.0      0.0      0.0  \n",
       "8        480.0      0.0     24.0      0.0  \n",
       "9          0.0   1023.0    587.0     40.0  \n",
       "10      3236.0   3443.0   4292.0   2283.0  \n",
       "11      6670.0   5855.0  10141.0   3014.0  \n",
       "12     13066.0   7161.0  11268.0   8268.0  \n",
       "13     14370.0   8003.0  27651.0  12951.0  \n",
       "14     11039.0  10300.0  57526.0  21938.0  \n",
       "15      5944.0   6524.0  28505.0  23379.0  \n",
       "16      2399.0   2888.0  35783.0  28990.0  \n",
       "17       710.0   1185.0  35544.0  30833.0  \n",
       "18       869.0   2180.0  39197.0  33812.0  \n",
       "19       715.0   2236.0  41522.0  30767.0  "
      ]
     },
     "execution_count": 30,
     "metadata": {},
     "output_type": "execute_result"
    }
   ],
   "source": [
    "af"
   ]
  },
  {
   "cell_type": "code",
   "execution_count": 44,
   "metadata": {},
   "outputs": [
    {
     "data": {
      "application/vnd.plotly.v1+json": {
       "config": {
        "plotlyServerURL": "https://plot.ly"
       },
       "data": [
        {
         "line": {
          "color": "rgb(68, 1, 84)"
         },
         "name": "OAP: BSUF Predicted",
         "type": "scatter",
         "x": {
          "bdata": "AAECAwQFBgcICQoLDA0ODxAREhM=",
          "dtype": "i1"
         },
         "y": {
          "bdata": "EiYNwLewmECKWSNB9TSJQd0VKsLDmpJC8dDLQfkFm8Itld5DaZ45RFMXa0WlvBFGl+5hRqM+lkZxhaZGXDOmRgySkkYUm4NGhO1LRgAb1EU=",
          "dtype": "f4"
         }
        },
        {
         "marker": {
          "color": "rgb(68, 1, 84)"
         },
         "name": "OAP: BSUF Actual",
         "opacity": 0.75,
         "type": "bar",
         "x": {
          "bdata": "AAECAwQFBgcICQoLDA0ODxAREhM=",
          "dtype": "i1"
         },
         "y": {
          "bdata": "AAAAAAAAAAAAAAAAAAAAAAAAAAAAAAAAAAB3QwAAAAAAAAAAAACgRADI5kUAVpJGAG7FRgCkykYAyvFGADb+RgCirkYAXHdGAJSkRgAAQUY=",
          "dtype": "f4"
         }
        },
        {
         "line": {
          "color": "rgb(71, 33, 113)"
         },
         "name": "OAP: CHE Predicted",
         "type": "scatter",
         "x": {
          "bdata": "AAECAwQFBgcICQoLDA0ODxAREhM=",
          "dtype": "i1"
         },
         "y": {
          "bdata": "xzUQweekCUGTbGbBnBaCQTxCO8IuXZ5CYFOyQWOJmsKrvPlDCupCRDrHgkXtjSJG+uV8RlgOqEZg0bpGC766RrTpo0a/Z5NG1idkRlyu7UU=",
          "dtype": "f4"
         }
        },
        {
         "marker": {
          "color": "rgb(71, 33, 113)"
         },
         "name": "OAP: CHE Actual",
         "opacity": 0.75,
         "type": "bar",
         "x": {
          "bdata": "AAECAwQFBgcICQoLDA0ODxAREhM=",
          "dtype": "i1"
         },
         "y": {
          "bdata": "AAAAAAAAAAAAAAAAAAAAAAAAAAAAAAAAAAAAAAAAAAAAAEdEALANRQDg/EUAfEZGABqoRgBYokYAgqNGALBxRgAWkkYAJFhGANwFRgB4kkU=",
          "dtype": "f4"
         }
        },
        {
         "line": {
          "color": "rgb(66, 61, 131)"
         },
         "name": "SFB: BSUF Predicted",
         "type": "scatter",
         "x": {
          "bdata": "AAECAwQFBgcICQoLDA0ODxAREhM=",
          "dtype": "i1"
         },
         "y": {
          "bdata": "npznvhT6sEBABeDAi5jqQHDMfMEgVL5BYg7PQGMoqMHxtBdD++FgQ2GPnUS7DkRFs7yYRa/vykUzK+JFu4riRaAhxkWAbLJFPRiKRYUDEEU=",
          "dtype": "f4"
         }
        },
        {
         "marker": {
          "color": "rgb(66, 61, 131)"
         },
         "name": "SFB: BSUF Actual",
         "opacity": 0.75,
         "type": "bar",
         "x": {
          "bdata": "AAECAwQFBgcICQoLDA0ODxAREhM=",
          "dtype": "i1"
         },
         "y": {
          "bdata": "AAAAAAAAAAAAAAAAAAAAAAAAAAAAAAFDAAAAAAAAVUQAQCpFAAAAAACgnUQAgDVEAKBERQBI9EUAyCNGAJCWRgDMY0YAVCFGAKCPRQBAIEU=",
          "dtype": "f4"
         }
        },
        {
         "line": {
          "color": "rgb(56, 87, 139)"
         },
         "name": "SFB: CHE Predicted",
         "type": "scatter",
         "x": {
          "bdata": "AAECAwQFBgcICQoLDA0ODxAREhM=",
          "dtype": "i1"
         },
         "y": {
          "bdata": "RECUwGlzoEEeNFLCoQxhQdJ3/sFoMyBCFJcsQFvir8ESV41DZ4uiQ+RjDkU2ebJFK3UMRvQ+OkbCm1FGNidTRi/uNUZDriRGk0r+RWRChUU=",
          "dtype": "f4"
         }
        },
        {
         "marker": {
          "color": "rgb(56, 87, 139)"
         },
         "name": "SFB: CHE Actual",
         "opacity": 0.75,
         "type": "bar",
         "x": {
          "bdata": "AAECAwQFBgcICQoLDA0ODxAREhM=",
          "dtype": "i1"
         },
         "y": {
          "bdata": "AAAAAAAAAAAAAAAAAAAAAAAAAAAAAFVDAKCmRADAXEQAgPpEAAAAAAAA60MAABxEAIC4RABgv0QAYIVFABDIRQAgxkUA8JlFAHDHRQAgAUU=",
          "dtype": "f4"
         }
        },
        {
         "line": {
          "color": "rgb(46, 111, 142)"
         },
         "name": "SGB: BSUF Predicted",
         "type": "scatter",
         "x": {
          "bdata": "AAECAwQFBgcICQoLDA0ODxAREhM=",
          "dtype": "i1"
         },
         "y": {
          "bdata": "ahkUQP4LDkGY/LzA0slBQfjlyMEsuA9CWvIjQbgBBcKEQGhDZBmuQ9jG70TiGJVFmwToRfYsGkb1tStGOP0rRgiVFkYClAdG/frRRXLnWkU=",
          "dtype": "f4"
         }
        },
        {
         "marker": {
          "color": "rgb(46, 111, 142)"
         },
         "name": "SGB: BSUF Actual",
         "opacity": 0.75,
         "type": "bar",
         "x": {
          "bdata": "AAECAwQFBgcICQoLDA0ODxAREhM=",
          "dtype": "i1"
         },
         "y": {
          "bdata": "AAAAAAAAAAAAAAAAAAAAAAAAAAAAAAAAAAAAAAAABEIAAOhCAICZQwAgvUQA8ApFAJDERQAYq0UAdEtGAKQKRgBkEUYA0BxGAMDbRACgAUU=",
          "dtype": "f4"
         }
        },
        {
         "line": {
          "color": "rgb(37, 133, 142)"
         },
         "name": "SGB: CHE Predicted",
         "type": "scatter",
         "x": {
          "bdata": "AAECAwQFBgcICQoLDA0ODxAREhM=",
          "dtype": "i1"
         },
         "y": {
          "bdata": "bqGKvzLTKkHVaJfBJAMyQRQC0MFLBRJCQq/zQHC388Fm/HRDAgirQ78J+0S7f5xFqGj0RY1KIkaCRzVGx9U1Rv12HkbC5A5GTQ3dRVfQZkU=",
          "dtype": "f4"
         }
        },
        {
         "marker": {
          "color": "rgb(37, 133, 142)"
         },
         "name": "SGB: CHE Actual",
         "opacity": 0.75,
         "type": "bar",
         "x": {
          "bdata": "AAECAwQFBgcICQoLDA0ODxAREhM=",
          "dtype": "i1"
         },
         "y": {
          "bdata": "AAAAAAAAAAAAAAAAAAAAAAAAAAAAAAAAAAAAAAAAAAAAABBCAADYQgCA60MAIIlEAPABRQAQpkUAcL9FAGjfRQAAu0UAsMdFACAlRQAAUEQ=",
          "dtype": "f4"
         }
        },
        {
         "line": {
          "color": "rgb(32, 155, 137)"
         },
         "name": "SJB: BSUF Predicted",
         "type": "scatter",
         "x": {
          "bdata": "AAECAwQFBgcICQoLDA0ODxAREhM=",
          "dtype": "i1"
         },
         "y": {
          "bdata": "9viqvs7vzEAjLz3BJYq9QLHDXMFpTpJBntFRQLoiW8GOD+9CRvsfQ8OYc0QFAxhFEbRtReXKnUVhjLBFBUWxRUYlmkW9GYtFKCdXRQTR4EQ=",
          "dtype": "f4"
         }
        },
        {
         "marker": {
          "color": "rgb(32, 155, 137)"
         },
         "name": "SJB: BSUF Actual",
         "opacity": 0.75,
         "type": "bar",
         "x": {
          "bdata": "AAECAwQFBgcICQoLDA0ODxAREhM=",
          "dtype": "i1"
         },
         "y": {
          "bdata": "AAAAAAAAAAAAAAAAAAAAAAAAAAAAAAAAAAAAAAAAAAAAQLlEAGCERQAAq0UAqPdFAHQKRgDw0EUAuO9FAJD9RQDwgkUAgGJFAGCmRAAA5kM=",
          "dtype": "f4"
         }
        },
        {
         "line": {
          "color": "rgb(47, 176, 125)"
         },
         "name": "SJB: CHE Predicted",
         "type": "scatter",
         "x": {
          "bdata": "AAECAwQFBgcICQoLDA0ODxAREhM=",
          "dtype": "i1"
         },
         "y": {
          "bdata": "APQgv6YCbEEuMQbC5oY3QSrn0sFqfwFCgXkuQPqrosGlB2JDfWiIQ9O+4kQW5Y1FurreRUC9E0Zu8iVG2QwnRhpeEEZRkwJGcsnJRfhFU0U=",
          "dtype": "f4"
         }
        },
        {
         "marker": {
          "color": "rgb(47, 176, 125)"
         },
         "name": "SJB: CHE Actual",
         "opacity": 0.75,
         "type": "bar",
         "x": {
          "bdata": "AAECAwQFBgcICQoLDA0ODxAREhM=",
          "dtype": "i1"
         },
         "y": {
          "bdata": "AAAAAAAAAAAAAAAAAAAAAAAAAAAAAAAAAAAAAAAAAAAAgP1DAIA5RADg0EQA8LVFALi8RQBAdUUAUCJFAEiSRQAwakUAwD1FADAbRQDAmkQ=",
          "dtype": "f4"
         }
        },
        {
         "line": {
          "color": "rgb(84, 196, 103)"
         },
         "name": "SMB: BSUF Predicted",
         "type": "scatter",
         "x": {
          "bdata": "AAECAwQFBgcICQoLDA0ODxAREhM=",
          "dtype": "i1"
         },
         "y": {
          "bdata": "gfijv6Ks20CIr43AVUs/QcjU0sHKWChChGBKQdZEIcJBOINDnmHMQy9MCUUyk6pFE6AERoVJMEZ4B0RGgQ5ERt4OLEakvhpGI6PvRcuieUU=",
          "dtype": "f4"
         }
        },
        {
         "marker": {
          "color": "rgb(84, 196, 103)"
         },
         "name": "SMB: BSUF Actual",
         "opacity": 0.75,
         "type": "bar",
         "x": {
          "bdata": "AAECAwQFBgcICQoLDA0ODxAREhM=",
          "dtype": "i1"
         },
         "y": {
          "bdata": "AAAAAAAAAAAAAAAAAAAAAAAAAAAAAAAAAAAAAAAAAAAAAPBDAAAAAABASkUAcNBFAChMRgCIYEYAfCxGAMC5RQDwFUUAgDFEAEBZRADAMkQ=",
          "dtype": "f4"
         }
        },
        {
         "line": {
          "color": "rgb(136, 212, 72)"
         },
         "name": "SMB: CHE Predicted",
         "type": "scatter",
         "x": {
          "bdata": "AAECAwQFBgcICQoLDA0ODxAREhM=",
          "dtype": "i1"
         },
         "y": {
          "bdata": "Cn/PvwUKDkHCoGzBzO43QQqdyMGGxxdCRFkLQR/zBMJrO3lDXny0Q2/QAEWzZaBFyzb6Ra4wJkbKYTlGisk5Rm07IkYHLBJGoS/iRWYDbEU=",
          "dtype": "f4"
         }
        },
        {
         "marker": {
          "color": "rgb(136, 212, 72)"
         },
         "name": "SMB: CHE Actual",
         "opacity": 0.75,
         "type": "bar",
         "x": {
          "bdata": "AAECAwQFBgcICQoLDA0ODxAREhM=",
          "dtype": "i1"
         },
         "y": {
          "bdata": "AAAAAAAAAAAAAAAAAAAAAAAAAAAAAAAAAAAAAAAAAAAAAAAAAMB/RAAwV0UA+LZFAMjfRQAY+kUA8CBGAODLRQCANEUAIJREAEAIRQDAC0U=",
          "dtype": "f4"
         }
        },
        {
         "line": {
          "color": "rgb(194, 224, 42)"
         },
         "name": "VAP: BSUF Predicted",
         "type": "scatter",
         "x": {
          "bdata": "AAECAwQFBgcICQoLDA0ODxAREhM=",
          "dtype": "i1"
         },
         "y": {
          "bdata": "VHjWQYXCqEHIeJ9Cxsp1Qhgm6sIqTzNDkCaIQhU8T8OpVI1ELU7wRFnkE0ZxCrdGw4gNR8BcPEdUhlBH5CJQR4zxN0d9FSVHgAwAR+URhUY=",
          "dtype": "f4"
         }
        },
        {
         "marker": {
          "color": "rgb(194, 224, 42)"
         },
         "name": "VAP: BSUF Actual",
         "opacity": 0.75,
         "type": "bar",
         "x": {
          "bdata": "AAECAwQFBgcICQoLDA0ODxAREhM=",
          "dtype": "i1"
         },
         "y": {
          "bdata": "AAAAAAAAAAAAAAAAAAAAAAAAAAAAAAAAAAAAAAAAAAAAAMBBAMASRAAghkUAdB5GABAwRgAG2EYAtmBHALLeRgDHC0cA2ApHAB0ZRwAyIkc=",
          "dtype": "f4"
         }
        },
        {
         "line": {
          "color": "rgb(253, 231, 37)"
         },
         "name": "VAP: CHE Predicted",
         "type": "scatter",
         "x": {
          "bdata": "AAECAwQFBgcICQoLDA0ODxAREhM=",
          "dtype": "i1"
         },
         "y": {
          "bdata": "DHqTQSMLEEIIeSNA5qBdQmnS18IxMxZDNyQrQmOvGsNenXxEDKjBRHX4AUa0aqFGLtv6RjXEJkfPgTlHmbQ5R2PmIkfTkxJHgxvjRqmYbEY=",
          "dtype": "f4"
         }
        },
        {
         "marker": {
          "color": "rgb(253, 231, 37)"
         },
         "name": "VAP: CHE Actual",
         "opacity": 0.75,
         "type": "bar",
         "x": {
          "bdata": "AAECAwQFBgcICQoLDA0ODxAREhM=",
          "dtype": "i1"
         },
         "y": {
          "bdata": "AAAAAAAAAAAAAAAAAAAAAAAAAAAAAAAAAAAAAAAAAAAAAAAAAAAgQgCwDkUAYDxFADABRgBcSkYAZKtGAKa2RgB84kYA4vBGABQERwBe8EY=",
          "dtype": "f4"
         }
        }
       ],
       "layout": {
        "template": {
         "data": {
          "bar": [
           {
            "error_x": {
             "color": "#2a3f5f"
            },
            "error_y": {
             "color": "#2a3f5f"
            },
            "marker": {
             "line": {
              "color": "white",
              "width": 0.5
             },
             "pattern": {
              "fillmode": "overlay",
              "size": 10,
              "solidity": 0.2
             }
            },
            "type": "bar"
           }
          ],
          "barpolar": [
           {
            "marker": {
             "line": {
              "color": "white",
              "width": 0.5
             },
             "pattern": {
              "fillmode": "overlay",
              "size": 10,
              "solidity": 0.2
             }
            },
            "type": "barpolar"
           }
          ],
          "carpet": [
           {
            "aaxis": {
             "endlinecolor": "#2a3f5f",
             "gridcolor": "#C8D4E3",
             "linecolor": "#C8D4E3",
             "minorgridcolor": "#C8D4E3",
             "startlinecolor": "#2a3f5f"
            },
            "baxis": {
             "endlinecolor": "#2a3f5f",
             "gridcolor": "#C8D4E3",
             "linecolor": "#C8D4E3",
             "minorgridcolor": "#C8D4E3",
             "startlinecolor": "#2a3f5f"
            },
            "type": "carpet"
           }
          ],
          "choropleth": [
           {
            "colorbar": {
             "outlinewidth": 0,
             "ticks": ""
            },
            "type": "choropleth"
           }
          ],
          "contour": [
           {
            "colorbar": {
             "outlinewidth": 0,
             "ticks": ""
            },
            "colorscale": [
             [
              0,
              "#0d0887"
             ],
             [
              0.1111111111111111,
              "#46039f"
             ],
             [
              0.2222222222222222,
              "#7201a8"
             ],
             [
              0.3333333333333333,
              "#9c179e"
             ],
             [
              0.4444444444444444,
              "#bd3786"
             ],
             [
              0.5555555555555556,
              "#d8576b"
             ],
             [
              0.6666666666666666,
              "#ed7953"
             ],
             [
              0.7777777777777778,
              "#fb9f3a"
             ],
             [
              0.8888888888888888,
              "#fdca26"
             ],
             [
              1,
              "#f0f921"
             ]
            ],
            "type": "contour"
           }
          ],
          "contourcarpet": [
           {
            "colorbar": {
             "outlinewidth": 0,
             "ticks": ""
            },
            "type": "contourcarpet"
           }
          ],
          "heatmap": [
           {
            "colorbar": {
             "outlinewidth": 0,
             "ticks": ""
            },
            "colorscale": [
             [
              0,
              "#0d0887"
             ],
             [
              0.1111111111111111,
              "#46039f"
             ],
             [
              0.2222222222222222,
              "#7201a8"
             ],
             [
              0.3333333333333333,
              "#9c179e"
             ],
             [
              0.4444444444444444,
              "#bd3786"
             ],
             [
              0.5555555555555556,
              "#d8576b"
             ],
             [
              0.6666666666666666,
              "#ed7953"
             ],
             [
              0.7777777777777778,
              "#fb9f3a"
             ],
             [
              0.8888888888888888,
              "#fdca26"
             ],
             [
              1,
              "#f0f921"
             ]
            ],
            "type": "heatmap"
           }
          ],
          "histogram": [
           {
            "marker": {
             "pattern": {
              "fillmode": "overlay",
              "size": 10,
              "solidity": 0.2
             }
            },
            "type": "histogram"
           }
          ],
          "histogram2d": [
           {
            "colorbar": {
             "outlinewidth": 0,
             "ticks": ""
            },
            "colorscale": [
             [
              0,
              "#0d0887"
             ],
             [
              0.1111111111111111,
              "#46039f"
             ],
             [
              0.2222222222222222,
              "#7201a8"
             ],
             [
              0.3333333333333333,
              "#9c179e"
             ],
             [
              0.4444444444444444,
              "#bd3786"
             ],
             [
              0.5555555555555556,
              "#d8576b"
             ],
             [
              0.6666666666666666,
              "#ed7953"
             ],
             [
              0.7777777777777778,
              "#fb9f3a"
             ],
             [
              0.8888888888888888,
              "#fdca26"
             ],
             [
              1,
              "#f0f921"
             ]
            ],
            "type": "histogram2d"
           }
          ],
          "histogram2dcontour": [
           {
            "colorbar": {
             "outlinewidth": 0,
             "ticks": ""
            },
            "colorscale": [
             [
              0,
              "#0d0887"
             ],
             [
              0.1111111111111111,
              "#46039f"
             ],
             [
              0.2222222222222222,
              "#7201a8"
             ],
             [
              0.3333333333333333,
              "#9c179e"
             ],
             [
              0.4444444444444444,
              "#bd3786"
             ],
             [
              0.5555555555555556,
              "#d8576b"
             ],
             [
              0.6666666666666666,
              "#ed7953"
             ],
             [
              0.7777777777777778,
              "#fb9f3a"
             ],
             [
              0.8888888888888888,
              "#fdca26"
             ],
             [
              1,
              "#f0f921"
             ]
            ],
            "type": "histogram2dcontour"
           }
          ],
          "mesh3d": [
           {
            "colorbar": {
             "outlinewidth": 0,
             "ticks": ""
            },
            "type": "mesh3d"
           }
          ],
          "parcoords": [
           {
            "line": {
             "colorbar": {
              "outlinewidth": 0,
              "ticks": ""
             }
            },
            "type": "parcoords"
           }
          ],
          "pie": [
           {
            "automargin": true,
            "type": "pie"
           }
          ],
          "scatter": [
           {
            "fillpattern": {
             "fillmode": "overlay",
             "size": 10,
             "solidity": 0.2
            },
            "type": "scatter"
           }
          ],
          "scatter3d": [
           {
            "line": {
             "colorbar": {
              "outlinewidth": 0,
              "ticks": ""
             }
            },
            "marker": {
             "colorbar": {
              "outlinewidth": 0,
              "ticks": ""
             }
            },
            "type": "scatter3d"
           }
          ],
          "scattercarpet": [
           {
            "marker": {
             "colorbar": {
              "outlinewidth": 0,
              "ticks": ""
             }
            },
            "type": "scattercarpet"
           }
          ],
          "scattergeo": [
           {
            "marker": {
             "colorbar": {
              "outlinewidth": 0,
              "ticks": ""
             }
            },
            "type": "scattergeo"
           }
          ],
          "scattergl": [
           {
            "marker": {
             "colorbar": {
              "outlinewidth": 0,
              "ticks": ""
             }
            },
            "type": "scattergl"
           }
          ],
          "scattermap": [
           {
            "marker": {
             "colorbar": {
              "outlinewidth": 0,
              "ticks": ""
             }
            },
            "type": "scattermap"
           }
          ],
          "scattermapbox": [
           {
            "marker": {
             "colorbar": {
              "outlinewidth": 0,
              "ticks": ""
             }
            },
            "type": "scattermapbox"
           }
          ],
          "scatterpolar": [
           {
            "marker": {
             "colorbar": {
              "outlinewidth": 0,
              "ticks": ""
             }
            },
            "type": "scatterpolar"
           }
          ],
          "scatterpolargl": [
           {
            "marker": {
             "colorbar": {
              "outlinewidth": 0,
              "ticks": ""
             }
            },
            "type": "scatterpolargl"
           }
          ],
          "scatterternary": [
           {
            "marker": {
             "colorbar": {
              "outlinewidth": 0,
              "ticks": ""
             }
            },
            "type": "scatterternary"
           }
          ],
          "surface": [
           {
            "colorbar": {
             "outlinewidth": 0,
             "ticks": ""
            },
            "colorscale": [
             [
              0,
              "#0d0887"
             ],
             [
              0.1111111111111111,
              "#46039f"
             ],
             [
              0.2222222222222222,
              "#7201a8"
             ],
             [
              0.3333333333333333,
              "#9c179e"
             ],
             [
              0.4444444444444444,
              "#bd3786"
             ],
             [
              0.5555555555555556,
              "#d8576b"
             ],
             [
              0.6666666666666666,
              "#ed7953"
             ],
             [
              0.7777777777777778,
              "#fb9f3a"
             ],
             [
              0.8888888888888888,
              "#fdca26"
             ],
             [
              1,
              "#f0f921"
             ]
            ],
            "type": "surface"
           }
          ],
          "table": [
           {
            "cells": {
             "fill": {
              "color": "#EBF0F8"
             },
             "line": {
              "color": "white"
             }
            },
            "header": {
             "fill": {
              "color": "#C8D4E3"
             },
             "line": {
              "color": "white"
             }
            },
            "type": "table"
           }
          ]
         },
         "layout": {
          "annotationdefaults": {
           "arrowcolor": "#2a3f5f",
           "arrowhead": 0,
           "arrowwidth": 1
          },
          "autotypenumbers": "strict",
          "coloraxis": {
           "colorbar": {
            "outlinewidth": 0,
            "ticks": ""
           }
          },
          "colorscale": {
           "diverging": [
            [
             0,
             "#8e0152"
            ],
            [
             0.1,
             "#c51b7d"
            ],
            [
             0.2,
             "#de77ae"
            ],
            [
             0.3,
             "#f1b6da"
            ],
            [
             0.4,
             "#fde0ef"
            ],
            [
             0.5,
             "#f7f7f7"
            ],
            [
             0.6,
             "#e6f5d0"
            ],
            [
             0.7,
             "#b8e186"
            ],
            [
             0.8,
             "#7fbc41"
            ],
            [
             0.9,
             "#4d9221"
            ],
            [
             1,
             "#276419"
            ]
           ],
           "sequential": [
            [
             0,
             "#0d0887"
            ],
            [
             0.1111111111111111,
             "#46039f"
            ],
            [
             0.2222222222222222,
             "#7201a8"
            ],
            [
             0.3333333333333333,
             "#9c179e"
            ],
            [
             0.4444444444444444,
             "#bd3786"
            ],
            [
             0.5555555555555556,
             "#d8576b"
            ],
            [
             0.6666666666666666,
             "#ed7953"
            ],
            [
             0.7777777777777778,
             "#fb9f3a"
            ],
            [
             0.8888888888888888,
             "#fdca26"
            ],
            [
             1,
             "#f0f921"
            ]
           ],
           "sequentialminus": [
            [
             0,
             "#0d0887"
            ],
            [
             0.1111111111111111,
             "#46039f"
            ],
            [
             0.2222222222222222,
             "#7201a8"
            ],
            [
             0.3333333333333333,
             "#9c179e"
            ],
            [
             0.4444444444444444,
             "#bd3786"
            ],
            [
             0.5555555555555556,
             "#d8576b"
            ],
            [
             0.6666666666666666,
             "#ed7953"
            ],
            [
             0.7777777777777778,
             "#fb9f3a"
            ],
            [
             0.8888888888888888,
             "#fdca26"
            ],
            [
             1,
             "#f0f921"
            ]
           ]
          },
          "colorway": [
           "#636efa",
           "#EF553B",
           "#00cc96",
           "#ab63fa",
           "#FFA15A",
           "#19d3f3",
           "#FF6692",
           "#B6E880",
           "#FF97FF",
           "#FECB52"
          ],
          "font": {
           "color": "#2a3f5f"
          },
          "geo": {
           "bgcolor": "white",
           "lakecolor": "white",
           "landcolor": "white",
           "showlakes": true,
           "showland": true,
           "subunitcolor": "#C8D4E3"
          },
          "hoverlabel": {
           "align": "left"
          },
          "hovermode": "closest",
          "mapbox": {
           "style": "light"
          },
          "paper_bgcolor": "white",
          "plot_bgcolor": "white",
          "polar": {
           "angularaxis": {
            "gridcolor": "#EBF0F8",
            "linecolor": "#EBF0F8",
            "ticks": ""
           },
           "bgcolor": "white",
           "radialaxis": {
            "gridcolor": "#EBF0F8",
            "linecolor": "#EBF0F8",
            "ticks": ""
           }
          },
          "scene": {
           "xaxis": {
            "backgroundcolor": "white",
            "gridcolor": "#DFE8F3",
            "gridwidth": 2,
            "linecolor": "#EBF0F8",
            "showbackground": true,
            "ticks": "",
            "zerolinecolor": "#EBF0F8"
           },
           "yaxis": {
            "backgroundcolor": "white",
            "gridcolor": "#DFE8F3",
            "gridwidth": 2,
            "linecolor": "#EBF0F8",
            "showbackground": true,
            "ticks": "",
            "zerolinecolor": "#EBF0F8"
           },
           "zaxis": {
            "backgroundcolor": "white",
            "gridcolor": "#DFE8F3",
            "gridwidth": 2,
            "linecolor": "#EBF0F8",
            "showbackground": true,
            "ticks": "",
            "zerolinecolor": "#EBF0F8"
           }
          },
          "shapedefaults": {
           "line": {
            "color": "#2a3f5f"
           }
          },
          "ternary": {
           "aaxis": {
            "gridcolor": "#DFE8F3",
            "linecolor": "#A2B1C6",
            "ticks": ""
           },
           "baxis": {
            "gridcolor": "#DFE8F3",
            "linecolor": "#A2B1C6",
            "ticks": ""
           },
           "bgcolor": "white",
           "caxis": {
            "gridcolor": "#DFE8F3",
            "linecolor": "#A2B1C6",
            "ticks": ""
           }
          },
          "title": {
           "x": 0.05
          },
          "xaxis": {
           "automargin": true,
           "gridcolor": "#EBF0F8",
           "linecolor": "#EBF0F8",
           "ticks": "",
           "title": {
            "standoff": 15
           },
           "zerolinecolor": "#EBF0F8",
           "zerolinewidth": 2
          },
          "yaxis": {
           "automargin": true,
           "gridcolor": "#EBF0F8",
           "linecolor": "#EBF0F8",
           "ticks": "",
           "title": {
            "standoff": 15
           },
           "zerolinecolor": "#EBF0F8",
           "zerolinewidth": 2
          }
         }
        },
        "title": {
         "text": "predictions_summed Trace Filter with Dropdown"
        },
        "updatemenus": [
         {
          "active": 0,
          "buttons": [
           {
            "args": [
             {
              "visible": [
               true,
               true,
               false,
               false,
               false,
               false,
               false,
               false,
               false,
               false,
               false,
               false,
               false,
               false,
               false,
               false,
               false,
               false,
               false,
               false,
               false,
               false,
               false,
               false
              ]
             },
             {
              "title": "Selected: OAP: BSUF"
             }
            ],
            "label": "OAP: BSUF",
            "method": "update"
           },
           {
            "args": [
             {
              "visible": [
               false,
               false,
               true,
               true,
               false,
               false,
               false,
               false,
               false,
               false,
               false,
               false,
               false,
               false,
               false,
               false,
               false,
               false,
               false,
               false,
               false,
               false,
               false,
               false
              ]
             },
             {
              "title": "Selected: OAP: CHE"
             }
            ],
            "label": "OAP: CHE",
            "method": "update"
           },
           {
            "args": [
             {
              "visible": [
               false,
               false,
               false,
               false,
               true,
               true,
               false,
               false,
               false,
               false,
               false,
               false,
               false,
               false,
               false,
               false,
               false,
               false,
               false,
               false,
               false,
               false,
               false,
               false
              ]
             },
             {
              "title": "Selected: SFB: BSUF"
             }
            ],
            "label": "SFB: BSUF",
            "method": "update"
           },
           {
            "args": [
             {
              "visible": [
               false,
               false,
               false,
               false,
               false,
               false,
               true,
               true,
               false,
               false,
               false,
               false,
               false,
               false,
               false,
               false,
               false,
               false,
               false,
               false,
               false,
               false,
               false,
               false
              ]
             },
             {
              "title": "Selected: SFB: CHE"
             }
            ],
            "label": "SFB: CHE",
            "method": "update"
           },
           {
            "args": [
             {
              "visible": [
               false,
               false,
               false,
               false,
               false,
               false,
               false,
               false,
               true,
               true,
               false,
               false,
               false,
               false,
               false,
               false,
               false,
               false,
               false,
               false,
               false,
               false,
               false,
               false
              ]
             },
             {
              "title": "Selected: SGB: BSUF"
             }
            ],
            "label": "SGB: BSUF",
            "method": "update"
           },
           {
            "args": [
             {
              "visible": [
               false,
               false,
               false,
               false,
               false,
               false,
               false,
               false,
               false,
               false,
               true,
               true,
               false,
               false,
               false,
               false,
               false,
               false,
               false,
               false,
               false,
               false,
               false,
               false
              ]
             },
             {
              "title": "Selected: SGB: CHE"
             }
            ],
            "label": "SGB: CHE",
            "method": "update"
           },
           {
            "args": [
             {
              "visible": [
               false,
               false,
               false,
               false,
               false,
               false,
               false,
               false,
               false,
               false,
               false,
               false,
               true,
               true,
               false,
               false,
               false,
               false,
               false,
               false,
               false,
               false,
               false,
               false
              ]
             },
             {
              "title": "Selected: SJB: BSUF"
             }
            ],
            "label": "SJB: BSUF",
            "method": "update"
           },
           {
            "args": [
             {
              "visible": [
               false,
               false,
               false,
               false,
               false,
               false,
               false,
               false,
               false,
               false,
               false,
               false,
               false,
               false,
               true,
               true,
               false,
               false,
               false,
               false,
               false,
               false,
               false,
               false
              ]
             },
             {
              "title": "Selected: SJB: CHE"
             }
            ],
            "label": "SJB: CHE",
            "method": "update"
           },
           {
            "args": [
             {
              "visible": [
               false,
               false,
               false,
               false,
               false,
               false,
               false,
               false,
               false,
               false,
               false,
               false,
               false,
               false,
               false,
               false,
               true,
               true,
               false,
               false,
               false,
               false,
               false,
               false
              ]
             },
             {
              "title": "Selected: SMB: BSUF"
             }
            ],
            "label": "SMB: BSUF",
            "method": "update"
           },
           {
            "args": [
             {
              "visible": [
               false,
               false,
               false,
               false,
               false,
               false,
               false,
               false,
               false,
               false,
               false,
               false,
               false,
               false,
               false,
               false,
               false,
               false,
               true,
               true,
               false,
               false,
               false,
               false
              ]
             },
             {
              "title": "Selected: SMB: CHE"
             }
            ],
            "label": "SMB: CHE",
            "method": "update"
           },
           {
            "args": [
             {
              "visible": [
               false,
               false,
               false,
               false,
               false,
               false,
               false,
               false,
               false,
               false,
               false,
               false,
               false,
               false,
               false,
               false,
               false,
               false,
               false,
               false,
               true,
               true,
               false,
               false
              ]
             },
             {
              "title": "Selected: VAP: BSUF"
             }
            ],
            "label": "VAP: BSUF",
            "method": "update"
           },
           {
            "args": [
             {
              "visible": [
               false,
               false,
               false,
               false,
               false,
               false,
               false,
               false,
               false,
               false,
               false,
               false,
               false,
               false,
               false,
               false,
               false,
               false,
               false,
               false,
               false,
               false,
               true,
               true
              ]
             },
             {
              "title": "Selected: VAP: CHE"
             }
            ],
            "label": "VAP: CHE",
            "method": "update"
           },
           {
            "args": [
             {
              "visible": [
               true,
               true,
               true,
               true,
               true,
               true,
               true,
               true,
               true,
               true,
               true,
               true,
               true,
               true,
               true,
               true,
               true,
               true,
               true,
               true,
               true,
               true,
               true,
               true
              ]
             },
             {
              "title": "All Traces Visible"
             }
            ],
            "label": "Show All",
            "method": "update"
           }
          ],
          "direction": "down",
          "showactive": true,
          "x": 1.05,
          "xanchor": "left",
          "y": 1,
          "yanchor": "top"
         }
        ],
        "xaxis": {
         "title": {
          "text": "Week after Transplant"
         }
        },
        "yaxis": {
         "title": {
          "text": "Harvest (kg)"
         }
        }
       }
      }
     },
     "metadata": {},
     "output_type": "display_data"
    }
   ],
   "source": [
    "fig = go.Figure()\n",
    "x_values = df.index\n",
    "colors = sample_colorscale('Viridis', [i / (len(df.columns) - 1) for i in range(len(df.columns))])\n",
    "color_map = {key: colors[i] for i, key in enumerate(df.columns)}\n",
    "\n",
    "for i, col in enumerate(df.columns):\n",
    "    label = col[0] + ': ' + col[1]\n",
    "    fig.add_trace(go.Scatter(x=x_values, y=df[col], name=label + ' Predicted', line=dict(color=color_map[col])))\n",
    "    fig.add_trace(go.Bar(x=x_values, y=af[col], name= label + ' Actual', marker_color=color_map[col], opacity=0.75))\n",
    "\n",
    "buttons = []\n",
    "for i, key in enumerate(df.columns):\n",
    "    # Each key creates 2 traces (scatter + bar), so need to toggle both\n",
    "    visibility = [j//2 == i for j in range(len(df.columns)*2)]  # Show only the i-th pair of traces\n",
    "    buttons.append(dict(\n",
    "        label=f\"{key[0]}: {key[1]}\",\n",
    "        method='update',\n",
    "        args=[{'visible': visibility}, {'title': f'Selected: {key[0]}: {key[1]}'}]\n",
    "    ))\n",
    "\n",
    "# Add \"Show All\" button\n",
    "buttons.append(dict(\n",
    "    label='Show All', \n",
    "    method='update',\n",
    "    args=[{'visible': [True]*(len(df.columns)*2)}, {'title': 'All Traces Visible'}]\n",
    "))\n",
    "\n",
    "# Add dropdown menu to layout\n",
    "fig.update_layout(\n",
    "    updatemenus=[dict(\n",
    "        active=0,\n",
    "        buttons=buttons,\n",
    "        direction='down',\n",
    "        showactive=True,\n",
    "        x=1.05,\n",
    "        xanchor='left',\n",
    "        y=1,\n",
    "        yanchor='top'\n",
    "    )],\n",
    "    title=title + ' Trace Filter with Dropdown',\n",
    "    template='plotly_white',\n",
    "    xaxis_title='Week after Transplant',\n",
    "    yaxis_title='Harvest (kg)'\n",
    ")\n",
    "\n",
    "fig.show()\n"
   ]
  },
  {
   "cell_type": "code",
   "execution_count": null,
   "metadata": {},
   "outputs": [],
   "source": []
  }
 ],
 "metadata": {
  "language_info": {
   "name": "python"
  }
 },
 "nbformat": 4,
 "nbformat_minor": 2
}
