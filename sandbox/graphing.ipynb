{
 "cells": [
  {
   "cell_type": "code",
   "execution_count": 1,
   "metadata": {},
   "outputs": [],
   "source": [
    "import pandas as pd\n",
    "import seaborn as sns\n",
    "import matplotlib.pyplot as plt\n",
    "import numpy as np\n",
    "from plotly import graph_objects as go\n",
    "from plotly import colors\n",
    "from plotly.colors import sample_colorscale"
   ]
  },
  {
   "cell_type": "code",
   "execution_count": 2,
   "metadata": {},
   "outputs": [],
   "source": [
    "import sys\n",
    "import os\n",
    "\n",
    "# Add the parent directory to sys.path\n",
    "sys.path.append(os.path.abspath('..'))"
   ]
  },
  {
   "cell_type": "code",
   "execution_count": 3,
   "metadata": {},
   "outputs": [],
   "source": [
    "from src.table import CherryTable\n",
    "import src.utils as utils\n",
    "import src.preprocessing as pre"
   ]
  },
  {
   "cell_type": "code",
   "execution_count": 4,
   "metadata": {},
   "outputs": [],
   "source": [
    "train, test, mapping_dict = pre.separate_year(planting_meta_path='../data/planting_meta.json', weekly_summary_path='../data/weekly_summary.csv')"
   ]
  },
  {
   "cell_type": "code",
   "execution_count": 5,
   "metadata": {},
   "outputs": [
    {
     "name": "stdout",
     "output_type": "stream",
     "text": [
      "Epoch [1/5], Loss: 869098.8096\n",
      "Epoch [2/5], Loss: 799709.9590\n",
      "Epoch [3/5], Loss: 792688.7305\n",
      "Epoch [4/5], Loss: 762202.8954\n",
      "Epoch [5/5], Loss: 710263.5054\n"
     ]
    }
   ],
   "source": [
    "model =utils.train_harvest_model(train)"
   ]
  },
  {
   "cell_type": "code",
   "execution_count": 6,
   "metadata": {},
   "outputs": [],
   "source": [
    "predictions = utils.predict_harvest(model, test)"
   ]
  },
  {
   "cell_type": "code",
   "execution_count": 7,
   "metadata": {},
   "outputs": [],
   "source": [
    "meta = pre.decode(test, mapping_dict)\n",
    "actuals = test.Y_kilos.detach().numpy()"
   ]
  },
  {
   "cell_type": "code",
   "execution_count": 8,
   "metadata": {},
   "outputs": [],
   "source": [
    "table = CherryTable(meta, {'predictions':predictions}, actuals)"
   ]
  },
  {
   "cell_type": "code",
   "execution_count": 9,
   "metadata": {},
   "outputs": [],
   "source": [
    "a,d,ha_info = table.graph_ready(ranches=True,classes=True)"
   ]
  },
  {
   "cell_type": "code",
   "execution_count": 10,
   "metadata": {},
   "outputs": [],
   "source": [
    "title = list(d.keys())[0]"
   ]
  },
  {
   "cell_type": "code",
   "execution_count": 11,
   "metadata": {},
   "outputs": [
    {
     "data": {
      "text/html": [
       "<div>\n",
       "<style scoped>\n",
       "    .dataframe tbody tr th:only-of-type {\n",
       "        vertical-align: middle;\n",
       "    }\n",
       "\n",
       "    .dataframe tbody tr th {\n",
       "        vertical-align: top;\n",
       "    }\n",
       "\n",
       "    .dataframe thead th {\n",
       "        text-align: right;\n",
       "    }\n",
       "</style>\n",
       "<table border=\"1\" class=\"dataframe\">\n",
       "  <thead>\n",
       "    <tr style=\"text-align: right;\">\n",
       "      <th></th>\n",
       "      <th></th>\n",
       "      <th>0</th>\n",
       "      <th>1</th>\n",
       "      <th>2</th>\n",
       "      <th>3</th>\n",
       "      <th>4</th>\n",
       "      <th>5</th>\n",
       "      <th>6</th>\n",
       "      <th>7</th>\n",
       "      <th>8</th>\n",
       "      <th>9</th>\n",
       "      <th>10</th>\n",
       "      <th>11</th>\n",
       "      <th>12</th>\n",
       "      <th>13</th>\n",
       "      <th>14</th>\n",
       "      <th>15</th>\n",
       "      <th>16</th>\n",
       "      <th>17</th>\n",
       "      <th>18</th>\n",
       "      <th>19</th>\n",
       "    </tr>\n",
       "    <tr>\n",
       "      <th>Ranch</th>\n",
       "      <th>Class</th>\n",
       "      <th></th>\n",
       "      <th></th>\n",
       "      <th></th>\n",
       "      <th></th>\n",
       "      <th></th>\n",
       "      <th></th>\n",
       "      <th></th>\n",
       "      <th></th>\n",
       "      <th></th>\n",
       "      <th></th>\n",
       "      <th></th>\n",
       "      <th></th>\n",
       "      <th></th>\n",
       "      <th></th>\n",
       "      <th></th>\n",
       "      <th></th>\n",
       "      <th></th>\n",
       "      <th></th>\n",
       "      <th></th>\n",
       "      <th></th>\n",
       "    </tr>\n",
       "  </thead>\n",
       "  <tbody>\n",
       "    <tr>\n",
       "      <th rowspan=\"2\" valign=\"top\">OAP</th>\n",
       "      <th>BSUF</th>\n",
       "      <td>-5.484486</td>\n",
       "      <td>-9.888428</td>\n",
       "      <td>-145.414291</td>\n",
       "      <td>61.635513</td>\n",
       "      <td>598.579346</td>\n",
       "      <td>-2.569424</td>\n",
       "      <td>-27.746550</td>\n",
       "      <td>72.740891</td>\n",
       "      <td>107.973282</td>\n",
       "      <td>1810.401489</td>\n",
       "      <td>4816.266602</td>\n",
       "      <td>11186.562500</td>\n",
       "      <td>15852.775391</td>\n",
       "      <td>20770.382812</td>\n",
       "      <td>24056.412109</td>\n",
       "      <td>23987.316406</td>\n",
       "      <td>22440.328125</td>\n",
       "      <td>19080.250000</td>\n",
       "      <td>15240.095703</td>\n",
       "      <td>8298.606445</td>\n",
       "    </tr>\n",
       "    <tr>\n",
       "      <th>CHE</th>\n",
       "      <td>2.456810</td>\n",
       "      <td>7.943494</td>\n",
       "      <td>-110.876961</td>\n",
       "      <td>25.598200</td>\n",
       "      <td>533.327026</td>\n",
       "      <td>-29.910587</td>\n",
       "      <td>-29.806204</td>\n",
       "      <td>32.443451</td>\n",
       "      <td>15.004826</td>\n",
       "      <td>1266.989624</td>\n",
       "      <td>3784.985596</td>\n",
       "      <td>8272.390625</td>\n",
       "      <td>12201.799805</td>\n",
       "      <td>16853.367188</td>\n",
       "      <td>19649.812500</td>\n",
       "      <td>19700.138672</td>\n",
       "      <td>18235.365234</td>\n",
       "      <td>15363.193359</td>\n",
       "      <td>11833.248047</td>\n",
       "      <td>6383.076660</td>\n",
       "    </tr>\n",
       "    <tr>\n",
       "      <th rowspan=\"2\" valign=\"top\">SFB</th>\n",
       "      <th>BSUF</th>\n",
       "      <td>-0.968893</td>\n",
       "      <td>-2.584510</td>\n",
       "      <td>-53.231823</td>\n",
       "      <td>20.548948</td>\n",
       "      <td>220.215179</td>\n",
       "      <td>-1.542894</td>\n",
       "      <td>-10.530596</td>\n",
       "      <td>25.854286</td>\n",
       "      <td>37.041763</td>\n",
       "      <td>656.682251</td>\n",
       "      <td>1755.427002</td>\n",
       "      <td>4065.805908</td>\n",
       "      <td>5771.964355</td>\n",
       "      <td>7585.699707</td>\n",
       "      <td>8789.068359</td>\n",
       "      <td>8766.237305</td>\n",
       "      <td>8197.151367</td>\n",
       "      <td>6965.821777</td>\n",
       "      <td>5551.927246</td>\n",
       "      <td>3022.415283</td>\n",
       "    </tr>\n",
       "    <tr>\n",
       "      <th>CHE</th>\n",
       "      <td>6.975963</td>\n",
       "      <td>14.065204</td>\n",
       "      <td>-56.760666</td>\n",
       "      <td>-1.648409</td>\n",
       "      <td>309.744110</td>\n",
       "      <td>-28.174015</td>\n",
       "      <td>-18.226120</td>\n",
       "      <td>5.046189</td>\n",
       "      <td>-27.609840</td>\n",
       "      <td>585.230957</td>\n",
       "      <td>1967.473755</td>\n",
       "      <td>4055.883789</td>\n",
       "      <td>6221.390137</td>\n",
       "      <td>9020.082031</td>\n",
       "      <td>10576.403320</td>\n",
       "      <td>10653.318359</td>\n",
       "      <td>9774.263672</td>\n",
       "      <td>8169.068848</td>\n",
       "      <td>6085.078613</td>\n",
       "      <td>3254.897461</td>\n",
       "    </tr>\n",
       "    <tr>\n",
       "      <th rowspan=\"2\" valign=\"top\">SGB</th>\n",
       "      <th>BSUF</th>\n",
       "      <td>-1.744256</td>\n",
       "      <td>-3.504397</td>\n",
       "      <td>-77.444740</td>\n",
       "      <td>29.990992</td>\n",
       "      <td>324.569458</td>\n",
       "      <td>-2.857521</td>\n",
       "      <td>-13.151806</td>\n",
       "      <td>37.348942</td>\n",
       "      <td>52.098984</td>\n",
       "      <td>953.347168</td>\n",
       "      <td>2565.803467</td>\n",
       "      <td>5925.062988</td>\n",
       "      <td>8428.082031</td>\n",
       "      <td>11104.390625</td>\n",
       "      <td>12867.471680</td>\n",
       "      <td>12839.718750</td>\n",
       "      <td>11997.331055</td>\n",
       "      <td>10194.018555</td>\n",
       "      <td>8110.013184</td>\n",
       "      <td>4411.467285</td>\n",
       "    </tr>\n",
       "    <tr>\n",
       "      <th>CHE</th>\n",
       "      <td>2.090929</td>\n",
       "      <td>5.061502</td>\n",
       "      <td>-56.999886</td>\n",
       "      <td>11.244286</td>\n",
       "      <td>276.072754</td>\n",
       "      <td>-16.086643</td>\n",
       "      <td>-13.631971</td>\n",
       "      <td>15.750303</td>\n",
       "      <td>4.529050</td>\n",
       "      <td>640.737610</td>\n",
       "      <td>1934.303589</td>\n",
       "      <td>4207.979980</td>\n",
       "      <td>6225.786621</td>\n",
       "      <td>8638.094727</td>\n",
       "      <td>10073.312500</td>\n",
       "      <td>10105.269531</td>\n",
       "      <td>9345.362305</td>\n",
       "      <td>7870.705078</td>\n",
       "      <td>6042.613281</td>\n",
       "      <td>3256.337891</td>\n",
       "    </tr>\n",
       "    <tr>\n",
       "      <th rowspan=\"2\" valign=\"top\">SJB</th>\n",
       "      <th>BSUF</th>\n",
       "      <td>-0.740367</td>\n",
       "      <td>-1.686371</td>\n",
       "      <td>-42.077534</td>\n",
       "      <td>15.933920</td>\n",
       "      <td>177.131393</td>\n",
       "      <td>-2.021791</td>\n",
       "      <td>-7.685522</td>\n",
       "      <td>19.836365</td>\n",
       "      <td>26.772032</td>\n",
       "      <td>513.898499</td>\n",
       "      <td>1391.111816</td>\n",
       "      <td>3202.841553</td>\n",
       "      <td>4565.090820</td>\n",
       "      <td>6032.451660</td>\n",
       "      <td>6992.543457</td>\n",
       "      <td>6979.362305</td>\n",
       "      <td>6518.500488</td>\n",
       "      <td>5535.058594</td>\n",
       "      <td>4394.732910</td>\n",
       "      <td>2389.801025</td>\n",
       "    </tr>\n",
       "    <tr>\n",
       "      <th>CHE</th>\n",
       "      <td>4.001469</td>\n",
       "      <td>8.502715</td>\n",
       "      <td>-49.061676</td>\n",
       "      <td>3.778631</td>\n",
       "      <td>253.577530</td>\n",
       "      <td>-18.968668</td>\n",
       "      <td>-12.723200</td>\n",
       "      <td>9.334312</td>\n",
       "      <td>-11.505804</td>\n",
       "      <td>524.174683</td>\n",
       "      <td>1677.529663</td>\n",
       "      <td>3545.687500</td>\n",
       "      <td>5348.451660</td>\n",
       "      <td>7602.751953</td>\n",
       "      <td>8889.905273</td>\n",
       "      <td>8939.452148</td>\n",
       "      <td>8231.437500</td>\n",
       "      <td>6904.257324</td>\n",
       "      <td>5212.570312</td>\n",
       "      <td>2797.501465</td>\n",
       "    </tr>\n",
       "    <tr>\n",
       "      <th rowspan=\"2\" valign=\"top\">SMB</th>\n",
       "      <th>BSUF</th>\n",
       "      <td>-2.673324</td>\n",
       "      <td>-6.069169</td>\n",
       "      <td>-90.310112</td>\n",
       "      <td>37.012173</td>\n",
       "      <td>369.729218</td>\n",
       "      <td>-1.681117</td>\n",
       "      <td>-17.151976</td>\n",
       "      <td>44.276539</td>\n",
       "      <td>63.896141</td>\n",
       "      <td>1109.295410</td>\n",
       "      <td>2960.208008</td>\n",
       "      <td>6865.385254</td>\n",
       "      <td>9738.205078</td>\n",
       "      <td>12782.999023</td>\n",
       "      <td>14805.984375</td>\n",
       "      <td>14767.655273</td>\n",
       "      <td>13810.643555</td>\n",
       "      <td>11739.398438</td>\n",
       "      <td>9364.745117</td>\n",
       "      <td>5097.767090</td>\n",
       "    </tr>\n",
       "    <tr>\n",
       "      <th>CHE</th>\n",
       "      <td>3.249020</td>\n",
       "      <td>6.576526</td>\n",
       "      <td>-53.011383</td>\n",
       "      <td>7.103358</td>\n",
       "      <td>263.437744</td>\n",
       "      <td>-17.511181</td>\n",
       "      <td>-14.336872</td>\n",
       "      <td>12.091917</td>\n",
       "      <td>-5.027208</td>\n",
       "      <td>577.258484</td>\n",
       "      <td>1793.260620</td>\n",
       "      <td>3843.761963</td>\n",
       "      <td>5743.079590</td>\n",
       "      <td>8068.996094</td>\n",
       "      <td>9423.833984</td>\n",
       "      <td>9465.502930</td>\n",
       "      <td>8734.083008</td>\n",
       "      <td>7338.564941</td>\n",
       "      <td>5586.088379</td>\n",
       "      <td>3003.856445</td>\n",
       "    </tr>\n",
       "    <tr>\n",
       "      <th rowspan=\"2\" valign=\"top\">VAP</th>\n",
       "      <th>BSUF</th>\n",
       "      <td>-3.271985</td>\n",
       "      <td>-19.860682</td>\n",
       "      <td>-370.617340</td>\n",
       "      <td>144.046890</td>\n",
       "      <td>1503.036499</td>\n",
       "      <td>-1.477325</td>\n",
       "      <td>-65.628906</td>\n",
       "      <td>190.569489</td>\n",
       "      <td>283.284485</td>\n",
       "      <td>4609.600586</td>\n",
       "      <td>12151.635742</td>\n",
       "      <td>28357.263672</td>\n",
       "      <td>40056.914062</td>\n",
       "      <td>52305.949219</td>\n",
       "      <td>60546.554688</td>\n",
       "      <td>60344.386719</td>\n",
       "      <td>56509.117188</td>\n",
       "      <td>48086.320312</td>\n",
       "      <td>38492.949219</td>\n",
       "      <td>20982.824219</td>\n",
       "    </tr>\n",
       "    <tr>\n",
       "      <th>CHE</th>\n",
       "      <td>17.622568</td>\n",
       "      <td>26.072376</td>\n",
       "      <td>-225.247696</td>\n",
       "      <td>32.219738</td>\n",
       "      <td>1077.469604</td>\n",
       "      <td>-58.762928</td>\n",
       "      <td>-54.617683</td>\n",
       "      <td>68.563141</td>\n",
       "      <td>25.552013</td>\n",
       "      <td>2556.627686</td>\n",
       "      <td>7597.104492</td>\n",
       "      <td>16642.242188</td>\n",
       "      <td>24503.505859</td>\n",
       "      <td>33826.410156</td>\n",
       "      <td>39427.253906</td>\n",
       "      <td>39520.988281</td>\n",
       "      <td>36604.242188</td>\n",
       "      <td>30852.398438</td>\n",
       "      <td>23766.214844</td>\n",
       "      <td>12831.094727</td>\n",
       "    </tr>\n",
       "  </tbody>\n",
       "</table>\n",
       "</div>"
      ],
      "text/plain": [
       "                    0          1           2           3            4   \\\n",
       "Ranch Class                                                              \n",
       "OAP   BSUF   -5.484486  -9.888428 -145.414291   61.635513   598.579346   \n",
       "      CHE     2.456810   7.943494 -110.876961   25.598200   533.327026   \n",
       "SFB   BSUF   -0.968893  -2.584510  -53.231823   20.548948   220.215179   \n",
       "      CHE     6.975963  14.065204  -56.760666   -1.648409   309.744110   \n",
       "SGB   BSUF   -1.744256  -3.504397  -77.444740   29.990992   324.569458   \n",
       "      CHE     2.090929   5.061502  -56.999886   11.244286   276.072754   \n",
       "SJB   BSUF   -0.740367  -1.686371  -42.077534   15.933920   177.131393   \n",
       "      CHE     4.001469   8.502715  -49.061676    3.778631   253.577530   \n",
       "SMB   BSUF   -2.673324  -6.069169  -90.310112   37.012173   369.729218   \n",
       "      CHE     3.249020   6.576526  -53.011383    7.103358   263.437744   \n",
       "VAP   BSUF   -3.271985 -19.860682 -370.617340  144.046890  1503.036499   \n",
       "      CHE    17.622568  26.072376 -225.247696   32.219738  1077.469604   \n",
       "\n",
       "                    5          6           7           8            9   \\\n",
       "Ranch Class                                                              \n",
       "OAP   BSUF   -2.569424 -27.746550   72.740891  107.973282  1810.401489   \n",
       "      CHE   -29.910587 -29.806204   32.443451   15.004826  1266.989624   \n",
       "SFB   BSUF   -1.542894 -10.530596   25.854286   37.041763   656.682251   \n",
       "      CHE   -28.174015 -18.226120    5.046189  -27.609840   585.230957   \n",
       "SGB   BSUF   -2.857521 -13.151806   37.348942   52.098984   953.347168   \n",
       "      CHE   -16.086643 -13.631971   15.750303    4.529050   640.737610   \n",
       "SJB   BSUF   -2.021791  -7.685522   19.836365   26.772032   513.898499   \n",
       "      CHE   -18.968668 -12.723200    9.334312  -11.505804   524.174683   \n",
       "SMB   BSUF   -1.681117 -17.151976   44.276539   63.896141  1109.295410   \n",
       "      CHE   -17.511181 -14.336872   12.091917   -5.027208   577.258484   \n",
       "VAP   BSUF   -1.477325 -65.628906  190.569489  283.284485  4609.600586   \n",
       "      CHE   -58.762928 -54.617683   68.563141   25.552013  2556.627686   \n",
       "\n",
       "                       10            11            12            13  \\\n",
       "Ranch Class                                                           \n",
       "OAP   BSUF    4816.266602  11186.562500  15852.775391  20770.382812   \n",
       "      CHE     3784.985596   8272.390625  12201.799805  16853.367188   \n",
       "SFB   BSUF    1755.427002   4065.805908   5771.964355   7585.699707   \n",
       "      CHE     1967.473755   4055.883789   6221.390137   9020.082031   \n",
       "SGB   BSUF    2565.803467   5925.062988   8428.082031  11104.390625   \n",
       "      CHE     1934.303589   4207.979980   6225.786621   8638.094727   \n",
       "SJB   BSUF    1391.111816   3202.841553   4565.090820   6032.451660   \n",
       "      CHE     1677.529663   3545.687500   5348.451660   7602.751953   \n",
       "SMB   BSUF    2960.208008   6865.385254   9738.205078  12782.999023   \n",
       "      CHE     1793.260620   3843.761963   5743.079590   8068.996094   \n",
       "VAP   BSUF   12151.635742  28357.263672  40056.914062  52305.949219   \n",
       "      CHE     7597.104492  16642.242188  24503.505859  33826.410156   \n",
       "\n",
       "                       14            15            16            17  \\\n",
       "Ranch Class                                                           \n",
       "OAP   BSUF   24056.412109  23987.316406  22440.328125  19080.250000   \n",
       "      CHE    19649.812500  19700.138672  18235.365234  15363.193359   \n",
       "SFB   BSUF    8789.068359   8766.237305   8197.151367   6965.821777   \n",
       "      CHE    10576.403320  10653.318359   9774.263672   8169.068848   \n",
       "SGB   BSUF   12867.471680  12839.718750  11997.331055  10194.018555   \n",
       "      CHE    10073.312500  10105.269531   9345.362305   7870.705078   \n",
       "SJB   BSUF    6992.543457   6979.362305   6518.500488   5535.058594   \n",
       "      CHE     8889.905273   8939.452148   8231.437500   6904.257324   \n",
       "SMB   BSUF   14805.984375  14767.655273  13810.643555  11739.398438   \n",
       "      CHE     9423.833984   9465.502930   8734.083008   7338.564941   \n",
       "VAP   BSUF   60546.554688  60344.386719  56509.117188  48086.320312   \n",
       "      CHE    39427.253906  39520.988281  36604.242188  30852.398438   \n",
       "\n",
       "                       18            19  \n",
       "Ranch Class                              \n",
       "OAP   BSUF   15240.095703   8298.606445  \n",
       "      CHE    11833.248047   6383.076660  \n",
       "SFB   BSUF    5551.927246   3022.415283  \n",
       "      CHE     6085.078613   3254.897461  \n",
       "SGB   BSUF    8110.013184   4411.467285  \n",
       "      CHE     6042.613281   3256.337891  \n",
       "SJB   BSUF    4394.732910   2389.801025  \n",
       "      CHE     5212.570312   2797.501465  \n",
       "SMB   BSUF    9364.745117   5097.767090  \n",
       "      CHE     5586.088379   3003.856445  \n",
       "VAP   BSUF   38492.949219  20982.824219  \n",
       "      CHE    23766.214844  12831.094727  "
      ]
     },
     "execution_count": 11,
     "metadata": {},
     "output_type": "execute_result"
    }
   ],
   "source": [
    "d[title]"
   ]
  },
  {
   "cell_type": "code",
   "execution_count": 12,
   "metadata": {},
   "outputs": [],
   "source": [
    "df = d[title].T"
   ]
  },
  {
   "cell_type": "code",
   "execution_count": 13,
   "metadata": {},
   "outputs": [],
   "source": [
    "af = d['actuals_summed'].T"
   ]
  },
  {
   "cell_type": "code",
   "execution_count": 14,
   "metadata": {},
   "outputs": [
    {
     "data": {
      "text/html": [
       "<div>\n",
       "<style scoped>\n",
       "    .dataframe tbody tr th:only-of-type {\n",
       "        vertical-align: middle;\n",
       "    }\n",
       "\n",
       "    .dataframe tbody tr th {\n",
       "        vertical-align: top;\n",
       "    }\n",
       "\n",
       "    .dataframe thead tr th {\n",
       "        text-align: left;\n",
       "    }\n",
       "</style>\n",
       "<table border=\"1\" class=\"dataframe\">\n",
       "  <thead>\n",
       "    <tr>\n",
       "      <th>Ranch</th>\n",
       "      <th colspan=\"2\" halign=\"left\">OAP</th>\n",
       "      <th colspan=\"2\" halign=\"left\">SFB</th>\n",
       "      <th colspan=\"2\" halign=\"left\">SGB</th>\n",
       "      <th colspan=\"2\" halign=\"left\">SJB</th>\n",
       "      <th colspan=\"2\" halign=\"left\">SMB</th>\n",
       "      <th colspan=\"2\" halign=\"left\">VAP</th>\n",
       "    </tr>\n",
       "    <tr>\n",
       "      <th>Class</th>\n",
       "      <th>BSUF</th>\n",
       "      <th>CHE</th>\n",
       "      <th>BSUF</th>\n",
       "      <th>CHE</th>\n",
       "      <th>BSUF</th>\n",
       "      <th>CHE</th>\n",
       "      <th>BSUF</th>\n",
       "      <th>CHE</th>\n",
       "      <th>BSUF</th>\n",
       "      <th>CHE</th>\n",
       "      <th>BSUF</th>\n",
       "      <th>CHE</th>\n",
       "    </tr>\n",
       "  </thead>\n",
       "  <tbody>\n",
       "    <tr>\n",
       "      <th>0</th>\n",
       "      <td>0.0</td>\n",
       "      <td>0.0</td>\n",
       "      <td>0.0</td>\n",
       "      <td>0.0</td>\n",
       "      <td>0.0</td>\n",
       "      <td>0.0</td>\n",
       "      <td>0.0</td>\n",
       "      <td>0.0</td>\n",
       "      <td>0.0</td>\n",
       "      <td>0.0</td>\n",
       "      <td>0.0</td>\n",
       "      <td>0.0</td>\n",
       "    </tr>\n",
       "    <tr>\n",
       "      <th>1</th>\n",
       "      <td>0.0</td>\n",
       "      <td>0.0</td>\n",
       "      <td>0.0</td>\n",
       "      <td>0.0</td>\n",
       "      <td>0.0</td>\n",
       "      <td>0.0</td>\n",
       "      <td>0.0</td>\n",
       "      <td>0.0</td>\n",
       "      <td>0.0</td>\n",
       "      <td>0.0</td>\n",
       "      <td>0.0</td>\n",
       "      <td>0.0</td>\n",
       "    </tr>\n",
       "    <tr>\n",
       "      <th>2</th>\n",
       "      <td>0.0</td>\n",
       "      <td>0.0</td>\n",
       "      <td>0.0</td>\n",
       "      <td>0.0</td>\n",
       "      <td>0.0</td>\n",
       "      <td>0.0</td>\n",
       "      <td>0.0</td>\n",
       "      <td>0.0</td>\n",
       "      <td>0.0</td>\n",
       "      <td>0.0</td>\n",
       "      <td>0.0</td>\n",
       "      <td>0.0</td>\n",
       "    </tr>\n",
       "    <tr>\n",
       "      <th>3</th>\n",
       "      <td>0.0</td>\n",
       "      <td>0.0</td>\n",
       "      <td>0.0</td>\n",
       "      <td>0.0</td>\n",
       "      <td>0.0</td>\n",
       "      <td>0.0</td>\n",
       "      <td>0.0</td>\n",
       "      <td>0.0</td>\n",
       "      <td>0.0</td>\n",
       "      <td>0.0</td>\n",
       "      <td>0.0</td>\n",
       "      <td>0.0</td>\n",
       "    </tr>\n",
       "    <tr>\n",
       "      <th>4</th>\n",
       "      <td>0.0</td>\n",
       "      <td>0.0</td>\n",
       "      <td>0.0</td>\n",
       "      <td>0.0</td>\n",
       "      <td>0.0</td>\n",
       "      <td>0.0</td>\n",
       "      <td>0.0</td>\n",
       "      <td>0.0</td>\n",
       "      <td>0.0</td>\n",
       "      <td>0.0</td>\n",
       "      <td>0.0</td>\n",
       "      <td>0.0</td>\n",
       "    </tr>\n",
       "    <tr>\n",
       "      <th>5</th>\n",
       "      <td>0.0</td>\n",
       "      <td>0.0</td>\n",
       "      <td>129.0</td>\n",
       "      <td>213.0</td>\n",
       "      <td>0.0</td>\n",
       "      <td>0.0</td>\n",
       "      <td>0.0</td>\n",
       "      <td>0.0</td>\n",
       "      <td>0.0</td>\n",
       "      <td>0.0</td>\n",
       "      <td>0.0</td>\n",
       "      <td>0.0</td>\n",
       "    </tr>\n",
       "    <tr>\n",
       "      <th>6</th>\n",
       "      <td>247.0</td>\n",
       "      <td>0.0</td>\n",
       "      <td>0.0</td>\n",
       "      <td>1333.0</td>\n",
       "      <td>0.0</td>\n",
       "      <td>0.0</td>\n",
       "      <td>0.0</td>\n",
       "      <td>0.0</td>\n",
       "      <td>0.0</td>\n",
       "      <td>0.0</td>\n",
       "      <td>0.0</td>\n",
       "      <td>0.0</td>\n",
       "    </tr>\n",
       "    <tr>\n",
       "      <th>7</th>\n",
       "      <td>0.0</td>\n",
       "      <td>0.0</td>\n",
       "      <td>852.0</td>\n",
       "      <td>883.0</td>\n",
       "      <td>33.0</td>\n",
       "      <td>0.0</td>\n",
       "      <td>0.0</td>\n",
       "      <td>0.0</td>\n",
       "      <td>0.0</td>\n",
       "      <td>0.0</td>\n",
       "      <td>0.0</td>\n",
       "      <td>0.0</td>\n",
       "    </tr>\n",
       "    <tr>\n",
       "      <th>8</th>\n",
       "      <td>0.0</td>\n",
       "      <td>796.0</td>\n",
       "      <td>2724.0</td>\n",
       "      <td>2004.0</td>\n",
       "      <td>116.0</td>\n",
       "      <td>36.0</td>\n",
       "      <td>1482.0</td>\n",
       "      <td>507.0</td>\n",
       "      <td>480.0</td>\n",
       "      <td>0.0</td>\n",
       "      <td>24.0</td>\n",
       "      <td>0.0</td>\n",
       "    </tr>\n",
       "    <tr>\n",
       "      <th>9</th>\n",
       "      <td>1280.0</td>\n",
       "      <td>2267.0</td>\n",
       "      <td>0.0</td>\n",
       "      <td>0.0</td>\n",
       "      <td>307.0</td>\n",
       "      <td>108.0</td>\n",
       "      <td>4236.0</td>\n",
       "      <td>742.0</td>\n",
       "      <td>0.0</td>\n",
       "      <td>1023.0</td>\n",
       "      <td>587.0</td>\n",
       "      <td>40.0</td>\n",
       "    </tr>\n",
       "    <tr>\n",
       "      <th>10</th>\n",
       "      <td>7385.0</td>\n",
       "      <td>8092.0</td>\n",
       "      <td>1261.0</td>\n",
       "      <td>470.0</td>\n",
       "      <td>1513.0</td>\n",
       "      <td>471.0</td>\n",
       "      <td>5472.0</td>\n",
       "      <td>1671.0</td>\n",
       "      <td>3236.0</td>\n",
       "      <td>3443.0</td>\n",
       "      <td>4292.0</td>\n",
       "      <td>2283.0</td>\n",
       "    </tr>\n",
       "    <tr>\n",
       "      <th>11</th>\n",
       "      <td>18731.0</td>\n",
       "      <td>12703.0</td>\n",
       "      <td>726.0</td>\n",
       "      <td>624.0</td>\n",
       "      <td>2223.0</td>\n",
       "      <td>1097.0</td>\n",
       "      <td>7925.0</td>\n",
       "      <td>5822.0</td>\n",
       "      <td>6670.0</td>\n",
       "      <td>5855.0</td>\n",
       "      <td>10141.0</td>\n",
       "      <td>3014.0</td>\n",
       "    </tr>\n",
       "    <tr>\n",
       "      <th>12</th>\n",
       "      <td>25271.0</td>\n",
       "      <td>21517.0</td>\n",
       "      <td>3146.0</td>\n",
       "      <td>1476.0</td>\n",
       "      <td>6290.0</td>\n",
       "      <td>2079.0</td>\n",
       "      <td>8861.0</td>\n",
       "      <td>6039.0</td>\n",
       "      <td>13066.0</td>\n",
       "      <td>7161.0</td>\n",
       "      <td>11268.0</td>\n",
       "      <td>8268.0</td>\n",
       "    </tr>\n",
       "    <tr>\n",
       "      <th>13</th>\n",
       "      <td>25938.0</td>\n",
       "      <td>20780.0</td>\n",
       "      <td>7817.0</td>\n",
       "      <td>1531.0</td>\n",
       "      <td>5475.0</td>\n",
       "      <td>5314.0</td>\n",
       "      <td>6686.0</td>\n",
       "      <td>3924.0</td>\n",
       "      <td>14370.0</td>\n",
       "      <td>8003.0</td>\n",
       "      <td>27651.0</td>\n",
       "      <td>12951.0</td>\n",
       "    </tr>\n",
       "    <tr>\n",
       "      <th>14</th>\n",
       "      <td>30949.0</td>\n",
       "      <td>20929.0</td>\n",
       "      <td>10482.0</td>\n",
       "      <td>4268.0</td>\n",
       "      <td>13021.0</td>\n",
       "      <td>6126.0</td>\n",
       "      <td>7671.0</td>\n",
       "      <td>2597.0</td>\n",
       "      <td>11039.0</td>\n",
       "      <td>10300.0</td>\n",
       "      <td>57526.0</td>\n",
       "      <td>21938.0</td>\n",
       "    </tr>\n",
       "    <tr>\n",
       "      <th>15</th>\n",
       "      <td>32539.0</td>\n",
       "      <td>15468.0</td>\n",
       "      <td>19272.0</td>\n",
       "      <td>6402.0</td>\n",
       "      <td>8873.0</td>\n",
       "      <td>7149.0</td>\n",
       "      <td>8114.0</td>\n",
       "      <td>4681.0</td>\n",
       "      <td>5944.0</td>\n",
       "      <td>6524.0</td>\n",
       "      <td>28505.0</td>\n",
       "      <td>23379.0</td>\n",
       "    </tr>\n",
       "    <tr>\n",
       "      <th>16</th>\n",
       "      <td>22353.0</td>\n",
       "      <td>18699.0</td>\n",
       "      <td>14579.0</td>\n",
       "      <td>6340.0</td>\n",
       "      <td>9305.0</td>\n",
       "      <td>5984.0</td>\n",
       "      <td>4190.0</td>\n",
       "      <td>3747.0</td>\n",
       "      <td>2399.0</td>\n",
       "      <td>2888.0</td>\n",
       "      <td>35783.0</td>\n",
       "      <td>28990.0</td>\n",
       "    </tr>\n",
       "    <tr>\n",
       "      <th>17</th>\n",
       "      <td>15831.0</td>\n",
       "      <td>13833.0</td>\n",
       "      <td>10325.0</td>\n",
       "      <td>4926.0</td>\n",
       "      <td>10036.0</td>\n",
       "      <td>6390.0</td>\n",
       "      <td>3624.0</td>\n",
       "      <td>3036.0</td>\n",
       "      <td>710.0</td>\n",
       "      <td>1185.0</td>\n",
       "      <td>35544.0</td>\n",
       "      <td>30833.0</td>\n",
       "    </tr>\n",
       "    <tr>\n",
       "      <th>18</th>\n",
       "      <td>21066.0</td>\n",
       "      <td>8567.0</td>\n",
       "      <td>4596.0</td>\n",
       "      <td>6382.0</td>\n",
       "      <td>1758.0</td>\n",
       "      <td>2642.0</td>\n",
       "      <td>1331.0</td>\n",
       "      <td>2483.0</td>\n",
       "      <td>869.0</td>\n",
       "      <td>2180.0</td>\n",
       "      <td>39197.0</td>\n",
       "      <td>33812.0</td>\n",
       "    </tr>\n",
       "    <tr>\n",
       "      <th>19</th>\n",
       "      <td>12352.0</td>\n",
       "      <td>4687.0</td>\n",
       "      <td>2564.0</td>\n",
       "      <td>2066.0</td>\n",
       "      <td>2074.0</td>\n",
       "      <td>832.0</td>\n",
       "      <td>460.0</td>\n",
       "      <td>1238.0</td>\n",
       "      <td>715.0</td>\n",
       "      <td>2236.0</td>\n",
       "      <td>41522.0</td>\n",
       "      <td>30767.0</td>\n",
       "    </tr>\n",
       "  </tbody>\n",
       "</table>\n",
       "</div>"
      ],
      "text/plain": [
       "Ranch      OAP               SFB              SGB             SJB          \\\n",
       "Class     BSUF      CHE     BSUF     CHE     BSUF     CHE    BSUF     CHE   \n",
       "0          0.0      0.0      0.0     0.0      0.0     0.0     0.0     0.0   \n",
       "1          0.0      0.0      0.0     0.0      0.0     0.0     0.0     0.0   \n",
       "2          0.0      0.0      0.0     0.0      0.0     0.0     0.0     0.0   \n",
       "3          0.0      0.0      0.0     0.0      0.0     0.0     0.0     0.0   \n",
       "4          0.0      0.0      0.0     0.0      0.0     0.0     0.0     0.0   \n",
       "5          0.0      0.0    129.0   213.0      0.0     0.0     0.0     0.0   \n",
       "6        247.0      0.0      0.0  1333.0      0.0     0.0     0.0     0.0   \n",
       "7          0.0      0.0    852.0   883.0     33.0     0.0     0.0     0.0   \n",
       "8          0.0    796.0   2724.0  2004.0    116.0    36.0  1482.0   507.0   \n",
       "9       1280.0   2267.0      0.0     0.0    307.0   108.0  4236.0   742.0   \n",
       "10      7385.0   8092.0   1261.0   470.0   1513.0   471.0  5472.0  1671.0   \n",
       "11     18731.0  12703.0    726.0   624.0   2223.0  1097.0  7925.0  5822.0   \n",
       "12     25271.0  21517.0   3146.0  1476.0   6290.0  2079.0  8861.0  6039.0   \n",
       "13     25938.0  20780.0   7817.0  1531.0   5475.0  5314.0  6686.0  3924.0   \n",
       "14     30949.0  20929.0  10482.0  4268.0  13021.0  6126.0  7671.0  2597.0   \n",
       "15     32539.0  15468.0  19272.0  6402.0   8873.0  7149.0  8114.0  4681.0   \n",
       "16     22353.0  18699.0  14579.0  6340.0   9305.0  5984.0  4190.0  3747.0   \n",
       "17     15831.0  13833.0  10325.0  4926.0  10036.0  6390.0  3624.0  3036.0   \n",
       "18     21066.0   8567.0   4596.0  6382.0   1758.0  2642.0  1331.0  2483.0   \n",
       "19     12352.0   4687.0   2564.0  2066.0   2074.0   832.0   460.0  1238.0   \n",
       "\n",
       "Ranch      SMB               VAP           \n",
       "Class     BSUF      CHE     BSUF      CHE  \n",
       "0          0.0      0.0      0.0      0.0  \n",
       "1          0.0      0.0      0.0      0.0  \n",
       "2          0.0      0.0      0.0      0.0  \n",
       "3          0.0      0.0      0.0      0.0  \n",
       "4          0.0      0.0      0.0      0.0  \n",
       "5          0.0      0.0      0.0      0.0  \n",
       "6          0.0      0.0      0.0      0.0  \n",
       "7          0.0      0.0      0.0      0.0  \n",
       "8        480.0      0.0     24.0      0.0  \n",
       "9          0.0   1023.0    587.0     40.0  \n",
       "10      3236.0   3443.0   4292.0   2283.0  \n",
       "11      6670.0   5855.0  10141.0   3014.0  \n",
       "12     13066.0   7161.0  11268.0   8268.0  \n",
       "13     14370.0   8003.0  27651.0  12951.0  \n",
       "14     11039.0  10300.0  57526.0  21938.0  \n",
       "15      5944.0   6524.0  28505.0  23379.0  \n",
       "16      2399.0   2888.0  35783.0  28990.0  \n",
       "17       710.0   1185.0  35544.0  30833.0  \n",
       "18       869.0   2180.0  39197.0  33812.0  \n",
       "19       715.0   2236.0  41522.0  30767.0  "
      ]
     },
     "execution_count": 14,
     "metadata": {},
     "output_type": "execute_result"
    }
   ],
   "source": [
    "af"
   ]
  },
  {
   "cell_type": "code",
   "execution_count": 15,
   "metadata": {},
   "outputs": [
    {
     "data": {
      "application/vnd.plotly.v1+json": {
       "config": {
        "plotlyServerURL": "https://plot.ly"
       },
       "data": [
        {
         "line": {
          "color": "rgb(68, 1, 84)"
         },
         "name": "OAP: BSUF Predicted",
         "type": "scatter",
         "x": {
          "bdata": "AAECAwQFBgcICQoLDA0ODxAREhM=",
          "dtype": "i1"
         },
         "y": {
          "bdata": "6YCvwAA3HsEPahHDxIp2QhSlFURwcSTA7/jdwVZ7kUJS8tdC2UziRCKClkVAyi5GGrN3RsREokbT8LtGoma7RqhQr0aAEJVGYiBuRm2qAUY=",
          "dtype": "f4"
         }
        },
        {
         "marker": {
          "color": "rgb(68, 1, 84)"
         },
         "name": "OAP: BSUF Actual",
         "opacity": 0.75,
         "type": "bar",
         "x": {
          "bdata": "AAECAwQFBgcICQoLDA0ODxAREhM=",
          "dtype": "i1"
         },
         "y": {
          "bdata": "AAAAAAAAAAAAAAAAAAAAAAAAAAAAAAAAAAB3QwAAAAAAAAAAAACgRADI5kUAVpJGAG7FRgCkykYAyvFGADb+RgCirkYAXHdGAJSkRgAAQUY=",
          "dtype": "f4"
         }
        },
        {
         "line": {
          "color": "rgb(71, 33, 113)"
         },
         "name": "OAP: CHE Predicted",
         "type": "scatter",
         "x": {
          "bdata": "AAECAwQFBgcICQoLDA0ODxAREhM=",
          "dtype": "i1"
         },
         "y": {
          "bdata": "YjwdQBox/kABwd3CHcnMQe5UBUTiSO/BG3PuwRjGAULEE3BBq1+eRMWPbEWQQQFGM6c+Rryqg0agg5lGR+iZRrt2jkbGDHBG/uQ4Rp14x0U=",
          "dtype": "f4"
         }
        },
        {
         "marker": {
          "color": "rgb(71, 33, 113)"
         },
         "name": "OAP: CHE Actual",
         "opacity": 0.75,
         "type": "bar",
         "x": {
          "bdata": "AAECAwQFBgcICQoLDA0ODxAREhM=",
          "dtype": "i1"
         },
         "y": {
          "bdata": "AAAAAAAAAAAAAAAAAAAAAAAAAAAAAAAAAAAAAAAAAAAAAEdEALANRQDg/EUAfEZGABqoRgBYokYAgqNGALBxRgAWkkYAJFhGANwFRgB4kkU=",
          "dtype": "f4"
         }
        },
        {
         "line": {
          "color": "rgb(66, 61, 131)"
         },
         "name": "SFB: BSUF Predicted",
         "type": "scatter",
         "x": {
          "bdata": "AAECAwQFBgcICQoLDA0ODxAREhM=",
          "dtype": "i1"
         },
         "y": {
          "bdata": "ZAl4v5toJcBj7VTCP2SkQRY3XEOOfcW/Un0owZTVzkHEKhRCqiskRKpt20TlHH5Ft1+0RZkN7UVGVAlG8/gIRpsUAEaTrtlFa3+tRaXmPEU=",
          "dtype": "f4"
         }
        },
        {
         "marker": {
          "color": "rgb(66, 61, 131)"
         },
         "name": "SFB: BSUF Actual",
         "opacity": 0.75,
         "type": "bar",
         "x": {
          "bdata": "AAECAwQFBgcICQoLDA0ODxAREhM=",
          "dtype": "i1"
         },
         "y": {
          "bdata": "AAAAAAAAAAAAAAAAAAAAAAAAAAAAAAFDAAAAAAAAVUQAQCpFAAAAAACgnUQAgDVEAKBERQBI9EUAyCNGAJCWRgDMY0YAVCFGAKCPRQBAIEU=",
          "dtype": "f4"
         }
        },
        {
         "line": {
          "color": "rgb(56, 87, 139)"
         },
         "name": "SFB: CHE Predicted",
         "type": "scatter",
         "x": {
          "bdata": "AAECAwQFBgcICQoLDA0ODxAREhM=",
          "dtype": "i1"
         },
         "y": {
          "bdata": "FjvfQBMLYUHsCmPCFP/Svz/fmkNiZOHBGM+RwWJ6oUD04NzByE4SRCnv9UQkfn1FH2vCRVTwDEadQSVGRnUmRg65GEaNSP9FoSi+RVxuS0U=",
          "dtype": "f4"
         }
        },
        {
         "marker": {
          "color": "rgb(56, 87, 139)"
         },
         "name": "SFB: CHE Actual",
         "opacity": 0.75,
         "type": "bar",
         "x": {
          "bdata": "AAECAwQFBgcICQoLDA0ODxAREhM=",
          "dtype": "i1"
         },
         "y": {
          "bdata": "AAAAAAAAAAAAAAAAAAAAAAAAAAAAAFVDAKCmRADAXEQAgPpEAAAAAAAA60MAABxEAIC4RABgv0QAYIVFABDIRQAgxkUA8JlFAHDHRQAgAUU=",
          "dtype": "f4"
         }
        },
        {
         "line": {
          "color": "rgb(46, 111, 142)"
         },
         "name": "SGB: BSUF Predicted",
         "type": "scatter",
         "x": {
          "bdata": "AAECAwQFBgcICQoLDA0ODxAREhM=",
          "dtype": "i1"
         },
         "y": {
          "bdata": "zEPfvwlIYMC145rCje3vQeRIokOh4TbAzG1SwVFlFUJcZVBCOFZuRNtcIEWBKLlFVLADRpCBLUbjDUlG4J5IRlN1O0YTSB9GG3D9Rb3biUU=",
          "dtype": "f4"
         }
        },
        {
         "marker": {
          "color": "rgb(46, 111, 142)"
         },
         "name": "SGB: BSUF Actual",
         "opacity": 0.75,
         "type": "bar",
         "x": {
          "bdata": "AAECAwQFBgcICQoLDA0ODxAREhM=",
          "dtype": "i1"
         },
         "y": {
          "bdata": "AAAAAAAAAAAAAAAAAAAAAAAAAAAAAAAAAAAAAAAABEIAAOhCAICZQwAgvUQA8ApFAJDERQAYq0UAdEtGAKQKRgBkEUYA0BxGAMDbRACgAUU=",
          "dtype": "f4"
         }
        },
        {
         "line": {
          "color": "rgb(37, 133, 142)"
         },
         "name": "SGB: CHE Predicted",
         "type": "scatter",
         "x": {
          "bdata": "AAECAwQFBgcICQoLDA0ODxAREhM=",
          "dtype": "i1"
         },
         "y": {
          "bdata": "yNEFQNL3oUDi/2PCmOgzQVAJikNysYDBjhxawT4BfEH77ZBANS8gRLfJ8UTXf4NFS47CRWH4BkZAZR1GFOUdRnMFEkak9fVF6NS8RWiFS0U=",
          "dtype": "f4"
         }
        },
        {
         "marker": {
          "color": "rgb(37, 133, 142)"
         },
         "name": "SGB: CHE Actual",
         "opacity": 0.75,
         "type": "bar",
         "x": {
          "bdata": "AAECAwQFBgcICQoLDA0ODxAREhM=",
          "dtype": "i1"
         },
         "y": {
          "bdata": "AAAAAAAAAAAAAAAAAAAAAAAAAAAAAAAAAAAAAAAAAAAAABBCAADYQgCA60MAIIlEAPABRQAQpkUAcL9FAGjfRQAAu0UAsMdFACAlRQAAUEQ=",
          "dtype": "f4"
         }
        },
        {
         "line": {
          "color": "rgb(32, 155, 137)"
         },
         "name": "SJB: BSUF Predicted",
         "type": "scatter",
         "x": {
          "bdata": "AAECAwQFBgcICQoLDA0ODxAREhM=",
          "dtype": "i1"
         },
         "y": {
          "bdata": "rog9vwDb179lTyjCVvF+QaMhMUMEZQHAzO/1wOCwnkEfLdZBgXkARJTjrUR3LUhFuqiORZ2DvEVZhNpF5hraRQG0y0V4+KxF3VWJRdFcFUU=",
          "dtype": "f4"
         }
        },
        {
         "marker": {
          "color": "rgb(32, 155, 137)"
         },
         "name": "SJB: BSUF Actual",
         "opacity": 0.75,
         "type": "bar",
         "x": {
          "bdata": "AAECAwQFBgcICQoLDA0ODxAREhM=",
          "dtype": "i1"
         },
         "y": {
          "bdata": "AAAAAAAAAAAAAAAAAAAAAAAAAAAAAAAAAAAAAAAAAAAAQLlEAGCERQAAq0UAqPdFAHQKRgDw0EUAuO9FAJD9RQDwgkUAgGJFAGCmRAAA5kM=",
          "dtype": "f4"
         }
        },
        {
         "line": {
          "color": "rgb(47, 176, 125)"
         },
         "name": "SJB: CHE Predicted",
         "type": "scatter",
         "x": {
          "bdata": "AAECAwQFBgcICQoLDA0ODxAREhM=",
          "dtype": "i1"
         },
         "y": {
          "bdata": "CAyAQB8LCEEoP0TCFtVxQNmTfUPVv5fBOpJLwVhZFUHGFzjBLgsDRPOw0UQAm11FnSOnRQSW7UWf5wpGz60LRsCdAEYPwtdFkOSiRQbYLkU=",
          "dtype": "f4"
         }
        },
        {
         "marker": {
          "color": "rgb(47, 176, 125)"
         },
         "name": "SJB: CHE Actual",
         "opacity": 0.75,
         "type": "bar",
         "x": {
          "bdata": "AAECAwQFBgcICQoLDA0ODxAREhM=",
          "dtype": "i1"
         },
         "y": {
          "bdata": "AAAAAAAAAAAAAAAAAAAAAAAAAAAAAAAAAAAAAAAAAAAAgP1DAIA5RADg0EQA8LVFALi8RQBAdUUAUCJFAEiSRQAwakUAwD1FADAbRQDAmkQ=",
          "dtype": "f4"
         }
        },
        {
         "line": {
          "color": "rgb(84, 196, 103)"
         },
         "name": "SMB: BSUF Predicted",
         "type": "scatter",
         "x": {
          "bdata": "AAECAwQFBgcICQoLDA0ODxAREhM=",
          "dtype": "i1"
         },
         "y": {
          "bdata": "vBcrwKE2wsDHnrTCdwwUQlfduEPXLte/PzeJwS0bMUKmlX9CdKmKRFQDOUUVi9ZF0igYRv+7R0bwV2dGn75mRpPKV0aYbTdG+1ISRiNOn0U=",
          "dtype": "f4"
         }
        },
        {
         "marker": {
          "color": "rgb(84, 196, 103)"
         },
         "name": "SMB: BSUF Actual",
         "opacity": 0.75,
         "type": "bar",
         "x": {
          "bdata": "AAECAwQFBgcICQoLDA0ODxAREhM=",
          "dtype": "i1"
         },
         "y": {
          "bdata": "AAAAAAAAAAAAAAAAAAAAAAAAAAAAAAAAAAAAAAAAAAAAAPBDAAAAAABASkUAcNBFAChMRgCIYEYAfCxGAMC5RQDwFUUAgDFEAEBZRADAMkQ=",
          "dtype": "f4"
         }
        },
        {
         "line": {
          "color": "rgb(136, 212, 72)"
         },
         "name": "SMB: CHE Predicted",
         "type": "scatter",
         "x": {
          "bdata": "AAECAwQFBgcICQoLDA0ODxAREhM=",
          "dtype": "i1"
         },
         "y": {
          "bdata": "8+9PQOZy0kCoC1TCtU7jQAi4g0PmFozB1GNlwX54QUHk3qDAi1AQRFco4EQxPHBFo3izRfgn/EVWPxNGA+YTRlV4CEaFVOVFtZCuRbS9O0U=",
          "dtype": "f4"
         }
        },
        {
         "marker": {
          "color": "rgb(136, 212, 72)"
         },
         "name": "SMB: CHE Actual",
         "opacity": 0.75,
         "type": "bar",
         "x": {
          "bdata": "AAECAwQFBgcICQoLDA0ODxAREhM=",
          "dtype": "i1"
         },
         "y": {
          "bdata": "AAAAAAAAAAAAAAAAAAAAAAAAAAAAAAAAAAAAAAAAAAAAAAAAAMB/RAAwV0UA+LZFAMjfRQAY+kUA8CBGAODLRQCANEUAIJREAEAIRQDAC0U=",
          "dtype": "f4"
         }
        },
        {
         "line": {
          "color": "rgb(194, 224, 42)"
         },
         "name": "VAP: BSUF Predicted",
         "type": "scatter",
         "x": {
          "bdata": "AAECAwQFBgcICQoLDA0ODxAREhM=",
          "dtype": "i1"
         },
         "y": {
          "bdata": "MmhRwK3insEFT7nDAQwQQyvhu0T6GL2/AEKDwsqRPkNqpI1DzgyQRYvePUaHit1G6ngcR/NRTEeOgmxHY7hrRx69XEdS1jtH81wWR6bto0Y=",
          "dtype": "f4"
         }
        },
        {
         "marker": {
          "color": "rgb(194, 224, 42)"
         },
         "name": "VAP: BSUF Actual",
         "opacity": 0.75,
         "type": "bar",
         "x": {
          "bdata": "AAECAwQFBgcICQoLDA0ODxAREhM=",
          "dtype": "i1"
         },
         "y": {
          "bdata": "AAAAAAAAAAAAAAAAAAAAAAAAAAAAAAAAAAAAAAAAAAAAAMBBAMASRAAghkUAdB5GABAwRgAG2EYAtmBHALLeRgDHC0cA2ApHAB0ZRwAyIkc=",
          "dtype": "f4"
         }
        },
        {
         "line": {
          "color": "rgb(253, 231, 37)"
         },
         "name": "VAP: CHE Predicted",
         "type": "scatter",
         "x": {
          "bdata": "AAECAwQFBgcICQoLDA0ODxAREhM=",
          "dtype": "i1"
         },
         "y": {
          "bdata": "BfuMQTqU0EFpP2HDA+EAQgevhkQ9DWvCgnhawlQgiUKGasxBC8ofRdZo7UV8BIJGA2+/RmkiBEdBAxpH/WAaRz78DkfMCPFGbqy5RmF8SEY=",
          "dtype": "f4"
         }
        },
        {
         "marker": {
          "color": "rgb(253, 231, 37)"
         },
         "name": "VAP: CHE Actual",
         "opacity": 0.75,
         "type": "bar",
         "x": {
          "bdata": "AAECAwQFBgcICQoLDA0ODxAREhM=",
          "dtype": "i1"
         },
         "y": {
          "bdata": "AAAAAAAAAAAAAAAAAAAAAAAAAAAAAAAAAAAAAAAAAAAAAAAAAAAgQgCwDkUAYDxFADABRgBcSkYAZKtGAKa2RgB84kYA4vBGABQERwBe8EY=",
          "dtype": "f4"
         }
        }
       ],
       "layout": {
        "template": {
         "data": {
          "bar": [
           {
            "error_x": {
             "color": "#2a3f5f"
            },
            "error_y": {
             "color": "#2a3f5f"
            },
            "marker": {
             "line": {
              "color": "white",
              "width": 0.5
             },
             "pattern": {
              "fillmode": "overlay",
              "size": 10,
              "solidity": 0.2
             }
            },
            "type": "bar"
           }
          ],
          "barpolar": [
           {
            "marker": {
             "line": {
              "color": "white",
              "width": 0.5
             },
             "pattern": {
              "fillmode": "overlay",
              "size": 10,
              "solidity": 0.2
             }
            },
            "type": "barpolar"
           }
          ],
          "carpet": [
           {
            "aaxis": {
             "endlinecolor": "#2a3f5f",
             "gridcolor": "#C8D4E3",
             "linecolor": "#C8D4E3",
             "minorgridcolor": "#C8D4E3",
             "startlinecolor": "#2a3f5f"
            },
            "baxis": {
             "endlinecolor": "#2a3f5f",
             "gridcolor": "#C8D4E3",
             "linecolor": "#C8D4E3",
             "minorgridcolor": "#C8D4E3",
             "startlinecolor": "#2a3f5f"
            },
            "type": "carpet"
           }
          ],
          "choropleth": [
           {
            "colorbar": {
             "outlinewidth": 0,
             "ticks": ""
            },
            "type": "choropleth"
           }
          ],
          "contour": [
           {
            "colorbar": {
             "outlinewidth": 0,
             "ticks": ""
            },
            "colorscale": [
             [
              0,
              "#0d0887"
             ],
             [
              0.1111111111111111,
              "#46039f"
             ],
             [
              0.2222222222222222,
              "#7201a8"
             ],
             [
              0.3333333333333333,
              "#9c179e"
             ],
             [
              0.4444444444444444,
              "#bd3786"
             ],
             [
              0.5555555555555556,
              "#d8576b"
             ],
             [
              0.6666666666666666,
              "#ed7953"
             ],
             [
              0.7777777777777778,
              "#fb9f3a"
             ],
             [
              0.8888888888888888,
              "#fdca26"
             ],
             [
              1,
              "#f0f921"
             ]
            ],
            "type": "contour"
           }
          ],
          "contourcarpet": [
           {
            "colorbar": {
             "outlinewidth": 0,
             "ticks": ""
            },
            "type": "contourcarpet"
           }
          ],
          "heatmap": [
           {
            "colorbar": {
             "outlinewidth": 0,
             "ticks": ""
            },
            "colorscale": [
             [
              0,
              "#0d0887"
             ],
             [
              0.1111111111111111,
              "#46039f"
             ],
             [
              0.2222222222222222,
              "#7201a8"
             ],
             [
              0.3333333333333333,
              "#9c179e"
             ],
             [
              0.4444444444444444,
              "#bd3786"
             ],
             [
              0.5555555555555556,
              "#d8576b"
             ],
             [
              0.6666666666666666,
              "#ed7953"
             ],
             [
              0.7777777777777778,
              "#fb9f3a"
             ],
             [
              0.8888888888888888,
              "#fdca26"
             ],
             [
              1,
              "#f0f921"
             ]
            ],
            "type": "heatmap"
           }
          ],
          "histogram": [
           {
            "marker": {
             "pattern": {
              "fillmode": "overlay",
              "size": 10,
              "solidity": 0.2
             }
            },
            "type": "histogram"
           }
          ],
          "histogram2d": [
           {
            "colorbar": {
             "outlinewidth": 0,
             "ticks": ""
            },
            "colorscale": [
             [
              0,
              "#0d0887"
             ],
             [
              0.1111111111111111,
              "#46039f"
             ],
             [
              0.2222222222222222,
              "#7201a8"
             ],
             [
              0.3333333333333333,
              "#9c179e"
             ],
             [
              0.4444444444444444,
              "#bd3786"
             ],
             [
              0.5555555555555556,
              "#d8576b"
             ],
             [
              0.6666666666666666,
              "#ed7953"
             ],
             [
              0.7777777777777778,
              "#fb9f3a"
             ],
             [
              0.8888888888888888,
              "#fdca26"
             ],
             [
              1,
              "#f0f921"
             ]
            ],
            "type": "histogram2d"
           }
          ],
          "histogram2dcontour": [
           {
            "colorbar": {
             "outlinewidth": 0,
             "ticks": ""
            },
            "colorscale": [
             [
              0,
              "#0d0887"
             ],
             [
              0.1111111111111111,
              "#46039f"
             ],
             [
              0.2222222222222222,
              "#7201a8"
             ],
             [
              0.3333333333333333,
              "#9c179e"
             ],
             [
              0.4444444444444444,
              "#bd3786"
             ],
             [
              0.5555555555555556,
              "#d8576b"
             ],
             [
              0.6666666666666666,
              "#ed7953"
             ],
             [
              0.7777777777777778,
              "#fb9f3a"
             ],
             [
              0.8888888888888888,
              "#fdca26"
             ],
             [
              1,
              "#f0f921"
             ]
            ],
            "type": "histogram2dcontour"
           }
          ],
          "mesh3d": [
           {
            "colorbar": {
             "outlinewidth": 0,
             "ticks": ""
            },
            "type": "mesh3d"
           }
          ],
          "parcoords": [
           {
            "line": {
             "colorbar": {
              "outlinewidth": 0,
              "ticks": ""
             }
            },
            "type": "parcoords"
           }
          ],
          "pie": [
           {
            "automargin": true,
            "type": "pie"
           }
          ],
          "scatter": [
           {
            "fillpattern": {
             "fillmode": "overlay",
             "size": 10,
             "solidity": 0.2
            },
            "type": "scatter"
           }
          ],
          "scatter3d": [
           {
            "line": {
             "colorbar": {
              "outlinewidth": 0,
              "ticks": ""
             }
            },
            "marker": {
             "colorbar": {
              "outlinewidth": 0,
              "ticks": ""
             }
            },
            "type": "scatter3d"
           }
          ],
          "scattercarpet": [
           {
            "marker": {
             "colorbar": {
              "outlinewidth": 0,
              "ticks": ""
             }
            },
            "type": "scattercarpet"
           }
          ],
          "scattergeo": [
           {
            "marker": {
             "colorbar": {
              "outlinewidth": 0,
              "ticks": ""
             }
            },
            "type": "scattergeo"
           }
          ],
          "scattergl": [
           {
            "marker": {
             "colorbar": {
              "outlinewidth": 0,
              "ticks": ""
             }
            },
            "type": "scattergl"
           }
          ],
          "scattermap": [
           {
            "marker": {
             "colorbar": {
              "outlinewidth": 0,
              "ticks": ""
             }
            },
            "type": "scattermap"
           }
          ],
          "scattermapbox": [
           {
            "marker": {
             "colorbar": {
              "outlinewidth": 0,
              "ticks": ""
             }
            },
            "type": "scattermapbox"
           }
          ],
          "scatterpolar": [
           {
            "marker": {
             "colorbar": {
              "outlinewidth": 0,
              "ticks": ""
             }
            },
            "type": "scatterpolar"
           }
          ],
          "scatterpolargl": [
           {
            "marker": {
             "colorbar": {
              "outlinewidth": 0,
              "ticks": ""
             }
            },
            "type": "scatterpolargl"
           }
          ],
          "scatterternary": [
           {
            "marker": {
             "colorbar": {
              "outlinewidth": 0,
              "ticks": ""
             }
            },
            "type": "scatterternary"
           }
          ],
          "surface": [
           {
            "colorbar": {
             "outlinewidth": 0,
             "ticks": ""
            },
            "colorscale": [
             [
              0,
              "#0d0887"
             ],
             [
              0.1111111111111111,
              "#46039f"
             ],
             [
              0.2222222222222222,
              "#7201a8"
             ],
             [
              0.3333333333333333,
              "#9c179e"
             ],
             [
              0.4444444444444444,
              "#bd3786"
             ],
             [
              0.5555555555555556,
              "#d8576b"
             ],
             [
              0.6666666666666666,
              "#ed7953"
             ],
             [
              0.7777777777777778,
              "#fb9f3a"
             ],
             [
              0.8888888888888888,
              "#fdca26"
             ],
             [
              1,
              "#f0f921"
             ]
            ],
            "type": "surface"
           }
          ],
          "table": [
           {
            "cells": {
             "fill": {
              "color": "#EBF0F8"
             },
             "line": {
              "color": "white"
             }
            },
            "header": {
             "fill": {
              "color": "#C8D4E3"
             },
             "line": {
              "color": "white"
             }
            },
            "type": "table"
           }
          ]
         },
         "layout": {
          "annotationdefaults": {
           "arrowcolor": "#2a3f5f",
           "arrowhead": 0,
           "arrowwidth": 1
          },
          "autotypenumbers": "strict",
          "coloraxis": {
           "colorbar": {
            "outlinewidth": 0,
            "ticks": ""
           }
          },
          "colorscale": {
           "diverging": [
            [
             0,
             "#8e0152"
            ],
            [
             0.1,
             "#c51b7d"
            ],
            [
             0.2,
             "#de77ae"
            ],
            [
             0.3,
             "#f1b6da"
            ],
            [
             0.4,
             "#fde0ef"
            ],
            [
             0.5,
             "#f7f7f7"
            ],
            [
             0.6,
             "#e6f5d0"
            ],
            [
             0.7,
             "#b8e186"
            ],
            [
             0.8,
             "#7fbc41"
            ],
            [
             0.9,
             "#4d9221"
            ],
            [
             1,
             "#276419"
            ]
           ],
           "sequential": [
            [
             0,
             "#0d0887"
            ],
            [
             0.1111111111111111,
             "#46039f"
            ],
            [
             0.2222222222222222,
             "#7201a8"
            ],
            [
             0.3333333333333333,
             "#9c179e"
            ],
            [
             0.4444444444444444,
             "#bd3786"
            ],
            [
             0.5555555555555556,
             "#d8576b"
            ],
            [
             0.6666666666666666,
             "#ed7953"
            ],
            [
             0.7777777777777778,
             "#fb9f3a"
            ],
            [
             0.8888888888888888,
             "#fdca26"
            ],
            [
             1,
             "#f0f921"
            ]
           ],
           "sequentialminus": [
            [
             0,
             "#0d0887"
            ],
            [
             0.1111111111111111,
             "#46039f"
            ],
            [
             0.2222222222222222,
             "#7201a8"
            ],
            [
             0.3333333333333333,
             "#9c179e"
            ],
            [
             0.4444444444444444,
             "#bd3786"
            ],
            [
             0.5555555555555556,
             "#d8576b"
            ],
            [
             0.6666666666666666,
             "#ed7953"
            ],
            [
             0.7777777777777778,
             "#fb9f3a"
            ],
            [
             0.8888888888888888,
             "#fdca26"
            ],
            [
             1,
             "#f0f921"
            ]
           ]
          },
          "colorway": [
           "#636efa",
           "#EF553B",
           "#00cc96",
           "#ab63fa",
           "#FFA15A",
           "#19d3f3",
           "#FF6692",
           "#B6E880",
           "#FF97FF",
           "#FECB52"
          ],
          "font": {
           "color": "#2a3f5f"
          },
          "geo": {
           "bgcolor": "white",
           "lakecolor": "white",
           "landcolor": "white",
           "showlakes": true,
           "showland": true,
           "subunitcolor": "#C8D4E3"
          },
          "hoverlabel": {
           "align": "left"
          },
          "hovermode": "closest",
          "mapbox": {
           "style": "light"
          },
          "paper_bgcolor": "white",
          "plot_bgcolor": "white",
          "polar": {
           "angularaxis": {
            "gridcolor": "#EBF0F8",
            "linecolor": "#EBF0F8",
            "ticks": ""
           },
           "bgcolor": "white",
           "radialaxis": {
            "gridcolor": "#EBF0F8",
            "linecolor": "#EBF0F8",
            "ticks": ""
           }
          },
          "scene": {
           "xaxis": {
            "backgroundcolor": "white",
            "gridcolor": "#DFE8F3",
            "gridwidth": 2,
            "linecolor": "#EBF0F8",
            "showbackground": true,
            "ticks": "",
            "zerolinecolor": "#EBF0F8"
           },
           "yaxis": {
            "backgroundcolor": "white",
            "gridcolor": "#DFE8F3",
            "gridwidth": 2,
            "linecolor": "#EBF0F8",
            "showbackground": true,
            "ticks": "",
            "zerolinecolor": "#EBF0F8"
           },
           "zaxis": {
            "backgroundcolor": "white",
            "gridcolor": "#DFE8F3",
            "gridwidth": 2,
            "linecolor": "#EBF0F8",
            "showbackground": true,
            "ticks": "",
            "zerolinecolor": "#EBF0F8"
           }
          },
          "shapedefaults": {
           "line": {
            "color": "#2a3f5f"
           }
          },
          "ternary": {
           "aaxis": {
            "gridcolor": "#DFE8F3",
            "linecolor": "#A2B1C6",
            "ticks": ""
           },
           "baxis": {
            "gridcolor": "#DFE8F3",
            "linecolor": "#A2B1C6",
            "ticks": ""
           },
           "bgcolor": "white",
           "caxis": {
            "gridcolor": "#DFE8F3",
            "linecolor": "#A2B1C6",
            "ticks": ""
           }
          },
          "title": {
           "x": 0.05
          },
          "xaxis": {
           "automargin": true,
           "gridcolor": "#EBF0F8",
           "linecolor": "#EBF0F8",
           "ticks": "",
           "title": {
            "standoff": 15
           },
           "zerolinecolor": "#EBF0F8",
           "zerolinewidth": 2
          },
          "yaxis": {
           "automargin": true,
           "gridcolor": "#EBF0F8",
           "linecolor": "#EBF0F8",
           "ticks": "",
           "title": {
            "standoff": 15
           },
           "zerolinecolor": "#EBF0F8",
           "zerolinewidth": 2
          }
         }
        },
        "title": {
         "text": "predictions_summed Trace Filter with Dropdown"
        },
        "updatemenus": [
         {
          "active": 0,
          "buttons": [
           {
            "args": [
             {
              "visible": [
               true,
               true,
               false,
               false,
               false,
               false,
               false,
               false,
               false,
               false,
               false,
               false,
               false,
               false,
               false,
               false,
               false,
               false,
               false,
               false,
               false,
               false,
               false,
               false,
               false,
               false,
               false,
               false,
               false,
               false,
               false,
               false,
               false,
               false,
               false,
               false,
               false,
               false,
               false,
               false,
               false,
               false,
               false,
               false,
               false,
               false,
               false,
               false
              ]
             },
             {
              "title": "Selected: OAP: BSUF"
             }
            ],
            "label": "OAP: BSUF",
            "method": "update"
           },
           {
            "args": [
             {
              "visible": [
               false,
               false,
               true,
               true,
               false,
               false,
               false,
               false,
               false,
               false,
               false,
               false,
               false,
               false,
               false,
               false,
               false,
               false,
               false,
               false,
               false,
               false,
               false,
               false,
               false,
               false,
               false,
               false,
               false,
               false,
               false,
               false,
               false,
               false,
               false,
               false,
               false,
               false,
               false,
               false,
               false,
               false,
               false,
               false,
               false,
               false,
               false,
               false
              ]
             },
             {
              "title": "Selected: OAP: CHE"
             }
            ],
            "label": "OAP: CHE",
            "method": "update"
           },
           {
            "args": [
             {
              "visible": [
               false,
               false,
               false,
               false,
               true,
               true,
               false,
               false,
               false,
               false,
               false,
               false,
               false,
               false,
               false,
               false,
               false,
               false,
               false,
               false,
               false,
               false,
               false,
               false,
               false,
               false,
               false,
               false,
               false,
               false,
               false,
               false,
               false,
               false,
               false,
               false,
               false,
               false,
               false,
               false,
               false,
               false,
               false,
               false,
               false,
               false,
               false,
               false
              ]
             },
             {
              "title": "Selected: SFB: BSUF"
             }
            ],
            "label": "SFB: BSUF",
            "method": "update"
           },
           {
            "args": [
             {
              "visible": [
               false,
               false,
               false,
               false,
               false,
               false,
               true,
               true,
               false,
               false,
               false,
               false,
               false,
               false,
               false,
               false,
               false,
               false,
               false,
               false,
               false,
               false,
               false,
               false,
               false,
               false,
               false,
               false,
               false,
               false,
               false,
               false,
               false,
               false,
               false,
               false,
               false,
               false,
               false,
               false,
               false,
               false,
               false,
               false,
               false,
               false,
               false,
               false
              ]
             },
             {
              "title": "Selected: SFB: CHE"
             }
            ],
            "label": "SFB: CHE",
            "method": "update"
           },
           {
            "args": [
             {
              "visible": [
               false,
               false,
               false,
               false,
               false,
               false,
               false,
               false,
               true,
               true,
               false,
               false,
               false,
               false,
               false,
               false,
               false,
               false,
               false,
               false,
               false,
               false,
               false,
               false,
               false,
               false,
               false,
               false,
               false,
               false,
               false,
               false,
               false,
               false,
               false,
               false,
               false,
               false,
               false,
               false,
               false,
               false,
               false,
               false,
               false,
               false,
               false,
               false
              ]
             },
             {
              "title": "Selected: SGB: BSUF"
             }
            ],
            "label": "SGB: BSUF",
            "method": "update"
           },
           {
            "args": [
             {
              "visible": [
               false,
               false,
               false,
               false,
               false,
               false,
               false,
               false,
               false,
               false,
               true,
               true,
               false,
               false,
               false,
               false,
               false,
               false,
               false,
               false,
               false,
               false,
               false,
               false,
               false,
               false,
               false,
               false,
               false,
               false,
               false,
               false,
               false,
               false,
               false,
               false,
               false,
               false,
               false,
               false,
               false,
               false,
               false,
               false,
               false,
               false,
               false,
               false
              ]
             },
             {
              "title": "Selected: SGB: CHE"
             }
            ],
            "label": "SGB: CHE",
            "method": "update"
           },
           {
            "args": [
             {
              "visible": [
               false,
               false,
               false,
               false,
               false,
               false,
               false,
               false,
               false,
               false,
               false,
               false,
               true,
               true,
               false,
               false,
               false,
               false,
               false,
               false,
               false,
               false,
               false,
               false,
               false,
               false,
               false,
               false,
               false,
               false,
               false,
               false,
               false,
               false,
               false,
               false,
               false,
               false,
               false,
               false,
               false,
               false,
               false,
               false,
               false,
               false,
               false,
               false
              ]
             },
             {
              "title": "Selected: SJB: BSUF"
             }
            ],
            "label": "SJB: BSUF",
            "method": "update"
           },
           {
            "args": [
             {
              "visible": [
               false,
               false,
               false,
               false,
               false,
               false,
               false,
               false,
               false,
               false,
               false,
               false,
               false,
               false,
               true,
               true,
               false,
               false,
               false,
               false,
               false,
               false,
               false,
               false,
               false,
               false,
               false,
               false,
               false,
               false,
               false,
               false,
               false,
               false,
               false,
               false,
               false,
               false,
               false,
               false,
               false,
               false,
               false,
               false,
               false,
               false,
               false,
               false
              ]
             },
             {
              "title": "Selected: SJB: CHE"
             }
            ],
            "label": "SJB: CHE",
            "method": "update"
           },
           {
            "args": [
             {
              "visible": [
               false,
               false,
               false,
               false,
               false,
               false,
               false,
               false,
               false,
               false,
               false,
               false,
               false,
               false,
               false,
               false,
               true,
               true,
               false,
               false,
               false,
               false,
               false,
               false,
               false,
               false,
               false,
               false,
               false,
               false,
               false,
               false,
               false,
               false,
               false,
               false,
               false,
               false,
               false,
               false,
               false,
               false,
               false,
               false,
               false,
               false,
               false,
               false
              ]
             },
             {
              "title": "Selected: SMB: BSUF"
             }
            ],
            "label": "SMB: BSUF",
            "method": "update"
           },
           {
            "args": [
             {
              "visible": [
               false,
               false,
               false,
               false,
               false,
               false,
               false,
               false,
               false,
               false,
               false,
               false,
               false,
               false,
               false,
               false,
               false,
               false,
               true,
               true,
               false,
               false,
               false,
               false,
               false,
               false,
               false,
               false,
               false,
               false,
               false,
               false,
               false,
               false,
               false,
               false,
               false,
               false,
               false,
               false,
               false,
               false,
               false,
               false,
               false,
               false,
               false,
               false
              ]
             },
             {
              "title": "Selected: SMB: CHE"
             }
            ],
            "label": "SMB: CHE",
            "method": "update"
           },
           {
            "args": [
             {
              "visible": [
               false,
               false,
               false,
               false,
               false,
               false,
               false,
               false,
               false,
               false,
               false,
               false,
               false,
               false,
               false,
               false,
               false,
               false,
               false,
               false,
               true,
               true,
               false,
               false,
               false,
               false,
               false,
               false,
               false,
               false,
               false,
               false,
               false,
               false,
               false,
               false,
               false,
               false,
               false,
               false,
               false,
               false,
               false,
               false,
               false,
               false,
               false,
               false
              ]
             },
             {
              "title": "Selected: VAP: BSUF"
             }
            ],
            "label": "VAP: BSUF",
            "method": "update"
           },
           {
            "args": [
             {
              "visible": [
               false,
               false,
               false,
               false,
               false,
               false,
               false,
               false,
               false,
               false,
               false,
               false,
               false,
               false,
               false,
               false,
               false,
               false,
               false,
               false,
               false,
               false,
               true,
               true,
               false,
               false,
               false,
               false,
               false,
               false,
               false,
               false,
               false,
               false,
               false,
               false,
               false,
               false,
               false,
               false,
               false,
               false,
               false,
               false,
               false,
               false,
               false,
               false
              ]
             },
             {
              "title": "Selected: VAP: CHE"
             }
            ],
            "label": "VAP: CHE",
            "method": "update"
           },
           {
            "args": [
             {
              "visible": [
               true,
               true,
               true,
               true,
               true,
               true,
               true,
               true,
               true,
               true,
               true,
               true,
               true,
               true,
               true,
               true,
               true,
               true,
               true,
               true,
               true,
               true,
               true,
               true
              ]
             },
             {
              "title": "All Traces Visible"
             }
            ],
            "label": "Show All",
            "method": "update"
           }
          ],
          "direction": "down",
          "showactive": true,
          "x": 1.05,
          "xanchor": "left",
          "y": 1,
          "yanchor": "top"
         }
        ],
        "xaxis": {
         "title": {
          "text": "Week after Transplant"
         }
        },
        "yaxis": {
         "title": {
          "text": "Harvest (kg)"
         }
        }
       }
      }
     },
     "metadata": {},
     "output_type": "display_data"
    }
   ],
   "source": [
    "fig = go.Figure()\n",
    "x_values = df.index\n",
    "colors = sample_colorscale('Viridis', [i / (len(df.columns) - 1) for i in range(len(df.columns))])\n",
    "color_map = {key: colors[i] for i, key in enumerate(df.columns)}\n",
    "\n",
    "for i, col in enumerate(df.columns):\n",
    "    label = col[0] + ': ' + col[1]\n",
    "    fig.add_trace(go.Scatter(x=x_values, y=df[col], name=label + ' Predicted', line=dict(color=color_map[col])))\n",
    "    fig.add_trace(go.Bar(x=x_values, y=af[col], name= label + ' Actual', marker_color=color_map[col], opacity=0.75))\n",
    "\n",
    "visibility_matrix = np.eye(2* len(df.columns), dtype=bool).repeat(2, axis=1)\n",
    "\n",
    "buttons = [dict(label=f\"{key[0]}: {key[1]}\",method='update',args=[{'visible': visibility_matrix[i].tolist()}, {'title': f'Selected: {key[0]}: {key[1]}'}]) for i,key in enumerate(df.columns)]\n",
    "\n",
    "\n",
    "# Add \"Show All\" button\n",
    "buttons.append(dict(\n",
    "    label='Show All', \n",
    "    method='update',\n",
    "    args=[{'visible': [True]*(len(df.columns)*2)}, {'title': 'All Traces Visible'}]\n",
    "))\n",
    "\n",
    "# Add dropdown menu to layout\n",
    "fig.update_layout(\n",
    "    updatemenus=[dict(\n",
    "        active=0,\n",
    "        buttons=buttons,\n",
    "        direction='down',\n",
    "        showactive=True,\n",
    "        x=1.05,\n",
    "        xanchor='left',\n",
    "        y=1,\n",
    "        yanchor='top'\n",
    "    )],\n",
    "    title=title + ' Trace Filter with Dropdown',\n",
    "    template='plotly_white',\n",
    "    xaxis_title='Week after Transplant',\n",
    "    yaxis_title='Harvest (kg)'\n",
    ")\n",
    "\n",
    "fig.show()\n"
   ]
  },
  {
   "cell_type": "code",
   "execution_count": 16,
   "metadata": {},
   "outputs": [],
   "source": [
    "import src.curve_alter as curve_alter"
   ]
  },
  {
   "cell_type": "code",
   "execution_count": 17,
   "metadata": {},
   "outputs": [],
   "source": [
    "k = 10"
   ]
  },
  {
   "cell_type": "code",
   "execution_count": 18,
   "metadata": {},
   "outputs": [],
   "source": [
    "actuals = af.T.values[0][:k]"
   ]
  },
  {
   "cell_type": "code",
   "execution_count": 19,
   "metadata": {},
   "outputs": [],
   "source": [
    "preds =df.T.values[0]"
   ]
  },
  {
   "cell_type": "code",
   "execution_count": 20,
   "metadata": {},
   "outputs": [
    {
     "data": {
      "text/plain": [
       "array([-1.10778678e+05,  2.34142721e+07,  1.42642592e+08, -1.99106100e+10,\n",
       "       -1.22840958e+09,  1.90660661e+11,  7.18414943e+12, -1.53270185e+14,\n",
       "        3.69369398e+16, -1.41234620e+18,  4.71489403e+19, -9.60340455e+20,\n",
       "        1.80846061e+22, -3.01050978e+23,  4.31454980e+24, -5.80133119e+25,\n",
       "        7.08968847e+26, -8.13908194e+27,  6.36997210e+28])"
      ]
     },
     "execution_count": 20,
     "metadata": {},
     "output_type": "execute_result"
    }
   ],
   "source": []
  },
  {
   "cell_type": "code",
   "execution_count": null,
   "metadata": {},
   "outputs": [],
   "source": []
  }
 ],
 "metadata": {
  "language_info": {
   "name": "python"
  }
 },
 "nbformat": 4,
 "nbformat_minor": 2
}
