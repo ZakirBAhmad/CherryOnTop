{
 "cells": [
  {
   "cell_type": "code",
   "execution_count": 1,
   "metadata": {},
   "outputs": [],
   "source": [
    "import pandas as pd\n",
    "import seaborn as sns\n",
    "import matplotlib.pyplot as plt\n",
    "import numpy as np\n",
    "from plotly import graph_objects as go\n",
    "from plotly import colors\n",
    "from plotly.colors import sample_colorscale"
   ]
  },
  {
   "cell_type": "code",
   "execution_count": 2,
   "metadata": {},
   "outputs": [],
   "source": [
    "import sys\n",
    "import os\n",
    "\n",
    "# Add the parent directory to sys.path\n",
    "sys.path.append(os.path.abspath('..'))"
   ]
  },
  {
   "cell_type": "code",
   "execution_count": 3,
   "metadata": {},
   "outputs": [],
   "source": [
    "from src.table import CherryTable\n",
    "import src.utils as utils\n",
    "import src.preprocessing as pre"
   ]
  },
  {
   "cell_type": "code",
   "execution_count": 4,
   "metadata": {},
   "outputs": [],
   "source": [
    "train, test, mapping_dict = pre.separate_year(planting_meta_path='../data/planting_meta.json', weekly_summary_path='../data/weekly_summary.csv')"
   ]
  },
  {
   "cell_type": "code",
   "execution_count": 5,
   "metadata": {},
   "outputs": [
    {
     "name": "stderr",
     "output_type": "stream",
     "text": [
      "/Users/zakir/anaconda3/envs/cherry/lib/python3.10/site-packages/torch/nn/modules/loss.py:610: UserWarning: Using a target size (torch.Size([32, 20])) that is different to the input size (torch.Size([32, 1])). This will likely lead to incorrect results due to broadcasting. Please ensure they have the same size.\n",
      "  return F.mse_loss(input, target, reduction=self.reduction)\n"
     ]
    },
    {
     "name": "stdout",
     "output_type": "stream",
     "text": [
      "Epoch [1/5], Loss: 914888.0355\n",
      "Epoch [2/5], Loss: 912064.7471\n",
      "Epoch [3/5], Loss: 902246.0528\n",
      "Epoch [4/5], Loss: 876934.9541\n",
      "Epoch [5/5], Loss: 864287.7848\n"
     ]
    }
   ],
   "source": [
    "model =utils.train_harvest_model(train)"
   ]
  },
  {
   "cell_type": "code",
   "execution_count": 6,
   "metadata": {},
   "outputs": [],
   "source": [
    "predictions = utils.predict_harvest(model, test)"
   ]
  },
  {
   "cell_type": "code",
   "execution_count": 7,
   "metadata": {},
   "outputs": [],
   "source": [
    "meta = pre.decode(test, mapping_dict)\n",
    "actuals = test.Y_kilos.detach().numpy()"
   ]
  },
  {
   "cell_type": "code",
   "execution_count": 8,
   "metadata": {},
   "outputs": [],
   "source": [
    "table = CherryTable(meta, {'predictions':predictions}, actuals)"
   ]
  },
  {
   "cell_type": "code",
   "execution_count": 9,
   "metadata": {},
   "outputs": [],
   "source": [
    "a,d,ha_info = table.graph_ready(ranches=True,classes=True)"
   ]
  },
  {
   "cell_type": "code",
   "execution_count": 10,
   "metadata": {},
   "outputs": [],
   "source": [
    "title = list(d.keys())[0]"
   ]
  },
  {
   "cell_type": "code",
   "execution_count": 11,
   "metadata": {},
   "outputs": [
    {
     "data": {
      "text/html": [
       "<div>\n",
       "<style scoped>\n",
       "    .dataframe tbody tr th:only-of-type {\n",
       "        vertical-align: middle;\n",
       "    }\n",
       "\n",
       "    .dataframe tbody tr th {\n",
       "        vertical-align: top;\n",
       "    }\n",
       "\n",
       "    .dataframe thead th {\n",
       "        text-align: right;\n",
       "    }\n",
       "</style>\n",
       "<table border=\"1\" class=\"dataframe\">\n",
       "  <thead>\n",
       "    <tr style=\"text-align: right;\">\n",
       "      <th></th>\n",
       "      <th></th>\n",
       "      <th>0</th>\n",
       "    </tr>\n",
       "    <tr>\n",
       "      <th>Ranch</th>\n",
       "      <th>Class</th>\n",
       "      <th></th>\n",
       "    </tr>\n",
       "  </thead>\n",
       "  <tbody>\n",
       "    <tr>\n",
       "      <th rowspan=\"2\" valign=\"top\">OAP</th>\n",
       "      <th>BSUF</th>\n",
       "      <td>6766.643066</td>\n",
       "    </tr>\n",
       "    <tr>\n",
       "      <th>CHE</th>\n",
       "      <td>5888.293945</td>\n",
       "    </tr>\n",
       "    <tr>\n",
       "      <th rowspan=\"2\" valign=\"top\">SFB</th>\n",
       "      <th>BSUF</th>\n",
       "      <td>2335.938477</td>\n",
       "    </tr>\n",
       "    <tr>\n",
       "      <th>CHE</th>\n",
       "      <td>2282.321777</td>\n",
       "    </tr>\n",
       "    <tr>\n",
       "      <th rowspan=\"2\" valign=\"top\">SGB</th>\n",
       "      <th>BSUF</th>\n",
       "      <td>3435.268066</td>\n",
       "    </tr>\n",
       "    <tr>\n",
       "      <th>CHE</th>\n",
       "      <td>2730.907471</td>\n",
       "    </tr>\n",
       "    <tr>\n",
       "      <th rowspan=\"2\" valign=\"top\">SJB</th>\n",
       "      <th>BSUF</th>\n",
       "      <td>1809.603271</td>\n",
       "    </tr>\n",
       "    <tr>\n",
       "      <th>CHE</th>\n",
       "      <td>2022.333008</td>\n",
       "    </tr>\n",
       "    <tr>\n",
       "      <th rowspan=\"2\" valign=\"top\">SMB</th>\n",
       "      <th>BSUF</th>\n",
       "      <td>3993.175781</td>\n",
       "    </tr>\n",
       "    <tr>\n",
       "      <th>CHE</th>\n",
       "      <td>2574.191895</td>\n",
       "    </tr>\n",
       "    <tr>\n",
       "      <th rowspan=\"2\" valign=\"top\">VAP</th>\n",
       "      <th>BSUF</th>\n",
       "      <td>17025.873047</td>\n",
       "    </tr>\n",
       "    <tr>\n",
       "      <th>CHE</th>\n",
       "      <td>11008.778320</td>\n",
       "    </tr>\n",
       "  </tbody>\n",
       "</table>\n",
       "</div>"
      ],
      "text/plain": [
       "                        0\n",
       "Ranch Class              \n",
       "OAP   BSUF    6766.643066\n",
       "      CHE     5888.293945\n",
       "SFB   BSUF    2335.938477\n",
       "      CHE     2282.321777\n",
       "SGB   BSUF    3435.268066\n",
       "      CHE     2730.907471\n",
       "SJB   BSUF    1809.603271\n",
       "      CHE     2022.333008\n",
       "SMB   BSUF    3993.175781\n",
       "      CHE     2574.191895\n",
       "VAP   BSUF   17025.873047\n",
       "      CHE    11008.778320"
      ]
     },
     "execution_count": 11,
     "metadata": {},
     "output_type": "execute_result"
    }
   ],
   "source": [
    "d[title]"
   ]
  },
  {
   "cell_type": "code",
   "execution_count": 21,
   "metadata": {},
   "outputs": [
    {
     "data": {
      "text/plain": [
       "dict_keys(['predictions_summed', 'predictions_summed_cumsum', 'predictions_summed_cumprop', 'actuals_summed', 'actuals_summed_cumsum', 'actuals_summed_cumprop'])"
      ]
     },
     "execution_count": 21,
     "metadata": {},
     "output_type": "execute_result"
    }
   ],
   "source": [
    "d.keys()"
   ]
  },
  {
   "cell_type": "code",
   "execution_count": 35,
   "metadata": {},
   "outputs": [],
   "source": [
    "df = d[title].T"
   ]
  },
  {
   "cell_type": "code",
   "execution_count": 36,
   "metadata": {},
   "outputs": [],
   "source": [
    "af = d['actuals_summed'].T"
   ]
  },
  {
   "cell_type": "code",
   "execution_count": 29,
   "metadata": {},
   "outputs": [
    {
     "data": {
      "text/html": [
       "<div>\n",
       "<style scoped>\n",
       "    .dataframe tbody tr th:only-of-type {\n",
       "        vertical-align: middle;\n",
       "    }\n",
       "\n",
       "    .dataframe tbody tr th {\n",
       "        vertical-align: top;\n",
       "    }\n",
       "\n",
       "    .dataframe thead tr th {\n",
       "        text-align: left;\n",
       "    }\n",
       "</style>\n",
       "<table border=\"1\" class=\"dataframe\">\n",
       "  <thead>\n",
       "    <tr>\n",
       "      <th>Ranch</th>\n",
       "      <th colspan=\"2\" halign=\"left\">OAP</th>\n",
       "      <th colspan=\"2\" halign=\"left\">SFB</th>\n",
       "      <th colspan=\"2\" halign=\"left\">SGB</th>\n",
       "      <th colspan=\"2\" halign=\"left\">SJB</th>\n",
       "      <th colspan=\"2\" halign=\"left\">SMB</th>\n",
       "      <th colspan=\"2\" halign=\"left\">VAP</th>\n",
       "    </tr>\n",
       "    <tr>\n",
       "      <th>Class</th>\n",
       "      <th>BSUF</th>\n",
       "      <th>CHE</th>\n",
       "      <th>BSUF</th>\n",
       "      <th>CHE</th>\n",
       "      <th>BSUF</th>\n",
       "      <th>CHE</th>\n",
       "      <th>BSUF</th>\n",
       "      <th>CHE</th>\n",
       "      <th>BSUF</th>\n",
       "      <th>CHE</th>\n",
       "      <th>BSUF</th>\n",
       "      <th>CHE</th>\n",
       "    </tr>\n",
       "  </thead>\n",
       "  <tbody>\n",
       "    <tr>\n",
       "      <th>0</th>\n",
       "      <td>6766.643066</td>\n",
       "      <td>5888.293945</td>\n",
       "      <td>2335.938477</td>\n",
       "      <td>2282.321777</td>\n",
       "      <td>3435.268066</td>\n",
       "      <td>2730.907471</td>\n",
       "      <td>1809.603271</td>\n",
       "      <td>2022.333008</td>\n",
       "      <td>3993.175781</td>\n",
       "      <td>2574.191895</td>\n",
       "      <td>17025.873047</td>\n",
       "      <td>11008.77832</td>\n",
       "    </tr>\n",
       "  </tbody>\n",
       "</table>\n",
       "</div>"
      ],
      "text/plain": [
       "Ranch          OAP                       SFB                       SGB  \\\n",
       "Class         BSUF          CHE         BSUF          CHE         BSUF   \n",
       "0      6766.643066  5888.293945  2335.938477  2282.321777  3435.268066   \n",
       "\n",
       "Ranch                       SJB                       SMB               \\\n",
       "Class          CHE         BSUF          CHE         BSUF          CHE   \n",
       "0      2730.907471  1809.603271  2022.333008  3993.175781  2574.191895   \n",
       "\n",
       "Ranch           VAP               \n",
       "Class          BSUF          CHE  \n",
       "0      17025.873047  11008.77832  "
      ]
     },
     "execution_count": 29,
     "metadata": {},
     "output_type": "execute_result"
    }
   ],
   "source": [
    "df"
   ]
  },
  {
   "cell_type": "code",
   "execution_count": 28,
   "metadata": {},
   "outputs": [
    {
     "data": {
      "text/html": [
       "<div>\n",
       "<style scoped>\n",
       "    .dataframe tbody tr th:only-of-type {\n",
       "        vertical-align: middle;\n",
       "    }\n",
       "\n",
       "    .dataframe tbody tr th {\n",
       "        vertical-align: top;\n",
       "    }\n",
       "\n",
       "    .dataframe thead tr th {\n",
       "        text-align: left;\n",
       "    }\n",
       "</style>\n",
       "<table border=\"1\" class=\"dataframe\">\n",
       "  <thead>\n",
       "    <tr>\n",
       "      <th>Ranch</th>\n",
       "      <th colspan=\"2\" halign=\"left\">OAP</th>\n",
       "      <th colspan=\"2\" halign=\"left\">SFB</th>\n",
       "      <th colspan=\"2\" halign=\"left\">SGB</th>\n",
       "      <th colspan=\"2\" halign=\"left\">SJB</th>\n",
       "      <th colspan=\"2\" halign=\"left\">SMB</th>\n",
       "      <th colspan=\"2\" halign=\"left\">VAP</th>\n",
       "    </tr>\n",
       "    <tr>\n",
       "      <th>Class</th>\n",
       "      <th>BSUF</th>\n",
       "      <th>CHE</th>\n",
       "      <th>BSUF</th>\n",
       "      <th>CHE</th>\n",
       "      <th>BSUF</th>\n",
       "      <th>CHE</th>\n",
       "      <th>BSUF</th>\n",
       "      <th>CHE</th>\n",
       "      <th>BSUF</th>\n",
       "      <th>CHE</th>\n",
       "      <th>BSUF</th>\n",
       "      <th>CHE</th>\n",
       "    </tr>\n",
       "  </thead>\n",
       "  <tbody>\n",
       "    <tr>\n",
       "      <th>0</th>\n",
       "      <td>0.0</td>\n",
       "      <td>0.0</td>\n",
       "      <td>0.0</td>\n",
       "      <td>0.0</td>\n",
       "      <td>0.0</td>\n",
       "      <td>0.0</td>\n",
       "      <td>0.0</td>\n",
       "      <td>0.0</td>\n",
       "      <td>0.0</td>\n",
       "      <td>0.0</td>\n",
       "      <td>0.0</td>\n",
       "      <td>0.0</td>\n",
       "    </tr>\n",
       "    <tr>\n",
       "      <th>1</th>\n",
       "      <td>0.0</td>\n",
       "      <td>0.0</td>\n",
       "      <td>0.0</td>\n",
       "      <td>0.0</td>\n",
       "      <td>0.0</td>\n",
       "      <td>0.0</td>\n",
       "      <td>0.0</td>\n",
       "      <td>0.0</td>\n",
       "      <td>0.0</td>\n",
       "      <td>0.0</td>\n",
       "      <td>0.0</td>\n",
       "      <td>0.0</td>\n",
       "    </tr>\n",
       "    <tr>\n",
       "      <th>2</th>\n",
       "      <td>0.0</td>\n",
       "      <td>0.0</td>\n",
       "      <td>0.0</td>\n",
       "      <td>0.0</td>\n",
       "      <td>0.0</td>\n",
       "      <td>0.0</td>\n",
       "      <td>0.0</td>\n",
       "      <td>0.0</td>\n",
       "      <td>0.0</td>\n",
       "      <td>0.0</td>\n",
       "      <td>0.0</td>\n",
       "      <td>0.0</td>\n",
       "    </tr>\n",
       "    <tr>\n",
       "      <th>3</th>\n",
       "      <td>0.0</td>\n",
       "      <td>0.0</td>\n",
       "      <td>0.0</td>\n",
       "      <td>0.0</td>\n",
       "      <td>0.0</td>\n",
       "      <td>0.0</td>\n",
       "      <td>0.0</td>\n",
       "      <td>0.0</td>\n",
       "      <td>0.0</td>\n",
       "      <td>0.0</td>\n",
       "      <td>0.0</td>\n",
       "      <td>0.0</td>\n",
       "    </tr>\n",
       "    <tr>\n",
       "      <th>4</th>\n",
       "      <td>0.0</td>\n",
       "      <td>0.0</td>\n",
       "      <td>0.0</td>\n",
       "      <td>0.0</td>\n",
       "      <td>0.0</td>\n",
       "      <td>0.0</td>\n",
       "      <td>0.0</td>\n",
       "      <td>0.0</td>\n",
       "      <td>0.0</td>\n",
       "      <td>0.0</td>\n",
       "      <td>0.0</td>\n",
       "      <td>0.0</td>\n",
       "    </tr>\n",
       "    <tr>\n",
       "      <th>5</th>\n",
       "      <td>0.0</td>\n",
       "      <td>0.0</td>\n",
       "      <td>129.0</td>\n",
       "      <td>213.0</td>\n",
       "      <td>0.0</td>\n",
       "      <td>0.0</td>\n",
       "      <td>0.0</td>\n",
       "      <td>0.0</td>\n",
       "      <td>0.0</td>\n",
       "      <td>0.0</td>\n",
       "      <td>0.0</td>\n",
       "      <td>0.0</td>\n",
       "    </tr>\n",
       "    <tr>\n",
       "      <th>6</th>\n",
       "      <td>247.0</td>\n",
       "      <td>0.0</td>\n",
       "      <td>129.0</td>\n",
       "      <td>1546.0</td>\n",
       "      <td>0.0</td>\n",
       "      <td>0.0</td>\n",
       "      <td>0.0</td>\n",
       "      <td>0.0</td>\n",
       "      <td>0.0</td>\n",
       "      <td>0.0</td>\n",
       "      <td>0.0</td>\n",
       "      <td>0.0</td>\n",
       "    </tr>\n",
       "    <tr>\n",
       "      <th>7</th>\n",
       "      <td>247.0</td>\n",
       "      <td>0.0</td>\n",
       "      <td>981.0</td>\n",
       "      <td>2429.0</td>\n",
       "      <td>33.0</td>\n",
       "      <td>0.0</td>\n",
       "      <td>0.0</td>\n",
       "      <td>0.0</td>\n",
       "      <td>0.0</td>\n",
       "      <td>0.0</td>\n",
       "      <td>0.0</td>\n",
       "      <td>0.0</td>\n",
       "    </tr>\n",
       "    <tr>\n",
       "      <th>8</th>\n",
       "      <td>247.0</td>\n",
       "      <td>796.0</td>\n",
       "      <td>3705.0</td>\n",
       "      <td>4433.0</td>\n",
       "      <td>149.0</td>\n",
       "      <td>36.0</td>\n",
       "      <td>1482.0</td>\n",
       "      <td>507.0</td>\n",
       "      <td>480.0</td>\n",
       "      <td>0.0</td>\n",
       "      <td>24.0</td>\n",
       "      <td>0.0</td>\n",
       "    </tr>\n",
       "    <tr>\n",
       "      <th>9</th>\n",
       "      <td>1527.0</td>\n",
       "      <td>3063.0</td>\n",
       "      <td>3705.0</td>\n",
       "      <td>4433.0</td>\n",
       "      <td>456.0</td>\n",
       "      <td>144.0</td>\n",
       "      <td>5718.0</td>\n",
       "      <td>1249.0</td>\n",
       "      <td>480.0</td>\n",
       "      <td>1023.0</td>\n",
       "      <td>611.0</td>\n",
       "      <td>40.0</td>\n",
       "    </tr>\n",
       "    <tr>\n",
       "      <th>10</th>\n",
       "      <td>8912.0</td>\n",
       "      <td>11155.0</td>\n",
       "      <td>4966.0</td>\n",
       "      <td>4903.0</td>\n",
       "      <td>1969.0</td>\n",
       "      <td>615.0</td>\n",
       "      <td>11190.0</td>\n",
       "      <td>2920.0</td>\n",
       "      <td>3716.0</td>\n",
       "      <td>4466.0</td>\n",
       "      <td>4903.0</td>\n",
       "      <td>2323.0</td>\n",
       "    </tr>\n",
       "    <tr>\n",
       "      <th>11</th>\n",
       "      <td>27643.0</td>\n",
       "      <td>23858.0</td>\n",
       "      <td>5692.0</td>\n",
       "      <td>5527.0</td>\n",
       "      <td>4192.0</td>\n",
       "      <td>1712.0</td>\n",
       "      <td>19115.0</td>\n",
       "      <td>8742.0</td>\n",
       "      <td>10386.0</td>\n",
       "      <td>10321.0</td>\n",
       "      <td>15044.0</td>\n",
       "      <td>5337.0</td>\n",
       "    </tr>\n",
       "    <tr>\n",
       "      <th>12</th>\n",
       "      <td>52914.0</td>\n",
       "      <td>45375.0</td>\n",
       "      <td>8838.0</td>\n",
       "      <td>7003.0</td>\n",
       "      <td>10482.0</td>\n",
       "      <td>3791.0</td>\n",
       "      <td>27976.0</td>\n",
       "      <td>14781.0</td>\n",
       "      <td>23452.0</td>\n",
       "      <td>17482.0</td>\n",
       "      <td>26312.0</td>\n",
       "      <td>13605.0</td>\n",
       "    </tr>\n",
       "    <tr>\n",
       "      <th>13</th>\n",
       "      <td>78852.0</td>\n",
       "      <td>66155.0</td>\n",
       "      <td>16655.0</td>\n",
       "      <td>8534.0</td>\n",
       "      <td>15957.0</td>\n",
       "      <td>9105.0</td>\n",
       "      <td>34662.0</td>\n",
       "      <td>18705.0</td>\n",
       "      <td>37822.0</td>\n",
       "      <td>25485.0</td>\n",
       "      <td>53963.0</td>\n",
       "      <td>26556.0</td>\n",
       "    </tr>\n",
       "    <tr>\n",
       "      <th>14</th>\n",
       "      <td>109801.0</td>\n",
       "      <td>87084.0</td>\n",
       "      <td>27137.0</td>\n",
       "      <td>12802.0</td>\n",
       "      <td>28978.0</td>\n",
       "      <td>15231.0</td>\n",
       "      <td>42333.0</td>\n",
       "      <td>21302.0</td>\n",
       "      <td>48861.0</td>\n",
       "      <td>35785.0</td>\n",
       "      <td>111489.0</td>\n",
       "      <td>48494.0</td>\n",
       "    </tr>\n",
       "    <tr>\n",
       "      <th>15</th>\n",
       "      <td>142340.0</td>\n",
       "      <td>102552.0</td>\n",
       "      <td>46409.0</td>\n",
       "      <td>19204.0</td>\n",
       "      <td>37851.0</td>\n",
       "      <td>22380.0</td>\n",
       "      <td>50447.0</td>\n",
       "      <td>25983.0</td>\n",
       "      <td>54805.0</td>\n",
       "      <td>42309.0</td>\n",
       "      <td>139994.0</td>\n",
       "      <td>71873.0</td>\n",
       "    </tr>\n",
       "    <tr>\n",
       "      <th>16</th>\n",
       "      <td>164693.0</td>\n",
       "      <td>121251.0</td>\n",
       "      <td>60988.0</td>\n",
       "      <td>25544.0</td>\n",
       "      <td>47156.0</td>\n",
       "      <td>28364.0</td>\n",
       "      <td>54637.0</td>\n",
       "      <td>29730.0</td>\n",
       "      <td>57204.0</td>\n",
       "      <td>45197.0</td>\n",
       "      <td>175777.0</td>\n",
       "      <td>100863.0</td>\n",
       "    </tr>\n",
       "    <tr>\n",
       "      <th>17</th>\n",
       "      <td>180524.0</td>\n",
       "      <td>135084.0</td>\n",
       "      <td>71313.0</td>\n",
       "      <td>30470.0</td>\n",
       "      <td>57192.0</td>\n",
       "      <td>34754.0</td>\n",
       "      <td>58261.0</td>\n",
       "      <td>32766.0</td>\n",
       "      <td>57914.0</td>\n",
       "      <td>46382.0</td>\n",
       "      <td>211321.0</td>\n",
       "      <td>131696.0</td>\n",
       "    </tr>\n",
       "    <tr>\n",
       "      <th>18</th>\n",
       "      <td>201590.0</td>\n",
       "      <td>143651.0</td>\n",
       "      <td>75909.0</td>\n",
       "      <td>36852.0</td>\n",
       "      <td>58950.0</td>\n",
       "      <td>37396.0</td>\n",
       "      <td>59592.0</td>\n",
       "      <td>35249.0</td>\n",
       "      <td>58783.0</td>\n",
       "      <td>48562.0</td>\n",
       "      <td>250518.0</td>\n",
       "      <td>165508.0</td>\n",
       "    </tr>\n",
       "    <tr>\n",
       "      <th>19</th>\n",
       "      <td>213942.0</td>\n",
       "      <td>148338.0</td>\n",
       "      <td>78473.0</td>\n",
       "      <td>38918.0</td>\n",
       "      <td>61024.0</td>\n",
       "      <td>38228.0</td>\n",
       "      <td>60052.0</td>\n",
       "      <td>36487.0</td>\n",
       "      <td>59498.0</td>\n",
       "      <td>50798.0</td>\n",
       "      <td>292040.0</td>\n",
       "      <td>196275.0</td>\n",
       "    </tr>\n",
       "  </tbody>\n",
       "</table>\n",
       "</div>"
      ],
      "text/plain": [
       "Ranch       OAP                SFB               SGB               SJB  \\\n",
       "Class      BSUF       CHE     BSUF      CHE     BSUF      CHE     BSUF   \n",
       "0           0.0       0.0      0.0      0.0      0.0      0.0      0.0   \n",
       "1           0.0       0.0      0.0      0.0      0.0      0.0      0.0   \n",
       "2           0.0       0.0      0.0      0.0      0.0      0.0      0.0   \n",
       "3           0.0       0.0      0.0      0.0      0.0      0.0      0.0   \n",
       "4           0.0       0.0      0.0      0.0      0.0      0.0      0.0   \n",
       "5           0.0       0.0    129.0    213.0      0.0      0.0      0.0   \n",
       "6         247.0       0.0    129.0   1546.0      0.0      0.0      0.0   \n",
       "7         247.0       0.0    981.0   2429.0     33.0      0.0      0.0   \n",
       "8         247.0     796.0   3705.0   4433.0    149.0     36.0   1482.0   \n",
       "9        1527.0    3063.0   3705.0   4433.0    456.0    144.0   5718.0   \n",
       "10       8912.0   11155.0   4966.0   4903.0   1969.0    615.0  11190.0   \n",
       "11      27643.0   23858.0   5692.0   5527.0   4192.0   1712.0  19115.0   \n",
       "12      52914.0   45375.0   8838.0   7003.0  10482.0   3791.0  27976.0   \n",
       "13      78852.0   66155.0  16655.0   8534.0  15957.0   9105.0  34662.0   \n",
       "14     109801.0   87084.0  27137.0  12802.0  28978.0  15231.0  42333.0   \n",
       "15     142340.0  102552.0  46409.0  19204.0  37851.0  22380.0  50447.0   \n",
       "16     164693.0  121251.0  60988.0  25544.0  47156.0  28364.0  54637.0   \n",
       "17     180524.0  135084.0  71313.0  30470.0  57192.0  34754.0  58261.0   \n",
       "18     201590.0  143651.0  75909.0  36852.0  58950.0  37396.0  59592.0   \n",
       "19     213942.0  148338.0  78473.0  38918.0  61024.0  38228.0  60052.0   \n",
       "\n",
       "Ranch               SMB                VAP            \n",
       "Class      CHE     BSUF      CHE      BSUF       CHE  \n",
       "0          0.0      0.0      0.0       0.0       0.0  \n",
       "1          0.0      0.0      0.0       0.0       0.0  \n",
       "2          0.0      0.0      0.0       0.0       0.0  \n",
       "3          0.0      0.0      0.0       0.0       0.0  \n",
       "4          0.0      0.0      0.0       0.0       0.0  \n",
       "5          0.0      0.0      0.0       0.0       0.0  \n",
       "6          0.0      0.0      0.0       0.0       0.0  \n",
       "7          0.0      0.0      0.0       0.0       0.0  \n",
       "8        507.0    480.0      0.0      24.0       0.0  \n",
       "9       1249.0    480.0   1023.0     611.0      40.0  \n",
       "10      2920.0   3716.0   4466.0    4903.0    2323.0  \n",
       "11      8742.0  10386.0  10321.0   15044.0    5337.0  \n",
       "12     14781.0  23452.0  17482.0   26312.0   13605.0  \n",
       "13     18705.0  37822.0  25485.0   53963.0   26556.0  \n",
       "14     21302.0  48861.0  35785.0  111489.0   48494.0  \n",
       "15     25983.0  54805.0  42309.0  139994.0   71873.0  \n",
       "16     29730.0  57204.0  45197.0  175777.0  100863.0  \n",
       "17     32766.0  57914.0  46382.0  211321.0  131696.0  \n",
       "18     35249.0  58783.0  48562.0  250518.0  165508.0  \n",
       "19     36487.0  59498.0  50798.0  292040.0  196275.0  "
      ]
     },
     "execution_count": 28,
     "metadata": {},
     "output_type": "execute_result"
    }
   ],
   "source": [
    "af"
   ]
  },
  {
   "cell_type": "code",
   "execution_count": 32,
   "metadata": {},
   "outputs": [
    {
     "data": {
      "application/vnd.plotly.v1+json": {
       "config": {
        "plotlyServerURL": "https://plot.ly"
       },
       "data": [
        {
         "line": {
          "color": "rgb(68, 1, 84)"
         },
         "name": "OAP: BSUF Predicted",
         "type": "scatter",
         "x": {
          "bdata": "AA==",
          "dtype": "i1"
         },
         "y": {
          "bdata": "JXXTRQ==",
          "dtype": "f4"
         }
        },
        {
         "marker": {
          "color": "rgb(68, 1, 84)"
         },
         "name": "OAP: BSUF Actual",
         "opacity": 0.75,
         "type": "bar",
         "x": {
          "bdata": "AA==",
          "dtype": "i1"
         },
         "y": {
          "bdata": "AAAAAAAAAAAAAAAAAAAAAAAAAAAAAAAAAAB3QwAAAAAAAAAAAACgRADI5kUAVpJGAG7FRgCkykYAyvFGADb+RgCirkYAXHdGAJSkRgAAQUY=",
          "dtype": "f4"
         }
        },
        {
         "line": {
          "color": "rgb(71, 33, 113)"
         },
         "name": "OAP: CHE Predicted",
         "type": "scatter",
         "x": {
          "bdata": "AA==",
          "dtype": "i1"
         },
         "y": {
          "bdata": "WgK4RQ==",
          "dtype": "f4"
         }
        },
        {
         "marker": {
          "color": "rgb(71, 33, 113)"
         },
         "name": "OAP: CHE Actual",
         "opacity": 0.75,
         "type": "bar",
         "x": {
          "bdata": "AA==",
          "dtype": "i1"
         },
         "y": {
          "bdata": "AAAAAAAAAAAAAAAAAAAAAAAAAAAAAAAAAAAAAAAAAAAAAEdEALANRQDg/EUAfEZGABqoRgBYokYAgqNGALBxRgAWkkYAJFhGANwFRgB4kkU=",
          "dtype": "f4"
         }
        },
        {
         "line": {
          "color": "rgb(66, 61, 131)"
         },
         "name": "SFB: BSUF Predicted",
         "type": "scatter",
         "x": {
          "bdata": "AA==",
          "dtype": "i1"
         },
         "y": {
          "bdata": "BP8RRQ==",
          "dtype": "f4"
         }
        },
        {
         "marker": {
          "color": "rgb(66, 61, 131)"
         },
         "name": "SFB: BSUF Actual",
         "opacity": 0.75,
         "type": "bar",
         "x": {
          "bdata": "AA==",
          "dtype": "i1"
         },
         "y": {
          "bdata": "AAAAAAAAAAAAAAAAAAAAAAAAAAAAAAFDAAAAAAAAVUQAQCpFAAAAAACgnUQAgDVEAKBERQBI9EUAyCNGAJCWRgDMY0YAVCFGAKCPRQBAIEU=",
          "dtype": "f4"
         }
        },
        {
         "line": {
          "color": "rgb(56, 87, 139)"
         },
         "name": "SFB: CHE Predicted",
         "type": "scatter",
         "x": {
          "bdata": "AA==",
          "dtype": "i1"
         },
         "y": {
          "bdata": "JqUORQ==",
          "dtype": "f4"
         }
        },
        {
         "marker": {
          "color": "rgb(56, 87, 139)"
         },
         "name": "SFB: CHE Actual",
         "opacity": 0.75,
         "type": "bar",
         "x": {
          "bdata": "AA==",
          "dtype": "i1"
         },
         "y": {
          "bdata": "AAAAAAAAAAAAAAAAAAAAAAAAAAAAAFVDAKCmRADAXEQAgPpEAAAAAAAA60MAABxEAIC4RABgv0QAYIVFABDIRQAgxkUA8JlFAHDHRQAgAUU=",
          "dtype": "f4"
         }
        },
        {
         "line": {
          "color": "rgb(46, 111, 142)"
         },
         "name": "SGB: BSUF Predicted",
         "type": "scatter",
         "x": {
          "bdata": "AA==",
          "dtype": "i1"
         },
         "y": {
          "bdata": "SrRWRQ==",
          "dtype": "f4"
         }
        },
        {
         "marker": {
          "color": "rgb(46, 111, 142)"
         },
         "name": "SGB: BSUF Actual",
         "opacity": 0.75,
         "type": "bar",
         "x": {
          "bdata": "AA==",
          "dtype": "i1"
         },
         "y": {
          "bdata": "AAAAAAAAAAAAAAAAAAAAAAAAAAAAAAAAAAAAAAAABEIAAOhCAICZQwAgvUQA8ApFAJDERQAYq0UAdEtGAKQKRgBkEUYA0BxGAMDbRACgAUU=",
          "dtype": "f4"
         }
        },
        {
         "line": {
          "color": "rgb(37, 133, 142)"
         },
         "name": "SGB: CHE Predicted",
         "type": "scatter",
         "x": {
          "bdata": "AA==",
          "dtype": "i1"
         },
         "y": {
          "bdata": "ha4qRQ==",
          "dtype": "f4"
         }
        },
        {
         "marker": {
          "color": "rgb(37, 133, 142)"
         },
         "name": "SGB: CHE Actual",
         "opacity": 0.75,
         "type": "bar",
         "x": {
          "bdata": "AA==",
          "dtype": "i1"
         },
         "y": {
          "bdata": "AAAAAAAAAAAAAAAAAAAAAAAAAAAAAAAAAAAAAAAAAAAAABBCAADYQgCA60MAIIlEAPABRQAQpkUAcL9FAGjfRQAAu0UAsMdFACAlRQAAUEQ=",
          "dtype": "f4"
         }
        },
        {
         "line": {
          "color": "rgb(32, 155, 137)"
         },
         "name": "SJB: BSUF Predicted",
         "type": "scatter",
         "x": {
          "bdata": "AA==",
          "dtype": "i1"
         },
         "y": {
          "bdata": "TjPiRA==",
          "dtype": "f4"
         }
        },
        {
         "marker": {
          "color": "rgb(32, 155, 137)"
         },
         "name": "SJB: BSUF Actual",
         "opacity": 0.75,
         "type": "bar",
         "x": {
          "bdata": "AA==",
          "dtype": "i1"
         },
         "y": {
          "bdata": "AAAAAAAAAAAAAAAAAAAAAAAAAAAAAAAAAAAAAAAAAAAAQLlEAGCERQAAq0UAqPdFAHQKRgDw0EUAuO9FAJD9RQDwgkUAgGJFAGCmRAAA5kM=",
          "dtype": "f4"
         }
        },
        {
         "line": {
          "color": "rgb(47, 176, 125)"
         },
         "name": "SJB: CHE Predicted",
         "type": "scatter",
         "x": {
          "bdata": "AA==",
          "dtype": "i1"
         },
         "y": {
          "bdata": "qMr8RA==",
          "dtype": "f4"
         }
        },
        {
         "marker": {
          "color": "rgb(47, 176, 125)"
         },
         "name": "SJB: CHE Actual",
         "opacity": 0.75,
         "type": "bar",
         "x": {
          "bdata": "AA==",
          "dtype": "i1"
         },
         "y": {
          "bdata": "AAAAAAAAAAAAAAAAAAAAAAAAAAAAAAAAAAAAAAAAAAAAgP1DAIA5RADg0EQA8LVFALi8RQBAdUUAUCJFAEiSRQAwakUAwD1FADAbRQDAmkQ=",
          "dtype": "f4"
         }
        },
        {
         "line": {
          "color": "rgb(84, 196, 103)"
         },
         "name": "SMB: BSUF Predicted",
         "type": "scatter",
         "x": {
          "bdata": "AA==",
          "dtype": "i1"
         },
         "y": {
          "bdata": "0JJ5RQ==",
          "dtype": "f4"
         }
        },
        {
         "marker": {
          "color": "rgb(84, 196, 103)"
         },
         "name": "SMB: BSUF Actual",
         "opacity": 0.75,
         "type": "bar",
         "x": {
          "bdata": "AA==",
          "dtype": "i1"
         },
         "y": {
          "bdata": "AAAAAAAAAAAAAAAAAAAAAAAAAAAAAAAAAAAAAAAAAAAAAPBDAAAAAABASkUAcNBFAChMRgCIYEYAfCxGAMC5RQDwFUUAgDFEAEBZRADAMkQ=",
          "dtype": "f4"
         }
        },
        {
         "line": {
          "color": "rgb(136, 212, 72)"
         },
         "name": "SMB: CHE Predicted",
         "type": "scatter",
         "x": {
          "bdata": "AA==",
          "dtype": "i1"
         },
         "y": {
          "bdata": "EuMgRQ==",
          "dtype": "f4"
         }
        },
        {
         "marker": {
          "color": "rgb(136, 212, 72)"
         },
         "name": "SMB: CHE Actual",
         "opacity": 0.75,
         "type": "bar",
         "x": {
          "bdata": "AA==",
          "dtype": "i1"
         },
         "y": {
          "bdata": "AAAAAAAAAAAAAAAAAAAAAAAAAAAAAAAAAAAAAAAAAAAAAAAAAMB/RAAwV0UA+LZFAMjfRQAY+kUA8CBGAODLRQCANEUAIJREAEAIRQDAC0U=",
          "dtype": "f4"
         }
        },
        {
         "line": {
          "color": "rgb(194, 224, 42)"
         },
         "name": "VAP: BSUF Predicted",
         "type": "scatter",
         "x": {
          "bdata": "AA==",
          "dtype": "i1"
         },
         "y": {
          "bdata": "vwOFRg==",
          "dtype": "f4"
         }
        },
        {
         "marker": {
          "color": "rgb(194, 224, 42)"
         },
         "name": "VAP: BSUF Actual",
         "opacity": 0.75,
         "type": "bar",
         "x": {
          "bdata": "AA==",
          "dtype": "i1"
         },
         "y": {
          "bdata": "AAAAAAAAAAAAAAAAAAAAAAAAAAAAAAAAAAAAAAAAAAAAAMBBAMASRAAghkUAdB5GABAwRgAG2EYAtmBHALLeRgDHC0cA2ApHAB0ZRwAyIkc=",
          "dtype": "f4"
         }
        },
        {
         "line": {
          "color": "rgb(253, 231, 37)"
         },
         "name": "VAP: CHE Predicted",
         "type": "scatter",
         "x": {
          "bdata": "AA==",
          "dtype": "i1"
         },
         "y": {
          "bdata": "HQMsRg==",
          "dtype": "f4"
         }
        },
        {
         "marker": {
          "color": "rgb(253, 231, 37)"
         },
         "name": "VAP: CHE Actual",
         "opacity": 0.75,
         "type": "bar",
         "x": {
          "bdata": "AA==",
          "dtype": "i1"
         },
         "y": {
          "bdata": "AAAAAAAAAAAAAAAAAAAAAAAAAAAAAAAAAAAAAAAAAAAAAAAAAAAgQgCwDkUAYDxFADABRgBcSkYAZKtGAKa2RgB84kYA4vBGABQERwBe8EY=",
          "dtype": "f4"
         }
        }
       ],
       "layout": {
        "template": {
         "data": {
          "bar": [
           {
            "error_x": {
             "color": "#2a3f5f"
            },
            "error_y": {
             "color": "#2a3f5f"
            },
            "marker": {
             "line": {
              "color": "white",
              "width": 0.5
             },
             "pattern": {
              "fillmode": "overlay",
              "size": 10,
              "solidity": 0.2
             }
            },
            "type": "bar"
           }
          ],
          "barpolar": [
           {
            "marker": {
             "line": {
              "color": "white",
              "width": 0.5
             },
             "pattern": {
              "fillmode": "overlay",
              "size": 10,
              "solidity": 0.2
             }
            },
            "type": "barpolar"
           }
          ],
          "carpet": [
           {
            "aaxis": {
             "endlinecolor": "#2a3f5f",
             "gridcolor": "#C8D4E3",
             "linecolor": "#C8D4E3",
             "minorgridcolor": "#C8D4E3",
             "startlinecolor": "#2a3f5f"
            },
            "baxis": {
             "endlinecolor": "#2a3f5f",
             "gridcolor": "#C8D4E3",
             "linecolor": "#C8D4E3",
             "minorgridcolor": "#C8D4E3",
             "startlinecolor": "#2a3f5f"
            },
            "type": "carpet"
           }
          ],
          "choropleth": [
           {
            "colorbar": {
             "outlinewidth": 0,
             "ticks": ""
            },
            "type": "choropleth"
           }
          ],
          "contour": [
           {
            "colorbar": {
             "outlinewidth": 0,
             "ticks": ""
            },
            "colorscale": [
             [
              0,
              "#0d0887"
             ],
             [
              0.1111111111111111,
              "#46039f"
             ],
             [
              0.2222222222222222,
              "#7201a8"
             ],
             [
              0.3333333333333333,
              "#9c179e"
             ],
             [
              0.4444444444444444,
              "#bd3786"
             ],
             [
              0.5555555555555556,
              "#d8576b"
             ],
             [
              0.6666666666666666,
              "#ed7953"
             ],
             [
              0.7777777777777778,
              "#fb9f3a"
             ],
             [
              0.8888888888888888,
              "#fdca26"
             ],
             [
              1,
              "#f0f921"
             ]
            ],
            "type": "contour"
           }
          ],
          "contourcarpet": [
           {
            "colorbar": {
             "outlinewidth": 0,
             "ticks": ""
            },
            "type": "contourcarpet"
           }
          ],
          "heatmap": [
           {
            "colorbar": {
             "outlinewidth": 0,
             "ticks": ""
            },
            "colorscale": [
             [
              0,
              "#0d0887"
             ],
             [
              0.1111111111111111,
              "#46039f"
             ],
             [
              0.2222222222222222,
              "#7201a8"
             ],
             [
              0.3333333333333333,
              "#9c179e"
             ],
             [
              0.4444444444444444,
              "#bd3786"
             ],
             [
              0.5555555555555556,
              "#d8576b"
             ],
             [
              0.6666666666666666,
              "#ed7953"
             ],
             [
              0.7777777777777778,
              "#fb9f3a"
             ],
             [
              0.8888888888888888,
              "#fdca26"
             ],
             [
              1,
              "#f0f921"
             ]
            ],
            "type": "heatmap"
           }
          ],
          "histogram": [
           {
            "marker": {
             "pattern": {
              "fillmode": "overlay",
              "size": 10,
              "solidity": 0.2
             }
            },
            "type": "histogram"
           }
          ],
          "histogram2d": [
           {
            "colorbar": {
             "outlinewidth": 0,
             "ticks": ""
            },
            "colorscale": [
             [
              0,
              "#0d0887"
             ],
             [
              0.1111111111111111,
              "#46039f"
             ],
             [
              0.2222222222222222,
              "#7201a8"
             ],
             [
              0.3333333333333333,
              "#9c179e"
             ],
             [
              0.4444444444444444,
              "#bd3786"
             ],
             [
              0.5555555555555556,
              "#d8576b"
             ],
             [
              0.6666666666666666,
              "#ed7953"
             ],
             [
              0.7777777777777778,
              "#fb9f3a"
             ],
             [
              0.8888888888888888,
              "#fdca26"
             ],
             [
              1,
              "#f0f921"
             ]
            ],
            "type": "histogram2d"
           }
          ],
          "histogram2dcontour": [
           {
            "colorbar": {
             "outlinewidth": 0,
             "ticks": ""
            },
            "colorscale": [
             [
              0,
              "#0d0887"
             ],
             [
              0.1111111111111111,
              "#46039f"
             ],
             [
              0.2222222222222222,
              "#7201a8"
             ],
             [
              0.3333333333333333,
              "#9c179e"
             ],
             [
              0.4444444444444444,
              "#bd3786"
             ],
             [
              0.5555555555555556,
              "#d8576b"
             ],
             [
              0.6666666666666666,
              "#ed7953"
             ],
             [
              0.7777777777777778,
              "#fb9f3a"
             ],
             [
              0.8888888888888888,
              "#fdca26"
             ],
             [
              1,
              "#f0f921"
             ]
            ],
            "type": "histogram2dcontour"
           }
          ],
          "mesh3d": [
           {
            "colorbar": {
             "outlinewidth": 0,
             "ticks": ""
            },
            "type": "mesh3d"
           }
          ],
          "parcoords": [
           {
            "line": {
             "colorbar": {
              "outlinewidth": 0,
              "ticks": ""
             }
            },
            "type": "parcoords"
           }
          ],
          "pie": [
           {
            "automargin": true,
            "type": "pie"
           }
          ],
          "scatter": [
           {
            "fillpattern": {
             "fillmode": "overlay",
             "size": 10,
             "solidity": 0.2
            },
            "type": "scatter"
           }
          ],
          "scatter3d": [
           {
            "line": {
             "colorbar": {
              "outlinewidth": 0,
              "ticks": ""
             }
            },
            "marker": {
             "colorbar": {
              "outlinewidth": 0,
              "ticks": ""
             }
            },
            "type": "scatter3d"
           }
          ],
          "scattercarpet": [
           {
            "marker": {
             "colorbar": {
              "outlinewidth": 0,
              "ticks": ""
             }
            },
            "type": "scattercarpet"
           }
          ],
          "scattergeo": [
           {
            "marker": {
             "colorbar": {
              "outlinewidth": 0,
              "ticks": ""
             }
            },
            "type": "scattergeo"
           }
          ],
          "scattergl": [
           {
            "marker": {
             "colorbar": {
              "outlinewidth": 0,
              "ticks": ""
             }
            },
            "type": "scattergl"
           }
          ],
          "scattermap": [
           {
            "marker": {
             "colorbar": {
              "outlinewidth": 0,
              "ticks": ""
             }
            },
            "type": "scattermap"
           }
          ],
          "scattermapbox": [
           {
            "marker": {
             "colorbar": {
              "outlinewidth": 0,
              "ticks": ""
             }
            },
            "type": "scattermapbox"
           }
          ],
          "scatterpolar": [
           {
            "marker": {
             "colorbar": {
              "outlinewidth": 0,
              "ticks": ""
             }
            },
            "type": "scatterpolar"
           }
          ],
          "scatterpolargl": [
           {
            "marker": {
             "colorbar": {
              "outlinewidth": 0,
              "ticks": ""
             }
            },
            "type": "scatterpolargl"
           }
          ],
          "scatterternary": [
           {
            "marker": {
             "colorbar": {
              "outlinewidth": 0,
              "ticks": ""
             }
            },
            "type": "scatterternary"
           }
          ],
          "surface": [
           {
            "colorbar": {
             "outlinewidth": 0,
             "ticks": ""
            },
            "colorscale": [
             [
              0,
              "#0d0887"
             ],
             [
              0.1111111111111111,
              "#46039f"
             ],
             [
              0.2222222222222222,
              "#7201a8"
             ],
             [
              0.3333333333333333,
              "#9c179e"
             ],
             [
              0.4444444444444444,
              "#bd3786"
             ],
             [
              0.5555555555555556,
              "#d8576b"
             ],
             [
              0.6666666666666666,
              "#ed7953"
             ],
             [
              0.7777777777777778,
              "#fb9f3a"
             ],
             [
              0.8888888888888888,
              "#fdca26"
             ],
             [
              1,
              "#f0f921"
             ]
            ],
            "type": "surface"
           }
          ],
          "table": [
           {
            "cells": {
             "fill": {
              "color": "#EBF0F8"
             },
             "line": {
              "color": "white"
             }
            },
            "header": {
             "fill": {
              "color": "#C8D4E3"
             },
             "line": {
              "color": "white"
             }
            },
            "type": "table"
           }
          ]
         },
         "layout": {
          "annotationdefaults": {
           "arrowcolor": "#2a3f5f",
           "arrowhead": 0,
           "arrowwidth": 1
          },
          "autotypenumbers": "strict",
          "coloraxis": {
           "colorbar": {
            "outlinewidth": 0,
            "ticks": ""
           }
          },
          "colorscale": {
           "diverging": [
            [
             0,
             "#8e0152"
            ],
            [
             0.1,
             "#c51b7d"
            ],
            [
             0.2,
             "#de77ae"
            ],
            [
             0.3,
             "#f1b6da"
            ],
            [
             0.4,
             "#fde0ef"
            ],
            [
             0.5,
             "#f7f7f7"
            ],
            [
             0.6,
             "#e6f5d0"
            ],
            [
             0.7,
             "#b8e186"
            ],
            [
             0.8,
             "#7fbc41"
            ],
            [
             0.9,
             "#4d9221"
            ],
            [
             1,
             "#276419"
            ]
           ],
           "sequential": [
            [
             0,
             "#0d0887"
            ],
            [
             0.1111111111111111,
             "#46039f"
            ],
            [
             0.2222222222222222,
             "#7201a8"
            ],
            [
             0.3333333333333333,
             "#9c179e"
            ],
            [
             0.4444444444444444,
             "#bd3786"
            ],
            [
             0.5555555555555556,
             "#d8576b"
            ],
            [
             0.6666666666666666,
             "#ed7953"
            ],
            [
             0.7777777777777778,
             "#fb9f3a"
            ],
            [
             0.8888888888888888,
             "#fdca26"
            ],
            [
             1,
             "#f0f921"
            ]
           ],
           "sequentialminus": [
            [
             0,
             "#0d0887"
            ],
            [
             0.1111111111111111,
             "#46039f"
            ],
            [
             0.2222222222222222,
             "#7201a8"
            ],
            [
             0.3333333333333333,
             "#9c179e"
            ],
            [
             0.4444444444444444,
             "#bd3786"
            ],
            [
             0.5555555555555556,
             "#d8576b"
            ],
            [
             0.6666666666666666,
             "#ed7953"
            ],
            [
             0.7777777777777778,
             "#fb9f3a"
            ],
            [
             0.8888888888888888,
             "#fdca26"
            ],
            [
             1,
             "#f0f921"
            ]
           ]
          },
          "colorway": [
           "#636efa",
           "#EF553B",
           "#00cc96",
           "#ab63fa",
           "#FFA15A",
           "#19d3f3",
           "#FF6692",
           "#B6E880",
           "#FF97FF",
           "#FECB52"
          ],
          "font": {
           "color": "#2a3f5f"
          },
          "geo": {
           "bgcolor": "white",
           "lakecolor": "white",
           "landcolor": "white",
           "showlakes": true,
           "showland": true,
           "subunitcolor": "#C8D4E3"
          },
          "hoverlabel": {
           "align": "left"
          },
          "hovermode": "closest",
          "mapbox": {
           "style": "light"
          },
          "paper_bgcolor": "white",
          "plot_bgcolor": "white",
          "polar": {
           "angularaxis": {
            "gridcolor": "#EBF0F8",
            "linecolor": "#EBF0F8",
            "ticks": ""
           },
           "bgcolor": "white",
           "radialaxis": {
            "gridcolor": "#EBF0F8",
            "linecolor": "#EBF0F8",
            "ticks": ""
           }
          },
          "scene": {
           "xaxis": {
            "backgroundcolor": "white",
            "gridcolor": "#DFE8F3",
            "gridwidth": 2,
            "linecolor": "#EBF0F8",
            "showbackground": true,
            "ticks": "",
            "zerolinecolor": "#EBF0F8"
           },
           "yaxis": {
            "backgroundcolor": "white",
            "gridcolor": "#DFE8F3",
            "gridwidth": 2,
            "linecolor": "#EBF0F8",
            "showbackground": true,
            "ticks": "",
            "zerolinecolor": "#EBF0F8"
           },
           "zaxis": {
            "backgroundcolor": "white",
            "gridcolor": "#DFE8F3",
            "gridwidth": 2,
            "linecolor": "#EBF0F8",
            "showbackground": true,
            "ticks": "",
            "zerolinecolor": "#EBF0F8"
           }
          },
          "shapedefaults": {
           "line": {
            "color": "#2a3f5f"
           }
          },
          "ternary": {
           "aaxis": {
            "gridcolor": "#DFE8F3",
            "linecolor": "#A2B1C6",
            "ticks": ""
           },
           "baxis": {
            "gridcolor": "#DFE8F3",
            "linecolor": "#A2B1C6",
            "ticks": ""
           },
           "bgcolor": "white",
           "caxis": {
            "gridcolor": "#DFE8F3",
            "linecolor": "#A2B1C6",
            "ticks": ""
           }
          },
          "title": {
           "x": 0.05
          },
          "xaxis": {
           "automargin": true,
           "gridcolor": "#EBF0F8",
           "linecolor": "#EBF0F8",
           "ticks": "",
           "title": {
            "standoff": 15
           },
           "zerolinecolor": "#EBF0F8",
           "zerolinewidth": 2
          },
          "yaxis": {
           "automargin": true,
           "gridcolor": "#EBF0F8",
           "linecolor": "#EBF0F8",
           "ticks": "",
           "title": {
            "standoff": 15
           },
           "zerolinecolor": "#EBF0F8",
           "zerolinewidth": 2
          }
         }
        },
        "title": {
         "text": "predictions_summed Trace Filter with Dropdown"
        },
        "updatemenus": [
         {
          "active": 0,
          "buttons": [
           {
            "args": [
             {
              "visible": [
               true,
               true,
               false,
               false,
               false,
               false,
               false,
               false,
               false,
               false,
               false,
               false,
               false,
               false,
               false,
               false,
               false,
               false,
               false,
               false,
               false,
               false,
               false,
               false,
               false,
               false,
               false,
               false,
               false,
               false,
               false,
               false,
               false,
               false,
               false,
               false,
               false,
               false,
               false,
               false,
               false,
               false,
               false,
               false,
               false,
               false,
               false,
               false
              ]
             },
             {
              "title": "Selected: OAP: BSUF"
             }
            ],
            "label": "OAP: BSUF",
            "method": "update"
           },
           {
            "args": [
             {
              "visible": [
               false,
               false,
               true,
               true,
               false,
               false,
               false,
               false,
               false,
               false,
               false,
               false,
               false,
               false,
               false,
               false,
               false,
               false,
               false,
               false,
               false,
               false,
               false,
               false,
               false,
               false,
               false,
               false,
               false,
               false,
               false,
               false,
               false,
               false,
               false,
               false,
               false,
               false,
               false,
               false,
               false,
               false,
               false,
               false,
               false,
               false,
               false,
               false
              ]
             },
             {
              "title": "Selected: OAP: CHE"
             }
            ],
            "label": "OAP: CHE",
            "method": "update"
           },
           {
            "args": [
             {
              "visible": [
               false,
               false,
               false,
               false,
               true,
               true,
               false,
               false,
               false,
               false,
               false,
               false,
               false,
               false,
               false,
               false,
               false,
               false,
               false,
               false,
               false,
               false,
               false,
               false,
               false,
               false,
               false,
               false,
               false,
               false,
               false,
               false,
               false,
               false,
               false,
               false,
               false,
               false,
               false,
               false,
               false,
               false,
               false,
               false,
               false,
               false,
               false,
               false
              ]
             },
             {
              "title": "Selected: SFB: BSUF"
             }
            ],
            "label": "SFB: BSUF",
            "method": "update"
           },
           {
            "args": [
             {
              "visible": [
               false,
               false,
               false,
               false,
               false,
               false,
               true,
               true,
               false,
               false,
               false,
               false,
               false,
               false,
               false,
               false,
               false,
               false,
               false,
               false,
               false,
               false,
               false,
               false,
               false,
               false,
               false,
               false,
               false,
               false,
               false,
               false,
               false,
               false,
               false,
               false,
               false,
               false,
               false,
               false,
               false,
               false,
               false,
               false,
               false,
               false,
               false,
               false
              ]
             },
             {
              "title": "Selected: SFB: CHE"
             }
            ],
            "label": "SFB: CHE",
            "method": "update"
           },
           {
            "args": [
             {
              "visible": [
               false,
               false,
               false,
               false,
               false,
               false,
               false,
               false,
               true,
               true,
               false,
               false,
               false,
               false,
               false,
               false,
               false,
               false,
               false,
               false,
               false,
               false,
               false,
               false,
               false,
               false,
               false,
               false,
               false,
               false,
               false,
               false,
               false,
               false,
               false,
               false,
               false,
               false,
               false,
               false,
               false,
               false,
               false,
               false,
               false,
               false,
               false,
               false
              ]
             },
             {
              "title": "Selected: SGB: BSUF"
             }
            ],
            "label": "SGB: BSUF",
            "method": "update"
           },
           {
            "args": [
             {
              "visible": [
               false,
               false,
               false,
               false,
               false,
               false,
               false,
               false,
               false,
               false,
               true,
               true,
               false,
               false,
               false,
               false,
               false,
               false,
               false,
               false,
               false,
               false,
               false,
               false,
               false,
               false,
               false,
               false,
               false,
               false,
               false,
               false,
               false,
               false,
               false,
               false,
               false,
               false,
               false,
               false,
               false,
               false,
               false,
               false,
               false,
               false,
               false,
               false
              ]
             },
             {
              "title": "Selected: SGB: CHE"
             }
            ],
            "label": "SGB: CHE",
            "method": "update"
           },
           {
            "args": [
             {
              "visible": [
               false,
               false,
               false,
               false,
               false,
               false,
               false,
               false,
               false,
               false,
               false,
               false,
               true,
               true,
               false,
               false,
               false,
               false,
               false,
               false,
               false,
               false,
               false,
               false,
               false,
               false,
               false,
               false,
               false,
               false,
               false,
               false,
               false,
               false,
               false,
               false,
               false,
               false,
               false,
               false,
               false,
               false,
               false,
               false,
               false,
               false,
               false,
               false
              ]
             },
             {
              "title": "Selected: SJB: BSUF"
             }
            ],
            "label": "SJB: BSUF",
            "method": "update"
           },
           {
            "args": [
             {
              "visible": [
               false,
               false,
               false,
               false,
               false,
               false,
               false,
               false,
               false,
               false,
               false,
               false,
               false,
               false,
               true,
               true,
               false,
               false,
               false,
               false,
               false,
               false,
               false,
               false,
               false,
               false,
               false,
               false,
               false,
               false,
               false,
               false,
               false,
               false,
               false,
               false,
               false,
               false,
               false,
               false,
               false,
               false,
               false,
               false,
               false,
               false,
               false,
               false
              ]
             },
             {
              "title": "Selected: SJB: CHE"
             }
            ],
            "label": "SJB: CHE",
            "method": "update"
           },
           {
            "args": [
             {
              "visible": [
               false,
               false,
               false,
               false,
               false,
               false,
               false,
               false,
               false,
               false,
               false,
               false,
               false,
               false,
               false,
               false,
               true,
               true,
               false,
               false,
               false,
               false,
               false,
               false,
               false,
               false,
               false,
               false,
               false,
               false,
               false,
               false,
               false,
               false,
               false,
               false,
               false,
               false,
               false,
               false,
               false,
               false,
               false,
               false,
               false,
               false,
               false,
               false
              ]
             },
             {
              "title": "Selected: SMB: BSUF"
             }
            ],
            "label": "SMB: BSUF",
            "method": "update"
           },
           {
            "args": [
             {
              "visible": [
               false,
               false,
               false,
               false,
               false,
               false,
               false,
               false,
               false,
               false,
               false,
               false,
               false,
               false,
               false,
               false,
               false,
               false,
               true,
               true,
               false,
               false,
               false,
               false,
               false,
               false,
               false,
               false,
               false,
               false,
               false,
               false,
               false,
               false,
               false,
               false,
               false,
               false,
               false,
               false,
               false,
               false,
               false,
               false,
               false,
               false,
               false,
               false
              ]
             },
             {
              "title": "Selected: SMB: CHE"
             }
            ],
            "label": "SMB: CHE",
            "method": "update"
           },
           {
            "args": [
             {
              "visible": [
               false,
               false,
               false,
               false,
               false,
               false,
               false,
               false,
               false,
               false,
               false,
               false,
               false,
               false,
               false,
               false,
               false,
               false,
               false,
               false,
               true,
               true,
               false,
               false,
               false,
               false,
               false,
               false,
               false,
               false,
               false,
               false,
               false,
               false,
               false,
               false,
               false,
               false,
               false,
               false,
               false,
               false,
               false,
               false,
               false,
               false,
               false,
               false
              ]
             },
             {
              "title": "Selected: VAP: BSUF"
             }
            ],
            "label": "VAP: BSUF",
            "method": "update"
           },
           {
            "args": [
             {
              "visible": [
               false,
               false,
               false,
               false,
               false,
               false,
               false,
               false,
               false,
               false,
               false,
               false,
               false,
               false,
               false,
               false,
               false,
               false,
               false,
               false,
               false,
               false,
               true,
               true,
               false,
               false,
               false,
               false,
               false,
               false,
               false,
               false,
               false,
               false,
               false,
               false,
               false,
               false,
               false,
               false,
               false,
               false,
               false,
               false,
               false,
               false,
               false,
               false
              ]
             },
             {
              "title": "Selected: VAP: CHE"
             }
            ],
            "label": "VAP: CHE",
            "method": "update"
           },
           {
            "args": [
             {
              "visible": [
               true,
               true,
               true,
               true,
               true,
               true,
               true,
               true,
               true,
               true,
               true,
               true,
               true,
               true,
               true,
               true,
               true,
               true,
               true,
               true,
               true,
               true,
               true,
               true
              ]
             },
             {
              "title": "All Traces Visible"
             }
            ],
            "label": "Show All",
            "method": "update"
           }
          ],
          "direction": "down",
          "showactive": true,
          "x": 1.05,
          "xanchor": "left",
          "y": 1,
          "yanchor": "top"
         }
        ],
        "xaxis": {
         "title": {
          "text": "Week after Transplant"
         }
        },
        "yaxis": {
         "title": {
          "text": "Harvest (kg)"
         }
        }
       }
      }
     },
     "metadata": {},
     "output_type": "display_data"
    }
   ],
   "source": [
    "fig = go.Figure()\n",
    "x_values = df.index\n",
    "colors = sample_colorscale('Viridis', [i / (len(df.columns) - 1) for i in range(len(df.columns))])\n",
    "color_map = {key: colors[i] for i, key in enumerate(df.columns)}\n",
    "\n",
    "for i, col in enumerate(df.columns):\n",
    "    label = col[0] + ': ' + col[1]\n",
    "    fig.add_trace(go.Scatter(x=x_values, y=df[col], name=label + ' Predicted', line=dict(color=color_map[col])))\n",
    "    fig.add_trace(go.Bar(x=x_values, y=af[col], name= label + ' Actual', marker_color=color_map[col], opacity=0.75))\n",
    "\n",
    "visibility_matrix = np.eye(2* len(df.columns), dtype=bool).repeat(2, axis=1)\n",
    "\n",
    "buttons = [dict(label=f\"{key[0]}: {key[1]}\",method='update',args=[{'visible': visibility_matrix[i].tolist()}, {'title': f'Selected: {key[0]}: {key[1]}'}]) for i,key in enumerate(df.columns)]\n",
    "\n",
    "\n",
    "# Add \"Show All\" button\n",
    "buttons.append(dict(\n",
    "    label='Show All', \n",
    "    method='update',\n",
    "    args=[{'visible': [True]*(len(df.columns)*2)}, {'title': 'All Traces Visible'}]\n",
    "))\n",
    "\n",
    "# Add dropdown menu to layout\n",
    "fig.update_layout(\n",
    "    updatemenus=[dict(\n",
    "        active=0,\n",
    "        buttons=buttons,\n",
    "        direction='down',\n",
    "        showactive=True,\n",
    "        x=1.05,\n",
    "        xanchor='left',\n",
    "        y=1,\n",
    "        yanchor='top'\n",
    "    )],\n",
    "    title=title + ' Trace Filter with Dropdown',\n",
    "    template='plotly_white',\n",
    "    xaxis_title='Week after Transplant',\n",
    "    yaxis_title='Harvest (kg)'\n",
    ")\n",
    "\n",
    "fig.show()\n"
   ]
  },
  {
   "cell_type": "code",
   "execution_count": 33,
   "metadata": {},
   "outputs": [],
   "source": [
    "import src.graphs as graphs\n",
    "fig = graphs.graph_preds_reg(df, af, title)"
   ]
  },
  {
   "cell_type": "code",
   "execution_count": 34,
   "metadata": {},
   "outputs": [
    {
     "data": {
      "application/vnd.plotly.v1+json": {
       "config": {
        "plotlyServerURL": "https://plot.ly"
       },
       "data": [
        {
         "line": {
          "color": "rgb(68, 1, 84)"
         },
         "name": "OAP: BSUF Predicted",
         "type": "scatter",
         "x": {
          "bdata": "AA==",
          "dtype": "i1"
         },
         "y": {
          "bdata": "JXXTRQ==",
          "dtype": "f4"
         }
        },
        {
         "marker": {
          "color": "rgb(68, 1, 84)"
         },
         "name": "OAP: BSUF Actual",
         "opacity": 0.75,
         "type": "bar",
         "x": {
          "bdata": "AA==",
          "dtype": "i1"
         },
         "y": {
          "bdata": "AAAAAAAAAAAAAAAAAAAAAAAAAAAAAAAAAAB3QwAAAAAAAAAAAACgRADI5kUAVpJGAG7FRgCkykYAyvFGADb+RgCirkYAXHdGAJSkRgAAQUY=",
          "dtype": "f4"
         }
        },
        {
         "line": {
          "color": "rgb(71, 33, 113)"
         },
         "name": "OAP: CHE Predicted",
         "type": "scatter",
         "x": {
          "bdata": "AA==",
          "dtype": "i1"
         },
         "y": {
          "bdata": "WgK4RQ==",
          "dtype": "f4"
         }
        },
        {
         "marker": {
          "color": "rgb(71, 33, 113)"
         },
         "name": "OAP: CHE Actual",
         "opacity": 0.75,
         "type": "bar",
         "x": {
          "bdata": "AA==",
          "dtype": "i1"
         },
         "y": {
          "bdata": "AAAAAAAAAAAAAAAAAAAAAAAAAAAAAAAAAAAAAAAAAAAAAEdEALANRQDg/EUAfEZGABqoRgBYokYAgqNGALBxRgAWkkYAJFhGANwFRgB4kkU=",
          "dtype": "f4"
         }
        },
        {
         "line": {
          "color": "rgb(66, 61, 131)"
         },
         "name": "SFB: BSUF Predicted",
         "type": "scatter",
         "x": {
          "bdata": "AA==",
          "dtype": "i1"
         },
         "y": {
          "bdata": "BP8RRQ==",
          "dtype": "f4"
         }
        },
        {
         "marker": {
          "color": "rgb(66, 61, 131)"
         },
         "name": "SFB: BSUF Actual",
         "opacity": 0.75,
         "type": "bar",
         "x": {
          "bdata": "AA==",
          "dtype": "i1"
         },
         "y": {
          "bdata": "AAAAAAAAAAAAAAAAAAAAAAAAAAAAAAFDAAAAAAAAVUQAQCpFAAAAAACgnUQAgDVEAKBERQBI9EUAyCNGAJCWRgDMY0YAVCFGAKCPRQBAIEU=",
          "dtype": "f4"
         }
        },
        {
         "line": {
          "color": "rgb(56, 87, 139)"
         },
         "name": "SFB: CHE Predicted",
         "type": "scatter",
         "x": {
          "bdata": "AA==",
          "dtype": "i1"
         },
         "y": {
          "bdata": "JqUORQ==",
          "dtype": "f4"
         }
        },
        {
         "marker": {
          "color": "rgb(56, 87, 139)"
         },
         "name": "SFB: CHE Actual",
         "opacity": 0.75,
         "type": "bar",
         "x": {
          "bdata": "AA==",
          "dtype": "i1"
         },
         "y": {
          "bdata": "AAAAAAAAAAAAAAAAAAAAAAAAAAAAAFVDAKCmRADAXEQAgPpEAAAAAAAA60MAABxEAIC4RABgv0QAYIVFABDIRQAgxkUA8JlFAHDHRQAgAUU=",
          "dtype": "f4"
         }
        },
        {
         "line": {
          "color": "rgb(46, 111, 142)"
         },
         "name": "SGB: BSUF Predicted",
         "type": "scatter",
         "x": {
          "bdata": "AA==",
          "dtype": "i1"
         },
         "y": {
          "bdata": "SrRWRQ==",
          "dtype": "f4"
         }
        },
        {
         "marker": {
          "color": "rgb(46, 111, 142)"
         },
         "name": "SGB: BSUF Actual",
         "opacity": 0.75,
         "type": "bar",
         "x": {
          "bdata": "AA==",
          "dtype": "i1"
         },
         "y": {
          "bdata": "AAAAAAAAAAAAAAAAAAAAAAAAAAAAAAAAAAAAAAAABEIAAOhCAICZQwAgvUQA8ApFAJDERQAYq0UAdEtGAKQKRgBkEUYA0BxGAMDbRACgAUU=",
          "dtype": "f4"
         }
        },
        {
         "line": {
          "color": "rgb(37, 133, 142)"
         },
         "name": "SGB: CHE Predicted",
         "type": "scatter",
         "x": {
          "bdata": "AA==",
          "dtype": "i1"
         },
         "y": {
          "bdata": "ha4qRQ==",
          "dtype": "f4"
         }
        },
        {
         "marker": {
          "color": "rgb(37, 133, 142)"
         },
         "name": "SGB: CHE Actual",
         "opacity": 0.75,
         "type": "bar",
         "x": {
          "bdata": "AA==",
          "dtype": "i1"
         },
         "y": {
          "bdata": "AAAAAAAAAAAAAAAAAAAAAAAAAAAAAAAAAAAAAAAAAAAAABBCAADYQgCA60MAIIlEAPABRQAQpkUAcL9FAGjfRQAAu0UAsMdFACAlRQAAUEQ=",
          "dtype": "f4"
         }
        },
        {
         "line": {
          "color": "rgb(32, 155, 137)"
         },
         "name": "SJB: BSUF Predicted",
         "type": "scatter",
         "x": {
          "bdata": "AA==",
          "dtype": "i1"
         },
         "y": {
          "bdata": "TjPiRA==",
          "dtype": "f4"
         }
        },
        {
         "marker": {
          "color": "rgb(32, 155, 137)"
         },
         "name": "SJB: BSUF Actual",
         "opacity": 0.75,
         "type": "bar",
         "x": {
          "bdata": "AA==",
          "dtype": "i1"
         },
         "y": {
          "bdata": "AAAAAAAAAAAAAAAAAAAAAAAAAAAAAAAAAAAAAAAAAAAAQLlEAGCERQAAq0UAqPdFAHQKRgDw0EUAuO9FAJD9RQDwgkUAgGJFAGCmRAAA5kM=",
          "dtype": "f4"
         }
        },
        {
         "line": {
          "color": "rgb(47, 176, 125)"
         },
         "name": "SJB: CHE Predicted",
         "type": "scatter",
         "x": {
          "bdata": "AA==",
          "dtype": "i1"
         },
         "y": {
          "bdata": "qMr8RA==",
          "dtype": "f4"
         }
        },
        {
         "marker": {
          "color": "rgb(47, 176, 125)"
         },
         "name": "SJB: CHE Actual",
         "opacity": 0.75,
         "type": "bar",
         "x": {
          "bdata": "AA==",
          "dtype": "i1"
         },
         "y": {
          "bdata": "AAAAAAAAAAAAAAAAAAAAAAAAAAAAAAAAAAAAAAAAAAAAgP1DAIA5RADg0EQA8LVFALi8RQBAdUUAUCJFAEiSRQAwakUAwD1FADAbRQDAmkQ=",
          "dtype": "f4"
         }
        },
        {
         "line": {
          "color": "rgb(84, 196, 103)"
         },
         "name": "SMB: BSUF Predicted",
         "type": "scatter",
         "x": {
          "bdata": "AA==",
          "dtype": "i1"
         },
         "y": {
          "bdata": "0JJ5RQ==",
          "dtype": "f4"
         }
        },
        {
         "marker": {
          "color": "rgb(84, 196, 103)"
         },
         "name": "SMB: BSUF Actual",
         "opacity": 0.75,
         "type": "bar",
         "x": {
          "bdata": "AA==",
          "dtype": "i1"
         },
         "y": {
          "bdata": "AAAAAAAAAAAAAAAAAAAAAAAAAAAAAAAAAAAAAAAAAAAAAPBDAAAAAABASkUAcNBFAChMRgCIYEYAfCxGAMC5RQDwFUUAgDFEAEBZRADAMkQ=",
          "dtype": "f4"
         }
        },
        {
         "line": {
          "color": "rgb(136, 212, 72)"
         },
         "name": "SMB: CHE Predicted",
         "type": "scatter",
         "x": {
          "bdata": "AA==",
          "dtype": "i1"
         },
         "y": {
          "bdata": "EuMgRQ==",
          "dtype": "f4"
         }
        },
        {
         "marker": {
          "color": "rgb(136, 212, 72)"
         },
         "name": "SMB: CHE Actual",
         "opacity": 0.75,
         "type": "bar",
         "x": {
          "bdata": "AA==",
          "dtype": "i1"
         },
         "y": {
          "bdata": "AAAAAAAAAAAAAAAAAAAAAAAAAAAAAAAAAAAAAAAAAAAAAAAAAMB/RAAwV0UA+LZFAMjfRQAY+kUA8CBGAODLRQCANEUAIJREAEAIRQDAC0U=",
          "dtype": "f4"
         }
        },
        {
         "line": {
          "color": "rgb(194, 224, 42)"
         },
         "name": "VAP: BSUF Predicted",
         "type": "scatter",
         "x": {
          "bdata": "AA==",
          "dtype": "i1"
         },
         "y": {
          "bdata": "vwOFRg==",
          "dtype": "f4"
         }
        },
        {
         "marker": {
          "color": "rgb(194, 224, 42)"
         },
         "name": "VAP: BSUF Actual",
         "opacity": 0.75,
         "type": "bar",
         "x": {
          "bdata": "AA==",
          "dtype": "i1"
         },
         "y": {
          "bdata": "AAAAAAAAAAAAAAAAAAAAAAAAAAAAAAAAAAAAAAAAAAAAAMBBAMASRAAghkUAdB5GABAwRgAG2EYAtmBHALLeRgDHC0cA2ApHAB0ZRwAyIkc=",
          "dtype": "f4"
         }
        },
        {
         "line": {
          "color": "rgb(253, 231, 37)"
         },
         "name": "VAP: CHE Predicted",
         "type": "scatter",
         "x": {
          "bdata": "AA==",
          "dtype": "i1"
         },
         "y": {
          "bdata": "HQMsRg==",
          "dtype": "f4"
         }
        },
        {
         "marker": {
          "color": "rgb(253, 231, 37)"
         },
         "name": "VAP: CHE Actual",
         "opacity": 0.75,
         "type": "bar",
         "x": {
          "bdata": "AA==",
          "dtype": "i1"
         },
         "y": {
          "bdata": "AAAAAAAAAAAAAAAAAAAAAAAAAAAAAAAAAAAAAAAAAAAAAAAAAAAgQgCwDkUAYDxFADABRgBcSkYAZKtGAKa2RgB84kYA4vBGABQERwBe8EY=",
          "dtype": "f4"
         }
        }
       ],
       "layout": {
        "template": {
         "data": {
          "bar": [
           {
            "error_x": {
             "color": "#2a3f5f"
            },
            "error_y": {
             "color": "#2a3f5f"
            },
            "marker": {
             "line": {
              "color": "white",
              "width": 0.5
             },
             "pattern": {
              "fillmode": "overlay",
              "size": 10,
              "solidity": 0.2
             }
            },
            "type": "bar"
           }
          ],
          "barpolar": [
           {
            "marker": {
             "line": {
              "color": "white",
              "width": 0.5
             },
             "pattern": {
              "fillmode": "overlay",
              "size": 10,
              "solidity": 0.2
             }
            },
            "type": "barpolar"
           }
          ],
          "carpet": [
           {
            "aaxis": {
             "endlinecolor": "#2a3f5f",
             "gridcolor": "#C8D4E3",
             "linecolor": "#C8D4E3",
             "minorgridcolor": "#C8D4E3",
             "startlinecolor": "#2a3f5f"
            },
            "baxis": {
             "endlinecolor": "#2a3f5f",
             "gridcolor": "#C8D4E3",
             "linecolor": "#C8D4E3",
             "minorgridcolor": "#C8D4E3",
             "startlinecolor": "#2a3f5f"
            },
            "type": "carpet"
           }
          ],
          "choropleth": [
           {
            "colorbar": {
             "outlinewidth": 0,
             "ticks": ""
            },
            "type": "choropleth"
           }
          ],
          "contour": [
           {
            "colorbar": {
             "outlinewidth": 0,
             "ticks": ""
            },
            "colorscale": [
             [
              0,
              "#0d0887"
             ],
             [
              0.1111111111111111,
              "#46039f"
             ],
             [
              0.2222222222222222,
              "#7201a8"
             ],
             [
              0.3333333333333333,
              "#9c179e"
             ],
             [
              0.4444444444444444,
              "#bd3786"
             ],
             [
              0.5555555555555556,
              "#d8576b"
             ],
             [
              0.6666666666666666,
              "#ed7953"
             ],
             [
              0.7777777777777778,
              "#fb9f3a"
             ],
             [
              0.8888888888888888,
              "#fdca26"
             ],
             [
              1,
              "#f0f921"
             ]
            ],
            "type": "contour"
           }
          ],
          "contourcarpet": [
           {
            "colorbar": {
             "outlinewidth": 0,
             "ticks": ""
            },
            "type": "contourcarpet"
           }
          ],
          "heatmap": [
           {
            "colorbar": {
             "outlinewidth": 0,
             "ticks": ""
            },
            "colorscale": [
             [
              0,
              "#0d0887"
             ],
             [
              0.1111111111111111,
              "#46039f"
             ],
             [
              0.2222222222222222,
              "#7201a8"
             ],
             [
              0.3333333333333333,
              "#9c179e"
             ],
             [
              0.4444444444444444,
              "#bd3786"
             ],
             [
              0.5555555555555556,
              "#d8576b"
             ],
             [
              0.6666666666666666,
              "#ed7953"
             ],
             [
              0.7777777777777778,
              "#fb9f3a"
             ],
             [
              0.8888888888888888,
              "#fdca26"
             ],
             [
              1,
              "#f0f921"
             ]
            ],
            "type": "heatmap"
           }
          ],
          "histogram": [
           {
            "marker": {
             "pattern": {
              "fillmode": "overlay",
              "size": 10,
              "solidity": 0.2
             }
            },
            "type": "histogram"
           }
          ],
          "histogram2d": [
           {
            "colorbar": {
             "outlinewidth": 0,
             "ticks": ""
            },
            "colorscale": [
             [
              0,
              "#0d0887"
             ],
             [
              0.1111111111111111,
              "#46039f"
             ],
             [
              0.2222222222222222,
              "#7201a8"
             ],
             [
              0.3333333333333333,
              "#9c179e"
             ],
             [
              0.4444444444444444,
              "#bd3786"
             ],
             [
              0.5555555555555556,
              "#d8576b"
             ],
             [
              0.6666666666666666,
              "#ed7953"
             ],
             [
              0.7777777777777778,
              "#fb9f3a"
             ],
             [
              0.8888888888888888,
              "#fdca26"
             ],
             [
              1,
              "#f0f921"
             ]
            ],
            "type": "histogram2d"
           }
          ],
          "histogram2dcontour": [
           {
            "colorbar": {
             "outlinewidth": 0,
             "ticks": ""
            },
            "colorscale": [
             [
              0,
              "#0d0887"
             ],
             [
              0.1111111111111111,
              "#46039f"
             ],
             [
              0.2222222222222222,
              "#7201a8"
             ],
             [
              0.3333333333333333,
              "#9c179e"
             ],
             [
              0.4444444444444444,
              "#bd3786"
             ],
             [
              0.5555555555555556,
              "#d8576b"
             ],
             [
              0.6666666666666666,
              "#ed7953"
             ],
             [
              0.7777777777777778,
              "#fb9f3a"
             ],
             [
              0.8888888888888888,
              "#fdca26"
             ],
             [
              1,
              "#f0f921"
             ]
            ],
            "type": "histogram2dcontour"
           }
          ],
          "mesh3d": [
           {
            "colorbar": {
             "outlinewidth": 0,
             "ticks": ""
            },
            "type": "mesh3d"
           }
          ],
          "parcoords": [
           {
            "line": {
             "colorbar": {
              "outlinewidth": 0,
              "ticks": ""
             }
            },
            "type": "parcoords"
           }
          ],
          "pie": [
           {
            "automargin": true,
            "type": "pie"
           }
          ],
          "scatter": [
           {
            "fillpattern": {
             "fillmode": "overlay",
             "size": 10,
             "solidity": 0.2
            },
            "type": "scatter"
           }
          ],
          "scatter3d": [
           {
            "line": {
             "colorbar": {
              "outlinewidth": 0,
              "ticks": ""
             }
            },
            "marker": {
             "colorbar": {
              "outlinewidth": 0,
              "ticks": ""
             }
            },
            "type": "scatter3d"
           }
          ],
          "scattercarpet": [
           {
            "marker": {
             "colorbar": {
              "outlinewidth": 0,
              "ticks": ""
             }
            },
            "type": "scattercarpet"
           }
          ],
          "scattergeo": [
           {
            "marker": {
             "colorbar": {
              "outlinewidth": 0,
              "ticks": ""
             }
            },
            "type": "scattergeo"
           }
          ],
          "scattergl": [
           {
            "marker": {
             "colorbar": {
              "outlinewidth": 0,
              "ticks": ""
             }
            },
            "type": "scattergl"
           }
          ],
          "scattermap": [
           {
            "marker": {
             "colorbar": {
              "outlinewidth": 0,
              "ticks": ""
             }
            },
            "type": "scattermap"
           }
          ],
          "scattermapbox": [
           {
            "marker": {
             "colorbar": {
              "outlinewidth": 0,
              "ticks": ""
             }
            },
            "type": "scattermapbox"
           }
          ],
          "scatterpolar": [
           {
            "marker": {
             "colorbar": {
              "outlinewidth": 0,
              "ticks": ""
             }
            },
            "type": "scatterpolar"
           }
          ],
          "scatterpolargl": [
           {
            "marker": {
             "colorbar": {
              "outlinewidth": 0,
              "ticks": ""
             }
            },
            "type": "scatterpolargl"
           }
          ],
          "scatterternary": [
           {
            "marker": {
             "colorbar": {
              "outlinewidth": 0,
              "ticks": ""
             }
            },
            "type": "scatterternary"
           }
          ],
          "surface": [
           {
            "colorbar": {
             "outlinewidth": 0,
             "ticks": ""
            },
            "colorscale": [
             [
              0,
              "#0d0887"
             ],
             [
              0.1111111111111111,
              "#46039f"
             ],
             [
              0.2222222222222222,
              "#7201a8"
             ],
             [
              0.3333333333333333,
              "#9c179e"
             ],
             [
              0.4444444444444444,
              "#bd3786"
             ],
             [
              0.5555555555555556,
              "#d8576b"
             ],
             [
              0.6666666666666666,
              "#ed7953"
             ],
             [
              0.7777777777777778,
              "#fb9f3a"
             ],
             [
              0.8888888888888888,
              "#fdca26"
             ],
             [
              1,
              "#f0f921"
             ]
            ],
            "type": "surface"
           }
          ],
          "table": [
           {
            "cells": {
             "fill": {
              "color": "#EBF0F8"
             },
             "line": {
              "color": "white"
             }
            },
            "header": {
             "fill": {
              "color": "#C8D4E3"
             },
             "line": {
              "color": "white"
             }
            },
            "type": "table"
           }
          ]
         },
         "layout": {
          "annotationdefaults": {
           "arrowcolor": "#2a3f5f",
           "arrowhead": 0,
           "arrowwidth": 1
          },
          "autotypenumbers": "strict",
          "coloraxis": {
           "colorbar": {
            "outlinewidth": 0,
            "ticks": ""
           }
          },
          "colorscale": {
           "diverging": [
            [
             0,
             "#8e0152"
            ],
            [
             0.1,
             "#c51b7d"
            ],
            [
             0.2,
             "#de77ae"
            ],
            [
             0.3,
             "#f1b6da"
            ],
            [
             0.4,
             "#fde0ef"
            ],
            [
             0.5,
             "#f7f7f7"
            ],
            [
             0.6,
             "#e6f5d0"
            ],
            [
             0.7,
             "#b8e186"
            ],
            [
             0.8,
             "#7fbc41"
            ],
            [
             0.9,
             "#4d9221"
            ],
            [
             1,
             "#276419"
            ]
           ],
           "sequential": [
            [
             0,
             "#0d0887"
            ],
            [
             0.1111111111111111,
             "#46039f"
            ],
            [
             0.2222222222222222,
             "#7201a8"
            ],
            [
             0.3333333333333333,
             "#9c179e"
            ],
            [
             0.4444444444444444,
             "#bd3786"
            ],
            [
             0.5555555555555556,
             "#d8576b"
            ],
            [
             0.6666666666666666,
             "#ed7953"
            ],
            [
             0.7777777777777778,
             "#fb9f3a"
            ],
            [
             0.8888888888888888,
             "#fdca26"
            ],
            [
             1,
             "#f0f921"
            ]
           ],
           "sequentialminus": [
            [
             0,
             "#0d0887"
            ],
            [
             0.1111111111111111,
             "#46039f"
            ],
            [
             0.2222222222222222,
             "#7201a8"
            ],
            [
             0.3333333333333333,
             "#9c179e"
            ],
            [
             0.4444444444444444,
             "#bd3786"
            ],
            [
             0.5555555555555556,
             "#d8576b"
            ],
            [
             0.6666666666666666,
             "#ed7953"
            ],
            [
             0.7777777777777778,
             "#fb9f3a"
            ],
            [
             0.8888888888888888,
             "#fdca26"
            ],
            [
             1,
             "#f0f921"
            ]
           ]
          },
          "colorway": [
           "#636efa",
           "#EF553B",
           "#00cc96",
           "#ab63fa",
           "#FFA15A",
           "#19d3f3",
           "#FF6692",
           "#B6E880",
           "#FF97FF",
           "#FECB52"
          ],
          "font": {
           "color": "#2a3f5f"
          },
          "geo": {
           "bgcolor": "white",
           "lakecolor": "white",
           "landcolor": "white",
           "showlakes": true,
           "showland": true,
           "subunitcolor": "#C8D4E3"
          },
          "hoverlabel": {
           "align": "left"
          },
          "hovermode": "closest",
          "mapbox": {
           "style": "light"
          },
          "paper_bgcolor": "white",
          "plot_bgcolor": "white",
          "polar": {
           "angularaxis": {
            "gridcolor": "#EBF0F8",
            "linecolor": "#EBF0F8",
            "ticks": ""
           },
           "bgcolor": "white",
           "radialaxis": {
            "gridcolor": "#EBF0F8",
            "linecolor": "#EBF0F8",
            "ticks": ""
           }
          },
          "scene": {
           "xaxis": {
            "backgroundcolor": "white",
            "gridcolor": "#DFE8F3",
            "gridwidth": 2,
            "linecolor": "#EBF0F8",
            "showbackground": true,
            "ticks": "",
            "zerolinecolor": "#EBF0F8"
           },
           "yaxis": {
            "backgroundcolor": "white",
            "gridcolor": "#DFE8F3",
            "gridwidth": 2,
            "linecolor": "#EBF0F8",
            "showbackground": true,
            "ticks": "",
            "zerolinecolor": "#EBF0F8"
           },
           "zaxis": {
            "backgroundcolor": "white",
            "gridcolor": "#DFE8F3",
            "gridwidth": 2,
            "linecolor": "#EBF0F8",
            "showbackground": true,
            "ticks": "",
            "zerolinecolor": "#EBF0F8"
           }
          },
          "shapedefaults": {
           "line": {
            "color": "#2a3f5f"
           }
          },
          "ternary": {
           "aaxis": {
            "gridcolor": "#DFE8F3",
            "linecolor": "#A2B1C6",
            "ticks": ""
           },
           "baxis": {
            "gridcolor": "#DFE8F3",
            "linecolor": "#A2B1C6",
            "ticks": ""
           },
           "bgcolor": "white",
           "caxis": {
            "gridcolor": "#DFE8F3",
            "linecolor": "#A2B1C6",
            "ticks": ""
           }
          },
          "title": {
           "x": 0.05
          },
          "xaxis": {
           "automargin": true,
           "gridcolor": "#EBF0F8",
           "linecolor": "#EBF0F8",
           "ticks": "",
           "title": {
            "standoff": 15
           },
           "zerolinecolor": "#EBF0F8",
           "zerolinewidth": 2
          },
          "yaxis": {
           "automargin": true,
           "gridcolor": "#EBF0F8",
           "linecolor": "#EBF0F8",
           "ticks": "",
           "title": {
            "standoff": 15
           },
           "zerolinecolor": "#EBF0F8",
           "zerolinewidth": 2
          }
         }
        },
        "title": {
         "text": "predictions_summed"
        },
        "updatemenus": [
         {
          "active": 0,
          "buttons": [
           {
            "args": [
             {
              "visible": [
               true,
               true,
               false,
               false,
               false,
               false,
               false,
               false,
               false,
               false,
               false,
               false,
               false,
               false,
               false,
               false,
               false,
               false,
               false,
               false,
               false,
               false,
               false,
               false
              ]
             },
             {
              "title": "Selected: OAP: BSUF"
             }
            ],
            "label": "OAP: BSUF",
            "method": "update"
           },
           {
            "args": [
             {
              "visible": [
               false,
               false,
               true,
               true,
               false,
               false,
               false,
               false,
               false,
               false,
               false,
               false,
               false,
               false,
               false,
               false,
               false,
               false,
               false,
               false,
               false,
               false,
               false,
               false
              ]
             },
             {
              "title": "Selected: OAP: CHE"
             }
            ],
            "label": "OAP: CHE",
            "method": "update"
           },
           {
            "args": [
             {
              "visible": [
               false,
               false,
               false,
               false,
               true,
               true,
               false,
               false,
               false,
               false,
               false,
               false,
               false,
               false,
               false,
               false,
               false,
               false,
               false,
               false,
               false,
               false,
               false,
               false
              ]
             },
             {
              "title": "Selected: SFB: BSUF"
             }
            ],
            "label": "SFB: BSUF",
            "method": "update"
           },
           {
            "args": [
             {
              "visible": [
               false,
               false,
               false,
               false,
               false,
               false,
               true,
               true,
               false,
               false,
               false,
               false,
               false,
               false,
               false,
               false,
               false,
               false,
               false,
               false,
               false,
               false,
               false,
               false
              ]
             },
             {
              "title": "Selected: SFB: CHE"
             }
            ],
            "label": "SFB: CHE",
            "method": "update"
           },
           {
            "args": [
             {
              "visible": [
               false,
               false,
               false,
               false,
               false,
               false,
               false,
               false,
               true,
               true,
               false,
               false,
               false,
               false,
               false,
               false,
               false,
               false,
               false,
               false,
               false,
               false,
               false,
               false
              ]
             },
             {
              "title": "Selected: SGB: BSUF"
             }
            ],
            "label": "SGB: BSUF",
            "method": "update"
           },
           {
            "args": [
             {
              "visible": [
               false,
               false,
               false,
               false,
               false,
               false,
               false,
               false,
               false,
               false,
               true,
               true,
               false,
               false,
               false,
               false,
               false,
               false,
               false,
               false,
               false,
               false,
               false,
               false
              ]
             },
             {
              "title": "Selected: SGB: CHE"
             }
            ],
            "label": "SGB: CHE",
            "method": "update"
           },
           {
            "args": [
             {
              "visible": [
               false,
               false,
               false,
               false,
               false,
               false,
               false,
               false,
               false,
               false,
               false,
               false,
               true,
               true,
               false,
               false,
               false,
               false,
               false,
               false,
               false,
               false,
               false,
               false
              ]
             },
             {
              "title": "Selected: SJB: BSUF"
             }
            ],
            "label": "SJB: BSUF",
            "method": "update"
           },
           {
            "args": [
             {
              "visible": [
               false,
               false,
               false,
               false,
               false,
               false,
               false,
               false,
               false,
               false,
               false,
               false,
               false,
               false,
               true,
               true,
               false,
               false,
               false,
               false,
               false,
               false,
               false,
               false
              ]
             },
             {
              "title": "Selected: SJB: CHE"
             }
            ],
            "label": "SJB: CHE",
            "method": "update"
           },
           {
            "args": [
             {
              "visible": [
               false,
               false,
               false,
               false,
               false,
               false,
               false,
               false,
               false,
               false,
               false,
               false,
               false,
               false,
               false,
               false,
               true,
               true,
               false,
               false,
               false,
               false,
               false,
               false
              ]
             },
             {
              "title": "Selected: SMB: BSUF"
             }
            ],
            "label": "SMB: BSUF",
            "method": "update"
           },
           {
            "args": [
             {
              "visible": [
               false,
               false,
               false,
               false,
               false,
               false,
               false,
               false,
               false,
               false,
               false,
               false,
               false,
               false,
               false,
               false,
               false,
               false,
               true,
               true,
               false,
               false,
               false,
               false
              ]
             },
             {
              "title": "Selected: SMB: CHE"
             }
            ],
            "label": "SMB: CHE",
            "method": "update"
           },
           {
            "args": [
             {
              "visible": [
               false,
               false,
               false,
               false,
               false,
               false,
               false,
               false,
               false,
               false,
               false,
               false,
               false,
               false,
               false,
               false,
               false,
               false,
               false,
               false,
               true,
               true,
               false,
               false
              ]
             },
             {
              "title": "Selected: VAP: BSUF"
             }
            ],
            "label": "VAP: BSUF",
            "method": "update"
           },
           {
            "args": [
             {
              "visible": [
               false,
               false,
               false,
               false,
               false,
               false,
               false,
               false,
               false,
               false,
               false,
               false,
               false,
               false,
               false,
               false,
               false,
               false,
               false,
               false,
               false,
               false,
               true,
               true
              ]
             },
             {
              "title": "Selected: VAP: CHE"
             }
            ],
            "label": "VAP: CHE",
            "method": "update"
           },
           {
            "args": [
             {
              "visible": [
               true,
               true,
               true,
               true,
               true,
               true,
               true,
               true,
               true,
               true,
               true,
               true,
               true,
               true,
               true,
               true,
               true,
               true,
               true,
               true,
               true,
               true,
               true,
               true
              ]
             },
             {
              "title": "All Traces Visible"
             }
            ],
            "label": "Show All",
            "method": "update"
           }
          ],
          "direction": "down",
          "showactive": true,
          "x": 1.05,
          "xanchor": "left",
          "y": 1,
          "yanchor": "top"
         }
        ],
        "xaxis": {
         "title": {
          "text": "Week after Transplant"
         }
        },
        "yaxis": {
         "title": {
          "text": "Harvest (kg)"
         }
        }
       }
      }
     },
     "metadata": {},
     "output_type": "display_data"
    }
   ],
   "source": [
    "fig.show()"
   ]
  },
  {
   "cell_type": "code",
   "execution_count": null,
   "metadata": {},
   "outputs": [],
   "source": []
  }
 ],
 "metadata": {
  "kernelspec": {
   "display_name": "cherry",
   "language": "python",
   "name": "python3"
  },
  "language_info": {
   "codemirror_mode": {
    "name": "ipython",
    "version": 3
   },
   "file_extension": ".py",
   "mimetype": "text/x-python",
   "name": "python",
   "nbconvert_exporter": "python",
   "pygments_lexer": "ipython3",
   "version": "3.10.15"
  }
 },
 "nbformat": 4,
 "nbformat_minor": 2
}
