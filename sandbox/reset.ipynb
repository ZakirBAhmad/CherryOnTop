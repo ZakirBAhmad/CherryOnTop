{
 "cells": [
  {
   "cell_type": "code",
   "execution_count": 1,
   "id": "5caaf12d",
   "metadata": {},
   "outputs": [],
   "source": [
    "\n",
    "\n",
    "import sys\n",
    "import os\n",
    "sys.path.append(os.path.abspath('..'))"
   ]
  },
  {
   "cell_type": "code",
   "execution_count": 2,
   "id": "babdda99",
   "metadata": {},
   "outputs": [],
   "source": [
    "import torch\n",
    "from torch.utils.data import DataLoader\n",
    "import torch.nn as nn\n",
    "import src.model as models\n",
    "import src.load as load\n",
    "import src.training as training\n"
   ]
  },
  {
   "cell_type": "code",
   "execution_count": 3,
   "id": "dbbbeb6a",
   "metadata": {},
   "outputs": [],
   "source": [
    "folder_path = \"../data/processed/\"\n",
    "\n",
    "train_dataset, test_dataset, mappings, reverse_mappings, train_meta, test_meta  = load.separate_prop(folder_path)\n"
   ]
  },
  {
   "cell_type": "code",
   "execution_count": 4,
   "id": "c0b8c813",
   "metadata": {},
   "outputs": [],
   "source": [
    "criterion = nn.MSELoss()"
   ]
  },
  {
   "cell_type": "code",
   "execution_count": 5,
   "id": "b0d4bb3d",
   "metadata": {},
   "outputs": [],
   "source": [
    "batch_size = 32\n",
    "weight_decay = 1e-4\n",
    "gamma = 0.1\n",
    "step_size = 10\n",
    "lr = 1e-4\n",
    "num_epochs = 200\n",
    "tolerance = 5\n",
    "patience = 30\n",
    "min_epochs = 50\n",
    "\n",
    "\n"
   ]
  },
  {
   "cell_type": "code",
   "execution_count": 6,
   "id": "b0e343d1",
   "metadata": {},
   "outputs": [
    {
     "name": "stdout",
     "output_type": "stream",
     "text": [
      "Early stopping at epoch 59\n",
      "Week 1 Best epoch: 28\n",
      "Early stopping at epoch 58\n",
      "Week 1 Best epoch: 27\n",
      "Early stopping at epoch 55\n",
      "Week 1 Best epoch: 24\n",
      "Week 1 trained successfully\n",
      "Early stopping at epoch 129\n",
      "Week 2 Best epoch: 98\n",
      "Early stopping at epoch 67\n",
      "Week 2 Best epoch: 36\n",
      "Early stopping at epoch 104\n",
      "Week 2 Best epoch: 73\n",
      "Week 2 trained successfully\n",
      "Early stopping at epoch 66\n",
      "Week 3 Best epoch: 35\n",
      "Early stopping at epoch 85\n",
      "Week 3 Best epoch: 54\n",
      "Early stopping at epoch 97\n",
      "Week 3 Best epoch: 66\n",
      "Week 3 trained successfully\n",
      "Early stopping at epoch 61\n",
      "Week 4 Best epoch: 30\n",
      "Early stopping at epoch 64\n",
      "Week 4 Best epoch: 33\n",
      "Early stopping at epoch 94\n",
      "Week 4 Best epoch: 63\n",
      "Week 4 trained successfully\n",
      "Early stopping at epoch 77\n",
      "Week 5 Best epoch: 46\n",
      "Early stopping at epoch 51\n",
      "Week 5 Best epoch: 19\n",
      "Early stopping at epoch 72\n",
      "Week 5 Best epoch: 41\n",
      "Week 5 trained successfully\n",
      "Early stopping at epoch 161\n",
      "Week 6 Best epoch: 130\n",
      "Early stopping at epoch 94\n",
      "Week 6 Best epoch: 63\n",
      "Early stopping at epoch 64\n",
      "Week 6 Best epoch: 33\n",
      "Week 6 trained successfully\n",
      "Early stopping at epoch 89\n",
      "Week 7 Best epoch: 58\n",
      "Early stopping at epoch 54\n",
      "Week 7 Best epoch: 23\n",
      "Early stopping at epoch 67\n",
      "Week 7 Best epoch: 36\n",
      "Week 7 trained successfully\n",
      "Early stopping at epoch 73\n",
      "Week 8 Best epoch: 42\n",
      "Early stopping at epoch 86\n",
      "Week 8 Best epoch: 55\n",
      "Early stopping at epoch 123\n",
      "Week 8 Best epoch: 92\n",
      "Week 8 trained successfully\n",
      "Early stopping at epoch 57\n",
      "Week 9 Best epoch: 26\n",
      "Early stopping at epoch 51\n",
      "Week 9 Best epoch: 19\n",
      "Early stopping at epoch 62\n",
      "Week 9 Best epoch: 31\n",
      "Week 9 trained successfully\n",
      "Early stopping at epoch 54\n",
      "Week 10 Best epoch: 23\n",
      "Early stopping at epoch 64\n",
      "Week 10 Best epoch: 33\n",
      "Early stopping at epoch 55\n",
      "Week 10 Best epoch: 24\n",
      "Week 10 trained successfully\n",
      "Early stopping at epoch 75\n",
      "Week 11 Best epoch: 44\n",
      "Early stopping at epoch 53\n",
      "Week 11 Best epoch: 22\n",
      "Early stopping at epoch 70\n",
      "Week 11 Best epoch: 39\n",
      "Week 11 trained successfully\n",
      "Early stopping at epoch 80\n",
      "Week 12 Best epoch: 49\n",
      "Early stopping at epoch 51\n",
      "Week 12 Best epoch: 10\n",
      "Early stopping at epoch 102\n",
      "Week 12 Best epoch: 71\n",
      "Week 12 trained successfully\n",
      "Early stopping at epoch 130\n",
      "Week 13 Best epoch: 99\n",
      "Early stopping at epoch 51\n",
      "Week 13 Best epoch: 9\n",
      "Early stopping at epoch 86\n",
      "Week 13 Best epoch: 55\n",
      "Week 13 trained successfully\n",
      "Early stopping at epoch 74\n",
      "Week 14 Best epoch: 43\n",
      "Early stopping at epoch 51\n",
      "Week 14 Best epoch: 5\n",
      "Early stopping at epoch 103\n",
      "Week 14 Best epoch: 72\n",
      "Week 14 trained successfully\n",
      "Early stopping at epoch 86\n",
      "Week 15 Best epoch: 55\n",
      "Early stopping at epoch 51\n",
      "Week 15 Best epoch: 5\n",
      "Early stopping at epoch 58\n",
      "Week 15 Best epoch: 27\n",
      "Week 15 trained successfully\n",
      "Early stopping at epoch 75\n",
      "Week 16 Best epoch: 44\n",
      "Early stopping at epoch 51\n",
      "Week 16 Best epoch: 4\n",
      "Early stopping at epoch 67\n",
      "Week 16 Best epoch: 36\n",
      "Week 16 trained successfully\n",
      "Early stopping at epoch 73\n",
      "Week 17 Best epoch: 42\n",
      "Early stopping at epoch 51\n",
      "Week 17 Best epoch: 13\n",
      "Early stopping at epoch 53\n",
      "Week 17 Best epoch: 22\n",
      "Week 17 trained successfully\n",
      "Early stopping at epoch 59\n",
      "Week 18 Best epoch: 28\n",
      "Early stopping at epoch 51\n",
      "Week 18 Best epoch: 13\n",
      "Early stopping at epoch 58\n",
      "Week 18 Best epoch: 27\n",
      "Week 18 trained successfully\n",
      "Early stopping at epoch 63\n",
      "Week 19 Best epoch: 32\n",
      "Early stopping at epoch 63\n",
      "Week 19 Best epoch: 32\n",
      "Early stopping at epoch 68\n",
      "Week 19 Best epoch: 37\n",
      "Week 19 trained successfully\n",
      "Early stopping at epoch 88\n",
      "Week 20 Best epoch: 57\n",
      "Early stopping at epoch 51\n",
      "Week 20 Best epoch: 9\n",
      "Early stopping at epoch 122\n",
      "Week 20 Best epoch: 91\n",
      "Week 20 trained successfully\n"
     ]
    }
   ],
   "source": [
    "models = training.train_full(train_dataset, test_dataset, 20, num_epochs,tolerance,lr,weight_decay,step_size,gamma,batch_size,patience,min_epochs)"
   ]
  },
  {
   "cell_type": "code",
   "execution_count": 8,
   "id": "d5b20f67",
   "metadata": {},
   "outputs": [
    {
     "data": {
      "text/plain": [
       "dict_keys([1, 2, 3, 4, 5, 6, 7, 8, 9, 10, 11, 12, 13, 14, 15, 16, 17, 18, 19, 20])"
      ]
     },
     "execution_count": 8,
     "metadata": {},
     "output_type": "execute_result"
    }
   ],
   "source": [
    "models.keys()"
   ]
  },
  {
   "cell_type": "code",
   "execution_count": 9,
   "id": "241f1f3a",
   "metadata": {},
   "outputs": [],
   "source": [
    "base_dir = \"../app/models\""
   ]
  },
  {
   "cell_type": "code",
   "execution_count": 10,
   "id": "f1015297",
   "metadata": {},
   "outputs": [
    {
     "data": {
      "text/plain": [
       "['week_18',\n",
       " 'week_20',\n",
       " 'week_16',\n",
       " 'week_11',\n",
       " 'week_10',\n",
       " 'week_17',\n",
       " 'week_19',\n",
       " 'week_2',\n",
       " 'week_5',\n",
       " 'week_4',\n",
       " 'week_3',\n",
       " 'week_12',\n",
       " 'week_15',\n",
       " 'week_14',\n",
       " 'week_13',\n",
       " 'week_6',\n",
       " 'week_1',\n",
       " 'week_8',\n",
       " 'week_9',\n",
       " 'week_7']"
      ]
     },
     "execution_count": 10,
     "metadata": {},
     "output_type": "execute_result"
    }
   ],
   "source": [
    "os.listdir(base_dir)"
   ]
  },
  {
   "cell_type": "code",
   "execution_count": null,
   "id": "95ce8a4a",
   "metadata": {},
   "outputs": [],
   "source": [
    "import app.demo as demo\n",
    "import app.utils as utils"
   ]
  },
  {
   "cell_type": "code",
   "execution_count": null,
   "id": "7e07be23",
   "metadata": {},
   "outputs": [],
   "source": []
  },
  {
   "cell_type": "code",
   "execution_count": 14,
   "id": "6d334035",
   "metadata": {},
   "outputs": [
    {
     "ename": "KeyError",
     "evalue": "'yield_18'",
     "output_type": "error",
     "traceback": [
      "\u001b[0;31m---------------------------------------------------------------------------\u001b[0m",
      "\u001b[0;31mKeyError\u001b[0m                                  Traceback (most recent call last)",
      "Cell \u001b[0;32mIn[14], line 1\u001b[0m\n\u001b[0;32m----> 1\u001b[0m \u001b[43mutils\u001b[49m\u001b[38;5;241;43m.\u001b[39;49m\u001b[43mload_models\u001b[49m\u001b[43m(\u001b[49m\u001b[38;5;124;43m'\u001b[39;49m\u001b[38;5;124;43m../app/models\u001b[39;49m\u001b[38;5;124;43m'\u001b[39;49m\u001b[43m)\u001b[49m\n",
      "File \u001b[0;32m~/Documents/Projects/CherryOnTop/app/utils.py:20\u001b[0m, in \u001b[0;36mload_models\u001b[0;34m(folder_path)\u001b[0m\n\u001b[1;32m     18\u001b[0m             \u001b[38;5;28;01melif\u001b[39;00m \u001b[38;5;124m'\u001b[39m\u001b[38;5;124msched\u001b[39m\u001b[38;5;124m'\u001b[39m \u001b[38;5;129;01min\u001b[39;00m file:\n\u001b[1;32m     19\u001b[0m                 models[\u001b[38;5;28mdir\u001b[39m][file[:\u001b[38;5;241m-\u001b[39m\u001b[38;5;241m3\u001b[39m]] \u001b[38;5;241m=\u001b[39m ScheduleModel()\n\u001b[0;32m---> 20\u001b[0m             \u001b[43mmodels\u001b[49m\u001b[43m[\u001b[49m\u001b[38;5;28;43mdir\u001b[39;49m\u001b[43m]\u001b[49m\u001b[43m[\u001b[49m\u001b[43mfile\u001b[49m\u001b[43m[\u001b[49m\u001b[43m:\u001b[49m\u001b[38;5;241;43m-\u001b[39;49m\u001b[38;5;241;43m3\u001b[39;49m\u001b[43m]\u001b[49m\u001b[43m]\u001b[49m\u001b[38;5;241m.\u001b[39mload_state_dict(torch\u001b[38;5;241m.\u001b[39mload(os\u001b[38;5;241m.\u001b[39mpath\u001b[38;5;241m.\u001b[39mjoin(sub_dir, file)))\n\u001b[1;32m     21\u001b[0m             models[\u001b[38;5;28mdir\u001b[39m][file[:\u001b[38;5;241m-\u001b[39m\u001b[38;5;241m3\u001b[39m]]\u001b[38;5;241m.\u001b[39meval()\n\u001b[1;32m     22\u001b[0m \u001b[38;5;28;01mreturn\u001b[39;00m models\n",
      "\u001b[0;31mKeyError\u001b[0m: 'yield_18'"
     ]
    }
   ],
   "source": [
    "utils.load_models('../app/models')"
   ]
  }
 ],
 "metadata": {
  "kernelspec": {
   "display_name": "cherry",
   "language": "python",
   "name": "python3"
  },
  "language_info": {
   "codemirror_mode": {
    "name": "ipython",
    "version": 3
   },
   "file_extension": ".py",
   "mimetype": "text/x-python",
   "name": "python",
   "nbconvert_exporter": "python",
   "pygments_lexer": "ipython3",
   "version": "3.10.15"
  }
 },
 "nbformat": 4,
 "nbformat_minor": 5
}
