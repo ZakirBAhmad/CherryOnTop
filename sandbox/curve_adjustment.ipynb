{
 "cells": [
  {
   "cell_type": "code",
   "execution_count": 1,
   "metadata": {},
   "outputs": [],
   "source": [
    "import sys\n",
    "import os\n",
    "sys.path.append(os.path.abspath('..'))"
   ]
  },
  {
   "cell_type": "code",
   "execution_count": 2,
   "metadata": {},
   "outputs": [],
   "source": [
    "#imports\n",
    "import torch\n",
    "from torch.utils.data import Dataset\n",
    "import numpy as np\n",
    "from src.updated_model import HarvestModel\n",
    "from torch.utils.data import DataLoader\n",
    "import src.preprocessing as pre\n",
    "from torch.utils.data import random_split\n",
    "import torch.nn as nn\n",
    "import torch.optim as optim"
   ]
  },
  {
   "cell_type": "code",
   "execution_count": 3,
   "metadata": {},
   "outputs": [],
   "source": [
    "from src.updated_dataset import create_dataset\n",
    "from src.updated_utils import create_model"
   ]
  },
  {
   "cell_type": "code",
   "execution_count": 4,
   "metadata": {},
   "outputs": [],
   "source": [
    "from sklearn.model_selection import KFold\n",
    "from torch.utils.data import Subset"
   ]
  },
  {
   "cell_type": "code",
   "execution_count": 5,
   "metadata": {},
   "outputs": [],
   "source": [
    "meta, y, mapping_dict = pre.load_data('../data/meta.json','../data/y.csv','../data/mappings.json')"
   ]
  },
  {
   "cell_type": "code",
   "execution_count": null,
   "metadata": {},
   "outputs": [],
   "source": []
  },
  {
   "cell_type": "code",
   "execution_count": 6,
   "metadata": {},
   "outputs": [],
   "source": [
    "dataset = create_dataset(meta, y, mapping_dict)"
   ]
  },
  {
   "cell_type": "code",
   "execution_count": 7,
   "metadata": {},
   "outputs": [
    {
     "name": "stdout",
     "output_type": "stream",
     "text": [
      "Epoch [1/200], Loss: 9525330.3007\n",
      "Epoch [1/200], Loss: 9054967.1014\n",
      "Epoch [1/200], Loss: 9846572.6284\n",
      "Epoch [1/200], Loss: 9492909.7568\n",
      "Epoch [1/200], Loss: 9696272.3108\n"
     ]
    }
   ],
   "source": [
    "results = np.zeros((len(dataset),16))\n",
    "kfold = KFold(n_splits=5, shuffle=True, random_state=42)\n",
    "\n",
    "for fold, (train_idx, val_idx) in enumerate(kfold.split(dataset)): #type: ignore\n",
    "    train_dataset = Subset(dataset, train_idx) #type: ignore\n",
    "    val_dataset = Subset(dataset, val_idx) #type: ignore\n",
    "\n",
    "    model, val_loader = create_model(train_dataset, val_dataset, 1)\n",
    "\n",
    "    results = []\n",
    "    model.eval()\n",
    "    criterion = nn.MSELoss()\n",
    "    with torch.no_grad():\n",
    "        for batch in val_loader:\n",
    "            features, ranch_id, class_id, type_id, variety_id, climate_data, y, bounds, idx = batch\n",
    "            kilo_ranges = torch.arange(4,20)\n",
    "            batch_size = len(y)\n",
    "            log_kilos = torch.log1p(y) \n",
    "            week_numbers = torch.arange(0, 20).unsqueeze(0).repeat(batch_size,1)\n",
    "            inputs = torch.stack([y, log_kilos, week_numbers], dim=2)\n",
    "\n",
    "            for i,kilo_range in enumerate(kilo_ranges):\n",
    "                \n",
    "                kilo_inputs = inputs[:,:kilo_range.item(),:]\n",
    "                outputs, clamp = model(features, ranch_id, class_id, type_id, variety_id, climate_data, kilo_inputs)\n",
    "\n",
    "\n",
    "\n",
    "\n",
    "\n"
   ]
  },
  {
   "cell_type": "code",
   "execution_count": 8,
   "metadata": {},
   "outputs": [
    {
     "ename": "ValueError",
     "evalue": "too many values to unpack (expected 8)",
     "output_type": "error",
     "traceback": [
      "\u001b[0;31m---------------------------------------------------------------------------\u001b[0m",
      "\u001b[0;31mValueError\u001b[0m                                Traceback (most recent call last)",
      "Cell \u001b[0;32mIn[8], line 6\u001b[0m\n\u001b[1;32m      4\u001b[0m \u001b[38;5;28;01mwith\u001b[39;00m torch\u001b[38;5;241m.\u001b[39mno_grad():\n\u001b[1;32m      5\u001b[0m     \u001b[38;5;28;01mfor\u001b[39;00m batch \u001b[38;5;129;01min\u001b[39;00m val_loader:\n\u001b[0;32m----> 6\u001b[0m         features, ranch_id, class_id, type_id, variety_id, climate_data, y, bounds \u001b[38;5;241m=\u001b[39m batch\n\u001b[1;32m      7\u001b[0m         kilo_ranges \u001b[38;5;241m=\u001b[39m torch\u001b[38;5;241m.\u001b[39marange(\u001b[38;5;241m4\u001b[39m,\u001b[38;5;241m20\u001b[39m,\u001b[38;5;241m4\u001b[39m)\n\u001b[1;32m      8\u001b[0m         row_results \u001b[38;5;241m=\u001b[39m []\n",
      "\u001b[0;31mValueError\u001b[0m: too many values to unpack (expected 8)"
     ]
    }
   ],
   "source": [
    "results = []\n",
    "model.eval()\n",
    "criterion = nn.MSELoss()\n",
    "with torch.no_grad():\n",
    "    for batch in val_loader:\n",
    "        features, ranch_id, class_id, type_id, variety_id, climate_data, y, bounds = batch\n",
    "        kilo_ranges = torch.arange(4,20,4)\n",
    "        row_results = []\n",
    "        batch_size = len(y)\n",
    "        log_kilos = torch.log1p(y) \n",
    "        week_numbers = torch.arange(0, 20).unsqueeze(0).repeat(batch_size,1)\n",
    "        inputs = torch.stack([y, log_kilos, week_numbers], dim=2)\n",
    "        for kilo_range in kilo_ranges:\n",
    "            \n",
    "            kilo_inputs = inputs[:,:kilo_range.item(),:]\n",
    "            outputs, clamp = model(features, ranch_id, class_id, type_id, variety_id, climate_data, kilo_inputs)\n",
    "            loss = criterion(outputs, y)\n",
    "            row_results.append(loss.item())\n",
    "\n",
    "        results.append(row_results)\n",
    "\n"
   ]
  },
  {
   "cell_type": "code",
   "execution_count": null,
   "metadata": {},
   "outputs": [],
   "source": []
  }
 ],
 "metadata": {
  "kernelspec": {
   "display_name": "cherry",
   "language": "python",
   "name": "python3"
  },
  "language_info": {
   "codemirror_mode": {
    "name": "ipython",
    "version": 3
   },
   "file_extension": ".py",
   "mimetype": "text/x-python",
   "name": "python",
   "nbconvert_exporter": "python",
   "pygments_lexer": "ipython3",
   "version": "3.10.15"
  }
 },
 "nbformat": 4,
 "nbformat_minor": 2
}
