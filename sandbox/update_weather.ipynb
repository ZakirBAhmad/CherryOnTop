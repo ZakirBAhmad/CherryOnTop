{
 "cells": [
  {
   "cell_type": "code",
   "execution_count": 2,
   "metadata": {},
   "outputs": [],
   "source": [
    "import sys\n",
    "import os\n",
    "sys.path.append(os.path.abspath('..'))"
   ]
  },
  {
   "cell_type": "code",
   "execution_count": 10,
   "metadata": {},
   "outputs": [],
   "source": [
    "import json\n",
    "import numpy as np\n",
    "import pandas as pd"
   ]
  },
  {
   "cell_type": "code",
   "execution_count": 8,
   "metadata": {},
   "outputs": [],
   "source": [
    "folder_path = '../data/raw/climate'\n",
    "\n",
    "file_names = os.listdir(folder_path)\n"
   ]
  },
  {
   "cell_type": "code",
   "execution_count": 15,
   "metadata": {},
   "outputs": [],
   "source": [
    "dfs = []\n",
    "for file in file_names:\n",
    "    loc = file.split('_')[2][:-4]\n",
    "    df = pd.read_csv(os.path.join(folder_path, file))\n",
    "    df['Location'] = loc\n",
    "    dfs.append(df)\n",
    "\n",
    "df = pd.concat(dfs)"
   ]
  },
  {
   "cell_type": "code",
   "execution_count": 16,
   "metadata": {},
   "outputs": [],
   "source": [
    "df.drop(columns=['Unnamed: 0','0','weather_code'], inplace=True)"
   ]
  },
  {
   "cell_type": "code",
   "execution_count": 18,
   "metadata": {},
   "outputs": [],
   "source": [
    "columns_to_normalize = [\n",
    "    'temperature_2m_max',\n",
    "    'temperature_2m_min',\n",
    "    'precipitation_sum',\n",
    "    'rain_sum',\n",
    "    'shortwave_radiation_sum',\n",
    "    'et0_fao_evapotranspiration',\n",
    "    'sunshine_duration',\n",
    "    'precipitation_hours',\n",
    "    'wind_speed_10m_max'\n",
    "]\n"
   ]
  },
  {
   "cell_type": "code",
   "execution_count": 19,
   "metadata": {},
   "outputs": [],
   "source": [
    "df_normalized = df.copy()"
   ]
  },
  {
   "cell_type": "code",
   "execution_count": 24,
   "metadata": {},
   "outputs": [],
   "source": [
    "from sklearn.preprocessing import RobustScaler\n",
    "from joblib import dump"
   ]
  },
  {
   "cell_type": "code",
   "execution_count": 22,
   "metadata": {},
   "outputs": [],
   "source": [
    "scaler = RobustScaler()\n",
    "df_normalized[columns_to_normalize] = scaler.fit_transform(df[columns_to_normalize])"
   ]
  },
  {
   "cell_type": "code",
   "execution_count": 25,
   "metadata": {},
   "outputs": [
    {
     "data": {
      "text/plain": [
       "['robust_scaler.joblib']"
      ]
     },
     "execution_count": 25,
     "metadata": {},
     "output_type": "execute_result"
    }
   ],
   "source": [
    "dump(scaler, 'robust_scaler.joblib')"
   ]
  },
  {
   "cell_type": "code",
   "execution_count": 27,
   "metadata": {},
   "outputs": [],
   "source": [
    "df_normalized.to_csv('../data/processed/all_locations_normalized.csv', index=False)"
   ]
  },
  {
   "cell_type": "code",
   "execution_count": 28,
   "metadata": {},
   "outputs": [],
   "source": [
    "import src.load as load"
   ]
  },
  {
   "cell_type": "code",
   "execution_count": 30,
   "metadata": {},
   "outputs": [],
   "source": [
    "import src.load as load\n",
    "\n",
    "meta, y, mappings, reverse_mappings = load.load_data('../data/processed/')\n",
    "\n"
   ]
  },
  {
   "cell_type": "code",
   "execution_count": 40,
   "metadata": {},
   "outputs": [],
   "source": [
    "df_normalized.date = pd.to_datetime(df_normalized.date).dt.tz_localize(None)"
   ]
  },
  {
   "cell_type": "code",
   "execution_count": 41,
   "metadata": {},
   "outputs": [],
   "source": [
    "def get_climate_series(row):\n",
    "    \"\"\"returns the climate series from df_normalized for 100 days after transplant date. returns values from columns to be normalized\"\"\"\n",
    "    transplant_date = row['TransplantDate']\n",
    "    location = row['ProducerCode']\n",
    "    \n",
    "    # Filter the dataframe for the specific location\n",
    "    location_data = df_normalized[df_normalized['Location'] == location]\n",
    "    \n",
    "    # Convert transplant_date to datetime\n",
    "    transplant_date = pd.to_datetime(transplant_date)\n",
    "    \n",
    "    # Filter the data for 100 days after the transplant date\n",
    "    climate_series = location_data[(location_data['date'] >= transplant_date) & \n",
    "                                   (location_data['date'] < transplant_date + pd.Timedelta(days=100))]\n",
    "    \n",
    "    # Return the values from columns to be normalized\n",
    "    return climate_series[columns_to_normalize].values.tolist()\n"
   ]
  }
 ],
 "metadata": {
  "kernelspec": {
   "display_name": "cherry",
   "language": "python",
   "name": "python3"
  },
  "language_info": {
   "codemirror_mode": {
    "name": "ipython",
    "version": 3
   },
   "file_extension": ".py",
   "mimetype": "text/x-python",
   "name": "python",
   "nbconvert_exporter": "python",
   "pygments_lexer": "ipython3",
   "version": "3.10.15"
  }
 },
 "nbformat": 4,
 "nbformat_minor": 2
}
