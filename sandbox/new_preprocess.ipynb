{
 "cells": [
  {
   "cell_type": "code",
   "execution_count": 1,
   "metadata": {},
   "outputs": [],
   "source": [
    "import sys\n",
    "import os\n",
    "\n",
    "# Add the parent directory to sys.path\n",
    "sys.path.append(os.path.abspath('..'))"
   ]
  },
  {
   "cell_type": "code",
   "execution_count": 2,
   "metadata": {},
   "outputs": [],
   "source": [
    "import pandas as pd\n",
    "import numpy as np\n",
    "from src.dataset import HarvestDataset\n",
    "import src.preprocessing as pre\n",
    "from src.model import HarvestModel\n",
    "from torch.utils.data import DataLoader\n",
    "import torch.nn as nn\n",
    "import torch.optim as optim\n"
   ]
  },
  {
   "cell_type": "code",
   "execution_count": 3,
   "metadata": {},
   "outputs": [],
   "source": [
    "train,test, mappings = pre.separate_year('../data/planting_meta.json','../data/y.csv','../data/mapping_dict.json')"
   ]
  },
  {
   "cell_type": "code",
   "execution_count": 5,
   "metadata": {},
   "outputs": [],
   "source": [
    "from src.utils import train_harvest_model, predict_harvest"
   ]
  },
  {
   "cell_type": "code",
   "execution_count": 7,
   "metadata": {},
   "outputs": [
    {
     "name": "stdout",
     "output_type": "stream",
     "text": [
      "Epoch [1/5], Loss: 5486333.6023\n",
      "Epoch [2/5], Loss: 4201452.6307\n",
      "Epoch [3/5], Loss: 4290693.6818\n",
      "Epoch [4/5], Loss: 4219186.3194\n",
      "Epoch [5/5], Loss: 4185529.3106\n"
     ]
    }
   ],
   "source": [
    "model = train_harvest_model(train)"
   ]
  },
  {
   "cell_type": "code",
   "execution_count": 12,
   "metadata": {},
   "outputs": [],
   "source": [
    "arr = predict_harvest(model,test)"
   ]
  },
  {
   "cell_type": "code",
   "execution_count": 11,
   "metadata": {},
   "outputs": [
    {
     "data": {
      "text/plain": [
       "torch.Size([155, 26])"
      ]
     },
     "execution_count": 11,
     "metadata": {},
     "output_type": "execute_result"
    }
   ],
   "source": [
    "test.Y.shape"
   ]
  },
  {
   "cell_type": "code",
   "execution_count": 13,
   "metadata": {},
   "outputs": [
    {
     "data": {
      "text/plain": [
       "(155, 26)"
      ]
     },
     "execution_count": 13,
     "metadata": {},
     "output_type": "execute_result"
    }
   ],
   "source": [
    "arr.shape"
   ]
  },
  {
   "cell_type": "code",
   "execution_count": 17,
   "metadata": {},
   "outputs": [
    {
     "data": {
      "text/plain": [
       "tensor([0.0000e+00, 0.0000e+00, 0.0000e+00, 0.0000e+00, 0.0000e+00, 0.0000e+00,\n",
       "        0.0000e+00, 0.0000e+00, 0.0000e+00, 0.0000e+00, 0.0000e+00, 0.0000e+00,\n",
       "        2.3128e+01, 8.0949e+01, 1.6368e+02, 3.4203e+02, 6.2135e+02, 1.0163e+03,\n",
       "        1.5447e+03, 1.7729e+03, 5.8432e+03, 1.1280e+00, 1.7304e+01, 7.9713e+02,\n",
       "        2.5290e-01, 3.4391e-01])"
      ]
     },
     "execution_count": 17,
     "metadata": {},
     "output_type": "execute_result"
    }
   ],
   "source": [
    "test.Y[0]"
   ]
  },
  {
   "cell_type": "code",
   "execution_count": 18,
   "metadata": {},
   "outputs": [
    {
     "data": {
      "text/plain": [
       "array([-7.1312151e+00, -1.0732771e+01,  5.8676958e+00,  6.6447358e+00,\n",
       "        2.3453465e+01,  1.9322111e+01,  1.1321608e+01,  4.4792757e+00,\n",
       "        2.0905426e+01,  2.7569777e+01,  1.2399681e+02,  2.6674225e+02,\n",
       "        4.8764639e+02,  7.2669421e+02,  9.5314508e+02,  1.0440724e+03,\n",
       "        1.0921763e+03,  1.0110224e+03,  8.5860760e+02,  6.6888593e+02,\n",
       "        7.4884287e+03,  6.3575464e+02, -3.4589661e+02,  3.0926617e+02,\n",
       "        2.5856256e-01, -9.2868209e-01], dtype=float32)"
      ]
     },
     "execution_count": 18,
     "metadata": {},
     "output_type": "execute_result"
    }
   ],
   "source": [
    "arr[0]"
   ]
  },
  {
   "cell_type": "code",
   "execution_count": null,
   "metadata": {},
   "outputs": [],
   "source": []
  }
 ],
 "metadata": {
  "kernelspec": {
   "display_name": "cherry",
   "language": "python",
   "name": "python3"
  },
  "language_info": {
   "codemirror_mode": {
    "name": "ipython",
    "version": 3
   },
   "file_extension": ".py",
   "mimetype": "text/x-python",
   "name": "python",
   "nbconvert_exporter": "python",
   "pygments_lexer": "ipython3",
   "version": "3.10.15"
  }
 },
 "nbformat": 4,
 "nbformat_minor": 2
}
