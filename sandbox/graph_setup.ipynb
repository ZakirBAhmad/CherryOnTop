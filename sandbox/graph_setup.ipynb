{
 "cells": [
  {
   "cell_type": "code",
   "execution_count": 1,
   "metadata": {},
   "outputs": [],
   "source": [
    "import sys\n",
    "import os\n",
    "\n",
    "sys.path.append(os.path.abspath('..'))"
   ]
  },
  {
   "cell_type": "code",
   "execution_count": 2,
   "metadata": {},
   "outputs": [],
   "source": [
    "import pandas as pd\n",
    "import numpy as np\n",
    "\n",
    "import src.preprocessing as pre\n",
    "import plotly.graph_objects as go\n",
    "import src.utils as utils\n",
    "from torch.utils.data import DataLoader\n",
    "import src.table as table\n",
    "import src.graphs as graphs"
   ]
  },
  {
   "cell_type": "code",
   "execution_count": 3,
   "metadata": {},
   "outputs": [],
   "source": [
    "train, test, mappings, meta = pre.separate_year('../data/meta.json','../data/y.csv','../data/mappings.json')"
   ]
  },
  {
   "cell_type": "code",
   "execution_count": 4,
   "metadata": {},
   "outputs": [
    {
     "name": "stdout",
     "output_type": "stream",
     "text": [
      "Epoch [1/200], Loss: 4397113.2699\n"
     ]
    }
   ],
   "source": [
    "model = utils.create_model(train,num_epochs=1)"
   ]
  },
  {
   "cell_type": "code",
   "execution_count": 5,
   "metadata": {},
   "outputs": [],
   "source": [
    "preds = utils.predict_gridded_harvest(model,test)"
   ]
  },
  {
   "cell_type": "code",
   "execution_count": 6,
   "metadata": {},
   "outputs": [],
   "source": [
    "actuals = test.Y.detach().numpy()"
   ]
  },
  {
   "cell_type": "code",
   "execution_count": 7,
   "metadata": {},
   "outputs": [],
   "source": [
    "production_plan = pre.decode(meta,mappings).reset_index(drop=True)"
   ]
  },
  {
   "cell_type": "code",
   "execution_count": 8,
   "metadata": {},
   "outputs": [],
   "source": [
    "idx_dict = table.create_indices_dict(production_plan)"
   ]
  },
  {
   "cell_type": "code",
   "execution_count": 9,
   "metadata": {},
   "outputs": [
    {
     "data": {
      "text/plain": [
       "((139, 20, 51), (139, 51))"
      ]
     },
     "execution_count": 9,
     "metadata": {},
     "output_type": "execute_result"
    }
   ],
   "source": [
    "transplant_weeks = production_plan.WeekTransplanted.to_numpy()\n",
    "year_preds, year_actuals = table.season_shift(transplant_weeks,preds,actuals)\n",
    "year_preds.shape,year_actuals.shape"
   ]
  },
  {
   "cell_type": "code",
   "execution_count": 10,
   "metadata": {},
   "outputs": [],
   "source": [
    "fig1 = graphs.graph_harvest(preds,actuals)\n",
    "fig2 = graphs.graph_harvest(year_preds,year_actuals)"
   ]
  },
  {
   "cell_type": "code",
   "execution_count": 11,
   "metadata": {},
   "outputs": [],
   "source": [
    "fig3 = graphs.graph_harvest_cumsum(preds,actuals)"
   ]
  },
  {
   "cell_type": "code",
   "execution_count": 12,
   "metadata": {},
   "outputs": [],
   "source": [
    "types_i_want_lol = ['Pera Roja','Uva Amarilla']"
   ]
  },
  {
   "cell_type": "code",
   "execution_count": 13,
   "metadata": {},
   "outputs": [],
   "source": [
    "preds_sum,actuals_sum = table.filter_preds(preds,actuals,'Type',types_i_want_lol,idx_dict)"
   ]
  },
  {
   "cell_type": "code",
   "execution_count": 14,
   "metadata": {},
   "outputs": [],
   "source": [
    "fig4 = graphs.graph_harvest_stacked(preds_sum,actuals_sum,types_i_want_lol)"
   ]
  },
  {
   "cell_type": "code",
   "execution_count": 15,
   "metadata": {},
   "outputs": [
    {
     "data": {
      "application/vnd.plotly.v1+json": {
       "config": {
        "plotlyServerURL": "https://plot.ly"
       },
       "data": [
        {
         "mode": "lines",
         "name": "Preds Trace 1",
         "type": "scatter",
         "visible": true,
         "x": {
          "bdata": "AAECAwQFBgcICQoLDA0ODxAREhM=",
          "dtype": "i1"
         },
         "y": {
          "bdata": "AAAAAAAAAAAAAAAAAAAAAAAAAAAAAAAAAAAAAAAAAAAAAAAAAAAAAAAAAAAAAAAAAAAAAAAAAAAAAAAAAAAAAAAAAAAAAAAAAAAAAAAAAAAAAAAAAAAAAAAAAAAAAAAAAAAAAAAAAAAAAAAAAAAAAAAAAAAAAAAAAAAAAAAAAAAAAAAAAAAAAAAAAAAAAAAAAAAAAAAAAAAAAAAAAAAAAA==",
          "dtype": "f8"
         }
        },
        {
         "mode": "lines",
         "name": "Preds Trace 2",
         "type": "scatter",
         "visible": false,
         "x": {
          "bdata": "AAECAwQFBgcICQoLDA0ODxAREhM=",
          "dtype": "i1"
         },
         "y": {
          "bdata": "AAAAAAAAAAAAAAAAAAAAAAAAAAAAAAAAAAAAAAAAAAAAAAAAAAAAAAAAAAAAAAAAAAAAAAAAAAAAAAAAAAAAAAAAAAAAAAAAAAAAAAAAAAAAAAAAAAAAAAAAAAAAAAAAAAAAAAAAAAAAAAAAAAAAAAAAAAAAAAAAAAAAAAAAAAAAAAAAAAAAAAAAAAAAAAAAAAAAAAAAAAAAAAAAAAAAAA==",
          "dtype": "f8"
         }
        },
        {
         "mode": "lines",
         "name": "Preds Trace 3",
         "type": "scatter",
         "visible": false,
         "x": {
          "bdata": "AAECAwQFBgcICQoLDA0ODxAREhM=",
          "dtype": "i1"
         },
         "y": {
          "bdata": "AAAAAAAAAAAAAAAAAAAAAAAAAAAAAAAAAAAAAAAAAAAAAAAAAAAAAAAAAAAAAAAAAAAAAAAAAAAAAAAAAAAAAAAAAAAAAAAAAAAAAAAAAAAAAAAAAAAAAAAAAAAAAAAAAAAAAAAAAAAAAAAAAAAAAAAAAAAAAAAAAAAAAAAAAAAAAAAAAAAAAAAAAAAAAAAAAAAAAAAAAAAAAAAAAAAAAA==",
          "dtype": "f8"
         }
        },
        {
         "mode": "lines",
         "name": "Preds Trace 4",
         "type": "scatter",
         "visible": false,
         "x": {
          "bdata": "AAECAwQFBgcICQoLDA0ODxAREhM=",
          "dtype": "i1"
         },
         "y": {
          "bdata": "AAAAAAAAAAAAAAAAAAAAAAAAAAAAAAAAAAAAAAAAAAAAAAAAAAAAAAAAAAAAAAAAAAAAAAAAAAAAAAAAAAAAAAAAAAAAAAAAAAAAAAAAAAAAAAAAAAAAAAAAAAAAAAAAAAAAAAAAAAAAAAAAAAAAAAAAAAAAAAAAAAAAAAAAAAAAAAAAAAAAAAAAAAAAAAAAAAAAAAAAAAAAAAAAAAAAAA==",
          "dtype": "f8"
         }
        },
        {
         "mode": "lines",
         "name": "Preds Trace 5",
         "type": "scatter",
         "visible": false,
         "x": {
          "bdata": "AAECAwQFBgcICQoLDA0ODxAREhM=",
          "dtype": "i1"
         },
         "y": {
          "bdata": "AAAAAAAAAAAAAAAAAAAAAAAAAAAAAAAAAAAAAAAAAAAAAAAAAAAAAAAAAAAAAAAAAAAAAAAAAAAAAAAAAAAAAAAAAAAAAAAAAAAAAAAAAAAAAAAAAAAAAAAAAAAAAAAAAAAAAAAAAAAAAAAAAAAAAAAAAAAAAAAAAAAAAAAAAAAAAAAAAAAAAAAAAAAAAAAAAAAAAAAAAAAAAAAAAAAAAA==",
          "dtype": "f8"
         }
        },
        {
         "mode": "lines",
         "name": "Preds Trace 6",
         "type": "scatter",
         "visible": false,
         "x": {
          "bdata": "AAECAwQFBgcICQoLDA0ODxAREhM=",
          "dtype": "i1"
         },
         "y": {
          "bdata": "AAAAAAAAAAAAAAAAAAAAAAAAAAAAAAAAAAAAAAAAAAAAAAAAAAAAAAAA4FJFFUBAAADAhPUjPMAAAIAeNwZ0QAAAQGAKlZlAAAAAh7Oou0AAAEDZGDDHQAAAAN8Nv8tAAACA3Z4HzkAAAIClG7XPQAAAAPjg5c5AAAAg+Q0w0kAAAGDim4DSQAAA4Fsig9BAAABAT3XP0kAAAACQhSbPQA==",
          "dtype": "f8"
         }
        },
        {
         "mode": "lines",
         "name": "Preds Trace 7",
         "type": "scatter",
         "visible": false,
         "x": {
          "bdata": "AAECAwQFBgcICQoLDA0ODxAREhM=",
          "dtype": "i1"
         },
         "y": {
          "bdata": "AAAAAAAAAAAAAAAAAAAAAAAAAAAAAAAAAAAAAAAAAAAAAAAAAAAAAAAAAAAAgFxAAAAA79jbO8AAAIBw9Q10QAAAwIRisJlAAADAtS/Fu0AAAIDjQUjHQAAAwG4628tAAACACt4mzkAAAIDOJNbPQAAAAFMcBc9AAABAbxND0kAAAAAlwZPSQAAA4IUrlNBAAAAAIBrj0kAAAEBFjUbPQA==",
          "dtype": "f8"
         }
        },
        {
         "mode": "lines",
         "name": "Preds Trace 8",
         "type": "scatter",
         "visible": false,
         "x": {
          "bdata": "AAECAwQFBgcICQoLDA0ODxAREhM=",
          "dtype": "i1"
         },
         "y": {
          "bdata": "AAAAAAAAAAAAAAAAAAAAAAAAAAAAAAAAAAAAAAAAAAAAAAAAAAAAAAAAAAAAgFxAAAAABIJFhEAAAMCtBA90QAAAgDyFu5lAAACAx1HQu0AAAIDnuFHHQAAAAK5E5stAAAAAKRwzzkAAAIAvF+PPQAAAAGdYEc9AAADAKYtK0kAAAKCqQ5vSQAAAYLbhmtBAAAAAwdLq0kAAAIApJlPPQA==",
          "dtype": "f8"
         }
        },
        {
         "mode": "lines",
         "name": "Preds Trace 9",
         "type": "scatter",
         "visible": false,
         "x": {
          "bdata": "AAECAwQFBgcICQoLDA0ODxAREhM=",
          "dtype": "i1"
         },
         "y": {
          "bdata": "AAAAAAAAAAAAAAAAAAAAAAAAAAAAAAAAAAAAAAAAAAAAAAAAAAAAAAAAAAAAgFxAAAAABIJFhEAAAMCoqhGTQAAAgD+NwJlAAAAA/1LVu0AAAECB/lXHQAAAgFU768tAAAAAH544zkAAAACO7ejPQAAAAOneFs9AAADAr+dN0kAAACCpqJ7SQAAAIIPondBAAACAwVDu0kAAAIAZ0ljPQA==",
          "dtype": "f8"
         }
        },
        {
         "mode": "lines",
         "name": "Preds Trace 10",
         "type": "scatter",
         "visible": false,
         "x": {
          "bdata": "AAECAwQFBgcICQoLDA0ODxAREhM=",
          "dtype": "i1"
         },
         "y": {
          "bdata": "AAAAAAAAAAAAAAAAAAAAAAAAAAAAAAAAAAAAAAAAAAAAAAAAAAAAAAAAAAAAgFxAAAAABIJFhEAAAMCoqhGTQAAAoEqbvaxAAABAZmrYu0AAAACMoVjHQAAAwO1L7stAAADAtg08zkAAAIAXjOzPQAAAwExIGs9AAADA6/xP0kAAACBexKDSQAAA4AfGn9BAAADAlXrw0kAAAACFSFzPQA==",
          "dtype": "f8"
         }
        },
        {
         "mode": "lines",
         "name": "Preds Trace 11",
         "type": "scatter",
         "visible": false,
         "x": {
          "bdata": "AAECAwQFBgcICQoLDA0ODxAREhM=",
          "dtype": "i1"
         },
         "y": {
          "bdata": "AAAAAAAAAAAAAAAAAAAAAAAAAAAAAAAAAAAAAAAAAAAAAAAAAAAAAAAAAAAAgFxAAAAABIJFhEAAAMCoqhGTQAAAoEqbvaxAAABQWq1eukAAAMDmy1rHQAAAwArV8MtAAAAA3e4+zkAAAEA4i+/PQAAAwCUVHc9AAADAx7dR0kAAAAB8gqLSQAAAYJtPodBAAAAgzkLy0kAAAIAHG1/PQA==",
          "dtype": "f8"
         }
        },
        {
         "mode": "lines",
         "name": "Preds Trace 12",
         "type": "scatter",
         "visible": false,
         "x": {
          "bdata": "AAECAwQFBgcICQoLDA0ODxAREhM=",
          "dtype": "i1"
         },
         "y": {
          "bdata": "AAAAAAAAAAAAAAAAAAAAAAAAAAAAAAAAAAAAAAAAAAAAAAAAAAAAAAAAAAAAgFxAAAAABIJFhEAAAMCoqhGTQAAAoEqbvaxAAABQWq1eukAAgMRqpgjTQAAAgC4t88tAAAAAEp1BzkAAAIBxTfLPQAAAwB+lH89AAADAIlFT0kAAAIDNG6TSQAAAYBS6otBAAAAgquTz0kAAAEA9sWHPQA==",
          "dtype": "f8"
         }
        },
        {
         "mode": "lines",
         "name": "Preds Trace 13",
         "type": "scatter",
         "visible": false,
         "x": {
          "bdata": "AAECAwQFBgcICQoLDA0ODxAREhM=",
          "dtype": "i1"
         },
         "y": {
          "bdata": "AAAAAAAAAAAAAAAAAAAAAAAAAAAAAAAAAAAAAAAAAAAAAAAAAAAAAAAAAAAAgFxAAAAABIJFhEAAAMCoqhGTQAAAoEqbvaxAAABQWq1eukAAgMRqpgjTQACAzar+qeRAAAAAMLFDzkAAAICvbfTPQAAAwOqbIc9AAACg3I1U0kAAAIBhVqXSQAAAoD3So9BAAAAgNiX10kAAAADbrmPPQA==",
          "dtype": "f8"
         }
        },
        {
         "mode": "lines",
         "name": "Preds Trace 14",
         "type": "scatter",
         "visible": false,
         "x": {
          "bdata": "AAECAwQFBgcICQoLDA0ODxAREhM=",
          "dtype": "i1"
         },
         "y": {
          "bdata": "AAAAAAAAAAAAAAAAAAAAAAAAAAAAAAAAAAAAAAAAAAAAAAAAAAAAAAAAAAAAgFxAAAAABIJFhEAAAMCoqhGTQAAAoEqbvaxAAABQWq1eukAAgMRqpgjTQACAzar+qeRAAIAlXC7V8kAAAAArZfbPQAAAQBxsI89AAAAgGbRV0kAAAKB6eKbSQAAAIBHXpNBAAAAgzEz20kAAAICOiWXPQA==",
          "dtype": "f8"
         }
        },
        {
         "mode": "lines",
         "name": "Preds Trace 15",
         "type": "scatter",
         "visible": false,
         "x": {
          "bdata": "AAECAwQFBgcICQoLDA0ODxAREhM=",
          "dtype": "i1"
         },
         "y": {
          "bdata": "AAAAAAAAAAAAAAAAAAAAAAAAAAAAAAAAAAAAAAAAAAAAAAAAAAAAAAAAAAAAgFxAAAAABIJFhEAAAMCoqhGTQAAAoEqbvaxAAABQWq1eukAAgMRqpgjTQACAzar+qeRAAIAlXC7V8kAAgDyPZrj6QAAAwNnkJc9AAADgzEZX0kAAACDJAqjSQAAAYDM+ptBAAABgoN730kAAAEDaGWjPQA==",
          "dtype": "f8"
         }
        },
        {
         "mode": "lines",
         "name": "Preds Trace 16",
         "type": "scatter",
         "visible": false,
         "x": {
          "bdata": "AAECAwQFBgcICQoLDA0ODxAREhM=",
          "dtype": "i1"
         },
         "y": {
          "bdata": "AAAAAAAAAAAAAAAAAAAAAAAAAAAAAAAAAAAAAAAAAAAAAAAAAAAAAAAAAAAAgFxAAAAABIJFhEAAAMCoqhGTQAAAoEqbvaxAAABQWq1eukAAgMRqpgjTQACAzar+qeRAAIAlXC7V8kAAgDyPZrj6QAAAjjdHVwJBAAAgzW1X0kAAAAAdKajSQAAAQBJhptBAAADArwX40kAAAAAhWmjPQA==",
          "dtype": "f8"
         }
        },
        {
         "mode": "lines",
         "name": "Preds Trace 17",
         "type": "scatter",
         "visible": false,
         "x": {
          "bdata": "AAECAwQFBgcICQoLDA0ODxAREhM=",
          "dtype": "i1"
         },
         "y": {
          "bdata": "AAAAAAAAAAAAAAAAAAAAAAAAAAAAAAAAAAAAAAAAAAAAAAAAAAAAAAAAAAAAgFxAAAAABIJFhEAAAMCoqhGTQAAAoEqbvaxAAABQWq1eukAAgMRqpgjTQACAzar+qeRAAIAlXC7V8kAAgDyPZrj6QAAAjjdHVwJBAABk76KdBEEAAICmKqjSQAAA4FBiptBAAACgRgf40kAAAMCcXGjPQA==",
          "dtype": "f8"
         }
        },
        {
         "mode": "lines",
         "name": "Preds Trace 18",
         "type": "scatter",
         "visible": false,
         "x": {
          "bdata": "AAECAwQFBgcICQoLDA0ODxAREhM=",
          "dtype": "i1"
         },
         "y": {
          "bdata": "AAAAAAAAAAAAAAAAAAAAAAAAAAAAAAAAAAAAAAAAAAAAAAAAAAAAAAAAAAAAgFxAAAAABIJFhEAAAMCoqhGTQAAAoEqbvaxAAABQWq1eukAAgMRqpgjTQACAzar+qeRAAIAlXC7V8kAAgDyPZrj6QAAAjjdHVwJBAABk76KdBEEAAOobzIYFQQAAYDBiptBAAACgRwf40kAAAMByXGjPQA==",
          "dtype": "f8"
         }
        },
        {
         "mode": "lines",
         "name": "Preds Trace 19",
         "type": "scatter",
         "visible": false,
         "x": {
          "bdata": "AAECAwQFBgcICQoLDA0ODxAREhM=",
          "dtype": "i1"
         },
         "y": {
          "bdata": "AAAAAAAAAAAAAAAAAAAAAAAAAAAAAAAAAAAAAAAAAAAAAAAAAAAAAAAAAAAAgFxAAAAABIJFhEAAAMCoqhGTQAAAoEqbvaxAAABQWq1eukAAgMRqpgjTQACAzar+qeRAAIAlXC7V8kAAgDyPZrj6QAAAjjdHVwJBAABk76KdBEEAAOobzIYFQQAABkT9YwNBAAAgsM330kAAAMCt+mfPQA==",
          "dtype": "f8"
         }
        },
        {
         "mode": "lines",
         "name": "Preds Trace 20",
         "type": "scatter",
         "visible": false,
         "x": {
          "bdata": "AAECAwQFBgcICQoLDA0ODxAREhM=",
          "dtype": "i1"
         },
         "y": {
          "bdata": "AAAAAAAAAAAAAAAAAAAAAAAAAAAAAAAAAAAAAAAAAAAAAAAAAAAAAAAAAAAAgFxAAAAABIJFhEAAAMCoqhGTQAAAoEqbvaxAAABQWq1eukAAgMRqpgjTQACAzar+qeRAAIAlXC7V8kAAgDyPZrj6QAAAjjdHVwJBAABk76KdBEEAAOobzIYFQQAABkT9YwNBAKCsVoJMAkEAAMC6x2bPQA==",
          "dtype": "f8"
         }
        },
        {
         "name": "Actuals",
         "opacity": 0.6,
         "type": "bar",
         "x": {
          "bdata": "AAECAwQFBgcICQoLDA0ODxAREhM=",
          "dtype": "i1"
         },
         "y": {
          "bdata": "AAAAAAAAAAAAAAAAAAAAAAAAAAAAAORCECwiRFWNmETa7GVFa/XSRTJFmEb3TyVHc6mWRzTD1Uc5uhJIGO0kSGI2LEjrHxtIEmQSSDQnBEg=",
          "dtype": "f4"
         }
        }
       ],
       "layout": {
        "barmode": "overlay",
        "sliders": [
         {
          "active": 0,
          "currentvalue": {
           "prefix": "Trace: "
          },
          "pad": {
           "t": 20
          },
          "steps": [
           {
            "args": [
             {
              "visible": [
               true,
               false,
               false,
               false,
               false,
               false,
               false,
               false,
               false,
               false,
               false,
               false,
               false,
               false,
               false,
               false,
               false,
               false,
               false,
               false,
               true
              ]
             }
            ],
            "label": "Preds Trace 1",
            "method": "update"
           },
           {
            "args": [
             {
              "visible": [
               false,
               true,
               false,
               false,
               false,
               false,
               false,
               false,
               false,
               false,
               false,
               false,
               false,
               false,
               false,
               false,
               false,
               false,
               false,
               false,
               true
              ]
             }
            ],
            "label": "Preds Trace 2",
            "method": "update"
           },
           {
            "args": [
             {
              "visible": [
               false,
               false,
               true,
               false,
               false,
               false,
               false,
               false,
               false,
               false,
               false,
               false,
               false,
               false,
               false,
               false,
               false,
               false,
               false,
               false,
               true
              ]
             }
            ],
            "label": "Preds Trace 3",
            "method": "update"
           },
           {
            "args": [
             {
              "visible": [
               false,
               false,
               false,
               true,
               false,
               false,
               false,
               false,
               false,
               false,
               false,
               false,
               false,
               false,
               false,
               false,
               false,
               false,
               false,
               false,
               true
              ]
             }
            ],
            "label": "Preds Trace 4",
            "method": "update"
           },
           {
            "args": [
             {
              "visible": [
               false,
               false,
               false,
               false,
               true,
               false,
               false,
               false,
               false,
               false,
               false,
               false,
               false,
               false,
               false,
               false,
               false,
               false,
               false,
               false,
               true
              ]
             }
            ],
            "label": "Preds Trace 5",
            "method": "update"
           },
           {
            "args": [
             {
              "visible": [
               false,
               false,
               false,
               false,
               false,
               true,
               false,
               false,
               false,
               false,
               false,
               false,
               false,
               false,
               false,
               false,
               false,
               false,
               false,
               false,
               true
              ]
             }
            ],
            "label": "Preds Trace 6",
            "method": "update"
           },
           {
            "args": [
             {
              "visible": [
               false,
               false,
               false,
               false,
               false,
               false,
               true,
               false,
               false,
               false,
               false,
               false,
               false,
               false,
               false,
               false,
               false,
               false,
               false,
               false,
               true
              ]
             }
            ],
            "label": "Preds Trace 7",
            "method": "update"
           },
           {
            "args": [
             {
              "visible": [
               false,
               false,
               false,
               false,
               false,
               false,
               false,
               true,
               false,
               false,
               false,
               false,
               false,
               false,
               false,
               false,
               false,
               false,
               false,
               false,
               true
              ]
             }
            ],
            "label": "Preds Trace 8",
            "method": "update"
           },
           {
            "args": [
             {
              "visible": [
               false,
               false,
               false,
               false,
               false,
               false,
               false,
               false,
               true,
               false,
               false,
               false,
               false,
               false,
               false,
               false,
               false,
               false,
               false,
               false,
               true
              ]
             }
            ],
            "label": "Preds Trace 9",
            "method": "update"
           },
           {
            "args": [
             {
              "visible": [
               false,
               false,
               false,
               false,
               false,
               false,
               false,
               false,
               false,
               true,
               false,
               false,
               false,
               false,
               false,
               false,
               false,
               false,
               false,
               false,
               true
              ]
             }
            ],
            "label": "Preds Trace 10",
            "method": "update"
           },
           {
            "args": [
             {
              "visible": [
               false,
               false,
               false,
               false,
               false,
               false,
               false,
               false,
               false,
               false,
               true,
               false,
               false,
               false,
               false,
               false,
               false,
               false,
               false,
               false,
               true
              ]
             }
            ],
            "label": "Preds Trace 11",
            "method": "update"
           },
           {
            "args": [
             {
              "visible": [
               false,
               false,
               false,
               false,
               false,
               false,
               false,
               false,
               false,
               false,
               false,
               true,
               false,
               false,
               false,
               false,
               false,
               false,
               false,
               false,
               true
              ]
             }
            ],
            "label": "Preds Trace 12",
            "method": "update"
           },
           {
            "args": [
             {
              "visible": [
               false,
               false,
               false,
               false,
               false,
               false,
               false,
               false,
               false,
               false,
               false,
               false,
               true,
               false,
               false,
               false,
               false,
               false,
               false,
               false,
               true
              ]
             }
            ],
            "label": "Preds Trace 13",
            "method": "update"
           },
           {
            "args": [
             {
              "visible": [
               false,
               false,
               false,
               false,
               false,
               false,
               false,
               false,
               false,
               false,
               false,
               false,
               false,
               true,
               false,
               false,
               false,
               false,
               false,
               false,
               true
              ]
             }
            ],
            "label": "Preds Trace 14",
            "method": "update"
           },
           {
            "args": [
             {
              "visible": [
               false,
               false,
               false,
               false,
               false,
               false,
               false,
               false,
               false,
               false,
               false,
               false,
               false,
               false,
               true,
               false,
               false,
               false,
               false,
               false,
               true
              ]
             }
            ],
            "label": "Preds Trace 15",
            "method": "update"
           },
           {
            "args": [
             {
              "visible": [
               false,
               false,
               false,
               false,
               false,
               false,
               false,
               false,
               false,
               false,
               false,
               false,
               false,
               false,
               false,
               true,
               false,
               false,
               false,
               false,
               true
              ]
             }
            ],
            "label": "Preds Trace 16",
            "method": "update"
           },
           {
            "args": [
             {
              "visible": [
               false,
               false,
               false,
               false,
               false,
               false,
               false,
               false,
               false,
               false,
               false,
               false,
               false,
               false,
               false,
               false,
               true,
               false,
               false,
               false,
               true
              ]
             }
            ],
            "label": "Preds Trace 17",
            "method": "update"
           },
           {
            "args": [
             {
              "visible": [
               false,
               false,
               false,
               false,
               false,
               false,
               false,
               false,
               false,
               false,
               false,
               false,
               false,
               false,
               false,
               false,
               false,
               true,
               false,
               false,
               true
              ]
             }
            ],
            "label": "Preds Trace 18",
            "method": "update"
           },
           {
            "args": [
             {
              "visible": [
               false,
               false,
               false,
               false,
               false,
               false,
               false,
               false,
               false,
               false,
               false,
               false,
               false,
               false,
               false,
               false,
               false,
               false,
               true,
               false,
               true
              ]
             }
            ],
            "label": "Preds Trace 19",
            "method": "update"
           },
           {
            "args": [
             {
              "visible": [
               false,
               false,
               false,
               false,
               false,
               false,
               false,
               false,
               false,
               false,
               false,
               false,
               false,
               false,
               false,
               false,
               false,
               false,
               false,
               true,
               true
              ]
             }
            ],
            "label": "Preds Trace 20",
            "method": "update"
           }
          ]
         }
        ],
        "template": {
         "data": {
          "bar": [
           {
            "error_x": {
             "color": "#2a3f5f"
            },
            "error_y": {
             "color": "#2a3f5f"
            },
            "marker": {
             "line": {
              "color": "#E5ECF6",
              "width": 0.5
             },
             "pattern": {
              "fillmode": "overlay",
              "size": 10,
              "solidity": 0.2
             }
            },
            "type": "bar"
           }
          ],
          "barpolar": [
           {
            "marker": {
             "line": {
              "color": "#E5ECF6",
              "width": 0.5
             },
             "pattern": {
              "fillmode": "overlay",
              "size": 10,
              "solidity": 0.2
             }
            },
            "type": "barpolar"
           }
          ],
          "carpet": [
           {
            "aaxis": {
             "endlinecolor": "#2a3f5f",
             "gridcolor": "white",
             "linecolor": "white",
             "minorgridcolor": "white",
             "startlinecolor": "#2a3f5f"
            },
            "baxis": {
             "endlinecolor": "#2a3f5f",
             "gridcolor": "white",
             "linecolor": "white",
             "minorgridcolor": "white",
             "startlinecolor": "#2a3f5f"
            },
            "type": "carpet"
           }
          ],
          "choropleth": [
           {
            "colorbar": {
             "outlinewidth": 0,
             "ticks": ""
            },
            "type": "choropleth"
           }
          ],
          "contour": [
           {
            "colorbar": {
             "outlinewidth": 0,
             "ticks": ""
            },
            "colorscale": [
             [
              0,
              "#0d0887"
             ],
             [
              0.1111111111111111,
              "#46039f"
             ],
             [
              0.2222222222222222,
              "#7201a8"
             ],
             [
              0.3333333333333333,
              "#9c179e"
             ],
             [
              0.4444444444444444,
              "#bd3786"
             ],
             [
              0.5555555555555556,
              "#d8576b"
             ],
             [
              0.6666666666666666,
              "#ed7953"
             ],
             [
              0.7777777777777778,
              "#fb9f3a"
             ],
             [
              0.8888888888888888,
              "#fdca26"
             ],
             [
              1,
              "#f0f921"
             ]
            ],
            "type": "contour"
           }
          ],
          "contourcarpet": [
           {
            "colorbar": {
             "outlinewidth": 0,
             "ticks": ""
            },
            "type": "contourcarpet"
           }
          ],
          "heatmap": [
           {
            "colorbar": {
             "outlinewidth": 0,
             "ticks": ""
            },
            "colorscale": [
             [
              0,
              "#0d0887"
             ],
             [
              0.1111111111111111,
              "#46039f"
             ],
             [
              0.2222222222222222,
              "#7201a8"
             ],
             [
              0.3333333333333333,
              "#9c179e"
             ],
             [
              0.4444444444444444,
              "#bd3786"
             ],
             [
              0.5555555555555556,
              "#d8576b"
             ],
             [
              0.6666666666666666,
              "#ed7953"
             ],
             [
              0.7777777777777778,
              "#fb9f3a"
             ],
             [
              0.8888888888888888,
              "#fdca26"
             ],
             [
              1,
              "#f0f921"
             ]
            ],
            "type": "heatmap"
           }
          ],
          "histogram": [
           {
            "marker": {
             "pattern": {
              "fillmode": "overlay",
              "size": 10,
              "solidity": 0.2
             }
            },
            "type": "histogram"
           }
          ],
          "histogram2d": [
           {
            "colorbar": {
             "outlinewidth": 0,
             "ticks": ""
            },
            "colorscale": [
             [
              0,
              "#0d0887"
             ],
             [
              0.1111111111111111,
              "#46039f"
             ],
             [
              0.2222222222222222,
              "#7201a8"
             ],
             [
              0.3333333333333333,
              "#9c179e"
             ],
             [
              0.4444444444444444,
              "#bd3786"
             ],
             [
              0.5555555555555556,
              "#d8576b"
             ],
             [
              0.6666666666666666,
              "#ed7953"
             ],
             [
              0.7777777777777778,
              "#fb9f3a"
             ],
             [
              0.8888888888888888,
              "#fdca26"
             ],
             [
              1,
              "#f0f921"
             ]
            ],
            "type": "histogram2d"
           }
          ],
          "histogram2dcontour": [
           {
            "colorbar": {
             "outlinewidth": 0,
             "ticks": ""
            },
            "colorscale": [
             [
              0,
              "#0d0887"
             ],
             [
              0.1111111111111111,
              "#46039f"
             ],
             [
              0.2222222222222222,
              "#7201a8"
             ],
             [
              0.3333333333333333,
              "#9c179e"
             ],
             [
              0.4444444444444444,
              "#bd3786"
             ],
             [
              0.5555555555555556,
              "#d8576b"
             ],
             [
              0.6666666666666666,
              "#ed7953"
             ],
             [
              0.7777777777777778,
              "#fb9f3a"
             ],
             [
              0.8888888888888888,
              "#fdca26"
             ],
             [
              1,
              "#f0f921"
             ]
            ],
            "type": "histogram2dcontour"
           }
          ],
          "mesh3d": [
           {
            "colorbar": {
             "outlinewidth": 0,
             "ticks": ""
            },
            "type": "mesh3d"
           }
          ],
          "parcoords": [
           {
            "line": {
             "colorbar": {
              "outlinewidth": 0,
              "ticks": ""
             }
            },
            "type": "parcoords"
           }
          ],
          "pie": [
           {
            "automargin": true,
            "type": "pie"
           }
          ],
          "scatter": [
           {
            "fillpattern": {
             "fillmode": "overlay",
             "size": 10,
             "solidity": 0.2
            },
            "type": "scatter"
           }
          ],
          "scatter3d": [
           {
            "line": {
             "colorbar": {
              "outlinewidth": 0,
              "ticks": ""
             }
            },
            "marker": {
             "colorbar": {
              "outlinewidth": 0,
              "ticks": ""
             }
            },
            "type": "scatter3d"
           }
          ],
          "scattercarpet": [
           {
            "marker": {
             "colorbar": {
              "outlinewidth": 0,
              "ticks": ""
             }
            },
            "type": "scattercarpet"
           }
          ],
          "scattergeo": [
           {
            "marker": {
             "colorbar": {
              "outlinewidth": 0,
              "ticks": ""
             }
            },
            "type": "scattergeo"
           }
          ],
          "scattergl": [
           {
            "marker": {
             "colorbar": {
              "outlinewidth": 0,
              "ticks": ""
             }
            },
            "type": "scattergl"
           }
          ],
          "scattermap": [
           {
            "marker": {
             "colorbar": {
              "outlinewidth": 0,
              "ticks": ""
             }
            },
            "type": "scattermap"
           }
          ],
          "scattermapbox": [
           {
            "marker": {
             "colorbar": {
              "outlinewidth": 0,
              "ticks": ""
             }
            },
            "type": "scattermapbox"
           }
          ],
          "scatterpolar": [
           {
            "marker": {
             "colorbar": {
              "outlinewidth": 0,
              "ticks": ""
             }
            },
            "type": "scatterpolar"
           }
          ],
          "scatterpolargl": [
           {
            "marker": {
             "colorbar": {
              "outlinewidth": 0,
              "ticks": ""
             }
            },
            "type": "scatterpolargl"
           }
          ],
          "scatterternary": [
           {
            "marker": {
             "colorbar": {
              "outlinewidth": 0,
              "ticks": ""
             }
            },
            "type": "scatterternary"
           }
          ],
          "surface": [
           {
            "colorbar": {
             "outlinewidth": 0,
             "ticks": ""
            },
            "colorscale": [
             [
              0,
              "#0d0887"
             ],
             [
              0.1111111111111111,
              "#46039f"
             ],
             [
              0.2222222222222222,
              "#7201a8"
             ],
             [
              0.3333333333333333,
              "#9c179e"
             ],
             [
              0.4444444444444444,
              "#bd3786"
             ],
             [
              0.5555555555555556,
              "#d8576b"
             ],
             [
              0.6666666666666666,
              "#ed7953"
             ],
             [
              0.7777777777777778,
              "#fb9f3a"
             ],
             [
              0.8888888888888888,
              "#fdca26"
             ],
             [
              1,
              "#f0f921"
             ]
            ],
            "type": "surface"
           }
          ],
          "table": [
           {
            "cells": {
             "fill": {
              "color": "#EBF0F8"
             },
             "line": {
              "color": "white"
             }
            },
            "header": {
             "fill": {
              "color": "#C8D4E3"
             },
             "line": {
              "color": "white"
             }
            },
            "type": "table"
           }
          ]
         },
         "layout": {
          "annotationdefaults": {
           "arrowcolor": "#2a3f5f",
           "arrowhead": 0,
           "arrowwidth": 1
          },
          "autotypenumbers": "strict",
          "coloraxis": {
           "colorbar": {
            "outlinewidth": 0,
            "ticks": ""
           }
          },
          "colorscale": {
           "diverging": [
            [
             0,
             "#8e0152"
            ],
            [
             0.1,
             "#c51b7d"
            ],
            [
             0.2,
             "#de77ae"
            ],
            [
             0.3,
             "#f1b6da"
            ],
            [
             0.4,
             "#fde0ef"
            ],
            [
             0.5,
             "#f7f7f7"
            ],
            [
             0.6,
             "#e6f5d0"
            ],
            [
             0.7,
             "#b8e186"
            ],
            [
             0.8,
             "#7fbc41"
            ],
            [
             0.9,
             "#4d9221"
            ],
            [
             1,
             "#276419"
            ]
           ],
           "sequential": [
            [
             0,
             "#0d0887"
            ],
            [
             0.1111111111111111,
             "#46039f"
            ],
            [
             0.2222222222222222,
             "#7201a8"
            ],
            [
             0.3333333333333333,
             "#9c179e"
            ],
            [
             0.4444444444444444,
             "#bd3786"
            ],
            [
             0.5555555555555556,
             "#d8576b"
            ],
            [
             0.6666666666666666,
             "#ed7953"
            ],
            [
             0.7777777777777778,
             "#fb9f3a"
            ],
            [
             0.8888888888888888,
             "#fdca26"
            ],
            [
             1,
             "#f0f921"
            ]
           ],
           "sequentialminus": [
            [
             0,
             "#0d0887"
            ],
            [
             0.1111111111111111,
             "#46039f"
            ],
            [
             0.2222222222222222,
             "#7201a8"
            ],
            [
             0.3333333333333333,
             "#9c179e"
            ],
            [
             0.4444444444444444,
             "#bd3786"
            ],
            [
             0.5555555555555556,
             "#d8576b"
            ],
            [
             0.6666666666666666,
             "#ed7953"
            ],
            [
             0.7777777777777778,
             "#fb9f3a"
            ],
            [
             0.8888888888888888,
             "#fdca26"
            ],
            [
             1,
             "#f0f921"
            ]
           ]
          },
          "colorway": [
           "#636efa",
           "#EF553B",
           "#00cc96",
           "#ab63fa",
           "#FFA15A",
           "#19d3f3",
           "#FF6692",
           "#B6E880",
           "#FF97FF",
           "#FECB52"
          ],
          "font": {
           "color": "#2a3f5f"
          },
          "geo": {
           "bgcolor": "white",
           "lakecolor": "white",
           "landcolor": "#E5ECF6",
           "showlakes": true,
           "showland": true,
           "subunitcolor": "white"
          },
          "hoverlabel": {
           "align": "left"
          },
          "hovermode": "closest",
          "mapbox": {
           "style": "light"
          },
          "paper_bgcolor": "white",
          "plot_bgcolor": "#E5ECF6",
          "polar": {
           "angularaxis": {
            "gridcolor": "white",
            "linecolor": "white",
            "ticks": ""
           },
           "bgcolor": "#E5ECF6",
           "radialaxis": {
            "gridcolor": "white",
            "linecolor": "white",
            "ticks": ""
           }
          },
          "scene": {
           "xaxis": {
            "backgroundcolor": "#E5ECF6",
            "gridcolor": "white",
            "gridwidth": 2,
            "linecolor": "white",
            "showbackground": true,
            "ticks": "",
            "zerolinecolor": "white"
           },
           "yaxis": {
            "backgroundcolor": "#E5ECF6",
            "gridcolor": "white",
            "gridwidth": 2,
            "linecolor": "white",
            "showbackground": true,
            "ticks": "",
            "zerolinecolor": "white"
           },
           "zaxis": {
            "backgroundcolor": "#E5ECF6",
            "gridcolor": "white",
            "gridwidth": 2,
            "linecolor": "white",
            "showbackground": true,
            "ticks": "",
            "zerolinecolor": "white"
           }
          },
          "shapedefaults": {
           "line": {
            "color": "#2a3f5f"
           }
          },
          "ternary": {
           "aaxis": {
            "gridcolor": "white",
            "linecolor": "white",
            "ticks": ""
           },
           "baxis": {
            "gridcolor": "white",
            "linecolor": "white",
            "ticks": ""
           },
           "bgcolor": "#E5ECF6",
           "caxis": {
            "gridcolor": "white",
            "linecolor": "white",
            "ticks": ""
           }
          },
          "title": {
           "x": 0.05
          },
          "xaxis": {
           "automargin": true,
           "gridcolor": "white",
           "linecolor": "white",
           "ticks": "",
           "title": {
            "standoff": 15
           },
           "zerolinecolor": "white",
           "zerolinewidth": 2
          },
          "yaxis": {
           "automargin": true,
           "gridcolor": "white",
           "linecolor": "white",
           "ticks": "",
           "title": {
            "standoff": 15
           },
           "zerolinecolor": "white",
           "zerolinewidth": 2
          }
         }
        },
        "title": {
         "text": "Predictions and Actuals"
        },
        "xaxis": {
         "title": {
          "text": "Time Step"
         }
        },
        "yaxis": {
         "range": [
          0,
          176345.51362991333
         ],
         "title": {
          "text": "Values"
         }
        }
       }
      }
     },
     "metadata": {},
     "output_type": "display_data"
    }
   ],
   "source": [
    "fig1.show()"
   ]
  },
  {
   "cell_type": "code",
   "execution_count": 16,
   "metadata": {},
   "outputs": [
    {
     "data": {
      "application/vnd.plotly.v1+json": {
       "config": {
        "plotlyServerURL": "https://plot.ly"
       },
       "data": [
        {
         "mode": "lines",
         "name": "Preds Trace 1",
         "type": "scatter",
         "visible": true,
         "x": {
          "bdata": "AAECAwQFBgcICQoLDA0ODxAREhMUFRYXGBkaGxwdHh8gISIjJCUmJygpKissLS4vMDEy",
          "dtype": "i1"
         },
         "y": {
          "bdata": "AAAAAAAAAAAAAAAAAAAAAAAAAAAAAAAAAAAAAAAAAAAAAAAAAAAAAAAAAAAAAAAAAAAAAAAAAAAAAAAAAAAAAAAAAAAAAAAAAAAAAAAAAAAAAAAAAAAAAAAAAAAAAAAAAAAAAAAAAAAAAAAAAAAAAAAAAAAAAAAAAAAAAAAAAAAAAAAAAAAAAAAAAAAAAAAAAAAAAAAAAAAAAAAAAAAAAAAAAAAAAAAAAAAAAAAAAAAAAAAAAAAAAAAAAAAAAAAAAAAAAAAAAAAAAAAAAAAAAAAAAAAAAAAAAAAAAAAAAAAAAAAAAAAAAAAAAAAAAAAAAAAAAAAAAAAAAAAAAAAAAAAAAAAAAAAAAAAAAAAAAAAAAAAAAAAAAAAAAAAAAAAAAAAAAAAAAAAAAAAAAAAAAAAAAAAAAAAAAAAAAAAAAAAAAAAAAAAAAAAAAAAAAAAAAAAAAAAAAAAAAAAAAAAAAAAAAAAAAAAAAAAAAAAAAAAAAAAAAAAAAAAAAAAAAAAAAAAAAAAAAAAAAAAAAAAAAAAAAAAAAAAA",
          "dtype": "f8"
         }
        },
        {
         "mode": "lines",
         "name": "Preds Trace 2",
         "type": "scatter",
         "visible": false,
         "x": {
          "bdata": "AAECAwQFBgcICQoLDA0ODxAREhMUFRYXGBkaGxwdHh8gISIjJCUmJygpKissLS4vMDEy",
          "dtype": "i1"
         },
         "y": {
          "bdata": "AAAAAAAAAAAAAAAAAAAAAAAAAAAAAAAAAAAAAAAAAAAAAAAAAAAAAAAAAAAAAAAAAAAAAAAAAAAAAAAAAAAAAAAAAAAAAAAAAAAAAAAAAAAAAAAAAAAAAAAAAAAAAAAAAAAAAAAAAAAAAAAAAAAAAAAAAAAAAAAAAAAAAAAAAAAAAAAAAAAAAAAAAAAAAAAAAAAAAAAAAAAAAAAAAAAAAAAAAAAAAAAAAAAAAAAAAAAAAAAAAAAAAAAAAAAAAAAAAAAAAAAAAAAAAAAAAAAAAAAAAAAAAAAAAAAAAAAAAAAAAAAAAAAAAAAAAAAAAAAAAAAAAAAAAAAAAAAAAAAAAAAAAAAAAAAAAAAAAAAAAAAAAAAAAAAAAAAAAAAAAAAAAAAAAAAAAAAAAAAAAAAAAAAAAAAAAAAAAAAAAAAAAAAAAAAAAAAAAAAAAAAAAAAAAAAAAAAAAAAAAAAAAAAAAAAAAAAAAAAAAAAAAAAAAAAAAAAAAAAAAAAAAAAAAAAAAAAAAAAAAAAAAAAAAAAAAAAAAAAAAAAA",
          "dtype": "f8"
         }
        },
        {
         "mode": "lines",
         "name": "Preds Trace 3",
         "type": "scatter",
         "visible": false,
         "x": {
          "bdata": "AAECAwQFBgcICQoLDA0ODxAREhMUFRYXGBkaGxwdHh8gISIjJCUmJygpKissLS4vMDEy",
          "dtype": "i1"
         },
         "y": {
          "bdata": "AAAAAAAAAAAAAAAAAAAAAAAAAAAAAAAAAAAAAAAAAAAAAAAAAAAAAAAAAAAAAAAAAAAAAAAAAAAAAAAAAAAAAAAAAAAAAAAAAAAAAAAAAAAAAAAAAAAAAAAAAAAAAAAAAAAAAAAAAAAAAAAAAAAAAAAAAAAAAAAAAAAAAAAAAAAAAAAAAAAAAAAAAAAAAAAAAAAAAAAAAAAAAAAAAAAAAAAAAAAAAAAAAAAAAAAAAAAAAAAAAAAAAAAAAAAAAAAAAAAAAAAAAAAAAAAAAAAAAAAAAAAAAAAAAAAAAAAAAAAAAAAAAAAAAAAAAAAAAAAAAAAAAAAAAAAAAAAAAAAAAAAAAAAAAAAAAAAAAAAAAAAAAAAAAAAAAAAAAAAAAAAAAAAAAAAAAAAAAAAAAAAAAAAAAAAAAAAAAAAAAAAAAAAAAAAAAAAAAAAAAAAAAAAAAAAAAAAAAAAAAAAAAAAAAAAAAAAAAAAAAAAAAAAAAAAAAAAAAAAAAAAAAAAAAAAAAAAAAAAAAAAAAAAAAAAAAAAAAAAAAAAA",
          "dtype": "f8"
         }
        },
        {
         "mode": "lines",
         "name": "Preds Trace 4",
         "type": "scatter",
         "visible": false,
         "x": {
          "bdata": "AAECAwQFBgcICQoLDA0ODxAREhMUFRYXGBkaGxwdHh8gISIjJCUmJygpKissLS4vMDEy",
          "dtype": "i1"
         },
         "y": {
          "bdata": "AAAAAAAAAAAAAAAAAAAAAAAAAAAAAAAAAAAAAAAAAAAAAAAAAAAAAAAAAAAAAAAAAAAAAAAAAAAAAAAAAAAAAAAAAAAAAAAAAAAAAAAAAAAAAAAAAAAAAAAAAAAAAAAAAAAAAAAAAAAAAAAAAAAAAAAAAAAAAAAAAAAAAAAAAAAAAAAAAAAAAAAAAAAAAAAAAAAAAAAAAAAAAAAAAAAAAAAAAAAAAAAAAAAAAAAAAAAAAAAAAAAAAAAAAAAAAAAAAAAAAAAAAAAAAAAAAAAAAAAAAAAAAAAAAAAAAAAAAAAAAAAAAAAAAAAAAAAAAAAAAAAAAAAAAAAAAAAAAAAAAAAAAAAAAAAAAAAAAAAAAAAAAAAAAAAAAAAAAAAAAAAAAAAAAAAAAAAAAAAAAAAAAAAAAAAAAAAAAAAAAAAAAAAAAAAAAAAAAAAAAAAAAAAAAAAAAAAAAAAAAAAAAAAAAAAAAAAAAAAAAAAAAAAAAAAAAAAAAAAAAAAAAAAAAAAAAAAAAAAAAAAAAAAAAAAAAAAAAAAAAAAA",
          "dtype": "f8"
         }
        },
        {
         "mode": "lines",
         "name": "Preds Trace 5",
         "type": "scatter",
         "visible": false,
         "x": {
          "bdata": "AAECAwQFBgcICQoLDA0ODxAREhMUFRYXGBkaGxwdHh8gISIjJCUmJygpKissLS4vMDEy",
          "dtype": "i1"
         },
         "y": {
          "bdata": "AAAAAAAAAAAAAAAAAAAAAAAAAAAAAAAAAAAAAAAAAAAAAAAAAAAAAAAAAAAAAAAAAAAAAAAAAAAAAAAAAAAAAAAAAAAAAAAAAAAAAAAAAAAAAAAAAAAAAAAAAAAAAAAAAAAAAAAAAAAAAAAAAAAAAAAAAAAAAAAAAAAAAAAAAAAAAAAAAAAAAAAAAAAAAAAAAAAAAAAAAAAAAAAAAAAAAAAAAAAAAAAAAAAAAAAAAAAAAAAAAAAAAAAAAAAAAAAAAAAAAAAAAAAAAAAAAAAAAAAAAAAAAAAAAAAAAAAAAAAAAAAAAAAAAAAAAAAAAAAAAAAAAAAAAAAAAAAAAAAAAAAAAAAAAAAAAAAAAAAAAAAAAAAAAAAAAAAAAAAAAAAAAAAAAAAAAAAAAAAAAAAAAAAAAAAAAAAAAAAAAAAAAAAAAAAAAAAAAAAAAAAAAAAAAAAAAAAAAAAAAAAAAAAAAAAAAAAAAAAAAAAAAAAAAAAAAAAAAAAAAAAAAAAAAAAAAAAAAAAAAAAAAAAAAAAAAAAAAAAAAAAA",
          "dtype": "f8"
         }
        },
        {
         "mode": "lines",
         "name": "Preds Trace 6",
         "type": "scatter",
         "visible": false,
         "x": {
          "bdata": "AAECAwQFBgcICQoLDA0ODxAREhMUFRYXGBkaGxwdHh8gISIjJCUmJygpKissLS4vMDEy",
          "dtype": "i1"
         },
         "y": {
          "bdata": "AAAAAAAAAAAAAAAAAAAAAAAAAAAAAAAAAAAAAAAAAAAAAAAAAAAAAAAAAAAAAAAAAAAAAAAAAAAAAAAAAAAAAAAAAAAAAAAAAAAA0Fr0yT8AAABI3CfyvwAAgHm5AR9AAAAA5S0KP0AAAACnKoNjQAAAsJZu4HNAAADgkMvbg0AAAHjeGJqMQAAA6OYISJFAAABV4ejllUAAAL/IVJybQAAAdsLHMKBAAICnAzHxpEAAABEtV2mpQAAAxnyufq5AAEAfQqz9skAAQPpjm+e2QADALrkSorhAAIBJiO7ovUAAQN8gUZm/QADgipE3J8BAAEDyjdObwUAAIC47AWHBQAAw9Cz6asFAAKBBNAnqwUAAoPxcxB6+QAAArEozzrxAAACWxUTouUAAgC+MXkK2QAAAjLHsbrZAAADwOqtvuEAAAAB8sL22QAAAgKcx57RAAAAABzuytEAAAAC/NBy0QAAAgD5eKLBAAAAAwUyYsEAAAAAqNUOrQAAAAAatzJ1AAAAArjzuk0AAAAAYXiKAQAAAADAg8nRA",
          "dtype": "f8"
         }
        },
        {
         "mode": "lines",
         "name": "Preds Trace 7",
         "type": "scatter",
         "visible": false,
         "x": {
          "bdata": "AAECAwQFBgcICQoLDA0ODxAREhMUFRYXGBkaGxwdHh8gISIjJCUmJygpKissLS4vMDEy",
          "dtype": "i1"
         },
         "y": {
          "bdata": "AAAAAAAAAAAAAAAAAAAAAAAAAAAAAAAAAAAAAAAAAAAAAAAAAAAAAAAAAAAAAAAAAAAAAAAAAAAAAAAAAAAAAAAAAAAAAAAAAAAAAAAAAAAAAAAY2wvyvwAAADBiXxpAAABASg8zP0AAAIBsUZdjQAAAAIRy4nNAAAAoBM7wg0AAAICWqrCMQAAALJVSU5FAAAAKf5j8lUAAAAAIsKmbQACA3nMfPqBAAADZupMApUAAAAGUyHypQAAAaGZEmq5AAACt8PoQs0AAAEiWy/y2QADAiSnwubhAAIBgMfQFvkAAwAWCCbm/QAAAlC9UNsBAAOBS9KatwUAAANS2/nHBQAAwCw4le8FAALA54s80wkAAwMJJpju+QAAAvNQd67xAAACw0CMCukAAQAJ2h1m2QAAAaP1ShrZAAAAQH5WJuEAAAEAD+dW2QAAAAF+G/bRAAACAN4HItEAAAADXAjK0QAAAgG87OrBAAAAAu4OqsEAAAACKp2GrQAAAADhk751AAAAArv8ClEAAAADEYjOAQAAAAKD0B3VA",
          "dtype": "f8"
         }
        },
        {
         "mode": "lines",
         "name": "Preds Trace 8",
         "type": "scatter",
         "visible": false,
         "x": {
          "bdata": "AAECAwQFBgcICQoLDA0ODxAREhMUFRYXGBkaGxwdHh8gISIjJCUmJygpKissLS4vMDEy",
          "dtype": "i1"
         },
         "y": {
          "bdata": "AAAAAAAAAAAAAAAAAAAAAAAAAAAAAAAAAAAAAAAAAAAAAAAAAAAAAAAAAAAAAAAAAAAAAAAAAAAAAAAAAAAAAAAAAAAAAAAAAAAAAAAAAAAAAAAAAAAAAAAAANDhYBpAAAAASAlqQEAAAADXO59jQAAAAKxa63NAAAAAGD0DhEAAAOALuryMQAAAgDwzX5FAAADg9fYKlkAAAIAuQrWbQAAAoL5YTKBAAABAMhAMpUAAADh0TIypQAAA8HK/q65AAABgoDAas0AAAETzFga3QAAAMIIWxbhAAACELPsSvkAAAOxWisa/QAAAntvsPMBAAABIujvlwUAAAHbtDXnBQAAAaJCegsFAAAAMhjw9wkAAAPwuUznAQAAAaNoq+LxAAADQbRoNukAAAMDbHWO2QAAAhLZAj7ZAAACwrnOTuEAAAMDIDt+2QAAAAJTHBbVAAAAAjNXQtEAAAACo3jm0QAAAABxcQLBAAACAGOKwsEAAAADruWurQAAAAPjV+Z1AAAAAyGgLlEAAAAAkRjqAQAAAANjKEHVA",
          "dtype": "f8"
         }
        },
        {
         "mode": "lines",
         "name": "Preds Trace 9",
         "type": "scatter",
         "visible": false,
         "x": {
          "bdata": "AAECAwQFBgcICQoLDA0ODxAREhMUFRYXGBkaGxwdHh8gISIjJCUmJygpKissLS4vMDEy",
          "dtype": "i1"
         },
         "y": {
          "bdata": "AAAAAAAAAAAAAAAAAAAAAAAAAAAAAAAAAAAAAAAAAAAAAAAAAAAAAAAAAAAAAAAAAAAAAAAAAAAAAAAAAAAAAAAAAAAAAAAAAAAAAAAAAAAAAAAAAAAAAAAAAAAAAAAAAAAA2I1tQEAAAAD4sJNhQAAAADRk73NAAAAALgsHhEAAAAAEKlGMQAAAgOV8YpFAAAAA5p/plUAAAEDw5XebQAAAgHVgT6BAAACApzzMpEAAACBdB3CpQAAAwMYSea5AAACwbr78skAAAFBp+Py2QAAA4JGgybhAAACALuMHvkAAAGCHfMO/QAAAyG4OOsBAAAAgGX/owUAAAMCkYKHBQAAAUHLahcFAAABgceo7wkAAAJgg5CvAQAAASLu8p8BAAABwUu0BukAAAGAB1WS2QAAAcCo2l7ZAAABQZbKXuEAAAACS/+K2QAAAgMtnCbVAAAAAGYDUtEAAAIBFYD20QAAAAMI8Q7BAAAAArt6zsEAAAABUi3CrQAAAAKAj/51AAAAAyvUPlEAAAAB8FT+AQAAAAEByF3VA",
          "dtype": "f8"
         }
        },
        {
         "mode": "lines",
         "name": "Preds Trace 10",
         "type": "scatter",
         "visible": false,
         "x": {
          "bdata": "AAECAwQFBgcICQoLDA0ODxAREhMUFRYXGBkaGxwdHh8gISIjJCUmJygpKissLS4vMDEy",
          "dtype": "i1"
         },
         "y": {
          "bdata": "AAAAAAAAAAAAAAAAAAAAAAAAAAAAAAAAAAAAAAAAAAAAAAAAAAAAAAAAAAAAAAAAAAAAAAAAAAAAAAAAAAAAAAAAAAAAAAAAAAAAAAAAAAAAAAAAAAAAAAAAAAAAAAAAAAAAAAAAAAAAAAA4c5VhQAAAAHDGc21AAAAA+O8IhEAAAABY5FOMQAAAALDNRJBAAAAA9q3rlUAAAAA+xbqaQAAAAEe1Tp9AAACANy7OpEAAAACtUwuoQAAAgKbd1q1AAADAtLZtskAAANBjR2K2QAAAgDMFhbhAAACAMMQKvkAAAGRtdh7AQAAAwHdbJMBAAADAMdjvwUAAAICON6PBQAAAgMVGzcJAAADgxPk9wkAAAMAWchbAQAAArF7jWsBAAADgTyv0wUAAAICIpBa2QAAAsAmTjrZAAACgzu6suEAAAMB88+W2QAAAgFMZDLVAAACAFDTXtEAAAIBN5j+0QAAAAEUDRbBAAACAML61sEAAAABclXOrQAAAAMgFAp5AAAAAOG0SlEAAAACg7kGAQAAAAPB2G3VA",
          "dtype": "f8"
         }
        },
        {
         "mode": "lines",
         "name": "Preds Trace 11",
         "type": "scatter",
         "visible": false,
         "x": {
          "bdata": "AAECAwQFBgcICQoLDA0ODxAREhMUFRYXGBkaGxwdHh8gISIjJCUmJygpKissLS4vMDEy",
          "dtype": "i1"
         },
         "y": {
          "bdata": "AAAAAAAAAAAAAAAAAAAAAAAAAAAAAAAAAAAAAAAAAAAAAAAAAAAAAAAAAAAAAAAAAAAAAAAAAAAAAAAAAAAAAAAAAAAAAAAAAAAAAAAAAAAAAAAAAAAAAAAAAAAAAAAAAAAAAAAAAAAAAAAAAAAAAAAAAABgdW1AAAAASOyccUAAAABwVFWMQAAAANSZRZBAAAAAgmwUkUAAAAB+HLyaQAAAACSqFZxAAAAAAn70oUAAAABshAyoQAAAABrSyadAAACQHLsxsUAAAJBVUlC0QAAAQJM/yLZAAACAGzbavEAAACSozB/AQAAAJIHjz8BAAACAh7yLwUAAAMDO4ZLBQAAAQPDhzsJAAABAmFB8xkAAAEArDxjAQAAAWFg+7r9AAACcvLqKwUAAAEBAuKu9QAAAsPnwMbVAAAAgiM19uEAAAECxzdu2QAAAAId+DrVAAAAAMPjZtEAAAID+fkK0QAAAAFvXRrBAAACA/rq3sEAAAADu0XarQAAAADrKA55AAAAALO4TlEAAAAD05kOAQAAAAIhWHnVA",
          "dtype": "f8"
         }
        },
        {
         "mode": "lines",
         "name": "Preds Trace 12",
         "type": "scatter",
         "visible": false,
         "x": {
          "bdata": "AAECAwQFBgcICQoLDA0ODxAREhMUFRYXGBkaGxwdHh8gISIjJCUmJygpKissLS4vMDEy",
          "dtype": "i1"
         },
         "y": {
          "bdata": "AAAAAAAAAAAAAAAAAAAAAAAAAAAAAAAAAAAAAAAAAAAAAAAAAAAAAAAAAAAAAAAAAAAAAAAAAAAAAAAAAAAAAAAAAAAAAAAAAAAAAAAAAAAAAAAAAAAAAAAAAAAAAAAAAAAAAAAAAAAAAAAAAAAAAAAAAAAAAAAAAAAAsF+dcUAAAACYKhRzQAAAAPwARpBAAAAARtsUkUAAAAA2CZ+SQAAAAPJdFpxAAAAASv58nkAAAADTfUSjQAAAAPFkyqdAAAAge9M4qEAAAOKjC6+yQAAAJMPlwrZAAADYTmejvkAAAMjt7D2+QAAAJOvr0MBAAAAEY9pSyEAAAICKEYbCQAAAwAGtnsNAAADAful9xkAAAKr1givJQAAA2N0q8b9AAAD4u7UKwUAAAMArZB7BQAAAMPfFUbxAAABg4M7ptkAAAPBB9ZO2QAAAQCEaibZAAAAA81HctEAAAIAGokS0QAAAgAfqSLBAAAAAjsa5sEAAAADnlnmrQAAAAEDaB55AAAAAjGYXlEAAAAAAKkWAQAAAAOhZHnVA",
          "dtype": "f8"
         }
        },
        {
         "mode": "lines",
         "name": "Preds Trace 13",
         "type": "scatter",
         "visible": false,
         "x": {
          "bdata": "AAECAwQFBgcICQoLDA0ODxAREhMUFRYXGBkaGxwdHh8gISIjJCUmJygpKissLS4vMDEy",
          "dtype": "i1"
         },
         "y": {
          "bdata": "AAAAAAAAAAAAAAAAAAAAAAAAAAAAAAAAAAAAAAAAAAAAAAAAAAAAAAAAAAAAAAAAAAAAAAAAAAAAAAAAAAAAAAAAAAAAAAAAAAAAAAAAAAAAAAAAAAAAAAAAAAAAAAAAAAAAAAAAAAAAAAAAAAAAAAAAAAAAAAAAAAAAAAAAAAAAAABwXhRzQAAAAHCjHXRAAAAAmgcVkUAAAACqO5+SQAAAADTIYJJAAAAAWEp9nkAAAAAl7fqgQAAAAL3lc6JAAAAgxgo6qEAAAMQLyReqQAAAMCvgKLdAAADkikF/xUAAAFga+ArFQAAAED+ausBAAABE20RUyEAAAIB+ZqXQQAAAAHyPL8dAAACAFP3zyUAAACq1wizJQAAA3jXiMdBAAAA4+YALwUAAAAjtPH/DQAAAkFYo0MRAAADgpXthuUAAAJCzXAm4QAAAcAFOL7ZAAABAYrqpt0AAAABT0UW0QAAAAGftSbBAAAAAY826sEAAAAB5AnurQAAAAErkCJ5AAAAAlCUYlEAAAABMQ0WAQAAAAJhZHnVA",
          "dtype": "f8"
         }
        },
        {
         "mode": "lines",
         "name": "Preds Trace 14",
         "type": "scatter",
         "visible": false,
         "x": {
          "bdata": "AAECAwQFBgcICQoLDA0ODxAREhMUFRYXGBkaGxwdHh8gISIjJCUmJygpKissLS4vMDEy",
          "dtype": "i1"
         },
         "y": {
          "bdata": "AAAAAAAAAAAAAAAAAAAAAAAAAAAAAAAAAAAAAAAAAAAAAAAAAAAAAAAAAAAAAAAAAAAAAAAAAAAAAAAAAAAAAAAAAAAAAAAAAAAAAAAAAAAAAAAAAAAAAAAAAAAAAAAAAAAAAAAAAAAAAAAAAAAAAAAAAAAAAAAAAAAAAAAAAAAAAAAgtwI9QAAAAMiuInRAAABAmxUWdUAAAADa1aGSQAAAAHBFY5JAAAAArvD7k0AAAAC0UPygQAAAAGsBf6FAAADAxrERpEAAAMRQkxmqQAAAME3v67VAAAD295NbyEAAAGSGy5DTQAAAMMQ+ltBAAACkCYboykAAAEDq96XQQAAAYPyfuNZAAACgGojF0EAAAHVIAn3RQAAAPm9KMtBAAADMwwgi1EAAAIjHxX/DQAAAkGwscchAAACwAE2FyEAAANDekuC9QAAAkHl8e7lAAADwKLRGt0AAAAAZRz66QAAAAOhJSrBAAACASSC7sEAAAABrqnurQAAAABBmCp5AAAAANEoYlEAAAAD0K0SAQAAAAPCBHHVA",
          "dtype": "f8"
         }
        },
        {
         "mode": "lines",
         "name": "Preds Trace 15",
         "type": "scatter",
         "visible": false,
         "x": {
          "bdata": "AAECAwQFBgcICQoLDA0ODxAREhMUFRYXGBkaGxwdHh8gISIjJCUmJygpKissLS4vMDEy",
          "dtype": "i1"
         },
         "y": {
          "bdata": "AAAAAAAAAAAAAAAAAAAAAAAAAAAAAAAAAAAAAAAAAAAAAAAAAAAAAAAAAAAAAAAAAAAAAAAAAAAAAAAAAAAAAAAAAAAAAAAAAAAAAAAAAAAAAAAAAAAAAAAAAAAAAAAAAAAAAAAAAAAAAAAAAAAAAAAAAAAAAAAAAAAAAAAAAAAAAAAgtwI9QAAAAJRzGl5AAABAu+8YdUAAAABMENmNQAAAAOaMZ5JAAAAAWBABlEAAAADb3U+fQAAAACjhgqFAAADA11jfp0AAAGIm9SiwQAAAsFtV7bVAAAAavZXgz0AAAJwAYJrXQAAA8CHVm95AAADSmrC+2UAAAMgNoMHUQAAAwBJHudZAAAC0+BpU20AAALX0rA7WQAAAngUZNNdAAACM2ioi1EAAAORf1x/VQAAAkMRCcchAAABwyqu0zkAAANTVBS/TQAAA0OIG+bxAAAAwjcpou0AAACBsZei5QAAAABBr7rdAAACAkp67sEAAAAC7oHyrQAAAAH7eC55AAAAANo0ZlEAAAADAgkWAQAAAAACqHnVA",
          "dtype": "f8"
         }
        },
        {
         "mode": "lines",
         "name": "Preds Trace 16",
         "type": "scatter",
         "visible": false,
         "x": {
          "bdata": "AAECAwQFBgcICQoLDA0ODxAREhMUFRYXGBkaGxwdHh8gISIjJCUmJygpKissLS4vMDEy",
          "dtype": "i1"
         },
         "y": {
          "bdata": "AAAAAAAAAAAAAAAAAAAAAAAAAAAAAAAAAAAAAAAAAAAAAAAAAAAAAAAAAAAAAAAAAAAAAAAAAAAAAAAAAAAAAAAAAAAAAAAAAAAAAAAAAAAAAAAAAAAAAAAAAAAAAAAAAAAAAAAAAAAAAAAAAAAAAAAAAAAAAAAAAAAAAAAAAAAAAAAgtwI9QAAAAJRzGl5AAABAG/D9ckAAAACsGNmNQAAAAERuraBAAAAAsBYBlEAAAAB15E+fQAAAgFaVMaVAAADAScXfp0AAALJoIOG2QAAA2N5HB8JAAACaW8rgz0AAAHTBm83gQAAAgBH3Z+JAAAD5dv9S5UAAAHSbEDjjQAAAIG1YGN1AAACUiCFU20AAgMomG4jgQAAA3rdRSNtAAADs0e5q3EAAAKS82B/VQAAAyORb39RAAAAwSq60zkAAAJTw0PbWQAAAOujusOBAAACYUvRnwUAAAKCtj6m+QAAAQF/1qLdAAAAAcn/CukAAAAAxq3yrQAAAABg0C55AAAAACv8YlEAAAABwgUWAQAAAAACqHnVA",
          "dtype": "f8"
         }
        },
        {
         "mode": "lines",
         "name": "Preds Trace 17",
         "type": "scatter",
         "visible": false,
         "x": {
          "bdata": "AAECAwQFBgcICQoLDA0ODxAREhMUFRYXGBkaGxwdHh8gISIjJCUmJygpKissLS4vMDEy",
          "dtype": "i1"
         },
         "y": {
          "bdata": "AAAAAAAAAAAAAAAAAAAAAAAAAAAAAAAAAAAAAAAAAAAAAAAAAAAAAAAAAAAAAAAAAAAAAAAAAAAAAAAAAAAAAAAAAAAAAAAAAAAAAAAAAAAAAAAAAAAAAAAAAAAAAAAAAAAAAAAAAAAAAAAAAAAAAAAAAAAAAAAAAAAAAAAAAAAAAAAgtwI9QAAAAJRzGl5AAABAG/D9ckAAAABowkCSQAAAAEhuraBAAAAAHuyEpkAAAAAL5E+fQAAAgCiVMaVAAADg8qVhskAAALJZIOG2QAAAOPhRKMdAAACNJyd12EAAAPTwm83gQAAAQHlvDetAAACJBvRg6EAAAASvp7TrQAAAIO84hOZAAACq/xbh4EAAgOonG4jgQAAAnzD2FONAAACMIavi3kAAAKSrr07bQAAAiDVR39RAAAC4uSl51EAAAJTw0PbWQAAAmqbVz+NAAABGRAmm40AAAJCt5oDHQAAAQLk5hr1AAABAfBJpukAAAICRY263QAAAADTuC55AAAAAPJkZlEAAAABMgEWAQAAAAACqHnVA",
          "dtype": "f8"
         }
        },
        {
         "mode": "lines",
         "name": "Preds Trace 18",
         "type": "scatter",
         "visible": false,
         "x": {
          "bdata": "AAECAwQFBgcICQoLDA0ODxAREhMUFRYXGBkaGxwdHh8gISIjJCUmJygpKissLS4vMDEy",
          "dtype": "i1"
         },
         "y": {
          "bdata": "AAAAAAAAAAAAAAAAAAAAAAAAAAAAAAAAAAAAAAAAAAAAAAAAAAAAAAAAAAAAAAAAAAAAAAAAAAAAAAAAAAAAAAAAAAAAAAAAAAAAAAAAAAAAAAAAAAAAAAAAAAAAAAAAAAAAAAAAAAAAAAAAAAAAAAAAAAAAAAAAAAAAAAAAAAAAAAAgtwI9QAAAAJRzGl5AAABAG/D9ckAAAABowkCSQAAAAL5xu6ZAAAAAHuyEpkAAAMC/osewQAAAgCyVMaVAAADg96VhskAAABkeEpXFQAAAOPhRKMdAAAANeSm920AAAGRnstPnQAAAgHhvDetAAIAEeO8e8UAAAFTcAjbvQAAA0PLpjO1AAABqng8550AAgFpzZKXiQAAA7zH2FONAAAA+oH6q5EAAAASxRV3cQAAASOAkrdpAAAC4NDR51EAAABS6PETaQAAAeqbVz+NAAADG+hSg5kAAAJTbc3TmQAAAIC9818tAAACgIeULwUAAAADI2DC3QAAAAF7myLBAAAAAlu8YlEAAAABIgEWAQAAAAACqHnVA",
          "dtype": "f8"
         }
        },
        {
         "mode": "lines",
         "name": "Preds Trace 19",
         "type": "scatter",
         "visible": false,
         "x": {
          "bdata": "AAECAwQFBgcICQoLDA0ODxAREhMUFRYXGBkaGxwdHh8gISIjJCUmJygpKissLS4vMDEy",
          "dtype": "i1"
         },
         "y": {
          "bdata": "AAAAAAAAAAAAAAAAAAAAAAAAAAAAAAAAAAAAAAAAAAAAAAAAAAAAAAAAAAAAAAAAAAAAAAAAAAAAAAAAAAAAAAAAAAAAAAAAAAAAAAAAAAAAAAAAAAAAAAAAAAAAAAAAAAAAAAAAAAAAAAAAAAAAAAAAAAAAAAAAAAAAAAAAAAAAAAAgtwI9QAAAAJRzGl5AAABAG/D9ckAAAABowkCSQAAAAL5xu6ZAAAAAAKTDskAAAMC/osewQAAA4KG2OMFAAADg+KVhskAAABkeEpXFQAAAPLSu7tNAAAANeSm920AAAETxB/bpQAAACGdcmPJAAIAMeO8e8UAAACpwn5D0QAAACAK7afBAAACqRd2u7EAAgKLWqVnlQAAAd1M41uNAAAAuoX6q5EAAALIasyDiQAAAaMUW/9pAAAD4Ad4C2UAAALQVMUTaQAAA2tkRq+RAAABmARWg5kAAALR+bUPpQAAAiNBjkuJAAACg3lDdzUAAAAAcp9S+QAAAwOSqi7BAAAAAFs+lqUAAAAD8f0WAQAAAAACqHnVA",
          "dtype": "f8"
         }
        },
        {
         "mode": "lines",
         "name": "Preds Trace 20",
         "type": "scatter",
         "visible": false,
         "x": {
          "bdata": "AAECAwQFBgcICQoLDA0ODxAREhMUFRYXGBkaGxwdHh8gISIjJCUmJygpKissLS4vMDEy",
          "dtype": "i1"
         },
         "y": {
          "bdata": "AAAAAAAAAAAAAAAAAAAAAAAAAAAAAAAAAAAAAAAAAAAAAAAAAAAAAAAAAAAAAAAAAAAAAAAAAAAAAAAAAAAAAAAAAAAAAAAAAAAAAAAAAAAAAAAAAAAAAAAAAAAAAAAAAAAAAAAAAAAAAAAAAAAAAAAAAAAAAAAAAAAAAAAAAAAAAAAgtwI9QAAAAJRzGl5AAABAG/D9ckAAAABowkCSQAAAAL5xu6ZAAAAAAKTDskAAAEA//VW9QAAA4KG2OMFAAAD4t5Ns00AAABkeEpXFQAAAPLSu7tNAAIAGER/140AAAETxB/bpQAAAWOAjifNAAIAMtALI9UAAACpwn5D0QAAA6MMtdvRAAABqbQbP70AAgH4Y4PjnQACA1YdbieRAAACuzxOX5EAAAPIbsyDiQAAAVFemM+BAAADYVZjA2EAAAHQL4jHfQAAACtoRq+RAAACm5jvq5kAAAMQiQUPpQAAAiOZXbOVAAAAYvM3g4UAAAAABurrFQAAAwFCjs8BAAAAAFxM9qkAAAADOWROdQAAAABheG3VA",
          "dtype": "f8"
         }
        },
        {
         "name": "Actuals",
         "opacity": 0.6,
         "type": "bar",
         "x": {
          "bdata": "AAECAwQFBgcICQoLDA0ODxAREhMUFRYXGBkaGxwdHh8gISIjJCUmJygpKissLS4vMDEy",
          "dtype": "i1"
         },
         "y": {
          "bdata": "AAAAAAAAAAAAAAAAAAAAAAAAAAAAAAAAAAAAAAAAAAAAAAAAAAAAAAAAAAAAAAAAAAAAAAAAAAAAAAAAAAAAALkV6EGd0/BCge+XQxMGkkSP2zVFIR2WRemv6kXW50VGnmSbRmUyDkd2dZ9G+KgfR7oTgEcfSZxHhJ6zR4oLwEdxsaNHBreXR/7QUEc4gTRH0askRwxQDkcznQFHzivnRp2b9ka2oTJH4FE3R7R0S0fAYitHTY8nR6LS30YuKhJGH8ErRuqX7UQa+mBE",
          "dtype": "f4"
         }
        }
       ],
       "layout": {
        "barmode": "overlay",
        "sliders": [
         {
          "active": 0,
          "currentvalue": {
           "prefix": "Trace: "
          },
          "pad": {
           "t": 51
          },
          "steps": [
           {
            "args": [
             {
              "visible": [
               true,
               false,
               false,
               false,
               false,
               false,
               false,
               false,
               false,
               false,
               false,
               false,
               false,
               false,
               false,
               false,
               false,
               false,
               false,
               false,
               true
              ]
             }
            ],
            "label": "Preds Trace 1",
            "method": "update"
           },
           {
            "args": [
             {
              "visible": [
               false,
               true,
               false,
               false,
               false,
               false,
               false,
               false,
               false,
               false,
               false,
               false,
               false,
               false,
               false,
               false,
               false,
               false,
               false,
               false,
               true
              ]
             }
            ],
            "label": "Preds Trace 2",
            "method": "update"
           },
           {
            "args": [
             {
              "visible": [
               false,
               false,
               true,
               false,
               false,
               false,
               false,
               false,
               false,
               false,
               false,
               false,
               false,
               false,
               false,
               false,
               false,
               false,
               false,
               false,
               true
              ]
             }
            ],
            "label": "Preds Trace 3",
            "method": "update"
           },
           {
            "args": [
             {
              "visible": [
               false,
               false,
               false,
               true,
               false,
               false,
               false,
               false,
               false,
               false,
               false,
               false,
               false,
               false,
               false,
               false,
               false,
               false,
               false,
               false,
               true
              ]
             }
            ],
            "label": "Preds Trace 4",
            "method": "update"
           },
           {
            "args": [
             {
              "visible": [
               false,
               false,
               false,
               false,
               true,
               false,
               false,
               false,
               false,
               false,
               false,
               false,
               false,
               false,
               false,
               false,
               false,
               false,
               false,
               false,
               true
              ]
             }
            ],
            "label": "Preds Trace 5",
            "method": "update"
           },
           {
            "args": [
             {
              "visible": [
               false,
               false,
               false,
               false,
               false,
               true,
               false,
               false,
               false,
               false,
               false,
               false,
               false,
               false,
               false,
               false,
               false,
               false,
               false,
               false,
               true
              ]
             }
            ],
            "label": "Preds Trace 6",
            "method": "update"
           },
           {
            "args": [
             {
              "visible": [
               false,
               false,
               false,
               false,
               false,
               false,
               true,
               false,
               false,
               false,
               false,
               false,
               false,
               false,
               false,
               false,
               false,
               false,
               false,
               false,
               true
              ]
             }
            ],
            "label": "Preds Trace 7",
            "method": "update"
           },
           {
            "args": [
             {
              "visible": [
               false,
               false,
               false,
               false,
               false,
               false,
               false,
               true,
               false,
               false,
               false,
               false,
               false,
               false,
               false,
               false,
               false,
               false,
               false,
               false,
               true
              ]
             }
            ],
            "label": "Preds Trace 8",
            "method": "update"
           },
           {
            "args": [
             {
              "visible": [
               false,
               false,
               false,
               false,
               false,
               false,
               false,
               false,
               true,
               false,
               false,
               false,
               false,
               false,
               false,
               false,
               false,
               false,
               false,
               false,
               true
              ]
             }
            ],
            "label": "Preds Trace 9",
            "method": "update"
           },
           {
            "args": [
             {
              "visible": [
               false,
               false,
               false,
               false,
               false,
               false,
               false,
               false,
               false,
               true,
               false,
               false,
               false,
               false,
               false,
               false,
               false,
               false,
               false,
               false,
               true
              ]
             }
            ],
            "label": "Preds Trace 10",
            "method": "update"
           },
           {
            "args": [
             {
              "visible": [
               false,
               false,
               false,
               false,
               false,
               false,
               false,
               false,
               false,
               false,
               true,
               false,
               false,
               false,
               false,
               false,
               false,
               false,
               false,
               false,
               true
              ]
             }
            ],
            "label": "Preds Trace 11",
            "method": "update"
           },
           {
            "args": [
             {
              "visible": [
               false,
               false,
               false,
               false,
               false,
               false,
               false,
               false,
               false,
               false,
               false,
               true,
               false,
               false,
               false,
               false,
               false,
               false,
               false,
               false,
               true
              ]
             }
            ],
            "label": "Preds Trace 12",
            "method": "update"
           },
           {
            "args": [
             {
              "visible": [
               false,
               false,
               false,
               false,
               false,
               false,
               false,
               false,
               false,
               false,
               false,
               false,
               true,
               false,
               false,
               false,
               false,
               false,
               false,
               false,
               true
              ]
             }
            ],
            "label": "Preds Trace 13",
            "method": "update"
           },
           {
            "args": [
             {
              "visible": [
               false,
               false,
               false,
               false,
               false,
               false,
               false,
               false,
               false,
               false,
               false,
               false,
               false,
               true,
               false,
               false,
               false,
               false,
               false,
               false,
               true
              ]
             }
            ],
            "label": "Preds Trace 14",
            "method": "update"
           },
           {
            "args": [
             {
              "visible": [
               false,
               false,
               false,
               false,
               false,
               false,
               false,
               false,
               false,
               false,
               false,
               false,
               false,
               false,
               true,
               false,
               false,
               false,
               false,
               false,
               true
              ]
             }
            ],
            "label": "Preds Trace 15",
            "method": "update"
           },
           {
            "args": [
             {
              "visible": [
               false,
               false,
               false,
               false,
               false,
               false,
               false,
               false,
               false,
               false,
               false,
               false,
               false,
               false,
               false,
               true,
               false,
               false,
               false,
               false,
               true
              ]
             }
            ],
            "label": "Preds Trace 16",
            "method": "update"
           },
           {
            "args": [
             {
              "visible": [
               false,
               false,
               false,
               false,
               false,
               false,
               false,
               false,
               false,
               false,
               false,
               false,
               false,
               false,
               false,
               false,
               true,
               false,
               false,
               false,
               true
              ]
             }
            ],
            "label": "Preds Trace 17",
            "method": "update"
           },
           {
            "args": [
             {
              "visible": [
               false,
               false,
               false,
               false,
               false,
               false,
               false,
               false,
               false,
               false,
               false,
               false,
               false,
               false,
               false,
               false,
               false,
               true,
               false,
               false,
               true
              ]
             }
            ],
            "label": "Preds Trace 18",
            "method": "update"
           },
           {
            "args": [
             {
              "visible": [
               false,
               false,
               false,
               false,
               false,
               false,
               false,
               false,
               false,
               false,
               false,
               false,
               false,
               false,
               false,
               false,
               false,
               false,
               true,
               false,
               true
              ]
             }
            ],
            "label": "Preds Trace 19",
            "method": "update"
           },
           {
            "args": [
             {
              "visible": [
               false,
               false,
               false,
               false,
               false,
               false,
               false,
               false,
               false,
               false,
               false,
               false,
               false,
               false,
               false,
               false,
               false,
               false,
               false,
               true,
               true
              ]
             }
            ],
            "label": "Preds Trace 20",
            "method": "update"
           }
          ]
         }
        ],
        "template": {
         "data": {
          "bar": [
           {
            "error_x": {
             "color": "#2a3f5f"
            },
            "error_y": {
             "color": "#2a3f5f"
            },
            "marker": {
             "line": {
              "color": "#E5ECF6",
              "width": 0.5
             },
             "pattern": {
              "fillmode": "overlay",
              "size": 10,
              "solidity": 0.2
             }
            },
            "type": "bar"
           }
          ],
          "barpolar": [
           {
            "marker": {
             "line": {
              "color": "#E5ECF6",
              "width": 0.5
             },
             "pattern": {
              "fillmode": "overlay",
              "size": 10,
              "solidity": 0.2
             }
            },
            "type": "barpolar"
           }
          ],
          "carpet": [
           {
            "aaxis": {
             "endlinecolor": "#2a3f5f",
             "gridcolor": "white",
             "linecolor": "white",
             "minorgridcolor": "white",
             "startlinecolor": "#2a3f5f"
            },
            "baxis": {
             "endlinecolor": "#2a3f5f",
             "gridcolor": "white",
             "linecolor": "white",
             "minorgridcolor": "white",
             "startlinecolor": "#2a3f5f"
            },
            "type": "carpet"
           }
          ],
          "choropleth": [
           {
            "colorbar": {
             "outlinewidth": 0,
             "ticks": ""
            },
            "type": "choropleth"
           }
          ],
          "contour": [
           {
            "colorbar": {
             "outlinewidth": 0,
             "ticks": ""
            },
            "colorscale": [
             [
              0,
              "#0d0887"
             ],
             [
              0.1111111111111111,
              "#46039f"
             ],
             [
              0.2222222222222222,
              "#7201a8"
             ],
             [
              0.3333333333333333,
              "#9c179e"
             ],
             [
              0.4444444444444444,
              "#bd3786"
             ],
             [
              0.5555555555555556,
              "#d8576b"
             ],
             [
              0.6666666666666666,
              "#ed7953"
             ],
             [
              0.7777777777777778,
              "#fb9f3a"
             ],
             [
              0.8888888888888888,
              "#fdca26"
             ],
             [
              1,
              "#f0f921"
             ]
            ],
            "type": "contour"
           }
          ],
          "contourcarpet": [
           {
            "colorbar": {
             "outlinewidth": 0,
             "ticks": ""
            },
            "type": "contourcarpet"
           }
          ],
          "heatmap": [
           {
            "colorbar": {
             "outlinewidth": 0,
             "ticks": ""
            },
            "colorscale": [
             [
              0,
              "#0d0887"
             ],
             [
              0.1111111111111111,
              "#46039f"
             ],
             [
              0.2222222222222222,
              "#7201a8"
             ],
             [
              0.3333333333333333,
              "#9c179e"
             ],
             [
              0.4444444444444444,
              "#bd3786"
             ],
             [
              0.5555555555555556,
              "#d8576b"
             ],
             [
              0.6666666666666666,
              "#ed7953"
             ],
             [
              0.7777777777777778,
              "#fb9f3a"
             ],
             [
              0.8888888888888888,
              "#fdca26"
             ],
             [
              1,
              "#f0f921"
             ]
            ],
            "type": "heatmap"
           }
          ],
          "histogram": [
           {
            "marker": {
             "pattern": {
              "fillmode": "overlay",
              "size": 10,
              "solidity": 0.2
             }
            },
            "type": "histogram"
           }
          ],
          "histogram2d": [
           {
            "colorbar": {
             "outlinewidth": 0,
             "ticks": ""
            },
            "colorscale": [
             [
              0,
              "#0d0887"
             ],
             [
              0.1111111111111111,
              "#46039f"
             ],
             [
              0.2222222222222222,
              "#7201a8"
             ],
             [
              0.3333333333333333,
              "#9c179e"
             ],
             [
              0.4444444444444444,
              "#bd3786"
             ],
             [
              0.5555555555555556,
              "#d8576b"
             ],
             [
              0.6666666666666666,
              "#ed7953"
             ],
             [
              0.7777777777777778,
              "#fb9f3a"
             ],
             [
              0.8888888888888888,
              "#fdca26"
             ],
             [
              1,
              "#f0f921"
             ]
            ],
            "type": "histogram2d"
           }
          ],
          "histogram2dcontour": [
           {
            "colorbar": {
             "outlinewidth": 0,
             "ticks": ""
            },
            "colorscale": [
             [
              0,
              "#0d0887"
             ],
             [
              0.1111111111111111,
              "#46039f"
             ],
             [
              0.2222222222222222,
              "#7201a8"
             ],
             [
              0.3333333333333333,
              "#9c179e"
             ],
             [
              0.4444444444444444,
              "#bd3786"
             ],
             [
              0.5555555555555556,
              "#d8576b"
             ],
             [
              0.6666666666666666,
              "#ed7953"
             ],
             [
              0.7777777777777778,
              "#fb9f3a"
             ],
             [
              0.8888888888888888,
              "#fdca26"
             ],
             [
              1,
              "#f0f921"
             ]
            ],
            "type": "histogram2dcontour"
           }
          ],
          "mesh3d": [
           {
            "colorbar": {
             "outlinewidth": 0,
             "ticks": ""
            },
            "type": "mesh3d"
           }
          ],
          "parcoords": [
           {
            "line": {
             "colorbar": {
              "outlinewidth": 0,
              "ticks": ""
             }
            },
            "type": "parcoords"
           }
          ],
          "pie": [
           {
            "automargin": true,
            "type": "pie"
           }
          ],
          "scatter": [
           {
            "fillpattern": {
             "fillmode": "overlay",
             "size": 10,
             "solidity": 0.2
            },
            "type": "scatter"
           }
          ],
          "scatter3d": [
           {
            "line": {
             "colorbar": {
              "outlinewidth": 0,
              "ticks": ""
             }
            },
            "marker": {
             "colorbar": {
              "outlinewidth": 0,
              "ticks": ""
             }
            },
            "type": "scatter3d"
           }
          ],
          "scattercarpet": [
           {
            "marker": {
             "colorbar": {
              "outlinewidth": 0,
              "ticks": ""
             }
            },
            "type": "scattercarpet"
           }
          ],
          "scattergeo": [
           {
            "marker": {
             "colorbar": {
              "outlinewidth": 0,
              "ticks": ""
             }
            },
            "type": "scattergeo"
           }
          ],
          "scattergl": [
           {
            "marker": {
             "colorbar": {
              "outlinewidth": 0,
              "ticks": ""
             }
            },
            "type": "scattergl"
           }
          ],
          "scattermap": [
           {
            "marker": {
             "colorbar": {
              "outlinewidth": 0,
              "ticks": ""
             }
            },
            "type": "scattermap"
           }
          ],
          "scattermapbox": [
           {
            "marker": {
             "colorbar": {
              "outlinewidth": 0,
              "ticks": ""
             }
            },
            "type": "scattermapbox"
           }
          ],
          "scatterpolar": [
           {
            "marker": {
             "colorbar": {
              "outlinewidth": 0,
              "ticks": ""
             }
            },
            "type": "scatterpolar"
           }
          ],
          "scatterpolargl": [
           {
            "marker": {
             "colorbar": {
              "outlinewidth": 0,
              "ticks": ""
             }
            },
            "type": "scatterpolargl"
           }
          ],
          "scatterternary": [
           {
            "marker": {
             "colorbar": {
              "outlinewidth": 0,
              "ticks": ""
             }
            },
            "type": "scatterternary"
           }
          ],
          "surface": [
           {
            "colorbar": {
             "outlinewidth": 0,
             "ticks": ""
            },
            "colorscale": [
             [
              0,
              "#0d0887"
             ],
             [
              0.1111111111111111,
              "#46039f"
             ],
             [
              0.2222222222222222,
              "#7201a8"
             ],
             [
              0.3333333333333333,
              "#9c179e"
             ],
             [
              0.4444444444444444,
              "#bd3786"
             ],
             [
              0.5555555555555556,
              "#d8576b"
             ],
             [
              0.6666666666666666,
              "#ed7953"
             ],
             [
              0.7777777777777778,
              "#fb9f3a"
             ],
             [
              0.8888888888888888,
              "#fdca26"
             ],
             [
              1,
              "#f0f921"
             ]
            ],
            "type": "surface"
           }
          ],
          "table": [
           {
            "cells": {
             "fill": {
              "color": "#EBF0F8"
             },
             "line": {
              "color": "white"
             }
            },
            "header": {
             "fill": {
              "color": "#C8D4E3"
             },
             "line": {
              "color": "white"
             }
            },
            "type": "table"
           }
          ]
         },
         "layout": {
          "annotationdefaults": {
           "arrowcolor": "#2a3f5f",
           "arrowhead": 0,
           "arrowwidth": 1
          },
          "autotypenumbers": "strict",
          "coloraxis": {
           "colorbar": {
            "outlinewidth": 0,
            "ticks": ""
           }
          },
          "colorscale": {
           "diverging": [
            [
             0,
             "#8e0152"
            ],
            [
             0.1,
             "#c51b7d"
            ],
            [
             0.2,
             "#de77ae"
            ],
            [
             0.3,
             "#f1b6da"
            ],
            [
             0.4,
             "#fde0ef"
            ],
            [
             0.5,
             "#f7f7f7"
            ],
            [
             0.6,
             "#e6f5d0"
            ],
            [
             0.7,
             "#b8e186"
            ],
            [
             0.8,
             "#7fbc41"
            ],
            [
             0.9,
             "#4d9221"
            ],
            [
             1,
             "#276419"
            ]
           ],
           "sequential": [
            [
             0,
             "#0d0887"
            ],
            [
             0.1111111111111111,
             "#46039f"
            ],
            [
             0.2222222222222222,
             "#7201a8"
            ],
            [
             0.3333333333333333,
             "#9c179e"
            ],
            [
             0.4444444444444444,
             "#bd3786"
            ],
            [
             0.5555555555555556,
             "#d8576b"
            ],
            [
             0.6666666666666666,
             "#ed7953"
            ],
            [
             0.7777777777777778,
             "#fb9f3a"
            ],
            [
             0.8888888888888888,
             "#fdca26"
            ],
            [
             1,
             "#f0f921"
            ]
           ],
           "sequentialminus": [
            [
             0,
             "#0d0887"
            ],
            [
             0.1111111111111111,
             "#46039f"
            ],
            [
             0.2222222222222222,
             "#7201a8"
            ],
            [
             0.3333333333333333,
             "#9c179e"
            ],
            [
             0.4444444444444444,
             "#bd3786"
            ],
            [
             0.5555555555555556,
             "#d8576b"
            ],
            [
             0.6666666666666666,
             "#ed7953"
            ],
            [
             0.7777777777777778,
             "#fb9f3a"
            ],
            [
             0.8888888888888888,
             "#fdca26"
            ],
            [
             1,
             "#f0f921"
            ]
           ]
          },
          "colorway": [
           "#636efa",
           "#EF553B",
           "#00cc96",
           "#ab63fa",
           "#FFA15A",
           "#19d3f3",
           "#FF6692",
           "#B6E880",
           "#FF97FF",
           "#FECB52"
          ],
          "font": {
           "color": "#2a3f5f"
          },
          "geo": {
           "bgcolor": "white",
           "lakecolor": "white",
           "landcolor": "#E5ECF6",
           "showlakes": true,
           "showland": true,
           "subunitcolor": "white"
          },
          "hoverlabel": {
           "align": "left"
          },
          "hovermode": "closest",
          "mapbox": {
           "style": "light"
          },
          "paper_bgcolor": "white",
          "plot_bgcolor": "#E5ECF6",
          "polar": {
           "angularaxis": {
            "gridcolor": "white",
            "linecolor": "white",
            "ticks": ""
           },
           "bgcolor": "#E5ECF6",
           "radialaxis": {
            "gridcolor": "white",
            "linecolor": "white",
            "ticks": ""
           }
          },
          "scene": {
           "xaxis": {
            "backgroundcolor": "#E5ECF6",
            "gridcolor": "white",
            "gridwidth": 2,
            "linecolor": "white",
            "showbackground": true,
            "ticks": "",
            "zerolinecolor": "white"
           },
           "yaxis": {
            "backgroundcolor": "#E5ECF6",
            "gridcolor": "white",
            "gridwidth": 2,
            "linecolor": "white",
            "showbackground": true,
            "ticks": "",
            "zerolinecolor": "white"
           },
           "zaxis": {
            "backgroundcolor": "#E5ECF6",
            "gridcolor": "white",
            "gridwidth": 2,
            "linecolor": "white",
            "showbackground": true,
            "ticks": "",
            "zerolinecolor": "white"
           }
          },
          "shapedefaults": {
           "line": {
            "color": "#2a3f5f"
           }
          },
          "ternary": {
           "aaxis": {
            "gridcolor": "white",
            "linecolor": "white",
            "ticks": ""
           },
           "baxis": {
            "gridcolor": "white",
            "linecolor": "white",
            "ticks": ""
           },
           "bgcolor": "#E5ECF6",
           "caxis": {
            "gridcolor": "white",
            "linecolor": "white",
            "ticks": ""
           }
          },
          "title": {
           "x": 0.05
          },
          "xaxis": {
           "automargin": true,
           "gridcolor": "white",
           "linecolor": "white",
           "ticks": "",
           "title": {
            "standoff": 15
           },
           "zerolinecolor": "white",
           "zerolinewidth": 2
          },
          "yaxis": {
           "automargin": true,
           "gridcolor": "white",
           "linecolor": "white",
           "ticks": "",
           "title": {
            "standoff": 15
           },
           "zerolinecolor": "white",
           "zerolinewidth": 2
          }
         }
        },
        "title": {
         "text": "Predictions and Actuals"
        },
        "xaxis": {
         "title": {
          "text": "Time Step"
         }
        },
        "yaxis": {
         "range": [
          0,
          89216.16895723343
         ],
         "title": {
          "text": "Values"
         }
        }
       }
      }
     },
     "metadata": {},
     "output_type": "display_data"
    }
   ],
   "source": [
    "fig2.show()"
   ]
  },
  {
   "cell_type": "code",
   "execution_count": 17,
   "metadata": {},
   "outputs": [
    {
     "data": {
      "application/vnd.plotly.v1+json": {
       "config": {
        "plotlyServerURL": "https://plot.ly"
       },
       "data": [
        {
         "line": {
          "dash": "dash"
         },
         "mode": "lines",
         "name": "Preds Trace 1",
         "type": "scatter",
         "visible": true,
         "x": {
          "bdata": "AAECAwQFBgcICQoLDA0ODxAREhM=",
          "dtype": "i1"
         },
         "y": {
          "bdata": "AAAAAAAAAAAAAAAAAAAAAAAAAAAAAAAAAAAAAAAAAAAAAAAAAAAAAAAAAAAAAAAAAAAAAAAAAAAAAAAAAAAAAAAAAAAAAAAAAAAAAAAAAAAAAAAAAAAAAAAAAAAAAAAAAAAAAAAAAAAAAAAAAAAAAAAAAAAAAAAAAAAAAAAAAAAAAAAAAAAAAAAAAAAAAAAAAAAAAAAAAAAAAAAAAAAAAA==",
          "dtype": "f8"
         }
        },
        {
         "line": {
          "dash": "dash"
         },
         "mode": "lines",
         "name": "Preds Trace 2",
         "type": "scatter",
         "visible": false,
         "x": {
          "bdata": "AAECAwQFBgcICQoLDA0ODxAREhM=",
          "dtype": "i1"
         },
         "y": {
          "bdata": "AAAAAAAAAAAAAAAAAAAAAAAAAAAAAAAAAAAAAAAAAAAAAAAAAAAAAAAAAAAAAAAAAAAAAAAAAAAAAAAAAAAAAAAAAAAAAAAAAAAAAAAAAAAAAAAAAAAAAAAAAAAAAAAAAAAAAAAAAAAAAAAAAAAAAAAAAAAAAAAAAAAAAAAAAAAAAAAAAAAAAAAAAAAAAAAAAAAAAAAAAAAAAAAAAAAAAA==",
          "dtype": "f8"
         }
        },
        {
         "line": {
          "dash": "dash"
         },
         "mode": "lines",
         "name": "Preds Trace 3",
         "type": "scatter",
         "visible": false,
         "x": {
          "bdata": "AAECAwQFBgcICQoLDA0ODxAREhM=",
          "dtype": "i1"
         },
         "y": {
          "bdata": "AAAAAAAAAAAAAAAAAAAAAAAAAAAAAAAAAAAAAAAAAAAAAAAAAAAAAAAAAAAAAAAAAAAAAAAAAAAAAAAAAAAAAAAAAAAAAAAAAAAAAAAAAAAAAAAAAAAAAAAAAAAAAAAAAAAAAAAAAAAAAAAAAAAAAAAAAAAAAAAAAAAAAAAAAAAAAAAAAAAAAAAAAAAAAAAAAAAAAAAAAAAAAAAAAAAAAA==",
          "dtype": "f8"
         }
        },
        {
         "line": {
          "dash": "dash"
         },
         "mode": "lines",
         "name": "Preds Trace 4",
         "type": "scatter",
         "visible": false,
         "x": {
          "bdata": "AAECAwQFBgcICQoLDA0ODxAREhM=",
          "dtype": "i1"
         },
         "y": {
          "bdata": "AAAAAAAAAAAAAAAAAAAAAAAAAAAAAAAAAAAAAAAAAAAAAAAAAAAAAAAAAAAAAAAAAAAAAAAAAAAAAAAAAAAAAAAAAAAAAAAAAAAAAAAAAAAAAAAAAAAAAAAAAAAAAAAAAAAAAAAAAAAAAAAAAAAAAAAAAAAAAAAAAAAAAAAAAAAAAAAAAAAAAAAAAAAAAAAAAAAAAAAAAAAAAAAAAAAAAA==",
          "dtype": "f8"
         }
        },
        {
         "line": {
          "dash": "dash"
         },
         "mode": "lines",
         "name": "Preds Trace 5",
         "type": "scatter",
         "visible": false,
         "x": {
          "bdata": "AAECAwQFBgcICQoLDA0ODxAREhM=",
          "dtype": "i1"
         },
         "y": {
          "bdata": "AAAAAAAAAAAAAAAAAAAAAAAAAAAAAAAAAAAAAAAAAAAAAAAAAAAAAAAAAAAAAAAAAAAAAAAAAAAAAAAAAAAAAAAAAAAAAAAAAAAAAAAAAAAAAAAAAAAAAAAAAAAAAAAAAAAAAAAAAAAAAAAAAAAAAAAAAAAAAAAAAAAAAAAAAAAAAAAAAAAAAAAAAAAAAAAAAAAAAAAAAAAAAAAAAAAAAA==",
          "dtype": "f8"
         }
        },
        {
         "line": {
          "dash": "dash"
         },
         "mode": "lines",
         "name": "Preds Trace 6",
         "type": "scatter",
         "visible": false,
         "x": {
          "bdata": "AAECAwQFBgcICQoLDA0ODxAREhM=",
          "dtype": "i1"
         },
         "y": {
          "bdata": "AAAAAAAAAAAAAAAAAAAAAAAAAAAAAAAAAAAAAAAAAAAAAAAAAAAAAAAA4FJFFUBAAAAAhFQaEEAAAJBwoEZ0QAAAZHyypp5AAIAMEzCpwUAAQCZ2pGzUQAAg07IVJuFAACAzav2n6EAAkMkpokrwQACQyUheJ/RAAJARx2Gz+EAAkKm/iFP9QADIUKsougBBAMg4VRcUA0EAyDiufwYFQQ==",
          "dtype": "f8"
         }
        },
        {
         "line": {
          "dash": "dash"
         },
         "mode": "lines",
         "name": "Preds Trace 7",
         "type": "scatter",
         "visible": false,
         "x": {
          "bdata": "AAECAwQFBgcICQoLDA0ODxAREhM=",
          "dtype": "i1"
         },
         "y": {
          "bdata": "AAAAAAAAAAAAAAAAAAAAAAAAAAAAAAAAAAAAAAAAAAAAAAAAAAAAAAAAAAAAgFxAAABAxAmJVUAAAJDhN3B5QAAAkj44BqBAAICE6iXkwUAAQALnM5bUQAAgMY/oQeFAACDREaDL6EAAkLiilGDwQACQGC04QfRAAJDoCP3R+EAAkChS7Xb9QABI0Bn8zQBBAEjQXV8qA0EASCQyyB4FQQ==",
          "dtype": "f8"
         }
        },
        {
         "line": {
          "dash": "dash"
         },
         "mode": "lines",
         "name": "Preds Trace 8",
         "type": "scatter",
         "visible": false,
         "x": {
          "bdata": "AAECAwQFBgcICQoLDA0ODxAREhM=",
          "dtype": "i1"
         },
         "y": {
          "bdata": "AAAAAAAAAAAAAAAAAAAAAAAAAAAAAAAAAAAAAAAAAAAAAAAAAAAAAAAAAAAAgFxAAAAABILVh0AAAHAtgu6QQAAA+LQDVaVAAAD+0Gk9w0AAAD9ckUfVQACAn9lZneFAAIDf4yAq6UAAwN9Xc5HwQADAv2Sec/RAAMAvL0EG+UAAwNcZEq39QADgt0Pl6QBBAODXmz9HA0EA4G/+cTwFQQ==",
          "dtype": "f8"
         }
        },
        {
         "line": {
          "dash": "dash"
         },
         "mode": "lines",
         "name": "Preds Trace 9",
         "type": "scatter",
         "visible": false,
         "x": {
          "bdata": "AAECAwQFBgcICQoLDA0ODxAREhM=",
          "dtype": "i1"
         },
         "y": {
          "bdata": "AAAAAAAAAAAAAAAAAAAAAAAAAAAAAAAAAAAAAAAAAAAAAAAAAAAAAAAAAAAAgFxAAAAABILVh0AAAMCqa/yeQAAAIHV8XqxAAADInEgCxUAAAASPIyzWQAAA4pzgEOJAAACiJAif6UAAABHEoczwQAAAMaF9r/RAAAAhjfdC+UAAAGm3oer9QACAGOwNCQFBAIBIBNhmA0EAgOAlZVwFQQ==",
          "dtype": "f8"
         }
        },
        {
         "line": {
          "dash": "dash"
         },
         "mode": "lines",
         "name": "Preds Trace 10",
         "type": "scatter",
         "visible": false,
         "x": {
          "bdata": "AAECAwQFBgcICQoLDA0ODxAREhM=",
          "dtype": "i1"
         },
         "y": {
          "bdata": "AAAAAAAAAAAAAAAAAAAAAAAAAAAAAAAAAAAAAAAAAAAAAAAAAAAAAAAAAAAAgFxAAAAABILVh0AAAMCqa/yeQAAAAJDoHbZAAAAgeyn7yEAAAJCD5SnYQAAAOL2FEONAAADoKomf6kAAAGQYVk3xQAAA/CGfMPVAAADsXJ7E+UAAAHR0z2z+QAAANntgSgFBAADuzW+oA0EAAD5WNJ4FQQ==",
          "dtype": "f8"
         }
        },
        {
         "line": {
          "dash": "dash"
         },
         "mode": "lines",
         "name": "Preds Trace 11",
         "type": "scatter",
         "visible": false,
         "x": {
          "bdata": "AAECAwQFBgcICQoLDA0ODxAREhM=",
          "dtype": "i1"
         },
         "y": {
          "bdata": "AAAAAAAAAAAAAAAAAAAAAAAAAAAAAAAAAAAAAAAAAAAAAAAAAAAAAAAAAAAAgFxAAAAABILVh0AAAMCqa/yeQAAAAJDoHbZAAAAo9Uo+yEAAAPRti8zXQAAAqvl64uJAAADqsDZy6kAAAH2/DDfxQAAANWSvGvVAAAAlVh2v+UAAACX1vVf+QACA/u0IQAFBAIDCR1GeA0EAgDr4QpQFQQ==",
          "dtype": "f8"
         }
        },
        {
         "line": {
          "dash": "dash"
         },
         "mode": "lines",
         "name": "Preds Trace 12",
         "type": "scatter",
         "visible": false,
         "x": {
          "bdata": "AAECAwQFBgcICQoLDA0ODxAREhM=",
          "dtype": "i1"
         },
         "y": {
          "bdata": "AAAAAAAAAAAAAAAAAAAAAAAAAAAAAAAAAAAAAAAAAAAAAAAAAAAAAAAAAAAAgFxAAAAABILVh0AAAMCqa/yeQAAAAJDoHbZAAAAo9Uo+yEAAgFjlyyffQABATD6xkOZAAEDMghgh7kAAIJbv1Q7zQAAgjpPK8vZAACA+3J6H+0AAEM/nUhgAQQAQWyqqLAJBABCfvyaLBEEAEHPTQYEGQQ==",
          "dtype": "f8"
         }
        },
        {
         "line": {
          "dash": "dash"
         },
         "mode": "lines",
         "name": "Preds Trace 13",
         "type": "scatter",
         "visible": false,
         "x": {
          "bdata": "AAECAwQFBgcICQoLDA0ODxAREhM=",
          "dtype": "i1"
         },
         "y": {
          "bdata": "AAAAAAAAAAAAAAAAAAAAAAAAAAAAAAAAAAAAAAAAAAAAAAAAAAAAAAAAAAAAgFxAAAAABILVh0AAAMCqa/yeQAAAAJDoHbZAAAAo9Uo+yEAAgFjlyyffQADgvE7yHvJAAOC8dGjn9UAA4Kwq9uX5QADgBKgpyv1AAHCWj6YvAUEAcMZbUYQDQQBweqPLmAVBAHA+SnD3B0EAcO43q+0JQQ==",
          "dtype": "f8"
         }
        },
        {
         "line": {
          "dash": "dash"
         },
         "mode": "lines",
         "name": "Preds Trace 14",
         "type": "scatter",
         "visible": false,
         "x": {
          "bdata": "AAECAwQFBgcICQoLDA0ODxAREhM=",
          "dtype": "i1"
         },
         "y": {
          "bdata": "AAAAAAAAAAAAAAAAAAAAAAAAAAAAAAAAAAAAAAAAAAAAAAAAAAAAAAAAAAAAgFxAAAAABILVh0AAAMCqa/yeQAAAAJDoHbZAAAAo9Uo+yEAAgFjlyyffQADgvE7yHvJAADBxVRB6AkEAMCGodnkEQQAw5WmtawZBADAJ7WO2CEEAMF38MgsLQQAwgd7NHw1BADAFeJd+D0EAmHYIeLoQQQ==",
          "dtype": "f8"
         }
        },
        {
         "line": {
          "dash": "dash"
         },
         "mode": "lines",
         "name": "Preds Trace 15",
         "type": "scatter",
         "visible": false,
         "x": {
          "bdata": "AAECAwQFBgcICQoLDA0ODxAREhM=",
          "dtype": "i1"
         },
         "y": {
          "bdata": "AAAAAAAAAAAAAAAAAAAAAAAAAAAAAAAAAAAAAAAAAAAAAAAAAAAAAAAAAAAAgFxAAAAABILVh0AAAMCqa/yeQAAAAJDoHbZAAAAo9Uo+yEAAgFjlyyffQADgvE7yHvJAADBxVRB6AkEAcA+dQ9YPQQC4VfVQ5BBBALgjYsUJEkEAuLWORTQTQQC463GpPhRBALjxWyduFUEAuMMqaGkWQQ==",
          "dtype": "f8"
         }
        },
        {
         "line": {
          "dash": "dash"
         },
         "mode": "lines",
         "name": "Preds Trace 16",
         "type": "scatter",
         "visible": false,
         "x": {
          "bdata": "AAECAwQFBgcICQoLDA0ODxAREhM=",
          "dtype": "i1"
         },
         "y": {
          "bdata": "AAAAAAAAAAAAAAAAAAAAAAAAAAAAAAAAAAAAAAAAAAAAAAAAAAAAAAAAAAAAgFxAAAAABILVh0AAAMCqa/yeQAAAAJDoHbZAAAAo9Uo+yEAAgFjlyyffQADgvE7yHvJAADBxVRB6AkEAcA+dQ9YPQQC4TmrFFhlBALggRzw8GkEAuPDYvmYbQQC4FOokcRxBALgQRaWgHUEAuBgW6JseQQ==",
          "dtype": "f8"
         }
        },
        {
         "line": {
          "dash": "dash"
         },
         "mode": "lines",
         "name": "Preds Trace 17",
         "type": "scatter",
         "visible": false,
         "x": {
          "bdata": "AAECAwQFBgcICQoLDA0ODxAREhM=",
          "dtype": "i1"
         },
         "y": {
          "bdata": "AAAAAAAAAAAAAAAAAAAAAAAAAAAAAAAAAAAAAAAAAAAAAAAAAAAAAAAAAAAAgFxAAAAABILVh0AAAMCqa/yeQAAAAJDoHbZAAAAo9Uo+yEAAgFjlyyffQADgvE7yHvJAADBxVRB6AkEAcA+dQ9YPQQC4TmrFFhlBAFwAccuyIUEAXDTGDEgiQQBcu9g/zSJBAFzwEgBlI0EAXGOFoeIjQQ==",
          "dtype": "f8"
         }
        },
        {
         "line": {
          "dash": "dash"
         },
         "mode": "lines",
         "name": "Preds Trace 18",
         "type": "scatter",
         "visible": false,
         "x": {
          "bdata": "AAECAwQFBgcICQoLDA0ODxAREhM=",
          "dtype": "i1"
         },
         "y": {
          "bdata": "AAAAAAAAAAAAAAAAAAAAAAAAAAAAAAAAAAAAAAAAAAAAAAAAAAAAAAAAAAAAgFxAAAAABILVh0AAAMCqa/yeQAAAAJDoHbZAAAAo9Uo+yEAAgFjlyyffQADgvE7yHvJAADBxVRB6AkEAcA+dQ9YPQQC4TmrFFhlBAFwAccuyIUEA3Pp3fhQnQQDcfYmxmSdBANy6w3ExKEEA3IU1E68oQQ==",
          "dtype": "f8"
         }
        },
        {
         "line": {
          "dash": "dash"
         },
         "mode": "lines",
         "name": "Preds Trace 19",
         "type": "scatter",
         "visible": false,
         "x": {
          "bdata": "AAECAwQFBgcICQoLDA0ODxAREhM=",
          "dtype": "i1"
         },
         "y": {
          "bdata": "AAAAAAAAAAAAAAAAAAAAAAAAAAAAAAAAAAAAAAAAAAAAAAAAAAAAAAAAAAAAgFxAAAAABILVh0AAAMCqa/yeQAAAAJDoHbZAAAAo9Uo+yEAAgFjlyyffQADgvE7yHvJAADBxVRB6AkEAcA+dQ9YPQQC4TmrFFhlBAFwAccuyIUEA3Pp3fhQnQQBc/Mh97StBAFx9NjyFLEEAXDQh3AItQQ==",
          "dtype": "f8"
         }
        },
        {
         "line": {
          "dash": "dash"
         },
         "mode": "lines",
         "name": "Preds Trace 20",
         "type": "scatter",
         "visible": false,
         "x": {
          "bdata": "AAECAwQFBgcICQoLDA0ODxAREhM=",
          "dtype": "i1"
         },
         "y": {
          "bdata": "AAAAAAAAAAAAAAAAAAAAAAAAAAAAAAAAAAAAAAAAAAAAAAAAAAAAAAAAAAAAgFxAAAAABILVh0AAAMCqa/yeQAAAAJDoHbZAAAAo9Uo+yEAAgFjlyyffQADgvE7yHvJAADBxVRB6AkEAcA+dQ9YPQQC4TmrFFhlBAFwAccuyIUEA3Pp3fhQnQQBc/Mh97StBAMJTL09AMEEAQsm+HH8wQQ==",
          "dtype": "f8"
         }
        },
        {
         "line": {
          "color": "red",
          "dash": "solid"
         },
         "mode": "lines",
         "name": "Actuals",
         "type": "scatter",
         "x": {
          "bdata": "AAECAwQFBgcICQoLDA0ODxAREhM=",
          "dtype": "i1"
         },
         "y": {
          "bdata": "AAAAAAAAAAAAAAAAAAAAAAAAAAAAAORCEKw+RF3j90RE77BFWPJBRl4++UaT95BHg9ATSB2yfkgrtshIXJYNSfSjOEnva19JegKCSWCHkkk=",
          "dtype": "f4"
         }
        }
       ],
       "layout": {
        "sliders": [
         {
          "active": 0,
          "currentvalue": {
           "prefix": "Trace: "
          },
          "pad": {
           "t": 20
          },
          "steps": [
           {
            "args": [
             {
              "visible": [
               true,
               false,
               false,
               false,
               false,
               false,
               false,
               false,
               false,
               false,
               false,
               false,
               false,
               false,
               false,
               false,
               false,
               false,
               false,
               false,
               true
              ]
             }
            ],
            "label": "Preds Trace 1",
            "method": "update"
           },
           {
            "args": [
             {
              "visible": [
               false,
               true,
               false,
               false,
               false,
               false,
               false,
               false,
               false,
               false,
               false,
               false,
               false,
               false,
               false,
               false,
               false,
               false,
               false,
               false,
               true
              ]
             }
            ],
            "label": "Preds Trace 2",
            "method": "update"
           },
           {
            "args": [
             {
              "visible": [
               false,
               false,
               true,
               false,
               false,
               false,
               false,
               false,
               false,
               false,
               false,
               false,
               false,
               false,
               false,
               false,
               false,
               false,
               false,
               false,
               true
              ]
             }
            ],
            "label": "Preds Trace 3",
            "method": "update"
           },
           {
            "args": [
             {
              "visible": [
               false,
               false,
               false,
               true,
               false,
               false,
               false,
               false,
               false,
               false,
               false,
               false,
               false,
               false,
               false,
               false,
               false,
               false,
               false,
               false,
               true
              ]
             }
            ],
            "label": "Preds Trace 4",
            "method": "update"
           },
           {
            "args": [
             {
              "visible": [
               false,
               false,
               false,
               false,
               true,
               false,
               false,
               false,
               false,
               false,
               false,
               false,
               false,
               false,
               false,
               false,
               false,
               false,
               false,
               false,
               true
              ]
             }
            ],
            "label": "Preds Trace 5",
            "method": "update"
           },
           {
            "args": [
             {
              "visible": [
               false,
               false,
               false,
               false,
               false,
               true,
               false,
               false,
               false,
               false,
               false,
               false,
               false,
               false,
               false,
               false,
               false,
               false,
               false,
               false,
               true
              ]
             }
            ],
            "label": "Preds Trace 6",
            "method": "update"
           },
           {
            "args": [
             {
              "visible": [
               false,
               false,
               false,
               false,
               false,
               false,
               true,
               false,
               false,
               false,
               false,
               false,
               false,
               false,
               false,
               false,
               false,
               false,
               false,
               false,
               true
              ]
             }
            ],
            "label": "Preds Trace 7",
            "method": "update"
           },
           {
            "args": [
             {
              "visible": [
               false,
               false,
               false,
               false,
               false,
               false,
               false,
               true,
               false,
               false,
               false,
               false,
               false,
               false,
               false,
               false,
               false,
               false,
               false,
               false,
               true
              ]
             }
            ],
            "label": "Preds Trace 8",
            "method": "update"
           },
           {
            "args": [
             {
              "visible": [
               false,
               false,
               false,
               false,
               false,
               false,
               false,
               false,
               true,
               false,
               false,
               false,
               false,
               false,
               false,
               false,
               false,
               false,
               false,
               false,
               true
              ]
             }
            ],
            "label": "Preds Trace 9",
            "method": "update"
           },
           {
            "args": [
             {
              "visible": [
               false,
               false,
               false,
               false,
               false,
               false,
               false,
               false,
               false,
               true,
               false,
               false,
               false,
               false,
               false,
               false,
               false,
               false,
               false,
               false,
               true
              ]
             }
            ],
            "label": "Preds Trace 10",
            "method": "update"
           },
           {
            "args": [
             {
              "visible": [
               false,
               false,
               false,
               false,
               false,
               false,
               false,
               false,
               false,
               false,
               true,
               false,
               false,
               false,
               false,
               false,
               false,
               false,
               false,
               false,
               true
              ]
             }
            ],
            "label": "Preds Trace 11",
            "method": "update"
           },
           {
            "args": [
             {
              "visible": [
               false,
               false,
               false,
               false,
               false,
               false,
               false,
               false,
               false,
               false,
               false,
               true,
               false,
               false,
               false,
               false,
               false,
               false,
               false,
               false,
               true
              ]
             }
            ],
            "label": "Preds Trace 12",
            "method": "update"
           },
           {
            "args": [
             {
              "visible": [
               false,
               false,
               false,
               false,
               false,
               false,
               false,
               false,
               false,
               false,
               false,
               false,
               true,
               false,
               false,
               false,
               false,
               false,
               false,
               false,
               true
              ]
             }
            ],
            "label": "Preds Trace 13",
            "method": "update"
           },
           {
            "args": [
             {
              "visible": [
               false,
               false,
               false,
               false,
               false,
               false,
               false,
               false,
               false,
               false,
               false,
               false,
               false,
               true,
               false,
               false,
               false,
               false,
               false,
               false,
               true
              ]
             }
            ],
            "label": "Preds Trace 14",
            "method": "update"
           },
           {
            "args": [
             {
              "visible": [
               false,
               false,
               false,
               false,
               false,
               false,
               false,
               false,
               false,
               false,
               false,
               false,
               false,
               false,
               true,
               false,
               false,
               false,
               false,
               false,
               true
              ]
             }
            ],
            "label": "Preds Trace 15",
            "method": "update"
           },
           {
            "args": [
             {
              "visible": [
               false,
               false,
               false,
               false,
               false,
               false,
               false,
               false,
               false,
               false,
               false,
               false,
               false,
               false,
               false,
               true,
               false,
               false,
               false,
               false,
               true
              ]
             }
            ],
            "label": "Preds Trace 16",
            "method": "update"
           },
           {
            "args": [
             {
              "visible": [
               false,
               false,
               false,
               false,
               false,
               false,
               false,
               false,
               false,
               false,
               false,
               false,
               false,
               false,
               false,
               false,
               true,
               false,
               false,
               false,
               true
              ]
             }
            ],
            "label": "Preds Trace 17",
            "method": "update"
           },
           {
            "args": [
             {
              "visible": [
               false,
               false,
               false,
               false,
               false,
               false,
               false,
               false,
               false,
               false,
               false,
               false,
               false,
               false,
               false,
               false,
               false,
               true,
               false,
               false,
               true
              ]
             }
            ],
            "label": "Preds Trace 18",
            "method": "update"
           },
           {
            "args": [
             {
              "visible": [
               false,
               false,
               false,
               false,
               false,
               false,
               false,
               false,
               false,
               false,
               false,
               false,
               false,
               false,
               false,
               false,
               false,
               false,
               true,
               false,
               true
              ]
             }
            ],
            "label": "Preds Trace 19",
            "method": "update"
           },
           {
            "args": [
             {
              "visible": [
               false,
               false,
               false,
               false,
               false,
               false,
               false,
               false,
               false,
               false,
               false,
               false,
               false,
               false,
               false,
               false,
               false,
               false,
               false,
               true,
               true
              ]
             }
            ],
            "label": "Preds Trace 20",
            "method": "update"
           }
          ]
         }
        ],
        "template": {
         "data": {
          "bar": [
           {
            "error_x": {
             "color": "#2a3f5f"
            },
            "error_y": {
             "color": "#2a3f5f"
            },
            "marker": {
             "line": {
              "color": "#E5ECF6",
              "width": 0.5
             },
             "pattern": {
              "fillmode": "overlay",
              "size": 10,
              "solidity": 0.2
             }
            },
            "type": "bar"
           }
          ],
          "barpolar": [
           {
            "marker": {
             "line": {
              "color": "#E5ECF6",
              "width": 0.5
             },
             "pattern": {
              "fillmode": "overlay",
              "size": 10,
              "solidity": 0.2
             }
            },
            "type": "barpolar"
           }
          ],
          "carpet": [
           {
            "aaxis": {
             "endlinecolor": "#2a3f5f",
             "gridcolor": "white",
             "linecolor": "white",
             "minorgridcolor": "white",
             "startlinecolor": "#2a3f5f"
            },
            "baxis": {
             "endlinecolor": "#2a3f5f",
             "gridcolor": "white",
             "linecolor": "white",
             "minorgridcolor": "white",
             "startlinecolor": "#2a3f5f"
            },
            "type": "carpet"
           }
          ],
          "choropleth": [
           {
            "colorbar": {
             "outlinewidth": 0,
             "ticks": ""
            },
            "type": "choropleth"
           }
          ],
          "contour": [
           {
            "colorbar": {
             "outlinewidth": 0,
             "ticks": ""
            },
            "colorscale": [
             [
              0,
              "#0d0887"
             ],
             [
              0.1111111111111111,
              "#46039f"
             ],
             [
              0.2222222222222222,
              "#7201a8"
             ],
             [
              0.3333333333333333,
              "#9c179e"
             ],
             [
              0.4444444444444444,
              "#bd3786"
             ],
             [
              0.5555555555555556,
              "#d8576b"
             ],
             [
              0.6666666666666666,
              "#ed7953"
             ],
             [
              0.7777777777777778,
              "#fb9f3a"
             ],
             [
              0.8888888888888888,
              "#fdca26"
             ],
             [
              1,
              "#f0f921"
             ]
            ],
            "type": "contour"
           }
          ],
          "contourcarpet": [
           {
            "colorbar": {
             "outlinewidth": 0,
             "ticks": ""
            },
            "type": "contourcarpet"
           }
          ],
          "heatmap": [
           {
            "colorbar": {
             "outlinewidth": 0,
             "ticks": ""
            },
            "colorscale": [
             [
              0,
              "#0d0887"
             ],
             [
              0.1111111111111111,
              "#46039f"
             ],
             [
              0.2222222222222222,
              "#7201a8"
             ],
             [
              0.3333333333333333,
              "#9c179e"
             ],
             [
              0.4444444444444444,
              "#bd3786"
             ],
             [
              0.5555555555555556,
              "#d8576b"
             ],
             [
              0.6666666666666666,
              "#ed7953"
             ],
             [
              0.7777777777777778,
              "#fb9f3a"
             ],
             [
              0.8888888888888888,
              "#fdca26"
             ],
             [
              1,
              "#f0f921"
             ]
            ],
            "type": "heatmap"
           }
          ],
          "histogram": [
           {
            "marker": {
             "pattern": {
              "fillmode": "overlay",
              "size": 10,
              "solidity": 0.2
             }
            },
            "type": "histogram"
           }
          ],
          "histogram2d": [
           {
            "colorbar": {
             "outlinewidth": 0,
             "ticks": ""
            },
            "colorscale": [
             [
              0,
              "#0d0887"
             ],
             [
              0.1111111111111111,
              "#46039f"
             ],
             [
              0.2222222222222222,
              "#7201a8"
             ],
             [
              0.3333333333333333,
              "#9c179e"
             ],
             [
              0.4444444444444444,
              "#bd3786"
             ],
             [
              0.5555555555555556,
              "#d8576b"
             ],
             [
              0.6666666666666666,
              "#ed7953"
             ],
             [
              0.7777777777777778,
              "#fb9f3a"
             ],
             [
              0.8888888888888888,
              "#fdca26"
             ],
             [
              1,
              "#f0f921"
             ]
            ],
            "type": "histogram2d"
           }
          ],
          "histogram2dcontour": [
           {
            "colorbar": {
             "outlinewidth": 0,
             "ticks": ""
            },
            "colorscale": [
             [
              0,
              "#0d0887"
             ],
             [
              0.1111111111111111,
              "#46039f"
             ],
             [
              0.2222222222222222,
              "#7201a8"
             ],
             [
              0.3333333333333333,
              "#9c179e"
             ],
             [
              0.4444444444444444,
              "#bd3786"
             ],
             [
              0.5555555555555556,
              "#d8576b"
             ],
             [
              0.6666666666666666,
              "#ed7953"
             ],
             [
              0.7777777777777778,
              "#fb9f3a"
             ],
             [
              0.8888888888888888,
              "#fdca26"
             ],
             [
              1,
              "#f0f921"
             ]
            ],
            "type": "histogram2dcontour"
           }
          ],
          "mesh3d": [
           {
            "colorbar": {
             "outlinewidth": 0,
             "ticks": ""
            },
            "type": "mesh3d"
           }
          ],
          "parcoords": [
           {
            "line": {
             "colorbar": {
              "outlinewidth": 0,
              "ticks": ""
             }
            },
            "type": "parcoords"
           }
          ],
          "pie": [
           {
            "automargin": true,
            "type": "pie"
           }
          ],
          "scatter": [
           {
            "fillpattern": {
             "fillmode": "overlay",
             "size": 10,
             "solidity": 0.2
            },
            "type": "scatter"
           }
          ],
          "scatter3d": [
           {
            "line": {
             "colorbar": {
              "outlinewidth": 0,
              "ticks": ""
             }
            },
            "marker": {
             "colorbar": {
              "outlinewidth": 0,
              "ticks": ""
             }
            },
            "type": "scatter3d"
           }
          ],
          "scattercarpet": [
           {
            "marker": {
             "colorbar": {
              "outlinewidth": 0,
              "ticks": ""
             }
            },
            "type": "scattercarpet"
           }
          ],
          "scattergeo": [
           {
            "marker": {
             "colorbar": {
              "outlinewidth": 0,
              "ticks": ""
             }
            },
            "type": "scattergeo"
           }
          ],
          "scattergl": [
           {
            "marker": {
             "colorbar": {
              "outlinewidth": 0,
              "ticks": ""
             }
            },
            "type": "scattergl"
           }
          ],
          "scattermap": [
           {
            "marker": {
             "colorbar": {
              "outlinewidth": 0,
              "ticks": ""
             }
            },
            "type": "scattermap"
           }
          ],
          "scattermapbox": [
           {
            "marker": {
             "colorbar": {
              "outlinewidth": 0,
              "ticks": ""
             }
            },
            "type": "scattermapbox"
           }
          ],
          "scatterpolar": [
           {
            "marker": {
             "colorbar": {
              "outlinewidth": 0,
              "ticks": ""
             }
            },
            "type": "scatterpolar"
           }
          ],
          "scatterpolargl": [
           {
            "marker": {
             "colorbar": {
              "outlinewidth": 0,
              "ticks": ""
             }
            },
            "type": "scatterpolargl"
           }
          ],
          "scatterternary": [
           {
            "marker": {
             "colorbar": {
              "outlinewidth": 0,
              "ticks": ""
             }
            },
            "type": "scatterternary"
           }
          ],
          "surface": [
           {
            "colorbar": {
             "outlinewidth": 0,
             "ticks": ""
            },
            "colorscale": [
             [
              0,
              "#0d0887"
             ],
             [
              0.1111111111111111,
              "#46039f"
             ],
             [
              0.2222222222222222,
              "#7201a8"
             ],
             [
              0.3333333333333333,
              "#9c179e"
             ],
             [
              0.4444444444444444,
              "#bd3786"
             ],
             [
              0.5555555555555556,
              "#d8576b"
             ],
             [
              0.6666666666666666,
              "#ed7953"
             ],
             [
              0.7777777777777778,
              "#fb9f3a"
             ],
             [
              0.8888888888888888,
              "#fdca26"
             ],
             [
              1,
              "#f0f921"
             ]
            ],
            "type": "surface"
           }
          ],
          "table": [
           {
            "cells": {
             "fill": {
              "color": "#EBF0F8"
             },
             "line": {
              "color": "white"
             }
            },
            "header": {
             "fill": {
              "color": "#C8D4E3"
             },
             "line": {
              "color": "white"
             }
            },
            "type": "table"
           }
          ]
         },
         "layout": {
          "annotationdefaults": {
           "arrowcolor": "#2a3f5f",
           "arrowhead": 0,
           "arrowwidth": 1
          },
          "autotypenumbers": "strict",
          "coloraxis": {
           "colorbar": {
            "outlinewidth": 0,
            "ticks": ""
           }
          },
          "colorscale": {
           "diverging": [
            [
             0,
             "#8e0152"
            ],
            [
             0.1,
             "#c51b7d"
            ],
            [
             0.2,
             "#de77ae"
            ],
            [
             0.3,
             "#f1b6da"
            ],
            [
             0.4,
             "#fde0ef"
            ],
            [
             0.5,
             "#f7f7f7"
            ],
            [
             0.6,
             "#e6f5d0"
            ],
            [
             0.7,
             "#b8e186"
            ],
            [
             0.8,
             "#7fbc41"
            ],
            [
             0.9,
             "#4d9221"
            ],
            [
             1,
             "#276419"
            ]
           ],
           "sequential": [
            [
             0,
             "#0d0887"
            ],
            [
             0.1111111111111111,
             "#46039f"
            ],
            [
             0.2222222222222222,
             "#7201a8"
            ],
            [
             0.3333333333333333,
             "#9c179e"
            ],
            [
             0.4444444444444444,
             "#bd3786"
            ],
            [
             0.5555555555555556,
             "#d8576b"
            ],
            [
             0.6666666666666666,
             "#ed7953"
            ],
            [
             0.7777777777777778,
             "#fb9f3a"
            ],
            [
             0.8888888888888888,
             "#fdca26"
            ],
            [
             1,
             "#f0f921"
            ]
           ],
           "sequentialminus": [
            [
             0,
             "#0d0887"
            ],
            [
             0.1111111111111111,
             "#46039f"
            ],
            [
             0.2222222222222222,
             "#7201a8"
            ],
            [
             0.3333333333333333,
             "#9c179e"
            ],
            [
             0.4444444444444444,
             "#bd3786"
            ],
            [
             0.5555555555555556,
             "#d8576b"
            ],
            [
             0.6666666666666666,
             "#ed7953"
            ],
            [
             0.7777777777777778,
             "#fb9f3a"
            ],
            [
             0.8888888888888888,
             "#fdca26"
            ],
            [
             1,
             "#f0f921"
            ]
           ]
          },
          "colorway": [
           "#636efa",
           "#EF553B",
           "#00cc96",
           "#ab63fa",
           "#FFA15A",
           "#19d3f3",
           "#FF6692",
           "#B6E880",
           "#FF97FF",
           "#FECB52"
          ],
          "font": {
           "color": "#2a3f5f"
          },
          "geo": {
           "bgcolor": "white",
           "lakecolor": "white",
           "landcolor": "#E5ECF6",
           "showlakes": true,
           "showland": true,
           "subunitcolor": "white"
          },
          "hoverlabel": {
           "align": "left"
          },
          "hovermode": "closest",
          "mapbox": {
           "style": "light"
          },
          "paper_bgcolor": "white",
          "plot_bgcolor": "#E5ECF6",
          "polar": {
           "angularaxis": {
            "gridcolor": "white",
            "linecolor": "white",
            "ticks": ""
           },
           "bgcolor": "#E5ECF6",
           "radialaxis": {
            "gridcolor": "white",
            "linecolor": "white",
            "ticks": ""
           }
          },
          "scene": {
           "xaxis": {
            "backgroundcolor": "#E5ECF6",
            "gridcolor": "white",
            "gridwidth": 2,
            "linecolor": "white",
            "showbackground": true,
            "ticks": "",
            "zerolinecolor": "white"
           },
           "yaxis": {
            "backgroundcolor": "#E5ECF6",
            "gridcolor": "white",
            "gridwidth": 2,
            "linecolor": "white",
            "showbackground": true,
            "ticks": "",
            "zerolinecolor": "white"
           },
           "zaxis": {
            "backgroundcolor": "#E5ECF6",
            "gridcolor": "white",
            "gridwidth": 2,
            "linecolor": "white",
            "showbackground": true,
            "ticks": "",
            "zerolinecolor": "white"
           }
          },
          "shapedefaults": {
           "line": {
            "color": "#2a3f5f"
           }
          },
          "ternary": {
           "aaxis": {
            "gridcolor": "white",
            "linecolor": "white",
            "ticks": ""
           },
           "baxis": {
            "gridcolor": "white",
            "linecolor": "white",
            "ticks": ""
           },
           "bgcolor": "#E5ECF6",
           "caxis": {
            "gridcolor": "white",
            "linecolor": "white",
            "ticks": ""
           }
          },
          "title": {
           "x": 0.05
          },
          "xaxis": {
           "automargin": true,
           "gridcolor": "white",
           "linecolor": "white",
           "ticks": "",
           "title": {
            "standoff": 15
           },
           "zerolinecolor": "white",
           "zerolinewidth": 2
          },
          "yaxis": {
           "automargin": true,
           "gridcolor": "white",
           "linecolor": "white",
           "ticks": "",
           "title": {
            "standoff": 15
           },
           "zerolinecolor": "white",
           "zerolinewidth": 2
          }
         }
        },
        "title": {
         "text": "Cumulative Sum of Predictions and Actuals"
        },
        "xaxis": {
         "title": {
          "text": "Time Step"
         }
        },
        "yaxis": {
         "title": {
          "text": "Cumulative Values"
         }
        }
       }
      }
     },
     "metadata": {},
     "output_type": "display_data"
    }
   ],
   "source": [
    "fig3.show()"
   ]
  },
  {
   "cell_type": "code",
   "execution_count": 21,
   "metadata": {},
   "outputs": [
    {
     "data": {
      "text/plain": [
       "((139, 20, 20), (139, 20))"
      ]
     },
     "execution_count": 21,
     "metadata": {},
     "output_type": "execute_result"
    }
   ],
   "source": [
    "preds.shape,actuals.shape"
   ]
  },
  {
   "cell_type": "code",
   "execution_count": 18,
   "metadata": {},
   "outputs": [
    {
     "data": {
      "application/vnd.plotly.v1+json": {
       "config": {
        "plotlyServerURL": "https://plot.ly"
       },
       "data": [
        {
         "mode": "lines",
         "name": "Pera Roja Trace 1",
         "stackgroup": "group0",
         "type": "scatter",
         "visible": true,
         "x": {
          "bdata": "AAECAwQFBgcICQoLDA0ODxAREhM=",
          "dtype": "i1"
         },
         "y": {
          "bdata": "AAAAAAAAAAAAAAAAAAAAAAAAAAAAAAAAAAAAAAAAAAAAAAAAAAAAAAAAAAAAAAAAAAAAAAAAAAAAAAAAAAAAAAAAAAAAAAAAAAAAAAAAAAAAAAAAAAAAAAAAAAAAAAAAAAAAAAAAAAAAAAAAAAAAAAAAAAAAAAAAAAAAAAAAAAAAAAAAAAAAAAAAAAAAAAAAAAAAAAAAAAAAAAAAAAAAAA==",
          "dtype": "f8"
         }
        },
        {
         "mode": "lines",
         "name": "Uva Amarilla Trace 1",
         "stackgroup": "group0",
         "type": "scatter",
         "visible": true,
         "x": {
          "bdata": "AAECAwQFBgcICQoLDA0ODxAREhM=",
          "dtype": "i1"
         },
         "y": {
          "bdata": "AAAAAAAAAAAAAAAAAAAAAAAAAAAAAAAAAAAAAAAAAAAAAAAAAAAAAAAAAAAAAAAAAAAAAAAAAAAAAAAAAAAAAAAAAAAAAAAAAAAAAAAAAAAAAAAAAAAAAAAAAAAAAAAAAAAAAAAAAAAAAAAAAAAAAAAAAAAAAAAAAAAAAAAAAAAAAAAAAAAAAAAAAAAAAAAAAAAAAAAAAAAAAAAAAAAAAA==",
          "dtype": "f8"
         }
        },
        {
         "mode": "lines",
         "name": "Pera Roja Trace 2",
         "stackgroup": "group1",
         "type": "scatter",
         "visible": false,
         "x": {
          "bdata": "AAECAwQFBgcICQoLDA0ODxAREhM=",
          "dtype": "i1"
         },
         "y": {
          "bdata": "AAAAAAAAAAAAAAAAAAAAAAAAAAAAAAAAAAAAAAAAAAAAAAAAAAAAAAAAAAAAAAAAAAAAAAAAAAAAAAAAAAAAAAAAAAAAAAAAAAAAAAAAAAAAAAAAAAAAAAAAAAAAAAAAAAAAAAAAAAAAAAAAAAAAAAAAAAAAAAAAAAAAAAAAAAAAAAAAAAAAAAAAAAAAAAAAAAAAAAAAAAAAAAAAAAAAAA==",
          "dtype": "f8"
         }
        },
        {
         "mode": "lines",
         "name": "Uva Amarilla Trace 2",
         "stackgroup": "group1",
         "type": "scatter",
         "visible": false,
         "x": {
          "bdata": "AAECAwQFBgcICQoLDA0ODxAREhM=",
          "dtype": "i1"
         },
         "y": {
          "bdata": "AAAAAAAAAAAAAAAAAAAAAAAAAAAAAAAAAAAAAAAAAAAAAAAAAAAAAAAAAAAAAAAAAAAAAAAAAAAAAAAAAAAAAAAAAAAAAAAAAAAAAAAAAAAAAAAAAAAAAAAAAAAAAAAAAAAAAAAAAAAAAAAAAAAAAAAAAAAAAAAAAAAAAAAAAAAAAAAAAAAAAAAAAAAAAAAAAAAAAAAAAAAAAAAAAAAAAA==",
          "dtype": "f8"
         }
        },
        {
         "mode": "lines",
         "name": "Pera Roja Trace 3",
         "stackgroup": "group2",
         "type": "scatter",
         "visible": false,
         "x": {
          "bdata": "AAECAwQFBgcICQoLDA0ODxAREhM=",
          "dtype": "i1"
         },
         "y": {
          "bdata": "AAAAAAAAAAAAAAAAAAAAAAAAAAAAAAAAAAAAAAAAAAAAAAAAAAAAAAAAAAAAAAAAAAAAAAAAAAAAAAAAAAAAAAAAAAAAAAAAAAAAAAAAAAAAAAAAAAAAAAAAAAAAAAAAAAAAAAAAAAAAAAAAAAAAAAAAAAAAAAAAAAAAAAAAAAAAAAAAAAAAAAAAAAAAAAAAAAAAAAAAAAAAAAAAAAAAAA==",
          "dtype": "f8"
         }
        },
        {
         "mode": "lines",
         "name": "Uva Amarilla Trace 3",
         "stackgroup": "group2",
         "type": "scatter",
         "visible": false,
         "x": {
          "bdata": "AAECAwQFBgcICQoLDA0ODxAREhM=",
          "dtype": "i1"
         },
         "y": {
          "bdata": "AAAAAAAAAAAAAAAAAAAAAAAAAAAAAAAAAAAAAAAAAAAAAAAAAAAAAAAAAAAAAAAAAAAAAAAAAAAAAAAAAAAAAAAAAAAAAAAAAAAAAAAAAAAAAAAAAAAAAAAAAAAAAAAAAAAAAAAAAAAAAAAAAAAAAAAAAAAAAAAAAAAAAAAAAAAAAAAAAAAAAAAAAAAAAAAAAAAAAAAAAAAAAAAAAAAAAA==",
          "dtype": "f8"
         }
        },
        {
         "mode": "lines",
         "name": "Pera Roja Trace 4",
         "stackgroup": "group3",
         "type": "scatter",
         "visible": false,
         "x": {
          "bdata": "AAECAwQFBgcICQoLDA0ODxAREhM=",
          "dtype": "i1"
         },
         "y": {
          "bdata": "AAAAAAAAAAAAAAAAAAAAAAAAAAAAAAAAAAAAAAAAAAAAAAAAAAAAAAAAAAAAAAAAAAAAAAAAAAAAAAAAAAAAAAAAAAAAAAAAAAAAAAAAAAAAAAAAAAAAAAAAAAAAAAAAAAAAAAAAAAAAAAAAAAAAAAAAAAAAAAAAAAAAAAAAAAAAAAAAAAAAAAAAAAAAAAAAAAAAAAAAAAAAAAAAAAAAAA==",
          "dtype": "f8"
         }
        },
        {
         "mode": "lines",
         "name": "Uva Amarilla Trace 4",
         "stackgroup": "group3",
         "type": "scatter",
         "visible": false,
         "x": {
          "bdata": "AAECAwQFBgcICQoLDA0ODxAREhM=",
          "dtype": "i1"
         },
         "y": {
          "bdata": "AAAAAAAAAAAAAAAAAAAAAAAAAAAAAAAAAAAAAAAAAAAAAAAAAAAAAAAAAAAAAAAAAAAAAAAAAAAAAAAAAAAAAAAAAAAAAAAAAAAAAAAAAAAAAAAAAAAAAAAAAAAAAAAAAAAAAAAAAAAAAAAAAAAAAAAAAAAAAAAAAAAAAAAAAAAAAAAAAAAAAAAAAAAAAAAAAAAAAAAAAAAAAAAAAAAAAA==",
          "dtype": "f8"
         }
        },
        {
         "mode": "lines",
         "name": "Pera Roja Trace 5",
         "stackgroup": "group4",
         "type": "scatter",
         "visible": false,
         "x": {
          "bdata": "AAECAwQFBgcICQoLDA0ODxAREhM=",
          "dtype": "i1"
         },
         "y": {
          "bdata": "AAAAAAAAAAAAAAAAAAAAAAAAAAAAAAAAAAAAAAAAAAAAAAAAAAAAAAAAAAAAAAAAAAAAAAAAAAAAAAAAAAAAAAAAAAAAAAAAAAAAAAAAAAAAAAAAAAAAAAAAAAAAAAAAAAAAAAAAAAAAAAAAAAAAAAAAAAAAAAAAAAAAAAAAAAAAAAAAAAAAAAAAAAAAAAAAAAAAAAAAAAAAAAAAAAAAAA==",
          "dtype": "f8"
         }
        },
        {
         "mode": "lines",
         "name": "Uva Amarilla Trace 5",
         "stackgroup": "group4",
         "type": "scatter",
         "visible": false,
         "x": {
          "bdata": "AAECAwQFBgcICQoLDA0ODxAREhM=",
          "dtype": "i1"
         },
         "y": {
          "bdata": "AAAAAAAAAAAAAAAAAAAAAAAAAAAAAAAAAAAAAAAAAAAAAAAAAAAAAAAAAAAAAAAAAAAAAAAAAAAAAAAAAAAAAAAAAAAAAAAAAAAAAAAAAAAAAAAAAAAAAAAAAAAAAAAAAAAAAAAAAAAAAAAAAAAAAAAAAAAAAAAAAAAAAAAAAAAAAAAAAAAAAAAAAAAAAAAAAAAAAAAAAAAAAAAAAAAAAA==",
          "dtype": "f8"
         }
        },
        {
         "mode": "lines",
         "name": "Pera Roja Trace 6",
         "stackgroup": "group5",
         "type": "scatter",
         "visible": false,
         "x": {
          "bdata": "AAECAwQFBgcICQoLDA0ODxAREhM=",
          "dtype": "i1"
         },
         "y": {
          "bdata": "AAAAAAAAAAAAAAAAAAAAAAAAAAAAAAAAAAAAAAAAAAAAAAAAAAAAAAAAAFhI+Pg/AAAA0Mlv/L8AAAAIcRErQAAAADDIG1JAAAAAeARrc0AAAABgB1WAQAAAACwgh4NAAAAAtNohhUAAAADIN1yGQAAAADRLxoVAAAAAGLigiUAAAADYERKKQAAAAPjXSIdAAAAAoG6EikAAAADYjvOFQA==",
          "dtype": "f8"
         }
        },
        {
         "mode": "lines",
         "name": "Uva Amarilla Trace 6",
         "stackgroup": "group5",
         "type": "scatter",
         "visible": false,
         "x": {
          "bdata": "AAECAwQFBgcICQoLDA0ODxAREhM=",
          "dtype": "i1"
         },
         "y": {
          "bdata": "AAAAAAAAAAAAAAAAAAAAAAAAAAAAAAAAAAAAAAAAAAAAAAAAAAAAAAAAAJs78QJAAAAAtrRzBcAAAACgF1k/QAAAAMKPjGNAAAAArn6ghUAAAABoZSCSQAAAADCXsZVAAAAA2tVxl0AAAADKHsCYQAAAAELYIZhAAAAAXBZlnEAAAADcwOycQAAAAPwNx5lAAAAAVKVmnUAAAAD0wViYQA==",
          "dtype": "f8"
         }
        },
        {
         "mode": "lines",
         "name": "Pera Roja Trace 7",
         "stackgroup": "group6",
         "type": "scatter",
         "visible": false,
         "x": {
          "bdata": "AAECAwQFBgcICQoLDA0ODxAREhM=",
          "dtype": "i1"
         },
         "y": {
          "bdata": "AAAAAAAAAAAAAAAAAAAAAAAAAAAAAAAAAAAAAAAAAAAAAAAAAAAAAAAAAAAAAAAAAAAAQMU3/L8AAABY4RsrQAAAAOgtLlJAAAAAiGh+c0AAAADQfWWAQAAAALhNmoNAAAAAcBw3hUAAAACItXKGQAAAADST24VAAAAAkJu6iUAAAAAwJSyKQAAAANAIYIdAAAAACDGfikAAAABEYwmGQA==",
          "dtype": "f8"
         }
        },
        {
         "mode": "lines",
         "name": "Uva Amarilla Trace 7",
         "stackgroup": "group6",
         "type": "scatter",
         "visible": false,
         "x": {
          "bdata": "AAECAwQFBgcICQoLDA0ODxAREhM=",
          "dtype": "i1"
         },
         "y": {
          "bdata": "AAAAAAAAAAAAAAAAAAAAAAAAAAAAAAAAAAAAAAAAAAAAAAAAAAAAAAAAAAAAACZAAAAAVBA/BcAAAACM1GU/QAAAAGJuo2NAAAAALA24hUAAAADuXTSSQAAAAKTkyJVAAAAA8LGLl0AAAACactuYQAAAALapO5hAAAAAupCEnEAAAAA8bQydQAAAAJo945lAAAAA5CKHnUAAAABQOXOYQA==",
          "dtype": "f8"
         }
        },
        {
         "mode": "lines",
         "name": "Pera Roja Trace 8",
         "stackgroup": "group7",
         "type": "scatter",
         "visible": false,
         "x": {
          "bdata": "AAECAwQFBgcICQoLDA0ODxAREhM=",
          "dtype": "i1"
         },
         "y": {
          "bdata": "AAAAAAAAAAAAAAAAAAAAAAAAAAAAAAAAAAAAAAAAAAAAAAAAAAAAAAAAAAAAAAAAAAAAAAAAAAAAAAAoYR0rQAAAADT0NVJAAAAAEDeGc0AAAABMIWyAQAAAAJALooNAAAAAoLE/hUAAAAC4yXuGQAAAACQo5IVAAAAAQBTFiUAAAAC4rTaKQAAAAJByaYdAAAAA4AWqikAAAACIORKGQA==",
          "dtype": "f8"
         }
        },
        {
         "mode": "lines",
         "name": "Uva Amarilla Trace 8",
         "stackgroup": "group7",
         "type": "scatter",
         "visible": false,
         "x": {
          "bdata": "AAECAwQFBgcICQoLDA0ODxAREhM=",
          "dtype": "i1"
         },
         "y": {
          "bdata": "AAAAAAAAAAAAAAAAAAAAAAAAAAAAAAAAAAAAAAAAAAAAAAAAAAAAAAAAAAAAACZAAAAAAAAAJkAAAADgLWc/QAAAAGIyrGNAAAAAxuDAhUAAAACK4TuSQAAAACim0ZVAAAAAAmaVl0AAAACUt+WYQAAAAKBgRZhAAAAAIGmQnEAAAAD4VxidQAAAAMLj7ZlAAAAAnGSTnUAAAAAyO32YQA==",
          "dtype": "f8"
         }
        },
        {
         "mode": "lines",
         "name": "Pera Roja Trace 9",
         "stackgroup": "group8",
         "type": "scatter",
         "visible": false,
         "x": {
          "bdata": "AAECAwQFBgcICQoLDA0ODxAREhM=",
          "dtype": "i1"
         },
         "y": {
          "bdata": "AAAAAAAAAAAAAAAAAAAAAAAAAAAAAAAAAAAAAAAAAAAAAAAAAAAAAAAAAAAAAAAAAAAAAAAAAAAAAAAAAAAAAAAAANx4OVJAAAAAqL2Jc0AAAAAgJG+AQAAAAKSKpYNAAAAASJJDhUAAAACk5n+GQAAAABwN6IVAAAAAaNDJiUAAAABgdjuKQAAAAFy2bYdAAAAA4PGuikAAAAAoORaGQA==",
          "dtype": "f8"
         }
        },
        {
         "mode": "lines",
         "name": "Uva Amarilla Trace 9",
         "stackgroup": "group8",
         "type": "scatter",
         "visible": false,
         "x": {
          "bdata": "AAECAwQFBgcICQoLDA0ODxAREhM=",
          "dtype": "i1"
         },
         "y": {
          "bdata": "AAAAAAAAAAAAAAAAAAAAAAAAAAAAAAAAAAAAAAAAAAAAAAAAAAAAAAAAAAAAACZAAAAAAAAAJkAAAAAAAIBNQAAAABgMsGNAAAAAHrzEhUAAAABkLD+SQAAAAOB41ZVAAAAAXKOZl0AAAACgNuqYQAAAAHaiSZhAAAAAgpaVnEAAAACYkh2dQAAAAGSN8plAAAAABMaYnUAAAABsmoGYQA==",
          "dtype": "f8"
         }
        },
        {
         "mode": "lines",
         "name": "Pera Roja Trace 10",
         "stackgroup": "group9",
         "type": "scatter",
         "visible": false,
         "x": {
          "bdata": "AAECAwQFBgcICQoLDA0ODxAREhM=",
          "dtype": "i1"
         },
         "y": {
          "bdata": "AAAAAAAAAAAAAAAAAAAAAAAAAAAAAAAAAAAAAAAAAAAAAAAAAAAAAAAAAAAAAAAAAAAAAAAAAAAAAAAAAAAAAAAAAAAAAABAAAAAhDKMc0AAAADMPHGAQAAAACT8p4NAAAAAwFFGhUAAAACkyIKGQAAAAFDE6oVAAAAAKCPNiUAAAAD40T6KQAAAAAyvcIdAAAAAyGOyikAAAACo+RiGQA==",
          "dtype": "f8"
         }
        },
        {
         "mode": "lines",
         "name": "Uva Amarilla Trace 10",
         "stackgroup": "group9",
         "type": "scatter",
         "visible": false,
         "x": {
          "bdata": "AAECAwQFBgcICQoLDA0ODxAREhM=",
          "dtype": "i1"
         },
         "y": {
          "bdata": "AAAAAAAAAAAAAAAAAAAAAAAAAAAAAAAAAAAAAAAAAAAAAAAAAAAAAAAAAAAAACZAAAAAAAAAJkAAAAAAAIBNQAAAAAAAAEhAAAAAZKXGhUAAAADQ0ECSQAAAAPRb15VAAAAAkrybl0AAAABuc+yYQAAAAGTCS5hAAAAAniaYnEAAAADQLyCdQAAAAO7a9JlAAAAAdHabnUAAAADEwoOYQA==",
          "dtype": "f8"
         }
        },
        {
         "mode": "lines",
         "name": "Pera Roja Trace 11",
         "stackgroup": "group10",
         "type": "scatter",
         "visible": false,
         "x": {
          "bdata": "AAECAwQFBgcICQoLDA0ODxAREhM=",
          "dtype": "i1"
         },
         "y": {
          "bdata": "AAAAAAAAAAAAAAAAAAAAAAAAAAAAAAAAAAAAAAAAAAAAAAAAAAAAAAAAAAAAAAAAAAAAAAAAAAAAAAAAAAAAAAAAAAAAAABAAAAAYFVVFUAAAACkU3KAQAAAAPA8qYNAAAAA+LpHhUAAAADYRoSGQAAAAGQs7IVAAAAA0NjOiUAAAABwkECKQAAAAEA1codAAAAAyC20ikAAAADMYxqGQA==",
          "dtype": "f8"
         }
        },
        {
         "mode": "lines",
         "name": "Uva Amarilla Trace 11",
         "stackgroup": "group10",
         "type": "scatter",
         "visible": false,
         "x": {
          "bdata": "AAECAwQFBgcICQoLDA0ODxAREhM=",
          "dtype": "i1"
         },
         "y": {
          "bdata": "AAAAAAAAAAAAAAAAAAAAAAAAAAAAAAAAAAAAAAAAAAAAAAAAAAAAAAAAAAAAACZAAAAAAAAAJkAAAAAAAIBNQAAAAAAAAEhAAAAAqqqqSUAAAADACUKSQAAAAGLE2JVAAAAA7FOdl0AAAADkIO6YQAAAACZXTZhAAAAAAhOanEAAAAD0JSKdQAAAABCR9plAAAAARHmdnUAAAAD6V4WYQA==",
          "dtype": "f8"
         }
        },
        {
         "mode": "lines",
         "name": "Pera Roja Trace 12",
         "stackgroup": "group11",
         "type": "scatter",
         "visible": false,
         "x": {
          "bdata": "AAECAwQFBgcICQoLDA0ODxAREhM=",
          "dtype": "i1"
         },
         "y": {
          "bdata": "AAAAAAAAAAAAAAAAAAAAAAAAAAAAAAAAAAAAAAAAAAAAAAAAAAAAAAAAAAAAAAAAAAAAAAAAAAAAAAAAAAAAAAAAAAAAAABAAAAAYFVVFUAAAABgVVUtQAAAAEjCqYNAAAAApFFIhUAAAAAY6oSGQAAAAEDG7IVAAAAA4JDPiUAAAACQUEGKQAAAAJDXcodAAAAA2PK0ikAAAAAk+hqGQA==",
          "dtype": "f8"
         }
        },
        {
         "mode": "lines",
         "name": "Uva Amarilla Trace 12",
         "stackgroup": "group11",
         "type": "scatter",
         "visible": false,
         "x": {
          "bdata": "AAECAwQFBgcICQoLDA0ODxAREhM=",
          "dtype": "i1"
         },
         "y": {
          "bdata": "AAAAAAAAAAAAAAAAAAAAAAAAAAAAAAAAAAAAAAAAAAAAAAAAAAAAAAAAAAAAACZAAAAAAAAAJkAAAAAAAIBNQAAAAAAAAEhAAAAAqqqqSUAAAABIza0pQAAAADIW2pVAAAAAGNOel0AAAAD4su+YQAAAANjTTphAAAAASt6bnEAAAADI+yOdQAAAAFwo+JlAAAAAxFyfnUAAAABc1IaYQA==",
          "dtype": "f8"
         }
        },
        {
         "mode": "lines",
         "name": "Pera Roja Trace 13",
         "stackgroup": "group12",
         "type": "scatter",
         "visible": false,
         "x": {
          "bdata": "AAECAwQFBgcICQoLDA0ODxAREhM=",
          "dtype": "i1"
         },
         "y": {
          "bdata": "AAAAAAAAAAAAAAAAAAAAAAAAAAAAAAAAAAAAAAAAAAAAAAAAAAAAAAAAAAAAAAAAAAAAAAAAAAAAAAAAAAAAAAAAAAAAAABAAAAAYFVVFUAAAABgVVUtQAAAAFhVFVZAAAAATMdJhUAAAABQaYaGQAAAAAQo7oVAAAAAIE7RiUAAAAAoDEOKQAAAACBgdIdAAAAAiLa2ikAAAAAMXhyGQA==",
          "dtype": "f8"
         }
        },
        {
         "mode": "lines",
         "name": "Uva Amarilla Trace 13",
         "stackgroup": "group12",
         "type": "scatter",
         "visible": false,
         "x": {
          "bdata": "AAECAwQFBgcICQoLDA0ODxAREhM=",
          "dtype": "i1"
         },
         "y": {
          "bdata": "AAAAAAAAAAAAAAAAAAAAAAAAAAAAAAAAAAAAAAAAAAAAAAAAAAAAAAAAAAAAACZAAAAAAAAAJkAAAAAAAIBNQAAAAAAAAEhAAAAAqqqqSUAAAABIza0pQAAAgFDS3WlAAAAAFq6hl0AAAAACnvKYQAAAAHSGUZhAAAAANESfnEAAAAAgWyedQAAAADgr+5lAAAAAsMyinUAAAAC4komYQA==",
          "dtype": "f8"
         }
        },
        {
         "mode": "lines",
         "name": "Pera Roja Trace 14",
         "stackgroup": "group13",
         "type": "scatter",
         "visible": false,
         "x": {
          "bdata": "AAECAwQFBgcICQoLDA0ODxAREhM=",
          "dtype": "i1"
         },
         "y": {
          "bdata": "AAAAAAAAAAAAAAAAAAAAAAAAAAAAAAAAAAAAAAAAAAAAAAAAAAAAAAAAAAAAAAAAAAAAAAAAAAAAAAAAAAAAAAAAAAAAAABAAAAAYFVVFUAAAABgVVUtQAAAAFhVFVZAAAAAYFVVZkAAAAB4aYaGQAAAAEwo7oVAAAAAaEvRiUAAAACYDkOKQAAAAChadIdAAAAAqLi2ikAAAAB4VhyGQA==",
          "dtype": "f8"
         }
        },
        {
         "mode": "lines",
         "name": "Uva Amarilla Trace 14",
         "stackgroup": "group13",
         "type": "scatter",
         "visible": false,
         "x": {
          "bdata": "AAECAwQFBgcICQoLDA0ODxAREhM=",
          "dtype": "i1"
         },
         "y": {
          "bdata": "AAAAAAAAAAAAAAAAAAAAAAAAAAAAAAAAAAAAAAAAAAAAAAAAAAAAAAAAAAAAACZAAAAAAAAAJkAAAAAAAIBNQAAAAAAAAEhAAAAAqqqqSUAAAABIza0pQAAAgFDS3WlAAADAz407kUAAAABG9vWYQAAAAHSbVJhAAAAA6C6jnEAAAABANCudQAAAAEKm/plAAAAATLimnUAAAABYvoyYQA==",
          "dtype": "f8"
         }
        },
        {
         "mode": "lines",
         "name": "Pera Roja Trace 15",
         "stackgroup": "group14",
         "type": "scatter",
         "visible": false,
         "x": {
          "bdata": "AAECAwQFBgcICQoLDA0ODxAREhM=",
          "dtype": "i1"
         },
         "y": {
          "bdata": "AAAAAAAAAAAAAAAAAAAAAAAAAAAAAAAAAAAAAAAAAAAAAAAAAAAAAAAAAAAAAAAAAAAAAAAAAAAAAAAAAAAAAAAAAAAAAABAAAAAYFVVFUAAAABgVVUtQAAAAFhVFVZAAAAAYFVVZkAAAAA0wORwQAAAANix8YVAAAAA2MvViUAAAAAod0eKQAAAAKhceIdAAAAAeDe7ikAAAADs/h+GQA==",
          "dtype": "f8"
         }
        },
        {
         "mode": "lines",
         "name": "Uva Amarilla Trace 15",
         "stackgroup": "group14",
         "type": "scatter",
         "visible": false,
         "x": {
          "bdata": "AAECAwQFBgcICQoLDA0ODxAREhM=",
          "dtype": "i1"
         },
         "y": {
          "bdata": "AAAAAAAAAAAAAAAAAAAAAAAAAAAAAAAAAAAAAAAAAAAAAAAAAAAAAAAAAAAAACZAAAAAAAAAJkAAAAAAAIBNQAAAAAAAAEhAAAAAqqqqSUAAAABIza0pQAAAgFDS3WlAAADAz407kUAAAMD6hAOiQAAAAIg5VphAAAAAnD2lnEAAAAC8OC2dQAAAAHR8AJpAAAAASMaonUAAAAAQbY6YQA==",
          "dtype": "f8"
         }
        },
        {
         "mode": "lines",
         "name": "Pera Roja Trace 16",
         "stackgroup": "group15",
         "type": "scatter",
         "visible": false,
         "x": {
          "bdata": "AAECAwQFBgcICQoLDA0ODxAREhM=",
          "dtype": "i1"
         },
         "y": {
          "bdata": "AAAAAAAAAAAAAAAAAAAAAAAAAAAAAAAAAAAAAAAAAAAAAAAAAAAAAAAAAAAAAAAAAAAAAAAAAAAAAAAAAAAAAAAAAAAAAABAAAAAYFVVFUAAAABgVVUtQAAAAFhVFVZAAAAAYFVVZkAAAAA0wORwQAAAAHqgUHdAAAAAIMLXiUAAAAA4Y0mKQAAAACweeodAAAAA+Cy9ikAAAAAEnCGGQA==",
          "dtype": "f8"
         }
        },
        {
         "mode": "lines",
         "name": "Uva Amarilla Trace 16",
         "stackgroup": "group15",
         "type": "scatter",
         "visible": false,
         "x": {
          "bdata": "AAECAwQFBgcICQoLDA0ODxAREhM=",
          "dtype": "i1"
         },
         "y": {
          "bdata": "AAAAAAAAAAAAAAAAAAAAAAAAAAAAAAAAAAAAAAAAAAAAAAAAAAAAAAAAAAAAACZAAAAAAAAAJkAAAAAAAIBNQAAAAAAAAEhAAAAAqqqqSUAAAABIza0pQAAAgFDS3WlAAADAz407kUAAAMD6hAOiQAAAADNqTqtAAAAACEKlnEAAAAAYPS2dQAAAAGiAAJpAAAAAoMqonUAAAADCcI6YQA==",
          "dtype": "f8"
         }
        },
        {
         "mode": "lines",
         "name": "Pera Roja Trace 17",
         "stackgroup": "group16",
         "type": "scatter",
         "visible": false,
         "x": {
          "bdata": "AAECAwQFBgcICQoLDA0ODxAREhM=",
          "dtype": "i1"
         },
         "y": {
          "bdata": "AAAAAAAAAAAAAAAAAAAAAAAAAAAAAAAAAAAAAAAAAAAAAAAAAAAAAAAAAAAAAAAAAAAAAAAAAAAAAAAAAAAAAAAAAAAAAABAAAAAYFVVFUAAAABgVVUtQAAAAFhVFVZAAAAAYFVVZkAAAAA0wORwQAAAAHqgUHdAAAAArPtSgEAAAACIdEmKQAAAANwteodAAAAASD69ikAAAACYqiGGQA==",
          "dtype": "f8"
         }
        },
        {
         "mode": "lines",
         "name": "Uva Amarilla Trace 17",
         "stackgroup": "group16",
         "type": "scatter",
         "visible": false,
         "x": {
          "bdata": "AAECAwQFBgcICQoLDA0ODxAREhM=",
          "dtype": "i1"
         },
         "y": {
          "bdata": "AAAAAAAAAAAAAAAAAAAAAAAAAAAAAAAAAAAAAAAAAAAAAAAAAAAAAAAAAAAAACZAAAAAAAAAJkAAAAAAAIBNQAAAAAAAAEhAAAAAqqqqSUAAAABIza0pQAAAgFDS3WlAAADAz407kUAAAMD6hAOiQAAAADNqTqtAAAAAVw0rrkAAAADUPC2dQAAAAC6AAJpAAAAASMqonUAAAACAcI6YQA==",
          "dtype": "f8"
         }
        },
        {
         "mode": "lines",
         "name": "Pera Roja Trace 18",
         "stackgroup": "group17",
         "type": "scatter",
         "visible": false,
         "x": {
          "bdata": "AAECAwQFBgcICQoLDA0ODxAREhM=",
          "dtype": "i1"
         },
         "y": {
          "bdata": "AAAAAAAAAAAAAAAAAAAAAAAAAAAAAAAAAAAAAAAAAAAAAAAAAAAAAAAAAAAAAAAAAAAAAAAAAAAAAAAAAAAAAAAAAAAAAABAAAAAYFVVFUAAAABgVVUtQAAAAFhVFVZAAAAAYFVVZkAAAAA0wORwQAAAAHqgUHdAAAAArPtSgEAAAABAej+EQAAAAMwteodAAAAAKD69ikAAAACQqiGGQA==",
          "dtype": "f8"
         }
        },
        {
         "mode": "lines",
         "name": "Uva Amarilla Trace 18",
         "stackgroup": "group17",
         "type": "scatter",
         "visible": false,
         "x": {
          "bdata": "AAECAwQFBgcICQoLDA0ODxAREhM=",
          "dtype": "i1"
         },
         "y": {
          "bdata": "AAAAAAAAAAAAAAAAAAAAAAAAAAAAAAAAAAAAAAAAAAAAAAAAAAAAAAAAAAAAACZAAAAAAAAAJkAAAAAAAIBNQAAAAAAAAEhAAAAAqqqqSUAAAABIza0pQAAAgFDS3WlAAADAz407kUAAAMD6hAOiQAAAADNqTqtAAAAAVw0rrkAAAAA5cBSvQAAAAFSAAJpAAAAAfMqonUAAAACmcI6YQA==",
          "dtype": "f8"
         }
        },
        {
         "mode": "lines",
         "name": "Pera Roja Trace 19",
         "stackgroup": "group18",
         "type": "scatter",
         "visible": false,
         "x": {
          "bdata": "AAECAwQFBgcICQoLDA0ODxAREhM=",
          "dtype": "i1"
         },
         "y": {
          "bdata": "AAAAAAAAAAAAAAAAAAAAAAAAAAAAAAAAAAAAAAAAAAAAAAAAAAAAAAAAAAAAAAAAAAAAAAAAAAAAAAAAAAAAAAAAAAAAAABAAAAAYFVVFUAAAABgVVUtQAAAAFhVFVZAAAAAYFVVZkAAAAA0wORwQAAAAHqgUHdAAAAArPtSgEAAAABAej+EQAAAAKiLUYZAAAAAkD29ikAAAAAIqiGGQA==",
          "dtype": "f8"
         }
        },
        {
         "mode": "lines",
         "name": "Uva Amarilla Trace 19",
         "stackgroup": "group18",
         "type": "scatter",
         "visible": false,
         "x": {
          "bdata": "AAECAwQFBgcICQoLDA0ODxAREhM=",
          "dtype": "i1"
         },
         "y": {
          "bdata": "AAAAAAAAAAAAAAAAAAAAAAAAAAAAAAAAAAAAAAAAAAAAAAAAAAAAAAAAAAAAACZAAAAAAAAAJkAAAAAAAIBNQAAAAAAAAEhAAAAAqqqqSUAAAABIza0pQAAAgFDS3WlAAADAz407kUAAAMD6hAOiQAAAADNqTqtAAAAAVw0rrkAAAAA5cBSvQAAAgHp9LK5AAAAAaMuonUAAAABecY6YQA==",
          "dtype": "f8"
         }
        },
        {
         "mode": "lines",
         "name": "Pera Roja Trace 20",
         "stackgroup": "group19",
         "type": "scatter",
         "visible": false,
         "x": {
          "bdata": "AAECAwQFBgcICQoLDA0ODxAREhM=",
          "dtype": "i1"
         },
         "y": {
          "bdata": "AAAAAAAAAAAAAAAAAAAAAAAAAAAAAAAAAAAAAAAAAAAAAAAAAAAAAAAAAAAAAAAAAAAAAAAAAAAAAAAAAAAAAAAAAAAAAABAAAAAYFVVFUAAAABgVVUtQAAAAFhVFVZAAAAAYFVVZkAAAAA0wORwQAAAAHqgUHdAAAAArPtSgEAAAABAej+EQAAAAKiLUYZAAAAASriJg0AAAAD4DiCGQA==",
          "dtype": "f8"
         }
        },
        {
         "mode": "lines",
         "name": "Uva Amarilla Trace 20",
         "stackgroup": "group19",
         "type": "scatter",
         "visible": false,
         "x": {
          "bdata": "AAECAwQFBgcICQoLDA0ODxAREhM=",
          "dtype": "i1"
         },
         "y": {
          "bdata": "AAAAAAAAAAAAAAAAAAAAAAAAAAAAAAAAAAAAAAAAAAAAAAAAAAAAAAAAAAAAACZAAAAAAAAAJkAAAAAAAIBNQAAAAAAAAEhAAAAAqqqqSUAAAABIza0pQAAAgFDS3WlAAADAz407kUAAAMD6hAOiQAAAADNqTqtAAAAAVw0rrkAAAAA5cBSvQAAAgHp9LK5AAAAAcSH3rUAAAABooY2YQA==",
          "dtype": "f8"
         }
        },
        {
         "name": "Pera Roja Actuals",
         "opacity": 0.6,
         "type": "bar",
         "x": {
          "bdata": "AAECAwQFBgcICQoLDA0ODxAREhM=",
          "dtype": "i1"
         },
         "y": {
          "bdata": "AAAAAAAAAAAAAAAAAAAAAAAAAAAAAAAAAAAAAAAAAAAAAABAq6qqQKuqakGrqrBCq6oyQwImh0MEhbpD3pcCRNL7IURdjDJEwk0cRF752kM=",
          "dtype": "f4"
         }
        },
        {
         "name": "Uva Amarilla Actuals",
         "opacity": 0.6,
         "type": "bar",
         "x": {
          "bdata": "AAECAwQFBgcICQoLDA0ODxAREhM=",
          "dtype": "i1"
         },
         "y": {
          "bdata": "AAAAAAAAAAAAAAAAAAAAAAAAAAAAADBBAAAwQQAAbEIAAEBCVVVNQmpuTUGS7k5Db9yJRCkcEEVRc1pFalhxRYOjeEXrY3FFDLlvRb/nRkU=",
          "dtype": "f4"
         }
        }
       ],
       "layout": {
        "barmode": "stack",
        "sliders": [
         {
          "active": 0,
          "currentvalue": {
           "prefix": "Trace: "
          },
          "len": 1,
          "pad": {
           "t": 20
          },
          "steps": [
           {
            "args": [
             {
              "visible": [
               true,
               true,
               false,
               false,
               false,
               false,
               false,
               false,
               false,
               false,
               false,
               false,
               false,
               false,
               false,
               false,
               false,
               false,
               false,
               false,
               false,
               false,
               false,
               false,
               false,
               false,
               false,
               false,
               false,
               false,
               false,
               false,
               false,
               false,
               false,
               false,
               false,
               false,
               false,
               false,
               true,
               true
              ]
             }
            ],
            "label": "Preds Trace 1",
            "method": "update"
           },
           {
            "args": [
             {
              "visible": [
               false,
               false,
               true,
               true,
               false,
               false,
               false,
               false,
               false,
               false,
               false,
               false,
               false,
               false,
               false,
               false,
               false,
               false,
               false,
               false,
               false,
               false,
               false,
               false,
               false,
               false,
               false,
               false,
               false,
               false,
               false,
               false,
               false,
               false,
               false,
               false,
               false,
               false,
               false,
               false,
               true,
               true
              ]
             }
            ],
            "label": "Preds Trace 2",
            "method": "update"
           },
           {
            "args": [
             {
              "visible": [
               false,
               false,
               false,
               false,
               true,
               true,
               false,
               false,
               false,
               false,
               false,
               false,
               false,
               false,
               false,
               false,
               false,
               false,
               false,
               false,
               false,
               false,
               false,
               false,
               false,
               false,
               false,
               false,
               false,
               false,
               false,
               false,
               false,
               false,
               false,
               false,
               false,
               false,
               false,
               false,
               true,
               true
              ]
             }
            ],
            "label": "Preds Trace 3",
            "method": "update"
           },
           {
            "args": [
             {
              "visible": [
               false,
               false,
               false,
               false,
               false,
               false,
               true,
               true,
               false,
               false,
               false,
               false,
               false,
               false,
               false,
               false,
               false,
               false,
               false,
               false,
               false,
               false,
               false,
               false,
               false,
               false,
               false,
               false,
               false,
               false,
               false,
               false,
               false,
               false,
               false,
               false,
               false,
               false,
               false,
               false,
               true,
               true
              ]
             }
            ],
            "label": "Preds Trace 4",
            "method": "update"
           },
           {
            "args": [
             {
              "visible": [
               false,
               false,
               false,
               false,
               false,
               false,
               false,
               false,
               true,
               true,
               false,
               false,
               false,
               false,
               false,
               false,
               false,
               false,
               false,
               false,
               false,
               false,
               false,
               false,
               false,
               false,
               false,
               false,
               false,
               false,
               false,
               false,
               false,
               false,
               false,
               false,
               false,
               false,
               false,
               false,
               true,
               true
              ]
             }
            ],
            "label": "Preds Trace 5",
            "method": "update"
           },
           {
            "args": [
             {
              "visible": [
               false,
               false,
               false,
               false,
               false,
               false,
               false,
               false,
               false,
               false,
               true,
               true,
               false,
               false,
               false,
               false,
               false,
               false,
               false,
               false,
               false,
               false,
               false,
               false,
               false,
               false,
               false,
               false,
               false,
               false,
               false,
               false,
               false,
               false,
               false,
               false,
               false,
               false,
               false,
               false,
               true,
               true
              ]
             }
            ],
            "label": "Preds Trace 6",
            "method": "update"
           },
           {
            "args": [
             {
              "visible": [
               false,
               false,
               false,
               false,
               false,
               false,
               false,
               false,
               false,
               false,
               false,
               false,
               true,
               true,
               false,
               false,
               false,
               false,
               false,
               false,
               false,
               false,
               false,
               false,
               false,
               false,
               false,
               false,
               false,
               false,
               false,
               false,
               false,
               false,
               false,
               false,
               false,
               false,
               false,
               false,
               true,
               true
              ]
             }
            ],
            "label": "Preds Trace 7",
            "method": "update"
           },
           {
            "args": [
             {
              "visible": [
               false,
               false,
               false,
               false,
               false,
               false,
               false,
               false,
               false,
               false,
               false,
               false,
               false,
               false,
               true,
               true,
               false,
               false,
               false,
               false,
               false,
               false,
               false,
               false,
               false,
               false,
               false,
               false,
               false,
               false,
               false,
               false,
               false,
               false,
               false,
               false,
               false,
               false,
               false,
               false,
               true,
               true
              ]
             }
            ],
            "label": "Preds Trace 8",
            "method": "update"
           },
           {
            "args": [
             {
              "visible": [
               false,
               false,
               false,
               false,
               false,
               false,
               false,
               false,
               false,
               false,
               false,
               false,
               false,
               false,
               false,
               false,
               true,
               true,
               false,
               false,
               false,
               false,
               false,
               false,
               false,
               false,
               false,
               false,
               false,
               false,
               false,
               false,
               false,
               false,
               false,
               false,
               false,
               false,
               false,
               false,
               true,
               true
              ]
             }
            ],
            "label": "Preds Trace 9",
            "method": "update"
           },
           {
            "args": [
             {
              "visible": [
               false,
               false,
               false,
               false,
               false,
               false,
               false,
               false,
               false,
               false,
               false,
               false,
               false,
               false,
               false,
               false,
               false,
               false,
               true,
               true,
               false,
               false,
               false,
               false,
               false,
               false,
               false,
               false,
               false,
               false,
               false,
               false,
               false,
               false,
               false,
               false,
               false,
               false,
               false,
               false,
               true,
               true
              ]
             }
            ],
            "label": "Preds Trace 10",
            "method": "update"
           },
           {
            "args": [
             {
              "visible": [
               false,
               false,
               false,
               false,
               false,
               false,
               false,
               false,
               false,
               false,
               false,
               false,
               false,
               false,
               false,
               false,
               false,
               false,
               false,
               false,
               true,
               true,
               false,
               false,
               false,
               false,
               false,
               false,
               false,
               false,
               false,
               false,
               false,
               false,
               false,
               false,
               false,
               false,
               false,
               false,
               true,
               true
              ]
             }
            ],
            "label": "Preds Trace 11",
            "method": "update"
           },
           {
            "args": [
             {
              "visible": [
               false,
               false,
               false,
               false,
               false,
               false,
               false,
               false,
               false,
               false,
               false,
               false,
               false,
               false,
               false,
               false,
               false,
               false,
               false,
               false,
               false,
               false,
               true,
               true,
               false,
               false,
               false,
               false,
               false,
               false,
               false,
               false,
               false,
               false,
               false,
               false,
               false,
               false,
               false,
               false,
               true,
               true
              ]
             }
            ],
            "label": "Preds Trace 12",
            "method": "update"
           },
           {
            "args": [
             {
              "visible": [
               false,
               false,
               false,
               false,
               false,
               false,
               false,
               false,
               false,
               false,
               false,
               false,
               false,
               false,
               false,
               false,
               false,
               false,
               false,
               false,
               false,
               false,
               false,
               false,
               true,
               true,
               false,
               false,
               false,
               false,
               false,
               false,
               false,
               false,
               false,
               false,
               false,
               false,
               false,
               false,
               true,
               true
              ]
             }
            ],
            "label": "Preds Trace 13",
            "method": "update"
           },
           {
            "args": [
             {
              "visible": [
               false,
               false,
               false,
               false,
               false,
               false,
               false,
               false,
               false,
               false,
               false,
               false,
               false,
               false,
               false,
               false,
               false,
               false,
               false,
               false,
               false,
               false,
               false,
               false,
               false,
               false,
               true,
               true,
               false,
               false,
               false,
               false,
               false,
               false,
               false,
               false,
               false,
               false,
               false,
               false,
               true,
               true
              ]
             }
            ],
            "label": "Preds Trace 14",
            "method": "update"
           },
           {
            "args": [
             {
              "visible": [
               false,
               false,
               false,
               false,
               false,
               false,
               false,
               false,
               false,
               false,
               false,
               false,
               false,
               false,
               false,
               false,
               false,
               false,
               false,
               false,
               false,
               false,
               false,
               false,
               false,
               false,
               false,
               false,
               true,
               true,
               false,
               false,
               false,
               false,
               false,
               false,
               false,
               false,
               false,
               false,
               true,
               true
              ]
             }
            ],
            "label": "Preds Trace 15",
            "method": "update"
           },
           {
            "args": [
             {
              "visible": [
               false,
               false,
               false,
               false,
               false,
               false,
               false,
               false,
               false,
               false,
               false,
               false,
               false,
               false,
               false,
               false,
               false,
               false,
               false,
               false,
               false,
               false,
               false,
               false,
               false,
               false,
               false,
               false,
               false,
               false,
               true,
               true,
               false,
               false,
               false,
               false,
               false,
               false,
               false,
               false,
               true,
               true
              ]
             }
            ],
            "label": "Preds Trace 16",
            "method": "update"
           },
           {
            "args": [
             {
              "visible": [
               false,
               false,
               false,
               false,
               false,
               false,
               false,
               false,
               false,
               false,
               false,
               false,
               false,
               false,
               false,
               false,
               false,
               false,
               false,
               false,
               false,
               false,
               false,
               false,
               false,
               false,
               false,
               false,
               false,
               false,
               false,
               false,
               true,
               true,
               false,
               false,
               false,
               false,
               false,
               false,
               true,
               true
              ]
             }
            ],
            "label": "Preds Trace 17",
            "method": "update"
           },
           {
            "args": [
             {
              "visible": [
               false,
               false,
               false,
               false,
               false,
               false,
               false,
               false,
               false,
               false,
               false,
               false,
               false,
               false,
               false,
               false,
               false,
               false,
               false,
               false,
               false,
               false,
               false,
               false,
               false,
               false,
               false,
               false,
               false,
               false,
               false,
               false,
               false,
               false,
               true,
               true,
               false,
               false,
               false,
               false,
               true,
               true
              ]
             }
            ],
            "label": "Preds Trace 18",
            "method": "update"
           },
           {
            "args": [
             {
              "visible": [
               false,
               false,
               false,
               false,
               false,
               false,
               false,
               false,
               false,
               false,
               false,
               false,
               false,
               false,
               false,
               false,
               false,
               false,
               false,
               false,
               false,
               false,
               false,
               false,
               false,
               false,
               false,
               false,
               false,
               false,
               false,
               false,
               false,
               false,
               false,
               false,
               true,
               true,
               false,
               false,
               true,
               true
              ]
             }
            ],
            "label": "Preds Trace 19",
            "method": "update"
           },
           {
            "args": [
             {
              "visible": [
               false,
               false,
               false,
               false,
               false,
               false,
               false,
               false,
               false,
               false,
               false,
               false,
               false,
               false,
               false,
               false,
               false,
               false,
               false,
               false,
               false,
               false,
               false,
               false,
               false,
               false,
               false,
               false,
               false,
               false,
               false,
               false,
               false,
               false,
               false,
               false,
               false,
               false,
               true,
               true,
               true,
               true
              ]
             }
            ],
            "label": "Preds Trace 20",
            "method": "update"
           }
          ]
         }
        ],
        "template": {
         "data": {
          "bar": [
           {
            "error_x": {
             "color": "#2a3f5f"
            },
            "error_y": {
             "color": "#2a3f5f"
            },
            "marker": {
             "line": {
              "color": "#E5ECF6",
              "width": 0.5
             },
             "pattern": {
              "fillmode": "overlay",
              "size": 10,
              "solidity": 0.2
             }
            },
            "type": "bar"
           }
          ],
          "barpolar": [
           {
            "marker": {
             "line": {
              "color": "#E5ECF6",
              "width": 0.5
             },
             "pattern": {
              "fillmode": "overlay",
              "size": 10,
              "solidity": 0.2
             }
            },
            "type": "barpolar"
           }
          ],
          "carpet": [
           {
            "aaxis": {
             "endlinecolor": "#2a3f5f",
             "gridcolor": "white",
             "linecolor": "white",
             "minorgridcolor": "white",
             "startlinecolor": "#2a3f5f"
            },
            "baxis": {
             "endlinecolor": "#2a3f5f",
             "gridcolor": "white",
             "linecolor": "white",
             "minorgridcolor": "white",
             "startlinecolor": "#2a3f5f"
            },
            "type": "carpet"
           }
          ],
          "choropleth": [
           {
            "colorbar": {
             "outlinewidth": 0,
             "ticks": ""
            },
            "type": "choropleth"
           }
          ],
          "contour": [
           {
            "colorbar": {
             "outlinewidth": 0,
             "ticks": ""
            },
            "colorscale": [
             [
              0,
              "#0d0887"
             ],
             [
              0.1111111111111111,
              "#46039f"
             ],
             [
              0.2222222222222222,
              "#7201a8"
             ],
             [
              0.3333333333333333,
              "#9c179e"
             ],
             [
              0.4444444444444444,
              "#bd3786"
             ],
             [
              0.5555555555555556,
              "#d8576b"
             ],
             [
              0.6666666666666666,
              "#ed7953"
             ],
             [
              0.7777777777777778,
              "#fb9f3a"
             ],
             [
              0.8888888888888888,
              "#fdca26"
             ],
             [
              1,
              "#f0f921"
             ]
            ],
            "type": "contour"
           }
          ],
          "contourcarpet": [
           {
            "colorbar": {
             "outlinewidth": 0,
             "ticks": ""
            },
            "type": "contourcarpet"
           }
          ],
          "heatmap": [
           {
            "colorbar": {
             "outlinewidth": 0,
             "ticks": ""
            },
            "colorscale": [
             [
              0,
              "#0d0887"
             ],
             [
              0.1111111111111111,
              "#46039f"
             ],
             [
              0.2222222222222222,
              "#7201a8"
             ],
             [
              0.3333333333333333,
              "#9c179e"
             ],
             [
              0.4444444444444444,
              "#bd3786"
             ],
             [
              0.5555555555555556,
              "#d8576b"
             ],
             [
              0.6666666666666666,
              "#ed7953"
             ],
             [
              0.7777777777777778,
              "#fb9f3a"
             ],
             [
              0.8888888888888888,
              "#fdca26"
             ],
             [
              1,
              "#f0f921"
             ]
            ],
            "type": "heatmap"
           }
          ],
          "histogram": [
           {
            "marker": {
             "pattern": {
              "fillmode": "overlay",
              "size": 10,
              "solidity": 0.2
             }
            },
            "type": "histogram"
           }
          ],
          "histogram2d": [
           {
            "colorbar": {
             "outlinewidth": 0,
             "ticks": ""
            },
            "colorscale": [
             [
              0,
              "#0d0887"
             ],
             [
              0.1111111111111111,
              "#46039f"
             ],
             [
              0.2222222222222222,
              "#7201a8"
             ],
             [
              0.3333333333333333,
              "#9c179e"
             ],
             [
              0.4444444444444444,
              "#bd3786"
             ],
             [
              0.5555555555555556,
              "#d8576b"
             ],
             [
              0.6666666666666666,
              "#ed7953"
             ],
             [
              0.7777777777777778,
              "#fb9f3a"
             ],
             [
              0.8888888888888888,
              "#fdca26"
             ],
             [
              1,
              "#f0f921"
             ]
            ],
            "type": "histogram2d"
           }
          ],
          "histogram2dcontour": [
           {
            "colorbar": {
             "outlinewidth": 0,
             "ticks": ""
            },
            "colorscale": [
             [
              0,
              "#0d0887"
             ],
             [
              0.1111111111111111,
              "#46039f"
             ],
             [
              0.2222222222222222,
              "#7201a8"
             ],
             [
              0.3333333333333333,
              "#9c179e"
             ],
             [
              0.4444444444444444,
              "#bd3786"
             ],
             [
              0.5555555555555556,
              "#d8576b"
             ],
             [
              0.6666666666666666,
              "#ed7953"
             ],
             [
              0.7777777777777778,
              "#fb9f3a"
             ],
             [
              0.8888888888888888,
              "#fdca26"
             ],
             [
              1,
              "#f0f921"
             ]
            ],
            "type": "histogram2dcontour"
           }
          ],
          "mesh3d": [
           {
            "colorbar": {
             "outlinewidth": 0,
             "ticks": ""
            },
            "type": "mesh3d"
           }
          ],
          "parcoords": [
           {
            "line": {
             "colorbar": {
              "outlinewidth": 0,
              "ticks": ""
             }
            },
            "type": "parcoords"
           }
          ],
          "pie": [
           {
            "automargin": true,
            "type": "pie"
           }
          ],
          "scatter": [
           {
            "fillpattern": {
             "fillmode": "overlay",
             "size": 10,
             "solidity": 0.2
            },
            "type": "scatter"
           }
          ],
          "scatter3d": [
           {
            "line": {
             "colorbar": {
              "outlinewidth": 0,
              "ticks": ""
             }
            },
            "marker": {
             "colorbar": {
              "outlinewidth": 0,
              "ticks": ""
             }
            },
            "type": "scatter3d"
           }
          ],
          "scattercarpet": [
           {
            "marker": {
             "colorbar": {
              "outlinewidth": 0,
              "ticks": ""
             }
            },
            "type": "scattercarpet"
           }
          ],
          "scattergeo": [
           {
            "marker": {
             "colorbar": {
              "outlinewidth": 0,
              "ticks": ""
             }
            },
            "type": "scattergeo"
           }
          ],
          "scattergl": [
           {
            "marker": {
             "colorbar": {
              "outlinewidth": 0,
              "ticks": ""
             }
            },
            "type": "scattergl"
           }
          ],
          "scattermap": [
           {
            "marker": {
             "colorbar": {
              "outlinewidth": 0,
              "ticks": ""
             }
            },
            "type": "scattermap"
           }
          ],
          "scattermapbox": [
           {
            "marker": {
             "colorbar": {
              "outlinewidth": 0,
              "ticks": ""
             }
            },
            "type": "scattermapbox"
           }
          ],
          "scatterpolar": [
           {
            "marker": {
             "colorbar": {
              "outlinewidth": 0,
              "ticks": ""
             }
            },
            "type": "scatterpolar"
           }
          ],
          "scatterpolargl": [
           {
            "marker": {
             "colorbar": {
              "outlinewidth": 0,
              "ticks": ""
             }
            },
            "type": "scatterpolargl"
           }
          ],
          "scatterternary": [
           {
            "marker": {
             "colorbar": {
              "outlinewidth": 0,
              "ticks": ""
             }
            },
            "type": "scatterternary"
           }
          ],
          "surface": [
           {
            "colorbar": {
             "outlinewidth": 0,
             "ticks": ""
            },
            "colorscale": [
             [
              0,
              "#0d0887"
             ],
             [
              0.1111111111111111,
              "#46039f"
             ],
             [
              0.2222222222222222,
              "#7201a8"
             ],
             [
              0.3333333333333333,
              "#9c179e"
             ],
             [
              0.4444444444444444,
              "#bd3786"
             ],
             [
              0.5555555555555556,
              "#d8576b"
             ],
             [
              0.6666666666666666,
              "#ed7953"
             ],
             [
              0.7777777777777778,
              "#fb9f3a"
             ],
             [
              0.8888888888888888,
              "#fdca26"
             ],
             [
              1,
              "#f0f921"
             ]
            ],
            "type": "surface"
           }
          ],
          "table": [
           {
            "cells": {
             "fill": {
              "color": "#EBF0F8"
             },
             "line": {
              "color": "white"
             }
            },
            "header": {
             "fill": {
              "color": "#C8D4E3"
             },
             "line": {
              "color": "white"
             }
            },
            "type": "table"
           }
          ]
         },
         "layout": {
          "annotationdefaults": {
           "arrowcolor": "#2a3f5f",
           "arrowhead": 0,
           "arrowwidth": 1
          },
          "autotypenumbers": "strict",
          "coloraxis": {
           "colorbar": {
            "outlinewidth": 0,
            "ticks": ""
           }
          },
          "colorscale": {
           "diverging": [
            [
             0,
             "#8e0152"
            ],
            [
             0.1,
             "#c51b7d"
            ],
            [
             0.2,
             "#de77ae"
            ],
            [
             0.3,
             "#f1b6da"
            ],
            [
             0.4,
             "#fde0ef"
            ],
            [
             0.5,
             "#f7f7f7"
            ],
            [
             0.6,
             "#e6f5d0"
            ],
            [
             0.7,
             "#b8e186"
            ],
            [
             0.8,
             "#7fbc41"
            ],
            [
             0.9,
             "#4d9221"
            ],
            [
             1,
             "#276419"
            ]
           ],
           "sequential": [
            [
             0,
             "#0d0887"
            ],
            [
             0.1111111111111111,
             "#46039f"
            ],
            [
             0.2222222222222222,
             "#7201a8"
            ],
            [
             0.3333333333333333,
             "#9c179e"
            ],
            [
             0.4444444444444444,
             "#bd3786"
            ],
            [
             0.5555555555555556,
             "#d8576b"
            ],
            [
             0.6666666666666666,
             "#ed7953"
            ],
            [
             0.7777777777777778,
             "#fb9f3a"
            ],
            [
             0.8888888888888888,
             "#fdca26"
            ],
            [
             1,
             "#f0f921"
            ]
           ],
           "sequentialminus": [
            [
             0,
             "#0d0887"
            ],
            [
             0.1111111111111111,
             "#46039f"
            ],
            [
             0.2222222222222222,
             "#7201a8"
            ],
            [
             0.3333333333333333,
             "#9c179e"
            ],
            [
             0.4444444444444444,
             "#bd3786"
            ],
            [
             0.5555555555555556,
             "#d8576b"
            ],
            [
             0.6666666666666666,
             "#ed7953"
            ],
            [
             0.7777777777777778,
             "#fb9f3a"
            ],
            [
             0.8888888888888888,
             "#fdca26"
            ],
            [
             1,
             "#f0f921"
            ]
           ]
          },
          "colorway": [
           "#636efa",
           "#EF553B",
           "#00cc96",
           "#ab63fa",
           "#FFA15A",
           "#19d3f3",
           "#FF6692",
           "#B6E880",
           "#FF97FF",
           "#FECB52"
          ],
          "font": {
           "color": "#2a3f5f"
          },
          "geo": {
           "bgcolor": "white",
           "lakecolor": "white",
           "landcolor": "#E5ECF6",
           "showlakes": true,
           "showland": true,
           "subunitcolor": "white"
          },
          "hoverlabel": {
           "align": "left"
          },
          "hovermode": "closest",
          "mapbox": {
           "style": "light"
          },
          "paper_bgcolor": "white",
          "plot_bgcolor": "#E5ECF6",
          "polar": {
           "angularaxis": {
            "gridcolor": "white",
            "linecolor": "white",
            "ticks": ""
           },
           "bgcolor": "#E5ECF6",
           "radialaxis": {
            "gridcolor": "white",
            "linecolor": "white",
            "ticks": ""
           }
          },
          "scene": {
           "xaxis": {
            "backgroundcolor": "#E5ECF6",
            "gridcolor": "white",
            "gridwidth": 2,
            "linecolor": "white",
            "showbackground": true,
            "ticks": "",
            "zerolinecolor": "white"
           },
           "yaxis": {
            "backgroundcolor": "#E5ECF6",
            "gridcolor": "white",
            "gridwidth": 2,
            "linecolor": "white",
            "showbackground": true,
            "ticks": "",
            "zerolinecolor": "white"
           },
           "zaxis": {
            "backgroundcolor": "#E5ECF6",
            "gridcolor": "white",
            "gridwidth": 2,
            "linecolor": "white",
            "showbackground": true,
            "ticks": "",
            "zerolinecolor": "white"
           }
          },
          "shapedefaults": {
           "line": {
            "color": "#2a3f5f"
           }
          },
          "ternary": {
           "aaxis": {
            "gridcolor": "white",
            "linecolor": "white",
            "ticks": ""
           },
           "baxis": {
            "gridcolor": "white",
            "linecolor": "white",
            "ticks": ""
           },
           "bgcolor": "#E5ECF6",
           "caxis": {
            "gridcolor": "white",
            "linecolor": "white",
            "ticks": ""
           }
          },
          "title": {
           "x": 0.05
          },
          "xaxis": {
           "automargin": true,
           "gridcolor": "white",
           "linecolor": "white",
           "ticks": "",
           "title": {
            "standoff": 15
           },
           "zerolinecolor": "white",
           "zerolinewidth": 2
          },
          "yaxis": {
           "automargin": true,
           "gridcolor": "white",
           "linecolor": "white",
           "ticks": "",
           "title": {
            "standoff": 15
           },
           "zerolinecolor": "white",
           "zerolinewidth": 2
          }
         }
        },
        "title": {
         "text": "Predictions and Actuals"
        },
        "xaxis": {
         "title": {
          "text": "Time Step"
         }
        },
        "yaxis": {
         "range": [
          0,
          3978.2191848754883
         ],
         "title": {
          "text": "Values"
         }
        }
       }
      }
     },
     "metadata": {},
     "output_type": "display_data"
    }
   ],
   "source": [
    "fig4.show()\n"
   ]
  }
 ],
 "metadata": {
  "kernelspec": {
   "display_name": "cherry",
   "language": "python",
   "name": "python3"
  },
  "language_info": {
   "codemirror_mode": {
    "name": "ipython",
    "version": 3
   },
   "file_extension": ".py",
   "mimetype": "text/x-python",
   "name": "python",
   "nbconvert_exporter": "python",
   "pygments_lexer": "ipython3",
   "version": "3.10.15"
  }
 },
 "nbformat": 4,
 "nbformat_minor": 2
}
