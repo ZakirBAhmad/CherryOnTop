{
 "cells": [
  {
   "cell_type": "code",
   "execution_count": 22,
   "metadata": {},
   "outputs": [],
   "source": [
    "import sys\n",
    "import os\n",
    "\n",
    "sys.path.append(os.path.abspath('..'))"
   ]
  },
  {
   "cell_type": "code",
   "execution_count": 39,
   "metadata": {},
   "outputs": [],
   "source": [
    "import pandas as pd\n",
    "import numpy as np\n",
    "import torch\n",
    "import src.preprocessing as pre\n",
    "import plotly.graph_objects as go\n",
    "import src.utils as utils\n",
    "from torch.utils.data import DataLoader\n",
    "import src.table as table\n",
    "import src.graphs as graphs"
   ]
  },
  {
   "cell_type": "code",
   "execution_count": 3,
   "metadata": {},
   "outputs": [],
   "source": [
    "train, test, mappings, meta = pre.separate_year('../data/meta.json','../data/y.csv','../data/mappings.json')"
   ]
  },
  {
   "cell_type": "code",
   "execution_count": 24,
   "metadata": {},
   "outputs": [
    {
     "name": "stdout",
     "output_type": "stream",
     "text": [
      "Epoch [1/200], Loss: 4389163.9872\n",
      "Epoch [2/200], Loss: 3853881.9091\n",
      "Epoch [3/200], Loss: 3187569.8864\n",
      "Epoch [4/200], Loss: 3013161.8580\n",
      "Epoch [5/200], Loss: 2838465.7621\n",
      "Epoch [6/200], Loss: 2655010.5142\n",
      "Epoch [7/200], Loss: 2522540.3324\n",
      "Epoch [8/200], Loss: 2449598.0639\n",
      "Epoch [9/200], Loss: 2410802.5135\n",
      "Epoch [10/200], Loss: 2382798.2933\n",
      "Epoch [11/200], Loss: 2357347.3530\n",
      "Epoch [12/200], Loss: 2325245.5838\n",
      "Epoch [13/200], Loss: 2318584.5611\n",
      "Epoch [14/200], Loss: 2273339.2209\n",
      "Epoch [15/200], Loss: 2252881.2202\n",
      "Epoch [16/200], Loss: 2234160.8416\n",
      "Epoch [17/200], Loss: 2202279.1065\n",
      "Epoch [18/200], Loss: 2172760.4943\n",
      "Epoch [19/200], Loss: 2150082.2173\n",
      "Epoch [20/200], Loss: 2118961.8736\n",
      "Epoch [21/200], Loss: 2094525.4105\n",
      "Epoch [22/200], Loss: 2061340.1151\n",
      "Epoch [23/200], Loss: 2019425.1385\n",
      "Epoch [24/200], Loss: 1990692.1314\n",
      "Epoch [25/200], Loss: 1951575.4016\n",
      "Epoch [26/200], Loss: 1918591.1783\n",
      "Epoch [27/200], Loss: 1879810.6655\n",
      "Epoch [28/200], Loss: 1843192.8274\n",
      "Epoch [29/200], Loss: 1801209.3974\n",
      "Epoch [30/200], Loss: 1771640.6364\n",
      "Epoch [31/200], Loss: 1741469.6250\n",
      "Epoch [32/200], Loss: 1707140.1687\n",
      "Epoch [33/200], Loss: 1683636.5817\n",
      "Epoch [34/200], Loss: 1657596.4187\n",
      "Epoch [35/200], Loss: 1643528.7653\n",
      "Epoch [36/200], Loss: 1620826.5959\n",
      "Epoch [37/200], Loss: 1606740.5007\n",
      "Epoch [38/200], Loss: 1588172.4666\n",
      "Epoch [39/200], Loss: 1574084.4492\n",
      "Epoch [40/200], Loss: 1563830.5788\n",
      "Epoch [41/200], Loss: 1552865.8075\n",
      "Epoch [42/200], Loss: 1543595.1960\n",
      "Epoch [43/200], Loss: 1528762.8427\n",
      "Epoch [44/200], Loss: 1519799.7688\n",
      "Epoch [45/200], Loss: 1509214.9336\n",
      "Epoch [46/200], Loss: 1486711.9016\n",
      "Epoch [47/200], Loss: 1468710.6662\n",
      "Epoch [48/200], Loss: 1462490.1293\n",
      "Epoch [49/200], Loss: 1450314.5998\n",
      "Epoch [50/200], Loss: 1456663.9457\n",
      "Epoch [51/200], Loss: 1434560.2663\n",
      "Epoch [52/200], Loss: 1418238.5636\n",
      "Epoch [53/200], Loss: 1409171.0298\n",
      "Epoch [54/200], Loss: 1400036.6236\n",
      "Epoch [55/200], Loss: 1393885.9283\n",
      "Epoch [56/200], Loss: 1391207.1864\n",
      "Epoch [57/200], Loss: 1383104.5863\n",
      "Epoch [58/200], Loss: 1379353.6001\n",
      "Epoch [59/200], Loss: 1403771.9194\n",
      "Epoch [60/200], Loss: 1384915.4006\n",
      "Epoch [61/200], Loss: 1373377.8288\n",
      "Epoch [62/200], Loss: 1377170.7038\n",
      "Epoch [63/200], Loss: 1358714.8899\n",
      "Epoch [64/200], Loss: 1353975.9524\n",
      "Epoch [65/200], Loss: 1352760.7773\n",
      "Epoch [66/200], Loss: 1342179.8913\n",
      "Epoch [67/200], Loss: 1344189.3745\n",
      "Epoch [68/200], Loss: 1340676.9759\n",
      "Epoch [69/200], Loss: 1336076.0668\n",
      "Epoch [70/200], Loss: 1346553.2763\n",
      "Epoch [71/200], Loss: 1345891.9418\n",
      "Epoch [72/200], Loss: 1350422.8246\n",
      "Epoch [73/200], Loss: 1335031.0682\n",
      "Epoch [74/200], Loss: 1332211.6520\n",
      "Epoch [75/200], Loss: 1330901.0327\n",
      "Epoch [76/200], Loss: 1334037.4826\n",
      "Epoch [77/200], Loss: 1338937.2308\n",
      "Epoch [78/200], Loss: 1331652.2237\n",
      "Epoch [79/200], Loss: 1328373.7983\n",
      "Epoch [80/200], Loss: 1317807.1062\n",
      "Epoch [81/200], Loss: 1315155.9130\n",
      "Epoch [82/200], Loss: 1312088.8722\n",
      "Epoch [83/200], Loss: 1311135.4563\n",
      "Epoch [84/200], Loss: 1309077.8711\n",
      "Epoch [85/200], Loss: 1313966.6136\n",
      "Epoch [86/200], Loss: 1322550.2958\n",
      "Epoch [87/200], Loss: 1306635.1655\n",
      "Epoch [88/200], Loss: 1315984.6055\n",
      "Epoch [89/200], Loss: 1330078.2035\n",
      "Epoch [90/200], Loss: 1334032.3384\n",
      "Epoch [91/200], Loss: 1317450.4407\n",
      "Epoch [92/200], Loss: 1314486.8935\n",
      "Epoch [93/200], Loss: 1312071.7212\n",
      "Epoch [94/200], Loss: 1313337.1708\n",
      "Epoch [95/200], Loss: 1325422.4109\n",
      "Epoch [96/200], Loss: 1309458.0398\n",
      "Epoch [97/200], Loss: 1312072.7969\n",
      "Epoch [98/200], Loss: 1303747.0518\n",
      "Epoch [99/200], Loss: 1304438.4045\n",
      "Epoch [100/200], Loss: 1303105.1112\n",
      "Epoch [101/200], Loss: 1298391.3977\n",
      "Epoch [102/200], Loss: 1296669.8736\n",
      "Epoch [103/200], Loss: 1293634.3601\n",
      "Epoch [104/200], Loss: 1287922.0778\n",
      "Epoch [105/200], Loss: 1287613.1935\n",
      "Epoch [106/200], Loss: 1288813.9954\n",
      "Epoch [107/200], Loss: 1290235.9123\n",
      "Epoch [108/200], Loss: 1286071.5906\n",
      "Epoch [109/200], Loss: 1287115.4510\n",
      "Epoch [110/200], Loss: 1284823.5476\n",
      "Epoch [111/200], Loss: 1278907.4766\n",
      "Epoch [112/200], Loss: 1285184.1598\n",
      "Epoch [113/200], Loss: 1285072.6229\n",
      "Epoch [114/200], Loss: 1280212.9847\n",
      "Epoch [115/200], Loss: 1273177.1257\n",
      "Epoch [116/200], Loss: 1284248.5284\n",
      "Epoch [117/200], Loss: 1273686.2109\n",
      "Epoch [118/200], Loss: 1272349.1420\n",
      "Epoch [119/200], Loss: 1267507.2812\n",
      "Epoch [120/200], Loss: 1263701.4522\n",
      "Epoch [121/200], Loss: 1257975.3395\n",
      "Epoch [122/200], Loss: 1263699.5916\n",
      "Epoch [123/200], Loss: 1266861.9570\n",
      "Epoch [124/200], Loss: 1266036.4659\n",
      "Epoch [125/200], Loss: 1254026.9744\n",
      "Epoch [126/200], Loss: 1259250.6214\n",
      "Epoch [127/200], Loss: 1257340.6580\n",
      "Epoch [128/200], Loss: 1264714.4993\n",
      "Epoch [129/200], Loss: 1255315.6928\n",
      "Epoch [130/200], Loss: 1248328.6712\n",
      "Epoch [131/200], Loss: 1247196.2227\n",
      "Epoch [132/200], Loss: 1237447.5277\n",
      "Epoch [133/200], Loss: 1245994.9695\n",
      "Epoch [134/200], Loss: 1245083.6779\n",
      "Epoch [135/200], Loss: 1256824.4570\n",
      "Epoch [136/200], Loss: 1244941.8224\n",
      "Epoch [137/200], Loss: 1231282.4290\n",
      "Epoch [138/200], Loss: 1231145.6154\n",
      "Epoch [139/200], Loss: 1230545.4311\n",
      "Epoch [140/200], Loss: 1225919.3068\n",
      "Epoch [141/200], Loss: 1225106.6456\n",
      "Epoch [142/200], Loss: 1220036.1342\n",
      "Epoch [143/200], Loss: 1227012.8427\n",
      "Epoch [144/200], Loss: 1220981.9993\n",
      "Epoch [145/200], Loss: 1219307.7099\n",
      "Epoch [146/200], Loss: 1224026.1346\n",
      "Epoch [147/200], Loss: 1227978.8935\n",
      "Epoch [148/200], Loss: 1220873.6467\n",
      "Epoch [149/200], Loss: 1212920.9673\n",
      "Epoch [150/200], Loss: 1212063.0286\n",
      "Epoch [151/200], Loss: 1206347.6545\n",
      "Epoch [152/200], Loss: 1212346.5636\n",
      "Epoch [153/200], Loss: 1201809.9950\n",
      "Epoch [154/200], Loss: 1196759.4506\n",
      "Epoch [155/200], Loss: 1202959.1976\n",
      "Epoch [156/200], Loss: 1198413.8668\n",
      "Epoch [157/200], Loss: 1196621.3814\n",
      "Epoch [158/200], Loss: 1191572.5380\n",
      "Epoch [159/200], Loss: 1191080.3207\n",
      "Epoch [160/200], Loss: 1200888.7692\n",
      "Epoch [161/200], Loss: 1210595.5082\n",
      "Epoch [162/200], Loss: 1202812.1325\n",
      "Epoch [163/200], Loss: 1199684.4258\n",
      "Epoch [164/200], Loss: 1182589.1744\n",
      "Epoch [165/200], Loss: 1184147.9688\n",
      "Epoch [166/200], Loss: 1201527.6783\n",
      "Epoch [167/200], Loss: 1183836.2795\n",
      "Epoch [168/200], Loss: 1183282.3732\n",
      "Epoch [169/200], Loss: 1169843.2436\n",
      "Epoch [170/200], Loss: 1171241.7741\n",
      "Epoch [171/200], Loss: 1175468.6978\n",
      "Epoch [172/200], Loss: 1163430.3288\n",
      "Epoch [173/200], Loss: 1161252.4277\n",
      "Epoch [174/200], Loss: 1159883.6832\n",
      "Epoch [175/200], Loss: 1167488.6065\n",
      "Epoch [176/200], Loss: 1157480.0341\n",
      "Epoch [177/200], Loss: 1154387.9656\n",
      "Epoch [178/200], Loss: 1159062.8713\n",
      "Epoch [179/200], Loss: 1149962.7358\n",
      "Epoch [180/200], Loss: 1166976.2734\n",
      "Epoch [181/200], Loss: 1169320.0217\n",
      "Epoch [182/200], Loss: 1159154.2049\n",
      "Epoch [183/200], Loss: 1139550.1037\n",
      "Epoch [184/200], Loss: 1144269.5923\n",
      "Epoch [185/200], Loss: 1134972.9673\n",
      "Epoch [186/200], Loss: 1141903.9425\n",
      "Epoch [187/200], Loss: 1127610.2031\n",
      "Epoch [188/200], Loss: 1125962.0249\n",
      "Epoch [189/200], Loss: 1128159.5515\n",
      "Epoch [190/200], Loss: 1130737.3235\n",
      "Epoch [191/200], Loss: 1133705.5014\n",
      "Epoch [192/200], Loss: 1141976.4364\n",
      "Epoch [193/200], Loss: 1128410.2685\n",
      "Epoch [194/200], Loss: 1119439.2411\n",
      "Epoch [195/200], Loss: 1116300.6499\n",
      "Epoch [196/200], Loss: 1123194.2646\n",
      "Epoch [197/200], Loss: 1122598.8991\n",
      "Epoch [198/200], Loss: 1110154.9325\n",
      "Epoch [199/200], Loss: 1103859.2759\n",
      "Epoch [200/200], Loss: 1110768.4656\n"
     ]
    }
   ],
   "source": [
    "model = utils.create_model(train,num_epochs=200)"
   ]
  },
  {
   "cell_type": "code",
   "execution_count": 40,
   "metadata": {},
   "outputs": [],
   "source": [
    "torch.save(model.state_dict(),'model1.pth')"
   ]
  },
  {
   "cell_type": "code",
   "execution_count": 25,
   "metadata": {},
   "outputs": [],
   "source": [
    "preds = utils.predict_gridded_harvest(model,test)"
   ]
  },
  {
   "cell_type": "code",
   "execution_count": 26,
   "metadata": {},
   "outputs": [],
   "source": [
    "actuals = test.Y.detach().numpy()"
   ]
  },
  {
   "cell_type": "code",
   "execution_count": 27,
   "metadata": {},
   "outputs": [],
   "source": [
    "production_plan = pre.decode(meta,mappings).reset_index(drop=True)"
   ]
  },
  {
   "cell_type": "code",
   "execution_count": 28,
   "metadata": {},
   "outputs": [],
   "source": [
    "idx_dict = table.create_indices_dict(production_plan)"
   ]
  },
  {
   "cell_type": "code",
   "execution_count": 29,
   "metadata": {},
   "outputs": [
    {
     "data": {
      "text/plain": [
       "((139, 20, 51), (139, 51))"
      ]
     },
     "execution_count": 29,
     "metadata": {},
     "output_type": "execute_result"
    }
   ],
   "source": [
    "transplant_weeks = production_plan.WeekTransplanted.to_numpy()\n",
    "year_preds, year_actuals = table.season_shift(transplant_weeks,preds,actuals)\n",
    "year_preds.shape,year_actuals.shape"
   ]
  },
  {
   "cell_type": "code",
   "execution_count": 30,
   "metadata": {},
   "outputs": [],
   "source": [
    "fig1 = graphs.graph_harvest(preds,actuals)\n",
    "fig2 = graphs.graph_harvest(year_preds,year_actuals)"
   ]
  },
  {
   "cell_type": "code",
   "execution_count": 31,
   "metadata": {},
   "outputs": [],
   "source": [
    "fig3 = graphs.graph_harvest_cumsum(preds,actuals)"
   ]
  },
  {
   "cell_type": "code",
   "execution_count": 32,
   "metadata": {},
   "outputs": [],
   "source": [
    "types_i_want_lol = ['Pera Roja','Uva Amarilla']"
   ]
  },
  {
   "cell_type": "code",
   "execution_count": 33,
   "metadata": {},
   "outputs": [],
   "source": [
    "preds_sum,actuals_sum = table.filter_preds(preds,actuals,'Type',types_i_want_lol,idx_dict)"
   ]
  },
  {
   "cell_type": "code",
   "execution_count": 34,
   "metadata": {},
   "outputs": [],
   "source": [
    "fig4 = graphs.graph_harvest_stacked(preds_sum,actuals_sum,types_i_want_lol)"
   ]
  },
  {
   "cell_type": "code",
   "execution_count": 35,
   "metadata": {},
   "outputs": [
    {
     "data": {
      "application/vnd.plotly.v1+json": {
       "config": {
        "plotlyServerURL": "https://plot.ly"
       },
       "data": [
        {
         "mode": "lines",
         "name": "Preds Trace 1",
         "type": "scatter",
         "visible": true,
         "x": {
          "bdata": "AAECAwQFBgcICQoLDA0ODxAREhM=",
          "dtype": "i1"
         },
         "y": {
          "bdata": "AAAAAAAAAAAAAAAAAAAAAAAAAAAAAAAAAAAAAAAAAAAAAAAAAAAAAAAAAAAAAAAAAAAAAAAAAAAAAAAAAAAAAAAAAAAAAAAAAAAAAAAAAAAAAAAAAAAAAAAAAAAAAAAAAAAAAAAAAAAAAAAAAAAAAAAAAAAAAAAAAAAAAAAAAAAAAAAAAAAAAAAAAAAAAAAAAAAAAAAAAAAAAAAAAAAAAA==",
          "dtype": "f8"
         }
        },
        {
         "mode": "lines",
         "name": "Preds Trace 2",
         "type": "scatter",
         "visible": false,
         "x": {
          "bdata": "AAECAwQFBgcICQoLDA0ODxAREhM=",
          "dtype": "i1"
         },
         "y": {
          "bdata": "AAAAAAAAAAAAAAAAAAAAAAAAAAAAAAAAAAAAAAAAAAAAAAAAAAAAAAAAAAAAAAAAAAAAAAAAAAAAAAAAAAAAAAAAAAAAAAAAAAAAAAAAAAAAAAAAAAAAAAAAAAAAAAAAAAAAAAAAAAAAAAAAAAAAAAAAAAAAAAAAAAAAAAAAAAAAAAAAAAAAAAAAAAAAAAAAAAAAAAAAAAAAAAAAAAAAAA==",
          "dtype": "f8"
         }
        },
        {
         "mode": "lines",
         "name": "Preds Trace 3",
         "type": "scatter",
         "visible": false,
         "x": {
          "bdata": "AAECAwQFBgcICQoLDA0ODxAREhM=",
          "dtype": "i1"
         },
         "y": {
          "bdata": "AAAAAAAAAAAAAAAAAAAAAAAAAAAAAAAAAAAAAAAAAAAAAAAAAAAAAAAAAAAAAAAAAAAAAAAAAAAAAAAAAAAAAAAAAAAAAAAAAAAAAAAAAAAAAAAAAAAAAAAAAAAAAAAAAAAAAAAAAAAAAAAAAAAAAAAAAAAAAAAAAAAAAAAAAAAAAAAAAAAAAAAAAAAAAAAAAAAAAAAAAAAAAAAAAAAAAA==",
          "dtype": "f8"
         }
        },
        {
         "mode": "lines",
         "name": "Preds Trace 4",
         "type": "scatter",
         "visible": false,
         "x": {
          "bdata": "AAECAwQFBgcICQoLDA0ODxAREhM=",
          "dtype": "i1"
         },
         "y": {
          "bdata": "AAAAAAAAAAAAAAAAAAAAAAAAAAAAAAAAAAAAAAAAAAAAAAAAAAAAAAAAAAAAAAAAAAAAAAAAAAAAAAAAAAAAAAAAAAAAAAAAAAAAAAAAAAAAAAAAAAAAAAAAAAAAAAAAAAAAAAAAAAAAAAAAAAAAAAAAAAAAAAAAAAAAAAAAAAAAAAAAAAAAAAAAAAAAAAAAAAAAAAAAAAAAAAAAAAAAAA==",
          "dtype": "f8"
         }
        },
        {
         "mode": "lines",
         "name": "Preds Trace 5",
         "type": "scatter",
         "visible": false,
         "x": {
          "bdata": "AAECAwQFBgcICQoLDA0ODxAREhM=",
          "dtype": "i1"
         },
         "y": {
          "bdata": "AAAAAAAAAAAAAAAAAAAAAAAAAAAAAAAAAAAAAAAAAAAAAAAAAAAAAAAAAAAAAAAAAAAAAAAAAAAAAAAAAAAAAAAAAAAAAAAAAAAAAAAAAAAAAAAAAAAAAAAAAAAAAAAAAAAAAAAAAAAAAAAAAAAAAAAAAAAAAAAAAAAAAAAAAAAAAAAAAAAAAAAAAAAAAAAAAAAAAAAAAAAAAAAAAAAAAA==",
          "dtype": "f8"
         }
        },
        {
         "mode": "lines",
         "name": "Preds Trace 6",
         "type": "scatter",
         "visible": false,
         "x": {
          "bdata": "AAECAwQFBgcICQoLDA0ODxAREhM=",
          "dtype": "i1"
         },
         "y": {
          "bdata": "AAAAAAAAAAAAAAAAAAAAAAAAAAAAAAAAAAAAAAAAAAAAAAAAAAAAAAAAQryLFHlAAADsX6XSe0AAAGzDxIeLQAAAlN9PCYZAAIBtJOJpsEAAAEWubOzLQACAKsGBAeJAAADybOci8UAAAJOu57v7QABA3us7QQNBAEBLI7S8B0EAyFryDCgKQQAAAthdXAlBAL5mjNaaBUEAgC1072v+QA==",
          "dtype": "f8"
         }
        },
        {
         "mode": "lines",
         "name": "Preds Trace 7",
         "type": "scatter",
         "visible": false,
         "x": {
          "bdata": "AAECAwQFBgcICQoLDA0ODxAREhM=",
          "dtype": "i1"
         },
         "y": {
          "bdata": "AAAAAAAAAAAAAAAAAAAAAAAAAAAAAAAAAAAAAAAAAAAAAAAAAAAAAAAAAAAAgFxAAABYT+qUe0AAAOgbYnaLQAAA+NDkJYZAAEAWsbWRsEAAAHM5jTTMQACAt1GcJeJAACA2CpY38UAAAC3IGcj7QAAAI31qPgNBAICwZ9etB0EAgLxYxA0KQQAAkgbtPQlBAAAxAmt7BUEAAO2TWzn+QA==",
          "dtype": "f8"
         }
        },
        {
         "mode": "lines",
         "name": "Preds Trace 8",
         "type": "scatter",
         "visible": false,
         "x": {
          "bdata": "AAECAwQFBgcICQoLDA0ODxAREhM=",
          "dtype": "i1"
         },
         "y": {
          "bdata": "AAAAAAAAAAAAAAAAAAAAAAAAAAAAAAAAAAAAAAAAAAAAAAAAAAAAAAAAAAAAgFxAAAAABIJFhEAAABlDR4KLQAAADPxcxYZAAIBn8yE8sUAAAG2nmH7NQADAK9+/4OJAAIBm7ni+8UAAABSxJmL8QAAArTFoggNBAGi6WW3bB0EAgG0j/R0KQQCArKPwOglBALBxfHdvBUEAgFyZ/iP+QA==",
          "dtype": "f8"
         }
        },
        {
         "mode": "lines",
         "name": "Preds Trace 9",
         "type": "scatter",
         "visible": false,
         "x": {
          "bdata": "AAECAwQFBgcICQoLDA0ODxAREhM=",
          "dtype": "i1"
         },
         "y": {
          "bdata": "AAAAAAAAAAAAAAAAAAAAAAAAAAAAAAAAAAAAAAAAAAAAAAAAAAAAAAAAAAAAgFxAAAAABIJFhEAAAMCoqhGTQAAA+h520YhAAAAeAD9Ls0AAAG07atjQQAAAbLRwVOVAAAB4zfyS80AAUMn6M5b+QAAA8CUgjQRBAIACuXeqCEEAQAs0ZJQKQQDg2sVccAlBAADCS4yGBUEAIMTb8UP+QA==",
          "dtype": "f8"
         }
        },
        {
         "mode": "lines",
         "name": "Preds Trace 10",
         "type": "scatter",
         "visible": false,
         "x": {
          "bdata": "AAECAwQFBgcICQoLDA0ODxAREhM=",
          "dtype": "i1"
         },
         "y": {
          "bdata": "AAAAAAAAAAAAAAAAAAAAAAAAAAAAAAAAAAAAAAAAAAAAAAAAAAAAAAAAAAAAgFxAAAAABIJFhEAAAMCoqhGTQAAAoEqbvaxAAADhDapEvEAAwArng1raQAAAjk2fXfBAAAA2/aBD/EAAALzghKYEQQAA1OwmvglBAAAw8OvbDEEAAHUy4SwNQQBAF4OV0QpBADADYg9VBkEAgO06tHz/QA==",
          "dtype": "f8"
         }
        },
        {
         "mode": "lines",
         "name": "Preds Trace 11",
         "type": "scatter",
         "visible": false,
         "x": {
          "bdata": "AAECAwQFBgcICQoLDA0ODxAREhM=",
          "dtype": "i1"
         },
         "y": {
          "bdata": "AAAAAAAAAAAAAAAAAAAAAAAAAAAAAAAAAAAAAAAAAAAAAAAAAAAAAAAAAAAAgFxAAAAABIJFhEAAAMCoqhGTQAAAoEqbvaxAAABQWq1eukAAIATDjUrbQAAAGleX4PBAAAAHZjEO/UAAAPx8dygFQQAA0fFETgpBAACGTgFmDUEAwFCuEpwNQQBAkfiTJQtBAEA8m4aRBkEAAPZv6tf/QA==",
          "dtype": "f8"
         }
        },
        {
         "mode": "lines",
         "name": "Preds Trace 12",
         "type": "scatter",
         "visible": false,
         "x": {
          "bdata": "AAECAwQFBgcICQoLDA0ODxAREhM=",
          "dtype": "i1"
         },
         "y": {
          "bdata": "AAAAAAAAAAAAAAAAAAAAAAAAAAAAAAAAAAAAAAAAAAAAAAAAAAAAAAAAAAAAgFxAAAAABIJFhEAAAMCoqhGTQAAAoEqbvaxAAABQWq1eukAAgMRqpgjTQABAQqFCNO5AAAC4lpZA+kAAgHzCrmcDQQAALvNDqwhBAEBo7SIvDEEAgKxLaQcNQQBAFzcQAwtBAAASy5qVBkEAgNzH5Nr/QA==",
          "dtype": "f8"
         }
        },
        {
         "mode": "lines",
         "name": "Preds Trace 13",
         "type": "scatter",
         "visible": false,
         "x": {
          "bdata": "AAECAwQFBgcICQoLDA0ODxAREhM=",
          "dtype": "i1"
         },
         "y": {
          "bdata": "AAAAAAAAAAAAAAAAAAAAAAAAAAAAAAAAAAAAAAAAAAAAAAAAAAAAAAAAAAAAgFxAAAAABIJFhEAAAMCoqhGTQAAAoEqbvaxAAABQWq1eukAAgMRqpgjTQACAzar+qeRAAICLXkRA8EAAAMI02qH6QAAg6UiI8wJBAIBVvKbLB0EAgET7UZcKQQCAXPww+wlBAGCL8HMeBkEAAAJmHCb/QA==",
          "dtype": "f8"
         }
        },
        {
         "mode": "lines",
         "name": "Preds Trace 14",
         "type": "scatter",
         "visible": false,
         "x": {
          "bdata": "AAECAwQFBgcICQoLDA0ODxAREhM=",
          "dtype": "i1"
         },
         "y": {
          "bdata": "AAAAAAAAAAAAAAAAAAAAAAAAAAAAAAAAAAAAAAAAAAAAAAAAAAAAAAAAAAAAgFxAAAAABIJFhEAAAMCoqhGTQAAAoEqbvaxAAABQWq1eukAAgMRqpgjTQACAzar+qeRAAIAlXC7V8kAAwI3ShD75QAAALCT+JAJBAAA23FwAB0EAcPz8vPEJQQAA08jFeglBAECZNyywBUEAgFVMgXT+QA==",
          "dtype": "f8"
         }
        },
        {
         "mode": "lines",
         "name": "Preds Trace 15",
         "type": "scatter",
         "visible": false,
         "x": {
          "bdata": "AAECAwQFBgcICQoLDA0ODxAREhM=",
          "dtype": "i1"
         },
         "y": {
          "bdata": "AAAAAAAAAAAAAAAAAAAAAAAAAAAAAAAAAAAAAAAAAAAAAAAAAAAAAAAAAAAAgFxAAAAABIJFhEAAAMCoqhGTQAAAoEqbvaxAAABQWq1eukAAgMRqpgjTQACAzar+qeRAAIAlXC7V8kAAgDyPZrj6QAAgEItt3QFBACDDhx2qBkEABrAykp4JQQCAYEk7MAlBAAAwO3ppBUEAAMD32gH+QA==",
          "dtype": "f8"
         }
        },
        {
         "mode": "lines",
         "name": "Preds Trace 16",
         "type": "scatter",
         "visible": false,
         "x": {
          "bdata": "AAECAwQFBgcICQoLDA0ODxAREhM=",
          "dtype": "i1"
         },
         "y": {
          "bdata": "AAAAAAAAAAAAAAAAAAAAAAAAAAAAAAAAAAAAAAAAAAAAAAAAAAAAAAAAAAAAgFxAAAAABIJFhEAAAMCoqhGTQAAAoEqbvaxAAABQWq1eukAAgMRqpgjTQACAzar+qeRAAIAlXC7V8kAAgDyPZrj6QAAAjjdHVwJBAADlow8cB0EAgAs8wOoJQQAASyf9WwlBAPC8cv2CBUEAAC6ZhB3+QA==",
          "dtype": "f8"
         }
        },
        {
         "mode": "lines",
         "name": "Preds Trace 17",
         "type": "scatter",
         "visible": false,
         "x": {
          "bdata": "AAECAwQFBgcICQoLDA0ODxAREhM=",
          "dtype": "i1"
         },
         "y": {
          "bdata": "AAAAAAAAAAAAAAAAAAAAAAAAAAAAAAAAAAAAAAAAAAAAAAAAAAAAAAAAAAAAgFxAAAAABIJFhEAAAMCoqhGTQAAAoEqbvaxAAABQWq1eukAAgMRqpgjTQACAzar+qeRAAIAlXC7V8kAAgDyPZrj6QAAAjjdHVwJBAABk76KdBEEAgF+PBy4KQQAAMDI1iAlBAMCRSOShBUEAAPtMo0T+QA==",
          "dtype": "f8"
         }
        },
        {
         "mode": "lines",
         "name": "Preds Trace 18",
         "type": "scatter",
         "visible": false,
         "x": {
          "bdata": "AAECAwQFBgcICQoLDA0ODxAREhM=",
          "dtype": "i1"
         },
         "y": {
          "bdata": "AAAAAAAAAAAAAAAAAAAAAAAAAAAAAAAAAAAAAAAAAAAAAAAAAAAAAAAAAAAAgFxAAAAABIJFhEAAAMCoqhGTQAAAoEqbvaxAAABQWq1eukAAgMRqpgjTQACAzar+qeRAAIAlXC7V8kAAgDyPZrj6QAAAjjdHVwJBAABk76KdBEEAAOobzIYFQQCAgveJhglBAEAFh4ujBUEAAOi5SEL+QA==",
          "dtype": "f8"
         }
        },
        {
         "mode": "lines",
         "name": "Preds Trace 19",
         "type": "scatter",
         "visible": false,
         "x": {
          "bdata": "AAECAwQFBgcICQoLDA0ODxAREhM=",
          "dtype": "i1"
         },
         "y": {
          "bdata": "AAAAAAAAAAAAAAAAAAAAAAAAAAAAAAAAAAAAAAAAAAAAAAAAAAAAAAAAAAAAgFxAAAAABIJFhEAAAMCoqhGTQAAAoEqbvaxAAABQWq1eukAAgMRqpgjTQACAzar+qeRAAIAlXC7V8kAAgDyPZrj6QAAAjjdHVwJBAABk76KdBEEAAOobzIYFQQAABkT9YwNBAEA7pTWyBUEAAFDJTln+QA==",
          "dtype": "f8"
         }
        },
        {
         "mode": "lines",
         "name": "Preds Trace 20",
         "type": "scatter",
         "visible": false,
         "x": {
          "bdata": "AAECAwQFBgcICQoLDA0ODxAREhM=",
          "dtype": "i1"
         },
         "y": {
          "bdata": "AAAAAAAAAAAAAAAAAAAAAAAAAAAAAAAAAAAAAAAAAAAAAAAAAAAAAAAAAAAAgFxAAAAABIJFhEAAAMCoqhGTQAAAoEqbvaxAAABQWq1eukAAgMRqpgjTQACAzar+qeRAAIAlXC7V8kAAgDyPZrj6QAAAjjdHVwJBAABk76KdBEEAAOobzIYFQQAABkT9YwNBAKCsVoJMAkEAANKurHz+QA==",
          "dtype": "f8"
         }
        },
        {
         "name": "Actuals",
         "opacity": 0.6,
         "type": "bar",
         "x": {
          "bdata": "AAECAwQFBgcICQoLDA0ODxAREhM=",
          "dtype": "i1"
         },
         "y": {
          "bdata": "AAAAAAAAAAAAAAAAAAAAAAAAAAAAAORCECwiRFWNmETa7GVFa/XSRTJFmEb3TyVHc6mWRzTD1Uc5uhJIGO0kSGI2LEjrHxtIEmQSSDQnBEg=",
          "dtype": "f4"
         }
        }
       ],
       "layout": {
        "barmode": "overlay",
        "sliders": [
         {
          "active": 0,
          "currentvalue": {
           "prefix": "Trace: "
          },
          "pad": {
           "t": 20
          },
          "steps": [
           {
            "args": [
             {
              "visible": [
               true,
               false,
               false,
               false,
               false,
               false,
               false,
               false,
               false,
               false,
               false,
               false,
               false,
               false,
               false,
               false,
               false,
               false,
               false,
               false,
               true
              ]
             }
            ],
            "label": "Preds Trace 1",
            "method": "update"
           },
           {
            "args": [
             {
              "visible": [
               false,
               true,
               false,
               false,
               false,
               false,
               false,
               false,
               false,
               false,
               false,
               false,
               false,
               false,
               false,
               false,
               false,
               false,
               false,
               false,
               true
              ]
             }
            ],
            "label": "Preds Trace 2",
            "method": "update"
           },
           {
            "args": [
             {
              "visible": [
               false,
               false,
               true,
               false,
               false,
               false,
               false,
               false,
               false,
               false,
               false,
               false,
               false,
               false,
               false,
               false,
               false,
               false,
               false,
               false,
               true
              ]
             }
            ],
            "label": "Preds Trace 3",
            "method": "update"
           },
           {
            "args": [
             {
              "visible": [
               false,
               false,
               false,
               true,
               false,
               false,
               false,
               false,
               false,
               false,
               false,
               false,
               false,
               false,
               false,
               false,
               false,
               false,
               false,
               false,
               true
              ]
             }
            ],
            "label": "Preds Trace 4",
            "method": "update"
           },
           {
            "args": [
             {
              "visible": [
               false,
               false,
               false,
               false,
               true,
               false,
               false,
               false,
               false,
               false,
               false,
               false,
               false,
               false,
               false,
               false,
               false,
               false,
               false,
               false,
               true
              ]
             }
            ],
            "label": "Preds Trace 5",
            "method": "update"
           },
           {
            "args": [
             {
              "visible": [
               false,
               false,
               false,
               false,
               false,
               true,
               false,
               false,
               false,
               false,
               false,
               false,
               false,
               false,
               false,
               false,
               false,
               false,
               false,
               false,
               true
              ]
             }
            ],
            "label": "Preds Trace 6",
            "method": "update"
           },
           {
            "args": [
             {
              "visible": [
               false,
               false,
               false,
               false,
               false,
               false,
               true,
               false,
               false,
               false,
               false,
               false,
               false,
               false,
               false,
               false,
               false,
               false,
               false,
               false,
               true
              ]
             }
            ],
            "label": "Preds Trace 7",
            "method": "update"
           },
           {
            "args": [
             {
              "visible": [
               false,
               false,
               false,
               false,
               false,
               false,
               false,
               true,
               false,
               false,
               false,
               false,
               false,
               false,
               false,
               false,
               false,
               false,
               false,
               false,
               true
              ]
             }
            ],
            "label": "Preds Trace 8",
            "method": "update"
           },
           {
            "args": [
             {
              "visible": [
               false,
               false,
               false,
               false,
               false,
               false,
               false,
               false,
               true,
               false,
               false,
               false,
               false,
               false,
               false,
               false,
               false,
               false,
               false,
               false,
               true
              ]
             }
            ],
            "label": "Preds Trace 9",
            "method": "update"
           },
           {
            "args": [
             {
              "visible": [
               false,
               false,
               false,
               false,
               false,
               false,
               false,
               false,
               false,
               true,
               false,
               false,
               false,
               false,
               false,
               false,
               false,
               false,
               false,
               false,
               true
              ]
             }
            ],
            "label": "Preds Trace 10",
            "method": "update"
           },
           {
            "args": [
             {
              "visible": [
               false,
               false,
               false,
               false,
               false,
               false,
               false,
               false,
               false,
               false,
               true,
               false,
               false,
               false,
               false,
               false,
               false,
               false,
               false,
               false,
               true
              ]
             }
            ],
            "label": "Preds Trace 11",
            "method": "update"
           },
           {
            "args": [
             {
              "visible": [
               false,
               false,
               false,
               false,
               false,
               false,
               false,
               false,
               false,
               false,
               false,
               true,
               false,
               false,
               false,
               false,
               false,
               false,
               false,
               false,
               true
              ]
             }
            ],
            "label": "Preds Trace 12",
            "method": "update"
           },
           {
            "args": [
             {
              "visible": [
               false,
               false,
               false,
               false,
               false,
               false,
               false,
               false,
               false,
               false,
               false,
               false,
               true,
               false,
               false,
               false,
               false,
               false,
               false,
               false,
               true
              ]
             }
            ],
            "label": "Preds Trace 13",
            "method": "update"
           },
           {
            "args": [
             {
              "visible": [
               false,
               false,
               false,
               false,
               false,
               false,
               false,
               false,
               false,
               false,
               false,
               false,
               false,
               true,
               false,
               false,
               false,
               false,
               false,
               false,
               true
              ]
             }
            ],
            "label": "Preds Trace 14",
            "method": "update"
           },
           {
            "args": [
             {
              "visible": [
               false,
               false,
               false,
               false,
               false,
               false,
               false,
               false,
               false,
               false,
               false,
               false,
               false,
               false,
               true,
               false,
               false,
               false,
               false,
               false,
               true
              ]
             }
            ],
            "label": "Preds Trace 15",
            "method": "update"
           },
           {
            "args": [
             {
              "visible": [
               false,
               false,
               false,
               false,
               false,
               false,
               false,
               false,
               false,
               false,
               false,
               false,
               false,
               false,
               false,
               true,
               false,
               false,
               false,
               false,
               true
              ]
             }
            ],
            "label": "Preds Trace 16",
            "method": "update"
           },
           {
            "args": [
             {
              "visible": [
               false,
               false,
               false,
               false,
               false,
               false,
               false,
               false,
               false,
               false,
               false,
               false,
               false,
               false,
               false,
               false,
               true,
               false,
               false,
               false,
               true
              ]
             }
            ],
            "label": "Preds Trace 17",
            "method": "update"
           },
           {
            "args": [
             {
              "visible": [
               false,
               false,
               false,
               false,
               false,
               false,
               false,
               false,
               false,
               false,
               false,
               false,
               false,
               false,
               false,
               false,
               false,
               true,
               false,
               false,
               true
              ]
             }
            ],
            "label": "Preds Trace 18",
            "method": "update"
           },
           {
            "args": [
             {
              "visible": [
               false,
               false,
               false,
               false,
               false,
               false,
               false,
               false,
               false,
               false,
               false,
               false,
               false,
               false,
               false,
               false,
               false,
               false,
               true,
               false,
               true
              ]
             }
            ],
            "label": "Preds Trace 19",
            "method": "update"
           },
           {
            "args": [
             {
              "visible": [
               false,
               false,
               false,
               false,
               false,
               false,
               false,
               false,
               false,
               false,
               false,
               false,
               false,
               false,
               false,
               false,
               false,
               false,
               false,
               true,
               true
              ]
             }
            ],
            "label": "Preds Trace 20",
            "method": "update"
           }
          ]
         }
        ],
        "template": {
         "data": {
          "bar": [
           {
            "error_x": {
             "color": "#2a3f5f"
            },
            "error_y": {
             "color": "#2a3f5f"
            },
            "marker": {
             "line": {
              "color": "#E5ECF6",
              "width": 0.5
             },
             "pattern": {
              "fillmode": "overlay",
              "size": 10,
              "solidity": 0.2
             }
            },
            "type": "bar"
           }
          ],
          "barpolar": [
           {
            "marker": {
             "line": {
              "color": "#E5ECF6",
              "width": 0.5
             },
             "pattern": {
              "fillmode": "overlay",
              "size": 10,
              "solidity": 0.2
             }
            },
            "type": "barpolar"
           }
          ],
          "carpet": [
           {
            "aaxis": {
             "endlinecolor": "#2a3f5f",
             "gridcolor": "white",
             "linecolor": "white",
             "minorgridcolor": "white",
             "startlinecolor": "#2a3f5f"
            },
            "baxis": {
             "endlinecolor": "#2a3f5f",
             "gridcolor": "white",
             "linecolor": "white",
             "minorgridcolor": "white",
             "startlinecolor": "#2a3f5f"
            },
            "type": "carpet"
           }
          ],
          "choropleth": [
           {
            "colorbar": {
             "outlinewidth": 0,
             "ticks": ""
            },
            "type": "choropleth"
           }
          ],
          "contour": [
           {
            "colorbar": {
             "outlinewidth": 0,
             "ticks": ""
            },
            "colorscale": [
             [
              0,
              "#0d0887"
             ],
             [
              0.1111111111111111,
              "#46039f"
             ],
             [
              0.2222222222222222,
              "#7201a8"
             ],
             [
              0.3333333333333333,
              "#9c179e"
             ],
             [
              0.4444444444444444,
              "#bd3786"
             ],
             [
              0.5555555555555556,
              "#d8576b"
             ],
             [
              0.6666666666666666,
              "#ed7953"
             ],
             [
              0.7777777777777778,
              "#fb9f3a"
             ],
             [
              0.8888888888888888,
              "#fdca26"
             ],
             [
              1,
              "#f0f921"
             ]
            ],
            "type": "contour"
           }
          ],
          "contourcarpet": [
           {
            "colorbar": {
             "outlinewidth": 0,
             "ticks": ""
            },
            "type": "contourcarpet"
           }
          ],
          "heatmap": [
           {
            "colorbar": {
             "outlinewidth": 0,
             "ticks": ""
            },
            "colorscale": [
             [
              0,
              "#0d0887"
             ],
             [
              0.1111111111111111,
              "#46039f"
             ],
             [
              0.2222222222222222,
              "#7201a8"
             ],
             [
              0.3333333333333333,
              "#9c179e"
             ],
             [
              0.4444444444444444,
              "#bd3786"
             ],
             [
              0.5555555555555556,
              "#d8576b"
             ],
             [
              0.6666666666666666,
              "#ed7953"
             ],
             [
              0.7777777777777778,
              "#fb9f3a"
             ],
             [
              0.8888888888888888,
              "#fdca26"
             ],
             [
              1,
              "#f0f921"
             ]
            ],
            "type": "heatmap"
           }
          ],
          "histogram": [
           {
            "marker": {
             "pattern": {
              "fillmode": "overlay",
              "size": 10,
              "solidity": 0.2
             }
            },
            "type": "histogram"
           }
          ],
          "histogram2d": [
           {
            "colorbar": {
             "outlinewidth": 0,
             "ticks": ""
            },
            "colorscale": [
             [
              0,
              "#0d0887"
             ],
             [
              0.1111111111111111,
              "#46039f"
             ],
             [
              0.2222222222222222,
              "#7201a8"
             ],
             [
              0.3333333333333333,
              "#9c179e"
             ],
             [
              0.4444444444444444,
              "#bd3786"
             ],
             [
              0.5555555555555556,
              "#d8576b"
             ],
             [
              0.6666666666666666,
              "#ed7953"
             ],
             [
              0.7777777777777778,
              "#fb9f3a"
             ],
             [
              0.8888888888888888,
              "#fdca26"
             ],
             [
              1,
              "#f0f921"
             ]
            ],
            "type": "histogram2d"
           }
          ],
          "histogram2dcontour": [
           {
            "colorbar": {
             "outlinewidth": 0,
             "ticks": ""
            },
            "colorscale": [
             [
              0,
              "#0d0887"
             ],
             [
              0.1111111111111111,
              "#46039f"
             ],
             [
              0.2222222222222222,
              "#7201a8"
             ],
             [
              0.3333333333333333,
              "#9c179e"
             ],
             [
              0.4444444444444444,
              "#bd3786"
             ],
             [
              0.5555555555555556,
              "#d8576b"
             ],
             [
              0.6666666666666666,
              "#ed7953"
             ],
             [
              0.7777777777777778,
              "#fb9f3a"
             ],
             [
              0.8888888888888888,
              "#fdca26"
             ],
             [
              1,
              "#f0f921"
             ]
            ],
            "type": "histogram2dcontour"
           }
          ],
          "mesh3d": [
           {
            "colorbar": {
             "outlinewidth": 0,
             "ticks": ""
            },
            "type": "mesh3d"
           }
          ],
          "parcoords": [
           {
            "line": {
             "colorbar": {
              "outlinewidth": 0,
              "ticks": ""
             }
            },
            "type": "parcoords"
           }
          ],
          "pie": [
           {
            "automargin": true,
            "type": "pie"
           }
          ],
          "scatter": [
           {
            "fillpattern": {
             "fillmode": "overlay",
             "size": 10,
             "solidity": 0.2
            },
            "type": "scatter"
           }
          ],
          "scatter3d": [
           {
            "line": {
             "colorbar": {
              "outlinewidth": 0,
              "ticks": ""
             }
            },
            "marker": {
             "colorbar": {
              "outlinewidth": 0,
              "ticks": ""
             }
            },
            "type": "scatter3d"
           }
          ],
          "scattercarpet": [
           {
            "marker": {
             "colorbar": {
              "outlinewidth": 0,
              "ticks": ""
             }
            },
            "type": "scattercarpet"
           }
          ],
          "scattergeo": [
           {
            "marker": {
             "colorbar": {
              "outlinewidth": 0,
              "ticks": ""
             }
            },
            "type": "scattergeo"
           }
          ],
          "scattergl": [
           {
            "marker": {
             "colorbar": {
              "outlinewidth": 0,
              "ticks": ""
             }
            },
            "type": "scattergl"
           }
          ],
          "scattermap": [
           {
            "marker": {
             "colorbar": {
              "outlinewidth": 0,
              "ticks": ""
             }
            },
            "type": "scattermap"
           }
          ],
          "scattermapbox": [
           {
            "marker": {
             "colorbar": {
              "outlinewidth": 0,
              "ticks": ""
             }
            },
            "type": "scattermapbox"
           }
          ],
          "scatterpolar": [
           {
            "marker": {
             "colorbar": {
              "outlinewidth": 0,
              "ticks": ""
             }
            },
            "type": "scatterpolar"
           }
          ],
          "scatterpolargl": [
           {
            "marker": {
             "colorbar": {
              "outlinewidth": 0,
              "ticks": ""
             }
            },
            "type": "scatterpolargl"
           }
          ],
          "scatterternary": [
           {
            "marker": {
             "colorbar": {
              "outlinewidth": 0,
              "ticks": ""
             }
            },
            "type": "scatterternary"
           }
          ],
          "surface": [
           {
            "colorbar": {
             "outlinewidth": 0,
             "ticks": ""
            },
            "colorscale": [
             [
              0,
              "#0d0887"
             ],
             [
              0.1111111111111111,
              "#46039f"
             ],
             [
              0.2222222222222222,
              "#7201a8"
             ],
             [
              0.3333333333333333,
              "#9c179e"
             ],
             [
              0.4444444444444444,
              "#bd3786"
             ],
             [
              0.5555555555555556,
              "#d8576b"
             ],
             [
              0.6666666666666666,
              "#ed7953"
             ],
             [
              0.7777777777777778,
              "#fb9f3a"
             ],
             [
              0.8888888888888888,
              "#fdca26"
             ],
             [
              1,
              "#f0f921"
             ]
            ],
            "type": "surface"
           }
          ],
          "table": [
           {
            "cells": {
             "fill": {
              "color": "#EBF0F8"
             },
             "line": {
              "color": "white"
             }
            },
            "header": {
             "fill": {
              "color": "#C8D4E3"
             },
             "line": {
              "color": "white"
             }
            },
            "type": "table"
           }
          ]
         },
         "layout": {
          "annotationdefaults": {
           "arrowcolor": "#2a3f5f",
           "arrowhead": 0,
           "arrowwidth": 1
          },
          "autotypenumbers": "strict",
          "coloraxis": {
           "colorbar": {
            "outlinewidth": 0,
            "ticks": ""
           }
          },
          "colorscale": {
           "diverging": [
            [
             0,
             "#8e0152"
            ],
            [
             0.1,
             "#c51b7d"
            ],
            [
             0.2,
             "#de77ae"
            ],
            [
             0.3,
             "#f1b6da"
            ],
            [
             0.4,
             "#fde0ef"
            ],
            [
             0.5,
             "#f7f7f7"
            ],
            [
             0.6,
             "#e6f5d0"
            ],
            [
             0.7,
             "#b8e186"
            ],
            [
             0.8,
             "#7fbc41"
            ],
            [
             0.9,
             "#4d9221"
            ],
            [
             1,
             "#276419"
            ]
           ],
           "sequential": [
            [
             0,
             "#0d0887"
            ],
            [
             0.1111111111111111,
             "#46039f"
            ],
            [
             0.2222222222222222,
             "#7201a8"
            ],
            [
             0.3333333333333333,
             "#9c179e"
            ],
            [
             0.4444444444444444,
             "#bd3786"
            ],
            [
             0.5555555555555556,
             "#d8576b"
            ],
            [
             0.6666666666666666,
             "#ed7953"
            ],
            [
             0.7777777777777778,
             "#fb9f3a"
            ],
            [
             0.8888888888888888,
             "#fdca26"
            ],
            [
             1,
             "#f0f921"
            ]
           ],
           "sequentialminus": [
            [
             0,
             "#0d0887"
            ],
            [
             0.1111111111111111,
             "#46039f"
            ],
            [
             0.2222222222222222,
             "#7201a8"
            ],
            [
             0.3333333333333333,
             "#9c179e"
            ],
            [
             0.4444444444444444,
             "#bd3786"
            ],
            [
             0.5555555555555556,
             "#d8576b"
            ],
            [
             0.6666666666666666,
             "#ed7953"
            ],
            [
             0.7777777777777778,
             "#fb9f3a"
            ],
            [
             0.8888888888888888,
             "#fdca26"
            ],
            [
             1,
             "#f0f921"
            ]
           ]
          },
          "colorway": [
           "#636efa",
           "#EF553B",
           "#00cc96",
           "#ab63fa",
           "#FFA15A",
           "#19d3f3",
           "#FF6692",
           "#B6E880",
           "#FF97FF",
           "#FECB52"
          ],
          "font": {
           "color": "#2a3f5f"
          },
          "geo": {
           "bgcolor": "white",
           "lakecolor": "white",
           "landcolor": "#E5ECF6",
           "showlakes": true,
           "showland": true,
           "subunitcolor": "white"
          },
          "hoverlabel": {
           "align": "left"
          },
          "hovermode": "closest",
          "mapbox": {
           "style": "light"
          },
          "paper_bgcolor": "white",
          "plot_bgcolor": "#E5ECF6",
          "polar": {
           "angularaxis": {
            "gridcolor": "white",
            "linecolor": "white",
            "ticks": ""
           },
           "bgcolor": "#E5ECF6",
           "radialaxis": {
            "gridcolor": "white",
            "linecolor": "white",
            "ticks": ""
           }
          },
          "scene": {
           "xaxis": {
            "backgroundcolor": "#E5ECF6",
            "gridcolor": "white",
            "gridwidth": 2,
            "linecolor": "white",
            "showbackground": true,
            "ticks": "",
            "zerolinecolor": "white"
           },
           "yaxis": {
            "backgroundcolor": "#E5ECF6",
            "gridcolor": "white",
            "gridwidth": 2,
            "linecolor": "white",
            "showbackground": true,
            "ticks": "",
            "zerolinecolor": "white"
           },
           "zaxis": {
            "backgroundcolor": "#E5ECF6",
            "gridcolor": "white",
            "gridwidth": 2,
            "linecolor": "white",
            "showbackground": true,
            "ticks": "",
            "zerolinecolor": "white"
           }
          },
          "shapedefaults": {
           "line": {
            "color": "#2a3f5f"
           }
          },
          "ternary": {
           "aaxis": {
            "gridcolor": "white",
            "linecolor": "white",
            "ticks": ""
           },
           "baxis": {
            "gridcolor": "white",
            "linecolor": "white",
            "ticks": ""
           },
           "bgcolor": "#E5ECF6",
           "caxis": {
            "gridcolor": "white",
            "linecolor": "white",
            "ticks": ""
           }
          },
          "title": {
           "x": 0.05
          },
          "xaxis": {
           "automargin": true,
           "gridcolor": "white",
           "linecolor": "white",
           "ticks": "",
           "title": {
            "standoff": 15
           },
           "zerolinecolor": "white",
           "zerolinewidth": 2
          },
          "yaxis": {
           "automargin": true,
           "gridcolor": "white",
           "linecolor": "white",
           "ticks": "",
           "title": {
            "standoff": 15
           },
           "zerolinecolor": "white",
           "zerolinewidth": 2
          }
         }
        },
        "title": {
         "text": "Predictions and Actuals"
        },
        "xaxis": {
         "title": {
          "text": "Time Step"
         }
        },
        "yaxis": {
         "range": [
          0,
          242562.3351149559
         ],
         "title": {
          "text": "Values"
         }
        }
       }
      }
     },
     "metadata": {},
     "output_type": "display_data"
    }
   ],
   "source": [
    "fig1.show()"
   ]
  },
  {
   "cell_type": "code",
   "execution_count": 36,
   "metadata": {},
   "outputs": [
    {
     "data": {
      "application/vnd.plotly.v1+json": {
       "config": {
        "plotlyServerURL": "https://plot.ly"
       },
       "data": [
        {
         "mode": "lines",
         "name": "Preds Trace 1",
         "type": "scatter",
         "visible": true,
         "x": {
          "bdata": "AAECAwQFBgcICQoLDA0ODxAREhMUFRYXGBkaGxwdHh8gISIjJCUmJygpKissLS4vMDEy",
          "dtype": "i1"
         },
         "y": {
          "bdata": "AAAAAAAAAAAAAAAAAAAAAAAAAAAAAAAAAAAAAAAAAAAAAAAAAAAAAAAAAAAAAAAAAAAAAAAAAAAAAAAAAAAAAAAAAAAAAAAAAAAAAAAAAAAAAAAAAAAAAAAAAAAAAAAAAAAAAAAAAAAAAAAAAAAAAAAAAAAAAAAAAAAAAAAAAAAAAAAAAAAAAAAAAAAAAAAAAAAAAAAAAAAAAAAAAAAAAAAAAAAAAAAAAAAAAAAAAAAAAAAAAAAAAAAAAAAAAAAAAAAAAAAAAAAAAAAAAAAAAAAAAAAAAAAAAAAAAAAAAAAAAAAAAAAAAAAAAAAAAAAAAAAAAAAAAAAAAAAAAAAAAAAAAAAAAAAAAAAAAAAAAAAAAAAAAAAAAAAAAAAAAAAAAAAAAAAAAAAAAAAAAAAAAAAAAAAAAAAAAAAAAAAAAAAAAAAAAAAAAAAAAAAAAAAAAAAAAAAAAAAAAAAAAAAAAAAAAAAAAAAAAAAAAAAAAAAAAAAAAAAAAAAAAAAAAAAAAAAAAAAAAAAAAAAAAAAAAAAAAAAAAAAA",
          "dtype": "f8"
         }
        },
        {
         "mode": "lines",
         "name": "Preds Trace 2",
         "type": "scatter",
         "visible": false,
         "x": {
          "bdata": "AAECAwQFBgcICQoLDA0ODxAREhMUFRYXGBkaGxwdHh8gISIjJCUmJygpKissLS4vMDEy",
          "dtype": "i1"
         },
         "y": {
          "bdata": "AAAAAAAAAAAAAAAAAAAAAAAAAAAAAAAAAAAAAAAAAAAAAAAAAAAAAAAAAAAAAAAAAAAAAAAAAAAAAAAAAAAAAAAAAAAAAAAAAAAAAAAAAAAAAAAAAAAAAAAAAAAAAAAAAAAAAAAAAAAAAAAAAAAAAAAAAAAAAAAAAAAAAAAAAAAAAAAAAAAAAAAAAAAAAAAAAAAAAAAAAAAAAAAAAAAAAAAAAAAAAAAAAAAAAAAAAAAAAAAAAAAAAAAAAAAAAAAAAAAAAAAAAAAAAAAAAAAAAAAAAAAAAAAAAAAAAAAAAAAAAAAAAAAAAAAAAAAAAAAAAAAAAAAAAAAAAAAAAAAAAAAAAAAAAAAAAAAAAAAAAAAAAAAAAAAAAAAAAAAAAAAAAAAAAAAAAAAAAAAAAAAAAAAAAAAAAAAAAAAAAAAAAAAAAAAAAAAAAAAAAAAAAAAAAAAAAAAAAAAAAAAAAAAAAAAAAAAAAAAAAAAAAAAAAAAAAAAAAAAAAAAAAAAAAAAAAAAAAAAAAAAAAAAAAAAAAAAAAAAAAAAA",
          "dtype": "f8"
         }
        },
        {
         "mode": "lines",
         "name": "Preds Trace 3",
         "type": "scatter",
         "visible": false,
         "x": {
          "bdata": "AAECAwQFBgcICQoLDA0ODxAREhMUFRYXGBkaGxwdHh8gISIjJCUmJygpKissLS4vMDEy",
          "dtype": "i1"
         },
         "y": {
          "bdata": "AAAAAAAAAAAAAAAAAAAAAAAAAAAAAAAAAAAAAAAAAAAAAAAAAAAAAAAAAAAAAAAAAAAAAAAAAAAAAAAAAAAAAAAAAAAAAAAAAAAAAAAAAAAAAAAAAAAAAAAAAAAAAAAAAAAAAAAAAAAAAAAAAAAAAAAAAAAAAAAAAAAAAAAAAAAAAAAAAAAAAAAAAAAAAAAAAAAAAAAAAAAAAAAAAAAAAAAAAAAAAAAAAAAAAAAAAAAAAAAAAAAAAAAAAAAAAAAAAAAAAAAAAAAAAAAAAAAAAAAAAAAAAAAAAAAAAAAAAAAAAAAAAAAAAAAAAAAAAAAAAAAAAAAAAAAAAAAAAAAAAAAAAAAAAAAAAAAAAAAAAAAAAAAAAAAAAAAAAAAAAAAAAAAAAAAAAAAAAAAAAAAAAAAAAAAAAAAAAAAAAAAAAAAAAAAAAAAAAAAAAAAAAAAAAAAAAAAAAAAAAAAAAAAAAAAAAAAAAAAAAAAAAAAAAAAAAAAAAAAAAAAAAAAAAAAAAAAAAAAAAAAAAAAAAAAAAAAAAAAAAAAA",
          "dtype": "f8"
         }
        },
        {
         "mode": "lines",
         "name": "Preds Trace 4",
         "type": "scatter",
         "visible": false,
         "x": {
          "bdata": "AAECAwQFBgcICQoLDA0ODxAREhMUFRYXGBkaGxwdHh8gISIjJCUmJygpKissLS4vMDEy",
          "dtype": "i1"
         },
         "y": {
          "bdata": "AAAAAAAAAAAAAAAAAAAAAAAAAAAAAAAAAAAAAAAAAAAAAAAAAAAAAAAAAAAAAAAAAAAAAAAAAAAAAAAAAAAAAAAAAAAAAAAAAAAAAAAAAAAAAAAAAAAAAAAAAAAAAAAAAAAAAAAAAAAAAAAAAAAAAAAAAAAAAAAAAAAAAAAAAAAAAAAAAAAAAAAAAAAAAAAAAAAAAAAAAAAAAAAAAAAAAAAAAAAAAAAAAAAAAAAAAAAAAAAAAAAAAAAAAAAAAAAAAAAAAAAAAAAAAAAAAAAAAAAAAAAAAAAAAAAAAAAAAAAAAAAAAAAAAAAAAAAAAAAAAAAAAAAAAAAAAAAAAAAAAAAAAAAAAAAAAAAAAAAAAAAAAAAAAAAAAAAAAAAAAAAAAAAAAAAAAAAAAAAAAAAAAAAAAAAAAAAAAAAAAAAAAAAAAAAAAAAAAAAAAAAAAAAAAAAAAAAAAAAAAAAAAAAAAAAAAAAAAAAAAAAAAAAAAAAAAAAAAAAAAAAAAAAAAAAAAAAAAAAAAAAAAAAAAAAAAAAAAAAAAAAA",
          "dtype": "f8"
         }
        },
        {
         "mode": "lines",
         "name": "Preds Trace 5",
         "type": "scatter",
         "visible": false,
         "x": {
          "bdata": "AAECAwQFBgcICQoLDA0ODxAREhMUFRYXGBkaGxwdHh8gISIjJCUmJygpKissLS4vMDEy",
          "dtype": "i1"
         },
         "y": {
          "bdata": "AAAAAAAAAAAAAAAAAAAAAAAAAAAAAAAAAAAAAAAAAAAAAAAAAAAAAAAAAAAAAAAAAAAAAAAAAAAAAAAAAAAAAAAAAAAAAAAAAAAAAAAAAAAAAAAAAAAAAAAAAAAAAAAAAAAAAAAAAAAAAAAAAAAAAAAAAAAAAAAAAAAAAAAAAAAAAAAAAAAAAAAAAAAAAAAAAAAAAAAAAAAAAAAAAAAAAAAAAAAAAAAAAAAAAAAAAAAAAAAAAAAAAAAAAAAAAAAAAAAAAAAAAAAAAAAAAAAAAAAAAAAAAAAAAAAAAAAAAAAAAAAAAAAAAAAAAAAAAAAAAAAAAAAAAAAAAAAAAAAAAAAAAAAAAAAAAAAAAAAAAAAAAAAAAAAAAAAAAAAAAAAAAAAAAAAAAAAAAAAAAAAAAAAAAAAAAAAAAAAAAAAAAAAAAAAAAAAAAAAAAAAAAAAAAAAAAAAAAAAAAAAAAAAAAAAAAAAAAAAAAAAAAAAAAAAAAAAAAAAAAAAAAAAAAAAAAAAAAAAAAAAAAAAAAAAAAAAAAAAAAAAA",
          "dtype": "f8"
         }
        },
        {
         "mode": "lines",
         "name": "Preds Trace 6",
         "type": "scatter",
         "visible": false,
         "x": {
          "bdata": "AAECAwQFBgcICQoLDA0ODxAREhMUFRYXGBkaGxwdHh8gISIjJCUmJygpKissLS4vMDEy",
          "dtype": "i1"
         },
         "y": {
          "bdata": "AAAAAAAAAAAAAAAAAAAAAAAAAAAAAAAAAAAAAAAAAAAAAAAAAAAAAAAAAAAAAAAAAAAAAAAAAAAAAAAAAAAAAAAAAAAAAAAAAAAAyJDPKkAAAAAgglgjQAAAAG2AQUpAAAAAzEQ2IEAAAKAavsdRQAAAAHlreVdAAAAAEEXII8AAAAAAmsgBQAAAkAO4wXdAAABQk2RzpUAAQJriV2jAQABg4K0TgNFAALhYp/VC20AAPL3UYl/iQADghSQ2D+VAAGj23DTq5EAA8DTVuJjoQABwt/C4nedAAHjpp0aF70AAyIxlHtLyQACmFJW2+/JAAHgfS53E9EAABGVmmPnyQADQADHmXvBAADB5JPdC7kAAwCiR9PvmQABAJL8eI+RAAMDoKtOO4EAAQF2HQ47eQAAA2BpDluBAAABxOUAY40AAABIjrLPkQAAAFWflquZAAAD2RZiy5kAAALfvZSDmQAAAHBT+VeNAAADcPQyy4EAA8NnqtVPZQAAAoGMuN8RAAAAAczHFukAAAABy7xaVQAAAAAfyC4hA",
          "dtype": "f8"
         }
        },
        {
         "mode": "lines",
         "name": "Preds Trace 7",
         "type": "scatter",
         "visible": false,
         "x": {
          "bdata": "AAECAwQFBgcICQoLDA0ODxAREhMUFRYXGBkaGxwdHh8gISIjJCUmJygpKissLS4vMDEy",
          "dtype": "i1"
         },
         "y": {
          "bdata": "AAAAAAAAAAAAAAAAAAAAAAAAAAAAAAAAAAAAAAAAAAAAAAAAAAAAAAAAAAAAAAAAAAAAAAAAAAAAAAAAAAAAAAAAAAAAAAAAAAAAAAAAAAAAAADAsDojQAAAADjKETdAAAAAkJjVH0AAAEBLGZBRQAAAQFrPBVFAAACAk9mLNcAAAADeYF5EwAAAMEly03NAAACSOjQBpUAAQN6udynAQADgFGkyXNFAAIBfh+AS20AAME9hlkLiQADU56C18uRAANzqzQLQ5EAAOF9vGXvoQADA3gzIhudAAJhvZndn70AAaAIbhMHyQADAETq96fJAANCcI/2v9EAAIK337uTyQAA85lTbSPBAAGA1uO4r7kAAEEr79tvmQACArM19CuRAAAAaWoh84EAAwP9aonzeQAAACszzneBAAACBIaU540AAAJRJ4+rkQAAAh5k66uZAAABg6Ijj5kAAAFgs/DTmQAAAAGDmSuNAAAA4kgOS4EAAABCdrQ3ZQAAAoEwe68NAAABAlpOIukAAAADAcNaUQAAAAIctqodA",
          "dtype": "f8"
         }
        },
        {
         "mode": "lines",
         "name": "Preds Trace 8",
         "type": "scatter",
         "visible": false,
         "x": {
          "bdata": "AAECAwQFBgcICQoLDA0ODxAREhMUFRYXGBkaGxwdHh8gISIjJCUmJygpKissLS4vMDEy",
          "dtype": "i1"
         },
         "y": {
          "bdata": "AAAAAAAAAAAAAAAAAAAAAAAAAAAAAAAAAAAAAAAAAAAAAAAAAAAAAAAAAAAAAAAAAAAAAAAAAAAAAAAAAAAAAAAAAAAAAAAAAAAAAAAAAAAAAAAAAAAAAAAAAPg3GDdAAAAAOBZPJ8AAAKDIPulRQAAAINiQUFJAAAAA4pWCNsAAAADAct0cwAAAwEcyY3ZAAADcZ2JlpUAAgDO1AU/AQAAAoJpfYtFAAJCy0F8X20AAoMN4/EDiQADgCyic9ORAAASNl1Hd5EAA6Nqej5LoQACAbsuKqedAABDm1d2T70AAwPqiYtnyQADAYfrCA/NAAOAOy0PJ9EAAIKfo4/XyQAAADOVaVfBAAAD7Fr457kAAQAtHTEHnQAAA7Us8OeRAAADII8bA4EAAwFlf+iHfQAAAq1tg/+BAAACArfSo40AAAJxgcl/lQAAAjdx2W+dAAMBuB91D50AAADAO0HnmQAAAIKMRbeNAAAAuW4yc4EAAALC4ag7ZQAAAABOO98NAAADAlJlyukAAAABgQs6UQAAAAG9vlIdA",
          "dtype": "f8"
         }
        },
        {
         "mode": "lines",
         "name": "Preds Trace 9",
         "type": "scatter",
         "visible": false,
         "x": {
          "bdata": "AAECAwQFBgcICQoLDA0ODxAREhMUFRYXGBkaGxwdHh8gISIjJCUmJygpKissLS4vMDEy",
          "dtype": "i1"
         },
         "y": {
          "bdata": "AAAAAAAAAAAAAAAAAAAAAAAAAAAAAAAAAAAAAAAAAAAAAAAAAAAAAAAAAAAAAAAAAAAAAAAAAAAAAAAAAAAAAAAAAAAAAAAAAAAAAAAAAAAAAAAAAAAAAAAAAAAAAAAAAAAAGGAPJ8AAAACGLHBAQAAAAK5761tAAADABXKYVkAAAAB+9/5mQAAA4CKKlYdAAAAwE5A5qUAAAKjK73nBQADASmR7DNJAAEA1Uii+20AAoJRY4qLiQADAaYx4ZeVAAJCqlK1t5UAAmHbTZFXpQADgKsFYl+hAAAB3okRY8EAAgHwZIHvzQADAarrtpvNAAIDPGHhk9UAAAML2hX/zQADAyITcxfBAAADDsID07kAAAJSpntznQACAx7m7Y+VAAABes0JX4UAAgCg1ezrgQAAAtqeRyuFAAECK+72d5EAAAIVb8HDmQAAANAW9dOhAAABQHbZN6EAAALx8H1rnQAAA4NoxHORAAIDTNRUX4UAAABARyKvZQAAAwCkHlcRAAAAA2F3wukAAAAA0s3qVQAAAACd0o4hA",
          "dtype": "f8"
         }
        },
        {
         "mode": "lines",
         "name": "Preds Trace 10",
         "type": "scatter",
         "visible": false,
         "x": {
          "bdata": "AAECAwQFBgcICQoLDA0ODxAREhMUFRYXGBkaGxwdHh8gISIjJCUmJygpKissLS4vMDEy",
          "dtype": "i1"
         },
         "y": {
          "bdata": "AAAAAAAAAAAAAAAAAAAAAAAAAAAAAAAAAAAAAAAAAAAAAAAAAAAAAAAAAAAAAAAAAAAAAAAAAAAAAAAAAAAAAAAAAAAAAAAAAAAAAAAAAAAAAAAAAAAAAAAAAAAAAAAAAAAAAAAAAAAAAABwLwtUQAAAAPjM+nZAAAAAKl8NiEAAAABLOJ6YQAAAAOW12ahAAADwjO0KuUAAAKBSsCTJQAAAEjQASdZAAACVGm4i4EAAABR7GzDlQADgNwWvVOhAAGCpfKXX6EAAAAkNq47tQAAAzBXtiu1AAADWVCdo80AAgOXyMAP3QAAAoLnzR/dAAABUlIzt+EAAALhnfqj2QAAAMGFbl/NAAICwJbS98UAAwHNmr5TrQAAAZzFBo+hAAAA+CNCR5UAAALxw9kXjQAAAlO8geeVAAEDds/v06EAAABslSjjrQAAAzKUMJu1AAAAbiVNv7EAAADDneYjqQAAASPw6W+ZAAABE2neT4kAAACDM6njbQAAAACcO/cVAAAAAtt3GvEAAAAD4j++WQAAAAFZyC4pA",
          "dtype": "f8"
         }
        },
        {
         "mode": "lines",
         "name": "Preds Trace 11",
         "type": "scatter",
         "visible": false,
         "x": {
          "bdata": "AAECAwQFBgcICQoLDA0ODxAREhMUFRYXGBkaGxwdHh8gISIjJCUmJygpKissLS4vMDEy",
          "dtype": "i1"
         },
         "y": {
          "bdata": "AAAAAAAAAAAAAAAAAAAAAAAAAAAAAAAAAAAAAAAAAAAAAAAAAAAAAAAAAAAAAAAAAAAAAAAAAAAAAAAAAAAAAAAAAAAAAAAAAAAAAAAAAAAAAAAAAAAAAAAAAAAAAAAAAAAAAAAAAAAAAAAAAAAAAAAAAFApEXhAAAAA8MWBhEAAAAAWsJyaQAAAgO7np6pAAABgUTPbuUAAAMD39ALKQAAAQL5goNZAABA0TRZI4EAAAOTdZHzlQAAAgOkVgehAAAAOtDoi6UAAAI6pJOHtQAAAoHhZCe5AAABwBjvS80AAgOYBXYv3QACAIHeP5vdAAADigtpr+UAAALhGHB/3QAAA0OAZDvRAAAAqtuGr8kAAAAT24kbsQAAA80xvCelAAAA7wEan5UAAAOixiY7kQAAAdzMskeVAAAC0R2dH6UAAAO+m+XjrQAAAkJSwZu1AAAAwLr2a7EAAACDLiqvqQAAAICyicuZAAADpdvKm4kAAAHDUwYrbQAAAgJlr68VAAAAALUvxvEAAAAAg3yqWQAAAANPoZIhA",
          "dtype": "f8"
         }
        },
        {
         "mode": "lines",
         "name": "Preds Trace 12",
         "type": "scatter",
         "visible": false,
         "x": {
          "bdata": "AAECAwQFBgcICQoLDA0ODxAREhMUFRYXGBkaGxwdHh8gISIjJCUmJygpKissLS4vMDEy",
          "dtype": "i1"
         },
         "y": {
          "bdata": "AAAAAAAAAAAAAAAAAAAAAAAAAAAAAAAAAAAAAAAAAAAAAAAAAAAAAAAAAAAAAAAAAAAAAAAAAAAAAAAAAAAAAAAAAAAAAAAAAAAAAAAAAAAAAAAAAAAAAAAAAAAAAAAAAAAAAAAAAAAAAAAAAAAAAAAAAAAAAAAAAAAALZ/dcEAAAACMqfF1QAAAwH9ZCp1AAADgvu5MskAAAACQGarEQACAPqfWMdRAAABgISaf3UAAAGE8HbfjQAAAlAPsAudAAACSbtXY5kAAQEbKQlbrQACANLIQSutAAIDl9X5t8kAAgGwCwlT2QACA3lFT0/ZAAICoU8wP+UAAAMiAZIT2QAAAyIaTlPNAAADy1JOW8kAAgPID8xjuQAAADTf6XOlAAACmAFJX5UAAAOAyAXjjQAAAImQnzOVAAADE1rmz50AAADwK8DvqQAAAevY5/OtAAADkT0Fh60AAAM3UW8LpQAAAAGHi2uVAAADxKLVY4kAAAOB1t07bQAAA4Hpq2sVAAAAACSXJvEAAAADM9JeVQAAAwF4/84dA",
          "dtype": "f8"
         }
        },
        {
         "mode": "lines",
         "name": "Preds Trace 13",
         "type": "scatter",
         "visible": false,
         "x": {
          "bdata": "AAECAwQFBgcICQoLDA0ODxAREhMUFRYXGBkaGxwdHh8gISIjJCUmJygpKissLS4vMDEy",
          "dtype": "i1"
         },
         "y": {
          "bdata": "AAAAAAAAAAAAAAAAAAAAAAAAAAAAAAAAAAAAAAAAAAAAAAAAAAAAAAAAAAAAAAAAAAAAAAAAAAAAAAAAAAAAAAAAAAAAAAAAAAAAAAAAAAAAAAAAAAAAAAAAAAAAAAAAAAAAAAAAAAAAAAAAAAAAAAAAAAAAAAAAAAAAAAAAAAAAAAA0gLCRwAAAAJDX7YDAAACAz3RRdsAAAACckYqzQAAAAKElss1AAADghmEQ10AAALgxf0XgQAAAZigzgeJAAACSy1IR4kAAQNQ0tivlQAAAnBunhuNAAACt1cAk7UAAAEmCNgHyQAAA7K4ZFvNAAIDap/3e9UAAAAvtcBT1QAAA1NiKGPJAAAAUg2wv8UAAgCqLdzPsQACAzseTOepAAADmiNM55EAAAMrLNjDiQAAAlA+sb+JAAABOyevn5EAAALASxZjlQACA/MNZmudAAAB6Bkr15kAAAGieHzzmQAAAcMzCQuNAAAB4+Vev4EAAAJijdEDZQAAA8FXxDcRAAADArCihukAAAAAsd3GRQAAAAAAaX4JA",
          "dtype": "f8"
         }
        },
        {
         "mode": "lines",
         "name": "Preds Trace 14",
         "type": "scatter",
         "visible": false,
         "x": {
          "bdata": "AAECAwQFBgcICQoLDA0ODxAREhMUFRYXGBkaGxwdHh8gISIjJCUmJygpKissLS4vMDEy",
          "dtype": "i1"
         },
         "y": {
          "bdata": "AAAAAAAAAAAAAAAAAAAAAAAAAAAAAAAAAAAAAAAAAAAAAAAAAAAAAAAAAAAAAAAAAAAAAAAAAAAAAAAAAAAAAAAAAAAAAAAAAAAAAAAAAAAAAAAAAAAAAAAAAAAAAAAAAAAAAAAAAAAAAAAAAAAAAAAAAAAAAAAAAAAAAAAAAAAAAAAgtwI9QAAAAOiCXInAAADQmuBXnUAAAAC2NEexQAAAAF6YusxAAADgv5rM2EAAAMRhdRngQAAAyGgzpuJAAAC85xhQ4UAAwEi03ZTkQAAALqsYieNAAIDdxbyh60AAAP3KvWPyQAAAswEoI/NAAIDq9J059kAAAJicZxj1QAAA6DcGKfNAAADEoUxS8UAAgKPKTsjrQAAAw9e5xulAAAC+DYOH5kAAANrddOXhQAAALLGRGuFAAADgl8p84UAAwIPu9fbjQAAAc+uSz+RAAAA2O1kL5UAAAGtVwInkQAAACHdu+eFAAADgNuB/30AAANhECxbYQAAAQITiKsNAAAAAeg6XuUAAAAAsApmSQAAAADe7fYRA",
          "dtype": "f8"
         }
        },
        {
         "mode": "lines",
         "name": "Preds Trace 15",
         "type": "scatter",
         "visible": false,
         "x": {
          "bdata": "AAECAwQFBgcICQoLDA0ODxAREhMUFRYXGBkaGxwdHh8gISIjJCUmJygpKissLS4vMDEy",
          "dtype": "i1"
         },
         "y": {
          "bdata": "AAAAAAAAAAAAAAAAAAAAAAAAAAAAAAAAAAAAAAAAAAAAAAAAAAAAAAAAAAAAAAAAAAAAAAAAAAAAAAAAAAAAAAAAAAAAAAAAAAAAAAAAAAAAAAAAAAAAAAAAAAAAAAAAAAAAAAAAAAAAAAAAAAAAAAAAAAAAAAAAAAAAAAAAAAAAAAAgtwI9QAAAAJRzGl5AAADQqU2Ql0AAAABpJym4QAAAgGRB2MpAAABgycry10AAAGjWPKjgQAAA0A7QLuJAAAC8Xv5P4UAAQCwrr6jjQAAAnlqfh+NAAICGuarX7EAAAMTOVvLxQAAAzIfssfNAAMBpH8kJ9kAAQMAXOtP1QACwSMPcFfNAAFw61gSN8UAAgBZMZgXsQAAAuygBoulAAABO8mtc5kAAAPIr4B/jQAAAVMvYAOFAAACs+t1j4EAAAJ4/H6rhQAAAEEnL9ONAAAD68nZG40AAAAysGU/kQAAA+Ex9kuFAAAAwkRMR30AAADziUsnXQAAAsGJ8usJAAADAhRbiuEAAAEBWzaGRQAAAAHZtGoNA",
          "dtype": "f8"
         }
        },
        {
         "mode": "lines",
         "name": "Preds Trace 16",
         "type": "scatter",
         "visible": false,
         "x": {
          "bdata": "AAECAwQFBgcICQoLDA0ODxAREhMUFRYXGBkaGxwdHh8gISIjJCUmJygpKissLS4vMDEy",
          "dtype": "i1"
         },
         "y": {
          "bdata": "AAAAAAAAAAAAAAAAAAAAAAAAAAAAAAAAAAAAAAAAAAAAAAAAAAAAAAAAAAAAAAAAAAAAAAAAAAAAAAAAAAAAAAAAAAAAAAAAAAAAAAAAAAAAAAAAAAAAAAAAAAAAAAAAAAAAAAAAAAAAAAAAAAAAAAAAAAAAAAAAAAAAAAAAAAAAAAAgtwI9QAAAAJRzGl5AAABAG/D9ckAAAABhk2W4QAAAADeSPMdAAACgX8ha2EAAAOiKudTgQAAAmPiujeFAAAB8nlJh4UAAQGZQ2PPiQAAAVt7U+eFAAIAWgw3l7EAAAAoZXhPzQAAAqBzUv/NAAIA0udr39kAAAACM+pj2QAAAAco1aPRAAABlKLa58UAAgJbLeJTsQAAAf994e+lAAACWP7Rw5kAAAPI/8xLjQAAABOTCb+BAAAAMA3pN4EAAAFQoVtXgQAAAdrkZseZAAABWiL+w40AAALpZJKHiQAAAYMb07+FAAABg/4eQ30AAgGUrrSrYQAAAkMyI18JAAACArXsDuUAAACDk+26RQAAAAJ6a5oJA",
          "dtype": "f8"
         }
        },
        {
         "mode": "lines",
         "name": "Preds Trace 17",
         "type": "scatter",
         "visible": false,
         "x": {
          "bdata": "AAECAwQFBgcICQoLDA0ODxAREhMUFRYXGBkaGxwdHh8gISIjJCUmJygpKissLS4vMDEy",
          "dtype": "i1"
         },
         "y": {
          "bdata": "AAAAAAAAAAAAAAAAAAAAAAAAAAAAAAAAAAAAAAAAAAAAAAAAAAAAAAAAAAAAAAAAAAAAAAAAAAAAAAAAAAAAAAAAAAAAAAAAAAAAAAAAAAAAAAAAAAAAAAAAAAAAAAAAAAAAAAAAAAAAAAAAAAAAAAAAAAAAAAAAAAAAAAAAAAAAAAAgtwI9QAAAAJRzGl5AAABAG/D9ckAAAABowkCSQAAAAD/rvsdAAAAALv/RzEAAAOiPaergQAAAmBznneFAAAD4L0Pa20AAQOYyDRDjQAAAvLiV6t5AAIAm3UyU60AAACoPrTXzQAAAMPjLMPVAAIDchjXX9kAAAIpSE1T3QAAApAEku/RAAAC3gbu68kAAgP4iwobsQAAAG+QTIupAAAAmGRS55UAAACJNxzDiQAAAvFe2TuBAAADAeM+n3EAAALTTdangQAAA6p6NYudAAAAm+63/5kAAAA4CXrHjQAAAGHl/Q99AAADQyEIA4EAAAJzacqDYQAAAkJMG0MJAAADA39HXuEAAACCKpFKRQAAAADZ0xIJA",
          "dtype": "f8"
         }
        },
        {
         "mode": "lines",
         "name": "Preds Trace 18",
         "type": "scatter",
         "visible": false,
         "x": {
          "bdata": "AAECAwQFBgcICQoLDA0ODxAREhMUFRYXGBkaGxwdHh8gISIjJCUmJygpKissLS4vMDEy",
          "dtype": "i1"
         },
         "y": {
          "bdata": "AAAAAAAAAAAAAAAAAAAAAAAAAAAAAAAAAAAAAAAAAAAAAAAAAAAAAAAAAAAAAAAAAAAAAAAAAAAAAAAAAAAAAAAAAAAAAAAAAAAAAAAAAAAAAAAAAAAAAAAAAAAAAAAAAAAAAAAAAAAAAAAAAAAAAAAAAAAAAAAAAAAAAAAAAAAAAAAgtwI9QAAAAJRzGl5AAABAG/D9ckAAAABowkCSQAAAAL5xu6ZAAAAArrjhzEAAAKBj5OLNQAAAmNX4oOFAAAD4wana20AAgExG4ATbQAAAvGbG8t5AAIAGwTzQ5kAAAOpvzbzyQAAAMEiyOvVAAIB8DIJE90AAAAooqDP3QAAA+BqFwfRAAAAEAkzV8kAAgHrpVVjtQAAAe+VGFupAAADWKbMU50AAAMLaFlDhQAAA/BiREeBAAAAoq7yF3EAAAHQrncTdQAAAOgoJWOdAAADOnVAv6EAAAOAV/LnoQAAA+Fv/+eFAAADgKLPb2kAAAHBoasXYQAAAwNK5acRAAAAAxJX+uEAAACA211KRQAAAAKYhw4JA",
          "dtype": "f8"
         }
        },
        {
         "mode": "lines",
         "name": "Preds Trace 19",
         "type": "scatter",
         "visible": false,
         "x": {
          "bdata": "AAECAwQFBgcICQoLDA0ODxAREhMUFRYXGBkaGxwdHh8gISIjJCUmJygpKissLS4vMDEy",
          "dtype": "i1"
         },
         "y": {
          "bdata": "AAAAAAAAAAAAAAAAAAAAAAAAAAAAAAAAAAAAAAAAAAAAAAAAAAAAAAAAAAAAAAAAAAAAAAAAAAAAAAAAAAAAAAAAAAAAAAAAAAAAAAAAAAAAAAAAAAAAAAAAAAAAAAAAAAAAAAAAAAAAAAAAAAAAAAAAAAAAAAAAAAAAAAAAAAAAAAAgtwI9QAAAAJRzGl5AAABAG/D9ckAAAABowkCSQAAAAL5xu6ZAAAAAAKTDskAAAKCD5OLNQAAAcPHiF9BAAAD4M/To20AAgEwxKw/bQAAAPLSu7tNAAIAGCEXQ5kAAABrgcxXwQAAASIHwAPZAAICcfHBW90AAAApegz73QAAA2PKMtvRAAADlgB+O8kAAgGK9sInrQAAA4/iTy+lAAAA+vWIW50AAAGKZj3HiQAAAeJcgxt5AAABoCaaa3EAAAJTbAbjdQAAA2ukrseVAAAA22zMp6EAAACzVejfqQAAACEaTX+NAAACwhTr730AAALDTMZ3TQAAAYK7wX8RAAABAUZ05vEAAACCOSVORQAAAAMYDw4JA",
          "dtype": "f8"
         }
        },
        {
         "mode": "lines",
         "name": "Preds Trace 20",
         "type": "scatter",
         "visible": false,
         "x": {
          "bdata": "AAECAwQFBgcICQoLDA0ODxAREhMUFRYXGBkaGxwdHh8gISIjJCUmJygpKissLS4vMDEy",
          "dtype": "i1"
         },
         "y": {
          "bdata": "AAAAAAAAAAAAAAAAAAAAAAAAAAAAAAAAAAAAAAAAAAAAAAAAAAAAAAAAAAAAAAAAAAAAAAAAAAAAAAAAAAAAAAAAAAAAAAAAAAAAAAAAAAAAAAAAAAAAAAAAAAAAAAAAAAAAAAAAAAAAAAAAAAAAAAAAAAAAAAAAAAAAAAAAAAAAAAAgtwI9QAAAAJRzGl5AAABAG/D9ckAAAABowkCSQAAAAL5xu6ZAAAAAAKTDskAAAEA//VW9QAAAcAHjF9BAAAD4t5Ns00AAgExp3xXbQAAAPLSu7tNAAIAGER/140AAABpg+RbwQAAAWOAjifNAAIAcKkYo+EAAAEphtD73QAAA6MMtdvRAAACFQUfb8kAAgD6sZ63pQACAUbRtk+dAAACWDxlt5kAAANJbZXXiQAAAVFemM+BAAADgPhpI20AAAFQwdtjfQAAA9hL/tOVAAACm5jvq5kAAAGF5pG3qQAAAiOZXbOVAAAAIka9e4kAAAMBvHhrWQAAAIM3IWsFAAAAAW/QpvEAAAACKwJycQAAAwDaIdoRA",
          "dtype": "f8"
         }
        },
        {
         "name": "Actuals",
         "opacity": 0.6,
         "type": "bar",
         "x": {
          "bdata": "AAECAwQFBgcICQoLDA0ODxAREhMUFRYXGBkaGxwdHh8gISIjJCUmJygpKissLS4vMDEy",
          "dtype": "i1"
         },
         "y": {
          "bdata": "AAAAAAAAAAAAAAAAAAAAAAAAAAAAAAAAAAAAAAAAAAAAAAAAAAAAAAAAAAAAAAAAAAAAAAAAAAAAAAAAAAAAALkV6EGd0/BCge+XQxMGkkSP2zVFIR2WRemv6kXW50VGnmSbRmUyDkd2dZ9G+KgfR7oTgEcfSZxHhJ6zR4oLwEdxsaNHBreXR/7QUEc4gTRH0askRwxQDkcznQFHzivnRp2b9ka2oTJH4FE3R7R0S0fAYitHTY8nR6LS30YuKhJGH8ErRuqX7UQa+mBE",
          "dtype": "f4"
         }
        }
       ],
       "layout": {
        "barmode": "overlay",
        "sliders": [
         {
          "active": 0,
          "currentvalue": {
           "prefix": "Trace: "
          },
          "pad": {
           "t": 51
          },
          "steps": [
           {
            "args": [
             {
              "visible": [
               true,
               false,
               false,
               false,
               false,
               false,
               false,
               false,
               false,
               false,
               false,
               false,
               false,
               false,
               false,
               false,
               false,
               false,
               false,
               false,
               true
              ]
             }
            ],
            "label": "Preds Trace 1",
            "method": "update"
           },
           {
            "args": [
             {
              "visible": [
               false,
               true,
               false,
               false,
               false,
               false,
               false,
               false,
               false,
               false,
               false,
               false,
               false,
               false,
               false,
               false,
               false,
               false,
               false,
               false,
               true
              ]
             }
            ],
            "label": "Preds Trace 2",
            "method": "update"
           },
           {
            "args": [
             {
              "visible": [
               false,
               false,
               true,
               false,
               false,
               false,
               false,
               false,
               false,
               false,
               false,
               false,
               false,
               false,
               false,
               false,
               false,
               false,
               false,
               false,
               true
              ]
             }
            ],
            "label": "Preds Trace 3",
            "method": "update"
           },
           {
            "args": [
             {
              "visible": [
               false,
               false,
               false,
               true,
               false,
               false,
               false,
               false,
               false,
               false,
               false,
               false,
               false,
               false,
               false,
               false,
               false,
               false,
               false,
               false,
               true
              ]
             }
            ],
            "label": "Preds Trace 4",
            "method": "update"
           },
           {
            "args": [
             {
              "visible": [
               false,
               false,
               false,
               false,
               true,
               false,
               false,
               false,
               false,
               false,
               false,
               false,
               false,
               false,
               false,
               false,
               false,
               false,
               false,
               false,
               true
              ]
             }
            ],
            "label": "Preds Trace 5",
            "method": "update"
           },
           {
            "args": [
             {
              "visible": [
               false,
               false,
               false,
               false,
               false,
               true,
               false,
               false,
               false,
               false,
               false,
               false,
               false,
               false,
               false,
               false,
               false,
               false,
               false,
               false,
               true
              ]
             }
            ],
            "label": "Preds Trace 6",
            "method": "update"
           },
           {
            "args": [
             {
              "visible": [
               false,
               false,
               false,
               false,
               false,
               false,
               true,
               false,
               false,
               false,
               false,
               false,
               false,
               false,
               false,
               false,
               false,
               false,
               false,
               false,
               true
              ]
             }
            ],
            "label": "Preds Trace 7",
            "method": "update"
           },
           {
            "args": [
             {
              "visible": [
               false,
               false,
               false,
               false,
               false,
               false,
               false,
               true,
               false,
               false,
               false,
               false,
               false,
               false,
               false,
               false,
               false,
               false,
               false,
               false,
               true
              ]
             }
            ],
            "label": "Preds Trace 8",
            "method": "update"
           },
           {
            "args": [
             {
              "visible": [
               false,
               false,
               false,
               false,
               false,
               false,
               false,
               false,
               true,
               false,
               false,
               false,
               false,
               false,
               false,
               false,
               false,
               false,
               false,
               false,
               true
              ]
             }
            ],
            "label": "Preds Trace 9",
            "method": "update"
           },
           {
            "args": [
             {
              "visible": [
               false,
               false,
               false,
               false,
               false,
               false,
               false,
               false,
               false,
               true,
               false,
               false,
               false,
               false,
               false,
               false,
               false,
               false,
               false,
               false,
               true
              ]
             }
            ],
            "label": "Preds Trace 10",
            "method": "update"
           },
           {
            "args": [
             {
              "visible": [
               false,
               false,
               false,
               false,
               false,
               false,
               false,
               false,
               false,
               false,
               true,
               false,
               false,
               false,
               false,
               false,
               false,
               false,
               false,
               false,
               true
              ]
             }
            ],
            "label": "Preds Trace 11",
            "method": "update"
           },
           {
            "args": [
             {
              "visible": [
               false,
               false,
               false,
               false,
               false,
               false,
               false,
               false,
               false,
               false,
               false,
               true,
               false,
               false,
               false,
               false,
               false,
               false,
               false,
               false,
               true
              ]
             }
            ],
            "label": "Preds Trace 12",
            "method": "update"
           },
           {
            "args": [
             {
              "visible": [
               false,
               false,
               false,
               false,
               false,
               false,
               false,
               false,
               false,
               false,
               false,
               false,
               true,
               false,
               false,
               false,
               false,
               false,
               false,
               false,
               true
              ]
             }
            ],
            "label": "Preds Trace 13",
            "method": "update"
           },
           {
            "args": [
             {
              "visible": [
               false,
               false,
               false,
               false,
               false,
               false,
               false,
               false,
               false,
               false,
               false,
               false,
               false,
               true,
               false,
               false,
               false,
               false,
               false,
               false,
               true
              ]
             }
            ],
            "label": "Preds Trace 14",
            "method": "update"
           },
           {
            "args": [
             {
              "visible": [
               false,
               false,
               false,
               false,
               false,
               false,
               false,
               false,
               false,
               false,
               false,
               false,
               false,
               false,
               true,
               false,
               false,
               false,
               false,
               false,
               true
              ]
             }
            ],
            "label": "Preds Trace 15",
            "method": "update"
           },
           {
            "args": [
             {
              "visible": [
               false,
               false,
               false,
               false,
               false,
               false,
               false,
               false,
               false,
               false,
               false,
               false,
               false,
               false,
               false,
               true,
               false,
               false,
               false,
               false,
               true
              ]
             }
            ],
            "label": "Preds Trace 16",
            "method": "update"
           },
           {
            "args": [
             {
              "visible": [
               false,
               false,
               false,
               false,
               false,
               false,
               false,
               false,
               false,
               false,
               false,
               false,
               false,
               false,
               false,
               false,
               true,
               false,
               false,
               false,
               true
              ]
             }
            ],
            "label": "Preds Trace 17",
            "method": "update"
           },
           {
            "args": [
             {
              "visible": [
               false,
               false,
               false,
               false,
               false,
               false,
               false,
               false,
               false,
               false,
               false,
               false,
               false,
               false,
               false,
               false,
               false,
               true,
               false,
               false,
               true
              ]
             }
            ],
            "label": "Preds Trace 18",
            "method": "update"
           },
           {
            "args": [
             {
              "visible": [
               false,
               false,
               false,
               false,
               false,
               false,
               false,
               false,
               false,
               false,
               false,
               false,
               false,
               false,
               false,
               false,
               false,
               false,
               true,
               false,
               true
              ]
             }
            ],
            "label": "Preds Trace 19",
            "method": "update"
           },
           {
            "args": [
             {
              "visible": [
               false,
               false,
               false,
               false,
               false,
               false,
               false,
               false,
               false,
               false,
               false,
               false,
               false,
               false,
               false,
               false,
               false,
               false,
               false,
               true,
               true
              ]
             }
            ],
            "label": "Preds Trace 20",
            "method": "update"
           }
          ]
         }
        ],
        "template": {
         "data": {
          "bar": [
           {
            "error_x": {
             "color": "#2a3f5f"
            },
            "error_y": {
             "color": "#2a3f5f"
            },
            "marker": {
             "line": {
              "color": "#E5ECF6",
              "width": 0.5
             },
             "pattern": {
              "fillmode": "overlay",
              "size": 10,
              "solidity": 0.2
             }
            },
            "type": "bar"
           }
          ],
          "barpolar": [
           {
            "marker": {
             "line": {
              "color": "#E5ECF6",
              "width": 0.5
             },
             "pattern": {
              "fillmode": "overlay",
              "size": 10,
              "solidity": 0.2
             }
            },
            "type": "barpolar"
           }
          ],
          "carpet": [
           {
            "aaxis": {
             "endlinecolor": "#2a3f5f",
             "gridcolor": "white",
             "linecolor": "white",
             "minorgridcolor": "white",
             "startlinecolor": "#2a3f5f"
            },
            "baxis": {
             "endlinecolor": "#2a3f5f",
             "gridcolor": "white",
             "linecolor": "white",
             "minorgridcolor": "white",
             "startlinecolor": "#2a3f5f"
            },
            "type": "carpet"
           }
          ],
          "choropleth": [
           {
            "colorbar": {
             "outlinewidth": 0,
             "ticks": ""
            },
            "type": "choropleth"
           }
          ],
          "contour": [
           {
            "colorbar": {
             "outlinewidth": 0,
             "ticks": ""
            },
            "colorscale": [
             [
              0,
              "#0d0887"
             ],
             [
              0.1111111111111111,
              "#46039f"
             ],
             [
              0.2222222222222222,
              "#7201a8"
             ],
             [
              0.3333333333333333,
              "#9c179e"
             ],
             [
              0.4444444444444444,
              "#bd3786"
             ],
             [
              0.5555555555555556,
              "#d8576b"
             ],
             [
              0.6666666666666666,
              "#ed7953"
             ],
             [
              0.7777777777777778,
              "#fb9f3a"
             ],
             [
              0.8888888888888888,
              "#fdca26"
             ],
             [
              1,
              "#f0f921"
             ]
            ],
            "type": "contour"
           }
          ],
          "contourcarpet": [
           {
            "colorbar": {
             "outlinewidth": 0,
             "ticks": ""
            },
            "type": "contourcarpet"
           }
          ],
          "heatmap": [
           {
            "colorbar": {
             "outlinewidth": 0,
             "ticks": ""
            },
            "colorscale": [
             [
              0,
              "#0d0887"
             ],
             [
              0.1111111111111111,
              "#46039f"
             ],
             [
              0.2222222222222222,
              "#7201a8"
             ],
             [
              0.3333333333333333,
              "#9c179e"
             ],
             [
              0.4444444444444444,
              "#bd3786"
             ],
             [
              0.5555555555555556,
              "#d8576b"
             ],
             [
              0.6666666666666666,
              "#ed7953"
             ],
             [
              0.7777777777777778,
              "#fb9f3a"
             ],
             [
              0.8888888888888888,
              "#fdca26"
             ],
             [
              1,
              "#f0f921"
             ]
            ],
            "type": "heatmap"
           }
          ],
          "histogram": [
           {
            "marker": {
             "pattern": {
              "fillmode": "overlay",
              "size": 10,
              "solidity": 0.2
             }
            },
            "type": "histogram"
           }
          ],
          "histogram2d": [
           {
            "colorbar": {
             "outlinewidth": 0,
             "ticks": ""
            },
            "colorscale": [
             [
              0,
              "#0d0887"
             ],
             [
              0.1111111111111111,
              "#46039f"
             ],
             [
              0.2222222222222222,
              "#7201a8"
             ],
             [
              0.3333333333333333,
              "#9c179e"
             ],
             [
              0.4444444444444444,
              "#bd3786"
             ],
             [
              0.5555555555555556,
              "#d8576b"
             ],
             [
              0.6666666666666666,
              "#ed7953"
             ],
             [
              0.7777777777777778,
              "#fb9f3a"
             ],
             [
              0.8888888888888888,
              "#fdca26"
             ],
             [
              1,
              "#f0f921"
             ]
            ],
            "type": "histogram2d"
           }
          ],
          "histogram2dcontour": [
           {
            "colorbar": {
             "outlinewidth": 0,
             "ticks": ""
            },
            "colorscale": [
             [
              0,
              "#0d0887"
             ],
             [
              0.1111111111111111,
              "#46039f"
             ],
             [
              0.2222222222222222,
              "#7201a8"
             ],
             [
              0.3333333333333333,
              "#9c179e"
             ],
             [
              0.4444444444444444,
              "#bd3786"
             ],
             [
              0.5555555555555556,
              "#d8576b"
             ],
             [
              0.6666666666666666,
              "#ed7953"
             ],
             [
              0.7777777777777778,
              "#fb9f3a"
             ],
             [
              0.8888888888888888,
              "#fdca26"
             ],
             [
              1,
              "#f0f921"
             ]
            ],
            "type": "histogram2dcontour"
           }
          ],
          "mesh3d": [
           {
            "colorbar": {
             "outlinewidth": 0,
             "ticks": ""
            },
            "type": "mesh3d"
           }
          ],
          "parcoords": [
           {
            "line": {
             "colorbar": {
              "outlinewidth": 0,
              "ticks": ""
             }
            },
            "type": "parcoords"
           }
          ],
          "pie": [
           {
            "automargin": true,
            "type": "pie"
           }
          ],
          "scatter": [
           {
            "fillpattern": {
             "fillmode": "overlay",
             "size": 10,
             "solidity": 0.2
            },
            "type": "scatter"
           }
          ],
          "scatter3d": [
           {
            "line": {
             "colorbar": {
              "outlinewidth": 0,
              "ticks": ""
             }
            },
            "marker": {
             "colorbar": {
              "outlinewidth": 0,
              "ticks": ""
             }
            },
            "type": "scatter3d"
           }
          ],
          "scattercarpet": [
           {
            "marker": {
             "colorbar": {
              "outlinewidth": 0,
              "ticks": ""
             }
            },
            "type": "scattercarpet"
           }
          ],
          "scattergeo": [
           {
            "marker": {
             "colorbar": {
              "outlinewidth": 0,
              "ticks": ""
             }
            },
            "type": "scattergeo"
           }
          ],
          "scattergl": [
           {
            "marker": {
             "colorbar": {
              "outlinewidth": 0,
              "ticks": ""
             }
            },
            "type": "scattergl"
           }
          ],
          "scattermap": [
           {
            "marker": {
             "colorbar": {
              "outlinewidth": 0,
              "ticks": ""
             }
            },
            "type": "scattermap"
           }
          ],
          "scattermapbox": [
           {
            "marker": {
             "colorbar": {
              "outlinewidth": 0,
              "ticks": ""
             }
            },
            "type": "scattermapbox"
           }
          ],
          "scatterpolar": [
           {
            "marker": {
             "colorbar": {
              "outlinewidth": 0,
              "ticks": ""
             }
            },
            "type": "scatterpolar"
           }
          ],
          "scatterpolargl": [
           {
            "marker": {
             "colorbar": {
              "outlinewidth": 0,
              "ticks": ""
             }
            },
            "type": "scatterpolargl"
           }
          ],
          "scatterternary": [
           {
            "marker": {
             "colorbar": {
              "outlinewidth": 0,
              "ticks": ""
             }
            },
            "type": "scatterternary"
           }
          ],
          "surface": [
           {
            "colorbar": {
             "outlinewidth": 0,
             "ticks": ""
            },
            "colorscale": [
             [
              0,
              "#0d0887"
             ],
             [
              0.1111111111111111,
              "#46039f"
             ],
             [
              0.2222222222222222,
              "#7201a8"
             ],
             [
              0.3333333333333333,
              "#9c179e"
             ],
             [
              0.4444444444444444,
              "#bd3786"
             ],
             [
              0.5555555555555556,
              "#d8576b"
             ],
             [
              0.6666666666666666,
              "#ed7953"
             ],
             [
              0.7777777777777778,
              "#fb9f3a"
             ],
             [
              0.8888888888888888,
              "#fdca26"
             ],
             [
              1,
              "#f0f921"
             ]
            ],
            "type": "surface"
           }
          ],
          "table": [
           {
            "cells": {
             "fill": {
              "color": "#EBF0F8"
             },
             "line": {
              "color": "white"
             }
            },
            "header": {
             "fill": {
              "color": "#C8D4E3"
             },
             "line": {
              "color": "white"
             }
            },
            "type": "table"
           }
          ]
         },
         "layout": {
          "annotationdefaults": {
           "arrowcolor": "#2a3f5f",
           "arrowhead": 0,
           "arrowwidth": 1
          },
          "autotypenumbers": "strict",
          "coloraxis": {
           "colorbar": {
            "outlinewidth": 0,
            "ticks": ""
           }
          },
          "colorscale": {
           "diverging": [
            [
             0,
             "#8e0152"
            ],
            [
             0.1,
             "#c51b7d"
            ],
            [
             0.2,
             "#de77ae"
            ],
            [
             0.3,
             "#f1b6da"
            ],
            [
             0.4,
             "#fde0ef"
            ],
            [
             0.5,
             "#f7f7f7"
            ],
            [
             0.6,
             "#e6f5d0"
            ],
            [
             0.7,
             "#b8e186"
            ],
            [
             0.8,
             "#7fbc41"
            ],
            [
             0.9,
             "#4d9221"
            ],
            [
             1,
             "#276419"
            ]
           ],
           "sequential": [
            [
             0,
             "#0d0887"
            ],
            [
             0.1111111111111111,
             "#46039f"
            ],
            [
             0.2222222222222222,
             "#7201a8"
            ],
            [
             0.3333333333333333,
             "#9c179e"
            ],
            [
             0.4444444444444444,
             "#bd3786"
            ],
            [
             0.5555555555555556,
             "#d8576b"
            ],
            [
             0.6666666666666666,
             "#ed7953"
            ],
            [
             0.7777777777777778,
             "#fb9f3a"
            ],
            [
             0.8888888888888888,
             "#fdca26"
            ],
            [
             1,
             "#f0f921"
            ]
           ],
           "sequentialminus": [
            [
             0,
             "#0d0887"
            ],
            [
             0.1111111111111111,
             "#46039f"
            ],
            [
             0.2222222222222222,
             "#7201a8"
            ],
            [
             0.3333333333333333,
             "#9c179e"
            ],
            [
             0.4444444444444444,
             "#bd3786"
            ],
            [
             0.5555555555555556,
             "#d8576b"
            ],
            [
             0.6666666666666666,
             "#ed7953"
            ],
            [
             0.7777777777777778,
             "#fb9f3a"
            ],
            [
             0.8888888888888888,
             "#fdca26"
            ],
            [
             1,
             "#f0f921"
            ]
           ]
          },
          "colorway": [
           "#636efa",
           "#EF553B",
           "#00cc96",
           "#ab63fa",
           "#FFA15A",
           "#19d3f3",
           "#FF6692",
           "#B6E880",
           "#FF97FF",
           "#FECB52"
          ],
          "font": {
           "color": "#2a3f5f"
          },
          "geo": {
           "bgcolor": "white",
           "lakecolor": "white",
           "landcolor": "#E5ECF6",
           "showlakes": true,
           "showland": true,
           "subunitcolor": "white"
          },
          "hoverlabel": {
           "align": "left"
          },
          "hovermode": "closest",
          "mapbox": {
           "style": "light"
          },
          "paper_bgcolor": "white",
          "plot_bgcolor": "#E5ECF6",
          "polar": {
           "angularaxis": {
            "gridcolor": "white",
            "linecolor": "white",
            "ticks": ""
           },
           "bgcolor": "#E5ECF6",
           "radialaxis": {
            "gridcolor": "white",
            "linecolor": "white",
            "ticks": ""
           }
          },
          "scene": {
           "xaxis": {
            "backgroundcolor": "#E5ECF6",
            "gridcolor": "white",
            "gridwidth": 2,
            "linecolor": "white",
            "showbackground": true,
            "ticks": "",
            "zerolinecolor": "white"
           },
           "yaxis": {
            "backgroundcolor": "#E5ECF6",
            "gridcolor": "white",
            "gridwidth": 2,
            "linecolor": "white",
            "showbackground": true,
            "ticks": "",
            "zerolinecolor": "white"
           },
           "zaxis": {
            "backgroundcolor": "#E5ECF6",
            "gridcolor": "white",
            "gridwidth": 2,
            "linecolor": "white",
            "showbackground": true,
            "ticks": "",
            "zerolinecolor": "white"
           }
          },
          "shapedefaults": {
           "line": {
            "color": "#2a3f5f"
           }
          },
          "ternary": {
           "aaxis": {
            "gridcolor": "white",
            "linecolor": "white",
            "ticks": ""
           },
           "baxis": {
            "gridcolor": "white",
            "linecolor": "white",
            "ticks": ""
           },
           "bgcolor": "#E5ECF6",
           "caxis": {
            "gridcolor": "white",
            "linecolor": "white",
            "ticks": ""
           }
          },
          "title": {
           "x": 0.05
          },
          "xaxis": {
           "automargin": true,
           "gridcolor": "white",
           "linecolor": "white",
           "ticks": "",
           "title": {
            "standoff": 15
           },
           "zerolinecolor": "white",
           "zerolinewidth": 2
          },
          "yaxis": {
           "automargin": true,
           "gridcolor": "white",
           "linecolor": "white",
           "ticks": "",
           "title": {
            "standoff": 15
           },
           "zerolinecolor": "white",
           "zerolinewidth": 2
          }
         }
        },
        "title": {
         "text": "Predictions and Actuals"
        },
        "xaxis": {
         "title": {
          "text": "Time Step"
         }
        },
        "yaxis": {
         "range": [
          0,
          104125.65695381165
         ],
         "title": {
          "text": "Values"
         }
        }
       }
      }
     },
     "metadata": {},
     "output_type": "display_data"
    }
   ],
   "source": [
    "fig2.show()"
   ]
  },
  {
   "cell_type": "code",
   "execution_count": 37,
   "metadata": {},
   "outputs": [
    {
     "data": {
      "application/vnd.plotly.v1+json": {
       "config": {
        "plotlyServerURL": "https://plot.ly"
       },
       "data": [
        {
         "line": {
          "dash": "dash"
         },
         "mode": "lines",
         "name": "Preds Trace 1",
         "type": "scatter",
         "visible": true,
         "x": {
          "bdata": "AAECAwQFBgcICQoLDA0ODxAREhM=",
          "dtype": "i1"
         },
         "y": {
          "bdata": "AAAAAAAAAAAAAAAAAAAAAAAAAAAAAAAAAAAAAAAAAAAAAAAAAAAAAAAAAAAAAAAAAAAAAAAAAAAAAAAAAAAAAAAAAAAAAAAAAAAAAAAAAAAAAAAAAAAAAAAAAAAAAAAAAAAAAAAAAAAAAAAAAAAAAAAAAAAAAAAAAAAAAAAAAAAAAAAAAAAAAAAAAAAAAAAAAAAAAAAAAAAAAAAAAAAAAA==",
          "dtype": "f8"
         }
        },
        {
         "line": {
          "dash": "dash"
         },
         "mode": "lines",
         "name": "Preds Trace 2",
         "type": "scatter",
         "visible": false,
         "x": {
          "bdata": "AAECAwQFBgcICQoLDA0ODxAREhM=",
          "dtype": "i1"
         },
         "y": {
          "bdata": "AAAAAAAAAAAAAAAAAAAAAAAAAAAAAAAAAAAAAAAAAAAAAAAAAAAAAAAAAAAAAAAAAAAAAAAAAAAAAAAAAAAAAAAAAAAAAAAAAAAAAAAAAAAAAAAAAAAAAAAAAAAAAAAAAAAAAAAAAAAAAAAAAAAAAAAAAAAAAAAAAAAAAAAAAAAAAAAAAAAAAAAAAAAAAAAAAAAAAAAAAAAAAAAAAAAAAA==",
          "dtype": "f8"
         }
        },
        {
         "line": {
          "dash": "dash"
         },
         "mode": "lines",
         "name": "Preds Trace 3",
         "type": "scatter",
         "visible": false,
         "x": {
          "bdata": "AAECAwQFBgcICQoLDA0ODxAREhM=",
          "dtype": "i1"
         },
         "y": {
          "bdata": "AAAAAAAAAAAAAAAAAAAAAAAAAAAAAAAAAAAAAAAAAAAAAAAAAAAAAAAAAAAAAAAAAAAAAAAAAAAAAAAAAAAAAAAAAAAAAAAAAAAAAAAAAAAAAAAAAAAAAAAAAAAAAAAAAAAAAAAAAAAAAAAAAAAAAAAAAAAAAAAAAAAAAAAAAAAAAAAAAAAAAAAAAAAAAAAAAAAAAAAAAAAAAAAAAAAAAA==",
          "dtype": "f8"
         }
        },
        {
         "line": {
          "dash": "dash"
         },
         "mode": "lines",
         "name": "Preds Trace 4",
         "type": "scatter",
         "visible": false,
         "x": {
          "bdata": "AAECAwQFBgcICQoLDA0ODxAREhM=",
          "dtype": "i1"
         },
         "y": {
          "bdata": "AAAAAAAAAAAAAAAAAAAAAAAAAAAAAAAAAAAAAAAAAAAAAAAAAAAAAAAAAAAAAAAAAAAAAAAAAAAAAAAAAAAAAAAAAAAAAAAAAAAAAAAAAAAAAAAAAAAAAAAAAAAAAAAAAAAAAAAAAAAAAAAAAAAAAAAAAAAAAAAAAAAAAAAAAAAAAAAAAAAAAAAAAAAAAAAAAAAAAAAAAAAAAAAAAAAAAA==",
          "dtype": "f8"
         }
        },
        {
         "line": {
          "dash": "dash"
         },
         "mode": "lines",
         "name": "Preds Trace 5",
         "type": "scatter",
         "visible": false,
         "x": {
          "bdata": "AAECAwQFBgcICQoLDA0ODxAREhM=",
          "dtype": "i1"
         },
         "y": {
          "bdata": "AAAAAAAAAAAAAAAAAAAAAAAAAAAAAAAAAAAAAAAAAAAAAAAAAAAAAAAAAAAAAAAAAAAAAAAAAAAAAAAAAAAAAAAAAAAAAAAAAAAAAAAAAAAAAAAAAAAAAAAAAAAAAAAAAAAAAAAAAAAAAAAAAAAAAAAAAAAAAAAAAAAAAAAAAAAAAAAAAAAAAAAAAAAAAAAAAAAAAAAAAAAAAAAAAAAAAA==",
          "dtype": "f8"
         }
        },
        {
         "line": {
          "dash": "dash"
         },
         "mode": "lines",
         "name": "Preds Trace 6",
         "type": "scatter",
         "visible": false,
         "x": {
          "bdata": "AAECAwQFBgcICQoLDA0ODxAREhM=",
          "dtype": "i1"
         },
         "y": {
          "bdata": "AAAAAAAAAAAAAAAAAAAAAAAAAAAAAAAAAAAAAAAAAAAAAAAAAAAAAAAAQryLFHlAAAAXjphzikAAgMGorv2aQADARUwrAaNAAGCQynfquUAAmMZJ1HDUQADMDebrOexAAOb4X90//0AA80WH4n0NQYAZkjmPXxhBwNybpfQeIkHAjjLi96goQcAOM1gPAC9BIF+mfWIzMkEgN+l0IRo0QQ==",
          "dtype": "f8"
         }
        },
        {
         "line": {
          "dash": "dash"
         },
         "mode": "lines",
         "name": "Preds Trace 7",
         "type": "scatter",
         "visible": false,
         "x": {
          "bdata": "AAECAwQFBgcICQoLDA0ODxAREhM=",
          "dtype": "i1"
         },
         "y": {
          "bdata": "AAAAAAAAAAAAAAAAAAAAAAAAAAAAAAAAAAAAAAAAAAAAAAAAAAAAAAAAAAAAgFxAAACsJ3VagUAAAMqha2iWQAAAIwWvvaBAAMCnM43wuEAAcKPpaVbUQAA4iUbRUOxAALx6rf5f/0AA3tM6DJQNQQBv+1s7aRhBgNfphxMgIkGA9xiehKMoQYB3vd//8i5BwNskUO0oMkHAq2MJgww0QQ==",
          "dtype": "f8"
         }
        },
        {
         "line": {
          "dash": "dash"
         },
         "mode": "lines",
         "name": "Preds Trace 8",
         "type": "scatter",
         "visible": false,
         "x": {
          "bdata": "AAECAwQFBgcICQoLDA0ODxAREhM=",
          "dtype": "i1"
         },
         "y": {
          "bdata": "AAAAAAAAAAAAAAAAAAAAAAAAAAAAAAAAAAAAAAAAAAAAAAAAAAAAAAAAAAAAgFxAAAAABILVh0AAgIyj5KuZQABAyZBJh6JAACDMu8Z/ukAAiKkCPl/VQACEgOBekO1AAGFTL1RDAEEAYd2HZ3QOQYAwxdxn+xhBQDLRRI90IkFAkqyNDvwoQUCyl7bKSi9BIA/aSlRTMkEg1280lDU0QQ==",
          "dtype": "f8"
         }
        },
        {
         "line": {
          "dash": "dash"
         },
         "mode": "lines",
         "name": "Preds Trace 9",
         "type": "scatter",
         "visible": false,
         "x": {
          "bdata": "AAECAwQFBgcICQoLDA0ODxAREhM=",
          "dtype": "i1"
         },
         "y": {
          "bdata": "AAAAAAAAAAAAAAAAAAAAAAAAAAAAAAAAAAAAAAAAAAAAAAAAAAAAAAAAAAAAgFxAAAAABILVh0AAAMCqa/yeQACAHl2TsqVAAECtrogkvkAAUBhnjGHYQAAU/HObwvBAAAq6IMwqAkEAWQ8P87oQQQBZByKDARtBgExEf1+rI0GAHEeMeFAqQUDq3t5HVjBBQCpXaBkHM0FAbBOGWOs0QQ==",
          "dtype": "f8"
         }
        },
        {
         "line": {
          "dash": "dash"
         },
         "mode": "lines",
         "name": "Preds Trace 10",
         "type": "scatter",
         "visible": false,
         "x": {
          "bdata": "AAECAwQFBgcICQoLDA0ODxAREhM=",
          "dtype": "i1"
         },
         "y": {
          "bdata": "AAAAAAAAAAAAAAAAAAAAAAAAAAAAAAAAAAAAAAAAAAAAAAAAAAAAAAAAAAAAgFxAAAAABILVh0AAAMCqa/yeQAAAAJDoHbZAAIDwTkkxyUAAgEFHlHnjQADALnFpGvpAAGAyNwUvC0EAMPcLxeoXQQCYMEHsZCJBAJg8PeebKUEA7OzEj3MwQQDUT3XCzTNBADqQYWSYNkEAEj+lL5A4QQ==",
          "dtype": "f8"
         }
        },
        {
         "line": {
          "dash": "dash"
         },
         "mode": "lines",
         "name": "Preds Trace 11",
         "type": "scatter",
         "visible": false,
         "x": {
          "bdata": "AAECAwQFBgcICQoLDA0ODxAREhM=",
          "dtype": "i1"
         },
         "y": {
          "bdata": "AAAAAAAAAAAAAAAAAAAAAAAAAAAAAAAAAAAAAAAAAAAAAAAAAAAAAAAAAAAAgFxAAAAABILVh0AAAMCqa/yeQAAAAJDoHbZAAAAo9Uo+yEAAEMye2bTjQAAIgCYEu/pAAIRDxprkC0EAwp8hiYYYQQAhRM3V1iJBAKHlIFYwKkGA6DxmrcswQYAQT+VfMDRBgJi2uJACN0GA+LVfDwA5QQ==",
          "dtype": "f8"
         }
        },
        {
         "line": {
          "dash": "dash"
         },
         "mode": "lines",
         "name": "Preds Trace 12",
         "type": "scatter",
         "visible": false,
         "x": {
          "bdata": "AAECAwQFBgcICQoLDA0ODxAREhM=",
          "dtype": "i1"
         },
         "y": {
          "bdata": "AAAAAAAAAAAAAAAAAAAAAAAAAAAAAAAAAAAAAAAAAAAAAAAAAAAAAAAAAAAAgFxAAAAABILVh0AAAMCqa/yeQAAAAJDoHbZAAAAo9Uo+yEAAgFjlyyffQABA90kU5PZAAKBXcFWSCEEAEGoZAv0VQQCIgAlSKSFBAJjaxBo1KEEAuMUX9XYvQQDExZLcGzNBAAQo7I/uNUEAzKU4Puw3QQ==",
          "dtype": "f8"
         }
        },
        {
         "line": {
          "dash": "dash"
         },
         "mode": "lines",
         "name": "Preds Trace 13",
         "type": "scatter",
         "visible": false,
         "x": {
          "bdata": "AAECAwQFBgcICQoLDA0ODxAREhM=",
          "dtype": "i1"
         },
         "y": {
          "bdata": "AAAAAAAAAAAAAAAAAAAAAAAAAAAAAAAAAAAAAAAAAAAAAAAAAAAAAAAAAAAAgFxAAAAABILVh0AAAMCqa/yeQAAAAJDoHbZAAAAo9Uo+yEAAgFjlyyffQADgvE7yHvJAADCkVpsvAUEAMAVxiIAOQQAo91wIuhhBAPSQ3e1PIkEAFGJcwvUoQQA0eZuOdC9BAAbOyxV+MkEAJi6Sd3A0QQ==",
          "dtype": "f8"
         }
        },
        {
         "line": {
          "dash": "dash"
         },
         "mode": "lines",
         "name": "Preds Trace 14",
         "type": "scatter",
         "visible": false,
         "x": {
          "bdata": "AAECAwQFBgcICQoLDA0ODxAREhM=",
          "dtype": "i1"
         },
         "y": {
          "bdata": "AAAAAAAAAAAAAAAAAAAAAAAAAAAAAAAAAAAAAAAAAAAAAAAAAAAAAAAAAAAAgFxAAAAABILVh0AAAMCqa/yeQAAAAJDoHbZAAAAo9Uo+yEAAgFjlyyffQADgvE7yHvJAADBxVRB6AkEAELi+UhkPQQAIcnEonxhBAITGb6sPIkEAoAWvGowoQQBgOiHM6i5BAFiQl2srMkEAsFWssxI0QQ==",
          "dtype": "f8"
         }
        },
        {
         "line": {
          "dash": "dash"
         },
         "mode": "lines",
         "name": "Preds Trace 15",
         "type": "scatter",
         "visible": false,
         "x": {
          "bdata": "AAECAwQFBgcICQoLDA0ODxAREhM=",
          "dtype": "i1"
         },
         "y": {
          "bdata": "AAAAAAAAAAAAAAAAAAAAAAAAAAAAAAAAAAAAAAAAAAAAAAAAAAAAAAAAAAAAgFxAAAAABILVh0AAAMCqa/yeQAAAAJDoHbZAAAAo9Uo+yEAAgFjlyyffQADgvE7yHvJAADBxVRB6AkEAcA+dQ9YPQQDID5TY2RhBAKz4q3MXIkGAraQ4GH8oQYDN/Aonyy5BwGbkzMISMkHAZmB84PIzQQ==",
          "dtype": "f8"
         }
        },
        {
         "line": {
          "dash": "dash"
         },
         "mode": "lines",
         "name": "Preds Trace 16",
         "type": "scatter",
         "visible": false,
         "x": {
          "bdata": "AAECAwQFBgcICQoLDA0ODxAREhM=",
          "dtype": "i1"
         },
         "y": {
          "bdata": "AAAAAAAAAAAAAAAAAAAAAAAAAAAAAAAAAAAAAAAAAAAAAAAAAAAAAAAAAAAAgFxAAAAABILVh0AAAMCqa/yeQAAAAJDoHbZAAAAo9Uo+yEAAgFjlyyffQADgvE7yHvJAADBxVRB6AkEAcA+dQ9YPQQC4TmrFFhlBAJwgnmZSIkEAfCOtFs0oQQA89vYVJC9BALzSqWpCMkEAnGXzQiQ0QQ==",
          "dtype": "f8"
         }
        },
        {
         "line": {
          "dash": "dash"
         },
         "mode": "lines",
         "name": "Preds Trace 17",
         "type": "scatter",
         "visible": false,
         "x": {
          "bdata": "AAECAwQFBgcICQoLDA0ODxAREhM=",
          "dtype": "i1"
         },
         "y": {
          "bdata": "AAAAAAAAAAAAAAAAAAAAAAAAAAAAAAAAAAAAAAAAAAAAAAAAAAAAAAAAAAAAgFxAAAAABILVh0AAAMCqa/yeQAAAAJDoHbZAAAAo9Uo+yEAAgFjlyyffQADgvE7yHvJAADBxVRB6AkEAcA+dQ9YPQQC4TmrFFhlBAFwAccuyIUEAPNhUTT4oQQA8ZKFaoC5BAFbE2WkEMkEABpQOtOgzQQ==",
          "dtype": "f8"
         }
        },
        {
         "line": {
          "dash": "dash"
         },
         "mode": "lines",
         "name": "Preds Trace 18",
         "type": "scatter",
         "visible": false,
         "x": {
          "bdata": "AAECAwQFBgcICQoLDA0ODxAREhM=",
          "dtype": "i1"
         },
         "y": {
          "bdata": "AAAAAAAAAAAAAAAAAAAAAAAAAAAAAAAAAAAAAAAAAAAAAAAAAAAAAAAAAAAAgFxAAAAABILVh0AAAMCqa/yeQAAAAJDoHbZAAAAo9Uo+yEAAgFjlyyffQADgvE7yHvJAADBxVRB6AkEAcA+dQ9YPQQC4TmrFFhlBAFwAccuyIUEA3Pp3fhQnQQB82/Ugdi1BAGbO64FvMUEA5mx3plMzQQ==",
          "dtype": "f8"
         }
        },
        {
         "line": {
          "dash": "dash"
         },
         "mode": "lines",
         "name": "Preds Trace 19",
         "type": "scatter",
         "visible": false,
         "x": {
          "bdata": "AAECAwQFBgcICQoLDA0ODxAREhM=",
          "dtype": "i1"
         },
         "y": {
          "bdata": "AAAAAAAAAAAAAAAAAAAAAAAAAAAAAAAAAAAAAAAAAAAAAAAAAAAAAAAAAAAAgFxAAAAABILVh0AAAMCqa/yeQAAAAJDoHbZAAAAo9Uo+yEAAgFjlyyffQADgvE7yHvJAADBxVRB6AkEAcA+dQ9YPQQC4TmrFFhlBAFwAccuyIUEA3Pp3fhQnQQBc/Mh97StBAJYlmQWtMEEAlrqFmpIyQQ==",
          "dtype": "f8"
         }
        },
        {
         "line": {
          "dash": "dash"
         },
         "mode": "lines",
         "name": "Preds Trace 20",
         "type": "scatter",
         "visible": false,
         "x": {
          "bdata": "AAECAwQFBgcICQoLDA0ODxAREhM=",
          "dtype": "i1"
         },
         "y": {
          "bdata": "AAAAAAAAAAAAAAAAAAAAAAAAAAAAAAAAAAAAAAAAAAAAAAAAAAAAAAAAAAAAgFxAAAAABILVh0AAAMCqa/yeQAAAAJDoHbZAAAAo9Uo+yEAAgFjlyyffQADgvE7yHvJAADBxVRB6AkEAcA+dQ9YPQQC4TmrFFhlBAFwAccuyIUEA3Pp3fhQnQQBc/Mh97StBAMJTL09AMEEA4kD6GSgyQQ==",
          "dtype": "f8"
         }
        },
        {
         "line": {
          "color": "red",
          "dash": "solid"
         },
         "mode": "lines",
         "name": "Actuals",
         "type": "scatter",
         "x": {
          "bdata": "AAECAwQFBgcICQoLDA0ODxAREhM=",
          "dtype": "i1"
         },
         "y": {
          "bdata": "AAAAAAAAAAAAAAAAAAAAAAAAAAAAAORCEKw+RF3j90RE77BFWPJBRl4++UaT95BHg9ATSB2yfkgrtshIXJYNSfSjOEnva19JegKCSWCHkkk=",
          "dtype": "f4"
         }
        }
       ],
       "layout": {
        "sliders": [
         {
          "active": 0,
          "currentvalue": {
           "prefix": "Trace: "
          },
          "pad": {
           "t": 20
          },
          "steps": [
           {
            "args": [
             {
              "visible": [
               true,
               false,
               false,
               false,
               false,
               false,
               false,
               false,
               false,
               false,
               false,
               false,
               false,
               false,
               false,
               false,
               false,
               false,
               false,
               false,
               true
              ]
             }
            ],
            "label": "Preds Trace 1",
            "method": "update"
           },
           {
            "args": [
             {
              "visible": [
               false,
               true,
               false,
               false,
               false,
               false,
               false,
               false,
               false,
               false,
               false,
               false,
               false,
               false,
               false,
               false,
               false,
               false,
               false,
               false,
               true
              ]
             }
            ],
            "label": "Preds Trace 2",
            "method": "update"
           },
           {
            "args": [
             {
              "visible": [
               false,
               false,
               true,
               false,
               false,
               false,
               false,
               false,
               false,
               false,
               false,
               false,
               false,
               false,
               false,
               false,
               false,
               false,
               false,
               false,
               true
              ]
             }
            ],
            "label": "Preds Trace 3",
            "method": "update"
           },
           {
            "args": [
             {
              "visible": [
               false,
               false,
               false,
               true,
               false,
               false,
               false,
               false,
               false,
               false,
               false,
               false,
               false,
               false,
               false,
               false,
               false,
               false,
               false,
               false,
               true
              ]
             }
            ],
            "label": "Preds Trace 4",
            "method": "update"
           },
           {
            "args": [
             {
              "visible": [
               false,
               false,
               false,
               false,
               true,
               false,
               false,
               false,
               false,
               false,
               false,
               false,
               false,
               false,
               false,
               false,
               false,
               false,
               false,
               false,
               true
              ]
             }
            ],
            "label": "Preds Trace 5",
            "method": "update"
           },
           {
            "args": [
             {
              "visible": [
               false,
               false,
               false,
               false,
               false,
               true,
               false,
               false,
               false,
               false,
               false,
               false,
               false,
               false,
               false,
               false,
               false,
               false,
               false,
               false,
               true
              ]
             }
            ],
            "label": "Preds Trace 6",
            "method": "update"
           },
           {
            "args": [
             {
              "visible": [
               false,
               false,
               false,
               false,
               false,
               false,
               true,
               false,
               false,
               false,
               false,
               false,
               false,
               false,
               false,
               false,
               false,
               false,
               false,
               false,
               true
              ]
             }
            ],
            "label": "Preds Trace 7",
            "method": "update"
           },
           {
            "args": [
             {
              "visible": [
               false,
               false,
               false,
               false,
               false,
               false,
               false,
               true,
               false,
               false,
               false,
               false,
               false,
               false,
               false,
               false,
               false,
               false,
               false,
               false,
               true
              ]
             }
            ],
            "label": "Preds Trace 8",
            "method": "update"
           },
           {
            "args": [
             {
              "visible": [
               false,
               false,
               false,
               false,
               false,
               false,
               false,
               false,
               true,
               false,
               false,
               false,
               false,
               false,
               false,
               false,
               false,
               false,
               false,
               false,
               true
              ]
             }
            ],
            "label": "Preds Trace 9",
            "method": "update"
           },
           {
            "args": [
             {
              "visible": [
               false,
               false,
               false,
               false,
               false,
               false,
               false,
               false,
               false,
               true,
               false,
               false,
               false,
               false,
               false,
               false,
               false,
               false,
               false,
               false,
               true
              ]
             }
            ],
            "label": "Preds Trace 10",
            "method": "update"
           },
           {
            "args": [
             {
              "visible": [
               false,
               false,
               false,
               false,
               false,
               false,
               false,
               false,
               false,
               false,
               true,
               false,
               false,
               false,
               false,
               false,
               false,
               false,
               false,
               false,
               true
              ]
             }
            ],
            "label": "Preds Trace 11",
            "method": "update"
           },
           {
            "args": [
             {
              "visible": [
               false,
               false,
               false,
               false,
               false,
               false,
               false,
               false,
               false,
               false,
               false,
               true,
               false,
               false,
               false,
               false,
               false,
               false,
               false,
               false,
               true
              ]
             }
            ],
            "label": "Preds Trace 12",
            "method": "update"
           },
           {
            "args": [
             {
              "visible": [
               false,
               false,
               false,
               false,
               false,
               false,
               false,
               false,
               false,
               false,
               false,
               false,
               true,
               false,
               false,
               false,
               false,
               false,
               false,
               false,
               true
              ]
             }
            ],
            "label": "Preds Trace 13",
            "method": "update"
           },
           {
            "args": [
             {
              "visible": [
               false,
               false,
               false,
               false,
               false,
               false,
               false,
               false,
               false,
               false,
               false,
               false,
               false,
               true,
               false,
               false,
               false,
               false,
               false,
               false,
               true
              ]
             }
            ],
            "label": "Preds Trace 14",
            "method": "update"
           },
           {
            "args": [
             {
              "visible": [
               false,
               false,
               false,
               false,
               false,
               false,
               false,
               false,
               false,
               false,
               false,
               false,
               false,
               false,
               true,
               false,
               false,
               false,
               false,
               false,
               true
              ]
             }
            ],
            "label": "Preds Trace 15",
            "method": "update"
           },
           {
            "args": [
             {
              "visible": [
               false,
               false,
               false,
               false,
               false,
               false,
               false,
               false,
               false,
               false,
               false,
               false,
               false,
               false,
               false,
               true,
               false,
               false,
               false,
               false,
               true
              ]
             }
            ],
            "label": "Preds Trace 16",
            "method": "update"
           },
           {
            "args": [
             {
              "visible": [
               false,
               false,
               false,
               false,
               false,
               false,
               false,
               false,
               false,
               false,
               false,
               false,
               false,
               false,
               false,
               false,
               true,
               false,
               false,
               false,
               true
              ]
             }
            ],
            "label": "Preds Trace 17",
            "method": "update"
           },
           {
            "args": [
             {
              "visible": [
               false,
               false,
               false,
               false,
               false,
               false,
               false,
               false,
               false,
               false,
               false,
               false,
               false,
               false,
               false,
               false,
               false,
               true,
               false,
               false,
               true
              ]
             }
            ],
            "label": "Preds Trace 18",
            "method": "update"
           },
           {
            "args": [
             {
              "visible": [
               false,
               false,
               false,
               false,
               false,
               false,
               false,
               false,
               false,
               false,
               false,
               false,
               false,
               false,
               false,
               false,
               false,
               false,
               true,
               false,
               true
              ]
             }
            ],
            "label": "Preds Trace 19",
            "method": "update"
           },
           {
            "args": [
             {
              "visible": [
               false,
               false,
               false,
               false,
               false,
               false,
               false,
               false,
               false,
               false,
               false,
               false,
               false,
               false,
               false,
               false,
               false,
               false,
               false,
               true,
               true
              ]
             }
            ],
            "label": "Preds Trace 20",
            "method": "update"
           }
          ]
         }
        ],
        "template": {
         "data": {
          "bar": [
           {
            "error_x": {
             "color": "#2a3f5f"
            },
            "error_y": {
             "color": "#2a3f5f"
            },
            "marker": {
             "line": {
              "color": "#E5ECF6",
              "width": 0.5
             },
             "pattern": {
              "fillmode": "overlay",
              "size": 10,
              "solidity": 0.2
             }
            },
            "type": "bar"
           }
          ],
          "barpolar": [
           {
            "marker": {
             "line": {
              "color": "#E5ECF6",
              "width": 0.5
             },
             "pattern": {
              "fillmode": "overlay",
              "size": 10,
              "solidity": 0.2
             }
            },
            "type": "barpolar"
           }
          ],
          "carpet": [
           {
            "aaxis": {
             "endlinecolor": "#2a3f5f",
             "gridcolor": "white",
             "linecolor": "white",
             "minorgridcolor": "white",
             "startlinecolor": "#2a3f5f"
            },
            "baxis": {
             "endlinecolor": "#2a3f5f",
             "gridcolor": "white",
             "linecolor": "white",
             "minorgridcolor": "white",
             "startlinecolor": "#2a3f5f"
            },
            "type": "carpet"
           }
          ],
          "choropleth": [
           {
            "colorbar": {
             "outlinewidth": 0,
             "ticks": ""
            },
            "type": "choropleth"
           }
          ],
          "contour": [
           {
            "colorbar": {
             "outlinewidth": 0,
             "ticks": ""
            },
            "colorscale": [
             [
              0,
              "#0d0887"
             ],
             [
              0.1111111111111111,
              "#46039f"
             ],
             [
              0.2222222222222222,
              "#7201a8"
             ],
             [
              0.3333333333333333,
              "#9c179e"
             ],
             [
              0.4444444444444444,
              "#bd3786"
             ],
             [
              0.5555555555555556,
              "#d8576b"
             ],
             [
              0.6666666666666666,
              "#ed7953"
             ],
             [
              0.7777777777777778,
              "#fb9f3a"
             ],
             [
              0.8888888888888888,
              "#fdca26"
             ],
             [
              1,
              "#f0f921"
             ]
            ],
            "type": "contour"
           }
          ],
          "contourcarpet": [
           {
            "colorbar": {
             "outlinewidth": 0,
             "ticks": ""
            },
            "type": "contourcarpet"
           }
          ],
          "heatmap": [
           {
            "colorbar": {
             "outlinewidth": 0,
             "ticks": ""
            },
            "colorscale": [
             [
              0,
              "#0d0887"
             ],
             [
              0.1111111111111111,
              "#46039f"
             ],
             [
              0.2222222222222222,
              "#7201a8"
             ],
             [
              0.3333333333333333,
              "#9c179e"
             ],
             [
              0.4444444444444444,
              "#bd3786"
             ],
             [
              0.5555555555555556,
              "#d8576b"
             ],
             [
              0.6666666666666666,
              "#ed7953"
             ],
             [
              0.7777777777777778,
              "#fb9f3a"
             ],
             [
              0.8888888888888888,
              "#fdca26"
             ],
             [
              1,
              "#f0f921"
             ]
            ],
            "type": "heatmap"
           }
          ],
          "histogram": [
           {
            "marker": {
             "pattern": {
              "fillmode": "overlay",
              "size": 10,
              "solidity": 0.2
             }
            },
            "type": "histogram"
           }
          ],
          "histogram2d": [
           {
            "colorbar": {
             "outlinewidth": 0,
             "ticks": ""
            },
            "colorscale": [
             [
              0,
              "#0d0887"
             ],
             [
              0.1111111111111111,
              "#46039f"
             ],
             [
              0.2222222222222222,
              "#7201a8"
             ],
             [
              0.3333333333333333,
              "#9c179e"
             ],
             [
              0.4444444444444444,
              "#bd3786"
             ],
             [
              0.5555555555555556,
              "#d8576b"
             ],
             [
              0.6666666666666666,
              "#ed7953"
             ],
             [
              0.7777777777777778,
              "#fb9f3a"
             ],
             [
              0.8888888888888888,
              "#fdca26"
             ],
             [
              1,
              "#f0f921"
             ]
            ],
            "type": "histogram2d"
           }
          ],
          "histogram2dcontour": [
           {
            "colorbar": {
             "outlinewidth": 0,
             "ticks": ""
            },
            "colorscale": [
             [
              0,
              "#0d0887"
             ],
             [
              0.1111111111111111,
              "#46039f"
             ],
             [
              0.2222222222222222,
              "#7201a8"
             ],
             [
              0.3333333333333333,
              "#9c179e"
             ],
             [
              0.4444444444444444,
              "#bd3786"
             ],
             [
              0.5555555555555556,
              "#d8576b"
             ],
             [
              0.6666666666666666,
              "#ed7953"
             ],
             [
              0.7777777777777778,
              "#fb9f3a"
             ],
             [
              0.8888888888888888,
              "#fdca26"
             ],
             [
              1,
              "#f0f921"
             ]
            ],
            "type": "histogram2dcontour"
           }
          ],
          "mesh3d": [
           {
            "colorbar": {
             "outlinewidth": 0,
             "ticks": ""
            },
            "type": "mesh3d"
           }
          ],
          "parcoords": [
           {
            "line": {
             "colorbar": {
              "outlinewidth": 0,
              "ticks": ""
             }
            },
            "type": "parcoords"
           }
          ],
          "pie": [
           {
            "automargin": true,
            "type": "pie"
           }
          ],
          "scatter": [
           {
            "fillpattern": {
             "fillmode": "overlay",
             "size": 10,
             "solidity": 0.2
            },
            "type": "scatter"
           }
          ],
          "scatter3d": [
           {
            "line": {
             "colorbar": {
              "outlinewidth": 0,
              "ticks": ""
             }
            },
            "marker": {
             "colorbar": {
              "outlinewidth": 0,
              "ticks": ""
             }
            },
            "type": "scatter3d"
           }
          ],
          "scattercarpet": [
           {
            "marker": {
             "colorbar": {
              "outlinewidth": 0,
              "ticks": ""
             }
            },
            "type": "scattercarpet"
           }
          ],
          "scattergeo": [
           {
            "marker": {
             "colorbar": {
              "outlinewidth": 0,
              "ticks": ""
             }
            },
            "type": "scattergeo"
           }
          ],
          "scattergl": [
           {
            "marker": {
             "colorbar": {
              "outlinewidth": 0,
              "ticks": ""
             }
            },
            "type": "scattergl"
           }
          ],
          "scattermap": [
           {
            "marker": {
             "colorbar": {
              "outlinewidth": 0,
              "ticks": ""
             }
            },
            "type": "scattermap"
           }
          ],
          "scattermapbox": [
           {
            "marker": {
             "colorbar": {
              "outlinewidth": 0,
              "ticks": ""
             }
            },
            "type": "scattermapbox"
           }
          ],
          "scatterpolar": [
           {
            "marker": {
             "colorbar": {
              "outlinewidth": 0,
              "ticks": ""
             }
            },
            "type": "scatterpolar"
           }
          ],
          "scatterpolargl": [
           {
            "marker": {
             "colorbar": {
              "outlinewidth": 0,
              "ticks": ""
             }
            },
            "type": "scatterpolargl"
           }
          ],
          "scatterternary": [
           {
            "marker": {
             "colorbar": {
              "outlinewidth": 0,
              "ticks": ""
             }
            },
            "type": "scatterternary"
           }
          ],
          "surface": [
           {
            "colorbar": {
             "outlinewidth": 0,
             "ticks": ""
            },
            "colorscale": [
             [
              0,
              "#0d0887"
             ],
             [
              0.1111111111111111,
              "#46039f"
             ],
             [
              0.2222222222222222,
              "#7201a8"
             ],
             [
              0.3333333333333333,
              "#9c179e"
             ],
             [
              0.4444444444444444,
              "#bd3786"
             ],
             [
              0.5555555555555556,
              "#d8576b"
             ],
             [
              0.6666666666666666,
              "#ed7953"
             ],
             [
              0.7777777777777778,
              "#fb9f3a"
             ],
             [
              0.8888888888888888,
              "#fdca26"
             ],
             [
              1,
              "#f0f921"
             ]
            ],
            "type": "surface"
           }
          ],
          "table": [
           {
            "cells": {
             "fill": {
              "color": "#EBF0F8"
             },
             "line": {
              "color": "white"
             }
            },
            "header": {
             "fill": {
              "color": "#C8D4E3"
             },
             "line": {
              "color": "white"
             }
            },
            "type": "table"
           }
          ]
         },
         "layout": {
          "annotationdefaults": {
           "arrowcolor": "#2a3f5f",
           "arrowhead": 0,
           "arrowwidth": 1
          },
          "autotypenumbers": "strict",
          "coloraxis": {
           "colorbar": {
            "outlinewidth": 0,
            "ticks": ""
           }
          },
          "colorscale": {
           "diverging": [
            [
             0,
             "#8e0152"
            ],
            [
             0.1,
             "#c51b7d"
            ],
            [
             0.2,
             "#de77ae"
            ],
            [
             0.3,
             "#f1b6da"
            ],
            [
             0.4,
             "#fde0ef"
            ],
            [
             0.5,
             "#f7f7f7"
            ],
            [
             0.6,
             "#e6f5d0"
            ],
            [
             0.7,
             "#b8e186"
            ],
            [
             0.8,
             "#7fbc41"
            ],
            [
             0.9,
             "#4d9221"
            ],
            [
             1,
             "#276419"
            ]
           ],
           "sequential": [
            [
             0,
             "#0d0887"
            ],
            [
             0.1111111111111111,
             "#46039f"
            ],
            [
             0.2222222222222222,
             "#7201a8"
            ],
            [
             0.3333333333333333,
             "#9c179e"
            ],
            [
             0.4444444444444444,
             "#bd3786"
            ],
            [
             0.5555555555555556,
             "#d8576b"
            ],
            [
             0.6666666666666666,
             "#ed7953"
            ],
            [
             0.7777777777777778,
             "#fb9f3a"
            ],
            [
             0.8888888888888888,
             "#fdca26"
            ],
            [
             1,
             "#f0f921"
            ]
           ],
           "sequentialminus": [
            [
             0,
             "#0d0887"
            ],
            [
             0.1111111111111111,
             "#46039f"
            ],
            [
             0.2222222222222222,
             "#7201a8"
            ],
            [
             0.3333333333333333,
             "#9c179e"
            ],
            [
             0.4444444444444444,
             "#bd3786"
            ],
            [
             0.5555555555555556,
             "#d8576b"
            ],
            [
             0.6666666666666666,
             "#ed7953"
            ],
            [
             0.7777777777777778,
             "#fb9f3a"
            ],
            [
             0.8888888888888888,
             "#fdca26"
            ],
            [
             1,
             "#f0f921"
            ]
           ]
          },
          "colorway": [
           "#636efa",
           "#EF553B",
           "#00cc96",
           "#ab63fa",
           "#FFA15A",
           "#19d3f3",
           "#FF6692",
           "#B6E880",
           "#FF97FF",
           "#FECB52"
          ],
          "font": {
           "color": "#2a3f5f"
          },
          "geo": {
           "bgcolor": "white",
           "lakecolor": "white",
           "landcolor": "#E5ECF6",
           "showlakes": true,
           "showland": true,
           "subunitcolor": "white"
          },
          "hoverlabel": {
           "align": "left"
          },
          "hovermode": "closest",
          "mapbox": {
           "style": "light"
          },
          "paper_bgcolor": "white",
          "plot_bgcolor": "#E5ECF6",
          "polar": {
           "angularaxis": {
            "gridcolor": "white",
            "linecolor": "white",
            "ticks": ""
           },
           "bgcolor": "#E5ECF6",
           "radialaxis": {
            "gridcolor": "white",
            "linecolor": "white",
            "ticks": ""
           }
          },
          "scene": {
           "xaxis": {
            "backgroundcolor": "#E5ECF6",
            "gridcolor": "white",
            "gridwidth": 2,
            "linecolor": "white",
            "showbackground": true,
            "ticks": "",
            "zerolinecolor": "white"
           },
           "yaxis": {
            "backgroundcolor": "#E5ECF6",
            "gridcolor": "white",
            "gridwidth": 2,
            "linecolor": "white",
            "showbackground": true,
            "ticks": "",
            "zerolinecolor": "white"
           },
           "zaxis": {
            "backgroundcolor": "#E5ECF6",
            "gridcolor": "white",
            "gridwidth": 2,
            "linecolor": "white",
            "showbackground": true,
            "ticks": "",
            "zerolinecolor": "white"
           }
          },
          "shapedefaults": {
           "line": {
            "color": "#2a3f5f"
           }
          },
          "ternary": {
           "aaxis": {
            "gridcolor": "white",
            "linecolor": "white",
            "ticks": ""
           },
           "baxis": {
            "gridcolor": "white",
            "linecolor": "white",
            "ticks": ""
           },
           "bgcolor": "#E5ECF6",
           "caxis": {
            "gridcolor": "white",
            "linecolor": "white",
            "ticks": ""
           }
          },
          "title": {
           "x": 0.05
          },
          "xaxis": {
           "automargin": true,
           "gridcolor": "white",
           "linecolor": "white",
           "ticks": "",
           "title": {
            "standoff": 15
           },
           "zerolinecolor": "white",
           "zerolinewidth": 2
          },
          "yaxis": {
           "automargin": true,
           "gridcolor": "white",
           "linecolor": "white",
           "ticks": "",
           "title": {
            "standoff": 15
           },
           "zerolinecolor": "white",
           "zerolinewidth": 2
          }
         }
        },
        "title": {
         "text": "Cumulative Sum of Predictions and Actuals"
        },
        "xaxis": {
         "title": {
          "text": "Time Step"
         }
        },
        "yaxis": {
         "title": {
          "text": "Cumulative Values"
         }
        }
       }
      }
     },
     "metadata": {},
     "output_type": "display_data"
    }
   ],
   "source": [
    "fig3.show()"
   ]
  },
  {
   "cell_type": "code",
   "execution_count": 21,
   "metadata": {},
   "outputs": [
    {
     "data": {
      "text/plain": [
       "((139, 20, 20), (139, 20))"
      ]
     },
     "execution_count": 21,
     "metadata": {},
     "output_type": "execute_result"
    }
   ],
   "source": [
    "preds.shape,actuals.shape"
   ]
  },
  {
   "cell_type": "code",
   "execution_count": 38,
   "metadata": {},
   "outputs": [
    {
     "data": {
      "application/vnd.plotly.v1+json": {
       "config": {
        "plotlyServerURL": "https://plot.ly"
       },
       "data": [
        {
         "mode": "lines",
         "name": "Pera Roja Trace 1",
         "stackgroup": "group0",
         "type": "scatter",
         "visible": true,
         "x": {
          "bdata": "AAECAwQFBgcICQoLDA0ODxAREhM=",
          "dtype": "i1"
         },
         "y": {
          "bdata": "AAAAAAAAAAAAAAAAAAAAAAAAAAAAAAAAAAAAAAAAAAAAAAAAAAAAAAAAAAAAAAAAAAAAAAAAAAAAAAAAAAAAAAAAAAAAAAAAAAAAAAAAAAAAAAAAAAAAAAAAAAAAAAAAAAAAAAAAAAAAAAAAAAAAAAAAAAAAAAAAAAAAAAAAAAAAAAAAAAAAAAAAAAAAAAAAAAAAAAAAAAAAAAAAAAAAAA==",
          "dtype": "f8"
         }
        },
        {
         "mode": "lines",
         "name": "Uva Amarilla Trace 1",
         "stackgroup": "group0",
         "type": "scatter",
         "visible": true,
         "x": {
          "bdata": "AAECAwQFBgcICQoLDA0ODxAREhM=",
          "dtype": "i1"
         },
         "y": {
          "bdata": "AAAAAAAAAAAAAAAAAAAAAAAAAAAAAAAAAAAAAAAAAAAAAAAAAAAAAAAAAAAAAAAAAAAAAAAAAAAAAAAAAAAAAAAAAAAAAAAAAAAAAAAAAAAAAAAAAAAAAAAAAAAAAAAAAAAAAAAAAAAAAAAAAAAAAAAAAAAAAAAAAAAAAAAAAAAAAAAAAAAAAAAAAAAAAAAAAAAAAAAAAAAAAAAAAAAAAA==",
          "dtype": "f8"
         }
        },
        {
         "mode": "lines",
         "name": "Pera Roja Trace 2",
         "stackgroup": "group1",
         "type": "scatter",
         "visible": false,
         "x": {
          "bdata": "AAECAwQFBgcICQoLDA0ODxAREhM=",
          "dtype": "i1"
         },
         "y": {
          "bdata": "AAAAAAAAAAAAAAAAAAAAAAAAAAAAAAAAAAAAAAAAAAAAAAAAAAAAAAAAAAAAAAAAAAAAAAAAAAAAAAAAAAAAAAAAAAAAAAAAAAAAAAAAAAAAAAAAAAAAAAAAAAAAAAAAAAAAAAAAAAAAAAAAAAAAAAAAAAAAAAAAAAAAAAAAAAAAAAAAAAAAAAAAAAAAAAAAAAAAAAAAAAAAAAAAAAAAAA==",
          "dtype": "f8"
         }
        },
        {
         "mode": "lines",
         "name": "Uva Amarilla Trace 2",
         "stackgroup": "group1",
         "type": "scatter",
         "visible": false,
         "x": {
          "bdata": "AAECAwQFBgcICQoLDA0ODxAREhM=",
          "dtype": "i1"
         },
         "y": {
          "bdata": "AAAAAAAAAAAAAAAAAAAAAAAAAAAAAAAAAAAAAAAAAAAAAAAAAAAAAAAAAAAAAAAAAAAAAAAAAAAAAAAAAAAAAAAAAAAAAAAAAAAAAAAAAAAAAAAAAAAAAAAAAAAAAAAAAAAAAAAAAAAAAAAAAAAAAAAAAAAAAAAAAAAAAAAAAAAAAAAAAAAAAAAAAAAAAAAAAAAAAAAAAAAAAAAAAAAAAA==",
          "dtype": "f8"
         }
        },
        {
         "mode": "lines",
         "name": "Pera Roja Trace 3",
         "stackgroup": "group2",
         "type": "scatter",
         "visible": false,
         "x": {
          "bdata": "AAECAwQFBgcICQoLDA0ODxAREhM=",
          "dtype": "i1"
         },
         "y": {
          "bdata": "AAAAAAAAAAAAAAAAAAAAAAAAAAAAAAAAAAAAAAAAAAAAAAAAAAAAAAAAAAAAAAAAAAAAAAAAAAAAAAAAAAAAAAAAAAAAAAAAAAAAAAAAAAAAAAAAAAAAAAAAAAAAAAAAAAAAAAAAAAAAAAAAAAAAAAAAAAAAAAAAAAAAAAAAAAAAAAAAAAAAAAAAAAAAAAAAAAAAAAAAAAAAAAAAAAAAAA==",
          "dtype": "f8"
         }
        },
        {
         "mode": "lines",
         "name": "Uva Amarilla Trace 3",
         "stackgroup": "group2",
         "type": "scatter",
         "visible": false,
         "x": {
          "bdata": "AAECAwQFBgcICQoLDA0ODxAREhM=",
          "dtype": "i1"
         },
         "y": {
          "bdata": "AAAAAAAAAAAAAAAAAAAAAAAAAAAAAAAAAAAAAAAAAAAAAAAAAAAAAAAAAAAAAAAAAAAAAAAAAAAAAAAAAAAAAAAAAAAAAAAAAAAAAAAAAAAAAAAAAAAAAAAAAAAAAAAAAAAAAAAAAAAAAAAAAAAAAAAAAAAAAAAAAAAAAAAAAAAAAAAAAAAAAAAAAAAAAAAAAAAAAAAAAAAAAAAAAAAAAA==",
          "dtype": "f8"
         }
        },
        {
         "mode": "lines",
         "name": "Pera Roja Trace 4",
         "stackgroup": "group3",
         "type": "scatter",
         "visible": false,
         "x": {
          "bdata": "AAECAwQFBgcICQoLDA0ODxAREhM=",
          "dtype": "i1"
         },
         "y": {
          "bdata": "AAAAAAAAAAAAAAAAAAAAAAAAAAAAAAAAAAAAAAAAAAAAAAAAAAAAAAAAAAAAAAAAAAAAAAAAAAAAAAAAAAAAAAAAAAAAAAAAAAAAAAAAAAAAAAAAAAAAAAAAAAAAAAAAAAAAAAAAAAAAAAAAAAAAAAAAAAAAAAAAAAAAAAAAAAAAAAAAAAAAAAAAAAAAAAAAAAAAAAAAAAAAAAAAAAAAAA==",
          "dtype": "f8"
         }
        },
        {
         "mode": "lines",
         "name": "Uva Amarilla Trace 4",
         "stackgroup": "group3",
         "type": "scatter",
         "visible": false,
         "x": {
          "bdata": "AAECAwQFBgcICQoLDA0ODxAREhM=",
          "dtype": "i1"
         },
         "y": {
          "bdata": "AAAAAAAAAAAAAAAAAAAAAAAAAAAAAAAAAAAAAAAAAAAAAAAAAAAAAAAAAAAAAAAAAAAAAAAAAAAAAAAAAAAAAAAAAAAAAAAAAAAAAAAAAAAAAAAAAAAAAAAAAAAAAAAAAAAAAAAAAAAAAAAAAAAAAAAAAAAAAAAAAAAAAAAAAAAAAAAAAAAAAAAAAAAAAAAAAAAAAAAAAAAAAAAAAAAAAA==",
          "dtype": "f8"
         }
        },
        {
         "mode": "lines",
         "name": "Pera Roja Trace 5",
         "stackgroup": "group4",
         "type": "scatter",
         "visible": false,
         "x": {
          "bdata": "AAECAwQFBgcICQoLDA0ODxAREhM=",
          "dtype": "i1"
         },
         "y": {
          "bdata": "AAAAAAAAAAAAAAAAAAAAAAAAAAAAAAAAAAAAAAAAAAAAAAAAAAAAAAAAAAAAAAAAAAAAAAAAAAAAAAAAAAAAAAAAAAAAAAAAAAAAAAAAAAAAAAAAAAAAAAAAAAAAAAAAAAAAAAAAAAAAAAAAAAAAAAAAAAAAAAAAAAAAAAAAAAAAAAAAAAAAAAAAAAAAAAAAAAAAAAAAAAAAAAAAAAAAAA==",
          "dtype": "f8"
         }
        },
        {
         "mode": "lines",
         "name": "Uva Amarilla Trace 5",
         "stackgroup": "group4",
         "type": "scatter",
         "visible": false,
         "x": {
          "bdata": "AAECAwQFBgcICQoLDA0ODxAREhM=",
          "dtype": "i1"
         },
         "y": {
          "bdata": "AAAAAAAAAAAAAAAAAAAAAAAAAAAAAAAAAAAAAAAAAAAAAAAAAAAAAAAAAAAAAAAAAAAAAAAAAAAAAAAAAAAAAAAAAAAAAAAAAAAAAAAAAAAAAAAAAAAAAAAAAAAAAAAAAAAAAAAAAAAAAAAAAAAAAAAAAAAAAAAAAAAAAAAAAAAAAAAAAAAAAAAAAAAAAAAAAAAAAAAAAAAAAAAAAAAAAA==",
          "dtype": "f8"
         }
        },
        {
         "mode": "lines",
         "name": "Pera Roja Trace 6",
         "stackgroup": "group5",
         "type": "scatter",
         "visible": false,
         "x": {
          "bdata": "AAECAwQFBgcICQoLDA0ODxAREhM=",
          "dtype": "i1"
         },
         "y": {
          "bdata": "AAAAAAAAAAAAAAAAAAAAAAAAAAAAAAAAAAAAAAAAAAAAAAAAAAAAAAAAAPujLBlAAAAA5AaQCkAAAACNh6QTQAAAAEBTXfU/AACAXZa8QsAAAIC+JwdhwAAAABt4hmHAAAAA2EZeUcAAAAB4YMhEQAAAAERyimRAAACAQPNJeUAAAEgU+2mFQAAAAGT4Eo1AAAAA/GG4iUAAAAAIfop9QA==",
          "dtype": "f8"
         }
        },
        {
         "mode": "lines",
         "name": "Uva Amarilla Trace 6",
         "stackgroup": "group5",
         "type": "scatter",
         "visible": false,
         "x": {
          "bdata": "AAECAwQFBgcICQoLDA0ODxAREhM=",
          "dtype": "i1"
         },
         "y": {
          "bdata": "AAAAAAAAAAAAAAAAAAAAAAAAAAAAAAAAAAAAAAAAAAAAAAAAAAAAAAAAgGE+xiFAAAAAX06iG0AAAIDzToQ6QAAAgLbe7UlAAAAgDub6ZEAAAACHIh17QAAAgNFutZJAAADATytqokAAAABa5WarQAAAAOGr6rFAAAAAerE6tEAAAACSneG0QAAAwNdL2bJAAICPQLQqrkAAAMC5CN+iQA==",
          "dtype": "f8"
         }
        },
        {
         "mode": "lines",
         "name": "Pera Roja Trace 7",
         "stackgroup": "group6",
         "type": "scatter",
         "visible": false,
         "x": {
          "bdata": "AAECAwQFBgcICQoLDA0ODxAREhM=",
          "dtype": "i1"
         },
         "y": {
          "bdata": "AAAAAAAAAAAAAAAAAAAAAAAAAAAAAAAAAAAAAAAAAAAAAAAAAAAAAAAAAAAAAAAAAAAAdFkSCkAAAAAtHRwTQAAAAADDgfM/AAAAZpPuQcAAAIDVIghgwAAAAHTCEF7AAAAAgNdzRcAAAABw6JJRQAAAALiagmdAAAAAzyhSekAAAIBY68CFQAAAAKQLTY1AAAAAHFnCiUAAAAAI3lZ9QA==",
          "dtype": "f8"
         }
        },
        {
         "mode": "lines",
         "name": "Uva Amarilla Trace 7",
         "stackgroup": "group6",
         "type": "scatter",
         "visible": false,
         "x": {
          "bdata": "AAECAwQFBgcICQoLDA0ODxAREhM=",
          "dtype": "i1"
         },
         "y": {
          "bdata": "AAAAAAAAAAAAAAAAAAAAAAAAAAAAAAAAAAAAAAAAAAAAAAAAAAAAAAAAAAAAACZAAACAPQfQGEAAAABC8uk6QAAAgMlBuEpAAADgxNOPZkAAAADHNih+QAAAgLZua5RAAABAh3Seo0AAAADj9qysQAAAABNabLJAAAAAzFqAtEAAAIDzAuG0QAAAYEx5sbJAAAAAeQ+mrUAAAIAfV2qiQA==",
          "dtype": "f8"
         }
        },
        {
         "mode": "lines",
         "name": "Pera Roja Trace 8",
         "stackgroup": "group7",
         "type": "scatter",
         "visible": false,
         "x": {
          "bdata": "AAECAwQFBgcICQoLDA0ODxAREhM=",
          "dtype": "i1"
         },
         "y": {
          "bdata": "AAAAAAAAAAAAAAAAAAAAAAAAAAAAAAAAAAAAAAAAAAAAAAAAAAAAAAAAAAAAAAAAAAAAAAAAAAAAAAAC0tUSQAAAAMDQQPg/AAAAwDNoP8AAAAA8XMdbwAAAgGS/dFPAAAAAMP7lM0AAAACwu+hhQAAAAHB9+W9AAAAA+UKFfUAAAICUsa2GQAAAAAKYv41AAAAAjKXJiUAAAABIiRN9QA==",
          "dtype": "f8"
         }
        },
        {
         "mode": "lines",
         "name": "Uva Amarilla Trace 8",
         "stackgroup": "group7",
         "type": "scatter",
         "visible": false,
         "x": {
          "bdata": "AAECAwQFBgcICQoLDA0ODxAREhM=",
          "dtype": "i1"
         },
         "y": {
          "bdata": "AAAAAAAAAAAAAAAAAAAAAAAAAAAAAAAAAAAAAAAAAAAAAAAAAAAAAAAAAAAAACZAAAAAAAAAJkAAAIAmIgw7QAAAQI0+ZUtAAADgulFXaEAAAMDUv8mAQAAAgDlJeJZAAADAp5MkpUAAAAA2MXKuQAAAAFF5PbNAAAAAjT8dtUAAAIAmHDS1QAAAMLlz0bJAAACAqN6WrUAAAECehkaiQA==",
          "dtype": "f8"
         }
        },
        {
         "mode": "lines",
         "name": "Pera Roja Trace 9",
         "stackgroup": "group8",
         "type": "scatter",
         "visible": false,
         "x": {
          "bdata": "AAECAwQFBgcICQoLDA0ODxAREhM=",
          "dtype": "i1"
         },
         "y": {
          "bdata": "AAAAAAAAAAAAAAAAAAAAAAAAAAAAAAAAAAAAAAAAAAAAAAAAAAAAAAAAAAAAAAAAAAAAAAAAAAAAAAAAAAAAAAAAACAiSgdAAAAASsCZM8AAAABKw61RwAAAAJBK7ThAAAAAFL0HZ0AAAAA4y151QAAAAKiX7XtAAACARAFEg0AAAAD4st2IQAAAAPq6Vo5AAAAAzB5QiUAAAADYEv97QA==",
          "dtype": "f8"
         }
        },
        {
         "mode": "lines",
         "name": "Uva Amarilla Trace 9",
         "stackgroup": "group8",
         "type": "scatter",
         "visible": false,
         "x": {
          "bdata": "AAECAwQFBgcICQoLDA0ODxAREhM=",
          "dtype": "i1"
         },
         "y": {
          "bdata": "AAAAAAAAAAAAAAAAAAAAAAAAAAAAAAAAAAAAAAAAAAAAAAAAAAAAAAAAAAAAACZAAAAAAAAAJkAAAAAAAIBNQAAAAIs4a05AAABgvisubUAAAEA+1UOFQAAA4H4ZxZtAAAAAZcUzqUAAAADZHa2xQAAAALwpobVAAAAAXpUPt0AAAAAMn2+2QAAAwMH0f7NAAACAmy40rkAAAEAntpKiQA==",
          "dtype": "f8"
         }
        },
        {
         "mode": "lines",
         "name": "Pera Roja Trace 10",
         "stackgroup": "group9",
         "type": "scatter",
         "visible": false,
         "x": {
          "bdata": "AAECAwQFBgcICQoLDA0ODxAREhM=",
          "dtype": "i1"
         },
         "y": {
          "bdata": "AAAAAAAAAAAAAAAAAAAAAAAAAAAAAAAAAAAAAAAAAAAAAAAAAAAAAAAAAAAAAAAAAAAAAAAAAAAAAAAAAAAAAAAAAAAAAABAAAAAP73dMUAAAIDBWh9NQAAAACiN+XhAAAAAdL/SikAAAAAYHCWTQAAAAPbzPpVAAAAA4MJSlUAAAIA9Q8uSQAAAYEIjrJFAAAAALIoYiUAAAAAY2NJ6QA==",
          "dtype": "f8"
         }
        },
        {
         "mode": "lines",
         "name": "Uva Amarilla Trace 10",
         "stackgroup": "group9",
         "type": "scatter",
         "visible": false,
         "x": {
          "bdata": "AAECAwQFBgcICQoLDA0ODxAREhM=",
          "dtype": "i1"
         },
         "y": {
          "bdata": "AAAAAAAAAAAAAAAAAAAAAAAAAAAAAAAAAAAAAAAAAAAAAAAAAAAAAAAAAAAAACZAAAAAAAAAJkAAAAAAAIBNQAAAAAAAAEhAAAAAzPqkdkAAAADowneSQAAAAOKE5adAAAAAHTHdtEAAAIDNO0y8QAAAACHrQcBAAAAAj5YwwEAAAIC1mY+8QAAAIHwuHbdAAAB4AqkWsUAAAPBYrVKlQA==",
          "dtype": "f8"
         }
        },
        {
         "mode": "lines",
         "name": "Pera Roja Trace 11",
         "stackgroup": "group10",
         "type": "scatter",
         "visible": false,
         "x": {
          "bdata": "AAECAwQFBgcICQoLDA0ODxAREhM=",
          "dtype": "i1"
         },
         "y": {
          "bdata": "AAAAAAAAAAAAAAAAAAAAAAAAAAAAAAAAAAAAAAAAAAAAAAAAAAAAAAAAAAAAAAAAAAAAAAAAAAAAAAAAAAAAAAAAAAAAAABAAAAAYFVVFUAAACAsAiheQAAAAHFzy4BAAAAAtiGjkEAAAAAJuA+XQAAAgH3XPJlAAAAAvObMmEAAAGAq/zWVQAAAgJYzPJNAAAAAvkvmikAAAADo6oZ9QA==",
          "dtype": "f8"
         }
        },
        {
         "mode": "lines",
         "name": "Uva Amarilla Trace 11",
         "stackgroup": "group10",
         "type": "scatter",
         "visible": false,
         "x": {
          "bdata": "AAECAwQFBgcICQoLDA0ODxAREhM=",
          "dtype": "i1"
         },
         "y": {
          "bdata": "AAAAAAAAAAAAAAAAAAAAAAAAAAAAAAAAAAAAAAAAAAAAAAAAAAAAAAAAAAAAACZAAAAAAAAAJkAAAAAAAIBNQAAAAAAAAEhAAAAAqqqqSUAAAAA+BImUQAAAgJnPLKpAAABgHd6KtkAAAMCrGl6+QAAAAAl+W8FAAACAPaU3wUAAAIClkjS+QAAAyFFcW7hAAACALp/2sUAAAIAA3ZWmQA==",
          "dtype": "f8"
         }
        },
        {
         "mode": "lines",
         "name": "Pera Roja Trace 12",
         "stackgroup": "group11",
         "type": "scatter",
         "visible": false,
         "x": {
          "bdata": "AAECAwQFBgcICQoLDA0ODxAREhM=",
          "dtype": "i1"
         },
         "y": {
          "bdata": "AAAAAAAAAAAAAAAAAAAAAAAAAAAAAAAAAAAAAAAAAAAAAAAAAAAAAAAAAAAAAAAAAAAAAAAAAAAAAAAAAAAAAAAAAAAAAABAAAAAYFVVFUAAAABgVVUtQAAAgPCu6H5AAAAAmDeDjEAAAAAoUSuTQAAAAI/69pRAAAAAlk5YlUAAAEAMUviTQAAAACYXe5NAAAAAoozvjEAAAAD8nTeAQA==",
          "dtype": "f8"
         }
        },
        {
         "mode": "lines",
         "name": "Uva Amarilla Trace 12",
         "stackgroup": "group11",
         "type": "scatter",
         "visible": false,
         "x": {
          "bdata": "AAECAwQFBgcICQoLDA0ODxAREhM=",
          "dtype": "i1"
         },
         "y": {
          "bdata": "AAAAAAAAAAAAAAAAAAAAAAAAAAAAAAAAAAAAAAAAAAAAAAAAAAAAAAAAAAAAACZAAAAAAAAAJkAAAAAAAIBNQAAAAAAAAEhAAAAAqqqqSUAAAABIza0pQAAAoJo0hqVAAADgr8mbskAAABDt6Vi5QAAAQOnJw71AAACAQS2EvkAAAACv/Rm8QAAAwE59lrdAAACgUrbgsUAAAADB5ZmmQA==",
          "dtype": "f8"
         }
        },
        {
         "mode": "lines",
         "name": "Pera Roja Trace 13",
         "stackgroup": "group12",
         "type": "scatter",
         "visible": false,
         "x": {
          "bdata": "AAECAwQFBgcICQoLDA0ODxAREhM=",
          "dtype": "i1"
         },
         "y": {
          "bdata": "AAAAAAAAAAAAAAAAAAAAAAAAAAAAAAAAAAAAAAAAAAAAAAAAAAAAAAAAAAAAAAAAAAAAAAAAAAAAAAAAAAAAAAAAAAAAAABAAAAAYFVVFUAAAABgVVUtQAAAAFhVFVZAAAAAckH9d8AAAACXvKdwwAAAAMAJqUFAAAAAMBXqgEAAAMASYmCRQAAAgC7pPJdAAADAzw/1lEAAAACy1q2KQA==",
          "dtype": "f8"
         }
        },
        {
         "mode": "lines",
         "name": "Uva Amarilla Trace 13",
         "stackgroup": "group12",
         "type": "scatter",
         "visible": false,
         "x": {
          "bdata": "AAECAwQFBgcICQoLDA0ODxAREhM=",
          "dtype": "i1"
         },
         "y": {
          "bdata": "AAAAAAAAAAAAAAAAAAAAAAAAAAAAAAAAAAAAAAAAAAAAAAAAAAAAAAAAAAAAACZAAAAAAAAAJkAAAAAAAIBNQAAAAAAAAEhAAAAAqqqqSUAAAABIza0pQAAAgFDS3WlAAACAvdfhjkAAAIDIytGeQAAAAE8+vKpAAACA4vYiskAAAIAjhq61QAAAgJ9RS7VAAAAgVjKUsUAAAECvR6mmQA==",
          "dtype": "f8"
         }
        },
        {
         "mode": "lines",
         "name": "Pera Roja Trace 14",
         "stackgroup": "group13",
         "type": "scatter",
         "visible": false,
         "x": {
          "bdata": "AAECAwQFBgcICQoLDA0ODxAREhM=",
          "dtype": "i1"
         },
         "y": {
          "bdata": "AAAAAAAAAAAAAAAAAAAAAAAAAAAAAAAAAAAAAAAAAAAAAAAAAAAAAAAAAAAAAAAAAAAAAAAAAAAAAAAAAAAAAAAAAAAAAABAAAAAYFVVFUAAAABgVVUtQAAAAFhVFVZAAAAAYFVVZkAAAACmo6xuwAAAAHCJG0dAAAAApxvigEAAAACtYEuRQAAAAKFu+pZAAAAAXDqilEAAAAAEbRiKQA==",
          "dtype": "f8"
         }
        },
        {
         "mode": "lines",
         "name": "Uva Amarilla Trace 14",
         "stackgroup": "group13",
         "type": "scatter",
         "visible": false,
         "x": {
          "bdata": "AAECAwQFBgcICQoLDA0ODxAREhM=",
          "dtype": "i1"
         },
         "y": {
          "bdata": "AAAAAAAAAAAAAAAAAAAAAAAAAAAAAAAAAAAAAAAAAAAAAAAAAAAAAAAAAAAAACZAAAAAAAAAJkAAAAAAAIBNQAAAAAAAAEhAAAAAqqqqSUAAAABIza0pQAAAgFDS3WlAAADAz407kUAAACDjdE2fQAAAgG9Om6lAAACA+ILNsEAAAAAByuazQAAAgKmmO7NAAABA8e8er0AAAIB0BE+jQA==",
          "dtype": "f8"
         }
        },
        {
         "mode": "lines",
         "name": "Pera Roja Trace 15",
         "stackgroup": "group14",
         "type": "scatter",
         "visible": false,
         "x": {
          "bdata": "AAECAwQFBgcICQoLDA0ODxAREhM=",
          "dtype": "i1"
         },
         "y": {
          "bdata": "AAAAAAAAAAAAAAAAAAAAAAAAAAAAAAAAAAAAAAAAAAAAAAAAAAAAAAAAAAAAAAAAAAAAAAAAAAAAAAAAAAAAAAAAAAAAAABAAAAAYFVVFUAAAABgVVUtQAAAAFhVFVZAAAAAYFVVZkAAAAA0wORwQAAAAJ/UK1fAAABAhki7d0AAAFiimAiNQAAAgOe7R5RAAAAAVN80kkAAAACA6tWGQA==",
          "dtype": "f8"
         }
        },
        {
         "mode": "lines",
         "name": "Uva Amarilla Trace 15",
         "stackgroup": "group14",
         "type": "scatter",
         "visible": false,
         "x": {
          "bdata": "AAECAwQFBgcICQoLDA0ODxAREhM=",
          "dtype": "i1"
         },
         "y": {
          "bdata": "AAAAAAAAAAAAAAAAAAAAAAAAAAAAAAAAAAAAAAAAAAAAAAAAAAAAAAAAAAAAACZAAAAAAAAAJkAAAAAAAIBNQAAAAAAAAEhAAAAAqqqqSUAAAABIza0pQAAAgFDS3WlAAADAz407kUAAAMD6hAOiQAAAADxkpqtAAABAPw97sUAAAAAz8Uy0QAAAUMkTRLNAAABg7xmorkAAAABs+aSiQA==",
          "dtype": "f8"
         }
        },
        {
         "mode": "lines",
         "name": "Pera Roja Trace 16",
         "stackgroup": "group15",
         "type": "scatter",
         "visible": false,
         "x": {
          "bdata": "AAECAwQFBgcICQoLDA0ODxAREhM=",
          "dtype": "i1"
         },
         "y": {
          "bdata": "AAAAAAAAAAAAAAAAAAAAAAAAAAAAAAAAAAAAAAAAAAAAAAAAAAAAAAAAAAAAAAAAAAAAAAAAAAAAAAAAAAAAAAAAAAAAAABAAAAAYFVVFUAAAABgVVUtQAAAAFhVFVZAAAAAYFVVZkAAAAA0wORwQAAAAHqgUHdAAAAA1tEJfUAAAIDrGu+PQAAAADXEd5VAAAAA1y39kkAAAACMjaaHQA==",
          "dtype": "f8"
         }
        },
        {
         "mode": "lines",
         "name": "Uva Amarilla Trace 16",
         "stackgroup": "group15",
         "type": "scatter",
         "visible": false,
         "x": {
          "bdata": "AAECAwQFBgcICQoLDA0ODxAREhM=",
          "dtype": "i1"
         },
         "y": {
          "bdata": "AAAAAAAAAAAAAAAAAAAAAAAAAAAAAAAAAAAAAAAAAAAAAAAAAAAAAAAAAAAAACZAAAAAAAAAJkAAAAAAAIBNQAAAAAAAAEhAAAAAqqqqSUAAAABIza0pQAAAgFDS3WlAAADAz407kUAAAMD6hAOiQAAAADNqTqtAAABAd6JAskAAAADN4Zi0QAAAoFwgMrNAAABsZKc8rkAAAEAWzi2iQA==",
          "dtype": "f8"
         }
        },
        {
         "mode": "lines",
         "name": "Pera Roja Trace 17",
         "stackgroup": "group16",
         "type": "scatter",
         "visible": false,
         "x": {
          "bdata": "AAECAwQFBgcICQoLDA0ODxAREhM=",
          "dtype": "i1"
         },
         "y": {
          "bdata": "AAAAAAAAAAAAAAAAAAAAAAAAAAAAAAAAAAAAAAAAAAAAAAAAAAAAAAAAAAAAAAAAAAAAAAAAAAAAAAAAAAAAAAAAAAAAAABAAAAAYFVVFUAAAABgVVUtQAAAAFhVFVZAAAAAYFVVZkAAAAA0wORwQAAAAHqgUHdAAAAArPtSgEAAAACUyq6RQAAAgCWvN5ZAAAAAILJBk0AAAAB0wYeHQA==",
          "dtype": "f8"
         }
        },
        {
         "mode": "lines",
         "name": "Uva Amarilla Trace 17",
         "stackgroup": "group16",
         "type": "scatter",
         "visible": false,
         "x": {
          "bdata": "AAECAwQFBgcICQoLDA0ODxAREhM=",
          "dtype": "i1"
         },
         "y": {
          "bdata": "AAAAAAAAAAAAAAAAAAAAAAAAAAAAAAAAAAAAAAAAAAAAAAAAAAAAAAAAAAAAACZAAAAAAAAAJkAAAAAAAIBNQAAAAAAAAEhAAAAAqqqqSUAAAABIza0pQAAAgFDS3WlAAADAz407kUAAAMD6hAOiQAAAADNqTqtAAAAAVw0rrkAAAAA0+Ti1QAAAABD/VLNAAAAgYyAIrkAAAAAMjOKhQA==",
          "dtype": "f8"
         }
        },
        {
         "mode": "lines",
         "name": "Pera Roja Trace 18",
         "stackgroup": "group17",
         "type": "scatter",
         "visible": false,
         "x": {
          "bdata": "AAECAwQFBgcICQoLDA0ODxAREhM=",
          "dtype": "i1"
         },
         "y": {
          "bdata": "AAAAAAAAAAAAAAAAAAAAAAAAAAAAAAAAAAAAAAAAAAAAAAAAAAAAAAAAAAAAAAAAAAAAAAAAAAAAAAAAAAAAAAAAAAAAAABAAAAAYFVVFUAAAABgVVUtQAAAAFhVFVZAAAAAYFVVZkAAAAA0wORwQAAAAHqgUHdAAAAArPtSgEAAAABAej+EQAAAwGJtlpVAAAAACXaKkkAAAADMnT+GQA==",
          "dtype": "f8"
         }
        },
        {
         "mode": "lines",
         "name": "Uva Amarilla Trace 18",
         "stackgroup": "group17",
         "type": "scatter",
         "visible": false,
         "x": {
          "bdata": "AAECAwQFBgcICQoLDA0ODxAREhM=",
          "dtype": "i1"
         },
         "y": {
          "bdata": "AAAAAAAAAAAAAAAAAAAAAAAAAAAAAAAAAAAAAAAAAAAAAAAAAAAAAAAAAAAAACZAAAAAAAAAJkAAAAAAAIBNQAAAAAAAAEhAAAAAqqqqSUAAAABIza0pQAAAgFDS3WlAAADAz407kUAAAMD6hAOiQAAAADNqTqtAAAAAVw0rrkAAAAA5cBSvQAAAoKp8VrNAAADAruYgrkAAAMBh1/ihQA==",
          "dtype": "f8"
         }
        },
        {
         "mode": "lines",
         "name": "Pera Roja Trace 19",
         "stackgroup": "group18",
         "type": "scatter",
         "visible": false,
         "x": {
          "bdata": "AAECAwQFBgcICQoLDA0ODxAREhM=",
          "dtype": "i1"
         },
         "y": {
          "bdata": "AAAAAAAAAAAAAAAAAAAAAAAAAAAAAAAAAAAAAAAAAAAAAAAAAAAAAAAAAAAAAAAAAAAAAAAAAAAAAAAAAAAAAAAAAAAAAABAAAAAYFVVFUAAAABgVVUtQAAAAFhVFVZAAAAAYFVVZkAAAAA0wORwQAAAAHqgUHdAAAAArPtSgEAAAABAej+EQAAAAKiLUYZAAAAA0iSDkkAAAAC2xC2GQA==",
          "dtype": "f8"
         }
        },
        {
         "mode": "lines",
         "name": "Uva Amarilla Trace 19",
         "stackgroup": "group18",
         "type": "scatter",
         "visible": false,
         "x": {
          "bdata": "AAECAwQFBgcICQoLDA0ODxAREhM=",
          "dtype": "i1"
         },
         "y": {
          "bdata": "AAAAAAAAAAAAAAAAAAAAAAAAAAAAAAAAAAAAAAAAAAAAAAAAAAAAAAAAAAAAACZAAAAAAAAAJkAAAAAAAIBNQAAAAAAAAEhAAAAAqqqqSUAAAABIza0pQAAAgFDS3WlAAADAz407kUAAAMD6hAOiQAAAADNqTqtAAAAAVw0rrkAAAAA5cBSvQAAAgHp9LK5AAADAGshGrkAAAMAQ+CuiQA==",
          "dtype": "f8"
         }
        },
        {
         "mode": "lines",
         "name": "Pera Roja Trace 20",
         "stackgroup": "group19",
         "type": "scatter",
         "visible": false,
         "x": {
          "bdata": "AAECAwQFBgcICQoLDA0ODxAREhM=",
          "dtype": "i1"
         },
         "y": {
          "bdata": "AAAAAAAAAAAAAAAAAAAAAAAAAAAAAAAAAAAAAAAAAAAAAAAAAAAAAAAAAAAAAAAAAAAAAAAAAAAAAAAAAAAAAAAAAAAAAABAAAAAYFVVFUAAAABgVVUtQAAAAFhVFVZAAAAAYFVVZkAAAAA0wORwQAAAAHqgUHdAAAAArPtSgEAAAABAej+EQAAAAKiLUYZAAAAASriJg0AAAACAxZiHQA==",
          "dtype": "f8"
         }
        },
        {
         "mode": "lines",
         "name": "Uva Amarilla Trace 20",
         "stackgroup": "group19",
         "type": "scatter",
         "visible": false,
         "x": {
          "bdata": "AAECAwQFBgcICQoLDA0ODxAREhM=",
          "dtype": "i1"
         },
         "y": {
          "bdata": "AAAAAAAAAAAAAAAAAAAAAAAAAAAAAAAAAAAAAAAAAAAAAAAAAAAAAAAAAAAAACZAAAAAAAAAJkAAAAAAAIBNQAAAAAAAAEhAAAAAqqqqSUAAAABIza0pQAAAgFDS3WlAAADAz407kUAAAMD6hAOiQAAAADNqTqtAAAAAVw0rrkAAAAA5cBSvQAAAgHp9LK5AAAAAcSH3rUAAAFA7xMaiQA==",
          "dtype": "f8"
         }
        },
        {
         "name": "Pera Roja Actuals",
         "opacity": 0.6,
         "type": "bar",
         "x": {
          "bdata": "AAECAwQFBgcICQoLDA0ODxAREhM=",
          "dtype": "i1"
         },
         "y": {
          "bdata": "AAAAAAAAAAAAAAAAAAAAAAAAAAAAAAAAAAAAAAAAAAAAAABAq6qqQKuqakGrqrBCq6oyQwImh0MEhbpD3pcCRNL7IURdjDJEwk0cRF752kM=",
          "dtype": "f4"
         }
        },
        {
         "name": "Uva Amarilla Actuals",
         "opacity": 0.6,
         "type": "bar",
         "x": {
          "bdata": "AAECAwQFBgcICQoLDA0ODxAREhM=",
          "dtype": "i1"
         },
         "y": {
          "bdata": "AAAAAAAAAAAAAAAAAAAAAAAAAAAAADBBAAAwQQAAbEIAAEBCVVVNQmpuTUGS7k5Db9yJRCkcEEVRc1pFalhxRYOjeEXrY3FFDLlvRb/nRkU=",
          "dtype": "f4"
         }
        }
       ],
       "layout": {
        "barmode": "stack",
        "sliders": [
         {
          "active": 0,
          "currentvalue": {
           "prefix": "Trace: "
          },
          "len": 1,
          "pad": {
           "t": 20
          },
          "steps": [
           {
            "args": [
             {
              "visible": [
               true,
               true,
               false,
               false,
               false,
               false,
               false,
               false,
               false,
               false,
               false,
               false,
               false,
               false,
               false,
               false,
               false,
               false,
               false,
               false,
               false,
               false,
               false,
               false,
               false,
               false,
               false,
               false,
               false,
               false,
               false,
               false,
               false,
               false,
               false,
               false,
               false,
               false,
               false,
               false,
               true,
               true
              ]
             }
            ],
            "label": "Preds Trace 1",
            "method": "update"
           },
           {
            "args": [
             {
              "visible": [
               false,
               false,
               true,
               true,
               false,
               false,
               false,
               false,
               false,
               false,
               false,
               false,
               false,
               false,
               false,
               false,
               false,
               false,
               false,
               false,
               false,
               false,
               false,
               false,
               false,
               false,
               false,
               false,
               false,
               false,
               false,
               false,
               false,
               false,
               false,
               false,
               false,
               false,
               false,
               false,
               true,
               true
              ]
             }
            ],
            "label": "Preds Trace 2",
            "method": "update"
           },
           {
            "args": [
             {
              "visible": [
               false,
               false,
               false,
               false,
               true,
               true,
               false,
               false,
               false,
               false,
               false,
               false,
               false,
               false,
               false,
               false,
               false,
               false,
               false,
               false,
               false,
               false,
               false,
               false,
               false,
               false,
               false,
               false,
               false,
               false,
               false,
               false,
               false,
               false,
               false,
               false,
               false,
               false,
               false,
               false,
               true,
               true
              ]
             }
            ],
            "label": "Preds Trace 3",
            "method": "update"
           },
           {
            "args": [
             {
              "visible": [
               false,
               false,
               false,
               false,
               false,
               false,
               true,
               true,
               false,
               false,
               false,
               false,
               false,
               false,
               false,
               false,
               false,
               false,
               false,
               false,
               false,
               false,
               false,
               false,
               false,
               false,
               false,
               false,
               false,
               false,
               false,
               false,
               false,
               false,
               false,
               false,
               false,
               false,
               false,
               false,
               true,
               true
              ]
             }
            ],
            "label": "Preds Trace 4",
            "method": "update"
           },
           {
            "args": [
             {
              "visible": [
               false,
               false,
               false,
               false,
               false,
               false,
               false,
               false,
               true,
               true,
               false,
               false,
               false,
               false,
               false,
               false,
               false,
               false,
               false,
               false,
               false,
               false,
               false,
               false,
               false,
               false,
               false,
               false,
               false,
               false,
               false,
               false,
               false,
               false,
               false,
               false,
               false,
               false,
               false,
               false,
               true,
               true
              ]
             }
            ],
            "label": "Preds Trace 5",
            "method": "update"
           },
           {
            "args": [
             {
              "visible": [
               false,
               false,
               false,
               false,
               false,
               false,
               false,
               false,
               false,
               false,
               true,
               true,
               false,
               false,
               false,
               false,
               false,
               false,
               false,
               false,
               false,
               false,
               false,
               false,
               false,
               false,
               false,
               false,
               false,
               false,
               false,
               false,
               false,
               false,
               false,
               false,
               false,
               false,
               false,
               false,
               true,
               true
              ]
             }
            ],
            "label": "Preds Trace 6",
            "method": "update"
           },
           {
            "args": [
             {
              "visible": [
               false,
               false,
               false,
               false,
               false,
               false,
               false,
               false,
               false,
               false,
               false,
               false,
               true,
               true,
               false,
               false,
               false,
               false,
               false,
               false,
               false,
               false,
               false,
               false,
               false,
               false,
               false,
               false,
               false,
               false,
               false,
               false,
               false,
               false,
               false,
               false,
               false,
               false,
               false,
               false,
               true,
               true
              ]
             }
            ],
            "label": "Preds Trace 7",
            "method": "update"
           },
           {
            "args": [
             {
              "visible": [
               false,
               false,
               false,
               false,
               false,
               false,
               false,
               false,
               false,
               false,
               false,
               false,
               false,
               false,
               true,
               true,
               false,
               false,
               false,
               false,
               false,
               false,
               false,
               false,
               false,
               false,
               false,
               false,
               false,
               false,
               false,
               false,
               false,
               false,
               false,
               false,
               false,
               false,
               false,
               false,
               true,
               true
              ]
             }
            ],
            "label": "Preds Trace 8",
            "method": "update"
           },
           {
            "args": [
             {
              "visible": [
               false,
               false,
               false,
               false,
               false,
               false,
               false,
               false,
               false,
               false,
               false,
               false,
               false,
               false,
               false,
               false,
               true,
               true,
               false,
               false,
               false,
               false,
               false,
               false,
               false,
               false,
               false,
               false,
               false,
               false,
               false,
               false,
               false,
               false,
               false,
               false,
               false,
               false,
               false,
               false,
               true,
               true
              ]
             }
            ],
            "label": "Preds Trace 9",
            "method": "update"
           },
           {
            "args": [
             {
              "visible": [
               false,
               false,
               false,
               false,
               false,
               false,
               false,
               false,
               false,
               false,
               false,
               false,
               false,
               false,
               false,
               false,
               false,
               false,
               true,
               true,
               false,
               false,
               false,
               false,
               false,
               false,
               false,
               false,
               false,
               false,
               false,
               false,
               false,
               false,
               false,
               false,
               false,
               false,
               false,
               false,
               true,
               true
              ]
             }
            ],
            "label": "Preds Trace 10",
            "method": "update"
           },
           {
            "args": [
             {
              "visible": [
               false,
               false,
               false,
               false,
               false,
               false,
               false,
               false,
               false,
               false,
               false,
               false,
               false,
               false,
               false,
               false,
               false,
               false,
               false,
               false,
               true,
               true,
               false,
               false,
               false,
               false,
               false,
               false,
               false,
               false,
               false,
               false,
               false,
               false,
               false,
               false,
               false,
               false,
               false,
               false,
               true,
               true
              ]
             }
            ],
            "label": "Preds Trace 11",
            "method": "update"
           },
           {
            "args": [
             {
              "visible": [
               false,
               false,
               false,
               false,
               false,
               false,
               false,
               false,
               false,
               false,
               false,
               false,
               false,
               false,
               false,
               false,
               false,
               false,
               false,
               false,
               false,
               false,
               true,
               true,
               false,
               false,
               false,
               false,
               false,
               false,
               false,
               false,
               false,
               false,
               false,
               false,
               false,
               false,
               false,
               false,
               true,
               true
              ]
             }
            ],
            "label": "Preds Trace 12",
            "method": "update"
           },
           {
            "args": [
             {
              "visible": [
               false,
               false,
               false,
               false,
               false,
               false,
               false,
               false,
               false,
               false,
               false,
               false,
               false,
               false,
               false,
               false,
               false,
               false,
               false,
               false,
               false,
               false,
               false,
               false,
               true,
               true,
               false,
               false,
               false,
               false,
               false,
               false,
               false,
               false,
               false,
               false,
               false,
               false,
               false,
               false,
               true,
               true
              ]
             }
            ],
            "label": "Preds Trace 13",
            "method": "update"
           },
           {
            "args": [
             {
              "visible": [
               false,
               false,
               false,
               false,
               false,
               false,
               false,
               false,
               false,
               false,
               false,
               false,
               false,
               false,
               false,
               false,
               false,
               false,
               false,
               false,
               false,
               false,
               false,
               false,
               false,
               false,
               true,
               true,
               false,
               false,
               false,
               false,
               false,
               false,
               false,
               false,
               false,
               false,
               false,
               false,
               true,
               true
              ]
             }
            ],
            "label": "Preds Trace 14",
            "method": "update"
           },
           {
            "args": [
             {
              "visible": [
               false,
               false,
               false,
               false,
               false,
               false,
               false,
               false,
               false,
               false,
               false,
               false,
               false,
               false,
               false,
               false,
               false,
               false,
               false,
               false,
               false,
               false,
               false,
               false,
               false,
               false,
               false,
               false,
               true,
               true,
               false,
               false,
               false,
               false,
               false,
               false,
               false,
               false,
               false,
               false,
               true,
               true
              ]
             }
            ],
            "label": "Preds Trace 15",
            "method": "update"
           },
           {
            "args": [
             {
              "visible": [
               false,
               false,
               false,
               false,
               false,
               false,
               false,
               false,
               false,
               false,
               false,
               false,
               false,
               false,
               false,
               false,
               false,
               false,
               false,
               false,
               false,
               false,
               false,
               false,
               false,
               false,
               false,
               false,
               false,
               false,
               true,
               true,
               false,
               false,
               false,
               false,
               false,
               false,
               false,
               false,
               true,
               true
              ]
             }
            ],
            "label": "Preds Trace 16",
            "method": "update"
           },
           {
            "args": [
             {
              "visible": [
               false,
               false,
               false,
               false,
               false,
               false,
               false,
               false,
               false,
               false,
               false,
               false,
               false,
               false,
               false,
               false,
               false,
               false,
               false,
               false,
               false,
               false,
               false,
               false,
               false,
               false,
               false,
               false,
               false,
               false,
               false,
               false,
               true,
               true,
               false,
               false,
               false,
               false,
               false,
               false,
               true,
               true
              ]
             }
            ],
            "label": "Preds Trace 17",
            "method": "update"
           },
           {
            "args": [
             {
              "visible": [
               false,
               false,
               false,
               false,
               false,
               false,
               false,
               false,
               false,
               false,
               false,
               false,
               false,
               false,
               false,
               false,
               false,
               false,
               false,
               false,
               false,
               false,
               false,
               false,
               false,
               false,
               false,
               false,
               false,
               false,
               false,
               false,
               false,
               false,
               true,
               true,
               false,
               false,
               false,
               false,
               true,
               true
              ]
             }
            ],
            "label": "Preds Trace 18",
            "method": "update"
           },
           {
            "args": [
             {
              "visible": [
               false,
               false,
               false,
               false,
               false,
               false,
               false,
               false,
               false,
               false,
               false,
               false,
               false,
               false,
               false,
               false,
               false,
               false,
               false,
               false,
               false,
               false,
               false,
               false,
               false,
               false,
               false,
               false,
               false,
               false,
               false,
               false,
               false,
               false,
               false,
               false,
               true,
               true,
               false,
               false,
               true,
               true
              ]
             }
            ],
            "label": "Preds Trace 19",
            "method": "update"
           },
           {
            "args": [
             {
              "visible": [
               false,
               false,
               false,
               false,
               false,
               false,
               false,
               false,
               false,
               false,
               false,
               false,
               false,
               false,
               false,
               false,
               false,
               false,
               false,
               false,
               false,
               false,
               false,
               false,
               false,
               false,
               false,
               false,
               false,
               false,
               false,
               false,
               false,
               false,
               false,
               false,
               false,
               false,
               true,
               true,
               true,
               true
              ]
             }
            ],
            "label": "Preds Trace 20",
            "method": "update"
           }
          ]
         }
        ],
        "template": {
         "data": {
          "bar": [
           {
            "error_x": {
             "color": "#2a3f5f"
            },
            "error_y": {
             "color": "#2a3f5f"
            },
            "marker": {
             "line": {
              "color": "#E5ECF6",
              "width": 0.5
             },
             "pattern": {
              "fillmode": "overlay",
              "size": 10,
              "solidity": 0.2
             }
            },
            "type": "bar"
           }
          ],
          "barpolar": [
           {
            "marker": {
             "line": {
              "color": "#E5ECF6",
              "width": 0.5
             },
             "pattern": {
              "fillmode": "overlay",
              "size": 10,
              "solidity": 0.2
             }
            },
            "type": "barpolar"
           }
          ],
          "carpet": [
           {
            "aaxis": {
             "endlinecolor": "#2a3f5f",
             "gridcolor": "white",
             "linecolor": "white",
             "minorgridcolor": "white",
             "startlinecolor": "#2a3f5f"
            },
            "baxis": {
             "endlinecolor": "#2a3f5f",
             "gridcolor": "white",
             "linecolor": "white",
             "minorgridcolor": "white",
             "startlinecolor": "#2a3f5f"
            },
            "type": "carpet"
           }
          ],
          "choropleth": [
           {
            "colorbar": {
             "outlinewidth": 0,
             "ticks": ""
            },
            "type": "choropleth"
           }
          ],
          "contour": [
           {
            "colorbar": {
             "outlinewidth": 0,
             "ticks": ""
            },
            "colorscale": [
             [
              0,
              "#0d0887"
             ],
             [
              0.1111111111111111,
              "#46039f"
             ],
             [
              0.2222222222222222,
              "#7201a8"
             ],
             [
              0.3333333333333333,
              "#9c179e"
             ],
             [
              0.4444444444444444,
              "#bd3786"
             ],
             [
              0.5555555555555556,
              "#d8576b"
             ],
             [
              0.6666666666666666,
              "#ed7953"
             ],
             [
              0.7777777777777778,
              "#fb9f3a"
             ],
             [
              0.8888888888888888,
              "#fdca26"
             ],
             [
              1,
              "#f0f921"
             ]
            ],
            "type": "contour"
           }
          ],
          "contourcarpet": [
           {
            "colorbar": {
             "outlinewidth": 0,
             "ticks": ""
            },
            "type": "contourcarpet"
           }
          ],
          "heatmap": [
           {
            "colorbar": {
             "outlinewidth": 0,
             "ticks": ""
            },
            "colorscale": [
             [
              0,
              "#0d0887"
             ],
             [
              0.1111111111111111,
              "#46039f"
             ],
             [
              0.2222222222222222,
              "#7201a8"
             ],
             [
              0.3333333333333333,
              "#9c179e"
             ],
             [
              0.4444444444444444,
              "#bd3786"
             ],
             [
              0.5555555555555556,
              "#d8576b"
             ],
             [
              0.6666666666666666,
              "#ed7953"
             ],
             [
              0.7777777777777778,
              "#fb9f3a"
             ],
             [
              0.8888888888888888,
              "#fdca26"
             ],
             [
              1,
              "#f0f921"
             ]
            ],
            "type": "heatmap"
           }
          ],
          "histogram": [
           {
            "marker": {
             "pattern": {
              "fillmode": "overlay",
              "size": 10,
              "solidity": 0.2
             }
            },
            "type": "histogram"
           }
          ],
          "histogram2d": [
           {
            "colorbar": {
             "outlinewidth": 0,
             "ticks": ""
            },
            "colorscale": [
             [
              0,
              "#0d0887"
             ],
             [
              0.1111111111111111,
              "#46039f"
             ],
             [
              0.2222222222222222,
              "#7201a8"
             ],
             [
              0.3333333333333333,
              "#9c179e"
             ],
             [
              0.4444444444444444,
              "#bd3786"
             ],
             [
              0.5555555555555556,
              "#d8576b"
             ],
             [
              0.6666666666666666,
              "#ed7953"
             ],
             [
              0.7777777777777778,
              "#fb9f3a"
             ],
             [
              0.8888888888888888,
              "#fdca26"
             ],
             [
              1,
              "#f0f921"
             ]
            ],
            "type": "histogram2d"
           }
          ],
          "histogram2dcontour": [
           {
            "colorbar": {
             "outlinewidth": 0,
             "ticks": ""
            },
            "colorscale": [
             [
              0,
              "#0d0887"
             ],
             [
              0.1111111111111111,
              "#46039f"
             ],
             [
              0.2222222222222222,
              "#7201a8"
             ],
             [
              0.3333333333333333,
              "#9c179e"
             ],
             [
              0.4444444444444444,
              "#bd3786"
             ],
             [
              0.5555555555555556,
              "#d8576b"
             ],
             [
              0.6666666666666666,
              "#ed7953"
             ],
             [
              0.7777777777777778,
              "#fb9f3a"
             ],
             [
              0.8888888888888888,
              "#fdca26"
             ],
             [
              1,
              "#f0f921"
             ]
            ],
            "type": "histogram2dcontour"
           }
          ],
          "mesh3d": [
           {
            "colorbar": {
             "outlinewidth": 0,
             "ticks": ""
            },
            "type": "mesh3d"
           }
          ],
          "parcoords": [
           {
            "line": {
             "colorbar": {
              "outlinewidth": 0,
              "ticks": ""
             }
            },
            "type": "parcoords"
           }
          ],
          "pie": [
           {
            "automargin": true,
            "type": "pie"
           }
          ],
          "scatter": [
           {
            "fillpattern": {
             "fillmode": "overlay",
             "size": 10,
             "solidity": 0.2
            },
            "type": "scatter"
           }
          ],
          "scatter3d": [
           {
            "line": {
             "colorbar": {
              "outlinewidth": 0,
              "ticks": ""
             }
            },
            "marker": {
             "colorbar": {
              "outlinewidth": 0,
              "ticks": ""
             }
            },
            "type": "scatter3d"
           }
          ],
          "scattercarpet": [
           {
            "marker": {
             "colorbar": {
              "outlinewidth": 0,
              "ticks": ""
             }
            },
            "type": "scattercarpet"
           }
          ],
          "scattergeo": [
           {
            "marker": {
             "colorbar": {
              "outlinewidth": 0,
              "ticks": ""
             }
            },
            "type": "scattergeo"
           }
          ],
          "scattergl": [
           {
            "marker": {
             "colorbar": {
              "outlinewidth": 0,
              "ticks": ""
             }
            },
            "type": "scattergl"
           }
          ],
          "scattermap": [
           {
            "marker": {
             "colorbar": {
              "outlinewidth": 0,
              "ticks": ""
             }
            },
            "type": "scattermap"
           }
          ],
          "scattermapbox": [
           {
            "marker": {
             "colorbar": {
              "outlinewidth": 0,
              "ticks": ""
             }
            },
            "type": "scattermapbox"
           }
          ],
          "scatterpolar": [
           {
            "marker": {
             "colorbar": {
              "outlinewidth": 0,
              "ticks": ""
             }
            },
            "type": "scatterpolar"
           }
          ],
          "scatterpolargl": [
           {
            "marker": {
             "colorbar": {
              "outlinewidth": 0,
              "ticks": ""
             }
            },
            "type": "scatterpolargl"
           }
          ],
          "scatterternary": [
           {
            "marker": {
             "colorbar": {
              "outlinewidth": 0,
              "ticks": ""
             }
            },
            "type": "scatterternary"
           }
          ],
          "surface": [
           {
            "colorbar": {
             "outlinewidth": 0,
             "ticks": ""
            },
            "colorscale": [
             [
              0,
              "#0d0887"
             ],
             [
              0.1111111111111111,
              "#46039f"
             ],
             [
              0.2222222222222222,
              "#7201a8"
             ],
             [
              0.3333333333333333,
              "#9c179e"
             ],
             [
              0.4444444444444444,
              "#bd3786"
             ],
             [
              0.5555555555555556,
              "#d8576b"
             ],
             [
              0.6666666666666666,
              "#ed7953"
             ],
             [
              0.7777777777777778,
              "#fb9f3a"
             ],
             [
              0.8888888888888888,
              "#fdca26"
             ],
             [
              1,
              "#f0f921"
             ]
            ],
            "type": "surface"
           }
          ],
          "table": [
           {
            "cells": {
             "fill": {
              "color": "#EBF0F8"
             },
             "line": {
              "color": "white"
             }
            },
            "header": {
             "fill": {
              "color": "#C8D4E3"
             },
             "line": {
              "color": "white"
             }
            },
            "type": "table"
           }
          ]
         },
         "layout": {
          "annotationdefaults": {
           "arrowcolor": "#2a3f5f",
           "arrowhead": 0,
           "arrowwidth": 1
          },
          "autotypenumbers": "strict",
          "coloraxis": {
           "colorbar": {
            "outlinewidth": 0,
            "ticks": ""
           }
          },
          "colorscale": {
           "diverging": [
            [
             0,
             "#8e0152"
            ],
            [
             0.1,
             "#c51b7d"
            ],
            [
             0.2,
             "#de77ae"
            ],
            [
             0.3,
             "#f1b6da"
            ],
            [
             0.4,
             "#fde0ef"
            ],
            [
             0.5,
             "#f7f7f7"
            ],
            [
             0.6,
             "#e6f5d0"
            ],
            [
             0.7,
             "#b8e186"
            ],
            [
             0.8,
             "#7fbc41"
            ],
            [
             0.9,
             "#4d9221"
            ],
            [
             1,
             "#276419"
            ]
           ],
           "sequential": [
            [
             0,
             "#0d0887"
            ],
            [
             0.1111111111111111,
             "#46039f"
            ],
            [
             0.2222222222222222,
             "#7201a8"
            ],
            [
             0.3333333333333333,
             "#9c179e"
            ],
            [
             0.4444444444444444,
             "#bd3786"
            ],
            [
             0.5555555555555556,
             "#d8576b"
            ],
            [
             0.6666666666666666,
             "#ed7953"
            ],
            [
             0.7777777777777778,
             "#fb9f3a"
            ],
            [
             0.8888888888888888,
             "#fdca26"
            ],
            [
             1,
             "#f0f921"
            ]
           ],
           "sequentialminus": [
            [
             0,
             "#0d0887"
            ],
            [
             0.1111111111111111,
             "#46039f"
            ],
            [
             0.2222222222222222,
             "#7201a8"
            ],
            [
             0.3333333333333333,
             "#9c179e"
            ],
            [
             0.4444444444444444,
             "#bd3786"
            ],
            [
             0.5555555555555556,
             "#d8576b"
            ],
            [
             0.6666666666666666,
             "#ed7953"
            ],
            [
             0.7777777777777778,
             "#fb9f3a"
            ],
            [
             0.8888888888888888,
             "#fdca26"
            ],
            [
             1,
             "#f0f921"
            ]
           ]
          },
          "colorway": [
           "#636efa",
           "#EF553B",
           "#00cc96",
           "#ab63fa",
           "#FFA15A",
           "#19d3f3",
           "#FF6692",
           "#B6E880",
           "#FF97FF",
           "#FECB52"
          ],
          "font": {
           "color": "#2a3f5f"
          },
          "geo": {
           "bgcolor": "white",
           "lakecolor": "white",
           "landcolor": "#E5ECF6",
           "showlakes": true,
           "showland": true,
           "subunitcolor": "white"
          },
          "hoverlabel": {
           "align": "left"
          },
          "hovermode": "closest",
          "mapbox": {
           "style": "light"
          },
          "paper_bgcolor": "white",
          "plot_bgcolor": "#E5ECF6",
          "polar": {
           "angularaxis": {
            "gridcolor": "white",
            "linecolor": "white",
            "ticks": ""
           },
           "bgcolor": "#E5ECF6",
           "radialaxis": {
            "gridcolor": "white",
            "linecolor": "white",
            "ticks": ""
           }
          },
          "scene": {
           "xaxis": {
            "backgroundcolor": "#E5ECF6",
            "gridcolor": "white",
            "gridwidth": 2,
            "linecolor": "white",
            "showbackground": true,
            "ticks": "",
            "zerolinecolor": "white"
           },
           "yaxis": {
            "backgroundcolor": "#E5ECF6",
            "gridcolor": "white",
            "gridwidth": 2,
            "linecolor": "white",
            "showbackground": true,
            "ticks": "",
            "zerolinecolor": "white"
           },
           "zaxis": {
            "backgroundcolor": "#E5ECF6",
            "gridcolor": "white",
            "gridwidth": 2,
            "linecolor": "white",
            "showbackground": true,
            "ticks": "",
            "zerolinecolor": "white"
           }
          },
          "shapedefaults": {
           "line": {
            "color": "#2a3f5f"
           }
          },
          "ternary": {
           "aaxis": {
            "gridcolor": "white",
            "linecolor": "white",
            "ticks": ""
           },
           "baxis": {
            "gridcolor": "white",
            "linecolor": "white",
            "ticks": ""
           },
           "bgcolor": "#E5ECF6",
           "caxis": {
            "gridcolor": "white",
            "linecolor": "white",
            "ticks": ""
           }
          },
          "title": {
           "x": 0.05
          },
          "xaxis": {
           "automargin": true,
           "gridcolor": "white",
           "linecolor": "white",
           "ticks": "",
           "title": {
            "standoff": 15
           },
           "zerolinecolor": "white",
           "zerolinewidth": 2
          },
          "yaxis": {
           "automargin": true,
           "gridcolor": "white",
           "linecolor": "white",
           "ticks": "",
           "title": {
            "standoff": 15
           },
           "zerolinecolor": "white",
           "zerolinewidth": 2
          }
         }
        },
        "title": {
         "text": "Predictions and Actuals"
        },
        "xaxis": {
         "title": {
          "text": "Time Step"
         }
        },
        "yaxis": {
         "range": [
          0,
          8886.984649658203
         ],
         "title": {
          "text": "Values"
         }
        }
       }
      }
     },
     "metadata": {},
     "output_type": "display_data"
    }
   ],
   "source": [
    "fig4.show()\n"
   ]
  }
 ],
 "metadata": {
  "kernelspec": {
   "display_name": "cherry",
   "language": "python",
   "name": "python3"
  },
  "language_info": {
   "codemirror_mode": {
    "name": "ipython",
    "version": 3
   },
   "file_extension": ".py",
   "mimetype": "text/x-python",
   "name": "python",
   "nbconvert_exporter": "python",
   "pygments_lexer": "ipython3",
   "version": "3.10.15"
  }
 },
 "nbformat": 4,
 "nbformat_minor": 2
}
