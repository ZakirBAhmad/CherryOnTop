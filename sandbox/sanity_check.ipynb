{
 "cells": [
  {
   "cell_type": "code",
   "execution_count": 1,
   "id": "3335ab7a",
   "metadata": {},
   "outputs": [],
   "source": [
    "import sys\n",
    "import os\n",
    "sys.path.append(os.path.abspath('..'))"
   ]
  },
  {
   "cell_type": "code",
   "execution_count": 69,
   "id": "f76f3d9c",
   "metadata": {},
   "outputs": [],
   "source": [
    "import src.load as load\n",
    "import app.utils as utils\n",
    "import numpy as np\n",
    "import pandas as pd\n",
    "import src.table as table\n",
    "import src.graphs as graphs\n",
    "import plotly.graph_objects as go\n",
    "train_dataset, test_dataset, mappings, reverse_mappings, train_meta, test_meta  = load.separate_year('../data/processed/')\n",
    "\n",
    "models = utils.load_models('../app/models')"
   ]
  },
  {
   "cell_type": "code",
   "execution_count": 46,
   "id": "b8e8f856",
   "metadata": {},
   "outputs": [],
   "source": [
    "actuals = test_dataset.Y_kilos.numpy()"
   ]
  },
  {
   "cell_type": "code",
   "execution_count": 39,
   "id": "7fbf43da",
   "metadata": {},
   "outputs": [],
   "source": [
    "folder_path = '../app/preds'"
   ]
  },
  {
   "cell_type": "code",
   "execution_count": 3,
   "id": "07f13822",
   "metadata": {},
   "outputs": [],
   "source": [
    "transplant_weeks = test_meta.WeekTransplanted.values"
   ]
  },
  {
   "cell_type": "code",
   "execution_count": 41,
   "id": "dd02724a",
   "metadata": {},
   "outputs": [],
   "source": [
    "utils.populate_preds(folder_path,models,transplant_weeks,test_dataset)"
   ]
  },
  {
   "cell_type": "code",
   "execution_count": 57,
   "id": "55169d2d",
   "metadata": {},
   "outputs": [],
   "source": [
    "kilo_preds, sched_preds = utils.read_preds('../app/preds',test_dataset)"
   ]
  },
  {
   "cell_type": "code",
   "execution_count": 58,
   "id": "7f0cf3a6",
   "metadata": {},
   "outputs": [
    {
     "data": {
      "text/plain": [
       "((176, 52, 40), (176, 52, 5))"
      ]
     },
     "execution_count": 58,
     "metadata": {},
     "output_type": "execute_result"
    }
   ],
   "source": [
    "kilo_preds.shape, sched_preds.shape"
   ]
  },
  {
   "cell_type": "code",
   "execution_count": 59,
   "id": "6596318b",
   "metadata": {},
   "outputs": [],
   "source": [
    "season_preds, season_actuals = table.season_shift(transplant_weeks,kilo_preds,actuals)"
   ]
  },
  {
   "cell_type": "code",
   "execution_count": 60,
   "id": "718147de",
   "metadata": {},
   "outputs": [
    {
     "data": {
      "text/plain": [
       "(176, 52, 71)"
      ]
     },
     "execution_count": 60,
     "metadata": {},
     "output_type": "execute_result"
    }
   ],
   "source": [
    "season_preds.shape"
   ]
  },
  {
   "cell_type": "code",
   "execution_count": 61,
   "id": "9e23fc77",
   "metadata": {},
   "outputs": [
    {
     "data": {
      "text/plain": [
       "array([[0., 0., 0., ..., 0., 0., 0.],\n",
       "       [0., 0., 0., ..., 0., 0., 0.],\n",
       "       [0., 0., 0., ..., 0., 0., 0.],\n",
       "       ...,\n",
       "       [0., 0., 0., ..., 0., 0., 0.],\n",
       "       [0., 0., 0., ..., 0., 0., 0.],\n",
       "       [0., 0., 0., ..., 0., 0., 0.]], dtype=float32)"
      ]
     },
     "execution_count": 61,
     "metadata": {},
     "output_type": "execute_result"
    }
   ],
   "source": [
    "season_actuals"
   ]
  },
  {
   "cell_type": "code",
   "execution_count": 64,
   "id": "41d61409",
   "metadata": {},
   "outputs": [],
   "source": [
    "summed_preds = np.sum(kilo_preds, axis=0)  # Shape: (20, 51)\n",
    "summed_actuals = np.sum(actuals, axis=0) "
   ]
  },
  {
   "cell_type": "code",
   "execution_count": 66,
   "id": "a21ca76c",
   "metadata": {},
   "outputs": [
    {
     "data": {
      "text/plain": [
       "(52, 40)"
      ]
     },
     "execution_count": 66,
     "metadata": {},
     "output_type": "execute_result"
    }
   ],
   "source": [
    "summed_preds.shape"
   ]
  },
  {
   "cell_type": "code",
   "execution_count": 67,
   "id": "f47be90b",
   "metadata": {},
   "outputs": [
    {
     "data": {
      "text/plain": [
       "(40,)"
      ]
     },
     "execution_count": 67,
     "metadata": {},
     "output_type": "execute_result"
    }
   ],
   "source": [
    "summed_actuals.shape"
   ]
  },
  {
   "cell_type": "code",
   "execution_count": 68,
   "id": "299668f0",
   "metadata": {},
   "outputs": [],
   "source": [
    "max_pred_value = np.max(summed_preds)"
   ]
  },
  {
   "cell_type": "code",
   "execution_count": 112,
   "id": "98cb107f",
   "metadata": {},
   "outputs": [],
   "source": [
    "traces = []\n",
    "for i in range(summed_preds.shape[0]):  # Iterate over the 20 middle dimension\n",
    "    trace = go.Scatter(\n",
    "        x=np.arange(summed_preds.shape[1]),  # X-axis: 0 to 50\n",
    "        y=summed_preds[i, :],  # Y-axis: summed predictions for each middle dimension\n",
    "        mode='lines',\n",
    "        name=f'Preds Trace {i+1}',\n",
    "        visible=(i == 0)  # Only the first trace is visible initially\n",
    "    )\n",
    "    traces.append(trace)"
   ]
  },
  {
   "cell_type": "code",
   "execution_count": 123,
   "id": "784ffbec",
   "metadata": {},
   "outputs": [],
   "source": [
    "actuals_trace = go.Bar(\n",
    "    x=np.arange(summed_actuals.shape[0]),  # X-axis: 0 to 50\n",
    "    y=summed_actuals,  # Y-axis: summed actuals\n",
    "    name='Actuals',\n",
    "    visible=True\n",
    ")"
   ]
  },
  {
   "cell_type": "code",
   "execution_count": 115,
   "id": "2dd81cf9",
   "metadata": {},
   "outputs": [],
   "source": [
    "traces.append(actuals_trace)"
   ]
  },
  {
   "cell_type": "code",
   "execution_count": 118,
   "id": "e669d829",
   "metadata": {},
   "outputs": [],
   "source": [
    "fig = go.Figure(data=traces)"
   ]
  },
  {
   "cell_type": "code",
   "execution_count": 119,
   "id": "d4577b60",
   "metadata": {},
   "outputs": [],
   "source": [
    "steps = []\n",
    "for i in range(len(traces) - 1):  # Exclude the actuals trace from the slider\n",
    "    step = dict(\n",
    "        method='update',\n",
    "        args=[{'visible': [j == i for j in range(len(traces) - 1)] + [True]}],  # Show only one preds trace and the actuals\n",
    "        label=f'Preds Trace {i+1}'\n",
    "    )\n",
    "    steps.append(step)"
   ]
  },
  {
   "cell_type": "code",
   "execution_count": 120,
   "id": "4b819138",
   "metadata": {},
   "outputs": [],
   "source": [
    "sliders = [dict(\n",
    "    active=0,\n",
    "    currentvalue={\"prefix\": \"Trace: \"},\n",
    "    pad={\"t\": summed_preds.shape[1]},\n",
    "    steps=steps\n",
    ")]"
   ]
  },
  {
   "cell_type": "code",
   "execution_count": 122,
   "id": "a8a32d42",
   "metadata": {},
   "outputs": [
    {
     "data": {
      "application/vnd.plotly.v1+json": {
       "config": {
        "plotlyServerURL": "https://plot.ly"
       },
       "data": [
        {
         "mode": "lines",
         "name": "Preds Trace 1",
         "type": "scatter",
         "visible": true,
         "x": {
          "bdata": "AAECAwQFBgcICQoLDA0ODxAREhMUFRYXGBkaGxwdHh8gISIjJCUmJw==",
          "dtype": "i1"
         },
         "y": {
          "bdata": "AAAAAAAAAAAAAMSa2nzNQQCAJ95WO5VBAABAHa5qtUEAALRKy57HQQAAHF8upstBAAA8DgZiwkEAAAAAAAAAAAAAFI9eAstBAACobqhNyEEAAHQjvv/EQQAAAAAAAAAAAAA0YS+Xw0EAACB/X8zDQQAAAAAAAAAAAAAAAAAAAAAAAAapLJ2hQQAADMWpcMlBAAA0JDc/ykEAAAAAAAAAAAAA2FVvl7lBAABY9XNaskEAAMOotw6KQQBAc/cbZoNBAAAAAAAAAAAAAAAAAAAAAAAAAJUrPRxBAAAAAAAAAAAAAAAAAAAAAAAAAAAAAAAAAAAAAAAAAAAAAAAAAAAAAAAAAAAAAAAAAAAAAAAAAAAAAAAAAAAAAAAAAAAAAAAAAAAAAAAAAAAAAAAAAAAAAAAAAAAAAAAAAAAAAAAAAAA=",
          "dtype": "f8"
         }
        },
        {
         "mode": "lines",
         "name": "Preds Trace 2",
         "type": "scatter",
         "visible": false,
         "x": {
          "bdata": "AAECAwQFBgcICQoLDA0ODxAREhMUFRYXGBkaGxwdHh8gISIjJCUmJw==",
          "dtype": "i1"
         },
         "y": {
          "bdata": "AAAAAAAAAAAAAMSa2nzNQQCAJ95WO5VBAABAHa5qtUEAALRKy57HQQAAHF8upstBAAA8DgZiwkEAAAAAAAAAAAAAFI9eAstBAACobqhNyEEAAHQjvv/EQQAAAAAAAAAAAAA0YS+Xw0EAACB/X8zDQQAAAAAAAAAAAAAAAAAAAAAAAAapLJ2hQQAADMWpcMlBAAA0JDc/ykEAAAAAAAAAAAAA2FVvl7lBAABY9XNaskEAAMOotw6KQQBAc/cbZoNBAAAAAAAAAAAAAAAAAAAAAAAAAJUrPRxBAAAAAAAAAAAAAAAAAAAAAAAAAAAAAAAAAAAAAAAAAAAAAAAAAAAAAAAAAAAAAAAAAAAAAAAAAAAAAAAAAAAAAAAAAAAAAAAAAAAAAAAAAAAAAAAAAAAAAAAAAAAAAAAAAAAAAAAAAAA=",
          "dtype": "f8"
         }
        },
        {
         "mode": "lines",
         "name": "Preds Trace 3",
         "type": "scatter",
         "visible": false,
         "x": {
          "bdata": "AAECAwQFBgcICQoLDA0ODxAREhMUFRYXGBkaGxwdHh8gISIjJCUmJw==",
          "dtype": "i1"
         },
         "y": {
          "bdata": "AAAAAAAAAAAAAMSa2nzNQQCAJ95WO5VBAABAHa5qtUEAALRKy57HQQAAHF8upstBAAA8DgZiwkEAAAAAAAAAAAAAFI9eAstBAACobqhNyEEAAHQjvv/EQQAAAAAAAAAAAAA0YS+Xw0EAACB/X8zDQQAAAAAAAAAAAAAAAAAAAAAAAAapLJ2hQQAADMWpcMlBAAA0JDc/ykEAAAAAAAAAAAAA2FVvl7lBAABY9XNaskEAAMOotw6KQQBAc/cbZoNBAAAAAAAAAAAAAAAAAAAAAAAAAJUrPRxBAAAAAAAAAAAAAAAAAAAAAAAAAAAAAAAAAAAAAAAAAAAAAAAAAAAAAAAAAAAAAAAAAAAAAAAAAAAAAAAAAAAAAAAAAAAAAAAAAAAAAAAAAAAAAAAAAAAAAAAAAAAAAAAAAAAAAAAAAAA=",
          "dtype": "f8"
         }
        },
        {
         "mode": "lines",
         "name": "Preds Trace 4",
         "type": "scatter",
         "visible": false,
         "x": {
          "bdata": "AAECAwQFBgcICQoLDA0ODxAREhMUFRYXGBkaGxwdHh8gISIjJCUmJw==",
          "dtype": "i1"
         },
         "y": {
          "bdata": "AAAAAAAAAAAAAMSa2nzNQQCAJ95WO5VBAABAHa5qtUEAALRKy57HQQAAHF8upstBAAA8DgZiwkEAAAAAAAAAAAAAFI9eAstBAACobqhNyEEAAHQjvv/EQQAAAAAAAAAAAAA0YS+Xw0EAACB/X8zDQQAAAAAAAAAAAAAAAAAAAAAAAAapLJ2hQQAADMWpcMlBAAA0JDc/ykEAAAAAAAAAAAAA2FVvl7lBAABY9XNaskEAAMOotw6KQQBAc/cbZoNBAAAAAAAAAAAAAAAAAAAAAAAAAJUrPRxBAAAAAAAAAAAAAAAAAAAAAAAAAAAAAAAAAAAAAAAAAAAAAAAAAAAAAAAAAAAAAAAAAAAAAAAAAAAAAAAAAAAAAAAAAAAAAAAAAAAAAAAAAAAAAAAAAAAAAAAAAAAAAAAAAAAAAAAAAAA=",
          "dtype": "f8"
         }
        },
        {
         "mode": "lines",
         "name": "Preds Trace 5",
         "type": "scatter",
         "visible": false,
         "x": {
          "bdata": "AAECAwQFBgcICQoLDA0ODxAREhMUFRYXGBkaGxwdHh8gISIjJCUmJw==",
          "dtype": "i1"
         },
         "y": {
          "bdata": "AAAAAAAAAAAAAMSa2nzNQQCAJ95WO5VBAABAHa5qtUEAALRKy57HQQAAHF8upstBAAA8DgZiwkEAAAAAAAAAAAAAFI9eAstBAACobqhNyEEAAHQjvv/EQQAAAAAAAAAAAAA0YS+Xw0EAACB/X8zDQQAAAAAAAAAAAAAAAAAAAAAAAAapLJ2hQQAADMWpcMlBAAA0JDc/ykEAAAAAAAAAAAAA2FVvl7lBAABY9XNaskEAAMOotw6KQQBAc/cbZoNBAAAAAAAAAAAAAAAAAAAAAAAAAJUrPRxBAAAAAAAAAAAAAAAAAAAAAAAAAAAAAAAAAAAAAAAAAAAAAAAAAAAAAAAAAAAAAAAAAAAAAAAAAAAAAAAAAAAAAAAAAAAAAAAAAAAAAAAAAAAAAAAAAAAAAAAAAAAAAAAAAAAAAAAAAAA=",
          "dtype": "f8"
         }
        },
        {
         "mode": "lines",
         "name": "Preds Trace 6",
         "type": "scatter",
         "visible": false,
         "x": {
          "bdata": "AAECAwQFBgcICQoLDA0ODxAREhMUFRYXGBkaGxwdHh8gISIjJCUmJw==",
          "dtype": "i1"
         },
         "y": {
          "bdata": "AAAAAAAAAAAAAATsRhDNQQCAFx1NqpdBAAABja8OtUEAAJTErq7HQQAAGMWqUMtBAADc0mOIwkEAAACIZqVhQQAAFPb738pBAACobNoxyEEAAPhex7DEQQAAAOh33nBBAABUcxJ2w0EAADjzJqnDQQAAAITQUSpBAAAAmOFdY0EAABZjl9+jQQAA/P84eslBAABUYuEYykEAAABYhcpXQQAAKPg2SblBAADYDZBtskEAADOconOJQQBAWY+Zb4NBAAAAAAAAAAAAAAAgsbHwQAAAoCL/C0dBAAAAAAAAAAAAAAAAAAAAAAAAAAAAAAAAAAAAAAAAAAAAAAAAAAAAAAAAAAAAAAAAAAAAAAAAAAAAAAAAAAAAAAAAAAAAAAAAAAAAAAAAAAAAAAAAAAAAAAAAAAAAAAAAAAAAAAAAAAA=",
          "dtype": "f8"
         }
        },
        {
         "mode": "lines",
         "name": "Preds Trace 7",
         "type": "scatter",
         "visible": false,
         "x": {
          "bdata": "AAECAwQFBgcICQoLDA0ODxAREhMUFRYXGBkaGxwdHh8gISIjJCUmJw==",
          "dtype": "i1"
         },
         "y": {
          "bdata": "AAAAAAAAAAAAAATsRhDNQQCAF1bBAJVBAADA09INtUEAAJQWA7vHQQAA3KPZCcxBAABc1H2owkEAAAAAAAAAAAAA1NPhKctBAACoz4CmyEEAAFTXqq3EQQAAAJBhKGxBAADEYguCw0EAACDBlMnDQQAAACAjalZBAAAAIAi7bkEAAFamSBiiQQAAvFhEu8lBAABUbGfSyUEAAACwCbhjQQAAGJr7tLlBAAAYS4sZskEAADOconOJQQBA2b375IRBAAAAAAAAAAAAAAAk4uQeQQAAoN7DoUBBAAAAAAAAAAAAAAAAAAAAAAAAAAAAAAAAAAAAAAAAAAAAAAAAAAAAAAAAAAAAAAAAAAAAAAAAAAAAAAAAAAAAAAAAAAAAAAAAAAAAAAAAAAAAAAAAAAAAAAAAAAAAAAAAAAAAAAAAAAA=",
          "dtype": "f8"
         }
        },
        {
         "mode": "lines",
         "name": "Preds Trace 8",
         "type": "scatter",
         "visible": false,
         "x": {
          "bdata": "AAECAwQFBgcICQoLDA0ODxAREhMUFRYXGBkaGxwdHh8gISIjJCUmJw==",
          "dtype": "i1"
         },
         "y": {
          "bdata": "AAAAAAAAAAAAAMQZCzfLQQCAd3t7jp1BAACEivbAs0EAAIR5OXfHQQAAzEQcEspBAABcVaTJwkEAAAAaDi6HQQAARAe11slBAACoV2QFyEEAAETUSmvDQQAAAFYHBo5BAADktEgnw0EAAEBz52bDQQAAACXmejRBAAAAHsggh0EAAJYlQmKpQQAAPF7bPMlBAADUHC86yUEAAAC/C4d6QQAAWKBCF7hBAACYqDoTskEAAEuad/GJQQBAIWJn/oNBAAAAAAAAAAAAAAAwrAQSQQAAULe3sV5BAAAAAAAAAAAAAAAAAAAAAAAAAAAAAAAAAAAAoOnSDEEAAAAAAAAAAAAAAAAAAAAAAAAAAAAAAAAAAAAAAAAAAAAAAAAAAAAAAAAAAAAAAAAAAAAAAAAAAAAAAAAAAAAAAAAAAAAAAAA=",
          "dtype": "f8"
         }
        },
        {
         "mode": "lines",
         "name": "Preds Trace 9",
         "type": "scatter",
         "visible": false,
         "x": {
          "bdata": "AAECAwQFBgcICQoLDA0ODxAREhMUFRYXGBkaGxwdHh8gISIjJCUmJw==",
          "dtype": "i1"
         },
         "y": {
          "bdata": "AAAAAAAAAAAAAMQZCzfLQQCA9w7eW5RBAABQupqws0EAALQbqn7HQQAAvO8xm8xBAAA3D/YEw0EAAAAITvpRQQAApLkJfstBAAAIm0QAyUEAAERoD9LDQQAAAMz3EJFBAAB03plEw0EAAEh0y3jDQQAAAOlK54FBAAAAMAT+kUEAAPYX6xOlQQAA/AT1KspBAABUb65dyEEAAIC8zwiFQQAAGOIhwLlBAAD4oYEbsUEAAMuYVAuIQQBAkfw9Z4lBAAAA8HLUS0EAAADiT2g1QQAA0P1GwFdBAAAAAAAAAAAAAAAAAAAAAAAAAAAAAAAAAAAAAAAAAAAAAAAAAAAAAAAAAAAAAAAAAAAAAAAAAAAAAAAAAAAAAAAAAAAAAAAAAAAAAAAAAAAAAAAAAAAAAAAAAAAAAAAAAAAAAAAAAAA=",
          "dtype": "f8"
         }
        },
        {
         "mode": "lines",
         "name": "Preds Trace 10",
         "type": "scatter",
         "visible": false,
         "x": {
          "bdata": "AAECAwQFBgcICQoLDA0ODxAREhMUFRYXGBkaGxwdHh8gISIjJCUmJw==",
          "dtype": "i1"
         },
         "y": {
          "bdata": "AAAAAAAAAAAAAMQZCzfLQQCA9w7eW5RBAABQupqws0EAACS2Hq7GQQAAHIeV/8pBAACsf+KWwkEAAIAZaxOQQQAAtAwkA8lBAAAI4H3+yEEAGLENcc7DQQAAALz3WVlBAABUsr0CxEEAAIBlpY3EQQAAAAAAAAAAAAAAulqWh0EAAJaaBkGhQQAAHPGm08lBAABUsYU0yUEAAABwjAB7QQAASAclgLhBAADS1ZgTsUEAgKWQ0JSRQQBAERI8poJBAAAAAAAAAAAAAAAAAAAAAAAAQInywzJBAAAAAAAAAAAAAAAAAAAAAAAAAAAAAAAAAAAAgKvXHkEAAAAAAAAAAAAAAAAAAAAAAAAAAAAAAAAAAAAAAAAAAAAAAAAAAAAAAAAAAAAAAAAAAAAAAAAAAAAAAAAAAAAAAAAAAAAAAAA=",
          "dtype": "f8"
         }
        },
        {
         "mode": "lines",
         "name": "Preds Trace 11",
         "type": "scatter",
         "visible": false,
         "x": {
          "bdata": "AAECAwQFBgcICQoLDA0ODxAREhMUFRYXGBkaGxwdHh8gISIjJCUmJw==",
          "dtype": "i1"
         },
         "y": {
          "bdata": "AAAAAAAAAAAAACTxwkrKQQCAn7LDRZlBAAB8MUn7skEAAHS48QXGQQAA9C2j8MlBAAD+PbJWwUEAAEDOi1OPQQAApDhNZstBAABoPNcTxkEAAPQF0PHEQQAAANGulZVBAAA0SSdAxEEAANhZvtXCQQAAoG9wTZRBAAAACQHKl0EAABaKXaiuQQAAXNXn2shBAAD0FQXAyUEAAABDFgiBQQAA7MxYs7dBAAA4KVPtsUEAAPutAAmKQQBAyUWT9oJBAAAAgpIIaEEAAADgfMf2QAAAUHn89lpBAAAAAAAAAAAAAAAAAAAAAAAAAAAAAAAAAAAAAAAAAAAAAAAAAAAAAAAAAAAAAAAAAAAAAAAAAAAAAAAAAAAAAAAAAAAAAAAAAAAAAAAAAAAAAAAAAAAAAAAAAAAAAAAAAAAAAAAAAAA=",
          "dtype": "f8"
         }
        },
        {
         "mode": "lines",
         "name": "Preds Trace 12",
         "type": "scatter",
         "visible": false,
         "x": {
          "bdata": "AAECAwQFBgcICQoLDA0ODxAREhMUFRYXGBkaGxwdHh8gISIjJCUmJw==",
          "dtype": "i1"
         },
         "y": {
          "bdata": "AAAAAAAAAAAAACTxwkrKQQCAn506BJRBAAAQegb3skEAAISe7/nFQQAAfJQx4clBAABsmy+QwkEAAACLLVODQQAAFCV2FcpBAAAoeF4SyUEAAJSdzyfEQQAAgLHuyY1BAAAMZC05w0EAAJAn8kLCQQAAAB1CrYFBAAAAevlWgEEAAPaDo5mkQQAAXH2wecpBAADUFwvPyEEAAIBl8EaIQQAAePZG1LdBAAA4hd5KsEEAgH12vvaQQQBAUbB98YRBAAAASM71TEEAAAAdjOYwQQAAoLogj0dBAAAAAAAAAAAAAAAAAAAAAAAAAAAAAAAAAAAAAAAAAAAAAAAAAAAAAAAAAAAAAAAAAAAAAAAAAAAAAAAAAAAAAAAAAAAAAAAAAAAAAAAAAAAAAAAAAAAAAAAAAAAAAAAAAAAAAAAAAAA=",
          "dtype": "f8"
         }
        },
        {
         "mode": "lines",
         "name": "Preds Trace 13",
         "type": "scatter",
         "visible": false,
         "x": {
          "bdata": "AAECAwQFBgcICQoLDA0ODxAREhMUFRYXGBkaGxwdHh8gISIjJCUmJw==",
          "dtype": "i1"
         },
         "y": {
          "bdata": "AAAAAAAAAAAAAIRL1Z7JQQCA24DAY5hBAAB7MzxxskEAAATv55fFQQAAwCJs18hBAAAkjghHwUEAAECeoW2jQQAAxDidrclBAAAYXCwHx0EAAJx9l1bEQQAAAAI/zIVBAAAUM0phxEEAAKBQzWbDQQAAAC7PtZJBAACAMjJFlUEAADbdztytQQAA7NPd3MdBAACUcQuwykEAAIDQmdaJQQAAUkXjUbdBAAAAcJeLsEEAgOVDdhqTQQBAaVfIbYJBAAAAAAAAAAAAAADAr9jhQAAAJNs5pmFBAAAAAAAAAAAAAAAAAAAAAAAAAAAAAAAAAAAA4K/WAUEAAAAAAAAAAAAAAAAAAAAAAAAAAAAAAAAAAACgOmbtQAAAAAAAAAAAAAAAAAAAAAAAAAAAAAAAAAAAAAAAAAAAAAAAAAAAAAA=",
          "dtype": "f8"
         }
        },
        {
         "mode": "lines",
         "name": "Preds Trace 14",
         "type": "scatter",
         "visible": false,
         "x": {
          "bdata": "AAECAwQFBgcICQoLDA0ODxAREhMUFRYXGBkaGxwdHh8gISIjJCUmJw==",
          "dtype": "i1"
         },
         "y": {
          "bdata": "AAAAAAAAAAAAAKSXe6jIQQCAe8VBiJlBAADKGujRsUEAAARx8ovFQQAAtg/uN8lBAABtm7wmwUEAAACfyEZ+QQAAlBTneMpBAADozAfcx0EAAJzXntnCQQAAwA/JUqVBAADU4SsexEEAACgLs7bCQQAAGJ2lcqJBAAAAk6NxnEEAACZgg9euQQAA3IKAt8lBAADktW1wx0EAAGBn4AaRQQAAeB/ArbdBAABYW0PysEEAAItXEreHQQBAiQoLJYZBAACAY6cEckEAAAAEYlhHQQAAUKuCZlRBAAAAAAAAAAAAAAAAAAAAAAAAAAAAAAAAAAAAAAAAAAAAAAAAAAAAAAAAAAAAAAAAAAAAAAAAAAAAAAAAAAAAAAAAAAAAAAAAAAAA4OFF3kAAAAAAAAAAAAAAAAAAAAAAAAAAoDoP8kA=",
          "dtype": "f8"
         }
        },
        {
         "mode": "lines",
         "name": "Preds Trace 15",
         "type": "scatter",
         "visible": false,
         "x": {
          "bdata": "AAECAwQFBgcICQoLDA0ODxAREhMUFRYXGBkaGxwdHh8gISIjJCUmJw==",
          "dtype": "i1"
         },
         "y": {
          "bdata": "AAAAAAAAAAAAAKSXe6jIQQCA+75shJNBAADAELSxsUEAADTSKNvEQQAAXBbt7chBAAAk2IxdwUEAAAAGl2mFQQAA1KlhtsdBAAB4g5ISyUEAAAyAcJjDQQAAIAZH65xBAACgrBgEw0EAAHhYiMHEQQAAwOrMVJJBAACAMDr/lEEAAGbhyCCpQQAAzIZSf8lBAADkdgJdx0EAAEB0igeTQQAAWBRqobZBAACgR367r0EAgAVzORKTQQBAyfyqGIRBAAAAyD1yMkEAAAAk/bUZQQAAUN5qmVVBAAAAgCCsFUEAAAAAAAAAAAAAAAAAAAAAAAAA4KYDE0EAAAAAAAAAAAAAAAAAAAAAAAAAAAAAAAAAAAAAAAAAAAAAAAAAAAAAAAAAAAAAAAAAAAAAAAAAAAAAAAAAAAAAAAAAAAAAAAA=",
          "dtype": "f8"
         }
        },
        {
         "mode": "lines",
         "name": "Preds Trace 16",
         "type": "scatter",
         "visible": false,
         "x": {
          "bdata": "AAECAwQFBgcICQoLDA0ODxAREhMUFRYXGBkaGxwdHh8gISIjJCUmJw==",
          "dtype": "i1"
         },
         "y": {
          "bdata": "AAAAAAAAAAAAAGQOSCzGQQCADyPPU5lBAABOPRxssEEAAORAb9LDQQAArMzjNsZBAAAYfIokv0EAAMDGr3SeQQAABMFD08ZBAADo4G43xEEAAKZPbq/BQQAAALDWs6hBAAAUlwP9wkEAAEQqP8nDQQCA9meZtKRBAABg2Eejo0EAACOF+qC2QQAARHPE9MdBAACEvPa8yUEAAIDpjciOQQAAqLvkqrRBAAC8SGVfr0EAgMN2S7eUQQBA6TxiRoJBAAAAnlxOWEEAAIBKbvtWQQAAqMUnn11BAAAAAAAAAAAAAAAAAAAAAAAAABi3yDJBAAAA4PQoAkEAAAAAAAAAAAAAAAAAAAAAAAAAoIdWDkEAAABgeQz3QAAAAPDrmAxBAAAAAAAAAAAAAAAAAAAAAAAAAEBZfCZBAACA5jfRL0E=",
          "dtype": "f8"
         }
        },
        {
         "mode": "lines",
         "name": "Preds Trace 17",
         "type": "scatter",
         "visible": false,
         "x": {
          "bdata": "AAECAwQFBgcICQoLDA0ODxAREhMUFRYXGBkaGxwdHh8gISIjJCUmJw==",
          "dtype": "i1"
         },
         "y": {
          "bdata": "AAAAAAAAAAAAAGTrSRfFQQCAz5CAQJlBAHCVsJo2r0EAABywcW7DQQAAjOrLd8ZBAADCo5T/v0EAAIAX8pWKQQAAXM2swMdBAAAIJYCMxUEAUAyUufvAQQAAAIPoqKpBAAB83eltw0EAAMTEwEDCQQAASCsGLKJBAAC4apUkskEAAJ9A4RGyQQAAJPbTJMdBAACMw4UpxkEAALBqzp+gQQAAYKRSNLhBAADw1JUHrEEAAAhgB4SRQQBA/65kR4ZBAABcN96+cUEAAAC4FCohQQAACCnmhmxBAAAAAAAAAAAAAAAAAAAAAAAAAAAAAAAAAAAAAAAAAAAAAAAAAAAAAAAAAAAAAAAAAAAAAAAAAAAAAAB2pYUoQQAAAAAAAAAAAAAAAPpE5UAAAAAAAAAAAAAAAAAAAAAAAAAAQM9zFUE=",
          "dtype": "f8"
         }
        },
        {
         "mode": "lines",
         "name": "Preds Trace 18",
         "type": "scatter",
         "visible": false,
         "x": {
          "bdata": "AAECAwQFBgcICQoLDA0ODxAREhMUFRYXGBkaGxwdHh8gISIjJCUmJw==",
          "dtype": "i1"
         },
         "y": {
          "bdata": "AAAAAAAAAAAAAKToNJzCQQCA56VXmZtBAABwSAapq0EAAHTAdTTCQQAAZLIR+sNBAAA8oYtMwEEAAMAk5YqkQQAAZGBBEMRBAADAPNcgxkEAAD1ZApK/QQDAZjkmbaJBAADixXQ5xEEAALR0Yv3BQQAAOF9ocalBAADATgYTqUEAALvOFaK1QQAAGiX5RMdBAAAUXMzUyEEAAFAbWPChQQAAagBbRrRBAACoA1N3rEEAABDV12acQQBAkyT8XYRBAAAAAAAAAAAAAACsXOgFQQAAkGyC+GhBAAAAAKiIJkEAAAAAAAAAAAAAAKB84UZBAAAA2uqpJUEAAAAAAAAAAAAAAAAAAAAAAAAAcqtxQ0EAAABwjnAdQQAAAEe9nCZBAAAAoEgsQ0EAAAAAAAAAAAAAAKqNlk1BAAAAAAAAAAA=",
          "dtype": "f8"
         }
        },
        {
         "mode": "lines",
         "name": "Preds Trace 19",
         "type": "scatter",
         "visible": false,
         "x": {
          "bdata": "AAECAwQFBgcICQoLDA0ODxAREhMUFRYXGBkaGxwdHh8gISIjJCUmJw==",
          "dtype": "i1"
         },
         "y": {
          "bdata": "AAAAAAAAAAAAABBLXE3AQQCAt3OvGJ9BAABLz7v8qEEAAMCmVDbCQQAASBI6wMRBAAAIJRirv0EAgGaPN0mlQQAA+FmZ+MVBAAD4BqZkxEEAALDROPW8QQAAQIAG8LFBAABYTDo2wkEAAKC2ExXDQQDooGUZPrBBAAAwFf1TtUEAAENZtlK5QQAAyNICk8ZBAAAAilQdxUEAAOBckRawQQAAbN78QrhBAABUs11SqkEAAKXbOEGjQQBAFRRyV49BAACA8AabckEAAP2SqKB1QQAAhARC83pBAAAAACpEXUEAAAAAAAAAAAAAAAAAAAAAAAAAoGdPBkEAAAAAAAAAAAAAAAAAAAAAAAAAwHSBLEEAAADIA5wQQQAAAAAnV+pAAAAAQFc35UAAAAAAAAAAAAAAAEC3GhNBAAAAUPEtE0E=",
          "dtype": "f8"
         }
        },
        {
         "mode": "lines",
         "name": "Preds Trace 20",
         "type": "scatter",
         "visible": false,
         "x": {
          "bdata": "AAECAwQFBgcICQoLDA0ODxAREhMUFRYXGBkaGxwdHh8gISIjJCUmJw==",
          "dtype": "i1"
         },
         "y": {
          "bdata": "AAAAAAAAAAAAACAmW1m+QQAAznAh5pNBAAA4Ne3ppkEAAMBcgYC/QQAAXEzpIMRBAICYdP59vkEAAOATSAqgQQAAOIvvb8NBAABos2SdxkEAALCb0su7QQAAiOhBP69BAACc16PKwkEAAPAmeLbAQQAAYBHfoq1BAAAgr9YatEEAAO93G8q3QQAAQDYpYMlBAABoZjqaxUEAAEDGxsClQQAAuAVoE7lBAIAUlSIVsEEAABkaNf2gQQCgrX347JBBAAAAa915dEEAAMgIU4hSQQAA6CZ+VmxBAAAAwNUzO0EAAAAAAAAAAAAAAEC0puFAAAAAMNrxJkEAAAAAAAAAAAAAAAAAAAAAAAAAirC2XkEAABChOXQeQQAAAAAAAAAAAAAAnqh/VkEAAAAAAAAAAAAAAAwgy0dBAAAAYB7E2EA=",
          "dtype": "f8"
         }
        },
        {
         "mode": "lines",
         "name": "Preds Trace 21",
         "type": "scatter",
         "visible": false,
         "x": {
          "bdata": "AAECAwQFBgcICQoLDA0ODxAREhMUFRYXGBkaGxwdHh8gISIjJCUmJw==",
          "dtype": "i1"
         },
         "y": {
          "bdata": "AAAAAAAAAAAAACAmW1m+QQAAnIfzX41BAABgtsJspkEAAPD9x5u7QQAAMMdgusJBAAAQfkGqukEAAA5SDPmoQQAAEBjcHMJBAABINYDuw0EAAIrIvH3AQQAAyCexuahBAADYsKwlxEEAAKixFJ/CQQAAkOa2/LFBAACg6gWHr0EAAGe1Li22QQAAkDSWMMZBAAAcJyQkxkEAAKC4GAmpQQAARCxsuLJBAABoXMRhqEEAAPV6mAynQQCgDfsfjZdBAAB4LuYOg0EAAJhp4paXQQAAmgashY1BAACkthIMfkEAAABAcnEsQQAAgKH3hGZBAAAAAD4zHEEAAAAAAAAAAAAAAAAAAAAAAAAAtIjcNUEAAACAhQ0BQQAAAOB4lBBBAAAAAAAAAAAAAAAAAAAAAAAAAIQNrF9BAAAAwSwcIEE=",
          "dtype": "f8"
         }
        },
        {
         "mode": "lines",
         "name": "Preds Trace 22",
         "type": "scatter",
         "visible": false,
         "x": {
          "bdata": "AAECAwQFBgcICQoLDA0ODxAREhMUFRYXGBkaGxwdHh8gISIjJCUmJw==",
          "dtype": "i1"
         },
         "y": {
          "bdata": "AAAAAAAAAAAAAGAzg6K7QQAAdgqSN5VBAACQtaTlpEEAAPgDQ9q4QQAAQAVReL9BAAAkHoGXuEEAAJAkVj+oQQAAoFo/1MRBAAAYFFwIwkEAQCDtnVTAQQAAgH/UCLVBAACQ6eQbxEEAAGAl+SbAQQAAvnpGVbZBAAAASNZ0tkEAgEFqLr3AQQAAoETpVMZBAAA49NU/yEEAAFBTc7+uQQAANjEhw7JBAAC42nyNr0EAAB5E/qCpQQCgeb4/JJ5BAACATPjvhUEAAIQyts5mQQAAuNVIKVBBAAAAAKxc20AAAAAA7CtuQQAAAAAAAAAAAABo0NoVYkEAAAAkA2xGQQAAAHiXplVBAAAAAAAAAAAAAAAAAAAAAAAAAAB1KupAAAAAOL5ICUEAAAAAAAAAAAAAAJAv0iZBAAAA4MomCEE=",
          "dtype": "f8"
         }
        },
        {
         "mode": "lines",
         "name": "Preds Trace 23",
         "type": "scatter",
         "visible": false,
         "x": {
          "bdata": "AAECAwQFBgcICQoLDA0ODxAREhMUFRYXGBkaGxwdHh8gISIjJCUmJw==",
          "dtype": "i1"
         },
         "y": {
          "bdata": "AAAAAAAAAAAAAGDfuZe6QQAAgOtun5BBAAC4iy0VpEEAAEAeJ5W4QQAAyIZXU71BAAD44ramuEEAAJDGLqapQQAATEeVc8JBAADIFvcHxEEAAGDvqYvAQQAA0As5ALBBAACQ/y3pwkEAAPAkNT28QQAASJQs6LNBAABgl0oUsUEAAPbE1u+6QQAAtou6fsZBAAAoRRQZx0EAALAVatCrQQAApMPworZBAAAY8nu7qEEAAILKxXGlQQCgnxnd95VBAABwzGOimEEAgBauZXmXQQAAeKHwXWRBAAAAeMqqPEEAAACoJYkqQQAAQEoAWIFBAAAAAAAAAAAAAAAANxgDQQAAAOC+CkVBAADgVTzWVUEAAGRd0S8oQQAAwFgZPEBBAABA3PeIUUEAAACgurwAQQAAAIIzgnVBAAAAQHto6kA=",
          "dtype": "f8"
         }
        },
        {
         "mode": "lines",
         "name": "Preds Trace 24",
         "type": "scatter",
         "visible": false,
         "x": {
          "bdata": "AAECAwQFBgcICQoLDA0ODxAREhMUFRYXGBkaGxwdHh8gISIjJCUmJw==",
          "dtype": "i1"
         },
         "y": {
          "bdata": "AAAAAAAAAAAAAKAIumi4QQAAAHaXIpFBAAAow9VookEAAACpVI62QQAAmLT8Q7lBAAAwGSKGtEEAAAAycfauQQAAiLFL38BBAAD4pDaBwUEAQPZ22V28QQAAUoppja9BAAAIIS/PwkEAAAgBuF3AQQAABAi3h7pBAAD4uXursUEAAJ7eIR26QQAAgPLYG8NBAAAA9w5yx0EAAFDxYqStQQAA8pkV9bFBAAB4dE+7rEEAAEYOqEenQQBAi4CNHoxBAAAACG4se0EAABAKjHSPQQAAQlWnMYNBAADQAGUib0EAAADvUXqGQQAAAGyNhTxBAADAvIaQe0EAAIB0Vr9SQQAAQBx+H2xBAAAAztzkLkEAANijUkhDQQAAAIAp2A9BAAAAuGRpFEEAAAAAAAAAAAAAAJBpxjVBAAAAQ3wbLUE=",
          "dtype": "f8"
         }
        },
        {
         "mode": "lines",
         "name": "Preds Trace 25",
         "type": "scatter",
         "visible": false,
         "x": {
          "bdata": "AAECAwQFBgcICQoLDA0ODxAREhMUFRYXGBkaGxwdHh8gISIjJCUmJw==",
          "dtype": "i1"
         },
         "y": {
          "bdata": "AAAAAAAAAAAAAKAIumi4QQAAAAxQMYdBAABIdo0ookEAAHAkTou0QQAAoBaAzbpBAACQPE/PsEEAAHATMZ2RQQAA6MF2e8BBAAAAiH+CwUEAAA6ASuu7QQAAMLeT9rVBAADgeMQtwkEAAKj2j4rCQQAARL0YsrtBAAAAUPl1t0EAAP5P7WS8QQAAyLj4A8RBAACoJC4cwkEAAMB/Y5+wQQAAGIz8Z7ZBAABYY80grUEAANPuRo6wQQCgOj+ozJJBAAAYNBxskEEAAHi1+JSJQQAAKDA15WNBAAAAAAAAAAAAAAAwfYY1QQAAAAw5P25BAAAAYLMeI0EAAAD4J/chQQAAAGCnHEFBAAAAaFo5MEEAAEB0eHhIQQAAYN6coF5BAABAWwX1RUEAAAAAAAAAAAAAQVbiPVZBAAAAAPX3FUE=",
          "dtype": "f8"
         }
        },
        {
         "mode": "lines",
         "name": "Preds Trace 26",
         "type": "scatter",
         "visible": false,
         "x": {
          "bdata": "AAECAwQFBgcICQoLDA0ODxAREhMUFRYXGBkaGxwdHh8gISIjJCUmJw==",
          "dtype": "i1"
         },
         "y": {
          "bdata": "AAAAAAAAAAAAAOAm1/u0QQAAECvzvY9BAADwVQ45n0EAAKBF8jSzQQAA0Ezp2rVBAACQfCNnskEAAMAElumWQQAAIBcTQbdBAADIaLZPwUEAAJB/tV65QQAA0EyCyrdBAADQlC8gwEEAAHRq13zCQQDANqeyfbhBAAAAr+lOsUEAAOGZWSnAQQAAyLAJm8ZBAAAIz7fTxEEAAKBM2XCqQQAAGwjgGbNBAIAVy/BqsUEAALZ2Q1GlQQAQT2XISpJBAABg35pRkkEAwOnHxe6jQQAAUD/ZtIBBAADAgyPSaEEAAABVmoxVQQAAAPxjTHVBAABgGFsKTEEAAAB8PDcgQQAAAAAAAAAAAAAwcDLXVEEAAAA7POxnQQAAAJU+uEtBAADAqX5KUEEAAAAAAAAAAAAAwOUEfWtBAAAgzuUqT0E=",
          "dtype": "f8"
         }
        },
        {
         "mode": "lines",
         "name": "Preds Trace 27",
         "type": "scatter",
         "visible": false,
         "x": {
          "bdata": "AAECAwQFBgcICQoLDA0ODxAREhMUFRYXGBkaGxwdHh8gISIjJCUmJw==",
          "dtype": "i1"
         },
         "y": {
          "bdata": "AAAAAAAAAAAAAOAm1/u0QQAAEKlxZYVBAADGFjeUnkEAAGAufmCyQQAAwK1jmLdBAAAYjDHErkEAAGCVNi6WQQAAwKlZ77lBAADwT+7mtkEAAKd/JK61QQAAIOClrLZBAAAwvzHXu0EAABBZKmHDQQAAAoYSy7lBAAAwM1HhvkEAADsygX3AQQAAyDK6+cBBAAB4Gs/yxEEAAPCiGxOzQQAA6Q+TcbdBAACCGvF3sEEAANu6zwqwQQAAagsvr5hBAABAol18gEEAgOST4legQQAA5i5p84tBAAAAPI+6dEEAAMC0TXiAQQAAABCyMCVBAABA77Q1dUEAAAAQzMpMQQAAcCQBpWVBAAAAgD+v+EAAAABiN1lpQQAAANrybiJBAAAA2JuUC0EAAAAAAAAAAAAAAHUuMVdBAAAATFHWNUE=",
          "dtype": "f8"
         }
        },
        {
         "mode": "lines",
         "name": "Preds Trace 28",
         "type": "scatter",
         "visible": false,
         "x": {
          "bdata": "AAECAwQFBgcICQoLDA0ODxAREhMUFRYXGBkaGxwdHh8gISIjJCUmJw==",
          "dtype": "i1"
         },
         "y": {
          "bdata": "AAAAAAAAAAAAAOARc86zQQAAcD7NmIxBAACArET8nEEAAJjKmYixQQAA8MpMqbNBAAAwQAOJsEEAAIDl7YqZQQAAIPmhhLZBAAAQthwNuUEAAA6/HRWyQQAAQDF7yaxBAABAN8KnvkEAADCIS3O/QQAASGQkALhBAAAEVkj4vkEAAEvPcZDAQQBAaVQ2OsBBAABcNtoAx0EA4CP2nNqwQQAAPXycsrpBAABAxy3TsUEAABusyeCxQQAA0gPAQJtBAACM6TB+k0EAADi7wCygQQAAtt/TinZBAAAArPnOPUEAAADGK4dRQQAAQFj8Fn5BAACAgL/lQ0EAAACAtrQNQQAAAEiE2TVBAACgij//YEEAAKAhEFJqQQAAALwUxlFBAACALEC8K0EAAACOV5UhQQAAy5NufYBBAADAt8HlTUE=",
          "dtype": "f8"
         }
        },
        {
         "mode": "lines",
         "name": "Preds Trace 29",
         "type": "scatter",
         "visible": false,
         "x": {
          "bdata": "AAECAwQFBgcICQoLDA0ODxAREhMUFRYXGBkaGxwdHh8gISIjJCUmJw==",
          "dtype": "i1"
         },
         "y": {
          "bdata": "AAAAAAAAAAAAAMBa/5WoQQAAIBJAk49BAKDXkCIqkUEAAEAUAyqtQQAAABLqMK5BAABgRi3Fp0EAANCgKHqXQQAAMA+uorNBAACQzwkVs0EAgD8P0UmwQQAAgEK/SKpBAAAw2nZzvEEAAGB2exe6QQAACIdWNbxBAADAXuNAukEAANDIHhC6QQAAELrTHLpBAACewwYuwUEAAMhIMjC5QQAAOx3ht7lBAAC2SVMtskEAAJcQwG2wQQAA74H0nJxBAIC6JMCQlEEAAEjJDKOsQQAAzOOB45JBAADA6IYLd0EAAMR6XK5/QQAAQMZleXtBAABgblmdcUEAAGBP1wdhQQAAQAfn7WVBAAAAo5bNSkEAACBr3ihwQQAAAOXMUUFBAAAAEJ8oQ0EAAADgM7ENQQAAKJwIBnpBAACAeY0iVEE=",
          "dtype": "f8"
         }
        },
        {
         "mode": "lines",
         "name": "Preds Trace 30",
         "type": "scatter",
         "visible": false,
         "x": {
          "bdata": "AAECAwQFBgcICQoLDA0ODxAREhMUFRYXGBkaGxwdHh8gISIjJCUmJw==",
          "dtype": "i1"
         },
         "y": {
          "bdata": "AAAAAAAAAAAAAICFPNCaQQAAGMJepYBBAAjS+DwnhkEAAIC2W/ioQQAAcKeMX6tBAADgC2X1q0EAAADqvPCPQQAA4P5BLa1BAABwTbPys0EAAJCeM/ShQQAAIJGaYqxBAACg/dfEr0EAAFjJoeO2QQAAVWfgZrVBAAAYtMlStkEAAIbEata5QQAAkGmAjrxBAAAAm5/RvUEAAECG7IG6QQAA/9t2VbtBAABrvRY/tUEAAP2hMMq5QQAANGawiKZBAAD+VfSbhEEAALRLoGinQQAAOPNUg5FBAACAvyg3YUEAAEphY5aAQQAAAIGqUGdBAACA3BHBdkEAAABbl9U5QQAAQLCzAWtBAADg0DcBXEEAACj6BZ5wQQAAAA6rN01BAACwsCVmGkEAAAD4jW79QAAAECHELnRBAAAAWHuuX0E=",
          "dtype": "f8"
         }
        },
        {
         "mode": "lines",
         "name": "Preds Trace 31",
         "type": "scatter",
         "visible": false,
         "x": {
          "bdata": "AAECAwQFBgcICQoLDA0ODxAREhMUFRYXGBkaGxwdHh8gISIjJCUmJw==",
          "dtype": "i1"
         },
         "y": {
          "bdata": "AAAAAAAAAAAAAAAQQIGBQQAAgPkRyYhBAACgo/5JbEEAAGC0CaahQQAAUK7FY6JBAADgjQO3pEEAAEAi3GakQQAAIECGXKNBAACgXMCwrUEAwB1Fqp+bQQAAfNau2q5BAABYQdbcsUEAALh8F5C0QQAku+vmNLFBAADAwXZGuUEAUKbBDa++QQAAsIx7LblBAABz9COrvEEAAESzgmixQQCYVsAFI7tBAAD0nycFtUEAAF4yHV23QQAAnaJP46VBAABY6riInkEAANfVXki0QQCAY5jP/5hBAABoUCDrfEEAAIhpbfdnQQAAcJZ8jIRBAABAOCcxWEEAAAC8WzEoQQAAAG5e6V1BAAAg77KOV0EAAPQEyUBzQQAAAGRGelBBAAAAveHGU0EAAACIaQc5QQAAJ66Kfn9BAADAYIfNY0E=",
          "dtype": "f8"
         }
        },
        {
         "mode": "lines",
         "name": "Preds Trace 32",
         "type": "scatter",
         "visible": false,
         "x": {
          "bdata": "AAECAwQFBgcICQoLDA0ODxAREhMUFRYXGBkaGxwdHh8gISIjJCUmJw==",
          "dtype": "i1"
         },
         "y": {
          "bdata": "AAAAAAAAAAAAAAAg1QJfQQAAgLIi03FBAAAAq/ZTUUEAAMBj6euUQQAAML+xLKdBAAC4SbwuoEEAALiRQjaTQQAAgH2RTatBAAAAbREqqkEAAODe1RGbQQAAgBSY0a5BAABgwTwqs0EAAIA7KMaqQQAAoDbgYrNBAABAWfnUs0EAAGosV1a5QQAAwD0+Q7ZBAAAH8NprukEAAGCfSwayQQAAuJzAxa5BAADgnwTNtUEAAJoAf/OvQQAADnjDq65BAACHPKsQnUEAAAe2cPy1QQCADKvabJxBAACQQbbKhEEAgE5JAieJQQAAoPMC0XxBAADINrqnfkEAAEAy80lSQQAAYCiVs2pBAAAA8liCUEEAAJj4kHd6QQAAAGC15x9BAAAAE5zmRUEAAADAqNgQQQAAoHkQE2VBAADERoHbc0E=",
          "dtype": "f8"
         }
        },
        {
         "mode": "lines",
         "name": "Preds Trace 33",
         "type": "scatter",
         "visible": false,
         "x": {
          "bdata": "AAECAwQFBgcICQoLDA0ODxAREhMUFRYXGBkaGxwdHh8gISIjJCUmJw==",
          "dtype": "i1"
         },
         "y": {
          "bdata": "AAAAAAAAAAAAAAAAAAAAAAAAALBm129BAAAAQIE8BkEAAIAdnnWNQQAAoJCpZJpBAABQf0qUpEEAAPgXqFamQQAA4Ng5nKJBAABAZMQIsEEAAD8R/6CmQQAA4KHFdKdBAADwSjr9sEEAAOCoBfWrQQAA8B4KrahBAADAr/YyskEAAC5le9m2QQAAiLPZ+LRBAAC4i86FuUEAADYdij22QQDgVhTOHaxBAAC6lwz9sUEAAJK5qXC3QQCAokS4HatBAEDAaWI3pEEAAPNVyUm1QQAA/OV1coVBAADAB0+iZUEAgJ6QklONQQAAUBKRC4dBAAC8KiX+dUEAAPDaZ4BBQQAAQJ3bFHZBAAAAKnUJUEEAAEBgC3x6QQAAGC1YMWxBAABAqhr9B0EAAADgqD/gQAAAAlMIhntBAAAAAE1rQ0E=",
          "dtype": "f8"
         }
        },
        {
         "mode": "lines",
         "name": "Preds Trace 34",
         "type": "scatter",
         "visible": false,
         "x": {
          "bdata": "AAECAwQFBgcICQoLDA0ODxAREhMUFRYXGBkaGxwdHh8gISIjJCUmJw==",
          "dtype": "i1"
         },
         "y": {
          "bdata": "AAAAAAAAAAAAAAAAAAAAAAAAAAAAAAAAAAAAAAAAAAAAAACjGDt0QQAAQCOjHpNBAACQF7T9ikEAAOB0aDmrQQAA4Caa16pBAAAAXubqlkEAAAtXuBqoQQAAvNcP1qJBAADQ7zNxsEEAAMAADImgQQBYuuuGgLRBAADIixJLsEEAAACJEO23QQAAwESrqK1BAAAwiG6xwEEAAFAUvjOqQQDANDDBHbJBAADye6WwtkEAgHrCdPiyQQAAuocxZppBAICoPkoqqkEAAEXMHJe5QQAA0MApe4JBAAAAp6GkUEEAgB5WpRaMQQAA0IUog5FBAAD443s3gkEAAAA5vQpAQQAAoOOKvHNBAAAAdUEsQkEAACDt57GDQQAAQN+PdV9BAADQnKbdOUEAAABQNVsGQQAAGt87J4FBAADAlAbxU0E=",
          "dtype": "f8"
         }
        },
        {
         "mode": "lines",
         "name": "Preds Trace 35",
         "type": "scatter",
         "visible": false,
         "x": {
          "bdata": "AAECAwQFBgcICQoLDA0ODxAREhMUFRYXGBkaGxwdHh8gISIjJCUmJw==",
          "dtype": "i1"
         },
         "y": {
          "bdata": "AAAAAAAAAAAAAAAAAAAAAAAAAAAAAAAAAAAAAAAAAAAAAABADQxdQQAAAIyIXHNBAACA9/Ofj0EAABw3jtKeQQAAwAL5kaVBAAAAN7Lcq0EAAABiLJahQQAAYNh5FqVBAADQ9bLtsUEAAOCFKdigQQCgcz4fY7JBAAAgWvE2r0EAAJAAHWOoQQAAQGR1V61BAAAGl7EwtEEAAAiHe/erQQAAr7Pe9qhBAAA40m+ttUEAAJQBDW2vQQAAeMRWc45BAACxTuvNn0EAAHxzdCe2QQDgq/CZ7pFBAACA2qvHXUEAQM/giEGUQQAAANGC93xBAACMG/vgkUEAAGivV0FgQQAAwMuMT39BAAAAeINrHUEAAKC/FEyEQQAAIMiv8W5BAAAAQ7+UPEEAAABEzYY1QQAA3LnJpXRBAADAGeqObUE=",
          "dtype": "f8"
         }
        },
        {
         "mode": "lines",
         "name": "Preds Trace 36",
         "type": "scatter",
         "visible": false,
         "x": {
          "bdata": "AAECAwQFBgcICQoLDA0ODxAREhMUFRYXGBkaGxwdHh8gISIjJCUmJw==",
          "dtype": "i1"
         },
         "y": {
          "bdata": "AAAAAAAAAAAAAAAAAAAAAAAAAAAAAAAAAAAAAAAAAAAAAAAAAAAAAAAAAKBcfl1BAADAYGxRcUEAAEARQqyjQQAAgIVheKBBAAAAFrfGpkEAALAF/mKnQQAAgClJ6KhBAACgg/P3sEEAAIA6bu+lQQAAMF8IvrRBAABAjs7zokEAANijHmO2QQAAAGqp9apBAADgUlSotkEAAMS5cRuqQQAAYuW98aBBAABQtClEt0EAAOSEqHm1QQBA1dBMkJhBAACpdbn9m0EAAJBPRxi5QQAAnN1e5oVBAAAAGquSVEEAgEzXR+yAQQAAgKK+jXVBAADwAL2Kc0EAAADgw+v8QAAAQKgyFF5BAAAAKMJvOEEAAGABS1uGQQAAqLTRtnRBAAAAhBMlGkEAAACIPkv9QAAABMQIontBAADAbSX0RkE=",
          "dtype": "f8"
         }
        },
        {
         "mode": "lines",
         "name": "Preds Trace 37",
         "type": "scatter",
         "visible": false,
         "x": {
          "bdata": "AAECAwQFBgcICQoLDA0ODxAREhMUFRYXGBkaGxwdHh8gISIjJCUmJw==",
          "dtype": "i1"
         },
         "y": {
          "bdata": "AAAAAAAAAAAAAAAAAAAAAAAAAAAAAAAAAAAAAAAAAAAAAAAAAAAAAAAAAAAAYHVAAAAAGGJUY0EAAADAckSGQQAAAO4J+pNBAACA2E5RokEAAMCwx9iXQQAAAA25HLJBAACAyihYpkEAADCTIQmwQQAAgDGgt7RBAAAgF8fIqkEAAKC7Vu6wQQAAIN+KAaxBAACAC+/ap0EAAFpExRetQQAAivWeuapBAACQVSREukEAAHC4JXauQQAAF8Yy0JJBAADxLNC3nEEAgOKWc/rAQQAAtOt1MI1BAADAEZEKYkEAAB1cZYF/QQAA4L9bGoNBAAB+x99fcUEAAAAg0YX1QAAAABY1yUlBAAAAoLI1E0EAAND/ncuQQQAAmGpzO09BAAAAmrOCEkEAAAD1KudIQQAALDLKH3VBAADgLYRIU0E=",
          "dtype": "f8"
         }
        },
        {
         "mode": "lines",
         "name": "Preds Trace 38",
         "type": "scatter",
         "visible": false,
         "x": {
          "bdata": "AAECAwQFBgcICQoLDA0ODxAREhMUFRYXGBkaGxwdHh8gISIjJCUmJw==",
          "dtype": "i1"
         },
         "y": {
          "bdata": "AAAAAAAAAAAAAAAAAAAAAAAAAAAAAAAAAAAAAAAAAAAAAAAAAAAAAAAAAAAAYHVAAAAAAACwmEAAAAAY/rR5QQAAANxMYX5BAAAAYTi7mEEAAOhZlBuSQQAAYPU8O69BAAAg17bopEEAAECjLPevQQAAcGAz4K5BAAAg/Y1LsUEAAICxMhe2QQAAoN2YzaRBAAC4d4xRs0EAADTBKWKhQQAAvBUVFaVBAADykOIawEEAADD25LeeQQAACNth8JFBAADNGmO5l0EAAKaNIbO+QQBAAJ93j4dBAAAAIMZ4P0EAgA6De3iIQQAAQPXefmdBAABY0EHDgUEAAACgId8RQQAAQCHfVGRBAAAAqnJpSUEAAIKKxLqRQQAAACBlTPVAAAAAxQLOO0EAAABQgZoJQQAAnCfKC35BAACQrkPpZkE=",
          "dtype": "f8"
         }
        },
        {
         "mode": "lines",
         "name": "Preds Trace 39",
         "type": "scatter",
         "visible": false,
         "x": {
          "bdata": "AAECAwQFBgcICQoLDA0ODxAREhMUFRYXGBkaGxwdHh8gISIjJCUmJw==",
          "dtype": "i1"
         },
         "y": {
          "bdata": "AAAAAAAAAAAAAAAAAAAAAAAAAAAAAAAAAAAAAAAAAAAAAAAAAAAAAAAAAAAAYHVAAAAAAACwmEAAAAAAAHybQAAAAPjq6WlBAAAAnnTnhkEAACBLU4qBQQAAAG0Ilq5BAADAdUTGpkEAAEBHgx2xQQAAYB8eY7RBAACQ7NXns0EAABAm0OGyQQAAwPliu6JBAABg/sxXsEEAAMBgNDWnQQAAqgYQLaFBAMB5rOYKukEAAKEH4T2oQQAAlNMqwYlBAAChCq84nkEAABgd92LBQQAAGn+iUJJBAACAYY9RakEAgI6eRAqCQQAA4B2q93hBAADQWPxVdkEAAABgUxEMQQAAgLORP1VBAAAAzJtcRkEAACiudOmRQQAA0EhxdXBBAABA+lifKkEAAACwyGwcQQAAPEnNEn9BAADQSO19bkE=",
          "dtype": "f8"
         }
        },
        {
         "mode": "lines",
         "name": "Preds Trace 40",
         "type": "scatter",
         "visible": false,
         "x": {
          "bdata": "AAECAwQFBgcICQoLDA0ODxAREhMUFRYXGBkaGxwdHh8gISIjJCUmJw==",
          "dtype": "i1"
         },
         "y": {
          "bdata": "AAAAAAAAAAAAAAAAAAAAAAAAAAAAAAAAAAAAAAAAAAAAAAAAAAAAAAAAAAAAYHVAAAAAAACwmEAAAAAAAHybQAAAAAAA3b9AAAAA8MYDcEEAAMAPJAlrQQAAgJchDJtBAACAdm2SnUEAAECQWXSvQQAA4MVhDqlBAAAAs66MtkEAAMBNFXatQQAAQJOqqZBBAAAgrRUprUEAAMClcu6zQQCAIyYsdKxBAAAgUsrsvkEAAEJOGGyvQQAAoD1jppRBAAAVuJpclEEAANw1i97AQQAA/KINKYZBAAAAcLQDGUEAgA5maYSBQQAAADDQlWFBAACQKmMYekEAAKDDfyo2QQAAAPNsI1ZBAAAAyDgqGkEAAKja6o+RQQAAYEjFa1BBAAAAe8JqNkEAAIAgy7c5QQAAfKaSIXtBAADwn/qRZ0E=",
          "dtype": "f8"
         }
        },
        {
         "mode": "lines",
         "name": "Preds Trace 41",
         "type": "scatter",
         "visible": false,
         "x": {
          "bdata": "AAECAwQFBgcICQoLDA0ODxAREhMUFRYXGBkaGxwdHh8gISIjJCUmJw==",
          "dtype": "i1"
         },
         "y": {
          "bdata": "AAAAAAAAAAAAAAAAAAAAAAAAAAAAAAAAAAAAAAAAAAAAAAAAAAAAAAAAAAAAYHVAAAAAAACwmEAAAAAAAHybQAAAAAAA3b9AAAAAAIByxEAAAAAoP7xLQQAAwEpRsoJBAACAqcNym0EAAIBYaeGbQQAApCMMHrBBAABArrEgrEEAAABkOm+tQQAAgErOp5tBAADIPiOysEEAADjRgbKlQQAANUqn0rFBAAAIRvgRwkEAAHbxwWitQQAAGEbCEYNBAAArbsMnnUEAAJBdzCXEQQAArq7cLJBBAAAA28EhUUEAAN2kXAV9QQAAZBA5R3xBAADQUFOfckEAAACgBzgAQQAAwHmGvFVBAAAAihYUZEEAgPrVeESSQQAA4ER/pWJBAAAA3C/S8UAAAACM1vQ+QQAADmZ5voJBAADW/wMpdEE=",
          "dtype": "f8"
         }
        },
        {
         "mode": "lines",
         "name": "Preds Trace 42",
         "type": "scatter",
         "visible": false,
         "x": {
          "bdata": "AAECAwQFBgcICQoLDA0ODxAREhMUFRYXGBkaGxwdHh8gISIjJCUmJw==",
          "dtype": "i1"
         },
         "y": {
          "bdata": "AAAAAAAAAAAAAAAAAAAAAAAAAAAAAAAAAAAAAAAAAAAAAAAAAAAAAAAAAAAAYHVAAAAAAACwmEAAAAAAAHybQAAAAAAA3b9AAAAAAIByxEAAAAAAoMfiQAAAABjNyVFBAAAADgYfgEEAAKAcPVCXQQAA8Naa8KFBAAAApWg3oUEAAMCnwm2dQQAAAId50IlBAADcJS6/o0EAAHwiRdSqQQAASqvfzK5BAACUEDGUwUEAAPBQcKatQQAAqudH5J9BAAAl9eRlk0EAAAifZqfFQQAA6Faf951BAAAgzN4BgkEAgC5tYCiGQQAAALLGXTBBAADQ7tpseUEAAAAofpU0QQAAwA0mZmNBAAAAaUOtVkEAwAeIXB6SQQAAAGioXjFBAAAAiHURBEEAAGAaiooxQQAAXMgYv3pBAACojLbufUE=",
          "dtype": "f8"
         }
        },
        {
         "mode": "lines",
         "name": "Preds Trace 43",
         "type": "scatter",
         "visible": false,
         "x": {
          "bdata": "AAECAwQFBgcICQoLDA0ODxAREhMUFRYXGBkaGxwdHh8gISIjJCUmJw==",
          "dtype": "i1"
         },
         "y": {
          "bdata": "AAAAAAAAAAAAAAAAAAAAAAAAAAAAAAAAAAAAAAAAAAAAAAAAAAAAAAAAAAAAYHVAAAAAAACwmEAAAAAAAHybQAAAAAAA3b9AAAAAAIByxEAAAAAAoMfiQAAAAADQLvJAAAAAYCzId0EAAAD5xFN8QQAAQPQCWZlBAACAeZT1lkEAAGA04mKyQQAAAISbcZtBAACoZ+GMsEEAABBPpfumQQAArdwWYbBBAABQ5tu0xEEAANxPe4GzQQAA/Lb6aK9BAACBV8cCnkEAAHmZoKLFQQAAVtfeQ5JBAAAANw/8d0EAAF2pQWV/QQAAQEN8KnpBAACQIyQvcEEAAABAFwAUQQAAAGdOdVFBAACAdDl2WUEAwO/6SDySQQAAAPBDqzBBAACgFFRDYUEAAAAAAAAAAAAAZyvBL3pBAABI3HFCckE=",
          "dtype": "f8"
         }
        },
        {
         "mode": "lines",
         "name": "Preds Trace 44",
         "type": "scatter",
         "visible": false,
         "x": {
          "bdata": "AAECAwQFBgcICQoLDA0ODxAREhMUFRYXGBkaGxwdHh8gISIjJCUmJw==",
          "dtype": "i1"
         },
         "y": {
          "bdata": "AAAAAAAAAAAAAAAAAAAAAAAAAAAAAAAAAAAAAAAAAAAAAAAAAAAAAAAAAAAAYHVAAAAAAACwmEAAAAAAAHybQAAAAAAA3b9AAAAAAIByxEAAAAAAoMfiQAAAAADQLvJAAAAAAHAM+0AAAACgSoNrQQAAALg2ynpBAAAAGAzjd0EAANAHQkOaQQAAAJwuhHRBAAAQVAocnUEAANqtZ1uhQQAA9vocZaVBAAAgDbDPw0EAAIDzUK+oQQAAwE04PahBAIAs8kL2oUEAACpf5w7KQQAAdsCSuJdBAAAcJRMAhEEAgI7zbR6KQQAAQAnpQIVBAAAwvNv8fEEAAADIZ0IvQQAAYMTrLHBBAAAAZ14pTUEAwN++iFiTQQAAAAAH+fpAAAAAoAvU60AAAABgh5DQQAAAnFyC4n9BAAAocFyMckE=",
          "dtype": "f8"
         }
        },
        {
         "mode": "lines",
         "name": "Preds Trace 45",
         "type": "scatter",
         "visible": false,
         "x": {
          "bdata": "AAECAwQFBgcICQoLDA0ODxAREhMUFRYXGBkaGxwdHh8gISIjJCUmJw==",
          "dtype": "i1"
         },
         "y": {
          "bdata": "AAAAAAAAAAAAAAAAAAAAAAAAAAAAAAAAAAAAAAAAAAAAAAAAAAAAAAAAAAAAYHVAAAAAAACwmEAAAAAAAHybQAAAAAAA3b9AAAAAAIByxEAAAAAAoMfiQAAAAADQLvJAAAAAAHAM+0AAAAAAYKr+QAAAAHjRfG1BAAAAqJzzTUEAAFjuMGmgQQAAAIA5sHFBAACgufTuqUEAAEAZq1GWQQAAqooO/qRBAABWVqmtxUEAoH0LUIypQQAAwJ5OdKhBAIB8FUYypkEAAMABlHbHQQAAHJuvbI9BAAAADsEIc0EAQGe9gO6XQQAAQHzu7XxBAADYRrPkiEEAAAB+jsVWQQAAQEoCB3RBAAAAxEh+JUEAwN++iFiTQQAAAAXNFkBBAAAAoAvU60AAAABgh5DQQAAArForMHlBAABoX3Guc0E=",
          "dtype": "f8"
         }
        },
        {
         "mode": "lines",
         "name": "Preds Trace 46",
         "type": "scatter",
         "visible": false,
         "x": {
          "bdata": "AAECAwQFBgcICQoLDA0ODxAREhMUFRYXGBkaGxwdHh8gISIjJCUmJw==",
          "dtype": "i1"
         },
         "y": {
          "bdata": "AAAAAAAAAAAAAAAAAAAAAAAAAAAAAAAAAAAAAAAAAAAAAAAAAAAAAAAAAAAAYHVAAAAAAACwmEAAAAAAAHybQAAAAAAA3b9AAAAAAIByxEAAAAAAoMfiQAAAAADQLvJAAAAAAHAM+0AAAAAAYKr+QAAAAAAopAVBAAAAAAg0AkEAADDuSHGAQQAAAADwqvxAAADA5/o8mEEAAABW2S2OQQCA0N27H6VBAGAReVYIw0EAAODXiG2uQQAAwDyF3ZtBAIBsFIFEqkEAoC6tBQ7KQQAAbMFDrYtBAAAA44SfbkEAQB+2lmeRQQAAsIPTo45BAACYu5XlhkEAAABrsFQvQQAAoEVfu31BAAAARI9IIkEAwL8Qrp+UQQAAwDJ5DGhBAAAAoAvU60AAAADGaIYeQQAApkogfIBBAACEbz1KgEE=",
          "dtype": "f8"
         }
        },
        {
         "mode": "lines",
         "name": "Preds Trace 47",
         "type": "scatter",
         "visible": false,
         "x": {
          "bdata": "AAECAwQFBgcICQoLDA0ODxAREhMUFRYXGBkaGxwdHh8gISIjJCUmJw==",
          "dtype": "i1"
         },
         "y": {
          "bdata": "AAAAAAAAAAAAAAAAAAAAAAAAAAAAAAAAAAAAAAAAAAAAAAAAAAAAAAAAAAAAYHVAAAAAAACwmEAAAAAAAHybQAAAAAAA3b9AAAAAAIByxEAAAAAAoMfiQAAAAADQLvJAAAAAAHAM+0AAAAAAYKr+QAAAAAAopAVBAAAAAMCGAkEAAACwovxwQQAAAAAQQf1AAADATMAll0EAAAAiMm51QQAA8bysa5dBAAB431w2xUEAABBeEDyeQQAAwHxKDoRBAOANsQMwokEAAIw2x4PJQQAALNDc04VBAAAAAAAAAAAAQCelageaQQAAAFQCsHRBAADM3fddjEEAAACGNqpbQQAAQF8QDHtBAAAARI9IIkEAwMt74LmXQQAAQNKECm1BAAAAfQDQOkEAAAD2o60fQQAArK87gXpBAACY+3MCf0E=",
          "dtype": "f8"
         }
        },
        {
         "mode": "lines",
         "name": "Preds Trace 48",
         "type": "scatter",
         "visible": false,
         "x": {
          "bdata": "AAECAwQFBgcICQoLDA0ODxAREhMUFRYXGBkaGxwdHh8gISIjJCUmJw==",
          "dtype": "i1"
         },
         "y": {
          "bdata": "AAAAAAAAAAAAAAAAAAAAAAAAAAAAAAAAAAAAAAAAAAAAAAAAAAAAAAAAAAAAYHVAAAAAAACwmEAAAAAAAHybQAAAAAAA3b9AAAAAAIByxEAAAAAAoMfiQAAAAADQLvJAAAAAAHAM+0AAAAAAYKr+QAAAAAAopAVBAAAAAMCGAkEAAAAA0JMBQQAAAADgTv1AAACA9bfteUEAAAAw8WBJQQAA4DIrYZtBAADw1eEexUEAgGn7RDCdQQAAAJgcqlBBAMDLS0WNnEEAALZ3w3jKQQAAbIplsIhBAAAAAAAAAAAAgE5txRGHQQAAgAmkaIBBAAC435JmfUEAAABAyw8kQQAAAA6g+llBAAAARI9IIkEAwEsfkVSaQQAAAPF/aF1BAAAAoAvU60AAAIB93S4xQQAAfChOhnlBAADkiUEzgUE=",
          "dtype": "f8"
         }
        },
        {
         "mode": "lines",
         "name": "Preds Trace 49",
         "type": "scatter",
         "visible": false,
         "x": {
          "bdata": "AAECAwQFBgcICQoLDA0ODxAREhMUFRYXGBkaGxwdHh8gISIjJCUmJw==",
          "dtype": "i1"
         },
         "y": {
          "bdata": "AAAAAAAAAAAAAAAAAAAAAAAAAAAAAAAAAAAAAAAAAAAAAAAAAAAAAAAAAAAAYHVAAAAAAACwmEAAAAAAAHybQAAAAAAA3b9AAAAAAIByxEAAAAAAoMfiQAAAAADQLvJAAAAAAHAM+0AAAAAAYKr+QAAAAAAopAVBAAAAAMCGAkEAAAAA0JMBQQAAAABAv/1AAAAAKEx4ZUEAAAAAUN75QAAAiNBLqZJBAACwEjp5xkEAAMD1UKp+QQAAAAAAAAAAAMDbIVyrl0EAYM/LlAnMQQAAbMg13YlBAAAAAAAAAAAAgA7bYsmGQQAAADS+bFhBAAC4vLZCfEEAAAAAAAAAAAAAACUeKThBAAAARI9IIkEAwJvW3bKdQQAAAPD3gD5BAAAAoAvU60AAAABgh5DQQAAAHKeRJ35BAABEon2DgkE=",
          "dtype": "f8"
         }
        },
        {
         "mode": "lines",
         "name": "Preds Trace 50",
         "type": "scatter",
         "visible": false,
         "x": {
          "bdata": "AAECAwQFBgcICQoLDA0ODxAREhMUFRYXGBkaGxwdHh8gISIjJCUmJw==",
          "dtype": "i1"
         },
         "y": {
          "bdata": "AAAAAAAAAAAAAAAAAAAAAAAAAAAAAAAAAAAAAAAAAAAAAAAAAAAAAAAAAAAAYHVAAAAAAACwmEAAAAAAAHybQAAAAAAA3b9AAAAAAIByxEAAAAAAoMfiQAAAAADQLvJAAAAAAHAM+0AAAAAAYKr+QAAAAAAopAVBAAAAAMCGAkEAAAAA0JMBQQAAAABAv/1AAAAAAACl/EAAAABgIFswQQAAYI8eCJJBAACgSn/AxkEAAACQfQNzQQAAAAAAAAAAAMArnOZHl0EAAKh/kTHMQQAAbD7Lp4tBAAAAAAAAAAAAgM7BvpmDQQAAAGB0uURBAADwk6+BdkEAAAAAAAAAAAAAwC19PkBBAAAARI9IIkEAwOsfCqGeQQAAAAAAAAAAAAAAoAvU60AAAABgh5DQQAAAPCRo4XxBAADEj8jUgkE=",
          "dtype": "f8"
         }
        },
        {
         "mode": "lines",
         "name": "Preds Trace 51",
         "type": "scatter",
         "visible": false,
         "x": {
          "bdata": "AAECAwQFBgcICQoLDA0ODxAREhMUFRYXGBkaGxwdHh8gISIjJCUmJw==",
          "dtype": "i1"
         },
         "y": {
          "bdata": "AAAAAAAAAAAAAAAAAAAAAAAAAAAAAAAAAAAAAAAAAAAAAAAAAAAAAAAAAAAAYHVAAAAAAACwmEAAAAAAAHybQAAAAAAA3b9AAAAAAIByxEAAAAAAoMfiQAAAAADQLvJAAAAAAHAM+0AAAAAAYKr+QAAAAAAopAVBAAAAAMCGAkEAAAAA0JMBQQAAAABAv/1AAAAAAACl/EAAAAAA0Bj6QAAA4PAhoJFBAAAgdLs0x0EAAAAAAAAAAAAAAAAAAAAAAMBr4H5PlUEAABiDFZTMQQAAbD7Lp4tBAAAAAAAAAAAAgM7BvpmDQQAAAAAAAAAAAADw2Qi4dkEAAAAAAAAAAAAAAAAAAAAAAAAARI9IIkEAwCtbT6OfQQAAAAAAAAAAAAAAoAvU60AAAABgh5DQQAAAvHb+2HtBAADEkMjUgkE=",
          "dtype": "f8"
         }
        },
        {
         "mode": "lines",
         "name": "Preds Trace 52",
         "type": "scatter",
         "visible": false,
         "x": {
          "bdata": "AAECAwQFBgcICQoLDA0ODxAREhMUFRYXGBkaGxwdHh8gISIjJCUmJw==",
          "dtype": "i1"
         },
         "y": {
          "bdata": "AAAAAAAAAAAAAAAAAAAAAAAAAAAAAAAAAAAAAAAAAAAAAAAAAAAAAAAAAAAAYHVAAAAAAACwmEAAAAAAAHybQAAAAAAA3b9AAAAAAIByxEAAAAAAoMfiQAAAAADQLvJAAAAAAHAM+0AAAAAAYKr+QAAAAAAopAVBAAAAAMCGAkEAAAAA0JMBQQAAAABAv/1AAAAAAACl/EAAAAAA0Bj6QAAA4PAhoJFBAAAgdLs0x0EAAAAAAAAAAAAAAAAAAAAAAMBr4H5PlUEAABiDFZTMQQAAbD7Lp4tBAAAAAAAAAAAAgM7BvpmDQQAAAAAAAAAAAADw2Qi4dkEAAAAAAAAAAAAAAAAAAAAAAAAARI9IIkEAwCtbT6OfQQAAAAAAAAAAAAAAoAvU60AAAABgh5DQQAAAvHb+2HtBAADEkMjUgkE=",
          "dtype": "f8"
         }
        },
        {
         "name": "Actuals",
         "type": "bar",
         "visible": true,
         "x": {
          "bdata": "AAECAwQFBgcICQoLDA0ODxAREhMUFRYXGBkaGxwdHh8gISIjJCUmJw==",
          "dtype": "i1"
         },
         "y": {
          "bdata": "AAAAAAAAAAAAAAAAAAAAAAAAAAAAAKtDAIDFRADg20QA6P5FAJQjRgA9FkeAdpFHgGPYRwBT9UdAIS1IADYUSICeDEgA+u1HACjlR4DG0EcAEaBHADppR4BUJUcAfqxGACQVRgAA+UUAUChFAECRRADAdkQAAAAAAAB8QwAAAAAAAAAAAAAAAAAAAAAAAAAAAAAAAAAAAAAAAAAAAAAAAA==",
          "dtype": "f4"
         }
        }
       ],
       "layout": {
        "barmode": "overlay",
        "sliders": [
         {
          "active": 0,
          "currentvalue": {
           "prefix": "Trace: "
          },
          "pad": {
           "t": 40
          },
          "steps": [
           {
            "args": [
             {
              "visible": [
               true,
               false,
               false,
               false,
               false,
               false,
               false,
               false,
               false,
               false,
               false,
               false,
               false,
               false,
               false,
               false,
               false,
               false,
               false,
               false,
               false,
               false,
               false,
               false,
               false,
               false,
               false,
               false,
               false,
               false,
               false,
               false,
               false,
               false,
               false,
               false,
               false,
               false,
               false,
               false,
               false,
               false,
               false,
               false,
               false,
               false,
               false,
               false,
               false,
               false,
               false,
               false,
               true
              ]
             }
            ],
            "label": "Preds Trace 1",
            "method": "update"
           },
           {
            "args": [
             {
              "visible": [
               false,
               true,
               false,
               false,
               false,
               false,
               false,
               false,
               false,
               false,
               false,
               false,
               false,
               false,
               false,
               false,
               false,
               false,
               false,
               false,
               false,
               false,
               false,
               false,
               false,
               false,
               false,
               false,
               false,
               false,
               false,
               false,
               false,
               false,
               false,
               false,
               false,
               false,
               false,
               false,
               false,
               false,
               false,
               false,
               false,
               false,
               false,
               false,
               false,
               false,
               false,
               false,
               true
              ]
             }
            ],
            "label": "Preds Trace 2",
            "method": "update"
           },
           {
            "args": [
             {
              "visible": [
               false,
               false,
               true,
               false,
               false,
               false,
               false,
               false,
               false,
               false,
               false,
               false,
               false,
               false,
               false,
               false,
               false,
               false,
               false,
               false,
               false,
               false,
               false,
               false,
               false,
               false,
               false,
               false,
               false,
               false,
               false,
               false,
               false,
               false,
               false,
               false,
               false,
               false,
               false,
               false,
               false,
               false,
               false,
               false,
               false,
               false,
               false,
               false,
               false,
               false,
               false,
               false,
               true
              ]
             }
            ],
            "label": "Preds Trace 3",
            "method": "update"
           },
           {
            "args": [
             {
              "visible": [
               false,
               false,
               false,
               true,
               false,
               false,
               false,
               false,
               false,
               false,
               false,
               false,
               false,
               false,
               false,
               false,
               false,
               false,
               false,
               false,
               false,
               false,
               false,
               false,
               false,
               false,
               false,
               false,
               false,
               false,
               false,
               false,
               false,
               false,
               false,
               false,
               false,
               false,
               false,
               false,
               false,
               false,
               false,
               false,
               false,
               false,
               false,
               false,
               false,
               false,
               false,
               false,
               true
              ]
             }
            ],
            "label": "Preds Trace 4",
            "method": "update"
           },
           {
            "args": [
             {
              "visible": [
               false,
               false,
               false,
               false,
               true,
               false,
               false,
               false,
               false,
               false,
               false,
               false,
               false,
               false,
               false,
               false,
               false,
               false,
               false,
               false,
               false,
               false,
               false,
               false,
               false,
               false,
               false,
               false,
               false,
               false,
               false,
               false,
               false,
               false,
               false,
               false,
               false,
               false,
               false,
               false,
               false,
               false,
               false,
               false,
               false,
               false,
               false,
               false,
               false,
               false,
               false,
               false,
               true
              ]
             }
            ],
            "label": "Preds Trace 5",
            "method": "update"
           },
           {
            "args": [
             {
              "visible": [
               false,
               false,
               false,
               false,
               false,
               true,
               false,
               false,
               false,
               false,
               false,
               false,
               false,
               false,
               false,
               false,
               false,
               false,
               false,
               false,
               false,
               false,
               false,
               false,
               false,
               false,
               false,
               false,
               false,
               false,
               false,
               false,
               false,
               false,
               false,
               false,
               false,
               false,
               false,
               false,
               false,
               false,
               false,
               false,
               false,
               false,
               false,
               false,
               false,
               false,
               false,
               false,
               true
              ]
             }
            ],
            "label": "Preds Trace 6",
            "method": "update"
           },
           {
            "args": [
             {
              "visible": [
               false,
               false,
               false,
               false,
               false,
               false,
               true,
               false,
               false,
               false,
               false,
               false,
               false,
               false,
               false,
               false,
               false,
               false,
               false,
               false,
               false,
               false,
               false,
               false,
               false,
               false,
               false,
               false,
               false,
               false,
               false,
               false,
               false,
               false,
               false,
               false,
               false,
               false,
               false,
               false,
               false,
               false,
               false,
               false,
               false,
               false,
               false,
               false,
               false,
               false,
               false,
               false,
               true
              ]
             }
            ],
            "label": "Preds Trace 7",
            "method": "update"
           },
           {
            "args": [
             {
              "visible": [
               false,
               false,
               false,
               false,
               false,
               false,
               false,
               true,
               false,
               false,
               false,
               false,
               false,
               false,
               false,
               false,
               false,
               false,
               false,
               false,
               false,
               false,
               false,
               false,
               false,
               false,
               false,
               false,
               false,
               false,
               false,
               false,
               false,
               false,
               false,
               false,
               false,
               false,
               false,
               false,
               false,
               false,
               false,
               false,
               false,
               false,
               false,
               false,
               false,
               false,
               false,
               false,
               true
              ]
             }
            ],
            "label": "Preds Trace 8",
            "method": "update"
           },
           {
            "args": [
             {
              "visible": [
               false,
               false,
               false,
               false,
               false,
               false,
               false,
               false,
               true,
               false,
               false,
               false,
               false,
               false,
               false,
               false,
               false,
               false,
               false,
               false,
               false,
               false,
               false,
               false,
               false,
               false,
               false,
               false,
               false,
               false,
               false,
               false,
               false,
               false,
               false,
               false,
               false,
               false,
               false,
               false,
               false,
               false,
               false,
               false,
               false,
               false,
               false,
               false,
               false,
               false,
               false,
               false,
               true
              ]
             }
            ],
            "label": "Preds Trace 9",
            "method": "update"
           },
           {
            "args": [
             {
              "visible": [
               false,
               false,
               false,
               false,
               false,
               false,
               false,
               false,
               false,
               true,
               false,
               false,
               false,
               false,
               false,
               false,
               false,
               false,
               false,
               false,
               false,
               false,
               false,
               false,
               false,
               false,
               false,
               false,
               false,
               false,
               false,
               false,
               false,
               false,
               false,
               false,
               false,
               false,
               false,
               false,
               false,
               false,
               false,
               false,
               false,
               false,
               false,
               false,
               false,
               false,
               false,
               false,
               true
              ]
             }
            ],
            "label": "Preds Trace 10",
            "method": "update"
           },
           {
            "args": [
             {
              "visible": [
               false,
               false,
               false,
               false,
               false,
               false,
               false,
               false,
               false,
               false,
               true,
               false,
               false,
               false,
               false,
               false,
               false,
               false,
               false,
               false,
               false,
               false,
               false,
               false,
               false,
               false,
               false,
               false,
               false,
               false,
               false,
               false,
               false,
               false,
               false,
               false,
               false,
               false,
               false,
               false,
               false,
               false,
               false,
               false,
               false,
               false,
               false,
               false,
               false,
               false,
               false,
               false,
               true
              ]
             }
            ],
            "label": "Preds Trace 11",
            "method": "update"
           },
           {
            "args": [
             {
              "visible": [
               false,
               false,
               false,
               false,
               false,
               false,
               false,
               false,
               false,
               false,
               false,
               true,
               false,
               false,
               false,
               false,
               false,
               false,
               false,
               false,
               false,
               false,
               false,
               false,
               false,
               false,
               false,
               false,
               false,
               false,
               false,
               false,
               false,
               false,
               false,
               false,
               false,
               false,
               false,
               false,
               false,
               false,
               false,
               false,
               false,
               false,
               false,
               false,
               false,
               false,
               false,
               false,
               true
              ]
             }
            ],
            "label": "Preds Trace 12",
            "method": "update"
           },
           {
            "args": [
             {
              "visible": [
               false,
               false,
               false,
               false,
               false,
               false,
               false,
               false,
               false,
               false,
               false,
               false,
               true,
               false,
               false,
               false,
               false,
               false,
               false,
               false,
               false,
               false,
               false,
               false,
               false,
               false,
               false,
               false,
               false,
               false,
               false,
               false,
               false,
               false,
               false,
               false,
               false,
               false,
               false,
               false,
               false,
               false,
               false,
               false,
               false,
               false,
               false,
               false,
               false,
               false,
               false,
               false,
               true
              ]
             }
            ],
            "label": "Preds Trace 13",
            "method": "update"
           },
           {
            "args": [
             {
              "visible": [
               false,
               false,
               false,
               false,
               false,
               false,
               false,
               false,
               false,
               false,
               false,
               false,
               false,
               true,
               false,
               false,
               false,
               false,
               false,
               false,
               false,
               false,
               false,
               false,
               false,
               false,
               false,
               false,
               false,
               false,
               false,
               false,
               false,
               false,
               false,
               false,
               false,
               false,
               false,
               false,
               false,
               false,
               false,
               false,
               false,
               false,
               false,
               false,
               false,
               false,
               false,
               false,
               true
              ]
             }
            ],
            "label": "Preds Trace 14",
            "method": "update"
           },
           {
            "args": [
             {
              "visible": [
               false,
               false,
               false,
               false,
               false,
               false,
               false,
               false,
               false,
               false,
               false,
               false,
               false,
               false,
               true,
               false,
               false,
               false,
               false,
               false,
               false,
               false,
               false,
               false,
               false,
               false,
               false,
               false,
               false,
               false,
               false,
               false,
               false,
               false,
               false,
               false,
               false,
               false,
               false,
               false,
               false,
               false,
               false,
               false,
               false,
               false,
               false,
               false,
               false,
               false,
               false,
               false,
               true
              ]
             }
            ],
            "label": "Preds Trace 15",
            "method": "update"
           },
           {
            "args": [
             {
              "visible": [
               false,
               false,
               false,
               false,
               false,
               false,
               false,
               false,
               false,
               false,
               false,
               false,
               false,
               false,
               false,
               true,
               false,
               false,
               false,
               false,
               false,
               false,
               false,
               false,
               false,
               false,
               false,
               false,
               false,
               false,
               false,
               false,
               false,
               false,
               false,
               false,
               false,
               false,
               false,
               false,
               false,
               false,
               false,
               false,
               false,
               false,
               false,
               false,
               false,
               false,
               false,
               false,
               true
              ]
             }
            ],
            "label": "Preds Trace 16",
            "method": "update"
           },
           {
            "args": [
             {
              "visible": [
               false,
               false,
               false,
               false,
               false,
               false,
               false,
               false,
               false,
               false,
               false,
               false,
               false,
               false,
               false,
               false,
               true,
               false,
               false,
               false,
               false,
               false,
               false,
               false,
               false,
               false,
               false,
               false,
               false,
               false,
               false,
               false,
               false,
               false,
               false,
               false,
               false,
               false,
               false,
               false,
               false,
               false,
               false,
               false,
               false,
               false,
               false,
               false,
               false,
               false,
               false,
               false,
               true
              ]
             }
            ],
            "label": "Preds Trace 17",
            "method": "update"
           },
           {
            "args": [
             {
              "visible": [
               false,
               false,
               false,
               false,
               false,
               false,
               false,
               false,
               false,
               false,
               false,
               false,
               false,
               false,
               false,
               false,
               false,
               true,
               false,
               false,
               false,
               false,
               false,
               false,
               false,
               false,
               false,
               false,
               false,
               false,
               false,
               false,
               false,
               false,
               false,
               false,
               false,
               false,
               false,
               false,
               false,
               false,
               false,
               false,
               false,
               false,
               false,
               false,
               false,
               false,
               false,
               false,
               true
              ]
             }
            ],
            "label": "Preds Trace 18",
            "method": "update"
           },
           {
            "args": [
             {
              "visible": [
               false,
               false,
               false,
               false,
               false,
               false,
               false,
               false,
               false,
               false,
               false,
               false,
               false,
               false,
               false,
               false,
               false,
               false,
               true,
               false,
               false,
               false,
               false,
               false,
               false,
               false,
               false,
               false,
               false,
               false,
               false,
               false,
               false,
               false,
               false,
               false,
               false,
               false,
               false,
               false,
               false,
               false,
               false,
               false,
               false,
               false,
               false,
               false,
               false,
               false,
               false,
               false,
               true
              ]
             }
            ],
            "label": "Preds Trace 19",
            "method": "update"
           },
           {
            "args": [
             {
              "visible": [
               false,
               false,
               false,
               false,
               false,
               false,
               false,
               false,
               false,
               false,
               false,
               false,
               false,
               false,
               false,
               false,
               false,
               false,
               false,
               true,
               false,
               false,
               false,
               false,
               false,
               false,
               false,
               false,
               false,
               false,
               false,
               false,
               false,
               false,
               false,
               false,
               false,
               false,
               false,
               false,
               false,
               false,
               false,
               false,
               false,
               false,
               false,
               false,
               false,
               false,
               false,
               false,
               true
              ]
             }
            ],
            "label": "Preds Trace 20",
            "method": "update"
           },
           {
            "args": [
             {
              "visible": [
               false,
               false,
               false,
               false,
               false,
               false,
               false,
               false,
               false,
               false,
               false,
               false,
               false,
               false,
               false,
               false,
               false,
               false,
               false,
               false,
               true,
               false,
               false,
               false,
               false,
               false,
               false,
               false,
               false,
               false,
               false,
               false,
               false,
               false,
               false,
               false,
               false,
               false,
               false,
               false,
               false,
               false,
               false,
               false,
               false,
               false,
               false,
               false,
               false,
               false,
               false,
               false,
               true
              ]
             }
            ],
            "label": "Preds Trace 21",
            "method": "update"
           },
           {
            "args": [
             {
              "visible": [
               false,
               false,
               false,
               false,
               false,
               false,
               false,
               false,
               false,
               false,
               false,
               false,
               false,
               false,
               false,
               false,
               false,
               false,
               false,
               false,
               false,
               true,
               false,
               false,
               false,
               false,
               false,
               false,
               false,
               false,
               false,
               false,
               false,
               false,
               false,
               false,
               false,
               false,
               false,
               false,
               false,
               false,
               false,
               false,
               false,
               false,
               false,
               false,
               false,
               false,
               false,
               false,
               true
              ]
             }
            ],
            "label": "Preds Trace 22",
            "method": "update"
           },
           {
            "args": [
             {
              "visible": [
               false,
               false,
               false,
               false,
               false,
               false,
               false,
               false,
               false,
               false,
               false,
               false,
               false,
               false,
               false,
               false,
               false,
               false,
               false,
               false,
               false,
               false,
               true,
               false,
               false,
               false,
               false,
               false,
               false,
               false,
               false,
               false,
               false,
               false,
               false,
               false,
               false,
               false,
               false,
               false,
               false,
               false,
               false,
               false,
               false,
               false,
               false,
               false,
               false,
               false,
               false,
               false,
               true
              ]
             }
            ],
            "label": "Preds Trace 23",
            "method": "update"
           },
           {
            "args": [
             {
              "visible": [
               false,
               false,
               false,
               false,
               false,
               false,
               false,
               false,
               false,
               false,
               false,
               false,
               false,
               false,
               false,
               false,
               false,
               false,
               false,
               false,
               false,
               false,
               false,
               true,
               false,
               false,
               false,
               false,
               false,
               false,
               false,
               false,
               false,
               false,
               false,
               false,
               false,
               false,
               false,
               false,
               false,
               false,
               false,
               false,
               false,
               false,
               false,
               false,
               false,
               false,
               false,
               false,
               true
              ]
             }
            ],
            "label": "Preds Trace 24",
            "method": "update"
           },
           {
            "args": [
             {
              "visible": [
               false,
               false,
               false,
               false,
               false,
               false,
               false,
               false,
               false,
               false,
               false,
               false,
               false,
               false,
               false,
               false,
               false,
               false,
               false,
               false,
               false,
               false,
               false,
               false,
               true,
               false,
               false,
               false,
               false,
               false,
               false,
               false,
               false,
               false,
               false,
               false,
               false,
               false,
               false,
               false,
               false,
               false,
               false,
               false,
               false,
               false,
               false,
               false,
               false,
               false,
               false,
               false,
               true
              ]
             }
            ],
            "label": "Preds Trace 25",
            "method": "update"
           },
           {
            "args": [
             {
              "visible": [
               false,
               false,
               false,
               false,
               false,
               false,
               false,
               false,
               false,
               false,
               false,
               false,
               false,
               false,
               false,
               false,
               false,
               false,
               false,
               false,
               false,
               false,
               false,
               false,
               false,
               true,
               false,
               false,
               false,
               false,
               false,
               false,
               false,
               false,
               false,
               false,
               false,
               false,
               false,
               false,
               false,
               false,
               false,
               false,
               false,
               false,
               false,
               false,
               false,
               false,
               false,
               false,
               true
              ]
             }
            ],
            "label": "Preds Trace 26",
            "method": "update"
           },
           {
            "args": [
             {
              "visible": [
               false,
               false,
               false,
               false,
               false,
               false,
               false,
               false,
               false,
               false,
               false,
               false,
               false,
               false,
               false,
               false,
               false,
               false,
               false,
               false,
               false,
               false,
               false,
               false,
               false,
               false,
               true,
               false,
               false,
               false,
               false,
               false,
               false,
               false,
               false,
               false,
               false,
               false,
               false,
               false,
               false,
               false,
               false,
               false,
               false,
               false,
               false,
               false,
               false,
               false,
               false,
               false,
               true
              ]
             }
            ],
            "label": "Preds Trace 27",
            "method": "update"
           },
           {
            "args": [
             {
              "visible": [
               false,
               false,
               false,
               false,
               false,
               false,
               false,
               false,
               false,
               false,
               false,
               false,
               false,
               false,
               false,
               false,
               false,
               false,
               false,
               false,
               false,
               false,
               false,
               false,
               false,
               false,
               false,
               true,
               false,
               false,
               false,
               false,
               false,
               false,
               false,
               false,
               false,
               false,
               false,
               false,
               false,
               false,
               false,
               false,
               false,
               false,
               false,
               false,
               false,
               false,
               false,
               false,
               true
              ]
             }
            ],
            "label": "Preds Trace 28",
            "method": "update"
           },
           {
            "args": [
             {
              "visible": [
               false,
               false,
               false,
               false,
               false,
               false,
               false,
               false,
               false,
               false,
               false,
               false,
               false,
               false,
               false,
               false,
               false,
               false,
               false,
               false,
               false,
               false,
               false,
               false,
               false,
               false,
               false,
               false,
               true,
               false,
               false,
               false,
               false,
               false,
               false,
               false,
               false,
               false,
               false,
               false,
               false,
               false,
               false,
               false,
               false,
               false,
               false,
               false,
               false,
               false,
               false,
               false,
               true
              ]
             }
            ],
            "label": "Preds Trace 29",
            "method": "update"
           },
           {
            "args": [
             {
              "visible": [
               false,
               false,
               false,
               false,
               false,
               false,
               false,
               false,
               false,
               false,
               false,
               false,
               false,
               false,
               false,
               false,
               false,
               false,
               false,
               false,
               false,
               false,
               false,
               false,
               false,
               false,
               false,
               false,
               false,
               true,
               false,
               false,
               false,
               false,
               false,
               false,
               false,
               false,
               false,
               false,
               false,
               false,
               false,
               false,
               false,
               false,
               false,
               false,
               false,
               false,
               false,
               false,
               true
              ]
             }
            ],
            "label": "Preds Trace 30",
            "method": "update"
           },
           {
            "args": [
             {
              "visible": [
               false,
               false,
               false,
               false,
               false,
               false,
               false,
               false,
               false,
               false,
               false,
               false,
               false,
               false,
               false,
               false,
               false,
               false,
               false,
               false,
               false,
               false,
               false,
               false,
               false,
               false,
               false,
               false,
               false,
               false,
               true,
               false,
               false,
               false,
               false,
               false,
               false,
               false,
               false,
               false,
               false,
               false,
               false,
               false,
               false,
               false,
               false,
               false,
               false,
               false,
               false,
               false,
               true
              ]
             }
            ],
            "label": "Preds Trace 31",
            "method": "update"
           },
           {
            "args": [
             {
              "visible": [
               false,
               false,
               false,
               false,
               false,
               false,
               false,
               false,
               false,
               false,
               false,
               false,
               false,
               false,
               false,
               false,
               false,
               false,
               false,
               false,
               false,
               false,
               false,
               false,
               false,
               false,
               false,
               false,
               false,
               false,
               false,
               true,
               false,
               false,
               false,
               false,
               false,
               false,
               false,
               false,
               false,
               false,
               false,
               false,
               false,
               false,
               false,
               false,
               false,
               false,
               false,
               false,
               true
              ]
             }
            ],
            "label": "Preds Trace 32",
            "method": "update"
           },
           {
            "args": [
             {
              "visible": [
               false,
               false,
               false,
               false,
               false,
               false,
               false,
               false,
               false,
               false,
               false,
               false,
               false,
               false,
               false,
               false,
               false,
               false,
               false,
               false,
               false,
               false,
               false,
               false,
               false,
               false,
               false,
               false,
               false,
               false,
               false,
               false,
               true,
               false,
               false,
               false,
               false,
               false,
               false,
               false,
               false,
               false,
               false,
               false,
               false,
               false,
               false,
               false,
               false,
               false,
               false,
               false,
               true
              ]
             }
            ],
            "label": "Preds Trace 33",
            "method": "update"
           },
           {
            "args": [
             {
              "visible": [
               false,
               false,
               false,
               false,
               false,
               false,
               false,
               false,
               false,
               false,
               false,
               false,
               false,
               false,
               false,
               false,
               false,
               false,
               false,
               false,
               false,
               false,
               false,
               false,
               false,
               false,
               false,
               false,
               false,
               false,
               false,
               false,
               false,
               true,
               false,
               false,
               false,
               false,
               false,
               false,
               false,
               false,
               false,
               false,
               false,
               false,
               false,
               false,
               false,
               false,
               false,
               false,
               true
              ]
             }
            ],
            "label": "Preds Trace 34",
            "method": "update"
           },
           {
            "args": [
             {
              "visible": [
               false,
               false,
               false,
               false,
               false,
               false,
               false,
               false,
               false,
               false,
               false,
               false,
               false,
               false,
               false,
               false,
               false,
               false,
               false,
               false,
               false,
               false,
               false,
               false,
               false,
               false,
               false,
               false,
               false,
               false,
               false,
               false,
               false,
               false,
               true,
               false,
               false,
               false,
               false,
               false,
               false,
               false,
               false,
               false,
               false,
               false,
               false,
               false,
               false,
               false,
               false,
               false,
               true
              ]
             }
            ],
            "label": "Preds Trace 35",
            "method": "update"
           },
           {
            "args": [
             {
              "visible": [
               false,
               false,
               false,
               false,
               false,
               false,
               false,
               false,
               false,
               false,
               false,
               false,
               false,
               false,
               false,
               false,
               false,
               false,
               false,
               false,
               false,
               false,
               false,
               false,
               false,
               false,
               false,
               false,
               false,
               false,
               false,
               false,
               false,
               false,
               false,
               true,
               false,
               false,
               false,
               false,
               false,
               false,
               false,
               false,
               false,
               false,
               false,
               false,
               false,
               false,
               false,
               false,
               true
              ]
             }
            ],
            "label": "Preds Trace 36",
            "method": "update"
           },
           {
            "args": [
             {
              "visible": [
               false,
               false,
               false,
               false,
               false,
               false,
               false,
               false,
               false,
               false,
               false,
               false,
               false,
               false,
               false,
               false,
               false,
               false,
               false,
               false,
               false,
               false,
               false,
               false,
               false,
               false,
               false,
               false,
               false,
               false,
               false,
               false,
               false,
               false,
               false,
               false,
               true,
               false,
               false,
               false,
               false,
               false,
               false,
               false,
               false,
               false,
               false,
               false,
               false,
               false,
               false,
               false,
               true
              ]
             }
            ],
            "label": "Preds Trace 37",
            "method": "update"
           },
           {
            "args": [
             {
              "visible": [
               false,
               false,
               false,
               false,
               false,
               false,
               false,
               false,
               false,
               false,
               false,
               false,
               false,
               false,
               false,
               false,
               false,
               false,
               false,
               false,
               false,
               false,
               false,
               false,
               false,
               false,
               false,
               false,
               false,
               false,
               false,
               false,
               false,
               false,
               false,
               false,
               false,
               true,
               false,
               false,
               false,
               false,
               false,
               false,
               false,
               false,
               false,
               false,
               false,
               false,
               false,
               false,
               true
              ]
             }
            ],
            "label": "Preds Trace 38",
            "method": "update"
           },
           {
            "args": [
             {
              "visible": [
               false,
               false,
               false,
               false,
               false,
               false,
               false,
               false,
               false,
               false,
               false,
               false,
               false,
               false,
               false,
               false,
               false,
               false,
               false,
               false,
               false,
               false,
               false,
               false,
               false,
               false,
               false,
               false,
               false,
               false,
               false,
               false,
               false,
               false,
               false,
               false,
               false,
               false,
               true,
               false,
               false,
               false,
               false,
               false,
               false,
               false,
               false,
               false,
               false,
               false,
               false,
               false,
               true
              ]
             }
            ],
            "label": "Preds Trace 39",
            "method": "update"
           },
           {
            "args": [
             {
              "visible": [
               false,
               false,
               false,
               false,
               false,
               false,
               false,
               false,
               false,
               false,
               false,
               false,
               false,
               false,
               false,
               false,
               false,
               false,
               false,
               false,
               false,
               false,
               false,
               false,
               false,
               false,
               false,
               false,
               false,
               false,
               false,
               false,
               false,
               false,
               false,
               false,
               false,
               false,
               false,
               true,
               false,
               false,
               false,
               false,
               false,
               false,
               false,
               false,
               false,
               false,
               false,
               false,
               true
              ]
             }
            ],
            "label": "Preds Trace 40",
            "method": "update"
           },
           {
            "args": [
             {
              "visible": [
               false,
               false,
               false,
               false,
               false,
               false,
               false,
               false,
               false,
               false,
               false,
               false,
               false,
               false,
               false,
               false,
               false,
               false,
               false,
               false,
               false,
               false,
               false,
               false,
               false,
               false,
               false,
               false,
               false,
               false,
               false,
               false,
               false,
               false,
               false,
               false,
               false,
               false,
               false,
               false,
               true,
               false,
               false,
               false,
               false,
               false,
               false,
               false,
               false,
               false,
               false,
               false,
               true
              ]
             }
            ],
            "label": "Preds Trace 41",
            "method": "update"
           },
           {
            "args": [
             {
              "visible": [
               false,
               false,
               false,
               false,
               false,
               false,
               false,
               false,
               false,
               false,
               false,
               false,
               false,
               false,
               false,
               false,
               false,
               false,
               false,
               false,
               false,
               false,
               false,
               false,
               false,
               false,
               false,
               false,
               false,
               false,
               false,
               false,
               false,
               false,
               false,
               false,
               false,
               false,
               false,
               false,
               false,
               true,
               false,
               false,
               false,
               false,
               false,
               false,
               false,
               false,
               false,
               false,
               true
              ]
             }
            ],
            "label": "Preds Trace 42",
            "method": "update"
           },
           {
            "args": [
             {
              "visible": [
               false,
               false,
               false,
               false,
               false,
               false,
               false,
               false,
               false,
               false,
               false,
               false,
               false,
               false,
               false,
               false,
               false,
               false,
               false,
               false,
               false,
               false,
               false,
               false,
               false,
               false,
               false,
               false,
               false,
               false,
               false,
               false,
               false,
               false,
               false,
               false,
               false,
               false,
               false,
               false,
               false,
               false,
               true,
               false,
               false,
               false,
               false,
               false,
               false,
               false,
               false,
               false,
               true
              ]
             }
            ],
            "label": "Preds Trace 43",
            "method": "update"
           },
           {
            "args": [
             {
              "visible": [
               false,
               false,
               false,
               false,
               false,
               false,
               false,
               false,
               false,
               false,
               false,
               false,
               false,
               false,
               false,
               false,
               false,
               false,
               false,
               false,
               false,
               false,
               false,
               false,
               false,
               false,
               false,
               false,
               false,
               false,
               false,
               false,
               false,
               false,
               false,
               false,
               false,
               false,
               false,
               false,
               false,
               false,
               false,
               true,
               false,
               false,
               false,
               false,
               false,
               false,
               false,
               false,
               true
              ]
             }
            ],
            "label": "Preds Trace 44",
            "method": "update"
           },
           {
            "args": [
             {
              "visible": [
               false,
               false,
               false,
               false,
               false,
               false,
               false,
               false,
               false,
               false,
               false,
               false,
               false,
               false,
               false,
               false,
               false,
               false,
               false,
               false,
               false,
               false,
               false,
               false,
               false,
               false,
               false,
               false,
               false,
               false,
               false,
               false,
               false,
               false,
               false,
               false,
               false,
               false,
               false,
               false,
               false,
               false,
               false,
               false,
               true,
               false,
               false,
               false,
               false,
               false,
               false,
               false,
               true
              ]
             }
            ],
            "label": "Preds Trace 45",
            "method": "update"
           },
           {
            "args": [
             {
              "visible": [
               false,
               false,
               false,
               false,
               false,
               false,
               false,
               false,
               false,
               false,
               false,
               false,
               false,
               false,
               false,
               false,
               false,
               false,
               false,
               false,
               false,
               false,
               false,
               false,
               false,
               false,
               false,
               false,
               false,
               false,
               false,
               false,
               false,
               false,
               false,
               false,
               false,
               false,
               false,
               false,
               false,
               false,
               false,
               false,
               false,
               true,
               false,
               false,
               false,
               false,
               false,
               false,
               true
              ]
             }
            ],
            "label": "Preds Trace 46",
            "method": "update"
           },
           {
            "args": [
             {
              "visible": [
               false,
               false,
               false,
               false,
               false,
               false,
               false,
               false,
               false,
               false,
               false,
               false,
               false,
               false,
               false,
               false,
               false,
               false,
               false,
               false,
               false,
               false,
               false,
               false,
               false,
               false,
               false,
               false,
               false,
               false,
               false,
               false,
               false,
               false,
               false,
               false,
               false,
               false,
               false,
               false,
               false,
               false,
               false,
               false,
               false,
               false,
               true,
               false,
               false,
               false,
               false,
               false,
               true
              ]
             }
            ],
            "label": "Preds Trace 47",
            "method": "update"
           },
           {
            "args": [
             {
              "visible": [
               false,
               false,
               false,
               false,
               false,
               false,
               false,
               false,
               false,
               false,
               false,
               false,
               false,
               false,
               false,
               false,
               false,
               false,
               false,
               false,
               false,
               false,
               false,
               false,
               false,
               false,
               false,
               false,
               false,
               false,
               false,
               false,
               false,
               false,
               false,
               false,
               false,
               false,
               false,
               false,
               false,
               false,
               false,
               false,
               false,
               false,
               false,
               true,
               false,
               false,
               false,
               false,
               true
              ]
             }
            ],
            "label": "Preds Trace 48",
            "method": "update"
           },
           {
            "args": [
             {
              "visible": [
               false,
               false,
               false,
               false,
               false,
               false,
               false,
               false,
               false,
               false,
               false,
               false,
               false,
               false,
               false,
               false,
               false,
               false,
               false,
               false,
               false,
               false,
               false,
               false,
               false,
               false,
               false,
               false,
               false,
               false,
               false,
               false,
               false,
               false,
               false,
               false,
               false,
               false,
               false,
               false,
               false,
               false,
               false,
               false,
               false,
               false,
               false,
               false,
               true,
               false,
               false,
               false,
               true
              ]
             }
            ],
            "label": "Preds Trace 49",
            "method": "update"
           },
           {
            "args": [
             {
              "visible": [
               false,
               false,
               false,
               false,
               false,
               false,
               false,
               false,
               false,
               false,
               false,
               false,
               false,
               false,
               false,
               false,
               false,
               false,
               false,
               false,
               false,
               false,
               false,
               false,
               false,
               false,
               false,
               false,
               false,
               false,
               false,
               false,
               false,
               false,
               false,
               false,
               false,
               false,
               false,
               false,
               false,
               false,
               false,
               false,
               false,
               false,
               false,
               false,
               false,
               true,
               false,
               false,
               true
              ]
             }
            ],
            "label": "Preds Trace 50",
            "method": "update"
           },
           {
            "args": [
             {
              "visible": [
               false,
               false,
               false,
               false,
               false,
               false,
               false,
               false,
               false,
               false,
               false,
               false,
               false,
               false,
               false,
               false,
               false,
               false,
               false,
               false,
               false,
               false,
               false,
               false,
               false,
               false,
               false,
               false,
               false,
               false,
               false,
               false,
               false,
               false,
               false,
               false,
               false,
               false,
               false,
               false,
               false,
               false,
               false,
               false,
               false,
               false,
               false,
               false,
               false,
               false,
               true,
               false,
               true
              ]
             }
            ],
            "label": "Preds Trace 51",
            "method": "update"
           },
           {
            "args": [
             {
              "visible": [
               false,
               false,
               false,
               false,
               false,
               false,
               false,
               false,
               false,
               false,
               false,
               false,
               false,
               false,
               false,
               false,
               false,
               false,
               false,
               false,
               false,
               false,
               false,
               false,
               false,
               false,
               false,
               false,
               false,
               false,
               false,
               false,
               false,
               false,
               false,
               false,
               false,
               false,
               false,
               false,
               false,
               false,
               false,
               false,
               false,
               false,
               false,
               false,
               false,
               false,
               false,
               true,
               true
              ]
             }
            ],
            "label": "Preds Trace 52",
            "method": "update"
           }
          ]
         }
        ],
        "template": {
         "data": {
          "bar": [
           {
            "error_x": {
             "color": "#2a3f5f"
            },
            "error_y": {
             "color": "#2a3f5f"
            },
            "marker": {
             "line": {
              "color": "#E5ECF6",
              "width": 0.5
             },
             "pattern": {
              "fillmode": "overlay",
              "size": 10,
              "solidity": 0.2
             }
            },
            "type": "bar"
           }
          ],
          "barpolar": [
           {
            "marker": {
             "line": {
              "color": "#E5ECF6",
              "width": 0.5
             },
             "pattern": {
              "fillmode": "overlay",
              "size": 10,
              "solidity": 0.2
             }
            },
            "type": "barpolar"
           }
          ],
          "carpet": [
           {
            "aaxis": {
             "endlinecolor": "#2a3f5f",
             "gridcolor": "white",
             "linecolor": "white",
             "minorgridcolor": "white",
             "startlinecolor": "#2a3f5f"
            },
            "baxis": {
             "endlinecolor": "#2a3f5f",
             "gridcolor": "white",
             "linecolor": "white",
             "minorgridcolor": "white",
             "startlinecolor": "#2a3f5f"
            },
            "type": "carpet"
           }
          ],
          "choropleth": [
           {
            "colorbar": {
             "outlinewidth": 0,
             "ticks": ""
            },
            "type": "choropleth"
           }
          ],
          "contour": [
           {
            "colorbar": {
             "outlinewidth": 0,
             "ticks": ""
            },
            "colorscale": [
             [
              0,
              "#0d0887"
             ],
             [
              0.1111111111111111,
              "#46039f"
             ],
             [
              0.2222222222222222,
              "#7201a8"
             ],
             [
              0.3333333333333333,
              "#9c179e"
             ],
             [
              0.4444444444444444,
              "#bd3786"
             ],
             [
              0.5555555555555556,
              "#d8576b"
             ],
             [
              0.6666666666666666,
              "#ed7953"
             ],
             [
              0.7777777777777778,
              "#fb9f3a"
             ],
             [
              0.8888888888888888,
              "#fdca26"
             ],
             [
              1,
              "#f0f921"
             ]
            ],
            "type": "contour"
           }
          ],
          "contourcarpet": [
           {
            "colorbar": {
             "outlinewidth": 0,
             "ticks": ""
            },
            "type": "contourcarpet"
           }
          ],
          "heatmap": [
           {
            "colorbar": {
             "outlinewidth": 0,
             "ticks": ""
            },
            "colorscale": [
             [
              0,
              "#0d0887"
             ],
             [
              0.1111111111111111,
              "#46039f"
             ],
             [
              0.2222222222222222,
              "#7201a8"
             ],
             [
              0.3333333333333333,
              "#9c179e"
             ],
             [
              0.4444444444444444,
              "#bd3786"
             ],
             [
              0.5555555555555556,
              "#d8576b"
             ],
             [
              0.6666666666666666,
              "#ed7953"
             ],
             [
              0.7777777777777778,
              "#fb9f3a"
             ],
             [
              0.8888888888888888,
              "#fdca26"
             ],
             [
              1,
              "#f0f921"
             ]
            ],
            "type": "heatmap"
           }
          ],
          "histogram": [
           {
            "marker": {
             "pattern": {
              "fillmode": "overlay",
              "size": 10,
              "solidity": 0.2
             }
            },
            "type": "histogram"
           }
          ],
          "histogram2d": [
           {
            "colorbar": {
             "outlinewidth": 0,
             "ticks": ""
            },
            "colorscale": [
             [
              0,
              "#0d0887"
             ],
             [
              0.1111111111111111,
              "#46039f"
             ],
             [
              0.2222222222222222,
              "#7201a8"
             ],
             [
              0.3333333333333333,
              "#9c179e"
             ],
             [
              0.4444444444444444,
              "#bd3786"
             ],
             [
              0.5555555555555556,
              "#d8576b"
             ],
             [
              0.6666666666666666,
              "#ed7953"
             ],
             [
              0.7777777777777778,
              "#fb9f3a"
             ],
             [
              0.8888888888888888,
              "#fdca26"
             ],
             [
              1,
              "#f0f921"
             ]
            ],
            "type": "histogram2d"
           }
          ],
          "histogram2dcontour": [
           {
            "colorbar": {
             "outlinewidth": 0,
             "ticks": ""
            },
            "colorscale": [
             [
              0,
              "#0d0887"
             ],
             [
              0.1111111111111111,
              "#46039f"
             ],
             [
              0.2222222222222222,
              "#7201a8"
             ],
             [
              0.3333333333333333,
              "#9c179e"
             ],
             [
              0.4444444444444444,
              "#bd3786"
             ],
             [
              0.5555555555555556,
              "#d8576b"
             ],
             [
              0.6666666666666666,
              "#ed7953"
             ],
             [
              0.7777777777777778,
              "#fb9f3a"
             ],
             [
              0.8888888888888888,
              "#fdca26"
             ],
             [
              1,
              "#f0f921"
             ]
            ],
            "type": "histogram2dcontour"
           }
          ],
          "mesh3d": [
           {
            "colorbar": {
             "outlinewidth": 0,
             "ticks": ""
            },
            "type": "mesh3d"
           }
          ],
          "parcoords": [
           {
            "line": {
             "colorbar": {
              "outlinewidth": 0,
              "ticks": ""
             }
            },
            "type": "parcoords"
           }
          ],
          "pie": [
           {
            "automargin": true,
            "type": "pie"
           }
          ],
          "scatter": [
           {
            "fillpattern": {
             "fillmode": "overlay",
             "size": 10,
             "solidity": 0.2
            },
            "type": "scatter"
           }
          ],
          "scatter3d": [
           {
            "line": {
             "colorbar": {
              "outlinewidth": 0,
              "ticks": ""
             }
            },
            "marker": {
             "colorbar": {
              "outlinewidth": 0,
              "ticks": ""
             }
            },
            "type": "scatter3d"
           }
          ],
          "scattercarpet": [
           {
            "marker": {
             "colorbar": {
              "outlinewidth": 0,
              "ticks": ""
             }
            },
            "type": "scattercarpet"
           }
          ],
          "scattergeo": [
           {
            "marker": {
             "colorbar": {
              "outlinewidth": 0,
              "ticks": ""
             }
            },
            "type": "scattergeo"
           }
          ],
          "scattergl": [
           {
            "marker": {
             "colorbar": {
              "outlinewidth": 0,
              "ticks": ""
             }
            },
            "type": "scattergl"
           }
          ],
          "scattermap": [
           {
            "marker": {
             "colorbar": {
              "outlinewidth": 0,
              "ticks": ""
             }
            },
            "type": "scattermap"
           }
          ],
          "scattermapbox": [
           {
            "marker": {
             "colorbar": {
              "outlinewidth": 0,
              "ticks": ""
             }
            },
            "type": "scattermapbox"
           }
          ],
          "scatterpolar": [
           {
            "marker": {
             "colorbar": {
              "outlinewidth": 0,
              "ticks": ""
             }
            },
            "type": "scatterpolar"
           }
          ],
          "scatterpolargl": [
           {
            "marker": {
             "colorbar": {
              "outlinewidth": 0,
              "ticks": ""
             }
            },
            "type": "scatterpolargl"
           }
          ],
          "scatterternary": [
           {
            "marker": {
             "colorbar": {
              "outlinewidth": 0,
              "ticks": ""
             }
            },
            "type": "scatterternary"
           }
          ],
          "surface": [
           {
            "colorbar": {
             "outlinewidth": 0,
             "ticks": ""
            },
            "colorscale": [
             [
              0,
              "#0d0887"
             ],
             [
              0.1111111111111111,
              "#46039f"
             ],
             [
              0.2222222222222222,
              "#7201a8"
             ],
             [
              0.3333333333333333,
              "#9c179e"
             ],
             [
              0.4444444444444444,
              "#bd3786"
             ],
             [
              0.5555555555555556,
              "#d8576b"
             ],
             [
              0.6666666666666666,
              "#ed7953"
             ],
             [
              0.7777777777777778,
              "#fb9f3a"
             ],
             [
              0.8888888888888888,
              "#fdca26"
             ],
             [
              1,
              "#f0f921"
             ]
            ],
            "type": "surface"
           }
          ],
          "table": [
           {
            "cells": {
             "fill": {
              "color": "#EBF0F8"
             },
             "line": {
              "color": "white"
             }
            },
            "header": {
             "fill": {
              "color": "#C8D4E3"
             },
             "line": {
              "color": "white"
             }
            },
            "type": "table"
           }
          ]
         },
         "layout": {
          "annotationdefaults": {
           "arrowcolor": "#2a3f5f",
           "arrowhead": 0,
           "arrowwidth": 1
          },
          "autotypenumbers": "strict",
          "coloraxis": {
           "colorbar": {
            "outlinewidth": 0,
            "ticks": ""
           }
          },
          "colorscale": {
           "diverging": [
            [
             0,
             "#8e0152"
            ],
            [
             0.1,
             "#c51b7d"
            ],
            [
             0.2,
             "#de77ae"
            ],
            [
             0.3,
             "#f1b6da"
            ],
            [
             0.4,
             "#fde0ef"
            ],
            [
             0.5,
             "#f7f7f7"
            ],
            [
             0.6,
             "#e6f5d0"
            ],
            [
             0.7,
             "#b8e186"
            ],
            [
             0.8,
             "#7fbc41"
            ],
            [
             0.9,
             "#4d9221"
            ],
            [
             1,
             "#276419"
            ]
           ],
           "sequential": [
            [
             0,
             "#0d0887"
            ],
            [
             0.1111111111111111,
             "#46039f"
            ],
            [
             0.2222222222222222,
             "#7201a8"
            ],
            [
             0.3333333333333333,
             "#9c179e"
            ],
            [
             0.4444444444444444,
             "#bd3786"
            ],
            [
             0.5555555555555556,
             "#d8576b"
            ],
            [
             0.6666666666666666,
             "#ed7953"
            ],
            [
             0.7777777777777778,
             "#fb9f3a"
            ],
            [
             0.8888888888888888,
             "#fdca26"
            ],
            [
             1,
             "#f0f921"
            ]
           ],
           "sequentialminus": [
            [
             0,
             "#0d0887"
            ],
            [
             0.1111111111111111,
             "#46039f"
            ],
            [
             0.2222222222222222,
             "#7201a8"
            ],
            [
             0.3333333333333333,
             "#9c179e"
            ],
            [
             0.4444444444444444,
             "#bd3786"
            ],
            [
             0.5555555555555556,
             "#d8576b"
            ],
            [
             0.6666666666666666,
             "#ed7953"
            ],
            [
             0.7777777777777778,
             "#fb9f3a"
            ],
            [
             0.8888888888888888,
             "#fdca26"
            ],
            [
             1,
             "#f0f921"
            ]
           ]
          },
          "colorway": [
           "#636efa",
           "#EF553B",
           "#00cc96",
           "#ab63fa",
           "#FFA15A",
           "#19d3f3",
           "#FF6692",
           "#B6E880",
           "#FF97FF",
           "#FECB52"
          ],
          "font": {
           "color": "#2a3f5f"
          },
          "geo": {
           "bgcolor": "white",
           "lakecolor": "white",
           "landcolor": "#E5ECF6",
           "showlakes": true,
           "showland": true,
           "subunitcolor": "white"
          },
          "hoverlabel": {
           "align": "left"
          },
          "hovermode": "closest",
          "mapbox": {
           "style": "light"
          },
          "paper_bgcolor": "white",
          "plot_bgcolor": "#E5ECF6",
          "polar": {
           "angularaxis": {
            "gridcolor": "white",
            "linecolor": "white",
            "ticks": ""
           },
           "bgcolor": "#E5ECF6",
           "radialaxis": {
            "gridcolor": "white",
            "linecolor": "white",
            "ticks": ""
           }
          },
          "scene": {
           "xaxis": {
            "backgroundcolor": "#E5ECF6",
            "gridcolor": "white",
            "gridwidth": 2,
            "linecolor": "white",
            "showbackground": true,
            "ticks": "",
            "zerolinecolor": "white"
           },
           "yaxis": {
            "backgroundcolor": "#E5ECF6",
            "gridcolor": "white",
            "gridwidth": 2,
            "linecolor": "white",
            "showbackground": true,
            "ticks": "",
            "zerolinecolor": "white"
           },
           "zaxis": {
            "backgroundcolor": "#E5ECF6",
            "gridcolor": "white",
            "gridwidth": 2,
            "linecolor": "white",
            "showbackground": true,
            "ticks": "",
            "zerolinecolor": "white"
           }
          },
          "shapedefaults": {
           "line": {
            "color": "#2a3f5f"
           }
          },
          "ternary": {
           "aaxis": {
            "gridcolor": "white",
            "linecolor": "white",
            "ticks": ""
           },
           "baxis": {
            "gridcolor": "white",
            "linecolor": "white",
            "ticks": ""
           },
           "bgcolor": "#E5ECF6",
           "caxis": {
            "gridcolor": "white",
            "linecolor": "white",
            "ticks": ""
           }
          },
          "title": {
           "x": 0.05
          },
          "xaxis": {
           "automargin": true,
           "gridcolor": "white",
           "linecolor": "white",
           "ticks": "",
           "title": {
            "standoff": 15
           },
           "zerolinecolor": "white",
           "zerolinewidth": 2
          },
          "yaxis": {
           "automargin": true,
           "gridcolor": "white",
           "linecolor": "white",
           "ticks": "",
           "title": {
            "standoff": 15
           },
           "zerolinecolor": "white",
           "zerolinewidth": 2
          }
         }
        },
        "title": {
         "text": "Predictions and Actuals"
        },
        "xaxis": {
         "title": {
          "text": "Time Step"
         }
        },
        "yaxis": {
         "range": [
          0,
          989443381.53125
         ],
         "title": {
          "text": "Values"
         }
        }
       }
      }
     },
     "metadata": {},
     "output_type": "display_data"
    }
   ],
   "source": [
    "fig.update_layout(\n",
    "        title='Predictions and Actuals',\n",
    "        xaxis_title='Time Step',\n",
    "        yaxis_title='Values',\n",
    "        barmode='overlay',\n",
    "        sliders=sliders,\n",
    "        yaxis=dict(range=[0, max_pred_value])  # Set the y-axis scale based on the max of preds\n",
    "    )"
   ]
  }
 ],
 "metadata": {
  "kernelspec": {
   "display_name": "cherry",
   "language": "python",
   "name": "python3"
  },
  "language_info": {
   "codemirror_mode": {
    "name": "ipython",
    "version": 3
   },
   "file_extension": ".py",
   "mimetype": "text/x-python",
   "name": "python",
   "nbconvert_exporter": "python",
   "pygments_lexer": "ipython3",
   "version": "3.10.15"
  }
 },
 "nbformat": 4,
 "nbformat_minor": 5
}
